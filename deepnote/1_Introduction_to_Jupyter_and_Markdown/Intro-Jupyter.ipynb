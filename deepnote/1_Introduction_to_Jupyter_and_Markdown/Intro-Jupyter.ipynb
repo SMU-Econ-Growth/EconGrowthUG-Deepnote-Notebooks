{
  "cells": [
    {
      "cell_type": "markdown",
      "source": "# <center>Introduction to</center> \n<center><img src=\"https://upload.wikimedia.org/wikipedia/commons/3/38/Jupyter_logo.svg\" alt=\"Jupyter\" width=300/></center>",
      "metadata": {
        "tags": [],
        "cell_id": "e64d1e720d234a3888ab3eb0e59dcfe5",
        "slideshow": {
          "slide_type": "slide"
        },
        "user_expressions": [],
        "deepnote_cell_type": "markdown"
      },
      "block_group": "e64d1e720d234a3888ab3eb0e59dcfe5"
    },
    {
      "cell_type": "markdown",
      "source": "**[Jupyter](http://jupyter.org/)** is a \n\n* free software\n* open standards\n* web services \n\nfor **interactive computing** across all programming languages.",
      "metadata": {
        "cell_id": "8664b6475d134838ade0a4e3a477c90b",
        "slideshow": {
          "slide_type": "slide"
        },
        "user_expressions": [],
        "deepnote_cell_type": "markdown"
      },
      "block_group": "8664b6475d134838ade0a4e3a477c90b"
    },
    {
      "cell_type": "markdown",
      "source": "Very powerful tool to produce reproducible code and analyses:\n\n* Powerful interactive shells:\n\n    * Terminal - `jupyter console`\n    \n    * Qt-based - `jupyter qtconsole`\n    \n    * Notebooks - `jupyter notebook` or `jupyter lab`",
      "metadata": {
        "cell_id": "778ead52ebcb4ee88077904fbc68a426",
        "slideshow": {
          "slide_type": "subslide"
        },
        "user_expressions": [],
        "deepnote_cell_type": "markdown"
      },
      "block_group": "778ead52ebcb4ee88077904fbc68a426"
    },
    {
      "cell_type": "markdown",
      "source": "* A browser-based notebook with support for \n    * code\n    * text\n    * mathematical expressions\n    * inline plots\n    * other rich media\n    * interactive data visualization \n    * use of GUI toolkits\n* Flexible, embeddable interpreters to load into your own projects.\n* Easy to use, high performance tools for parallel computing.",
      "metadata": {
        "cell_id": "23dfc16eeba242238d003496e6f5f4ce",
        "slideshow": {
          "slide_type": "subslide"
        },
        "user_expressions": [],
        "deepnote_cell_type": "markdown"
      },
      "block_group": "23dfc16eeba242238d003496e6f5f4ce"
    },
    {
      "cell_type": "markdown",
      "source": "**Jupyter** is an open-source project that provides open-standards, and services for interactive computing across dozens of programming languages, including ``Python``, ``R``, ``Stata`` and many others used by economists.",
      "metadata": {
        "cell_id": "308d49cf64254af4a84f514f718d35b2",
        "slideshow": {
          "slide_type": "subslide"
        },
        "user_expressions": [],
        "deepnote_cell_type": "markdown"
      },
      "block_group": "308d49cf64254af4a84f514f718d35b2"
    },
    {
      "cell_type": "markdown",
      "source": "# <center>Markdown</center>",
      "metadata": {
        "cell_id": "f630af850da94c76a68de06ee7beb514",
        "slideshow": {
          "slide_type": "slide"
        },
        "deepnote_cell_type": "markdown"
      },
      "block_group": "f630af850da94c76a68de06ee7beb514"
    },
    {
      "cell_type": "code",
      "source": "# Import display options for showing websites\nfrom IPython.display import IFrame\n\nurl = 'https://commonmark.org/help/'\nIFrame(url, width=800, height=400)\n",
      "metadata": {
        "cell_id": "2a6684b47f9d40978472e241412ebb61",
        "slideshow": {
          "slide_type": "slide"
        },
        "source_hash": "9290b72e",
        "code_folding": [],
        "execution_start": 1680180910036,
        "execution_millis": 3,
        "deepnote_to_be_reexecuted": false,
        "deepnote_cell_type": "code"
      },
      "outputs": [
        {
          "output_type": "execute_result",
          "execution_count": 1,
          "data": {
            "text/plain": "<IPython.lib.display.IFrame at 0x7f35d3f4da50>",
            "text/html": "\n        <iframe\n            width=\"800\"\n            height=\"400\"\n            src=\"https://commonmark.org/help/\"\n            frameborder=\"0\"\n            allowfullscreen\n            \n        ></iframe>\n        "
          },
          "metadata": {}
        }
      ],
      "execution_count": 1,
      "block_group": "2a6684b47f9d40978472e241412ebb61"
    },
    {
      "cell_type": "markdown",
      "source": "Let's learn some basics of markdown [here](https://commonmark.org/help/tutorial/index.html)",
      "metadata": {
        "cell_id": "e8886e309f4b4901891c67d0eea72c27",
        "slideshow": {
          "slide_type": "subslide"
        },
        "deepnote_cell_type": "markdown"
      },
      "block_group": "e8886e309f4b4901891c67d0eea72c27"
    },
    {
      "cell_type": "markdown",
      "source": "# <center> Customizing Some elements </center>",
      "metadata": {
        "cell_id": "02872e6260ff4be3905de41803e0ffff",
        "slideshow": {
          "slide_type": "slide"
        },
        "deepnote_cell_type": "markdown"
      },
      "block_group": "02872e6260ff4be3905de41803e0ffff"
    },
    {
      "cell_type": "markdown",
      "source": "# <center> Headers </center>",
      "metadata": {
        "cell_id": "77969433e7f540dba22966e696cc1f35",
        "slideshow": {
          "slide_type": "subslide"
        },
        "deepnote_cell_type": "markdown"
      },
      "block_group": "77969433e7f540dba22966e696cc1f35"
    },
    {
      "cell_type": "markdown",
      "source": "```\n# Header 1\n## Header 2\n#### Header 3\n##### Header 4\n```",
      "metadata": {
        "cell_id": "780b7d16af19484182c2d5f1b06bfdc2",
        "slideshow": {
          "slide_type": "fragment"
        },
        "deepnote_cell_type": "markdown"
      },
      "block_group": "780b7d16af19484182c2d5f1b06bfdc2"
    },
    {
      "cell_type": "markdown",
      "source": "# Header 1\n## Header 2\n#### Header 3\n##### Header 4",
      "metadata": {
        "cell_id": "cdb02ad70eda403abaccbc7861cfdfcd",
        "slideshow": {
          "slide_type": "subslide"
        },
        "deepnote_cell_type": "markdown"
      },
      "block_group": "cdb02ad70eda403abaccbc7861cfdfcd"
    },
    {
      "cell_type": "markdown",
      "source": "# <center> Text Alignment </center>",
      "metadata": {
        "cell_id": "c25a2ad9a7fd4e23baf22f886b192c8a",
        "slideshow": {
          "slide_type": "subslide"
        },
        "deepnote_cell_type": "markdown"
      },
      "block_group": "c25a2ad9a7fd4e23baf22f886b192c8a"
    },
    {
      "cell_type": "markdown",
      "source": "Use `<center> Text </center>` to center your `Text`. Like so,\n\n<center> My Text </center>",
      "metadata": {
        "cell_id": "978faca5707f4b6d8f03087e776758b2",
        "slideshow": {
          "slide_type": "fragment"
        },
        "deepnote_cell_type": "markdown"
      },
      "block_group": "978faca5707f4b6d8f03087e776758b2"
    },
    {
      "cell_type": "markdown",
      "source": "# <center> Font Colors </center>",
      "metadata": {
        "cell_id": "f52533198bac4a4b8e631105ecb72784",
        "slideshow": {
          "slide_type": "subslide"
        },
        "deepnote_cell_type": "markdown"
      },
      "block_group": "f52533198bac4a4b8e631105ecb72784"
    },
    {
      "cell_type": "markdown",
      "source": "* Use `<font color='red'> Red text </font>` to write <font color='red'>Red text</font>.\n\n* Any of the [following color names can be used](https://www.w3schools.com/colors/colors_names.asp)",
      "metadata": {
        "cell_id": "743154fa9852468fb59819f5b092a1db",
        "slideshow": {
          "slide_type": "fragment"
        },
        "deepnote_cell_type": "markdown"
      },
      "block_group": "743154fa9852468fb59819f5b092a1db"
    },
    {
      "cell_type": "markdown",
      "source": "# <center> Font Size </center>",
      "metadata": {
        "cell_id": "8fbf164766624154b70861dad28b8ba9",
        "slideshow": {
          "slide_type": "subslide"
        },
        "deepnote_cell_type": "markdown"
      },
      "block_group": "8fbf164766624154b70861dad28b8ba9"
    },
    {
      "cell_type": "markdown",
      "source": "Use `<font size=\"N\"> text of size N</font>` to get text of size N pixels. E.g.,\n\n* `<font size=\"1\"> Text of size 1</font>` becomes <font size=\"1\"> Text of size 1</font>\n\n* `<font size=\"3\"> Text of size 3</font>` becomes <font size=\"3\"> Text of size 3</font>\n\n\n\n* `<font size=\"5\"> Text of size 5</font>` becomes <font size=\"5\"> Text of size 5</font>\n\n\n* `<font size=\"10\"> Text of size 10</font>` becomes <font size=\"10\"> Text of size 10</font>\n\n\n\n\n* `<font size=\"20\"> Text of size 20</font>` becomes <font size=\"20\"> Text of size 20</font>",
      "metadata": {
        "cell_id": "8f40ea21d3274d66a06d3be4e06a4b51",
        "slideshow": {
          "slide_type": "fragment"
        },
        "deepnote_cell_type": "markdown"
      },
      "block_group": "8f40ea21d3274d66a06d3be4e06a4b51"
    },
    {
      "cell_type": "markdown",
      "source": "# <center> Multiple Attributes Simultaneously </center>",
      "metadata": {
        "cell_id": "4631646959d54641889c7b0244e1e3e9",
        "slideshow": {
          "slide_type": "subslide"
        },
        "deepnote_cell_type": "markdown"
      },
      "block_group": "4631646959d54641889c7b0244e1e3e9"
    },
    {
      "cell_type": "markdown",
      "source": "Use `<span style='property1:value; property2:value; property3:value; property4:value;...'> Our nice text </span>` to produce text with different attributes.\n\n\n<center><span style='background:aqua; color:red; font-family:times; font-size:300%; '> Our nice modified text </span></center>\n\n\nYou can see some of the properties and values [here](https://www.w3schools.com/html/html_styles.asp). Markdown can be extended using HTML, so you can personalize and change even more things using HTML code.",
      "metadata": {
        "cell_id": "ddb94e6b90af467a8ede065012580e62",
        "slideshow": {
          "slide_type": "fragment"
        },
        "deepnote_cell_type": "markdown"
      },
      "block_group": "ddb94e6b90af467a8ede065012580e62"
    },
    {
      "cell_type": "markdown",
      "source": "# <center> Alert Cells </center>",
      "metadata": {
        "cell_id": "69f40d83868f45f3aef3e6149ee7f968",
        "slideshow": {
          "slide_type": "subslide"
        },
        "deepnote_cell_type": "markdown"
      },
      "block_group": "69f40d83868f45f3aef3e6149ee7f968"
    },
    {
      "cell_type": "markdown",
      "source": "```html\n<div class=\"alert alert-block alert-info\">\n<b>Tip:</b> Use blue boxes (alert-info) for tips and notes. \nIf it’s a note, you don’t have to include the word “Note”.\n</div>\n```\n\n<div class=\"alert alert-block alert-info\">\n<b>Tip:</b> Use blue boxes (alert-info) for tips and notes. \nIf it’s a note, you don’t have to include the word “Note”.\n</div>",
      "metadata": {
        "cell_id": "83c068ee58fc4d43b2bab0fe8bb61249",
        "slideshow": {
          "slide_type": "fragment"
        },
        "deepnote_cell_type": "markdown"
      },
      "block_group": "83c068ee58fc4d43b2bab0fe8bb61249"
    },
    {
      "cell_type": "markdown",
      "source": "```html\n<div class=\"alert alert-block alert-warning\">\n<b>Example:</b> Use yellow boxes for examples that are not \ninside code cells, or use for mathematical formulas if needed.\n</div>\n```\n\n<div class=\"alert alert-block alert-warning\">\n<b>Example:</b> Use yellow boxes for examples that are not \ninside code cells, or use for mathematical formulas if needed.\n</div>",
      "metadata": {
        "cell_id": "fab4148b416d4e9fa78162b78f684f55",
        "slideshow": {
          "slide_type": "subslide"
        },
        "deepnote_cell_type": "markdown"
      },
      "block_group": "fab4148b416d4e9fa78162b78f684f55"
    },
    {
      "cell_type": "markdown",
      "source": "```html\n<div class=\"alert alert-block alert-success\">\n<b>Up to you:</b> Use green boxes sparingly, and only for some specific \npurpose that the other boxes can't cover. For example, if you have a lot \nof related content to link to, maybe you decide to use green boxes for \nrelated links from each section of a notebook.\n</div>\n```\n\n<div class=\"alert alert-block alert-success\">\n<b>Up to you:</b> Use green boxes sparingly, and only for some specific \npurpose that the other boxes can't cover. For example, if you have a lot \nof related content to link to, maybe you decide to use green boxes for \nrelated links from each section of a notebook.\n</div>",
      "metadata": {
        "cell_id": "b302298f804947ce8cfa072a90a3a16a",
        "slideshow": {
          "slide_type": "subslide"
        },
        "deepnote_cell_type": "markdown"
      },
      "block_group": "b302298f804947ce8cfa072a90a3a16a"
    },
    {
      "cell_type": "markdown",
      "source": "```html\n<div class=\"alert alert-block alert-danger\">\n<b>Just don't:</b> In general, avoid the red boxes. These should only be\nused for actions that might cause data loss or another major issue.\n</div>\n```\n<div class=\"alert alert-block alert-danger\">\n<b>Just don't:</b> In general, avoid the red boxes. These should only be\nused for actions that might cause data loss or another major issue.\n</div>",
      "metadata": {
        "cell_id": "28d72ec51b0a464a8974696ace621c5d",
        "slideshow": {
          "slide_type": "subslide"
        },
        "deepnote_cell_type": "markdown"
      },
      "block_group": "28d72ec51b0a464a8974696ace621c5d"
    },
    {
      "cell_type": "markdown",
      "source": "# <center> Creating Tables in Markdown </center>",
      "metadata": {
        "cell_id": "985126203d294a67afdc8434e5b89947",
        "slideshow": {
          "slide_type": "slide"
        },
        "deepnote_cell_type": "markdown"
      },
      "block_group": "985126203d294a67afdc8434e5b89947"
    },
    {
      "cell_type": "markdown",
      "source": "We can create tables very easily\n```code\n| Item         | Price     | # In stock |\n|--------------|-----------|------------|\n| Juicy Apples | 1.99      | *7*        |\n| Bananas      | **1.89**  | 5234       |\n```",
      "metadata": {
        "cell_id": "9588d2cdec6046b0abb4d10622a9c03c",
        "slideshow": {
          "slide_type": "fragment"
        },
        "deepnote_cell_type": "markdown"
      },
      "block_group": "9588d2cdec6046b0abb4d10622a9c03c"
    },
    {
      "cell_type": "markdown",
      "source": "Becomes\n\n| Item         | Price     | # In stock |\n|--------------|-----------|------------|\n| Juicy Apples | 1.99      | *7*        |\n| Bananas      | **1.89**  | 5234       |",
      "metadata": {
        "cell_id": "6e68f3277a9649e0bb76ab2e6993a8c5",
        "slideshow": {
          "slide_type": "fragment"
        },
        "deepnote_cell_type": "markdown"
      },
      "block_group": "6e68f3277a9649e0bb76ab2e6993a8c5"
    },
    {
      "cell_type": "markdown",
      "source": "We can also choose alignment of each column by using `:` in the second line. \n\nLeft aligned: `:---`\nCentered: `:---:`\nRight aligned: `---:`\n\n```code\n| Item         | Price     | # In stock |\n|:--------------|:-----------:|------------:|\n| Juicy Apples | 1.99      | *7*        |\n| Bananas      | **1.89**  | 5234       |\n```",
      "metadata": {
        "cell_id": "89f6895d4d994ce2bb92717d2e66a84c",
        "slideshow": {
          "slide_type": "subslide"
        },
        "deepnote_cell_type": "markdown"
      },
      "block_group": "89f6895d4d994ce2bb92717d2e66a84c"
    },
    {
      "cell_type": "markdown",
      "source": "Becomes\n\n| Item         | Price     | # In stock |\n|:--------------|:-----------:|------------:|\n| Juicy Apples | 1.99      | *7*        |\n| Bananas      | **1.89**  | 5234       |",
      "metadata": {
        "cell_id": "158bf332133140c9a7948e6293a04bb7",
        "slideshow": {
          "slide_type": "fragment"
        },
        "deepnote_cell_type": "markdown"
      },
      "block_group": "158bf332133140c9a7948e6293a04bb7"
    },
    {
      "cell_type": "markdown",
      "source": "# <center> Math in Markdown </center>",
      "metadata": {
        "cell_id": "cd76812c56664eaca76a52a06f925c9a",
        "slideshow": {
          "slide_type": "slide"
        },
        "deepnote_cell_type": "markdown"
      },
      "block_group": "cd76812c56664eaca76a52a06f925c9a"
    },
    {
      "cell_type": "markdown",
      "source": "We can write math in markdown using $\\LaTeX$. There are two types of math objects:\n\n* Inline math: `$a=1$` displays $a=1$\n\n* Displayed math: `$$ a=1 $$` displays $$ a=1 $$\n",
      "metadata": {
        "cell_id": "37b657644b4d4e1caa14ad510b40cdda",
        "slideshow": {
          "slide_type": "fragment"
        },
        "deepnote_cell_type": "markdown"
      },
      "block_group": "37b657644b4d4e1caa14ad510b40cdda"
    },
    {
      "cell_type": "markdown",
      "source": "You can write very nice and complex formulas and show your steps using the many options from $\\LaTeX$.\n\n* Greek symbols: `$\\greek_symbol_name$`, e.g., \n\n    * `$\\alpha$` for $\\alpha$,\n    * `$\\beta$` for $\\beta$, \n    * `$\\Gamma$` for $\\Gamma$",
      "metadata": {
        "cell_id": "270d3aabf18e4f399c1209d530cfd6b4",
        "slideshow": {
          "slide_type": "subslide"
        },
        "deepnote_cell_type": "markdown"
      },
      "block_group": "270d3aabf18e4f399c1209d530cfd6b4"
    },
    {
      "cell_type": "markdown",
      "source": "* Mathematical symbols: \n\n    * Sum: `\\sum_{k=0}^N x_k` for $$\\sum_{k=0}^N x_k$$\n    \n    * Product: `\\prod_{k=0}^N  x_k` for $$\\prod_{k=0}^N  x_k$$\n    \n    * Fractions: `\\frac{x}{y}` for $$\\frac{x}{y}$$",
      "metadata": {
        "cell_id": "6b0df2f1e8dc48a0aebd74f56c142724",
        "slideshow": {
          "slide_type": "subslide"
        },
        "deepnote_cell_type": "markdown"
      },
      "block_group": "6b0df2f1e8dc48a0aebd74f56c142724"
    },
    {
      "cell_type": "markdown",
      "source": "* Aligned equations:\n\n    Can be created with `\\eqalign{math}` command, e.g.,\n    \n    ```$$\\eqalign{\n(a-b)^2 &= (a-b)(a-b) \\\\\n        &= a^2 - ab - ba + b^2 \\\\\n        &= a^2 - 2ab + b^2\n}$$```\n\nproduces \n\n$$\\eqalign{\n(a-b)^2 &= (a-b)(a-b) \\\\\n        &= a^2 - ab - ba + b^2 \\\\\n        &= a^2 - 2ab + b^2\n}$$",
      "metadata": {
        "cell_id": "5a0d283dcf9844b181eb3a080fc58387",
        "slideshow": {
          "slide_type": "subslide"
        },
        "deepnote_cell_type": "markdown"
      },
      "block_group": "5a0d283dcf9844b181eb3a080fc58387"
    },
    {
      "cell_type": "markdown",
      "source": "Or as in $\\LaTeX$, using the  `\\begin{align}` and \n\n`\\end{align}` commands.\n\n```\n$$\n\\begin{align}\n(a-b)^2 &= (a-b)(a-b) \\\\\n        &= a^2 - ab - ba + b^2 \\\\\n        &= a^2 - 2ab + b^2\n\\end{align}\n$$\n```\n\nproduces\n\n$$\n\\begin{align}\n(a-b)^2 &= (a-b)(a-b) \\\\\n        &= a^2 - ab - ba + b^2 \\\\\n        &= a^2 - 2ab + b^2\n\\end{align}\n$$\n",
      "metadata": {
        "cell_id": "37b68065091e4877ac34df54a347829a",
        "slideshow": {
          "slide_type": "subslide"
        },
        "deepnote_cell_type": "markdown"
      },
      "block_group": "37b68065091e4877ac34df54a347829a"
    },
    {
      "cell_type": "markdown",
      "source": "# Want to learn more <img src=\"https://www.markdownguide.org/assets/images/markdown-guide-og.jpg\" alt=\"markdownguide.com\" style=\"width:400px;\"/>",
      "metadata": {
        "cell_id": "dc0038d8e2e240fb8f88b0de71ac670a",
        "slideshow": {
          "slide_type": "slide"
        },
        "deepnote_cell_type": "markdown"
      },
      "block_group": "dc0038d8e2e240fb8f88b0de71ac670a"
    },
    {
      "cell_type": "markdown",
      "source": "Check out [markdownguide.org](https://www.markdownguide.org/).",
      "metadata": {
        "cell_id": "35c43aa485184a6385b739542007cef4",
        "slideshow": {
          "slide_type": "fragment"
        },
        "deepnote_cell_type": "markdown"
      },
      "block_group": "35c43aa485184a6385b739542007cef4"
    },
    {
      "cell_type": "markdown",
      "source": "# <center> Free Markdown Editor </center>\n\n# <center> [https://dillinger.io/](https://dillinger.io/) </center>",
      "metadata": {
        "cell_id": "e44aa6702bc245f89913103d8823f2c9",
        "slideshow": {
          "slide_type": "slide"
        },
        "deepnote_cell_type": "markdown"
      },
      "block_group": "e44aa6702bc245f89913103d8823f2c9"
    },
    {
      "cell_type": "markdown",
      "source": "# Exercises",
      "metadata": {
        "cell_id": "c9fc081a2fa544408f3495bd5ab4355b",
        "slideshow": {
          "slide_type": "slide"
        },
        "deepnote_cell_type": "markdown"
      },
      "block_group": "c9fc081a2fa544408f3495bd5ab4355b"
    },
    {
      "cell_type": "markdown",
      "source": "<div class=\"alert alert-block alert-warning\">\n<b>Exercise 1:</b> Write your CV or Resume in markdown. For this, use the <a href=\"https://dillinger.io/\" >dillinger.io editor </a> to create your first Markdown document. Once you are done, download the <b>.md</b> file into a new subdirectory called <b>CV</b> in your <b>EconGrowthUG/notebooks/</b> directory. Export it also as a <b>.pdf</b> file and save it in the same directory.\n</div>",
      "metadata": {
        "cell_id": "fff53f1433964093ae5bb8b105b75913",
        "slideshow": {
          "slide_type": "subslide"
        },
        "deepnote_cell_type": "markdown"
      },
      "block_group": "fff53f1433964093ae5bb8b105b75913"
    },
    {
      "cell_type": "markdown",
      "source": "<div class=\"alert alert-block alert-warning\">\n<b>Exercise 2:</b> Use the markdown document of your CV/Resume to create your first Jupyter Notebook, which you should create and save in the same directory as in Exercise 1. </br>\n<b> Hint:</b> Copy and paste the whole document into one markdown cell, and split the cell into parts.\n</div>",
      "metadata": {
        "cell_id": "aca49cae65b74e24bcfe761bd1514d49",
        "slideshow": {
          "slide_type": "fragment"
        },
        "deepnote_cell_type": "markdown"
      },
      "block_group": "aca49cae65b74e24bcfe761bd1514d49"
    },
    {
      "cell_type": "markdown",
      "source": "<div class=\"alert alert-block alert-warning\">\n<b>Exercise 3:</b> Convert your notebook into a slide deck using RISE. Once you have created it and tested inside Jupyter, download it as <u>Reveal.js slides</u> and save it in the same directory. Add a link to this webpage on your CV.md file. \n</div>",
      "metadata": {
        "cell_id": "38105aa5c32e43e19f5196913873ae46",
        "slideshow": {
          "slide_type": "fragment"
        },
        "deepnote_cell_type": "markdown"
      },
      "block_group": "38105aa5c32e43e19f5196913873ae46"
    },
    {
      "cell_type": "markdown",
      "source": "<div class=\"alert alert-block alert-warning\">\n<b>Exercise 4:</b> Create a new Github repository using this directory, commit, and push your changes.\n</div>",
      "metadata": {
        "cell_id": "c10386bdeb1e4f9f939aea886508fa0a",
        "slideshow": {
          "slide_type": "subslide"
        },
        "deepnote_cell_type": "markdown"
      },
      "block_group": "c10386bdeb1e4f9f939aea886508fa0a"
    },
    {
      "cell_type": "markdown",
      "source": "<div class=\"alert alert-block alert-warning\">\n    <b>Exercise 5:</b> Create a new branch in that Github repository called <b>gh-pages</b>. Rename the <b>CV.html</b> file to <b>index.html</b>. Commit, and push your changes. This will create a website for your slides, which shoudl be located at <a href=\"\"> https://your-github-user.github.io/Name-of-CV-repo/</a>.\n</div>",
      "metadata": {
        "cell_id": "b5561469370d4b06b2203b7519f4680b",
        "slideshow": {
          "slide_type": "fragment"
        },
        "deepnote_cell_type": "markdown"
      },
      "block_group": "b5561469370d4b06b2203b7519f4680b"
    },
    {
      "cell_type": "markdown",
      "source": "Notebook written by [Ömer Özak](http://omerozak.com) for his students in Economics at [Southern Methodist University](http://www.smu.edu). Feel free to use, distribute, or contribute.",
      "metadata": {
        "tags": [],
        "cell_id": "defdb075929d46649171688845fa1af4",
        "slideshow": {
          "slide_type": "slide"
        },
        "user_expressions": [],
        "deepnote_cell_type": "markdown"
      },
      "block_group": "defdb075929d46649171688845fa1af4"
    },
    {
      "cell_type": "markdown",
      "source": "[<center><img src=\"https://github.com/measuring-culture/Expanding-Measurement-Culture-Facebook-JRSI/blob/main/pics/SMUlogowWordmarkRB.jpg?raw=true\" width=\"250\"></center>](http://omerozak.com)",
      "metadata": {
        "tags": [],
        "cell_id": "94ae3fa0d3ca4a88aca44114a48c4fcf",
        "slideshow": {
          "slide_type": "-"
        },
        "user_expressions": [],
        "deepnote_cell_type": "markdown"
      },
      "block_group": "94ae3fa0d3ca4a88aca44114a48c4fcf"
    },
    {
      "cell_type": "markdown",
      "source": "<a style='text-decoration:none;line-height:16px;display:flex;color:#5B5B62;padding:10px;justify-content:end;' href='https://deepnote.com?utm_source=created-in-deepnote-cell&projectId=17ec01e5-7d81-4f3a-b658-4eeaa6ceeb26' target=\"_blank\">\n<img alt='Created in deepnote.com' style='display:inline;max-height:16px;margin:0px;margin-right:7.5px;' src='data:image/svg+xml;base64,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' > </img>\nCreated in <span style='font-weight:600;margin-left:4px;'>Deepnote</span></a>",
      "metadata": {
        "created_in_deepnote_cell": true,
        "deepnote_cell_type": "markdown"
      }
    }
  ],
  "nbformat": 4,
  "nbformat_minor": 0,
  "metadata": {
    "widgets": {
      "application/vnd.jupyter.widget-state+json": {
        "state": {},
        "version_major": 2,
        "version_minor": 0
      }
    },
    "deepnote": {},
    "kernelspec": {
      "name": "python3",
      "language": "python",
      "display_name": "Python 3 (ipykernel)"
    },
    "celltoolbar": "Slideshow",
    "nbTranslate": {
      "hotkey": "alt-t",
      "sourceLang": "en",
      "targetLang": "fr",
      "displayLangs": [
        "*"
      ],
      "langInMainMenu": true,
      "useGoogleTranslate": true
    },
    "language_info": {
      "name": "python",
      "version": "3.9.15",
      "mimetype": "text/x-python",
      "file_extension": ".py",
      "pygments_lexer": "ipython3",
      "codemirror_mode": {
        "name": "ipython",
        "version": 3
      },
      "nbconvert_exporter": "python"
    },
    "deepnote_notebook_id": "dfca203269c64622b2b630ca192f1664",
    "deepnote_persisted_session": {
      "createdAt": "2023-03-30T13:16:31.879Z"
    },
    "deepnote_execution_queue": []
  }
}