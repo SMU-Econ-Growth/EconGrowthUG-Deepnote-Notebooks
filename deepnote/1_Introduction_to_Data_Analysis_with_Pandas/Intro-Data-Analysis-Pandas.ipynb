{
  "cells": [
    {
      "cell_type": "markdown",
      "source": "# <center>Introduction to Data Analysis in </center>\n    \n<center><img src=\"https://www.python.org/static/community_logos/python-logo-inkscape.svg\" alt=\"Python\" width=300/> </center>\n\n# <center>using </center>\n\n<center><a href=\"https://pandas.pydata.org/docs/index.html\"><img src=\"https://raw.githubusercontent.com/SMU-Econ-Growth/EconGrowthUG-Notebooks/c004a90a03c3633fd05cdbce96647e229fdc21d8/pics/Pandas_logo.svg\" alt=\"Pandas\" width=300/></a></center>",
      "metadata": {
        "tags": [],
        "cell_id": "03e349b2f88f450ca7b4e7da848e3e5b",
        "slideshow": {
          "slide_type": "slide"
        },
        "user_expressions": [],
        "deepnote_cell_type": "markdown"
      },
      "block_group": "03e349b2f88f450ca7b4e7da848e3e5b"
    },
    {
      "cell_type": "markdown",
      "source": "# <center>What is <img src=\"https://raw.githubusercontent.com/SMU-Econ-Growth/EconGrowthUG-Notebooks/c004a90a03c3633fd05cdbce96647e229fdc21d8/pics/Pandas_logo.svg\" alt=\"Pandas\" width=150/>?</center>",
      "metadata": {
        "tags": [],
        "cell_id": "f429778247784a279751db2782104772",
        "slideshow": {
          "slide_type": "slide"
        },
        "user_expressions": [],
        "deepnote_cell_type": "markdown"
      },
      "block_group": "f429778247784a279751db2782104772"
    },
    {
      "cell_type": "markdown",
      "source": "**pandas** is a fast, powerful, flexible and easy to use open source data analysis and manipulation tool, built on top of the Python programming language.",
      "metadata": {
        "cell_id": "1531008860ea4763b06f170da794bb34",
        "slideshow": {
          "slide_type": "fragment"
        },
        "user_expressions": [],
        "deepnote_cell_type": "markdown"
      },
      "block_group": "1531008860ea4763b06f170da794bb34"
    },
    {
      "cell_type": "markdown",
      "source": "# <center>What is <img src=\"https://raw.githubusercontent.com/SMU-Econ-Growth/EconGrowthUG-Notebooks/c004a90a03c3633fd05cdbce96647e229fdc21d8/pics/Pandas_logo.svg\" alt=\"Pandas\" width=150/> for?</center>",
      "metadata": {
        "tags": [],
        "cell_id": "622247a6f2d64d1f899712e21e283095",
        "slideshow": {
          "slide_type": "slide"
        },
        "user_expressions": [],
        "deepnote_cell_type": "markdown"
      },
      "block_group": "622247a6f2d64d1f899712e21e283095"
    },
    {
      "cell_type": "markdown",
      "source": "* **pandas** is the right tool when working with tabular data\n    * such as data stored in spreadsheets or databases ",
      "metadata": {
        "tags": [],
        "cell_id": "1b66ac6feea3451faf24b42df87d4798",
        "slideshow": {
          "slide_type": "fragment"
        },
        "user_expressions": [],
        "deepnote_cell_type": "markdown"
      },
      "block_group": "1b66ac6feea3451faf24b42df87d4798"
    },
    {
      "cell_type": "markdown",
      "source": "* **pandas** will help you to \n    * explore\n    * clean\n    * transform\n    * merge \n    * process",
      "metadata": {
        "tags": [],
        "cell_id": "5753e749939a442f95d1222ca375eb6b",
        "slideshow": {
          "slide_type": "subslide"
        },
        "user_expressions": [],
        "deepnote_cell_type": "markdown"
      },
      "block_group": "5753e749939a442f95d1222ca375eb6b"
    },
    {
      "cell_type": "markdown",
      "source": "* In **pandas**, a data table is called a ``DataFrame``\n<center><a href=\"https://pandas.pydata.org/docs/getting_started/index.html\"><img src=\"https://raw.githubusercontent.com/SMU-Econ-Growth/EconGrowthUG-Notebooks/c004a90a03c3633fd05cdbce96647e229fdc21d8/pics/01_table_dataframe.svg\" alt=\"Pandas DataFrame\" width=500/></a></center>",
      "metadata": {
        "tags": [],
        "cell_id": "bcca8893519541439efb4b1353c97df2",
        "slideshow": {
          "slide_type": "slide"
        },
        "user_expressions": [],
        "deepnote_cell_type": "markdown"
      },
      "block_group": "bcca8893519541439efb4b1353c97df2"
    },
    {
      "cell_type": "markdown",
      "source": "* In **pandas**, a column of a data table is called a `Series`\n    * A `DataFrame` is a collection of `Series`",
      "metadata": {
        "tags": [],
        "cell_id": "91479180999441399076fccfd5d83bd5",
        "slideshow": {
          "slide_type": "subslide"
        },
        "user_expressions": [],
        "deepnote_cell_type": "markdown"
      },
      "block_group": "91479180999441399076fccfd5d83bd5"
    },
    {
      "cell_type": "markdown",
      "source": "With [pandas](http://pandas.pydata.org) you can \n1. Import many types of data, including\n    * CSV files\n    * Tab or other types of delimited files \n    * Excel (xls, xlsx) files\n    * Stata files",
      "metadata": {
        "cell_id": "dd70708706a54b91a7561929dac9e6c6",
        "slideshow": {
          "slide_type": "subslide"
        },
        "user_expressions": [],
        "deepnote_cell_type": "markdown"
      },
      "block_group": "dd70708706a54b91a7561929dac9e6c6"
    },
    {
      "cell_type": "markdown",
      "source": "2. Open files directly from a website\n3. Merge, select, join data\n4. Perform statistical analyses\n5. Create plots of your data\n\nand much more.",
      "metadata": {
        "cell_id": "448cef9744384fa689b1f2db94be2e2e",
        "slideshow": {
          "slide_type": "subslide"
        },
        "user_expressions": [],
        "deepnote_cell_type": "markdown"
      },
      "block_group": "448cef9744384fa689b1f2db94be2e2e"
    },
    {
      "cell_type": "markdown",
      "source": "* **pandas** is imported as\n```python\nimport pandas as pd\n```\nI suggest you follow this convention, which will make using other people's code and snippets easier.",
      "metadata": {
        "tags": [],
        "cell_id": "da8e9ff54172405a93387ada32c65b92",
        "slideshow": {
          "slide_type": "subslide"
        },
        "user_expressions": [],
        "deepnote_cell_type": "markdown"
      },
      "block_group": "da8e9ff54172405a93387ada32c65b92"
    },
    {
      "cell_type": "code",
      "source": "# Let's import pandas and some other basic packages we will use \nfrom __future__ import division\n%matplotlib inline\nimport os\nimport matplotlib.pyplot as plt\nimport numpy as np\nimport pandas as pd",
      "metadata": {
        "cell_id": "d376094c68b44c87b4c18a9192648bc2",
        "slideshow": {
          "slide_type": "fragment"
        },
        "source_hash": null,
        "execution_start": 1691509090413,
        "execution_millis": 926,
        "deepnote_to_be_reexecuted": false,
        "deepnote_cell_type": "code"
      },
      "outputs": [],
      "execution_count": null,
      "block_group": "d376094c68b44c87b4c18a9192648bc2"
    },
    {
      "cell_type": "markdown",
      "source": "# <center>How to create a <img src=\"https://raw.githubusercontent.com/SMU-Econ-Growth/EconGrowthUG-Notebooks/c004a90a03c3633fd05cdbce96647e229fdc21d8/pics/Pandas_logo.svg\" alt=\"Pandas\" width=150/> `DataFrame`?</center>",
      "metadata": {
        "tags": [],
        "cell_id": "b94c9217d8f9482e98cad8e2870bbd68",
        "slideshow": {
          "slide_type": "slide"
        },
        "user_expressions": [],
        "deepnote_cell_type": "markdown"
      },
      "block_group": "b94c9217d8f9482e98cad8e2870bbd68"
    },
    {
      "cell_type": "markdown",
      "source": "# Import and Export Data",
      "metadata": {
        "cell_id": "59cf6709f81749dcb1dfb74fd99c8d0f",
        "slideshow": {
          "slide_type": "subslide"
        },
        "user_expressions": [],
        "deepnote_cell_type": "markdown"
      },
      "block_group": "59cf6709f81749dcb1dfb74fd99c8d0f"
    },
    {
      "cell_type": "markdown",
      "source": "<center><a href=\"https://pandas.pydata.org/docs/getting_started/intro_tutorials/02_read_write.html#min-tut-02-read-write\"><img src=\"https://raw.githubusercontent.com/SMU-Econ-Growth/EconGrowthUG-Notebooks/c004a90a03c3633fd05cdbce96647e229fdc21d8/pics/02_io_readwrite.svg\" alt=\"Pandas\" width=700/></center>",
      "metadata": {
        "tags": [],
        "cell_id": "73006be03afe4f24b0a5be93aedd63ff",
        "slideshow": {
          "slide_type": "-"
        },
        "user_expressions": [],
        "deepnote_cell_type": "markdown"
      },
      "block_group": "73006be03afe4f24b0a5be93aedd63ff"
    },
    {
      "cell_type": "markdown",
      "source": "# Import Existing Data",
      "metadata": {
        "cell_id": "d4988449b8484db0abc310c3d0544b5c",
        "slideshow": {
          "slide_type": "subslide"
        },
        "user_expressions": [],
        "deepnote_cell_type": "markdown"
      },
      "block_group": "d4988449b8484db0abc310c3d0544b5c"
    },
    {
      "cell_type": "markdown",
      "source": "**pandas** supports the integration with many file formats or data sources\n* csv\n* excel\n* sql\n* json\n* parquet\n* Stata\n* HTML",
      "metadata": {
        "cell_id": "5b27144e66cd40518c0ac3d7ffb66531",
        "slideshow": {
          "slide_type": "fragment"
        },
        "user_expressions": [],
        "deepnote_cell_type": "markdown"
      },
      "block_group": "5b27144e66cd40518c0ac3d7ffb66531"
    },
    {
      "cell_type": "markdown",
      "source": "To import data in a specific format you use the function with the prefix `read_*`, e.g.,  \n* csv: [`pd.read_csv`](https://pandas.pydata.org/docs/reference/api/pandas.read_csv.html)\n* excel: [`pd.read_excel`](https://pandas.pydata.org/docs/reference/api/pandas.read_excel.html)\n* stata: [`pd.read_stata`](https://pandas.pydata.org/docs/reference/api/pandas.read_stata.html)\n* html: [`pd.read_html`](https://pandas.pydata.org/docs/reference/api/pandas.read_html.html)",
      "metadata": {
        "tags": [],
        "cell_id": "0390e4efbe4949679c6a555f7f6f1b2b",
        "slideshow": {
          "slide_type": "subslide"
        },
        "user_expressions": [],
        "deepnote_cell_type": "markdown"
      },
      "block_group": "0390e4efbe4949679c6a555f7f6f1b2b"
    },
    {
      "cell_type": "markdown",
      "source": "# Export Data",
      "metadata": {
        "cell_id": "33f2472be53145feaafd091fc95f749c",
        "slideshow": {
          "slide_type": "subslide"
        },
        "user_expressions": [],
        "deepnote_cell_type": "markdown"
      },
      "block_group": "33f2472be53145feaafd091fc95f749c"
    },
    {
      "cell_type": "markdown",
      "source": "To export data in a specific format you use the function with the prefix `to_*`, e.g.,  \n* csv: [`pd.to_csv`](https://pandas.pydata.org/docs/reference/api/pandas.DataFrame.to_csv.html)\n* excel: [`pd.to_excel`](https://pandas.pydata.org/docs/reference/api/pandas.DataFrame.to_excel.html)\n* stata: [`pd.to_stata`](https://pandas.pydata.org/docs/reference/api/pandas.DataFrame.to_stata.html)",
      "metadata": {
        "tags": [],
        "cell_id": "84eb51eb19344b6b9d99d9a3bf978fe6",
        "slideshow": {
          "slide_type": "fragment"
        },
        "user_expressions": [],
        "deepnote_cell_type": "markdown"
      },
      "block_group": "84eb51eb19344b6b9d99d9a3bf978fe6"
    },
    {
      "cell_type": "markdown",
      "source": "# Create a New `DataFrame`\n<center><a href=\"https://pandas.pydata.org/docs/getting_started/intro_tutorials/01_table_oriented.html#min-tut-01-tableoriented\"><img src=\"https://raw.githubusercontent.com/SMU-Econ-Growth/EconGrowthUG-Notebooks/c004a90a03c3633fd05cdbce96647e229fdc21d8/pics/01_table_dataframe.svg\" alt=\"Pandas DataFrame\" width=500/></a></center>",
      "metadata": {
        "tags": [],
        "cell_id": "0431fb3d89e44ccb848d2d32d67a885a",
        "slideshow": {
          "slide_type": "subslide"
        },
        "user_expressions": [],
        "deepnote_cell_type": "markdown"
      },
      "block_group": "0431fb3d89e44ccb848d2d32d67a885a"
    },
    {
      "cell_type": "markdown",
      "source": "* To create a new [`Series`](https://pandas.pydata.org/docs/reference/api/pandas.Series.html)\n```python\nmy_new_series = pd.Series(a_list_with_data, \n                          name='Name of Column in data table')\n```",
      "metadata": {
        "tags": [],
        "cell_id": "77698e48c0a74556aadc5bc9af273009",
        "slideshow": {
          "slide_type": "subslide"
        },
        "user_expressions": [],
        "deepnote_cell_type": "markdown"
      },
      "block_group": "77698e48c0a74556aadc5bc9af273009"
    },
    {
      "cell_type": "markdown",
      "source": "* To create a new [`DataFrame`](https://pandas.pydata.org/docs/reference/api/pandas.DataFrame.html)\n```python\ndf = pd.DataFrame(a_list_of_series_or_raw_data,\n                  columns=list_with_column_names,\n                  index=list_of_indices_if_you_need)\n```",
      "metadata": {
        "tags": [],
        "cell_id": "ebc039d77c7848d780854fde67511e11",
        "slideshow": {
          "slide_type": "subslide"
        },
        "user_expressions": [],
        "deepnote_cell_type": "markdown"
      },
      "block_group": "ebc039d77c7848d780854fde67511e11"
    },
    {
      "cell_type": "markdown",
      "source": "# Select subset of data",
      "metadata": {
        "cell_id": "a40bb68ca7eb4a83a3409a518450b46d",
        "slideshow": {
          "slide_type": "slide"
        },
        "user_expressions": [],
        "deepnote_cell_type": "markdown"
      },
      "block_group": "a40bb68ca7eb4a83a3409a518450b46d"
    },
    {
      "cell_type": "markdown",
      "source": "<center><a href=\"https://pandas.pydata.org/docs/getting_started/intro_tutorials/03_subset_data.html#min-tut-03-subset\"><img src=\"https://raw.githubusercontent.com/SMU-Econ-Growth/EconGrowthUG-Notebooks/c004a90a03c3633fd05cdbce96647e229fdc21d8/pics/03_subset_columns_rows.svg\" alt=\"Subset data\" width=700/></a></center>",
      "metadata": {
        "tags": [],
        "cell_id": "a017c1f9d3554043b1f1a013cab063e9",
        "slideshow": {
          "slide_type": "-"
        },
        "user_expressions": [],
        "deepnote_cell_type": "markdown"
      },
      "block_group": "a017c1f9d3554043b1f1a013cab063e9"
    },
    {
      "cell_type": "markdown",
      "source": "# Select subset of columns",
      "metadata": {
        "tags": [],
        "cell_id": "af5e60923f874cbdbf5b394681c340bc",
        "slideshow": {
          "slide_type": "subslide"
        },
        "user_expressions": [],
        "deepnote_cell_type": "markdown"
      },
      "block_group": "af5e60923f874cbdbf5b394681c340bc"
    },
    {
      "cell_type": "markdown",
      "source": "<center><a href=\"https://pandas.pydata.org/docs/getting_started/intro_tutorials/03_subset_data.html#min-tut-03-subset\"><img src=\"https://raw.githubusercontent.com/SMU-Econ-Growth/EconGrowthUG-Notebooks/c004a90a03c3633fd05cdbce96647e229fdc21d8/pics/03_subset_columns.svg\" alt=\"Subset data\" width=700/></a></center>",
      "metadata": {
        "tags": [],
        "cell_id": "d6be4ad3ec70470b93baaa6e56c3aa76",
        "slideshow": {
          "slide_type": "-"
        },
        "user_expressions": [],
        "deepnote_cell_type": "markdown"
      },
      "block_group": "d6be4ad3ec70470b93baaa6e56c3aa76"
    },
    {
      "cell_type": "markdown",
      "source": "* To select 1 column and get a `Series`\n```python \ndf['name of column']\n```\nor \n```python \ndf.name_of_column\n```",
      "metadata": {
        "tags": [],
        "cell_id": "8518e35ce5cf4754a9c0ef1fefc6f6cc",
        "slideshow": {
          "slide_type": "subslide"
        },
        "user_expressions": [],
        "deepnote_cell_type": "markdown"
      },
      "block_group": "8518e35ce5cf4754a9c0ef1fefc6f6cc"
    },
    {
      "cell_type": "markdown",
      "source": "<div class=\"alert alert-block alert-danger\">\n<b>Careful:</b> The second method only works if there are no spaces in the name of the variable/row.\n</div>",
      "metadata": {
        "tags": [],
        "cell_id": "08e8292f18c84e66bff6aee4a124e10b",
        "slideshow": {
          "slide_type": "fragment"
        },
        "user_expressions": [],
        "deepnote_cell_type": "markdown"
      },
      "block_group": "08e8292f18c84e66bff6aee4a124e10b"
    },
    {
      "cell_type": "markdown",
      "source": "* To select a subset of columns and get a `DataFrame`\n```python \ndf[list_of_columns]\n```\n* In particular, to get a `DataFrame` from a single column\n```python \ndf[['name of column']]\n```",
      "metadata": {
        "tags": [],
        "cell_id": "ce79fdee65674072ad0190fb9733c4d9",
        "slideshow": {
          "slide_type": "subslide"
        },
        "user_expressions": [],
        "deepnote_cell_type": "markdown"
      },
      "block_group": "ce79fdee65674072ad0190fb9733c4d9"
    },
    {
      "cell_type": "markdown",
      "source": "<div class=\"alert alert-block alert-info\">\n    <b>Note:</b> Notice the small difference when selecting <b>a unique column</b>\n</div>",
      "metadata": {
        "tags": [],
        "cell_id": "47d64ae386da486da80c909486f8b010",
        "slideshow": {
          "slide_type": "fragment"
        },
        "user_expressions": [],
        "deepnote_cell_type": "markdown"
      },
      "block_group": "47d64ae386da486da80c909486f8b010"
    },
    {
      "cell_type": "markdown",
      "source": "# Select subset of rows",
      "metadata": {
        "tags": [],
        "cell_id": "51d3ba8339fa43b39c5293426fc91f33",
        "slideshow": {
          "slide_type": "subslide"
        },
        "user_expressions": [],
        "deepnote_cell_type": "markdown"
      },
      "block_group": "51d3ba8339fa43b39c5293426fc91f33"
    },
    {
      "cell_type": "markdown",
      "source": "<center><a href=\"https://pandas.pydata.org/docs/getting_started/intro_tutorials/03_subset_data.html#min-tut-03-subset\"><img src=\"https://raw.githubusercontent.com/SMU-Econ-Growth/EconGrowthUG-Notebooks/c004a90a03c3633fd05cdbce96647e229fdc21d8/pics/03_subset_rows.svg\" alt=\"Subset data\" width=700/></a></center>",
      "metadata": {
        "tags": [],
        "cell_id": "031e92fec9774b038d1e0f3677f31feb",
        "slideshow": {
          "slide_type": "-"
        },
        "user_expressions": [],
        "deepnote_cell_type": "markdown"
      },
      "block_group": "031e92fec9774b038d1e0f3677f31feb"
    },
    {
      "cell_type": "markdown",
      "source": "* To select specific rows, you need to pass the index of the rows you want and use `df.iloc`.\n    \n    E.g., if you want the observations in index [0,2,5,9], then\n    ```python\n    df.iloc[[0,2,5,9]]\n    ```",
      "metadata": {
        "tags": [],
        "cell_id": "1b58ffede8324af1afa5f5cd963e9840",
        "slideshow": {
          "slide_type": "subslide"
        },
        "user_expressions": [],
        "deepnote_cell_type": "markdown"
      },
      "block_group": "1b58ffede8324af1afa5f5cd963e9840"
    },
    {
      "cell_type": "markdown",
      "source": "* To select rows that satisfy a condition, e.g., variable_1>0, use `df.loc`\n\n    ```python\n    df.loc[df['variable_1']>0]\n    ```    ",
      "metadata": {
        "tags": [],
        "cell_id": "094480e8b7e84cec99867a85655fcb06",
        "slideshow": {
          "slide_type": "subslide"
        },
        "user_expressions": [],
        "deepnote_cell_type": "markdown"
      },
      "block_group": "094480e8b7e84cec99867a85655fcb06"
    },
    {
      "cell_type": "markdown",
      "source": "* or more generally\n    \n    ```python\n    df.loc[condition to be satisfied by data in df]\n    ```",
      "metadata": {
        "tags": [],
        "cell_id": "d56b68bbef5c439aa69ecdbf98b1fb8c",
        "slideshow": {
          "slide_type": "fragment"
        },
        "user_expressions": [],
        "deepnote_cell_type": "markdown"
      },
      "block_group": "d56b68bbef5c439aa69ecdbf98b1fb8c"
    },
    {
      "cell_type": "markdown",
      "source": "# Select subset of rows and columns",
      "metadata": {
        "tags": [],
        "cell_id": "70e9971d92d84a8696d133e31400fcff",
        "slideshow": {
          "slide_type": "subslide"
        },
        "user_expressions": [],
        "deepnote_cell_type": "markdown"
      },
      "block_group": "70e9971d92d84a8696d133e31400fcff"
    },
    {
      "cell_type": "markdown",
      "source": "<center><a href=\"https://pandas.pydata.org/docs/getting_started/intro_tutorials/03_subset_data.html#min-tut-03-subset\"><img src=\"https://raw.githubusercontent.com/SMU-Econ-Growth/EconGrowthUG-Notebooks/c004a90a03c3633fd05cdbce96647e229fdc21d8/pics/03_subset_columns_rows.svg\" alt=\"Subset data\" width=700/></a></center>",
      "metadata": {
        "tags": [],
        "cell_id": "4f16729a502041698f62cddfc9961f5c",
        "slideshow": {
          "slide_type": "-"
        },
        "user_expressions": [],
        "deepnote_cell_type": "markdown"
      },
      "block_group": "4f16729a502041698f62cddfc9961f5c"
    },
    {
      "cell_type": "markdown",
      "source": "* To select jointly a subset of rows that satisfy a condition and some of the variables\n```python\ndf.loc[condition to be satisfied by data in df, list_of_columns]\n```\ne.g., select rows that satisfy `variable_1>0` and only the subset of columns `['variable_1', 'variable_2']`\n```python\ndf.loc[df['variable_1']>0, ['variable_1', 'variable_2']]\n```",
      "metadata": {
        "tags": [],
        "cell_id": "f05a4a6f89af4b8993bc1c04b5215756",
        "slideshow": {
          "slide_type": "subslide"
        },
        "user_expressions": [],
        "deepnote_cell_type": "markdown"
      },
      "block_group": "f05a4a6f89af4b8993bc1c04b5215756"
    },
    {
      "cell_type": "markdown",
      "source": "# Plot Data",
      "metadata": {
        "tags": [],
        "cell_id": "73fcfccae4a945d88bc60970f4ab08ce",
        "slideshow": {
          "slide_type": "slide"
        },
        "user_expressions": [],
        "deepnote_cell_type": "markdown"
      },
      "block_group": "73fcfccae4a945d88bc60970f4ab08ce"
    },
    {
      "cell_type": "markdown",
      "source": "<center><a href=\"https://pandas.pydata.org/docs/getting_started/intro_tutorials/04_plotting.html#min-tut-04-plotting\"><img src=\"https://raw.githubusercontent.com/SMU-Econ-Growth/EconGrowthUG-Notebooks/c004a90a03c3633fd05cdbce96647e229fdc21d8/pics/04_plot_overview.svg\" alt=\"Plotting\" width=700/></a></center>",
      "metadata": {
        "tags": [],
        "cell_id": "9869c0d7df344443a75451d19bb7e3f4",
        "slideshow": {
          "slide_type": "-"
        },
        "user_expressions": [],
        "deepnote_cell_type": "markdown"
      },
      "block_group": "9869c0d7df344443a75451d19bb7e3f4"
    },
    {
      "cell_type": "markdown",
      "source": "**pandas** can easily create various types of plots based on the data\n* Plot all variables, where $x$ is the index\n```python\ndf.plot()\n```",
      "metadata": {
        "tags": [],
        "cell_id": "542af5a91b3c44cea2798b568cbabddf",
        "slideshow": {
          "slide_type": "subslide"
        },
        "user_expressions": [],
        "deepnote_cell_type": "markdown"
      },
      "block_group": "542af5a91b3c44cea2798b568cbabddf"
    },
    {
      "cell_type": "markdown",
      "source": "* Plot only one specific variable (against the index)\n```python\ndf['variable'].plot()\n```\nor\n```python\ndf.variable_name.plot()\n```",
      "metadata": {
        "cell_id": "b6d8f65d4b724d189c06eb972ba90f4f",
        "slideshow": {
          "slide_type": "subslide"
        },
        "user_expressions": [],
        "deepnote_cell_type": "markdown"
      },
      "block_group": "b6d8f65d4b724d189c06eb972ba90f4f"
    },
    {
      "cell_type": "markdown",
      "source": "* Plot `variable X` against `variable Y`\n```python\ndf.plot.scatter(x='Variable X', y='Variable Y')\n```",
      "metadata": {
        "tags": [],
        "cell_id": "54587c2f886d4189b17fcb5c6f75e60c",
        "slideshow": {
          "slide_type": "subslide"
        },
        "user_expressions": [],
        "deepnote_cell_type": "markdown"
      },
      "block_group": "54587c2f886d4189b17fcb5c6f75e60c"
    },
    {
      "cell_type": "markdown",
      "source": "* Other plot types:\n    * Box plot: `df.plot.box()`\n    * Area plot: df.plot.area()\n    * (Vertical) Bar plot: df.plot.bar()\n    * (Horizontal) Bar plot: df.plot.barh()\n    * Density plot: df.plot.density()\n    * Historam: df.plot.hist()\n    * KDE plot: df.plot.kde()\n    * Pie Chart: df.plot.pie()",
      "metadata": {
        "tags": [],
        "cell_id": "cd140cd9758e4dd5858a3e00263911d3",
        "slideshow": {
          "slide_type": "subslide"
        },
        "user_expressions": [],
        "deepnote_cell_type": "markdown"
      },
      "block_group": "cd140cd9758e4dd5858a3e00263911d3"
    },
    {
      "cell_type": "markdown",
      "source": "## **pandas** uses `matplotlib`, so we can pass options or use axes and figures as we learned before",
      "metadata": {
        "cell_id": "4ba870521ebe4c2193decedc72054329",
        "slideshow": {
          "slide_type": "subslide"
        },
        "user_expressions": [],
        "deepnote_cell_type": "markdown"
      },
      "block_group": "4ba870521ebe4c2193decedc72054329"
    },
    {
      "cell_type": "markdown",
      "source": "## We can also pass **pandas** dataframes to **seaborn**, **statsmodels**, and many other packages",
      "metadata": {
        "tags": [],
        "cell_id": "158ac82d6c704238805f0d6a38ff3005",
        "slideshow": {
          "slide_type": "slide"
        },
        "user_expressions": [],
        "deepnote_cell_type": "markdown"
      },
      "block_group": "158ac82d6c704238805f0d6a38ff3005"
    },
    {
      "cell_type": "markdown",
      "source": "# Create New Columns/Variables",
      "metadata": {
        "tags": [],
        "cell_id": "8b1b0fcf8a674127a4960d849c9cb6d8",
        "slideshow": {
          "slide_type": "slide"
        },
        "user_expressions": [],
        "deepnote_cell_type": "markdown"
      },
      "block_group": "8b1b0fcf8a674127a4960d849c9cb6d8"
    },
    {
      "cell_type": "markdown",
      "source": "<center><a href=\"https://pandas.pydata.org/docs/getting_started/intro_tutorials/05_add_columns.html#min-tut-05-columns\"><img src=\"https://raw.githubusercontent.com/SMU-Econ-Growth/EconGrowthUG-Notebooks/c004a90a03c3633fd05cdbce96647e229fdc21d8/pics/05_newcolumn_2.svg\" alt=\"New Columns\" width=700/></a></center>",
      "metadata": {
        "tags": [],
        "cell_id": "1f343e929f754ad0a5da6fc2af40ac52",
        "slideshow": {
          "slide_type": "-"
        },
        "user_expressions": [],
        "deepnote_cell_type": "markdown"
      },
      "block_group": "1f343e929f754ad0a5da6fc2af40ac52"
    },
    {
      "cell_type": "markdown",
      "source": "# From Other Columns/Variables",
      "metadata": {
        "tags": [],
        "cell_id": "70b95f30fb5d44269920c0b239522d45",
        "slideshow": {
          "slide_type": "subslide"
        },
        "user_expressions": [],
        "deepnote_cell_type": "markdown"
      },
      "block_group": "70b95f30fb5d44269920c0b239522d45"
    },
    {
      "cell_type": "markdown",
      "source": "* To create a new column in a dataframe from other columns in the dataframe just perform any operations on the existing variables",
      "metadata": {
        "tags": [],
        "cell_id": "e24186c2a0314ebda5491e440a470a73",
        "slideshow": {
          "slide_type": "fragment"
        },
        "user_expressions": [],
        "deepnote_cell_type": "markdown"
      },
      "block_group": "e24186c2a0314ebda5491e440a470a73"
    },
    {
      "cell_type": "markdown",
      "source": "* All operations are performed across all rows",
      "metadata": {
        "tags": [],
        "cell_id": "c7e89e4194a84fe59b15328c5501cee0",
        "slideshow": {
          "slide_type": "fragment"
        },
        "user_expressions": [],
        "deepnote_cell_type": "markdown"
      },
      "block_group": "c7e89e4194a84fe59b15328c5501cee0"
    },
    {
      "cell_type": "markdown",
      "source": "* E.g., to create the new variable $Y$ defined as $Y=2\\cdot X^2-\\ln(Z)$, where $X$ and $Z$ are existing variables\n```python\ndf['Y'] = 2 * df['X']**2 - df['Z'].apply(np.log)\n```",
      "metadata": {
        "tags": [],
        "cell_id": "44ea3784e54e4a9e833de48ba2c5b9c7",
        "slideshow": {
          "slide_type": "fragment"
        },
        "user_expressions": [],
        "deepnote_cell_type": "markdown"
      },
      "block_group": "44ea3784e54e4a9e833de48ba2c5b9c7"
    },
    {
      "cell_type": "markdown",
      "source": "# From a `list` or `numpy.array`",
      "metadata": {
        "tags": [],
        "cell_id": "103191307d7a4af19e42e00d2b88634c",
        "slideshow": {
          "slide_type": "subslide"
        },
        "user_expressions": [],
        "deepnote_cell_type": "markdown"
      },
      "block_group": "103191307d7a4af19e42e00d2b88634c"
    },
    {
      "cell_type": "markdown",
      "source": "* To create a new column in the dataframe from a list or array, just define the new column to be equal to the list or array\n```python\ndf['new variable'] = list_or_array\n```",
      "metadata": {
        "cell_id": "116dd06983364ab280a2bacd6d8d7b6a",
        "slideshow": {
          "slide_type": "fragment"
        },
        "user_expressions": [],
        "deepnote_cell_type": "markdown"
      },
      "block_group": "116dd06983364ab280a2bacd6d8d7b6a"
    },
    {
      "cell_type": "markdown",
      "source": "<div class=\"alert alert-block alert-danger\">\n<b>Careful:</b> The list or array must have the same dimension as the dataframe. Check it using <code>df.shape</code> and <code>array.shape</code> or <code>len(list)</code>\n</div>",
      "metadata": {
        "tags": [],
        "cell_id": "788debd668c44cc9a992b7eb5aec99b8",
        "slideshow": {
          "slide_type": "fragment"
        },
        "user_expressions": [],
        "deepnote_cell_type": "markdown"
      },
      "block_group": "788debd668c44cc9a992b7eb5aec99b8"
    },
    {
      "cell_type": "markdown",
      "source": "# Applying Functions to Dataframe",
      "metadata": {
        "cell_id": "f272678a0e3a4e7cb909464cc12d5665",
        "slideshow": {
          "slide_type": "subslide"
        },
        "user_expressions": [],
        "deepnote_cell_type": "markdown"
      },
      "block_group": "f272678a0e3a4e7cb909464cc12d5665"
    },
    {
      "cell_type": "markdown",
      "source": "<center><a href=\"https://pandas.pydata.org/docs/getting_started/intro_tutorials/05_add_columns.html#min-tut-05-columns\"><img src=\"https://raw.githubusercontent.com/SMU-Econ-Growth/EconGrowthUG-Notebooks/c004a90a03c3633fd05cdbce96647e229fdc21d8/pics/05_newcolumn_2.svg\" alt=\"New Columns\" width=700/></a></center>",
      "metadata": {
        "tags": [],
        "cell_id": "dc205e0a8a4840c89b9bfab24e7398be",
        "slideshow": {
          "slide_type": "-"
        },
        "user_expressions": [],
        "deepnote_cell_type": "markdown"
      },
      "block_group": "dc205e0a8a4840c89b9bfab24e7398be"
    },
    {
      "cell_type": "markdown",
      "source": "* **pandas** also let's you apply a function to a column or to the whole dataset using the `apply` function.",
      "metadata": {
        "tags": [],
        "cell_id": "0414c6ad7e444520bc32d69b8db60cb9",
        "slideshow": {
          "slide_type": "subslide"
        },
        "user_expressions": [],
        "deepnote_cell_type": "markdown"
      },
      "block_group": "0414c6ad7e444520bc32d69b8db60cb9"
    },
    {
      "cell_type": "markdown",
      "source": "* To apply a function to the whole dataset:\n```python\ndf.apply(my_function, axis=1)\n```\nThis is useful when the function uses data from various columns",
      "metadata": {
        "tags": [],
        "cell_id": "8b5a148266d74bb9adeddee53a1cc234",
        "slideshow": {
          "slide_type": "fragment"
        },
        "user_expressions": [],
        "deepnote_cell_type": "markdown"
      },
      "block_group": "8b5a148266d74bb9adeddee53a1cc234"
    },
    {
      "cell_type": "markdown",
      "source": "* To apply a function to only a column:\n```python\ndf['My Column'].apply(my_function, axis=1)\n```\nor\n```python\ndf.my_column.apply(my_function, axis=1)\n```",
      "metadata": {
        "tags": [],
        "cell_id": "f117ec8d8aad45539e52cd7134f8981b",
        "slideshow": {
          "slide_type": "subslide"
        },
        "user_expressions": [],
        "deepnote_cell_type": "markdown"
      },
      "block_group": "f117ec8d8aad45539e52cd7134f8981b"
    },
    {
      "cell_type": "markdown",
      "source": "# Create Statistics for Columns in Dataframe",
      "metadata": {
        "cell_id": "f4dfb0a9744a4e2b80689591f08806da",
        "slideshow": {
          "slide_type": "slide"
        },
        "user_expressions": [],
        "deepnote_cell_type": "markdown"
      },
      "block_group": "f4dfb0a9744a4e2b80689591f08806da"
    },
    {
      "cell_type": "markdown",
      "source": "<center><a href=\"https://pandas.pydata.org/docs/getting_started/intro_tutorials/06_calculate_statistics.html#min-tut-06-stats\"><img src=\"https://raw.githubusercontent.com/SMU-Econ-Growth/EconGrowthUG-Notebooks/c004a90a03c3633fd05cdbce96647e229fdc21d8/pics/06_reduction.svg\" alt=\"groupby\" width=700/></a></center>",
      "metadata": {
        "tags": [],
        "cell_id": "7a8ab1ce11734919940a9ed3edc7db7e",
        "slideshow": {
          "slide_type": "-"
        },
        "user_expressions": [],
        "deepnote_cell_type": "markdown"
      },
      "block_group": "7a8ab1ce11734919940a9ed3edc7db7e"
    },
    {
      "cell_type": "markdown",
      "source": "The **pandas** `DataFrame` has various properties that compute statistics based on columns in the dataframe\n* mean\n* min\n* max\n* std\n* median\n* quantile",
      "metadata": {
        "tags": [],
        "cell_id": "c1a768e0fcbf4101b2062a2d4a0d4431",
        "slideshow": {
          "slide_type": "subslide"
        },
        "user_expressions": [],
        "deepnote_cell_type": "markdown"
      },
      "block_group": "c1a768e0fcbf4101b2062a2d4a0d4431"
    },
    {
      "cell_type": "markdown",
      "source": "These statistics can be computed across rows or columns",
      "metadata": {
        "tags": [],
        "cell_id": "25f75705c3dc4f4bb280e9efc0a549d8",
        "slideshow": {
          "slide_type": "subslide"
        },
        "user_expressions": [],
        "deepnote_cell_type": "markdown"
      },
      "block_group": "25f75705c3dc4f4bb280e9efc0a549d8"
    },
    {
      "cell_type": "markdown",
      "source": "* Statistic across rows (for all columns): `df.statistic()` or `df.statistic(axis=0)`",
      "metadata": {
        "tags": [],
        "cell_id": "19b0ad24f91344f7ad6cd6825bf9748c",
        "slideshow": {
          "slide_type": "fragment"
        },
        "user_expressions": [],
        "deepnote_cell_type": "markdown"
      },
      "block_group": "19b0ad24f91344f7ad6cd6825bf9748c"
    },
    {
      "cell_type": "markdown",
      "source": "* Statistics across columns: `df.statistic(axis=1)`",
      "metadata": {
        "tags": [],
        "cell_id": "07f1cc1460b64d9191a0f96c8321be7b",
        "slideshow": {
          "slide_type": "fragment"
        },
        "user_expressions": [],
        "deepnote_cell_type": "markdown"
      },
      "block_group": "07f1cc1460b64d9191a0f96c8321be7b"
    },
    {
      "cell_type": "markdown",
      "source": "The special method `describe` generates various summary statistics\n```python\ndf.describe()\n```",
      "metadata": {
        "tags": [],
        "cell_id": "6af955a1ba9e473eb2687cd9a0ca8b91",
        "slideshow": {
          "slide_type": "subslide"
        },
        "user_expressions": [],
        "deepnote_cell_type": "markdown"
      },
      "block_group": "6af955a1ba9e473eb2687cd9a0ca8b91"
    },
    {
      "cell_type": "markdown",
      "source": "<div class=\"alert alert-block alert-info\">\n    <b>Note:</b> You can apply these statistics to a single column or a subset of columns.\n</div>",
      "metadata": {
        "tags": [],
        "cell_id": "5f9de42485ff4795adf84bd3b0ff692a",
        "slideshow": {
          "slide_type": "fragment"
        },
        "user_expressions": [],
        "deepnote_cell_type": "markdown"
      },
      "block_group": "5f9de42485ff4795adf84bd3b0ff692a"
    },
    {
      "cell_type": "markdown",
      "source": "# Apply Functions or Create Aggregate Statistics by Groups of Rows",
      "metadata": {
        "tags": [],
        "cell_id": "eaf713f2297e40199ced5fc66672df97",
        "slideshow": {
          "slide_type": "subslide"
        },
        "user_expressions": [],
        "deepnote_cell_type": "markdown"
      },
      "block_group": "eaf713f2297e40199ced5fc66672df97"
    },
    {
      "cell_type": "markdown",
      "source": "<center><a href=\"https://pandas.pydata.org/docs/getting_started/intro_tutorials/06_calculate_statistics.html#min-tut-06-stats\"><img src=\"https://raw.githubusercontent.com/SMU-Econ-Growth/EconGrowthUG-Notebooks/c004a90a03c3633fd05cdbce96647e229fdc21d8/pics/06_groupby.svg\" alt=\"groupby\" width=700/></a></center>",
      "metadata": {
        "tags": [],
        "cell_id": "94b7c6d2cc6945058e6ebec056e385ee",
        "slideshow": {
          "slide_type": "-"
        },
        "user_expressions": [],
        "deepnote_cell_type": "markdown"
      },
      "block_group": "94b7c6d2cc6945058e6ebec056e385ee"
    },
    {
      "cell_type": "markdown",
      "source": "* To generate statistics or apply functions my groups in the data we use the `groupby` method",
      "metadata": {
        "tags": [],
        "cell_id": "f364ac4d32f5409889ca4db07f1c6f2a",
        "slideshow": {
          "slide_type": "subslide"
        },
        "user_expressions": [],
        "deepnote_cell_type": "markdown"
      },
      "block_group": "f364ac4d32f5409889ca4db07f1c6f2a"
    },
    {
      "cell_type": "markdown",
      "source": "* To generate a dataframe that contains the statistics for each group defined by columns named `Variable1` and `Variable2`\n    \n```python\ndf.groupby(['Variable1', 'Variable2']).statistic()\n```",
      "metadata": {
        "tags": [],
        "cell_id": "c571e7cb134646398870358dd0ad80db",
        "slideshow": {
          "slide_type": "fragment"
        },
        "user_expressions": [],
        "deepnote_cell_type": "markdown"
      },
      "block_group": "c571e7cb134646398870358dd0ad80db"
    },
    {
      "cell_type": "markdown",
      "source": "* To apply a function to all rows in each group and generate a dataframe with the group level result\n```python\ndf.groupby(['Variable1', 'Variable2']).apply(my_function)\n```",
      "metadata": {
        "tags": [],
        "cell_id": "12707ad650004667a41e39d8c1516f5e",
        "slideshow": {
          "slide_type": "fragment"
        },
        "user_expressions": [],
        "deepnote_cell_type": "markdown"
      },
      "block_group": "12707ad650004667a41e39d8c1516f5e"
    },
    {
      "cell_type": "markdown",
      "source": "# Reshape DataFrame",
      "metadata": {
        "tags": [],
        "cell_id": "948b6bc2b0944dda983bbe18ebb1c919",
        "slideshow": {
          "slide_type": "slide"
        },
        "user_expressions": [],
        "deepnote_cell_type": "markdown"
      },
      "block_group": "948b6bc2b0944dda983bbe18ebb1c919"
    },
    {
      "cell_type": "markdown",
      "source": "<center><a href=\"https://pandas.pydata.org/docs/getting_started/intro_tutorials/07_reshape_table_layout.html#min-tut-07-reshape\"><img src=\"https://raw.githubusercontent.com/SMU-Econ-Growth/EconGrowthUG-Notebooks/c004a90a03c3633fd05cdbce96647e229fdc21d8/pics/07_melt.svg\" alt=\"melt\" width=500/><img src=\"https://raw.githubusercontent.com/SMU-Econ-Growth/EconGrowthUG-Notebooks/c004a90a03c3633fd05cdbce96647e229fdc21d8/pics/07_pivot.svg\" alt=\"pivot\" width=500/></a></center>",
      "metadata": {
        "tags": [],
        "cell_id": "19368d227cb244edb5689a99fd24ab31",
        "slideshow": {
          "slide_type": "-"
        },
        "user_expressions": [],
        "deepnote_cell_type": "markdown"
      },
      "block_group": "19368d227cb244edb5689a99fd24ab31"
    },
    {
      "cell_type": "markdown",
      "source": "## Many times you may need to reshape you data\n* To be used in other python commands\n* For further processing",
      "metadata": {
        "tags": [],
        "cell_id": "5733e31bdbc94548aafec601f6ebc1de",
        "slideshow": {
          "slide_type": "subslide"
        },
        "user_expressions": [],
        "deepnote_cell_type": "markdown"
      },
      "block_group": "5733e31bdbc94548aafec601f6ebc1de"
    },
    {
      "cell_type": "markdown",
      "source": "# Reshape DataFrame From Wide To Long",
      "metadata": {
        "tags": [],
        "cell_id": "8fea230b08d54a8ca7fd86b6562629e2",
        "slideshow": {
          "slide_type": "subslide"
        },
        "user_expressions": [],
        "deepnote_cell_type": "markdown"
      },
      "block_group": "8fea230b08d54a8ca7fd86b6562629e2"
    },
    {
      "cell_type": "markdown",
      "source": "<center><a href=\"https://pandas.pydata.org/docs/getting_started/intro_tutorials/07_reshape_table_layout.html#min-tut-07-reshape\"><img src=\"https://raw.githubusercontent.com/SMU-Econ-Growth/EconGrowthUG-Notebooks/c004a90a03c3633fd05cdbce96647e229fdc21d8/pics/07_melt.svg\" alt=\"melt\" width=700/></center>",
      "metadata": {
        "tags": [],
        "cell_id": "f74553da14d149779230d76b344f6a1a",
        "slideshow": {
          "slide_type": "-"
        },
        "user_expressions": [],
        "deepnote_cell_type": "markdown"
      },
      "block_group": "f74553da14d149779230d76b344f6a1a"
    },
    {
      "cell_type": "markdown",
      "source": "## Original dataframe has units (countries, households, individuals) in rows and variables or yearly observations in columns",
      "metadata": {
        "tags": [],
        "cell_id": "d40df7c0d3ec493ca4e67286205ea4c2",
        "slideshow": {
          "slide_type": "subslide"
        },
        "user_expressions": [],
        "deepnote_cell_type": "markdown"
      },
      "block_group": "d40df7c0d3ec493ca4e67286205ea4c2"
    },
    {
      "cell_type": "markdown",
      "source": "## New dataframe has unit $\\times$ variable/year in each row and values in columns",
      "metadata": {
        "tags": [],
        "cell_id": "8b5f50ed6fd74c69acac0c45f0463f1c",
        "slideshow": {
          "slide_type": "fragment"
        },
        "user_expressions": [],
        "deepnote_cell_type": "markdown"
      },
      "block_group": "8b5f50ed6fd74c69acac0c45f0463f1c"
    },
    {
      "cell_type": "markdown",
      "source": "## Useful commands\n* [`pd.wide_to_long(df, stubnames, i, j, sep='', suffix='\\\\d+')`](https://pandas.pydata.org/docs/reference/api/pandas.wide_to_long.html)\n* [`pd.melt(frame, id_vars=None, value_vars=None, var_name=None, value_name='value', col_level=None, ignore_index=True)`](https://pandas.pydata.org/docs/reference/api/pandas.melt.html#pandas.melt)\n* [`df.melt(id_vars=None, value_vars=None, var_name=None, value_name='value', col_level=None, ignore_index=True)`](https://pandas.pydata.org/docs/reference/api/pandas.DataFrame.melt.html#pandas.DataFrame.melt)\n* [`df.stack(level=- 1, dropna=True)`](https://pandas.pydata.org/docs/reference/api/pandas.DataFrame.stack.html#pandas.DataFrame.stack)",
      "metadata": {
        "tags": [],
        "cell_id": "5f41655ecb3c452db75f58034cbb70de",
        "slideshow": {
          "slide_type": "subslide"
        },
        "user_expressions": [],
        "deepnote_cell_type": "markdown"
      },
      "block_group": "5f41655ecb3c452db75f58034cbb70de"
    },
    {
      "cell_type": "markdown",
      "source": "<center><a href=\"https://pandas.pydata.org/docs/user_guide/reshaping.html#reshaping-stacking\"><img src=\"https://raw.githubusercontent.com/SMU-Econ-Growth/EconGrowthUG-Notebooks/c004a90a03c3633fd05cdbce96647e229fdc21d8/pics/reshaping_melt.png\" alt=\"melt\" width=700/></center>",
      "metadata": {
        "tags": [],
        "cell_id": "f71ab7eef7f2460e8547935fd79474f1",
        "slideshow": {
          "slide_type": "subslide"
        },
        "user_expressions": [],
        "deepnote_cell_type": "markdown"
      },
      "block_group": "f71ab7eef7f2460e8547935fd79474f1"
    },
    {
      "cell_type": "markdown",
      "source": "<center><a href=\"https://pandas.pydata.org/docs/user_guide/reshaping.html#reshaping-stacking\"><img src=\"https://raw.githubusercontent.com/SMU-Econ-Growth/EconGrowthUG-Notebooks/c004a90a03c3633fd05cdbce96647e229fdc21d8/pics/reshaping_stack.png\" alt=\"melt\" width=700/></center>",
      "metadata": {
        "tags": [],
        "cell_id": "c62ded9950dd42bcbcbf138ce2ecf90f",
        "slideshow": {
          "slide_type": "subslide"
        },
        "user_expressions": [],
        "deepnote_cell_type": "markdown"
      },
      "block_group": "c62ded9950dd42bcbcbf138ce2ecf90f"
    },
    {
      "cell_type": "markdown",
      "source": "# Reshape DataFrame From Long To Wide",
      "metadata": {
        "tags": [],
        "cell_id": "4f51abe3c28548f7952c2fae6add01bc",
        "slideshow": {
          "slide_type": "subslide"
        },
        "user_expressions": [],
        "deepnote_cell_type": "markdown"
      },
      "block_group": "4f51abe3c28548f7952c2fae6add01bc"
    },
    {
      "cell_type": "markdown",
      "source": "<center><a href=\"https://pandas.pydata.org/docs/getting_started/intro_tutorials/07_reshape_table_layout.html#min-tut-07-reshape\"><img src=\"https://raw.githubusercontent.com/SMU-Econ-Growth/EconGrowthUG-Notebooks/c004a90a03c3633fd05cdbce96647e229fdc21d8/pics/07_pivot.svg\" alt=\"pivot\" width=700/></center>",
      "metadata": {
        "tags": [],
        "cell_id": "8206e2f86784446cafff2a3329633043",
        "slideshow": {
          "slide_type": "-"
        },
        "user_expressions": [],
        "deepnote_cell_type": "markdown"
      },
      "block_group": "8206e2f86784446cafff2a3329633043"
    },
    {
      "cell_type": "markdown",
      "source": "## Original dataframe has unit $\\times$ variable/year in each row and values in columns",
      "metadata": {
        "tags": [],
        "cell_id": "cd5ebc07d4184749833e9ba8d56cd1da",
        "slideshow": {
          "slide_type": "subslide"
        },
        "user_expressions": [],
        "deepnote_cell_type": "markdown"
      },
      "block_group": "cd5ebc07d4184749833e9ba8d56cd1da"
    },
    {
      "cell_type": "markdown",
      "source": "## New dataframe has units (countries, households, individuals) in rows and variables or yearly observations in columns",
      "metadata": {
        "tags": [],
        "cell_id": "2c41fda7edd34aab93f6b8555133515a",
        "slideshow": {
          "slide_type": "fragment"
        },
        "user_expressions": [],
        "deepnote_cell_type": "markdown"
      },
      "block_group": "2c41fda7edd34aab93f6b8555133515a"
    },
    {
      "cell_type": "markdown",
      "source": "## Useful commands\n* [`pd.pivot(data, index=None, columns=None, values=None)`](https://pandas.pydata.org/docs/reference/api/pandas.pivot.html#pandas.pivot)\n* [`df.pivot(index=None, columns=None, values=None)`](https://pandas.pydata.org/docs/reference/api/pandas.DataFrame.pivot.html#pandas.DataFrame.pivot)\n* [`df.unstack(level=- 1, fill_value=None)`](https://pandas.pydata.org/docs/reference/api/pandas.DataFrame.unstack.html#pandas.DataFrame.unstack)",
      "metadata": {
        "tags": [],
        "cell_id": "c94c94e87a9342b8b85d0aad0560ef7b",
        "slideshow": {
          "slide_type": "subslide"
        },
        "user_expressions": [],
        "deepnote_cell_type": "markdown"
      },
      "block_group": "c94c94e87a9342b8b85d0aad0560ef7b"
    },
    {
      "cell_type": "markdown",
      "source": "<center><a href=\"https://pandas.pydata.org/docs/user_guide/reshaping.html#reshaping-by-pivoting-dataframe-objects\"><img src=\"https://raw.githubusercontent.com/SMU-Econ-Growth/EconGrowthUG-Notebooks/c004a90a03c3633fd05cdbce96647e229fdc21d8/pics/reshaping_pivot.png\" alt=\"melt\" width=700/></center>",
      "metadata": {
        "tags": [],
        "cell_id": "71fb5df17cb54e12afe6a5890718ce73",
        "slideshow": {
          "slide_type": "subslide"
        },
        "user_expressions": [],
        "deepnote_cell_type": "markdown"
      },
      "block_group": "71fb5df17cb54e12afe6a5890718ce73"
    },
    {
      "cell_type": "markdown",
      "source": "<center><a href=\"https://pandas.pydata.org/docs/user_guide/reshaping.html#reshaping-by-stacking-and-unstacking\"><img src=\"https://raw.githubusercontent.com/SMU-Econ-Growth/EconGrowthUG-Notebooks/c004a90a03c3633fd05cdbce96647e229fdc21d8/pics/reshaping_unstack.png\" alt=\"melt\" width=700/></center>",
      "metadata": {
        "tags": [],
        "cell_id": "af0c75f3a1ef43358f724c449f412d67",
        "slideshow": {
          "slide_type": "subslide"
        },
        "user_expressions": [],
        "deepnote_cell_type": "markdown"
      },
      "block_group": "af0c75f3a1ef43358f724c449f412d67"
    },
    {
      "cell_type": "markdown",
      "source": "# Combine Data from Multiple DataFrames",
      "metadata": {
        "tags": [],
        "cell_id": "04a4c4539b674c119a54b2dd46ba9bb1",
        "slideshow": {
          "slide_type": "slide"
        },
        "user_expressions": [],
        "deepnote_cell_type": "markdown"
      },
      "block_group": "04a4c4539b674c119a54b2dd46ba9bb1"
    },
    {
      "cell_type": "markdown",
      "source": "<center><a href=\"https://pandas.pydata.org/docs/getting_started/intro_tutorials/08_combine_dataframes.html#min-tut-08-combine\"><img src=\"https://raw.githubusercontent.com/SMU-Econ-Growth/EconGrowthUG-Notebooks/c004a90a03c3633fd05cdbce96647e229fdc21d8/pics/08_concat_row.svg\" alt=\"concatenate\" width=700/></center>",
      "metadata": {
        "tags": [],
        "cell_id": "4d380136d40e43799b272cb32ede8a65",
        "slideshow": {
          "slide_type": "-"
        },
        "user_expressions": [],
        "deepnote_cell_type": "markdown"
      },
      "block_group": "4d380136d40e43799b272cb32ede8a65"
    },
    {
      "cell_type": "markdown",
      "source": "# Concatenating Dataframes",
      "metadata": {
        "cell_id": "160d683f5fa94540a859a701f1776373",
        "slideshow": {
          "slide_type": "subslide"
        },
        "user_expressions": [],
        "deepnote_cell_type": "markdown"
      },
      "block_group": "160d683f5fa94540a859a701f1776373"
    },
    {
      "cell_type": "markdown",
      "source": "<center><a href=\"https://pandas.pydata.org/docs/getting_started/intro_tutorials/08_combine_dataframes.html#min-tut-08-combine\"><img src=\"https://raw.githubusercontent.com/SMU-Econ-Growth/EconGrowthUG-Notebooks/c004a90a03c3633fd05cdbce96647e229fdc21d8/pics/08_concat_row.svg\" alt=\"concatenate\" width=700/></center>",
      "metadata": {
        "tags": [],
        "cell_id": "7bd4376828a84c429f5faf7ad52bee3f",
        "slideshow": {
          "slide_type": "-"
        },
        "user_expressions": [],
        "deepnote_cell_type": "markdown"
      },
      "block_group": "7bd4376828a84c429f5faf7ad52bee3f"
    },
    {
      "cell_type": "markdown",
      "source": "## **pandas** let's you easily concatenate various `Series` or `DataFrames` to create a new `DataFrame`\n[`pd.concat(objs, axis=0, join='outer', ignore_index=False, keys=None, levels=None, names=None, verify_integrity=False, sort=False, copy=True)`](https://pandas.pydata.org/docs/reference/api/pandas.concat.html)",
      "metadata": {
        "tags": [],
        "cell_id": "f7dd3a2735ad45748e185f96b0f7b661",
        "slideshow": {
          "slide_type": "subslide"
        },
        "user_expressions": [],
        "deepnote_cell_type": "markdown"
      },
      "block_group": "f7dd3a2735ad45748e185f96b0f7b661"
    },
    {
      "cell_type": "markdown",
      "source": "```python\npd.concat([df1, df2, df3])\n```",
      "metadata": {
        "tags": [],
        "cell_id": "41970d1f13c4495088a4f95192dddb9c",
        "slideshow": {
          "slide_type": "subslide"
        },
        "user_expressions": [],
        "deepnote_cell_type": "markdown"
      },
      "block_group": "41970d1f13c4495088a4f95192dddb9c"
    },
    {
      "cell_type": "markdown",
      "source": "<center><a href=\"https://pandas.pydata.org/docs/user_guide/merging.html#concatenating-objects\"><img src=\"https://raw.githubusercontent.com/SMU-Econ-Growth/EconGrowthUG-Notebooks/c004a90a03c3633fd05cdbce96647e229fdc21d8/pics/merging_concat_basic.png\" alt=\"concatenate\" width=500/></center>",
      "metadata": {
        "tags": [],
        "cell_id": "8c7a717051fc4005be6d8d3b1e2570b2",
        "slideshow": {
          "slide_type": "-"
        },
        "user_expressions": [],
        "deepnote_cell_type": "markdown"
      },
      "block_group": "8c7a717051fc4005be6d8d3b1e2570b2"
    },
    {
      "cell_type": "markdown",
      "source": "```python\npd.concat([df1, df4], axis=1)\n```",
      "metadata": {
        "tags": [],
        "cell_id": "27a6cb0277d048309610da770884a9ba",
        "slideshow": {
          "slide_type": "subslide"
        },
        "user_expressions": [],
        "deepnote_cell_type": "markdown"
      },
      "block_group": "27a6cb0277d048309610da770884a9ba"
    },
    {
      "cell_type": "markdown",
      "source": "<center><a href=\"https://pandas.pydata.org/docs/user_guide/merging.html#concatenating-objects\"><img src=\"https://raw.githubusercontent.com/SMU-Econ-Growth/EconGrowthUG-Notebooks/c004a90a03c3633fd05cdbce96647e229fdc21d8/pics/merging_concat_axis1.png\" alt=\"concatenate\" width=1000/></center>",
      "metadata": {
        "tags": [],
        "cell_id": "d43bd2d9322b45d29e1803a7ef829314",
        "slideshow": {
          "slide_type": "-"
        },
        "user_expressions": [],
        "deepnote_cell_type": "markdown"
      },
      "block_group": "d43bd2d9322b45d29e1803a7ef829314"
    },
    {
      "cell_type": "markdown",
      "source": "```python\npd.concat([df1, df4], axis=1, join='inner')\n```",
      "metadata": {
        "tags": [],
        "cell_id": "7f9a971cd6b64cfca923f9f7eb08260e",
        "slideshow": {
          "slide_type": "subslide"
        },
        "user_expressions": [],
        "deepnote_cell_type": "markdown"
      },
      "block_group": "7f9a971cd6b64cfca923f9f7eb08260e"
    },
    {
      "cell_type": "markdown",
      "source": "<center><a href=\"https://pandas.pydata.org/docs/user_guide/merging.html#concatenating-objects\"><img src=\"https://raw.githubusercontent.com/SMU-Econ-Growth/EconGrowthUG-Notebooks/c004a90a03c3633fd05cdbce96647e229fdc21d8/pics/merging_concat_axis1_inner.png\" alt=\"concatenate\" width=1000/></center>",
      "metadata": {
        "tags": [],
        "cell_id": "1997642707584cde97abc6087f17cb3e",
        "slideshow": {
          "slide_type": "-"
        },
        "user_expressions": [],
        "deepnote_cell_type": "markdown"
      },
      "block_group": "1997642707584cde97abc6087f17cb3e"
    },
    {
      "cell_type": "markdown",
      "source": "# Merging/Joining Dataframes",
      "metadata": {
        "cell_id": "6886681c018b4f0989edc4ba7596ef04",
        "slideshow": {
          "slide_type": "subslide"
        },
        "user_expressions": [],
        "deepnote_cell_type": "markdown"
      },
      "block_group": "6886681c018b4f0989edc4ba7596ef04"
    },
    {
      "cell_type": "markdown",
      "source": "<center><a href=\"https://pandas.pydata.org/docs/getting_started/intro_tutorials/08_combine_dataframes.html#join-tables-using-a-common-identifier\"><img src=\"https://raw.githubusercontent.com/SMU-Econ-Growth/EconGrowthUG-Notebooks/c004a90a03c3633fd05cdbce96647e229fdc21d8/pics/08_merge_left.svg\" alt=\"concatenate\" width=1000/></center>",
      "metadata": {
        "tags": [],
        "cell_id": "b2bb4acc60a74df9906bf9196ec23cf7",
        "slideshow": {
          "slide_type": "-"
        },
        "user_expressions": [],
        "deepnote_cell_type": "markdown"
      },
      "block_group": "b2bb4acc60a74df9906bf9196ec23cf7"
    },
    {
      "cell_type": "markdown",
      "source": "## **pandas** let's you easily merge/join `Series` or `DataFrames` to create a new `DataFrame`",
      "metadata": {
        "tags": [],
        "cell_id": "1a698e0ed93e41ba98fb9b9538e74e52",
        "slideshow": {
          "slide_type": "subslide"
        },
        "user_expressions": [],
        "deepnote_cell_type": "markdown"
      },
      "block_group": "1a698e0ed93e41ba98fb9b9538e74e52"
    },
    {
      "cell_type": "markdown",
      "source": "* [`pd.merge(left, right, how='inner', on=None, left_on=None, right_on=None, left_index=False, right_index=False, sort=False, suffixes=('_x', '_y'), copy=True, indicator=False, validate=None)`](https://pandas.pydata.org/docs/reference/api/pandas.merge.html)",
      "metadata": {
        "tags": [],
        "cell_id": "2e2c7984e9714ac1bf0c56fa4f0cefc6",
        "slideshow": {
          "slide_type": "fragment"
        },
        "user_expressions": [],
        "deepnote_cell_type": "markdown"
      },
      "block_group": "2e2c7984e9714ac1bf0c56fa4f0cefc6"
    },
    {
      "cell_type": "markdown",
      "source": "* [`df.merge(right, how='inner', on=None, left_on=None, right_on=None, left_index=False, right_index=False, sort=False, suffixes=('_x', '_y'), copy=True, indicator=False, validate=None)`](https://pandas.pydata.org/docs/reference/api/pandas.DataFrame.merge.html)",
      "metadata": {
        "tags": [],
        "cell_id": "c02b72a600274dbd8bfac748c84384e6",
        "slideshow": {
          "slide_type": "fragment"
        },
        "user_expressions": [],
        "deepnote_cell_type": "markdown"
      },
      "block_group": "c02b72a600274dbd8bfac748c84384e6"
    },
    {
      "cell_type": "markdown",
      "source": "```python\npd.merge([left, right])\n```\nor\n```python\nleft.merge(right)\n```\nor\n```python\nright.merge(left)\n```",
      "metadata": {
        "tags": [],
        "cell_id": "d25807ccaf444fb99b761cce80cf8e0e",
        "slideshow": {
          "slide_type": "subslide"
        },
        "user_expressions": [],
        "deepnote_cell_type": "markdown"
      },
      "block_group": "d25807ccaf444fb99b761cce80cf8e0e"
    },
    {
      "cell_type": "markdown",
      "source": "<center><a href=\"https://pandas.pydata.org/docs/user_guide/merging.html#database-style-dataframe-or-named-series-joining-merging\"><img src=\"https://raw.githubusercontent.com/SMU-Econ-Growth/EconGrowthUG-Notebooks/c004a90a03c3633fd05cdbce96647e229fdc21d8/pics/merging_merge_on_key.png\" alt=\"concatenate\" width=700/></center>",
      "metadata": {
        "tags": [],
        "cell_id": "4f537cf3b87b4433951c3a370b6286b2",
        "slideshow": {
          "slide_type": "-"
        },
        "user_expressions": [],
        "deepnote_cell_type": "markdown"
      },
      "block_group": "4f537cf3b87b4433951c3a370b6286b2"
    },
    {
      "cell_type": "markdown",
      "source": "```python\npd.merge([left, right])\n```\nor\n```python\npd.merge([left, right], on=[\"key1\", \"key2\"])\n```",
      "metadata": {
        "tags": [],
        "cell_id": "6381385e4bd34c72a6536e5cf5a336b1",
        "slideshow": {
          "slide_type": "subslide"
        },
        "user_expressions": [],
        "deepnote_cell_type": "markdown"
      },
      "block_group": "6381385e4bd34c72a6536e5cf5a336b1"
    },
    {
      "cell_type": "markdown",
      "source": "<center><a href=\"https://pandas.pydata.org/docs/user_guide/merging.html#database-style-dataframe-or-named-series-joining-merging\"><img src=\"https://raw.githubusercontent.com/SMU-Econ-Growth/EconGrowthUG-Notebooks/c004a90a03c3633fd05cdbce96647e229fdc21d8/pics/merging_merge_on_key_multiple.png\" alt=\"concatenate\" width=1000/></center>",
      "metadata": {
        "tags": [],
        "cell_id": "9e027a4e1f124029959c4091f30c798b",
        "slideshow": {
          "slide_type": "-"
        },
        "user_expressions": [],
        "deepnote_cell_type": "markdown"
      },
      "block_group": "9e027a4e1f124029959c4091f30c798b"
    },
    {
      "cell_type": "markdown",
      "source": "```python\npd.merge([left, right], how=\"left\", on=[\"key1\", \"key2\"])\n```\nor\n```python\nleft.merge(right, how=\"left\", on=[\"key1\", \"key2\"])\n```\nor\n```python\nright.merge(left, how=\"right\", on=[\"key1\", \"key2\"])\n```",
      "metadata": {
        "tags": [],
        "cell_id": "6c1ec2133c574e188bb30e7fd8fd9a94",
        "slideshow": {
          "slide_type": "subslide"
        },
        "user_expressions": [],
        "deepnote_cell_type": "markdown"
      },
      "block_group": "6c1ec2133c574e188bb30e7fd8fd9a94"
    },
    {
      "cell_type": "markdown",
      "source": "<center><a href=\"https://pandas.pydata.org/docs/user_guide/merging.html#database-style-dataframe-or-named-series-joining-merging\"><img src=\"https://raw.githubusercontent.com/SMU-Econ-Growth/EconGrowthUG-Notebooks/c004a90a03c3633fd05cdbce96647e229fdc21d8/pics/merging_merge_on_key_left.png\" alt=\"concatenate\" width=1000/></center>",
      "metadata": {
        "tags": [],
        "cell_id": "c13c587cc3e247afae16c1c85c2c6c69",
        "slideshow": {
          "slide_type": "-"
        },
        "user_expressions": [],
        "deepnote_cell_type": "markdown"
      },
      "block_group": "c13c587cc3e247afae16c1c85c2c6c69"
    },
    {
      "cell_type": "markdown",
      "source": "```python\npd.merge([left, right], how=\"right\", on=[\"key1\", \"key2\"])\n```\nor\n```python\nleft.merge(right, how=\"right\", on=[\"key1\", \"key2\"])\n```\nor\n```python\nright.merge(left, how=\"left\", on=[\"key1\", \"key2\"])\n```",
      "metadata": {
        "tags": [],
        "cell_id": "0d497602884f4db8aae4cf7aae26b05b",
        "slideshow": {
          "slide_type": "subslide"
        },
        "user_expressions": [],
        "deepnote_cell_type": "markdown"
      },
      "block_group": "0d497602884f4db8aae4cf7aae26b05b"
    },
    {
      "cell_type": "markdown",
      "source": "<center><a href=\"https://pandas.pydata.org/docs/user_guide/merging.html#database-style-dataframe-or-named-series-joining-merging\"><img src=\"https://raw.githubusercontent.com/SMU-Econ-Growth/EconGrowthUG-Notebooks/c004a90a03c3633fd05cdbce96647e229fdc21d8/pics/merging_merge_on_key_right.png\" alt=\"concatenate\" width=1000/></center>",
      "metadata": {
        "tags": [],
        "cell_id": "2f41d7d90f324b4fbe972e808455f497",
        "slideshow": {
          "slide_type": "-"
        },
        "user_expressions": [],
        "deepnote_cell_type": "markdown"
      },
      "block_group": "2f41d7d90f324b4fbe972e808455f497"
    },
    {
      "cell_type": "markdown",
      "source": "```python\npd.merge([left, right], how=\"outer\", on=[\"key1\", \"key2\"])\n```\nor\n```python\nleft.merge(right, how=\"outer\", on=[\"key1\", \"key2\"])\n```\nor\n```python\nright.merge(left, how=\"outer\", on=[\"key1\", \"key2\"])\n```",
      "metadata": {
        "tags": [],
        "cell_id": "cac0d11293bc473bb75ddf2385232261",
        "slideshow": {
          "slide_type": "subslide"
        },
        "user_expressions": [],
        "deepnote_cell_type": "markdown"
      },
      "block_group": "cac0d11293bc473bb75ddf2385232261"
    },
    {
      "cell_type": "markdown",
      "source": "<center><a href=\"https://pandas.pydata.org/docs/user_guide/merging.html#database-style-dataframe-or-named-series-joining-merging\"><img src=\"https://raw.githubusercontent.com/SMU-Econ-Growth/EconGrowthUG-Notebooks/c004a90a03c3633fd05cdbce96647e229fdc21d8/pics/merging_merge_on_key_outer.png\" alt=\"concatenate\" width=1000/></center>",
      "metadata": {
        "tags": [],
        "cell_id": "8baef2a383b04b6490e6c1f0c60aa6a4",
        "slideshow": {
          "slide_type": "-"
        },
        "user_expressions": [],
        "deepnote_cell_type": "markdown"
      },
      "block_group": "8baef2a383b04b6490e6c1f0c60aa6a4"
    },
    {
      "cell_type": "markdown",
      "source": "# Many Other Options and Possibilities\n* [Working with Time Series](https://pandas.pydata.org/docs/getting_started/intro_tutorials/09_timeseries.html#min-tut-09-timeseries)\n* [Working with Text](https://pandas.pydata.org/docs/getting_started/intro_tutorials/10_text_data.html#min-tut-10-text)",
      "metadata": {
        "cell_id": "9bd6e001290a44d7b3fbb958004b793c",
        "slideshow": {
          "slide_type": "slide"
        },
        "user_expressions": [],
        "deepnote_cell_type": "markdown"
      },
      "block_group": "9bd6e001290a44d7b3fbb958004b793c"
    },
    {
      "cell_type": "markdown",
      "source": "# <center>Examples</center>",
      "metadata": {
        "tags": [],
        "cell_id": "e60ff0c9ac584c2aaa9e2b272495902b",
        "slideshow": {
          "slide_type": "slide"
        },
        "user_expressions": [],
        "deepnote_cell_type": "markdown"
      },
      "block_group": "e60ff0c9ac584c2aaa9e2b272495902b"
    },
    {
      "cell_type": "markdown",
      "source": "# Example - Import data",
      "metadata": {
        "cell_id": "1bd5ab62fd7e4af694b98765fc9260d1",
        "slideshow": {
          "slide_type": "subslide"
        },
        "user_expressions": [],
        "deepnote_cell_type": "markdown"
      },
      "block_group": "1bd5ab62fd7e4af694b98765fc9260d1"
    },
    {
      "cell_type": "markdown",
      "source": "## Let's import the table of countries' ISO codes from [Wikipedia](https://en.wikipedia.org/wiki/List_of_ISO_3166_country_codes)",
      "metadata": {
        "cell_id": "3fa6210799c343559e2cc0b81e6dff50",
        "slideshow": {
          "slide_type": "subslide"
        },
        "user_expressions": [],
        "deepnote_cell_type": "markdown"
      },
      "block_group": "3fa6210799c343559e2cc0b81e6dff50"
    },
    {
      "cell_type": "code",
      "source": "# Import display options for showing websites\nfrom IPython.display import IFrame\nurl = 'https://en.wikipedia.org/wiki/List_of_ISO_3166_country_codes'\nIFrame(url, width=800, height=400)",
      "metadata": {
        "cell_id": "2700e21f12f6401382eed544fccc16e8",
        "slideshow": {
          "slide_type": "subslide"
        },
        "source_hash": null,
        "execution_start": 1691509091305,
        "execution_millis": 33,
        "deepnote_to_be_reexecuted": false,
        "deepnote_cell_type": "code"
      },
      "outputs": [
        {
          "output_type": "execute_result",
          "execution_count": 2,
          "data": {
            "text/plain": "<IPython.lib.display.IFrame at 0x7f3792d0c550>",
            "text/html": "\n        <iframe\n            width=\"800\"\n            height=\"400\"\n            src=\"https://en.wikipedia.org/wiki/List_of_ISO_3166_country_codes\"\n            frameborder=\"0\"\n            allowfullscreen\n            \n        ></iframe>\n        "
          },
          "metadata": {}
        }
      ],
      "execution_count": null,
      "block_group": "2700e21f12f6401382eed544fccc16e8"
    },
    {
      "cell_type": "code",
      "source": "isocodes = pd.read_html(url, encoding='utf-8')[0]\nisocodes",
      "metadata": {
        "cell_id": "bdc7ca41296c4922895a341ad380ec6f",
        "slideshow": {
          "slide_type": "subslide"
        },
        "source_hash": null,
        "execution_start": 1691509091338,
        "execution_millis": 1253,
        "deepnote_to_be_reexecuted": false,
        "deepnote_cell_type": "code"
      },
      "outputs": [
        {
          "output_type": "execute_result",
          "execution_count": 3,
          "data": {
            "application/vnd.deepnote.dataframe.v3+json": {
              "column_count": 8,
              "row_count": 271,
              "columns": [
                {
                  "name": "ISO 3166[1] Country name[5]",
                  "dtype": "object",
                  "stats": {
                    "unique_count": 271,
                    "nan_count": 0,
                    "categories": [
                      {
                        "name": "Afghanistan",
                        "count": 1
                      },
                      {
                        "name": "Åland Islands",
                        "count": 1
                      },
                      {
                        "name": "269 others",
                        "count": 269
                      }
                    ]
                  }
                },
                {
                  "name": "Unnamed: 1_level_0 Official state name[6][a]",
                  "dtype": "object",
                  "stats": {
                    "unique_count": 271,
                    "nan_count": 0,
                    "categories": [
                      {
                        "name": "The Islamic Republic of Afghanistan",
                        "count": 1
                      },
                      {
                        "name": "Åland",
                        "count": 1
                      },
                      {
                        "name": "269 others",
                        "count": 269
                      }
                    ]
                  }
                },
                {
                  "name": "Unnamed: 2_level_0 Sovereignty[6][7][8]",
                  "dtype": "object",
                  "stats": {
                    "unique_count": 38,
                    "nan_count": 0,
                    "categories": [
                      {
                        "name": "UN member state",
                        "count": 193
                      },
                      {
                        "name": "United Kingdom",
                        "count": 12
                      },
                      {
                        "name": "36 others",
                        "count": 66
                      }
                    ]
                  }
                },
                {
                  "name": "ISO 3166-1[2] Alpha-2 code[5]",
                  "dtype": "object",
                  "stats": {
                    "unique_count": 270,
                    "nan_count": 1,
                    "categories": [
                      {
                        "name": ".mw-parser-output .monospaced{font-family:monospace,monospace}AF",
                        "count": 1
                      },
                      {
                        "name": "269 others",
                        "count": 269
                      },
                      {
                        "name": "Missing",
                        "count": 1
                      }
                    ]
                  }
                },
                {
                  "name": "ISO 3166-1[2] Alpha-3 code[5]",
                  "dtype": "object",
                  "stats": {
                    "unique_count": 271,
                    "nan_count": 0,
                    "categories": [
                      {
                        "name": "AFG",
                        "count": 1
                      },
                      {
                        "name": "ALA",
                        "count": 1
                      },
                      {
                        "name": "269 others",
                        "count": 269
                      }
                    ]
                  }
                },
                {
                  "name": "ISO 3166-1[2] Numeric code[5]",
                  "dtype": "object",
                  "stats": {
                    "unique_count": 271,
                    "nan_count": 0,
                    "categories": [
                      {
                        "name": "004",
                        "count": 1
                      },
                      {
                        "name": "248",
                        "count": 1
                      },
                      {
                        "name": "269 others",
                        "count": 269
                      }
                    ]
                  }
                },
                {
                  "name": "ISO 3166-2[3] Subdivision code links[3]",
                  "dtype": "object",
                  "stats": {
                    "unique_count": 271,
                    "nan_count": 0,
                    "categories": [
                      {
                        "name": "ISO 3166-2:AF",
                        "count": 1
                      },
                      {
                        "name": "ISO 3166-2:AX",
                        "count": 1
                      },
                      {
                        "name": "269 others",
                        "count": 269
                      }
                    ]
                  }
                },
                {
                  "name": "Unnamed: 7_level_0 Internet ccTLD[9]",
                  "dtype": "object",
                  "stats": {
                    "unique_count": 271,
                    "nan_count": 0,
                    "categories": [
                      {
                        "name": ".af",
                        "count": 1
                      },
                      {
                        "name": ".ax",
                        "count": 1
                      },
                      {
                        "name": "269 others",
                        "count": 269
                      }
                    ]
                  }
                },
                {
                  "name": "_deepnote_index_column",
                  "dtype": "int64"
                }
              ],
              "rows": [
                {
                  "ISO 3166[1] Country name[5]": "Afghanistan",
                  "Unnamed: 1_level_0 Official state name[6][a]": "The Islamic Republic of Afghanistan",
                  "Unnamed: 2_level_0 Sovereignty[6][7][8]": "UN member state",
                  "ISO 3166-1[2] Alpha-2 code[5]": ".mw-parser-output .monospaced{font-family:monospace,monospace}AF",
                  "ISO 3166-1[2] Alpha-3 code[5]": "AFG",
                  "ISO 3166-1[2] Numeric code[5]": "004",
                  "ISO 3166-2[3] Subdivision code links[3]": "ISO 3166-2:AF",
                  "Unnamed: 7_level_0 Internet ccTLD[9]": ".af",
                  "_deepnote_index_column": 0
                },
                {
                  "ISO 3166[1] Country name[5]": "Åland Islands",
                  "Unnamed: 1_level_0 Official state name[6][a]": "Åland",
                  "Unnamed: 2_level_0 Sovereignty[6][7][8]": "Finland",
                  "ISO 3166-1[2] Alpha-2 code[5]": "AX",
                  "ISO 3166-1[2] Alpha-3 code[5]": "ALA",
                  "ISO 3166-1[2] Numeric code[5]": "248",
                  "ISO 3166-2[3] Subdivision code links[3]": "ISO 3166-2:AX",
                  "Unnamed: 7_level_0 Internet ccTLD[9]": ".ax",
                  "_deepnote_index_column": 1
                },
                {
                  "ISO 3166[1] Country name[5]": "Albania",
                  "Unnamed: 1_level_0 Official state name[6][a]": "The Republic of Albania",
                  "Unnamed: 2_level_0 Sovereignty[6][7][8]": "UN member state",
                  "ISO 3166-1[2] Alpha-2 code[5]": "AL",
                  "ISO 3166-1[2] Alpha-3 code[5]": "ALB",
                  "ISO 3166-1[2] Numeric code[5]": "008",
                  "ISO 3166-2[3] Subdivision code links[3]": "ISO 3166-2:AL",
                  "Unnamed: 7_level_0 Internet ccTLD[9]": ".al",
                  "_deepnote_index_column": 2
                },
                {
                  "ISO 3166[1] Country name[5]": "Algeria",
                  "Unnamed: 1_level_0 Official state name[6][a]": "The People's Democratic Republic of Algeria",
                  "Unnamed: 2_level_0 Sovereignty[6][7][8]": "UN member state",
                  "ISO 3166-1[2] Alpha-2 code[5]": "DZ",
                  "ISO 3166-1[2] Alpha-3 code[5]": "DZA",
                  "ISO 3166-1[2] Numeric code[5]": "012",
                  "ISO 3166-2[3] Subdivision code links[3]": "ISO 3166-2:DZ",
                  "Unnamed: 7_level_0 Internet ccTLD[9]": ".dz",
                  "_deepnote_index_column": 3
                },
                {
                  "ISO 3166[1] Country name[5]": "American Samoa",
                  "Unnamed: 1_level_0 Official state name[6][a]": "The Territory of American Samoa",
                  "Unnamed: 2_level_0 Sovereignty[6][7][8]": "United States",
                  "ISO 3166-1[2] Alpha-2 code[5]": "AS",
                  "ISO 3166-1[2] Alpha-3 code[5]": "ASM",
                  "ISO 3166-1[2] Numeric code[5]": "016",
                  "ISO 3166-2[3] Subdivision code links[3]": "ISO 3166-2:AS",
                  "Unnamed: 7_level_0 Internet ccTLD[9]": ".as",
                  "_deepnote_index_column": 4
                },
                {
                  "ISO 3166[1] Country name[5]": "Andorra",
                  "Unnamed: 1_level_0 Official state name[6][a]": "The Principality of Andorra",
                  "Unnamed: 2_level_0 Sovereignty[6][7][8]": "UN member state",
                  "ISO 3166-1[2] Alpha-2 code[5]": "AD",
                  "ISO 3166-1[2] Alpha-3 code[5]": "AND",
                  "ISO 3166-1[2] Numeric code[5]": "020",
                  "ISO 3166-2[3] Subdivision code links[3]": "ISO 3166-2:AD",
                  "Unnamed: 7_level_0 Internet ccTLD[9]": ".ad",
                  "_deepnote_index_column": 5
                },
                {
                  "ISO 3166[1] Country name[5]": "Angola",
                  "Unnamed: 1_level_0 Official state name[6][a]": "The Republic of Angola",
                  "Unnamed: 2_level_0 Sovereignty[6][7][8]": "UN member state",
                  "ISO 3166-1[2] Alpha-2 code[5]": "AO",
                  "ISO 3166-1[2] Alpha-3 code[5]": "AGO",
                  "ISO 3166-1[2] Numeric code[5]": "024",
                  "ISO 3166-2[3] Subdivision code links[3]": "ISO 3166-2:AO",
                  "Unnamed: 7_level_0 Internet ccTLD[9]": ".ao",
                  "_deepnote_index_column": 6
                },
                {
                  "ISO 3166[1] Country name[5]": "Anguilla",
                  "Unnamed: 1_level_0 Official state name[6][a]": "Anguilla",
                  "Unnamed: 2_level_0 Sovereignty[6][7][8]": "United Kingdom",
                  "ISO 3166-1[2] Alpha-2 code[5]": "AI",
                  "ISO 3166-1[2] Alpha-3 code[5]": "AIA",
                  "ISO 3166-1[2] Numeric code[5]": "660",
                  "ISO 3166-2[3] Subdivision code links[3]": "ISO 3166-2:AI",
                  "Unnamed: 7_level_0 Internet ccTLD[9]": ".ai",
                  "_deepnote_index_column": 7
                },
                {
                  "ISO 3166[1] Country name[5]": "Antarctica [b]",
                  "Unnamed: 1_level_0 Official state name[6][a]": "All land and ice shelves south of the 60th parallel south",
                  "Unnamed: 2_level_0 Sovereignty[6][7][8]": "Antarctic Treaty",
                  "ISO 3166-1[2] Alpha-2 code[5]": "AQ",
                  "ISO 3166-1[2] Alpha-3 code[5]": "ATA",
                  "ISO 3166-1[2] Numeric code[5]": "010",
                  "ISO 3166-2[3] Subdivision code links[3]": "ISO 3166-2:AQ",
                  "Unnamed: 7_level_0 Internet ccTLD[9]": ".aq",
                  "_deepnote_index_column": 8
                },
                {
                  "ISO 3166[1] Country name[5]": "Antigua and Barbuda",
                  "Unnamed: 1_level_0 Official state name[6][a]": "Antigua and Barbuda",
                  "Unnamed: 2_level_0 Sovereignty[6][7][8]": "UN member state",
                  "ISO 3166-1[2] Alpha-2 code[5]": "AG",
                  "ISO 3166-1[2] Alpha-3 code[5]": "ATG",
                  "ISO 3166-1[2] Numeric code[5]": "028",
                  "ISO 3166-2[3] Subdivision code links[3]": "ISO 3166-2:AG",
                  "Unnamed: 7_level_0 Internet ccTLD[9]": ".ag",
                  "_deepnote_index_column": 9
                }
              ]
            },
            "text/plain": "             ISO 3166[1]                              Unnamed: 1_level_0  \\\n         Country name[5]                       Official state name[6][a]   \n0            Afghanistan             The Islamic Republic of Afghanistan   \n1          Åland Islands                                           Åland   \n2                Albania                         The Republic of Albania   \n3                Algeria     The People's Democratic Republic of Algeria   \n4         American Samoa                 The Territory of American Samoa   \n..                   ...                                             ...   \n266    Wallis and Futuna  The Territory of the Wallis and Futuna Islands   \n267  Western Sahara [aj]            The Sahrawi Arab Democratic Republic   \n268                Yemen                           The Republic of Yemen   \n269               Zambia                          The Republic of Zambia   \n270             Zimbabwe                        The Republic of Zimbabwe   \n\n      Unnamed: 2_level_0                                      ISO 3166-1[2]  \\\n    Sovereignty[6][7][8]                                    Alpha-2 code[5]   \n0        UN member state  .mw-parser-output .monospaced{font-family:mono...   \n1                Finland                                                 AX   \n2        UN member state                                                 AL   \n3        UN member state                                                 DZ   \n4          United States                                                 AS   \n..                   ...                                                ...   \n266               France                                                 WF   \n267        Disputed [ak]                                                 EH   \n268      UN member state                                                 YE   \n269      UN member state                                                 ZM   \n270      UN member state                                                 ZW   \n\n                                                ISO 3166-2[3]  \\\n    Alpha-3 code[5] Numeric code[5] Subdivision code links[3]   \n0               AFG             004             ISO 3166-2:AF   \n1               ALA             248             ISO 3166-2:AX   \n2               ALB             008             ISO 3166-2:AL   \n3               DZA             012             ISO 3166-2:DZ   \n4               ASM             016             ISO 3166-2:AS   \n..              ...             ...                       ...   \n266             WLF             876             ISO 3166-2:WF   \n267             ESH             732             ISO 3166-2:EH   \n268             YEM             887             ISO 3166-2:YE   \n269             ZMB             894             ISO 3166-2:ZM   \n270             ZWE             716             ISO 3166-2:ZW   \n\n    Unnamed: 7_level_0  \n     Internet ccTLD[9]  \n0                  .af  \n1                  .ax  \n2                  .al  \n3                  .dz  \n4                  .as  \n..                 ...  \n266                .wf  \n267               [al]  \n268                .ye  \n269                .zm  \n270                .zw  \n\n[271 rows x 8 columns]",
            "text/html": "<div>\n<style scoped>\n    .dataframe tbody tr th:only-of-type {\n        vertical-align: middle;\n    }\n\n    .dataframe tbody tr th {\n        vertical-align: top;\n    }\n\n    .dataframe thead tr th {\n        text-align: left;\n    }\n</style>\n<table border=\"1\" class=\"dataframe\">\n  <thead>\n    <tr>\n      <th></th>\n      <th>ISO 3166[1]</th>\n      <th>Unnamed: 1_level_0</th>\n      <th>Unnamed: 2_level_0</th>\n      <th colspan=\"3\" halign=\"left\">ISO 3166-1[2]</th>\n      <th>ISO 3166-2[3]</th>\n      <th>Unnamed: 7_level_0</th>\n    </tr>\n    <tr>\n      <th></th>\n      <th>Country name[5]</th>\n      <th>Official state name[6][a]</th>\n      <th>Sovereignty[6][7][8]</th>\n      <th>Alpha-2 code[5]</th>\n      <th>Alpha-3 code[5]</th>\n      <th>Numeric code[5]</th>\n      <th>Subdivision code links[3]</th>\n      <th>Internet ccTLD[9]</th>\n    </tr>\n  </thead>\n  <tbody>\n    <tr>\n      <th>0</th>\n      <td>Afghanistan</td>\n      <td>The Islamic Republic of Afghanistan</td>\n      <td>UN member state</td>\n      <td>.mw-parser-output .monospaced{font-family:mono...</td>\n      <td>AFG</td>\n      <td>004</td>\n      <td>ISO 3166-2:AF</td>\n      <td>.af</td>\n    </tr>\n    <tr>\n      <th>1</th>\n      <td>Åland Islands</td>\n      <td>Åland</td>\n      <td>Finland</td>\n      <td>AX</td>\n      <td>ALA</td>\n      <td>248</td>\n      <td>ISO 3166-2:AX</td>\n      <td>.ax</td>\n    </tr>\n    <tr>\n      <th>2</th>\n      <td>Albania</td>\n      <td>The Republic of Albania</td>\n      <td>UN member state</td>\n      <td>AL</td>\n      <td>ALB</td>\n      <td>008</td>\n      <td>ISO 3166-2:AL</td>\n      <td>.al</td>\n    </tr>\n    <tr>\n      <th>3</th>\n      <td>Algeria</td>\n      <td>The People's Democratic Republic of Algeria</td>\n      <td>UN member state</td>\n      <td>DZ</td>\n      <td>DZA</td>\n      <td>012</td>\n      <td>ISO 3166-2:DZ</td>\n      <td>.dz</td>\n    </tr>\n    <tr>\n      <th>4</th>\n      <td>American Samoa</td>\n      <td>The Territory of American Samoa</td>\n      <td>United States</td>\n      <td>AS</td>\n      <td>ASM</td>\n      <td>016</td>\n      <td>ISO 3166-2:AS</td>\n      <td>.as</td>\n    </tr>\n    <tr>\n      <th>...</th>\n      <td>...</td>\n      <td>...</td>\n      <td>...</td>\n      <td>...</td>\n      <td>...</td>\n      <td>...</td>\n      <td>...</td>\n      <td>...</td>\n    </tr>\n    <tr>\n      <th>266</th>\n      <td>Wallis and Futuna</td>\n      <td>The Territory of the Wallis and Futuna Islands</td>\n      <td>France</td>\n      <td>WF</td>\n      <td>WLF</td>\n      <td>876</td>\n      <td>ISO 3166-2:WF</td>\n      <td>.wf</td>\n    </tr>\n    <tr>\n      <th>267</th>\n      <td>Western Sahara [aj]</td>\n      <td>The Sahrawi Arab Democratic Republic</td>\n      <td>Disputed [ak]</td>\n      <td>EH</td>\n      <td>ESH</td>\n      <td>732</td>\n      <td>ISO 3166-2:EH</td>\n      <td>[al]</td>\n    </tr>\n    <tr>\n      <th>268</th>\n      <td>Yemen</td>\n      <td>The Republic of Yemen</td>\n      <td>UN member state</td>\n      <td>YE</td>\n      <td>YEM</td>\n      <td>887</td>\n      <td>ISO 3166-2:YE</td>\n      <td>.ye</td>\n    </tr>\n    <tr>\n      <th>269</th>\n      <td>Zambia</td>\n      <td>The Republic of Zambia</td>\n      <td>UN member state</td>\n      <td>ZM</td>\n      <td>ZMB</td>\n      <td>894</td>\n      <td>ISO 3166-2:ZM</td>\n      <td>.zm</td>\n    </tr>\n    <tr>\n      <th>270</th>\n      <td>Zimbabwe</td>\n      <td>The Republic of Zimbabwe</td>\n      <td>UN member state</td>\n      <td>ZW</td>\n      <td>ZWE</td>\n      <td>716</td>\n      <td>ISO 3166-2:ZW</td>\n      <td>.zw</td>\n    </tr>\n  </tbody>\n</table>\n<p>271 rows × 8 columns</p>\n</div>"
          },
          "metadata": {}
        }
      ],
      "execution_count": null,
      "block_group": "bdc7ca41296c4922895a341ad380ec6f"
    },
    {
      "cell_type": "markdown",
      "source": "## Not perfect, but we can correct it and make it look nice",
      "metadata": {
        "cell_id": "d36231ca01b249d299811cdfe28aa4f5",
        "slideshow": {
          "slide_type": "subslide"
        },
        "user_expressions": [],
        "deepnote_cell_type": "markdown"
      },
      "block_group": "d36231ca01b249d299811cdfe28aa4f5"
    },
    {
      "cell_type": "code",
      "source": "isocodes.columns",
      "metadata": {
        "cell_id": "ab46afbd3c474755adbdfc36d59f5fcb",
        "slideshow": {
          "slide_type": "fragment"
        },
        "source_hash": null,
        "execution_start": 1691509092011,
        "execution_millis": 579,
        "deepnote_to_be_reexecuted": false,
        "deepnote_cell_type": "code"
      },
      "outputs": [
        {
          "output_type": "execute_result",
          "execution_count": 4,
          "data": {
            "text/plain": "MultiIndex([(       'ISO 3166[1]',           'Country name[5]'),\n            ('Unnamed: 1_level_0', 'Official state name[6][a]'),\n            ('Unnamed: 2_level_0',      'Sovereignty[6][7][8]'),\n            (     'ISO 3166-1[2]',           'Alpha-2 code[5]'),\n            (     'ISO 3166-1[2]',           'Alpha-3 code[5]'),\n            (     'ISO 3166-1[2]',           'Numeric code[5]'),\n            (     'ISO 3166-2[3]', 'Subdivision code links[3]'),\n            ('Unnamed: 7_level_0',         'Internet ccTLD[9]')],\n           )"
          },
          "metadata": {}
        }
      ],
      "execution_count": null,
      "block_group": "ab46afbd3c474755adbdfc36d59f5fcb"
    },
    {
      "cell_type": "markdown",
      "source": "## First, let's drop the first column index",
      "metadata": {
        "cell_id": "dee82d436b5a4847abaa79d6798c3c92",
        "slideshow": {
          "slide_type": "subslide"
        },
        "user_expressions": [],
        "deepnote_cell_type": "markdown"
      },
      "block_group": "dee82d436b5a4847abaa79d6798c3c92"
    },
    {
      "cell_type": "code",
      "source": "isocodes = isocodes.droplevel(0, axis=1)\nisocodes.head()",
      "metadata": {
        "cell_id": "1b6a290283d54caa9b206b9bd369ed6e",
        "slideshow": {
          "slide_type": "fragment"
        },
        "source_hash": null,
        "execution_start": 1691509092012,
        "execution_millis": 23,
        "deepnote_to_be_reexecuted": false,
        "deepnote_cell_type": "code"
      },
      "outputs": [
        {
          "output_type": "execute_result",
          "execution_count": 5,
          "data": {
            "application/vnd.deepnote.dataframe.v3+json": {
              "column_count": 8,
              "row_count": 5,
              "columns": [
                {
                  "name": "Country name[5]",
                  "dtype": "object",
                  "stats": {
                    "unique_count": 5,
                    "nan_count": 0,
                    "categories": [
                      {
                        "name": "Afghanistan",
                        "count": 1
                      },
                      {
                        "name": "Åland Islands",
                        "count": 1
                      },
                      {
                        "name": "3 others",
                        "count": 3
                      }
                    ]
                  }
                },
                {
                  "name": "Official state name[6][a]",
                  "dtype": "object",
                  "stats": {
                    "unique_count": 5,
                    "nan_count": 0,
                    "categories": [
                      {
                        "name": "The Islamic Republic of Afghanistan",
                        "count": 1
                      },
                      {
                        "name": "Åland",
                        "count": 1
                      },
                      {
                        "name": "3 others",
                        "count": 3
                      }
                    ]
                  }
                },
                {
                  "name": "Sovereignty[6][7][8]",
                  "dtype": "object",
                  "stats": {
                    "unique_count": 3,
                    "nan_count": 0,
                    "categories": [
                      {
                        "name": "UN member state",
                        "count": 3
                      },
                      {
                        "name": "Finland",
                        "count": 1
                      },
                      {
                        "name": "United States",
                        "count": 1
                      }
                    ]
                  }
                },
                {
                  "name": "Alpha-2 code[5]",
                  "dtype": "object",
                  "stats": {
                    "unique_count": 5,
                    "nan_count": 0,
                    "categories": [
                      {
                        "name": ".mw-parser-output .monospaced{font-family:monospace,monospace}AF",
                        "count": 1
                      },
                      {
                        "name": "AX",
                        "count": 1
                      },
                      {
                        "name": "3 others",
                        "count": 3
                      }
                    ]
                  }
                },
                {
                  "name": "Alpha-3 code[5]",
                  "dtype": "object",
                  "stats": {
                    "unique_count": 5,
                    "nan_count": 0,
                    "categories": [
                      {
                        "name": "AFG",
                        "count": 1
                      },
                      {
                        "name": "ALA",
                        "count": 1
                      },
                      {
                        "name": "3 others",
                        "count": 3
                      }
                    ]
                  }
                },
                {
                  "name": "Numeric code[5]",
                  "dtype": "object",
                  "stats": {
                    "unique_count": 5,
                    "nan_count": 0,
                    "categories": [
                      {
                        "name": "004",
                        "count": 1
                      },
                      {
                        "name": "248",
                        "count": 1
                      },
                      {
                        "name": "3 others",
                        "count": 3
                      }
                    ]
                  }
                },
                {
                  "name": "Subdivision code links[3]",
                  "dtype": "object",
                  "stats": {
                    "unique_count": 5,
                    "nan_count": 0,
                    "categories": [
                      {
                        "name": "ISO 3166-2:AF",
                        "count": 1
                      },
                      {
                        "name": "ISO 3166-2:AX",
                        "count": 1
                      },
                      {
                        "name": "3 others",
                        "count": 3
                      }
                    ]
                  }
                },
                {
                  "name": "Internet ccTLD[9]",
                  "dtype": "object",
                  "stats": {
                    "unique_count": 5,
                    "nan_count": 0,
                    "categories": [
                      {
                        "name": ".af",
                        "count": 1
                      },
                      {
                        "name": ".ax",
                        "count": 1
                      },
                      {
                        "name": "3 others",
                        "count": 3
                      }
                    ]
                  }
                },
                {
                  "name": "_deepnote_index_column",
                  "dtype": "int64"
                }
              ],
              "rows": [
                {
                  "Country name[5]": "Afghanistan",
                  "Official state name[6][a]": "The Islamic Republic of Afghanistan",
                  "Sovereignty[6][7][8]": "UN member state",
                  "Alpha-2 code[5]": ".mw-parser-output .monospaced{font-family:monospace,monospace}AF",
                  "Alpha-3 code[5]": "AFG",
                  "Numeric code[5]": "004",
                  "Subdivision code links[3]": "ISO 3166-2:AF",
                  "Internet ccTLD[9]": ".af",
                  "_deepnote_index_column": 0
                },
                {
                  "Country name[5]": "Åland Islands",
                  "Official state name[6][a]": "Åland",
                  "Sovereignty[6][7][8]": "Finland",
                  "Alpha-2 code[5]": "AX",
                  "Alpha-3 code[5]": "ALA",
                  "Numeric code[5]": "248",
                  "Subdivision code links[3]": "ISO 3166-2:AX",
                  "Internet ccTLD[9]": ".ax",
                  "_deepnote_index_column": 1
                },
                {
                  "Country name[5]": "Albania",
                  "Official state name[6][a]": "The Republic of Albania",
                  "Sovereignty[6][7][8]": "UN member state",
                  "Alpha-2 code[5]": "AL",
                  "Alpha-3 code[5]": "ALB",
                  "Numeric code[5]": "008",
                  "Subdivision code links[3]": "ISO 3166-2:AL",
                  "Internet ccTLD[9]": ".al",
                  "_deepnote_index_column": 2
                },
                {
                  "Country name[5]": "Algeria",
                  "Official state name[6][a]": "The People's Democratic Republic of Algeria",
                  "Sovereignty[6][7][8]": "UN member state",
                  "Alpha-2 code[5]": "DZ",
                  "Alpha-3 code[5]": "DZA",
                  "Numeric code[5]": "012",
                  "Subdivision code links[3]": "ISO 3166-2:DZ",
                  "Internet ccTLD[9]": ".dz",
                  "_deepnote_index_column": 3
                },
                {
                  "Country name[5]": "American Samoa",
                  "Official state name[6][a]": "The Territory of American Samoa",
                  "Sovereignty[6][7][8]": "United States",
                  "Alpha-2 code[5]": "AS",
                  "Alpha-3 code[5]": "ASM",
                  "Numeric code[5]": "016",
                  "Subdivision code links[3]": "ISO 3166-2:AS",
                  "Internet ccTLD[9]": ".as",
                  "_deepnote_index_column": 4
                }
              ]
            },
            "text/plain": "  Country name[5]                    Official state name[6][a]  \\\n0     Afghanistan          The Islamic Republic of Afghanistan   \n1   Åland Islands                                        Åland   \n2         Albania                      The Republic of Albania   \n3         Algeria  The People's Democratic Republic of Algeria   \n4  American Samoa              The Territory of American Samoa   \n\n  Sovereignty[6][7][8]                                    Alpha-2 code[5]  \\\n0      UN member state  .mw-parser-output .monospaced{font-family:mono...   \n1              Finland                                                 AX   \n2      UN member state                                                 AL   \n3      UN member state                                                 DZ   \n4        United States                                                 AS   \n\n  Alpha-3 code[5] Numeric code[5] Subdivision code links[3] Internet ccTLD[9]  \n0             AFG             004             ISO 3166-2:AF               .af  \n1             ALA             248             ISO 3166-2:AX               .ax  \n2             ALB             008             ISO 3166-2:AL               .al  \n3             DZA             012             ISO 3166-2:DZ               .dz  \n4             ASM             016             ISO 3166-2:AS               .as  ",
            "text/html": "<div>\n<style scoped>\n    .dataframe tbody tr th:only-of-type {\n        vertical-align: middle;\n    }\n\n    .dataframe tbody tr th {\n        vertical-align: top;\n    }\n\n    .dataframe thead th {\n        text-align: right;\n    }\n</style>\n<table border=\"1\" class=\"dataframe\">\n  <thead>\n    <tr style=\"text-align: right;\">\n      <th></th>\n      <th>Country name[5]</th>\n      <th>Official state name[6][a]</th>\n      <th>Sovereignty[6][7][8]</th>\n      <th>Alpha-2 code[5]</th>\n      <th>Alpha-3 code[5]</th>\n      <th>Numeric code[5]</th>\n      <th>Subdivision code links[3]</th>\n      <th>Internet ccTLD[9]</th>\n    </tr>\n  </thead>\n  <tbody>\n    <tr>\n      <th>0</th>\n      <td>Afghanistan</td>\n      <td>The Islamic Republic of Afghanistan</td>\n      <td>UN member state</td>\n      <td>.mw-parser-output .monospaced{font-family:mono...</td>\n      <td>AFG</td>\n      <td>004</td>\n      <td>ISO 3166-2:AF</td>\n      <td>.af</td>\n    </tr>\n    <tr>\n      <th>1</th>\n      <td>Åland Islands</td>\n      <td>Åland</td>\n      <td>Finland</td>\n      <td>AX</td>\n      <td>ALA</td>\n      <td>248</td>\n      <td>ISO 3166-2:AX</td>\n      <td>.ax</td>\n    </tr>\n    <tr>\n      <th>2</th>\n      <td>Albania</td>\n      <td>The Republic of Albania</td>\n      <td>UN member state</td>\n      <td>AL</td>\n      <td>ALB</td>\n      <td>008</td>\n      <td>ISO 3166-2:AL</td>\n      <td>.al</td>\n    </tr>\n    <tr>\n      <th>3</th>\n      <td>Algeria</td>\n      <td>The People's Democratic Republic of Algeria</td>\n      <td>UN member state</td>\n      <td>DZ</td>\n      <td>DZA</td>\n      <td>012</td>\n      <td>ISO 3166-2:DZ</td>\n      <td>.dz</td>\n    </tr>\n    <tr>\n      <th>4</th>\n      <td>American Samoa</td>\n      <td>The Territory of American Samoa</td>\n      <td>United States</td>\n      <td>AS</td>\n      <td>ASM</td>\n      <td>016</td>\n      <td>ISO 3166-2:AS</td>\n      <td>.as</td>\n    </tr>\n  </tbody>\n</table>\n</div>"
          },
          "metadata": {}
        }
      ],
      "execution_count": null,
      "block_group": "1b6a290283d54caa9b206b9bd369ed6e"
    },
    {
      "cell_type": "markdown",
      "source": "## Second, let's correct column names",
      "metadata": {
        "cell_id": "903d6854baf445c8a526a21c533bf07d",
        "slideshow": {
          "slide_type": "subslide"
        },
        "user_expressions": [],
        "deepnote_cell_type": "markdown"
      },
      "block_group": "903d6854baf445c8a526a21c533bf07d"
    },
    {
      "cell_type": "code",
      "source": "mycols = isocodes.columns\nmycols = [c[:c.find('[')] for c in mycols]\nmycols",
      "metadata": {
        "cell_id": "1c709d4f19d44a30ba903c557b16818a",
        "slideshow": {
          "slide_type": "fragment"
        },
        "source_hash": null,
        "execution_start": 1691509092042,
        "execution_millis": 322,
        "deepnote_to_be_reexecuted": false,
        "deepnote_cell_type": "code"
      },
      "outputs": [
        {
          "output_type": "execute_result",
          "execution_count": 6,
          "data": {
            "text/plain": "['Country name',\n 'Official state name',\n 'Sovereignty',\n 'Alpha-2 code',\n 'Alpha-3 code',\n 'Numeric code',\n 'Subdivision code links',\n 'Internet ccTLD']"
          },
          "metadata": {}
        }
      ],
      "execution_count": null,
      "block_group": "1c709d4f19d44a30ba903c557b16818a"
    },
    {
      "cell_type": "code",
      "source": "isocodes.columns = mycols\nisocodes.head()",
      "metadata": {
        "cell_id": "00779e83bab24b2aa8b1c423142943f8",
        "slideshow": {
          "slide_type": "subslide"
        },
        "source_hash": null,
        "execution_start": 1691509092044,
        "execution_millis": 428,
        "deepnote_to_be_reexecuted": false,
        "deepnote_cell_type": "code"
      },
      "outputs": [
        {
          "output_type": "execute_result",
          "execution_count": 7,
          "data": {
            "application/vnd.deepnote.dataframe.v3+json": {
              "column_count": 8,
              "row_count": 5,
              "columns": [
                {
                  "name": "Country name",
                  "dtype": "object",
                  "stats": {
                    "unique_count": 5,
                    "nan_count": 0,
                    "categories": [
                      {
                        "name": "Afghanistan",
                        "count": 1
                      },
                      {
                        "name": "Åland Islands",
                        "count": 1
                      },
                      {
                        "name": "3 others",
                        "count": 3
                      }
                    ]
                  }
                },
                {
                  "name": "Official state name",
                  "dtype": "object",
                  "stats": {
                    "unique_count": 5,
                    "nan_count": 0,
                    "categories": [
                      {
                        "name": "The Islamic Republic of Afghanistan",
                        "count": 1
                      },
                      {
                        "name": "Åland",
                        "count": 1
                      },
                      {
                        "name": "3 others",
                        "count": 3
                      }
                    ]
                  }
                },
                {
                  "name": "Sovereignty",
                  "dtype": "object",
                  "stats": {
                    "unique_count": 3,
                    "nan_count": 0,
                    "categories": [
                      {
                        "name": "UN member state",
                        "count": 3
                      },
                      {
                        "name": "Finland",
                        "count": 1
                      },
                      {
                        "name": "United States",
                        "count": 1
                      }
                    ]
                  }
                },
                {
                  "name": "Alpha-2 code",
                  "dtype": "object",
                  "stats": {
                    "unique_count": 5,
                    "nan_count": 0,
                    "categories": [
                      {
                        "name": ".mw-parser-output .monospaced{font-family:monospace,monospace}AF",
                        "count": 1
                      },
                      {
                        "name": "AX",
                        "count": 1
                      },
                      {
                        "name": "3 others",
                        "count": 3
                      }
                    ]
                  }
                },
                {
                  "name": "Alpha-3 code",
                  "dtype": "object",
                  "stats": {
                    "unique_count": 5,
                    "nan_count": 0,
                    "categories": [
                      {
                        "name": "AFG",
                        "count": 1
                      },
                      {
                        "name": "ALA",
                        "count": 1
                      },
                      {
                        "name": "3 others",
                        "count": 3
                      }
                    ]
                  }
                },
                {
                  "name": "Numeric code",
                  "dtype": "object",
                  "stats": {
                    "unique_count": 5,
                    "nan_count": 0,
                    "categories": [
                      {
                        "name": "004",
                        "count": 1
                      },
                      {
                        "name": "248",
                        "count": 1
                      },
                      {
                        "name": "3 others",
                        "count": 3
                      }
                    ]
                  }
                },
                {
                  "name": "Subdivision code links",
                  "dtype": "object",
                  "stats": {
                    "unique_count": 5,
                    "nan_count": 0,
                    "categories": [
                      {
                        "name": "ISO 3166-2:AF",
                        "count": 1
                      },
                      {
                        "name": "ISO 3166-2:AX",
                        "count": 1
                      },
                      {
                        "name": "3 others",
                        "count": 3
                      }
                    ]
                  }
                },
                {
                  "name": "Internet ccTLD",
                  "dtype": "object",
                  "stats": {
                    "unique_count": 5,
                    "nan_count": 0,
                    "categories": [
                      {
                        "name": ".af",
                        "count": 1
                      },
                      {
                        "name": ".ax",
                        "count": 1
                      },
                      {
                        "name": "3 others",
                        "count": 3
                      }
                    ]
                  }
                },
                {
                  "name": "_deepnote_index_column",
                  "dtype": "int64"
                }
              ],
              "rows": [
                {
                  "Country name": "Afghanistan",
                  "Official state name": "The Islamic Republic of Afghanistan",
                  "Sovereignty": "UN member state",
                  "Alpha-2 code": ".mw-parser-output .monospaced{font-family:monospace,monospace}AF",
                  "Alpha-3 code": "AFG",
                  "Numeric code": "004",
                  "Subdivision code links": "ISO 3166-2:AF",
                  "Internet ccTLD": ".af",
                  "_deepnote_index_column": 0
                },
                {
                  "Country name": "Åland Islands",
                  "Official state name": "Åland",
                  "Sovereignty": "Finland",
                  "Alpha-2 code": "AX",
                  "Alpha-3 code": "ALA",
                  "Numeric code": "248",
                  "Subdivision code links": "ISO 3166-2:AX",
                  "Internet ccTLD": ".ax",
                  "_deepnote_index_column": 1
                },
                {
                  "Country name": "Albania",
                  "Official state name": "The Republic of Albania",
                  "Sovereignty": "UN member state",
                  "Alpha-2 code": "AL",
                  "Alpha-3 code": "ALB",
                  "Numeric code": "008",
                  "Subdivision code links": "ISO 3166-2:AL",
                  "Internet ccTLD": ".al",
                  "_deepnote_index_column": 2
                },
                {
                  "Country name": "Algeria",
                  "Official state name": "The People's Democratic Republic of Algeria",
                  "Sovereignty": "UN member state",
                  "Alpha-2 code": "DZ",
                  "Alpha-3 code": "DZA",
                  "Numeric code": "012",
                  "Subdivision code links": "ISO 3166-2:DZ",
                  "Internet ccTLD": ".dz",
                  "_deepnote_index_column": 3
                },
                {
                  "Country name": "American Samoa",
                  "Official state name": "The Territory of American Samoa",
                  "Sovereignty": "United States",
                  "Alpha-2 code": "AS",
                  "Alpha-3 code": "ASM",
                  "Numeric code": "016",
                  "Subdivision code links": "ISO 3166-2:AS",
                  "Internet ccTLD": ".as",
                  "_deepnote_index_column": 4
                }
              ]
            },
            "text/plain": "     Country name                          Official state name  \\\n0     Afghanistan          The Islamic Republic of Afghanistan   \n1   Åland Islands                                        Åland   \n2         Albania                      The Republic of Albania   \n3         Algeria  The People's Democratic Republic of Algeria   \n4  American Samoa              The Territory of American Samoa   \n\n       Sovereignty                                       Alpha-2 code  \\\n0  UN member state  .mw-parser-output .monospaced{font-family:mono...   \n1          Finland                                                 AX   \n2  UN member state                                                 AL   \n3  UN member state                                                 DZ   \n4    United States                                                 AS   \n\n  Alpha-3 code Numeric code Subdivision code links Internet ccTLD  \n0          AFG          004          ISO 3166-2:AF            .af  \n1          ALA          248          ISO 3166-2:AX            .ax  \n2          ALB          008          ISO 3166-2:AL            .al  \n3          DZA          012          ISO 3166-2:DZ            .dz  \n4          ASM          016          ISO 3166-2:AS            .as  ",
            "text/html": "<div>\n<style scoped>\n    .dataframe tbody tr th:only-of-type {\n        vertical-align: middle;\n    }\n\n    .dataframe tbody tr th {\n        vertical-align: top;\n    }\n\n    .dataframe thead th {\n        text-align: right;\n    }\n</style>\n<table border=\"1\" class=\"dataframe\">\n  <thead>\n    <tr style=\"text-align: right;\">\n      <th></th>\n      <th>Country name</th>\n      <th>Official state name</th>\n      <th>Sovereignty</th>\n      <th>Alpha-2 code</th>\n      <th>Alpha-3 code</th>\n      <th>Numeric code</th>\n      <th>Subdivision code links</th>\n      <th>Internet ccTLD</th>\n    </tr>\n  </thead>\n  <tbody>\n    <tr>\n      <th>0</th>\n      <td>Afghanistan</td>\n      <td>The Islamic Republic of Afghanistan</td>\n      <td>UN member state</td>\n      <td>.mw-parser-output .monospaced{font-family:mono...</td>\n      <td>AFG</td>\n      <td>004</td>\n      <td>ISO 3166-2:AF</td>\n      <td>.af</td>\n    </tr>\n    <tr>\n      <th>1</th>\n      <td>Åland Islands</td>\n      <td>Åland</td>\n      <td>Finland</td>\n      <td>AX</td>\n      <td>ALA</td>\n      <td>248</td>\n      <td>ISO 3166-2:AX</td>\n      <td>.ax</td>\n    </tr>\n    <tr>\n      <th>2</th>\n      <td>Albania</td>\n      <td>The Republic of Albania</td>\n      <td>UN member state</td>\n      <td>AL</td>\n      <td>ALB</td>\n      <td>008</td>\n      <td>ISO 3166-2:AL</td>\n      <td>.al</td>\n    </tr>\n    <tr>\n      <th>3</th>\n      <td>Algeria</td>\n      <td>The People's Democratic Republic of Algeria</td>\n      <td>UN member state</td>\n      <td>DZ</td>\n      <td>DZA</td>\n      <td>012</td>\n      <td>ISO 3166-2:DZ</td>\n      <td>.dz</td>\n    </tr>\n    <tr>\n      <th>4</th>\n      <td>American Samoa</td>\n      <td>The Territory of American Samoa</td>\n      <td>United States</td>\n      <td>AS</td>\n      <td>ASM</td>\n      <td>016</td>\n      <td>ISO 3166-2:AS</td>\n      <td>.as</td>\n    </tr>\n  </tbody>\n</table>\n</div>"
          },
          "metadata": {}
        }
      ],
      "execution_count": null,
      "block_group": "00779e83bab24b2aa8b1c423142943f8"
    },
    {
      "cell_type": "markdown",
      "source": "## Third, let's correct `Alpha-2 code` using `Subdivision code links`",
      "metadata": {
        "cell_id": "a0551d1dc70e432b86a6458b0518b0c8",
        "slideshow": {
          "slide_type": "subslide"
        },
        "user_expressions": [],
        "deepnote_cell_type": "markdown"
      },
      "block_group": "a0551d1dc70e432b86a6458b0518b0c8"
    },
    {
      "cell_type": "code",
      "source": "isocodes['Alpha-2 code original'] = isocodes['Alpha-2 code']\nisocodes['Alpha-2 code'] = isocodes['Subdivision code links'].apply(lambda x: x[x.find(':')+1:])\nisocodes.head()",
      "metadata": {
        "cell_id": "91c5e68f1efe4e3faa015c4a2276d5a0",
        "slideshow": {
          "slide_type": "fragment"
        },
        "source_hash": null,
        "execution_start": 1691509092132,
        "execution_millis": 312,
        "deepnote_to_be_reexecuted": false,
        "deepnote_cell_type": "code"
      },
      "outputs": [
        {
          "output_type": "execute_result",
          "execution_count": 8,
          "data": {
            "application/vnd.deepnote.dataframe.v3+json": {
              "column_count": 9,
              "row_count": 5,
              "columns": [
                {
                  "name": "Country name",
                  "dtype": "object",
                  "stats": {
                    "unique_count": 5,
                    "nan_count": 0,
                    "categories": [
                      {
                        "name": "Afghanistan",
                        "count": 1
                      },
                      {
                        "name": "Åland Islands",
                        "count": 1
                      },
                      {
                        "name": "3 others",
                        "count": 3
                      }
                    ]
                  }
                },
                {
                  "name": "Official state name",
                  "dtype": "object",
                  "stats": {
                    "unique_count": 5,
                    "nan_count": 0,
                    "categories": [
                      {
                        "name": "The Islamic Republic of Afghanistan",
                        "count": 1
                      },
                      {
                        "name": "Åland",
                        "count": 1
                      },
                      {
                        "name": "3 others",
                        "count": 3
                      }
                    ]
                  }
                },
                {
                  "name": "Sovereignty",
                  "dtype": "object",
                  "stats": {
                    "unique_count": 3,
                    "nan_count": 0,
                    "categories": [
                      {
                        "name": "UN member state",
                        "count": 3
                      },
                      {
                        "name": "Finland",
                        "count": 1
                      },
                      {
                        "name": "United States",
                        "count": 1
                      }
                    ]
                  }
                },
                {
                  "name": "Alpha-2 code",
                  "dtype": "object",
                  "stats": {
                    "unique_count": 5,
                    "nan_count": 0,
                    "categories": [
                      {
                        "name": "AF",
                        "count": 1
                      },
                      {
                        "name": "AX",
                        "count": 1
                      },
                      {
                        "name": "3 others",
                        "count": 3
                      }
                    ]
                  }
                },
                {
                  "name": "Alpha-3 code",
                  "dtype": "object",
                  "stats": {
                    "unique_count": 5,
                    "nan_count": 0,
                    "categories": [
                      {
                        "name": "AFG",
                        "count": 1
                      },
                      {
                        "name": "ALA",
                        "count": 1
                      },
                      {
                        "name": "3 others",
                        "count": 3
                      }
                    ]
                  }
                },
                {
                  "name": "Numeric code",
                  "dtype": "object",
                  "stats": {
                    "unique_count": 5,
                    "nan_count": 0,
                    "categories": [
                      {
                        "name": "004",
                        "count": 1
                      },
                      {
                        "name": "248",
                        "count": 1
                      },
                      {
                        "name": "3 others",
                        "count": 3
                      }
                    ]
                  }
                },
                {
                  "name": "Subdivision code links",
                  "dtype": "object",
                  "stats": {
                    "unique_count": 5,
                    "nan_count": 0,
                    "categories": [
                      {
                        "name": "ISO 3166-2:AF",
                        "count": 1
                      },
                      {
                        "name": "ISO 3166-2:AX",
                        "count": 1
                      },
                      {
                        "name": "3 others",
                        "count": 3
                      }
                    ]
                  }
                },
                {
                  "name": "Internet ccTLD",
                  "dtype": "object",
                  "stats": {
                    "unique_count": 5,
                    "nan_count": 0,
                    "categories": [
                      {
                        "name": ".af",
                        "count": 1
                      },
                      {
                        "name": ".ax",
                        "count": 1
                      },
                      {
                        "name": "3 others",
                        "count": 3
                      }
                    ]
                  }
                },
                {
                  "name": "Alpha-2 code original",
                  "dtype": "object",
                  "stats": {
                    "unique_count": 5,
                    "nan_count": 0,
                    "categories": [
                      {
                        "name": ".mw-parser-output .monospaced{font-family:monospace,monospace}AF",
                        "count": 1
                      },
                      {
                        "name": "AX",
                        "count": 1
                      },
                      {
                        "name": "3 others",
                        "count": 3
                      }
                    ]
                  }
                },
                {
                  "name": "_deepnote_index_column",
                  "dtype": "int64"
                }
              ],
              "rows": [
                {
                  "Country name": "Afghanistan",
                  "Official state name": "The Islamic Republic of Afghanistan",
                  "Sovereignty": "UN member state",
                  "Alpha-2 code": "AF",
                  "Alpha-3 code": "AFG",
                  "Numeric code": "004",
                  "Subdivision code links": "ISO 3166-2:AF",
                  "Internet ccTLD": ".af",
                  "Alpha-2 code original": ".mw-parser-output .monospaced{font-family:monospace,monospace}AF",
                  "_deepnote_index_column": 0
                },
                {
                  "Country name": "Åland Islands",
                  "Official state name": "Åland",
                  "Sovereignty": "Finland",
                  "Alpha-2 code": "AX",
                  "Alpha-3 code": "ALA",
                  "Numeric code": "248",
                  "Subdivision code links": "ISO 3166-2:AX",
                  "Internet ccTLD": ".ax",
                  "Alpha-2 code original": "AX",
                  "_deepnote_index_column": 1
                },
                {
                  "Country name": "Albania",
                  "Official state name": "The Republic of Albania",
                  "Sovereignty": "UN member state",
                  "Alpha-2 code": "AL",
                  "Alpha-3 code": "ALB",
                  "Numeric code": "008",
                  "Subdivision code links": "ISO 3166-2:AL",
                  "Internet ccTLD": ".al",
                  "Alpha-2 code original": "AL",
                  "_deepnote_index_column": 2
                },
                {
                  "Country name": "Algeria",
                  "Official state name": "The People's Democratic Republic of Algeria",
                  "Sovereignty": "UN member state",
                  "Alpha-2 code": "DZ",
                  "Alpha-3 code": "DZA",
                  "Numeric code": "012",
                  "Subdivision code links": "ISO 3166-2:DZ",
                  "Internet ccTLD": ".dz",
                  "Alpha-2 code original": "DZ",
                  "_deepnote_index_column": 3
                },
                {
                  "Country name": "American Samoa",
                  "Official state name": "The Territory of American Samoa",
                  "Sovereignty": "United States",
                  "Alpha-2 code": "AS",
                  "Alpha-3 code": "ASM",
                  "Numeric code": "016",
                  "Subdivision code links": "ISO 3166-2:AS",
                  "Internet ccTLD": ".as",
                  "Alpha-2 code original": "AS",
                  "_deepnote_index_column": 4
                }
              ]
            },
            "text/plain": "     Country name                          Official state name  \\\n0     Afghanistan          The Islamic Republic of Afghanistan   \n1   Åland Islands                                        Åland   \n2         Albania                      The Republic of Albania   \n3         Algeria  The People's Democratic Republic of Algeria   \n4  American Samoa              The Territory of American Samoa   \n\n       Sovereignty Alpha-2 code Alpha-3 code Numeric code  \\\n0  UN member state           AF          AFG          004   \n1          Finland           AX          ALA          248   \n2  UN member state           AL          ALB          008   \n3  UN member state           DZ          DZA          012   \n4    United States           AS          ASM          016   \n\n  Subdivision code links Internet ccTLD  \\\n0          ISO 3166-2:AF            .af   \n1          ISO 3166-2:AX            .ax   \n2          ISO 3166-2:AL            .al   \n3          ISO 3166-2:DZ            .dz   \n4          ISO 3166-2:AS            .as   \n\n                               Alpha-2 code original  \n0  .mw-parser-output .monospaced{font-family:mono...  \n1                                                 AX  \n2                                                 AL  \n3                                                 DZ  \n4                                                 AS  ",
            "text/html": "<div>\n<style scoped>\n    .dataframe tbody tr th:only-of-type {\n        vertical-align: middle;\n    }\n\n    .dataframe tbody tr th {\n        vertical-align: top;\n    }\n\n    .dataframe thead th {\n        text-align: right;\n    }\n</style>\n<table border=\"1\" class=\"dataframe\">\n  <thead>\n    <tr style=\"text-align: right;\">\n      <th></th>\n      <th>Country name</th>\n      <th>Official state name</th>\n      <th>Sovereignty</th>\n      <th>Alpha-2 code</th>\n      <th>Alpha-3 code</th>\n      <th>Numeric code</th>\n      <th>Subdivision code links</th>\n      <th>Internet ccTLD</th>\n      <th>Alpha-2 code original</th>\n    </tr>\n  </thead>\n  <tbody>\n    <tr>\n      <th>0</th>\n      <td>Afghanistan</td>\n      <td>The Islamic Republic of Afghanistan</td>\n      <td>UN member state</td>\n      <td>AF</td>\n      <td>AFG</td>\n      <td>004</td>\n      <td>ISO 3166-2:AF</td>\n      <td>.af</td>\n      <td>.mw-parser-output .monospaced{font-family:mono...</td>\n    </tr>\n    <tr>\n      <th>1</th>\n      <td>Åland Islands</td>\n      <td>Åland</td>\n      <td>Finland</td>\n      <td>AX</td>\n      <td>ALA</td>\n      <td>248</td>\n      <td>ISO 3166-2:AX</td>\n      <td>.ax</td>\n      <td>AX</td>\n    </tr>\n    <tr>\n      <th>2</th>\n      <td>Albania</td>\n      <td>The Republic of Albania</td>\n      <td>UN member state</td>\n      <td>AL</td>\n      <td>ALB</td>\n      <td>008</td>\n      <td>ISO 3166-2:AL</td>\n      <td>.al</td>\n      <td>AL</td>\n    </tr>\n    <tr>\n      <th>3</th>\n      <td>Algeria</td>\n      <td>The People's Democratic Republic of Algeria</td>\n      <td>UN member state</td>\n      <td>DZ</td>\n      <td>DZA</td>\n      <td>012</td>\n      <td>ISO 3166-2:DZ</td>\n      <td>.dz</td>\n      <td>DZ</td>\n    </tr>\n    <tr>\n      <th>4</th>\n      <td>American Samoa</td>\n      <td>The Territory of American Samoa</td>\n      <td>United States</td>\n      <td>AS</td>\n      <td>ASM</td>\n      <td>016</td>\n      <td>ISO 3166-2:AS</td>\n      <td>.as</td>\n      <td>AS</td>\n    </tr>\n  </tbody>\n</table>\n</div>"
          },
          "metadata": {}
        }
      ],
      "execution_count": null,
      "block_group": "91c5e68f1efe4e3faa015c4a2276d5a0"
    },
    {
      "cell_type": "markdown",
      "source": "## Now, let's import the table of countries' GDP per capita (PPP) from [Wikipedia](https://en.wikipedia.org/wiki/List_of_countries_by_GDP_(PPP)_per_capita)",
      "metadata": {
        "cell_id": "ca8c444cc7c0464582368497ac8518a0",
        "slideshow": {
          "slide_type": "subslide"
        },
        "user_expressions": [],
        "deepnote_cell_type": "markdown"
      },
      "block_group": "ca8c444cc7c0464582368497ac8518a0"
    },
    {
      "cell_type": "code",
      "source": "url = 'https://en.wikipedia.org/wiki/List_of_countries_by_GDP_(PPP)_per_capita'\nIFrame(url, width=800, height=400)",
      "metadata": {
        "cell_id": "eb26ce957718476a897f289a93f3870e",
        "slideshow": {
          "slide_type": "subslide"
        },
        "source_hash": null,
        "execution_start": 1691509092137,
        "execution_millis": 81,
        "deepnote_to_be_reexecuted": false,
        "deepnote_cell_type": "code"
      },
      "outputs": [
        {
          "output_type": "execute_result",
          "execution_count": 9,
          "data": {
            "text/plain": "<IPython.lib.display.IFrame at 0x7f379115aa10>",
            "text/html": "\n        <iframe\n            width=\"800\"\n            height=\"400\"\n            src=\"https://en.wikipedia.org/wiki/List_of_countries_by_GDP_(PPP)_per_capita\"\n            frameborder=\"0\"\n            allowfullscreen\n            \n        ></iframe>\n        "
          },
          "metadata": {}
        }
      ],
      "execution_count": null,
      "block_group": "eb26ce957718476a897f289a93f3870e"
    },
    {
      "cell_type": "code",
      "source": "gdppc_wiki = pd.read_html(url, encoding='utf-8')[1]\ngdppc_wiki",
      "metadata": {
        "cell_id": "75195c5233c6480fb885bcc143df23d7",
        "slideshow": {
          "slide_type": "subslide"
        },
        "source_hash": null,
        "execution_start": 1691509092161,
        "execution_millis": 850,
        "deepnote_to_be_reexecuted": false,
        "deepnote_cell_type": "code"
      },
      "outputs": [
        {
          "output_type": "execute_result",
          "execution_count": 10,
          "data": {
            "application/vnd.deepnote.dataframe.v3+json": {
              "column_count": 8,
              "row_count": 230,
              "columns": [
                {
                  "name": "Country/Territory Country/Territory",
                  "dtype": "object",
                  "stats": {
                    "unique_count": 230,
                    "nan_count": 0,
                    "categories": [
                      {
                        "name": "Ireland *",
                        "count": 1
                      },
                      {
                        "name": "Luxembourg *",
                        "count": 1
                      },
                      {
                        "name": "228 others",
                        "count": 228
                      }
                    ]
                  }
                },
                {
                  "name": "UN Region UN Region",
                  "dtype": "object",
                  "stats": {
                    "unique_count": 6,
                    "nan_count": 0,
                    "categories": [
                      {
                        "name": "Africa",
                        "count": 55
                      },
                      {
                        "name": "Asia",
                        "count": 51
                      },
                      {
                        "name": "4 others",
                        "count": 124
                      }
                    ]
                  }
                },
                {
                  "name": "IMF[5][6] Estimate",
                  "dtype": "object",
                  "stats": {
                    "unique_count": 199,
                    "nan_count": 0,
                    "categories": [
                      {
                        "name": "—",
                        "count": 32
                      },
                      {
                        "name": "145196",
                        "count": 1
                      },
                      {
                        "name": "197 others",
                        "count": 197
                      }
                    ]
                  }
                },
                {
                  "name": "IMF[5][6] Year",
                  "dtype": "object",
                  "stats": {
                    "unique_count": 12,
                    "nan_count": 0,
                    "categories": [
                      {
                        "name": "2023",
                        "count": 187
                      },
                      {
                        "name": "—",
                        "count": 32
                      },
                      {
                        "name": "10 others",
                        "count": 11
                      }
                    ]
                  }
                },
                {
                  "name": "World Bank[7] Estimate",
                  "dtype": "object",
                  "stats": {
                    "unique_count": 201,
                    "nan_count": 0,
                    "categories": [
                      {
                        "name": "—",
                        "count": 30
                      },
                      {
                        "name": "126905",
                        "count": 1
                      },
                      {
                        "name": "199 others",
                        "count": 199
                      }
                    ]
                  }
                },
                {
                  "name": "World Bank[7] Year",
                  "dtype": "object",
                  "stats": {
                    "unique_count": 15,
                    "nan_count": 0,
                    "categories": [
                      {
                        "name": "2022",
                        "count": 179
                      },
                      {
                        "name": "—",
                        "count": 30
                      },
                      {
                        "name": "13 others",
                        "count": 21
                      }
                    ]
                  }
                },
                {
                  "name": "CIA[8][9][10] Estimate",
                  "dtype": "int64",
                  "stats": {
                    "unique_count": 178,
                    "nan_count": 0,
                    "min": "700",
                    "max": "139100",
                    "histogram": [
                      {
                        "bin_start": 700,
                        "bin_end": 14540,
                        "count": 118
                      },
                      {
                        "bin_start": 14540,
                        "bin_end": 28380,
                        "count": 37
                      },
                      {
                        "bin_start": 28380,
                        "bin_end": 42220,
                        "count": 32
                      },
                      {
                        "bin_start": 42220,
                        "bin_end": 56060,
                        "count": 21
                      },
                      {
                        "bin_start": 56060,
                        "bin_end": 69900,
                        "count": 12
                      },
                      {
                        "bin_start": 69900,
                        "bin_end": 83740,
                        "count": 3
                      },
                      {
                        "bin_start": 83740,
                        "bin_end": 97580,
                        "count": 2
                      },
                      {
                        "bin_start": 97580,
                        "bin_end": 111420,
                        "count": 2
                      },
                      {
                        "bin_start": 111420,
                        "bin_end": 125260,
                        "count": 2
                      },
                      {
                        "bin_start": 125260,
                        "bin_end": 139100,
                        "count": 1
                      }
                    ]
                  }
                },
                {
                  "name": "CIA[8][9][10] Year",
                  "dtype": "object",
                  "stats": {
                    "unique_count": 26,
                    "nan_count": 0,
                    "categories": [
                      {
                        "name": "2021",
                        "count": 174
                      },
                      {
                        "name": "2015",
                        "count": 8
                      },
                      {
                        "name": "24 others",
                        "count": 48
                      }
                    ]
                  }
                },
                {
                  "name": "_deepnote_index_column",
                  "dtype": "int64"
                }
              ],
              "rows": [
                {
                  "Country/Territory Country/Territory": "Ireland *",
                  "UN Region UN Region": "Europe",
                  "IMF[5][6] Estimate": "145196",
                  "IMF[5][6] Year": "2023",
                  "World Bank[7] Estimate": "126905",
                  "World Bank[7] Year": "2022",
                  "CIA[8][9][10] Estimate": 102500,
                  "CIA[8][9][10] Year": "2021",
                  "_deepnote_index_column": 0
                },
                {
                  "Country/Territory Country/Territory": "Luxembourg *",
                  "UN Region UN Region": "Europe",
                  "IMF[5][6] Estimate": "142490",
                  "IMF[5][6] Year": "2023",
                  "World Bank[7] Estimate": "142214",
                  "World Bank[7] Year": "2022",
                  "CIA[8][9][10] Estimate": 115700,
                  "CIA[8][9][10] Year": "2021",
                  "_deepnote_index_column": 1
                },
                {
                  "Country/Territory Country/Territory": "Liechtenstein *",
                  "UN Region UN Region": "Europe",
                  "IMF[5][6] Estimate": "—",
                  "IMF[5][6] Year": "—",
                  "World Bank[7] Estimate": "—",
                  "World Bank[7] Year": "—",
                  "CIA[8][9][10] Estimate": 139100,
                  "CIA[8][9][10] Year": "2009",
                  "_deepnote_index_column": 2
                },
                {
                  "Country/Territory Country/Territory": "Singapore *",
                  "UN Region UN Region": "Asia",
                  "IMF[5][6] Estimate": "133895",
                  "IMF[5][6] Year": "2023",
                  "World Bank[7] Estimate": "127565",
                  "World Bank[7] Year": "2022",
                  "CIA[8][9][10] Estimate": 106000,
                  "CIA[8][9][10] Year": "2021",
                  "_deepnote_index_column": 3
                },
                {
                  "Country/Territory Country/Territory": "Qatar *",
                  "UN Region UN Region": "Asia",
                  "IMF[5][6] Estimate": "124834",
                  "IMF[5][6] Year": "2023",
                  "World Bank[7] Estimate": "114648",
                  "World Bank[7] Year": "2022",
                  "CIA[8][9][10] Estimate": 92200,
                  "CIA[8][9][10] Year": "2021",
                  "_deepnote_index_column": 4
                },
                {
                  "Country/Territory Country/Territory": "Monaco *",
                  "UN Region UN Region": "Europe",
                  "IMF[5][6] Estimate": "—",
                  "IMF[5][6] Year": "—",
                  "World Bank[7] Estimate": "—",
                  "World Bank[7] Year": "—",
                  "CIA[8][9][10] Estimate": 115700,
                  "CIA[8][9][10] Year": "2015",
                  "_deepnote_index_column": 5
                },
                {
                  "Country/Territory Country/Territory": "Macau *",
                  "UN Region UN Region": "Asia",
                  "IMF[5][6] Estimate": "89558",
                  "IMF[5][6] Year": "2023",
                  "World Bank[7] Estimate": "55344",
                  "World Bank[7] Year": "2022",
                  "CIA[8][9][10] Estimate": 64800,
                  "CIA[8][9][10] Year": "2021",
                  "_deepnote_index_column": 6
                },
                {
                  "Country/Territory Country/Territory": "United Arab Emirates *",
                  "UN Region UN Region": "Asia",
                  "IMF[5][6] Estimate": "88221",
                  "IMF[5][6] Year": "2023",
                  "World Bank[7] Estimate": "87729",
                  "World Bank[7] Year": "2022",
                  "CIA[8][9][10] Estimate": 69700,
                  "CIA[8][9][10] Year": "2021",
                  "_deepnote_index_column": 7
                },
                {
                  "Country/Territory Country/Territory": "Bermuda *",
                  "UN Region UN Region": "Americas",
                  "IMF[5][6] Estimate": "—",
                  "IMF[5][6] Year": "—",
                  "World Bank[7] Estimate": "95837",
                  "World Bank[7] Year": "2022",
                  "CIA[8][9][10] Estimate": 80300,
                  "CIA[8][9][10] Year": "2021",
                  "_deepnote_index_column": 8
                },
                {
                  "Country/Territory Country/Territory": "Switzerland *",
                  "UN Region UN Region": "Europe",
                  "IMF[5][6] Estimate": "87963",
                  "IMF[5][6] Year": "2023",
                  "World Bank[7] Estimate": "83598",
                  "World Bank[7] Year": "2022",
                  "CIA[8][9][10] Estimate": 71000,
                  "CIA[8][9][10] Year": "2021",
                  "_deepnote_index_column": 9
                }
              ]
            },
            "text/plain": "              Country/Territory UN Region IMF[5][6]       World Bank[7]        \\\n              Country/Territory UN Region  Estimate  Year      Estimate  Year   \n0                     Ireland *    Europe    145196  2023        126905  2022   \n1                  Luxembourg *    Europe    142490  2023        142214  2022   \n2               Liechtenstein *    Europe         —     —             —     —   \n3                   Singapore *      Asia    133895  2023        127565  2022   \n4                       Qatar *      Asia    124834  2023        114648  2022   \n..                          ...       ...       ...   ...           ...   ...   \n225                  DR Congo *    Africa      1474  2023          1337  2022   \n226                   Somalia *    Africa      1374  2023          1364  2022   \n227  Central African Republic *    Africa      1127  2023           967  2022   \n228                   Burundi *    Africa       891  2023           836  2022   \n229               South Sudan *    Africa       516  2023          1182  2015   \n\n    CIA[8][9][10]        \n         Estimate  Year  \n0          102500  2021  \n1          115700  2021  \n2          139100  2009  \n3          106000  2021  \n4           92200  2021  \n..            ...   ...  \n225          1100  2021  \n226          1100  2021  \n227           800  2021  \n228           700  2021  \n229          1600  2017  \n\n[230 rows x 8 columns]",
            "text/html": "<div>\n<style scoped>\n    .dataframe tbody tr th:only-of-type {\n        vertical-align: middle;\n    }\n\n    .dataframe tbody tr th {\n        vertical-align: top;\n    }\n\n    .dataframe thead tr th {\n        text-align: left;\n    }\n</style>\n<table border=\"1\" class=\"dataframe\">\n  <thead>\n    <tr>\n      <th></th>\n      <th>Country/Territory</th>\n      <th>UN Region</th>\n      <th colspan=\"2\" halign=\"left\">IMF[5][6]</th>\n      <th colspan=\"2\" halign=\"left\">World Bank[7]</th>\n      <th colspan=\"2\" halign=\"left\">CIA[8][9][10]</th>\n    </tr>\n    <tr>\n      <th></th>\n      <th>Country/Territory</th>\n      <th>UN Region</th>\n      <th>Estimate</th>\n      <th>Year</th>\n      <th>Estimate</th>\n      <th>Year</th>\n      <th>Estimate</th>\n      <th>Year</th>\n    </tr>\n  </thead>\n  <tbody>\n    <tr>\n      <th>0</th>\n      <td>Ireland *</td>\n      <td>Europe</td>\n      <td>145196</td>\n      <td>2023</td>\n      <td>126905</td>\n      <td>2022</td>\n      <td>102500</td>\n      <td>2021</td>\n    </tr>\n    <tr>\n      <th>1</th>\n      <td>Luxembourg *</td>\n      <td>Europe</td>\n      <td>142490</td>\n      <td>2023</td>\n      <td>142214</td>\n      <td>2022</td>\n      <td>115700</td>\n      <td>2021</td>\n    </tr>\n    <tr>\n      <th>2</th>\n      <td>Liechtenstein *</td>\n      <td>Europe</td>\n      <td>—</td>\n      <td>—</td>\n      <td>—</td>\n      <td>—</td>\n      <td>139100</td>\n      <td>2009</td>\n    </tr>\n    <tr>\n      <th>3</th>\n      <td>Singapore *</td>\n      <td>Asia</td>\n      <td>133895</td>\n      <td>2023</td>\n      <td>127565</td>\n      <td>2022</td>\n      <td>106000</td>\n      <td>2021</td>\n    </tr>\n    <tr>\n      <th>4</th>\n      <td>Qatar *</td>\n      <td>Asia</td>\n      <td>124834</td>\n      <td>2023</td>\n      <td>114648</td>\n      <td>2022</td>\n      <td>92200</td>\n      <td>2021</td>\n    </tr>\n    <tr>\n      <th>...</th>\n      <td>...</td>\n      <td>...</td>\n      <td>...</td>\n      <td>...</td>\n      <td>...</td>\n      <td>...</td>\n      <td>...</td>\n      <td>...</td>\n    </tr>\n    <tr>\n      <th>225</th>\n      <td>DR Congo *</td>\n      <td>Africa</td>\n      <td>1474</td>\n      <td>2023</td>\n      <td>1337</td>\n      <td>2022</td>\n      <td>1100</td>\n      <td>2021</td>\n    </tr>\n    <tr>\n      <th>226</th>\n      <td>Somalia *</td>\n      <td>Africa</td>\n      <td>1374</td>\n      <td>2023</td>\n      <td>1364</td>\n      <td>2022</td>\n      <td>1100</td>\n      <td>2021</td>\n    </tr>\n    <tr>\n      <th>227</th>\n      <td>Central African Republic *</td>\n      <td>Africa</td>\n      <td>1127</td>\n      <td>2023</td>\n      <td>967</td>\n      <td>2022</td>\n      <td>800</td>\n      <td>2021</td>\n    </tr>\n    <tr>\n      <th>228</th>\n      <td>Burundi *</td>\n      <td>Africa</td>\n      <td>891</td>\n      <td>2023</td>\n      <td>836</td>\n      <td>2022</td>\n      <td>700</td>\n      <td>2021</td>\n    </tr>\n    <tr>\n      <th>229</th>\n      <td>South Sudan *</td>\n      <td>Africa</td>\n      <td>516</td>\n      <td>2023</td>\n      <td>1182</td>\n      <td>2015</td>\n      <td>1600</td>\n      <td>2017</td>\n    </tr>\n  </tbody>\n</table>\n<p>230 rows × 8 columns</p>\n</div>"
          },
          "metadata": {}
        }
      ],
      "execution_count": null,
      "block_group": "75195c5233c6480fb885bcc143df23d7"
    },
    {
      "cell_type": "markdown",
      "source": "## Again we need to clean the data a little bit",
      "metadata": {
        "tags": [],
        "cell_id": "a067028d06734c799f6b11ba568dd564",
        "slideshow": {
          "slide_type": "subslide"
        },
        "user_expressions": [],
        "deepnote_cell_type": "markdown"
      },
      "block_group": "a067028d06734c799f6b11ba568dd564"
    },
    {
      "cell_type": "code",
      "source": "gdppc_wiki.columns = ['Country/Territory', 'UN Region', 'gdppc_IMF', 'year_IMF',\n                      'gdppc_WB', 'year_WB', 'gdppc_CIA', 'year_CIA']\ngdppc_wiki.head()",
      "metadata": {
        "cell_id": "4339b7fb819d47b78ad0c2de1e7f4b90",
        "slideshow": {
          "slide_type": "fragment"
        },
        "source_hash": null,
        "execution_start": 1691509092596,
        "execution_millis": 106,
        "deepnote_to_be_reexecuted": false,
        "deepnote_cell_type": "code"
      },
      "outputs": [
        {
          "output_type": "execute_result",
          "execution_count": 11,
          "data": {
            "application/vnd.deepnote.dataframe.v3+json": {
              "column_count": 8,
              "row_count": 5,
              "columns": [
                {
                  "name": "Country/Territory",
                  "dtype": "object",
                  "stats": {
                    "unique_count": 5,
                    "nan_count": 0,
                    "categories": [
                      {
                        "name": "Ireland *",
                        "count": 1
                      },
                      {
                        "name": "Luxembourg *",
                        "count": 1
                      },
                      {
                        "name": "3 others",
                        "count": 3
                      }
                    ]
                  }
                },
                {
                  "name": "UN Region",
                  "dtype": "object",
                  "stats": {
                    "unique_count": 2,
                    "nan_count": 0,
                    "categories": [
                      {
                        "name": "Europe",
                        "count": 3
                      },
                      {
                        "name": "Asia",
                        "count": 2
                      }
                    ]
                  }
                },
                {
                  "name": "gdppc_IMF",
                  "dtype": "object",
                  "stats": {
                    "unique_count": 5,
                    "nan_count": 0,
                    "categories": [
                      {
                        "name": "145196",
                        "count": 1
                      },
                      {
                        "name": "142490",
                        "count": 1
                      },
                      {
                        "name": "3 others",
                        "count": 3
                      }
                    ]
                  }
                },
                {
                  "name": "year_IMF",
                  "dtype": "object",
                  "stats": {
                    "unique_count": 2,
                    "nan_count": 0,
                    "categories": [
                      {
                        "name": "2023",
                        "count": 4
                      },
                      {
                        "name": "—",
                        "count": 1
                      }
                    ]
                  }
                },
                {
                  "name": "gdppc_WB",
                  "dtype": "object",
                  "stats": {
                    "unique_count": 5,
                    "nan_count": 0,
                    "categories": [
                      {
                        "name": "126905",
                        "count": 1
                      },
                      {
                        "name": "142214",
                        "count": 1
                      },
                      {
                        "name": "3 others",
                        "count": 3
                      }
                    ]
                  }
                },
                {
                  "name": "year_WB",
                  "dtype": "object",
                  "stats": {
                    "unique_count": 2,
                    "nan_count": 0,
                    "categories": [
                      {
                        "name": "2022",
                        "count": 4
                      },
                      {
                        "name": "—",
                        "count": 1
                      }
                    ]
                  }
                },
                {
                  "name": "gdppc_CIA",
                  "dtype": "int64",
                  "stats": {
                    "unique_count": 5,
                    "nan_count": 0,
                    "min": "92200",
                    "max": "139100",
                    "histogram": [
                      {
                        "bin_start": 92200,
                        "bin_end": 96890,
                        "count": 1
                      },
                      {
                        "bin_start": 96890,
                        "bin_end": 101580,
                        "count": 0
                      },
                      {
                        "bin_start": 101580,
                        "bin_end": 106270,
                        "count": 2
                      },
                      {
                        "bin_start": 106270,
                        "bin_end": 110960,
                        "count": 0
                      },
                      {
                        "bin_start": 110960,
                        "bin_end": 115650,
                        "count": 0
                      },
                      {
                        "bin_start": 115650,
                        "bin_end": 120340,
                        "count": 1
                      },
                      {
                        "bin_start": 120340,
                        "bin_end": 125030,
                        "count": 0
                      },
                      {
                        "bin_start": 125030,
                        "bin_end": 129720,
                        "count": 0
                      },
                      {
                        "bin_start": 129720,
                        "bin_end": 134410,
                        "count": 0
                      },
                      {
                        "bin_start": 134410,
                        "bin_end": 139100,
                        "count": 1
                      }
                    ]
                  }
                },
                {
                  "name": "year_CIA",
                  "dtype": "object",
                  "stats": {
                    "unique_count": 2,
                    "nan_count": 0,
                    "categories": [
                      {
                        "name": "2021",
                        "count": 4
                      },
                      {
                        "name": "2009",
                        "count": 1
                      }
                    ]
                  }
                },
                {
                  "name": "_deepnote_index_column",
                  "dtype": "int64"
                }
              ],
              "rows": [
                {
                  "Country/Territory": "Ireland *",
                  "UN Region": "Europe",
                  "gdppc_IMF": "145196",
                  "year_IMF": "2023",
                  "gdppc_WB": "126905",
                  "year_WB": "2022",
                  "gdppc_CIA": 102500,
                  "year_CIA": "2021",
                  "_deepnote_index_column": 0
                },
                {
                  "Country/Territory": "Luxembourg *",
                  "UN Region": "Europe",
                  "gdppc_IMF": "142490",
                  "year_IMF": "2023",
                  "gdppc_WB": "142214",
                  "year_WB": "2022",
                  "gdppc_CIA": 115700,
                  "year_CIA": "2021",
                  "_deepnote_index_column": 1
                },
                {
                  "Country/Territory": "Liechtenstein *",
                  "UN Region": "Europe",
                  "gdppc_IMF": "—",
                  "year_IMF": "—",
                  "gdppc_WB": "—",
                  "year_WB": "—",
                  "gdppc_CIA": 139100,
                  "year_CIA": "2009",
                  "_deepnote_index_column": 2
                },
                {
                  "Country/Territory": "Singapore *",
                  "UN Region": "Asia",
                  "gdppc_IMF": "133895",
                  "year_IMF": "2023",
                  "gdppc_WB": "127565",
                  "year_WB": "2022",
                  "gdppc_CIA": 106000,
                  "year_CIA": "2021",
                  "_deepnote_index_column": 3
                },
                {
                  "Country/Territory": "Qatar *",
                  "UN Region": "Asia",
                  "gdppc_IMF": "124834",
                  "year_IMF": "2023",
                  "gdppc_WB": "114648",
                  "year_WB": "2022",
                  "gdppc_CIA": 92200,
                  "year_CIA": "2021",
                  "_deepnote_index_column": 4
                }
              ]
            },
            "text/plain": "  Country/Territory UN Region gdppc_IMF year_IMF gdppc_WB year_WB  gdppc_CIA  \\\n0         Ireland *    Europe    145196     2023   126905    2022     102500   \n1      Luxembourg *    Europe    142490     2023   142214    2022     115700   \n2   Liechtenstein *    Europe         —        —        —       —     139100   \n3       Singapore *      Asia    133895     2023   127565    2022     106000   \n4           Qatar *      Asia    124834     2023   114648    2022      92200   \n\n  year_CIA  \n0     2021  \n1     2021  \n2     2009  \n3     2021  \n4     2021  ",
            "text/html": "<div>\n<style scoped>\n    .dataframe tbody tr th:only-of-type {\n        vertical-align: middle;\n    }\n\n    .dataframe tbody tr th {\n        vertical-align: top;\n    }\n\n    .dataframe thead th {\n        text-align: right;\n    }\n</style>\n<table border=\"1\" class=\"dataframe\">\n  <thead>\n    <tr style=\"text-align: right;\">\n      <th></th>\n      <th>Country/Territory</th>\n      <th>UN Region</th>\n      <th>gdppc_IMF</th>\n      <th>year_IMF</th>\n      <th>gdppc_WB</th>\n      <th>year_WB</th>\n      <th>gdppc_CIA</th>\n      <th>year_CIA</th>\n    </tr>\n  </thead>\n  <tbody>\n    <tr>\n      <th>0</th>\n      <td>Ireland *</td>\n      <td>Europe</td>\n      <td>145196</td>\n      <td>2023</td>\n      <td>126905</td>\n      <td>2022</td>\n      <td>102500</td>\n      <td>2021</td>\n    </tr>\n    <tr>\n      <th>1</th>\n      <td>Luxembourg *</td>\n      <td>Europe</td>\n      <td>142490</td>\n      <td>2023</td>\n      <td>142214</td>\n      <td>2022</td>\n      <td>115700</td>\n      <td>2021</td>\n    </tr>\n    <tr>\n      <th>2</th>\n      <td>Liechtenstein *</td>\n      <td>Europe</td>\n      <td>—</td>\n      <td>—</td>\n      <td>—</td>\n      <td>—</td>\n      <td>139100</td>\n      <td>2009</td>\n    </tr>\n    <tr>\n      <th>3</th>\n      <td>Singapore *</td>\n      <td>Asia</td>\n      <td>133895</td>\n      <td>2023</td>\n      <td>127565</td>\n      <td>2022</td>\n      <td>106000</td>\n      <td>2021</td>\n    </tr>\n    <tr>\n      <th>4</th>\n      <td>Qatar *</td>\n      <td>Asia</td>\n      <td>124834</td>\n      <td>2023</td>\n      <td>114648</td>\n      <td>2022</td>\n      <td>92200</td>\n      <td>2021</td>\n    </tr>\n  </tbody>\n</table>\n</div>"
          },
          "metadata": {}
        }
      ],
      "execution_count": null,
      "block_group": "4339b7fb819d47b78ad0c2de1e7f4b90"
    },
    {
      "cell_type": "markdown",
      "source": "## Let's eliminate the * in the country names",
      "metadata": {
        "tags": [],
        "cell_id": "7069651efc5d47edad59a3a71c35fc99",
        "slideshow": {
          "slide_type": "subslide"
        },
        "user_expressions": [],
        "deepnote_cell_type": "markdown"
      },
      "block_group": "7069651efc5d47edad59a3a71c35fc99"
    },
    {
      "cell_type": "code",
      "source": "gdppc_wiki['country_name'] = gdppc_wiki['Country/Territory'].str.replace('*', '', regex=True).str.strip()\ngdppc_wiki.head()",
      "metadata": {
        "cell_id": "9d3f40705442455dab0830f199be4e50",
        "slideshow": {
          "slide_type": "fragment"
        },
        "source_hash": null,
        "execution_start": 1691509092719,
        "execution_millis": 61,
        "deepnote_to_be_reexecuted": false,
        "deepnote_cell_type": "code"
      },
      "outputs": [
        {
          "output_type": "execute_result",
          "execution_count": 12,
          "data": {
            "application/vnd.deepnote.dataframe.v3+json": {
              "column_count": 9,
              "row_count": 5,
              "columns": [
                {
                  "name": "Country/Territory",
                  "dtype": "object",
                  "stats": {
                    "unique_count": 5,
                    "nan_count": 0,
                    "categories": [
                      {
                        "name": "Ireland *",
                        "count": 1
                      },
                      {
                        "name": "Luxembourg *",
                        "count": 1
                      },
                      {
                        "name": "3 others",
                        "count": 3
                      }
                    ]
                  }
                },
                {
                  "name": "UN Region",
                  "dtype": "object",
                  "stats": {
                    "unique_count": 2,
                    "nan_count": 0,
                    "categories": [
                      {
                        "name": "Europe",
                        "count": 3
                      },
                      {
                        "name": "Asia",
                        "count": 2
                      }
                    ]
                  }
                },
                {
                  "name": "gdppc_IMF",
                  "dtype": "object",
                  "stats": {
                    "unique_count": 5,
                    "nan_count": 0,
                    "categories": [
                      {
                        "name": "145196",
                        "count": 1
                      },
                      {
                        "name": "142490",
                        "count": 1
                      },
                      {
                        "name": "3 others",
                        "count": 3
                      }
                    ]
                  }
                },
                {
                  "name": "year_IMF",
                  "dtype": "object",
                  "stats": {
                    "unique_count": 2,
                    "nan_count": 0,
                    "categories": [
                      {
                        "name": "2023",
                        "count": 4
                      },
                      {
                        "name": "—",
                        "count": 1
                      }
                    ]
                  }
                },
                {
                  "name": "gdppc_WB",
                  "dtype": "object",
                  "stats": {
                    "unique_count": 5,
                    "nan_count": 0,
                    "categories": [
                      {
                        "name": "126905",
                        "count": 1
                      },
                      {
                        "name": "142214",
                        "count": 1
                      },
                      {
                        "name": "3 others",
                        "count": 3
                      }
                    ]
                  }
                },
                {
                  "name": "year_WB",
                  "dtype": "object",
                  "stats": {
                    "unique_count": 2,
                    "nan_count": 0,
                    "categories": [
                      {
                        "name": "2022",
                        "count": 4
                      },
                      {
                        "name": "—",
                        "count": 1
                      }
                    ]
                  }
                },
                {
                  "name": "gdppc_CIA",
                  "dtype": "int64",
                  "stats": {
                    "unique_count": 5,
                    "nan_count": 0,
                    "min": "92200",
                    "max": "139100",
                    "histogram": [
                      {
                        "bin_start": 92200,
                        "bin_end": 96890,
                        "count": 1
                      },
                      {
                        "bin_start": 96890,
                        "bin_end": 101580,
                        "count": 0
                      },
                      {
                        "bin_start": 101580,
                        "bin_end": 106270,
                        "count": 2
                      },
                      {
                        "bin_start": 106270,
                        "bin_end": 110960,
                        "count": 0
                      },
                      {
                        "bin_start": 110960,
                        "bin_end": 115650,
                        "count": 0
                      },
                      {
                        "bin_start": 115650,
                        "bin_end": 120340,
                        "count": 1
                      },
                      {
                        "bin_start": 120340,
                        "bin_end": 125030,
                        "count": 0
                      },
                      {
                        "bin_start": 125030,
                        "bin_end": 129720,
                        "count": 0
                      },
                      {
                        "bin_start": 129720,
                        "bin_end": 134410,
                        "count": 0
                      },
                      {
                        "bin_start": 134410,
                        "bin_end": 139100,
                        "count": 1
                      }
                    ]
                  }
                },
                {
                  "name": "year_CIA",
                  "dtype": "object",
                  "stats": {
                    "unique_count": 2,
                    "nan_count": 0,
                    "categories": [
                      {
                        "name": "2021",
                        "count": 4
                      },
                      {
                        "name": "2009",
                        "count": 1
                      }
                    ]
                  }
                },
                {
                  "name": "country_name",
                  "dtype": "object",
                  "stats": {
                    "unique_count": 5,
                    "nan_count": 0,
                    "categories": [
                      {
                        "name": "Ireland",
                        "count": 1
                      },
                      {
                        "name": "Luxembourg",
                        "count": 1
                      },
                      {
                        "name": "3 others",
                        "count": 3
                      }
                    ]
                  }
                },
                {
                  "name": "_deepnote_index_column",
                  "dtype": "int64"
                }
              ],
              "rows": [
                {
                  "Country/Territory": "Ireland *",
                  "UN Region": "Europe",
                  "gdppc_IMF": "145196",
                  "year_IMF": "2023",
                  "gdppc_WB": "126905",
                  "year_WB": "2022",
                  "gdppc_CIA": 102500,
                  "year_CIA": "2021",
                  "country_name": "Ireland",
                  "_deepnote_index_column": 0
                },
                {
                  "Country/Territory": "Luxembourg *",
                  "UN Region": "Europe",
                  "gdppc_IMF": "142490",
                  "year_IMF": "2023",
                  "gdppc_WB": "142214",
                  "year_WB": "2022",
                  "gdppc_CIA": 115700,
                  "year_CIA": "2021",
                  "country_name": "Luxembourg",
                  "_deepnote_index_column": 1
                },
                {
                  "Country/Territory": "Liechtenstein *",
                  "UN Region": "Europe",
                  "gdppc_IMF": "—",
                  "year_IMF": "—",
                  "gdppc_WB": "—",
                  "year_WB": "—",
                  "gdppc_CIA": 139100,
                  "year_CIA": "2009",
                  "country_name": "Liechtenstein",
                  "_deepnote_index_column": 2
                },
                {
                  "Country/Territory": "Singapore *",
                  "UN Region": "Asia",
                  "gdppc_IMF": "133895",
                  "year_IMF": "2023",
                  "gdppc_WB": "127565",
                  "year_WB": "2022",
                  "gdppc_CIA": 106000,
                  "year_CIA": "2021",
                  "country_name": "Singapore",
                  "_deepnote_index_column": 3
                },
                {
                  "Country/Territory": "Qatar *",
                  "UN Region": "Asia",
                  "gdppc_IMF": "124834",
                  "year_IMF": "2023",
                  "gdppc_WB": "114648",
                  "year_WB": "2022",
                  "gdppc_CIA": 92200,
                  "year_CIA": "2021",
                  "country_name": "Qatar",
                  "_deepnote_index_column": 4
                }
              ]
            },
            "text/plain": "  Country/Territory UN Region gdppc_IMF year_IMF gdppc_WB year_WB  gdppc_CIA  \\\n0         Ireland *    Europe    145196     2023   126905    2022     102500   \n1      Luxembourg *    Europe    142490     2023   142214    2022     115700   \n2   Liechtenstein *    Europe         —        —        —       —     139100   \n3       Singapore *      Asia    133895     2023   127565    2022     106000   \n4           Qatar *      Asia    124834     2023   114648    2022      92200   \n\n  year_CIA   country_name  \n0     2021        Ireland  \n1     2021     Luxembourg  \n2     2009  Liechtenstein  \n3     2021      Singapore  \n4     2021          Qatar  ",
            "text/html": "<div>\n<style scoped>\n    .dataframe tbody tr th:only-of-type {\n        vertical-align: middle;\n    }\n\n    .dataframe tbody tr th {\n        vertical-align: top;\n    }\n\n    .dataframe thead th {\n        text-align: right;\n    }\n</style>\n<table border=\"1\" class=\"dataframe\">\n  <thead>\n    <tr style=\"text-align: right;\">\n      <th></th>\n      <th>Country/Territory</th>\n      <th>UN Region</th>\n      <th>gdppc_IMF</th>\n      <th>year_IMF</th>\n      <th>gdppc_WB</th>\n      <th>year_WB</th>\n      <th>gdppc_CIA</th>\n      <th>year_CIA</th>\n      <th>country_name</th>\n    </tr>\n  </thead>\n  <tbody>\n    <tr>\n      <th>0</th>\n      <td>Ireland *</td>\n      <td>Europe</td>\n      <td>145196</td>\n      <td>2023</td>\n      <td>126905</td>\n      <td>2022</td>\n      <td>102500</td>\n      <td>2021</td>\n      <td>Ireland</td>\n    </tr>\n    <tr>\n      <th>1</th>\n      <td>Luxembourg *</td>\n      <td>Europe</td>\n      <td>142490</td>\n      <td>2023</td>\n      <td>142214</td>\n      <td>2022</td>\n      <td>115700</td>\n      <td>2021</td>\n      <td>Luxembourg</td>\n    </tr>\n    <tr>\n      <th>2</th>\n      <td>Liechtenstein *</td>\n      <td>Europe</td>\n      <td>—</td>\n      <td>—</td>\n      <td>—</td>\n      <td>—</td>\n      <td>139100</td>\n      <td>2009</td>\n      <td>Liechtenstein</td>\n    </tr>\n    <tr>\n      <th>3</th>\n      <td>Singapore *</td>\n      <td>Asia</td>\n      <td>133895</td>\n      <td>2023</td>\n      <td>127565</td>\n      <td>2022</td>\n      <td>106000</td>\n      <td>2021</td>\n      <td>Singapore</td>\n    </tr>\n    <tr>\n      <th>4</th>\n      <td>Qatar *</td>\n      <td>Asia</td>\n      <td>124834</td>\n      <td>2023</td>\n      <td>114648</td>\n      <td>2022</td>\n      <td>92200</td>\n      <td>2021</td>\n      <td>Qatar</td>\n    </tr>\n  </tbody>\n</table>\n</div>"
          },
          "metadata": {}
        }
      ],
      "execution_count": null,
      "block_group": "9d3f40705442455dab0830f199be4e50"
    },
    {
      "cell_type": "markdown",
      "source": "# Let's make sure years and GDPpc columns are treated as numbers",
      "metadata": {
        "tags": [],
        "cell_id": "fc0f04d677064757be3254107907b79f",
        "slideshow": {
          "slide_type": "subslide"
        },
        "user_expressions": [],
        "deepnote_cell_type": "markdown"
      },
      "block_group": "fc0f04d677064757be3254107907b79f"
    },
    {
      "cell_type": "code",
      "source": "gdppc_wiki.dtypes",
      "metadata": {
        "cell_id": "35aad656a1c44fa7b95b03c2e1b51b6c",
        "slideshow": {
          "slide_type": "fragment"
        },
        "source_hash": null,
        "execution_start": 1691509092719,
        "execution_millis": 60,
        "deepnote_to_be_reexecuted": false,
        "deepnote_cell_type": "code"
      },
      "outputs": [
        {
          "output_type": "execute_result",
          "execution_count": 13,
          "data": {
            "text/plain": "Country/Territory    object\nUN Region            object\ngdppc_IMF            object\nyear_IMF             object\ngdppc_WB             object\nyear_WB              object\ngdppc_CIA             int64\nyear_CIA             object\ncountry_name         object\ndtype: object"
          },
          "metadata": {}
        }
      ],
      "execution_count": null,
      "block_group": "35aad656a1c44fa7b95b03c2e1b51b6c"
    },
    {
      "cell_type": "code",
      "source": "for c in gdppc_wiki.columns[2:-1]:\n    if gdppc_wiki[c].dtype=='O':\n        gdppc_wiki[c] = pd.to_numeric(gdppc_wiki[c].str.replace('—', 'nan'), errors='coerce')\n        if c.startswith('year'):\n            gdppc_wiki[c] = gdppc_wiki[c].astype('Int64')",
      "metadata": {
        "cell_id": "c0b80611ea2641aaaa5ae888fce489d8",
        "slideshow": {
          "slide_type": "subslide"
        },
        "source_hash": null,
        "execution_start": 1691509092720,
        "execution_millis": 58,
        "deepnote_to_be_reexecuted": false,
        "deepnote_cell_type": "code"
      },
      "outputs": [],
      "execution_count": null,
      "block_group": "c0b80611ea2641aaaa5ae888fce489d8"
    },
    {
      "cell_type": "code",
      "source": "gdppc_wiki.dtypes",
      "metadata": {
        "cell_id": "e51cc065e0df4ceabb4b0d400684f89c",
        "slideshow": {
          "slide_type": "subslide"
        },
        "source_hash": null,
        "execution_start": 1691509092721,
        "execution_millis": 60,
        "deepnote_to_be_reexecuted": false,
        "deepnote_cell_type": "code"
      },
      "outputs": [
        {
          "output_type": "execute_result",
          "execution_count": 15,
          "data": {
            "text/plain": "Country/Territory     object\nUN Region             object\ngdppc_IMF            float64\nyear_IMF               Int64\ngdppc_WB             float64\nyear_WB                Int64\ngdppc_CIA              int64\nyear_CIA               Int64\ncountry_name          object\ndtype: object"
          },
          "metadata": {}
        }
      ],
      "execution_count": null,
      "block_group": "e51cc065e0df4ceabb4b0d400684f89c"
    },
    {
      "cell_type": "markdown",
      "source": "## Let's try to merge the data from both dataframes",
      "metadata": {
        "tags": [],
        "cell_id": "596a1fe1cb0b4242bc96a102808004e1",
        "slideshow": {
          "slide_type": "subslide"
        },
        "user_expressions": [],
        "deepnote_cell_type": "markdown"
      },
      "block_group": "596a1fe1cb0b4242bc96a102808004e1"
    },
    {
      "cell_type": "code",
      "source": "isocodes.head(2)",
      "metadata": {
        "cell_id": "20055f36c08e479b85bb1bb5cb6d782d",
        "slideshow": {
          "slide_type": "fragment"
        },
        "source_hash": null,
        "execution_start": 1691509092722,
        "execution_millis": 312,
        "deepnote_to_be_reexecuted": false,
        "deepnote_cell_type": "code"
      },
      "outputs": [
        {
          "output_type": "execute_result",
          "execution_count": 16,
          "data": {
            "application/vnd.deepnote.dataframe.v3+json": {
              "column_count": 9,
              "row_count": 2,
              "columns": [
                {
                  "name": "Country name",
                  "dtype": "object",
                  "stats": {
                    "unique_count": 2,
                    "nan_count": 0,
                    "categories": [
                      {
                        "name": "Afghanistan",
                        "count": 1
                      },
                      {
                        "name": "Åland Islands",
                        "count": 1
                      }
                    ]
                  }
                },
                {
                  "name": "Official state name",
                  "dtype": "object",
                  "stats": {
                    "unique_count": 2,
                    "nan_count": 0,
                    "categories": [
                      {
                        "name": "The Islamic Republic of Afghanistan",
                        "count": 1
                      },
                      {
                        "name": "Åland",
                        "count": 1
                      }
                    ]
                  }
                },
                {
                  "name": "Sovereignty",
                  "dtype": "object",
                  "stats": {
                    "unique_count": 2,
                    "nan_count": 0,
                    "categories": [
                      {
                        "name": "UN member state",
                        "count": 1
                      },
                      {
                        "name": "Finland",
                        "count": 1
                      }
                    ]
                  }
                },
                {
                  "name": "Alpha-2 code",
                  "dtype": "object",
                  "stats": {
                    "unique_count": 2,
                    "nan_count": 0,
                    "categories": [
                      {
                        "name": "AF",
                        "count": 1
                      },
                      {
                        "name": "AX",
                        "count": 1
                      }
                    ]
                  }
                },
                {
                  "name": "Alpha-3 code",
                  "dtype": "object",
                  "stats": {
                    "unique_count": 2,
                    "nan_count": 0,
                    "categories": [
                      {
                        "name": "AFG",
                        "count": 1
                      },
                      {
                        "name": "ALA",
                        "count": 1
                      }
                    ]
                  }
                },
                {
                  "name": "Numeric code",
                  "dtype": "object",
                  "stats": {
                    "unique_count": 2,
                    "nan_count": 0,
                    "categories": [
                      {
                        "name": "004",
                        "count": 1
                      },
                      {
                        "name": "248",
                        "count": 1
                      }
                    ]
                  }
                },
                {
                  "name": "Subdivision code links",
                  "dtype": "object",
                  "stats": {
                    "unique_count": 2,
                    "nan_count": 0,
                    "categories": [
                      {
                        "name": "ISO 3166-2:AF",
                        "count": 1
                      },
                      {
                        "name": "ISO 3166-2:AX",
                        "count": 1
                      }
                    ]
                  }
                },
                {
                  "name": "Internet ccTLD",
                  "dtype": "object",
                  "stats": {
                    "unique_count": 2,
                    "nan_count": 0,
                    "categories": [
                      {
                        "name": ".af",
                        "count": 1
                      },
                      {
                        "name": ".ax",
                        "count": 1
                      }
                    ]
                  }
                },
                {
                  "name": "Alpha-2 code original",
                  "dtype": "object",
                  "stats": {
                    "unique_count": 2,
                    "nan_count": 0,
                    "categories": [
                      {
                        "name": ".mw-parser-output .monospaced{font-family:monospace,monospace}AF",
                        "count": 1
                      },
                      {
                        "name": "AX",
                        "count": 1
                      }
                    ]
                  }
                },
                {
                  "name": "_deepnote_index_column",
                  "dtype": "int64"
                }
              ],
              "rows": [
                {
                  "Country name": "Afghanistan",
                  "Official state name": "The Islamic Republic of Afghanistan",
                  "Sovereignty": "UN member state",
                  "Alpha-2 code": "AF",
                  "Alpha-3 code": "AFG",
                  "Numeric code": "004",
                  "Subdivision code links": "ISO 3166-2:AF",
                  "Internet ccTLD": ".af",
                  "Alpha-2 code original": ".mw-parser-output .monospaced{font-family:monospace,monospace}AF",
                  "_deepnote_index_column": 0
                },
                {
                  "Country name": "Åland Islands",
                  "Official state name": "Åland",
                  "Sovereignty": "Finland",
                  "Alpha-2 code": "AX",
                  "Alpha-3 code": "ALA",
                  "Numeric code": "248",
                  "Subdivision code links": "ISO 3166-2:AX",
                  "Internet ccTLD": ".ax",
                  "Alpha-2 code original": "AX",
                  "_deepnote_index_column": 1
                }
              ]
            },
            "text/plain": "    Country name                  Official state name      Sovereignty  \\\n0    Afghanistan  The Islamic Republic of Afghanistan  UN member state   \n1  Åland Islands                                Åland          Finland   \n\n  Alpha-2 code Alpha-3 code Numeric code Subdivision code links  \\\n0           AF          AFG          004          ISO 3166-2:AF   \n1           AX          ALA          248          ISO 3166-2:AX   \n\n  Internet ccTLD                              Alpha-2 code original  \n0            .af  .mw-parser-output .monospaced{font-family:mono...  \n1            .ax                                                 AX  ",
            "text/html": "<div>\n<style scoped>\n    .dataframe tbody tr th:only-of-type {\n        vertical-align: middle;\n    }\n\n    .dataframe tbody tr th {\n        vertical-align: top;\n    }\n\n    .dataframe thead th {\n        text-align: right;\n    }\n</style>\n<table border=\"1\" class=\"dataframe\">\n  <thead>\n    <tr style=\"text-align: right;\">\n      <th></th>\n      <th>Country name</th>\n      <th>Official state name</th>\n      <th>Sovereignty</th>\n      <th>Alpha-2 code</th>\n      <th>Alpha-3 code</th>\n      <th>Numeric code</th>\n      <th>Subdivision code links</th>\n      <th>Internet ccTLD</th>\n      <th>Alpha-2 code original</th>\n    </tr>\n  </thead>\n  <tbody>\n    <tr>\n      <th>0</th>\n      <td>Afghanistan</td>\n      <td>The Islamic Republic of Afghanistan</td>\n      <td>UN member state</td>\n      <td>AF</td>\n      <td>AFG</td>\n      <td>004</td>\n      <td>ISO 3166-2:AF</td>\n      <td>.af</td>\n      <td>.mw-parser-output .monospaced{font-family:mono...</td>\n    </tr>\n    <tr>\n      <th>1</th>\n      <td>Åland Islands</td>\n      <td>Åland</td>\n      <td>Finland</td>\n      <td>AX</td>\n      <td>ALA</td>\n      <td>248</td>\n      <td>ISO 3166-2:AX</td>\n      <td>.ax</td>\n      <td>AX</td>\n    </tr>\n  </tbody>\n</table>\n</div>"
          },
          "metadata": {}
        }
      ],
      "execution_count": null,
      "block_group": "20055f36c08e479b85bb1bb5cb6d782d"
    },
    {
      "cell_type": "code",
      "source": "gdppc_wiki.head(1)",
      "metadata": {
        "cell_id": "cf1338a40cc344a29a457896734208dd",
        "slideshow": {
          "slide_type": "fragment"
        },
        "source_hash": null,
        "execution_start": 1691509092723,
        "execution_millis": 48,
        "deepnote_to_be_reexecuted": false,
        "deepnote_cell_type": "code"
      },
      "outputs": [
        {
          "output_type": "execute_result",
          "execution_count": 17,
          "data": {
            "application/vnd.deepnote.dataframe.v3+json": {
              "column_count": 9,
              "row_count": 1,
              "columns": [
                {
                  "name": "Country/Territory",
                  "dtype": "object",
                  "stats": {
                    "unique_count": 1,
                    "nan_count": 0,
                    "categories": [
                      {
                        "name": "Ireland *",
                        "count": 1
                      }
                    ]
                  }
                },
                {
                  "name": "UN Region",
                  "dtype": "object",
                  "stats": {
                    "unique_count": 1,
                    "nan_count": 0,
                    "categories": [
                      {
                        "name": "Europe",
                        "count": 1
                      }
                    ]
                  }
                },
                {
                  "name": "gdppc_IMF",
                  "dtype": "float64",
                  "stats": {
                    "unique_count": 1,
                    "nan_count": 0,
                    "min": "145196.0",
                    "max": "145196.0",
                    "histogram": [
                      {
                        "bin_start": 145195.5,
                        "bin_end": 145195.6,
                        "count": 0
                      },
                      {
                        "bin_start": 145195.6,
                        "bin_end": 145195.7,
                        "count": 0
                      },
                      {
                        "bin_start": 145195.7,
                        "bin_end": 145195.8,
                        "count": 0
                      },
                      {
                        "bin_start": 145195.8,
                        "bin_end": 145195.9,
                        "count": 0
                      },
                      {
                        "bin_start": 145195.9,
                        "bin_end": 145196,
                        "count": 0
                      },
                      {
                        "bin_start": 145196,
                        "bin_end": 145196.1,
                        "count": 1
                      },
                      {
                        "bin_start": 145196.1,
                        "bin_end": 145196.2,
                        "count": 0
                      },
                      {
                        "bin_start": 145196.2,
                        "bin_end": 145196.3,
                        "count": 0
                      },
                      {
                        "bin_start": 145196.3,
                        "bin_end": 145196.4,
                        "count": 0
                      },
                      {
                        "bin_start": 145196.4,
                        "bin_end": 145196.5,
                        "count": 0
                      }
                    ]
                  }
                },
                {
                  "name": "year_IMF",
                  "dtype": "Int64",
                  "stats": {
                    "unique_count": 1,
                    "nan_count": 0,
                    "categories": [
                      {
                        "name": "2023",
                        "count": 1
                      }
                    ]
                  }
                },
                {
                  "name": "gdppc_WB",
                  "dtype": "float64",
                  "stats": {
                    "unique_count": 1,
                    "nan_count": 0,
                    "min": "126905.0",
                    "max": "126905.0",
                    "histogram": [
                      {
                        "bin_start": 126904.5,
                        "bin_end": 126904.6,
                        "count": 0
                      },
                      {
                        "bin_start": 126904.6,
                        "bin_end": 126904.7,
                        "count": 0
                      },
                      {
                        "bin_start": 126904.7,
                        "bin_end": 126904.8,
                        "count": 0
                      },
                      {
                        "bin_start": 126904.8,
                        "bin_end": 126904.9,
                        "count": 0
                      },
                      {
                        "bin_start": 126904.9,
                        "bin_end": 126905,
                        "count": 0
                      },
                      {
                        "bin_start": 126905,
                        "bin_end": 126905.1,
                        "count": 1
                      },
                      {
                        "bin_start": 126905.1,
                        "bin_end": 126905.2,
                        "count": 0
                      },
                      {
                        "bin_start": 126905.2,
                        "bin_end": 126905.3,
                        "count": 0
                      },
                      {
                        "bin_start": 126905.3,
                        "bin_end": 126905.4,
                        "count": 0
                      },
                      {
                        "bin_start": 126905.4,
                        "bin_end": 126905.5,
                        "count": 0
                      }
                    ]
                  }
                },
                {
                  "name": "year_WB",
                  "dtype": "Int64",
                  "stats": {
                    "unique_count": 1,
                    "nan_count": 0,
                    "categories": [
                      {
                        "name": "2022",
                        "count": 1
                      }
                    ]
                  }
                },
                {
                  "name": "gdppc_CIA",
                  "dtype": "int64",
                  "stats": {
                    "unique_count": 1,
                    "nan_count": 0,
                    "min": "102500",
                    "max": "102500",
                    "histogram": [
                      {
                        "bin_start": 102499.5,
                        "bin_end": 102499.6,
                        "count": 0
                      },
                      {
                        "bin_start": 102499.6,
                        "bin_end": 102499.7,
                        "count": 0
                      },
                      {
                        "bin_start": 102499.7,
                        "bin_end": 102499.8,
                        "count": 0
                      },
                      {
                        "bin_start": 102499.8,
                        "bin_end": 102499.9,
                        "count": 0
                      },
                      {
                        "bin_start": 102499.9,
                        "bin_end": 102500,
                        "count": 0
                      },
                      {
                        "bin_start": 102500,
                        "bin_end": 102500.1,
                        "count": 1
                      },
                      {
                        "bin_start": 102500.1,
                        "bin_end": 102500.2,
                        "count": 0
                      },
                      {
                        "bin_start": 102500.2,
                        "bin_end": 102500.3,
                        "count": 0
                      },
                      {
                        "bin_start": 102500.3,
                        "bin_end": 102500.4,
                        "count": 0
                      },
                      {
                        "bin_start": 102500.4,
                        "bin_end": 102500.5,
                        "count": 0
                      }
                    ]
                  }
                },
                {
                  "name": "year_CIA",
                  "dtype": "Int64",
                  "stats": {
                    "unique_count": 1,
                    "nan_count": 0,
                    "categories": [
                      {
                        "name": "2021",
                        "count": 1
                      }
                    ]
                  }
                },
                {
                  "name": "country_name",
                  "dtype": "object",
                  "stats": {
                    "unique_count": 1,
                    "nan_count": 0,
                    "categories": [
                      {
                        "name": "Ireland",
                        "count": 1
                      }
                    ]
                  }
                },
                {
                  "name": "_deepnote_index_column",
                  "dtype": "int64"
                }
              ],
              "rows": [
                {
                  "Country/Territory": "Ireland *",
                  "UN Region": "Europe",
                  "gdppc_IMF": 145196,
                  "year_IMF": "2023",
                  "gdppc_WB": 126905,
                  "year_WB": "2022",
                  "gdppc_CIA": 102500,
                  "year_CIA": "2021",
                  "country_name": "Ireland",
                  "_deepnote_index_column": 0
                }
              ]
            },
            "text/plain": "  Country/Territory UN Region  gdppc_IMF  year_IMF  gdppc_WB  year_WB  \\\n0         Ireland *    Europe   145196.0      2023  126905.0     2022   \n\n   gdppc_CIA  year_CIA country_name  \n0     102500      2021      Ireland  ",
            "text/html": "<div>\n<style scoped>\n    .dataframe tbody tr th:only-of-type {\n        vertical-align: middle;\n    }\n\n    .dataframe tbody tr th {\n        vertical-align: top;\n    }\n\n    .dataframe thead th {\n        text-align: right;\n    }\n</style>\n<table border=\"1\" class=\"dataframe\">\n  <thead>\n    <tr style=\"text-align: right;\">\n      <th></th>\n      <th>Country/Territory</th>\n      <th>UN Region</th>\n      <th>gdppc_IMF</th>\n      <th>year_IMF</th>\n      <th>gdppc_WB</th>\n      <th>year_WB</th>\n      <th>gdppc_CIA</th>\n      <th>year_CIA</th>\n      <th>country_name</th>\n    </tr>\n  </thead>\n  <tbody>\n    <tr>\n      <th>0</th>\n      <td>Ireland *</td>\n      <td>Europe</td>\n      <td>145196.0</td>\n      <td>2023</td>\n      <td>126905.0</td>\n      <td>2022</td>\n      <td>102500</td>\n      <td>2021</td>\n      <td>Ireland</td>\n    </tr>\n  </tbody>\n</table>\n</div>"
          },
          "metadata": {}
        }
      ],
      "execution_count": null,
      "block_group": "cf1338a40cc344a29a457896734208dd"
    },
    {
      "cell_type": "markdown",
      "source": "## The only common information in both dataframes is the country's name, so let's merge using the corrected `country_name` and `Country name`",
      "metadata": {
        "tags": [],
        "cell_id": "63dd9cde710047c9bd9c2b3c1aa9afe1",
        "slideshow": {
          "slide_type": "subslide"
        },
        "user_expressions": [],
        "deepnote_cell_type": "markdown"
      },
      "block_group": "63dd9cde710047c9bd9c2b3c1aa9afe1"
    },
    {
      "cell_type": "code",
      "source": "merged = isocodes.merge(gdppc_wiki, left_on='Country name', right_on='country_name')\nmerged",
      "metadata": {
        "cell_id": "05c413065be04041abade622b5d7bb8a",
        "slideshow": {
          "slide_type": "subslide"
        },
        "source_hash": null,
        "execution_start": 1691509092729,
        "execution_millis": 484,
        "deepnote_to_be_reexecuted": false,
        "deepnote_cell_type": "code"
      },
      "outputs": [
        {
          "output_type": "execute_result",
          "execution_count": 18,
          "data": {
            "application/vnd.deepnote.dataframe.v3+json": {
              "column_count": 18,
              "row_count": 176,
              "columns": [
                {
                  "name": "Country name",
                  "dtype": "object",
                  "stats": {
                    "unique_count": 176,
                    "nan_count": 0,
                    "categories": [
                      {
                        "name": "Afghanistan",
                        "count": 1
                      },
                      {
                        "name": "Albania",
                        "count": 1
                      },
                      {
                        "name": "174 others",
                        "count": 174
                      }
                    ]
                  }
                },
                {
                  "name": "Official state name",
                  "dtype": "object",
                  "stats": {
                    "unique_count": 176,
                    "nan_count": 0,
                    "categories": [
                      {
                        "name": "The Islamic Republic of Afghanistan",
                        "count": 1
                      },
                      {
                        "name": "The Republic of Albania",
                        "count": 1
                      },
                      {
                        "name": "174 others",
                        "count": 174
                      }
                    ]
                  }
                },
                {
                  "name": "Sovereignty",
                  "dtype": "object",
                  "stats": {
                    "unique_count": 9,
                    "nan_count": 0,
                    "categories": [
                      {
                        "name": "UN member state",
                        "count": 154
                      },
                      {
                        "name": "France",
                        "count": 5
                      },
                      {
                        "name": "7 others",
                        "count": 17
                      }
                    ]
                  }
                },
                {
                  "name": "Alpha-2 code",
                  "dtype": "object",
                  "stats": {
                    "unique_count": 176,
                    "nan_count": 0,
                    "categories": [
                      {
                        "name": "AF",
                        "count": 1
                      },
                      {
                        "name": "AL",
                        "count": 1
                      },
                      {
                        "name": "174 others",
                        "count": 174
                      }
                    ]
                  }
                },
                {
                  "name": "Alpha-3 code",
                  "dtype": "object",
                  "stats": {
                    "unique_count": 176,
                    "nan_count": 0,
                    "categories": [
                      {
                        "name": "AFG",
                        "count": 1
                      },
                      {
                        "name": "ALB",
                        "count": 1
                      },
                      {
                        "name": "174 others",
                        "count": 174
                      }
                    ]
                  }
                },
                {
                  "name": "Numeric code",
                  "dtype": "object",
                  "stats": {
                    "unique_count": 176,
                    "nan_count": 0,
                    "categories": [
                      {
                        "name": "004",
                        "count": 1
                      },
                      {
                        "name": "008",
                        "count": 1
                      },
                      {
                        "name": "174 others",
                        "count": 174
                      }
                    ]
                  }
                },
                {
                  "name": "Subdivision code links",
                  "dtype": "object",
                  "stats": {
                    "unique_count": 176,
                    "nan_count": 0,
                    "categories": [
                      {
                        "name": "ISO 3166-2:AF",
                        "count": 1
                      },
                      {
                        "name": "ISO 3166-2:AL",
                        "count": 1
                      },
                      {
                        "name": "174 others",
                        "count": 174
                      }
                    ]
                  }
                },
                {
                  "name": "Internet ccTLD",
                  "dtype": "object",
                  "stats": {
                    "unique_count": 176,
                    "nan_count": 0,
                    "categories": [
                      {
                        "name": ".af",
                        "count": 1
                      },
                      {
                        "name": ".al",
                        "count": 1
                      },
                      {
                        "name": "174 others",
                        "count": 174
                      }
                    ]
                  }
                },
                {
                  "name": "Alpha-2 code original",
                  "dtype": "object",
                  "stats": {
                    "unique_count": 175,
                    "nan_count": 1,
                    "categories": [
                      {
                        "name": ".mw-parser-output .monospaced{font-family:monospace,monospace}AF",
                        "count": 1
                      },
                      {
                        "name": "174 others",
                        "count": 174
                      },
                      {
                        "name": "Missing",
                        "count": 1
                      }
                    ]
                  }
                },
                {
                  "name": "Country/Territory",
                  "dtype": "object",
                  "stats": {
                    "unique_count": 176,
                    "nan_count": 0,
                    "categories": [
                      {
                        "name": "Afghanistan *",
                        "count": 1
                      },
                      {
                        "name": "Albania *",
                        "count": 1
                      },
                      {
                        "name": "174 others",
                        "count": 174
                      }
                    ]
                  }
                },
                {
                  "name": "UN Region",
                  "dtype": "object",
                  "stats": {
                    "unique_count": 5,
                    "nan_count": 0,
                    "categories": [
                      {
                        "name": "Africa",
                        "count": 42
                      },
                      {
                        "name": "Europe",
                        "count": 40
                      },
                      {
                        "name": "3 others",
                        "count": 94
                      }
                    ]
                  }
                },
                {
                  "name": "gdppc_IMF",
                  "dtype": "float64",
                  "stats": {
                    "unique_count": 154,
                    "nan_count": 22,
                    "min": "516.0",
                    "max": "145196.0",
                    "histogram": [
                      {
                        "bin_start": 516,
                        "bin_end": 14984,
                        "count": 68
                      },
                      {
                        "bin_start": 14984,
                        "bin_end": 29452,
                        "count": 35
                      },
                      {
                        "bin_start": 29452,
                        "bin_end": 43920,
                        "count": 17
                      },
                      {
                        "bin_start": 43920,
                        "bin_end": 58388,
                        "count": 13
                      },
                      {
                        "bin_start": 58388,
                        "bin_end": 72856,
                        "count": 12
                      },
                      {
                        "bin_start": 72856,
                        "bin_end": 87324,
                        "count": 4
                      },
                      {
                        "bin_start": 87324,
                        "bin_end": 101792,
                        "count": 1
                      },
                      {
                        "bin_start": 101792,
                        "bin_end": 116260,
                        "count": 0
                      },
                      {
                        "bin_start": 116260,
                        "bin_end": 130728,
                        "count": 1
                      },
                      {
                        "bin_start": 130728,
                        "bin_end": 145196,
                        "count": 3
                      }
                    ]
                  }
                },
                {
                  "name": "year_IMF",
                  "dtype": "Int64",
                  "stats": {
                    "unique_count": 2,
                    "nan_count": 26,
                    "categories": [
                      {
                        "name": "2023",
                        "count": 148
                      },
                      {
                        "name": "2020",
                        "count": 2
                      },
                      {
                        "name": "Missing",
                        "count": 26
                      }
                    ]
                  }
                },
                {
                  "name": "gdppc_WB",
                  "dtype": "float64",
                  "stats": {
                    "unique_count": 156,
                    "nan_count": 20,
                    "min": "836.0",
                    "max": "142214.0",
                    "histogram": [
                      {
                        "bin_start": 836,
                        "bin_end": 14973.8,
                        "count": 70
                      },
                      {
                        "bin_start": 14973.8,
                        "bin_end": 29111.6,
                        "count": 36
                      },
                      {
                        "bin_start": 29111.6,
                        "bin_end": 43249.399999999994,
                        "count": 19
                      },
                      {
                        "bin_start": 43249.399999999994,
                        "bin_end": 57387.2,
                        "count": 11
                      },
                      {
                        "bin_start": 57387.2,
                        "bin_end": 71525,
                        "count": 12
                      },
                      {
                        "bin_start": 71525,
                        "bin_end": 85662.79999999999,
                        "count": 2
                      },
                      {
                        "bin_start": 85662.79999999999,
                        "bin_end": 99800.59999999999,
                        "count": 1
                      },
                      {
                        "bin_start": 99800.59999999999,
                        "bin_end": 113938.4,
                        "count": 0
                      },
                      {
                        "bin_start": 113938.4,
                        "bin_end": 128076.2,
                        "count": 4
                      },
                      {
                        "bin_start": 128076.2,
                        "bin_end": 142214,
                        "count": 1
                      }
                    ]
                  }
                },
                {
                  "name": "year_WB",
                  "dtype": "Int64",
                  "stats": {
                    "unique_count": 7,
                    "nan_count": 24,
                    "categories": [
                      {
                        "name": "2022",
                        "count": 140
                      },
                      {
                        "name": "6 others",
                        "count": 12
                      },
                      {
                        "name": "Missing",
                        "count": 24
                      }
                    ]
                  }
                },
                {
                  "name": "gdppc_CIA",
                  "dtype": "int64",
                  "stats": {
                    "unique_count": 145,
                    "nan_count": 0,
                    "min": "700",
                    "max": "139100",
                    "histogram": [
                      {
                        "bin_start": 700,
                        "bin_end": 14540,
                        "count": 90
                      },
                      {
                        "bin_start": 14540,
                        "bin_end": 28380,
                        "count": 30
                      },
                      {
                        "bin_start": 28380,
                        "bin_end": 42220,
                        "count": 26
                      },
                      {
                        "bin_start": 42220,
                        "bin_end": 56060,
                        "count": 15
                      },
                      {
                        "bin_start": 56060,
                        "bin_end": 69900,
                        "count": 6
                      },
                      {
                        "bin_start": 69900,
                        "bin_end": 83740,
                        "count": 2
                      },
                      {
                        "bin_start": 83740,
                        "bin_end": 97580,
                        "count": 2
                      },
                      {
                        "bin_start": 97580,
                        "bin_end": 111420,
                        "count": 2
                      },
                      {
                        "bin_start": 111420,
                        "bin_end": 125260,
                        "count": 2
                      },
                      {
                        "bin_start": 125260,
                        "bin_end": 139100,
                        "count": 1
                      }
                    ]
                  }
                },
                {
                  "name": "year_CIA",
                  "dtype": "Int64",
                  "stats": {
                    "unique_count": 16,
                    "nan_count": 5,
                    "categories": [
                      {
                        "name": "2021",
                        "count": 140
                      },
                      {
                        "name": "15 others",
                        "count": 31
                      },
                      {
                        "name": "Missing",
                        "count": 5
                      }
                    ]
                  }
                },
                {
                  "name": "country_name",
                  "dtype": "object",
                  "stats": {
                    "unique_count": 176,
                    "nan_count": 0,
                    "categories": [
                      {
                        "name": "Afghanistan",
                        "count": 1
                      },
                      {
                        "name": "Albania",
                        "count": 1
                      },
                      {
                        "name": "174 others",
                        "count": 174
                      }
                    ]
                  }
                },
                {
                  "name": "_deepnote_index_column",
                  "dtype": "int64"
                }
              ],
              "rows": [
                {
                  "Country name": "Afghanistan",
                  "Official state name": "The Islamic Republic of Afghanistan",
                  "Sovereignty": "UN member state",
                  "Alpha-2 code": "AF",
                  "Alpha-3 code": "AFG",
                  "Numeric code": "004",
                  "Subdivision code links": "ISO 3166-2:AF",
                  "Internet ccTLD": ".af",
                  "Alpha-2 code original": ".mw-parser-output .monospaced{font-family:monospace,monospace}AF",
                  "Country/Territory": "Afghanistan *",
                  "UN Region": "Asia",
                  "gdppc_IMF": 2456,
                  "year_IMF": "2020",
                  "gdppc_WB": 1674,
                  "year_WB": "2021",
                  "gdppc_CIA": 1500,
                  "year_CIA": "2021",
                  "country_name": "Afghanistan",
                  "_deepnote_index_column": 0
                },
                {
                  "Country name": "Albania",
                  "Official state name": "The Republic of Albania",
                  "Sovereignty": "UN member state",
                  "Alpha-2 code": "AL",
                  "Alpha-3 code": "ALB",
                  "Numeric code": "008",
                  "Subdivision code links": "ISO 3166-2:AL",
                  "Internet ccTLD": ".al",
                  "Alpha-2 code original": "AL",
                  "Country/Territory": "Albania *",
                  "UN Region": "Europe",
                  "gdppc_IMF": 19029,
                  "year_IMF": "2023",
                  "gdppc_WB": 18552,
                  "year_WB": "2022",
                  "gdppc_CIA": 14500,
                  "year_CIA": "2021",
                  "country_name": "Albania",
                  "_deepnote_index_column": 1
                },
                {
                  "Country name": "Algeria",
                  "Official state name": "The People's Democratic Republic of Algeria",
                  "Sovereignty": "UN member state",
                  "Alpha-2 code": "DZ",
                  "Alpha-3 code": "DZA",
                  "Numeric code": "012",
                  "Subdivision code links": "ISO 3166-2:DZ",
                  "Internet ccTLD": ".dz",
                  "Alpha-2 code original": "DZ",
                  "Country/Territory": "Algeria *",
                  "UN Region": "Africa",
                  "gdppc_IMF": 13507,
                  "year_IMF": "2023",
                  "gdppc_WB": 13210,
                  "year_WB": "2022",
                  "gdppc_CIA": 11000,
                  "year_CIA": "2021",
                  "country_name": "Algeria",
                  "_deepnote_index_column": 2
                },
                {
                  "Country name": "American Samoa",
                  "Official state name": "The Territory of American Samoa",
                  "Sovereignty": "United States",
                  "Alpha-2 code": "AS",
                  "Alpha-3 code": "ASM",
                  "Numeric code": "016",
                  "Subdivision code links": "ISO 3166-2:AS",
                  "Internet ccTLD": ".as",
                  "Alpha-2 code original": "AS",
                  "Country/Territory": "American Samoa *",
                  "UN Region": "Oceania",
                  "gdppc_IMF": "nan",
                  "year_IMF": "<NA>",
                  "gdppc_WB": "nan",
                  "year_WB": "<NA>",
                  "gdppc_CIA": 11200,
                  "year_CIA": "2016",
                  "country_name": "American Samoa",
                  "_deepnote_index_column": 3
                },
                {
                  "Country name": "Andorra",
                  "Official state name": "The Principality of Andorra",
                  "Sovereignty": "UN member state",
                  "Alpha-2 code": "AD",
                  "Alpha-3 code": "AND",
                  "Numeric code": "020",
                  "Subdivision code links": "ISO 3166-2:AD",
                  "Internet ccTLD": ".ad",
                  "Alpha-2 code original": "AD",
                  "Country/Territory": "Andorra *",
                  "UN Region": "Europe",
                  "gdppc_IMF": 68998,
                  "year_IMF": "2023",
                  "gdppc_WB": "nan",
                  "year_WB": "<NA>",
                  "gdppc_CIA": 49900,
                  "year_CIA": "2015",
                  "country_name": "Andorra",
                  "_deepnote_index_column": 4
                },
                {
                  "Country name": "Angola",
                  "Official state name": "The Republic of Angola",
                  "Sovereignty": "UN member state",
                  "Alpha-2 code": "AO",
                  "Alpha-3 code": "AGO",
                  "Numeric code": "024",
                  "Subdivision code links": "ISO 3166-2:AO",
                  "Internet ccTLD": ".ao",
                  "Alpha-2 code original": "AO",
                  "Country/Territory": "Angola *",
                  "UN Region": "Africa",
                  "gdppc_IMF": 7222,
                  "year_IMF": "2023",
                  "gdppc_WB": 6974,
                  "year_WB": "2022",
                  "gdppc_CIA": 5900,
                  "year_CIA": "2021",
                  "country_name": "Angola",
                  "_deepnote_index_column": 5
                },
                {
                  "Country name": "Anguilla",
                  "Official state name": "Anguilla",
                  "Sovereignty": "United Kingdom",
                  "Alpha-2 code": "AI",
                  "Alpha-3 code": "AIA",
                  "Numeric code": "660",
                  "Subdivision code links": "ISO 3166-2:AI",
                  "Internet ccTLD": ".ai",
                  "Alpha-2 code original": "AI",
                  "Country/Territory": "Anguilla *",
                  "UN Region": "Americas",
                  "gdppc_IMF": "nan",
                  "year_IMF": "<NA>",
                  "gdppc_WB": "nan",
                  "year_WB": "<NA>",
                  "gdppc_CIA": 12200,
                  "year_CIA": "2008",
                  "country_name": "Anguilla",
                  "_deepnote_index_column": 6
                },
                {
                  "Country name": "Antigua and Barbuda",
                  "Official state name": "Antigua and Barbuda",
                  "Sovereignty": "UN member state",
                  "Alpha-2 code": "AG",
                  "Alpha-3 code": "ATG",
                  "Numeric code": "028",
                  "Subdivision code links": "ISO 3166-2:AG",
                  "Internet ccTLD": ".ag",
                  "Alpha-2 code original": "AG",
                  "Country/Territory": "Antigua and Barbuda *",
                  "UN Region": "Americas",
                  "gdppc_IMF": 24012,
                  "year_IMF": "2023",
                  "gdppc_WB": 25337,
                  "year_WB": "2022",
                  "gdppc_CIA": 19100,
                  "year_CIA": "2021",
                  "country_name": "Antigua and Barbuda",
                  "_deepnote_index_column": 7
                },
                {
                  "Country name": "Argentina",
                  "Official state name": "The Argentine Republic",
                  "Sovereignty": "UN member state",
                  "Alpha-2 code": "AR",
                  "Alpha-3 code": "ARG",
                  "Numeric code": "032",
                  "Subdivision code links": "ISO 3166-2:AR",
                  "Internet ccTLD": ".ar",
                  "Alpha-2 code original": "AR",
                  "Country/Territory": "Argentina *",
                  "UN Region": "Americas",
                  "gdppc_IMF": 27261,
                  "year_IMF": "2023",
                  "gdppc_WB": 26505,
                  "year_WB": "2022",
                  "gdppc_CIA": 21500,
                  "year_CIA": "2021",
                  "country_name": "Argentina",
                  "_deepnote_index_column": 8
                },
                {
                  "Country name": "Armenia",
                  "Official state name": "The Republic of Armenia",
                  "Sovereignty": "UN member state",
                  "Alpha-2 code": "AM",
                  "Alpha-3 code": "ARM",
                  "Numeric code": "051",
                  "Subdivision code links": "ISO 3166-2:AM",
                  "Internet ccTLD": ".am",
                  "Alpha-2 code original": "AM",
                  "Country/Territory": "Armenia *",
                  "UN Region": "Asia",
                  "gdppc_IMF": 19489,
                  "year_IMF": "2023",
                  "gdppc_WB": 18942,
                  "year_WB": "2022",
                  "gdppc_CIA": 14200,
                  "year_CIA": "2021",
                  "country_name": "Armenia",
                  "_deepnote_index_column": 9
                }
              ]
            },
            "text/plain": "          Country name                             Official state name  \\\n0          Afghanistan             The Islamic Republic of Afghanistan   \n1              Albania                         The Republic of Albania   \n2              Algeria     The People's Democratic Republic of Algeria   \n3       American Samoa                 The Territory of American Samoa   \n4              Andorra                     The Principality of Andorra   \n..                 ...                                             ...   \n171            Vanuatu                         The Republic of Vanuatu   \n172  Wallis and Futuna  The Territory of the Wallis and Futuna Islands   \n173              Yemen                           The Republic of Yemen   \n174             Zambia                          The Republic of Zambia   \n175           Zimbabwe                        The Republic of Zimbabwe   \n\n         Sovereignty Alpha-2 code Alpha-3 code Numeric code  \\\n0    UN member state           AF          AFG          004   \n1    UN member state           AL          ALB          008   \n2    UN member state           DZ          DZA          012   \n3      United States           AS          ASM          016   \n4    UN member state           AD          AND          020   \n..               ...          ...          ...          ...   \n171  UN member state           VU          VUT          548   \n172           France           WF          WLF          876   \n173  UN member state           YE          YEM          887   \n174  UN member state           ZM          ZMB          894   \n175  UN member state           ZW          ZWE          716   \n\n    Subdivision code links Internet ccTLD  \\\n0            ISO 3166-2:AF            .af   \n1            ISO 3166-2:AL            .al   \n2            ISO 3166-2:DZ            .dz   \n3            ISO 3166-2:AS            .as   \n4            ISO 3166-2:AD            .ad   \n..                     ...            ...   \n171          ISO 3166-2:VU            .vu   \n172          ISO 3166-2:WF            .wf   \n173          ISO 3166-2:YE            .ye   \n174          ISO 3166-2:ZM            .zm   \n175          ISO 3166-2:ZW            .zw   \n\n                                 Alpha-2 code original    Country/Territory  \\\n0    .mw-parser-output .monospaced{font-family:mono...        Afghanistan *   \n1                                                   AL            Albania *   \n2                                                   DZ            Algeria *   \n3                                                   AS     American Samoa *   \n4                                                   AD            Andorra *   \n..                                                 ...                  ...   \n171                                                 VU            Vanuatu *   \n172                                                 WF  Wallis and Futuna *   \n173                                                 YE              Yemen *   \n174                                                 ZM             Zambia *   \n175                                                 ZW           Zimbabwe *   \n\n    UN Region  gdppc_IMF  year_IMF  gdppc_WB  year_WB  gdppc_CIA  year_CIA  \\\n0        Asia     2456.0      2020    1674.0     2021       1500      2021   \n1      Europe    19029.0      2023   18552.0     2022      14500      2021   \n2      Africa    13507.0      2023   13210.0     2022      11000      2021   \n3     Oceania        NaN      <NA>       NaN     <NA>      11200      2016   \n4      Europe    68998.0      2023       NaN     <NA>      49900      2015   \n..        ...        ...       ...       ...      ...        ...       ...   \n171   Oceania     3001.0      2023    3289.0     2022       2800      2021   \n172   Oceania        NaN      <NA>       NaN     <NA>       3800      2004   \n173      Asia     2042.0      2023    3437.0     2013       2500      2017   \n174    Africa     4041.0      2023    3894.0     2022       3200      2021   \n175    Africa     2627.0      2023    2531.0     2022       2100      2021   \n\n          country_name  \n0          Afghanistan  \n1              Albania  \n2              Algeria  \n3       American Samoa  \n4              Andorra  \n..                 ...  \n171            Vanuatu  \n172  Wallis and Futuna  \n173              Yemen  \n174             Zambia  \n175           Zimbabwe  \n\n[176 rows x 18 columns]",
            "text/html": "<div>\n<style scoped>\n    .dataframe tbody tr th:only-of-type {\n        vertical-align: middle;\n    }\n\n    .dataframe tbody tr th {\n        vertical-align: top;\n    }\n\n    .dataframe thead th {\n        text-align: right;\n    }\n</style>\n<table border=\"1\" class=\"dataframe\">\n  <thead>\n    <tr style=\"text-align: right;\">\n      <th></th>\n      <th>Country name</th>\n      <th>Official state name</th>\n      <th>Sovereignty</th>\n      <th>Alpha-2 code</th>\n      <th>Alpha-3 code</th>\n      <th>Numeric code</th>\n      <th>Subdivision code links</th>\n      <th>Internet ccTLD</th>\n      <th>Alpha-2 code original</th>\n      <th>Country/Territory</th>\n      <th>UN Region</th>\n      <th>gdppc_IMF</th>\n      <th>year_IMF</th>\n      <th>gdppc_WB</th>\n      <th>year_WB</th>\n      <th>gdppc_CIA</th>\n      <th>year_CIA</th>\n      <th>country_name</th>\n    </tr>\n  </thead>\n  <tbody>\n    <tr>\n      <th>0</th>\n      <td>Afghanistan</td>\n      <td>The Islamic Republic of Afghanistan</td>\n      <td>UN member state</td>\n      <td>AF</td>\n      <td>AFG</td>\n      <td>004</td>\n      <td>ISO 3166-2:AF</td>\n      <td>.af</td>\n      <td>.mw-parser-output .monospaced{font-family:mono...</td>\n      <td>Afghanistan *</td>\n      <td>Asia</td>\n      <td>2456.0</td>\n      <td>2020</td>\n      <td>1674.0</td>\n      <td>2021</td>\n      <td>1500</td>\n      <td>2021</td>\n      <td>Afghanistan</td>\n    </tr>\n    <tr>\n      <th>1</th>\n      <td>Albania</td>\n      <td>The Republic of Albania</td>\n      <td>UN member state</td>\n      <td>AL</td>\n      <td>ALB</td>\n      <td>008</td>\n      <td>ISO 3166-2:AL</td>\n      <td>.al</td>\n      <td>AL</td>\n      <td>Albania *</td>\n      <td>Europe</td>\n      <td>19029.0</td>\n      <td>2023</td>\n      <td>18552.0</td>\n      <td>2022</td>\n      <td>14500</td>\n      <td>2021</td>\n      <td>Albania</td>\n    </tr>\n    <tr>\n      <th>2</th>\n      <td>Algeria</td>\n      <td>The People's Democratic Republic of Algeria</td>\n      <td>UN member state</td>\n      <td>DZ</td>\n      <td>DZA</td>\n      <td>012</td>\n      <td>ISO 3166-2:DZ</td>\n      <td>.dz</td>\n      <td>DZ</td>\n      <td>Algeria *</td>\n      <td>Africa</td>\n      <td>13507.0</td>\n      <td>2023</td>\n      <td>13210.0</td>\n      <td>2022</td>\n      <td>11000</td>\n      <td>2021</td>\n      <td>Algeria</td>\n    </tr>\n    <tr>\n      <th>3</th>\n      <td>American Samoa</td>\n      <td>The Territory of American Samoa</td>\n      <td>United States</td>\n      <td>AS</td>\n      <td>ASM</td>\n      <td>016</td>\n      <td>ISO 3166-2:AS</td>\n      <td>.as</td>\n      <td>AS</td>\n      <td>American Samoa *</td>\n      <td>Oceania</td>\n      <td>NaN</td>\n      <td>&lt;NA&gt;</td>\n      <td>NaN</td>\n      <td>&lt;NA&gt;</td>\n      <td>11200</td>\n      <td>2016</td>\n      <td>American Samoa</td>\n    </tr>\n    <tr>\n      <th>4</th>\n      <td>Andorra</td>\n      <td>The Principality of Andorra</td>\n      <td>UN member state</td>\n      <td>AD</td>\n      <td>AND</td>\n      <td>020</td>\n      <td>ISO 3166-2:AD</td>\n      <td>.ad</td>\n      <td>AD</td>\n      <td>Andorra *</td>\n      <td>Europe</td>\n      <td>68998.0</td>\n      <td>2023</td>\n      <td>NaN</td>\n      <td>&lt;NA&gt;</td>\n      <td>49900</td>\n      <td>2015</td>\n      <td>Andorra</td>\n    </tr>\n    <tr>\n      <th>...</th>\n      <td>...</td>\n      <td>...</td>\n      <td>...</td>\n      <td>...</td>\n      <td>...</td>\n      <td>...</td>\n      <td>...</td>\n      <td>...</td>\n      <td>...</td>\n      <td>...</td>\n      <td>...</td>\n      <td>...</td>\n      <td>...</td>\n      <td>...</td>\n      <td>...</td>\n      <td>...</td>\n      <td>...</td>\n      <td>...</td>\n    </tr>\n    <tr>\n      <th>171</th>\n      <td>Vanuatu</td>\n      <td>The Republic of Vanuatu</td>\n      <td>UN member state</td>\n      <td>VU</td>\n      <td>VUT</td>\n      <td>548</td>\n      <td>ISO 3166-2:VU</td>\n      <td>.vu</td>\n      <td>VU</td>\n      <td>Vanuatu *</td>\n      <td>Oceania</td>\n      <td>3001.0</td>\n      <td>2023</td>\n      <td>3289.0</td>\n      <td>2022</td>\n      <td>2800</td>\n      <td>2021</td>\n      <td>Vanuatu</td>\n    </tr>\n    <tr>\n      <th>172</th>\n      <td>Wallis and Futuna</td>\n      <td>The Territory of the Wallis and Futuna Islands</td>\n      <td>France</td>\n      <td>WF</td>\n      <td>WLF</td>\n      <td>876</td>\n      <td>ISO 3166-2:WF</td>\n      <td>.wf</td>\n      <td>WF</td>\n      <td>Wallis and Futuna *</td>\n      <td>Oceania</td>\n      <td>NaN</td>\n      <td>&lt;NA&gt;</td>\n      <td>NaN</td>\n      <td>&lt;NA&gt;</td>\n      <td>3800</td>\n      <td>2004</td>\n      <td>Wallis and Futuna</td>\n    </tr>\n    <tr>\n      <th>173</th>\n      <td>Yemen</td>\n      <td>The Republic of Yemen</td>\n      <td>UN member state</td>\n      <td>YE</td>\n      <td>YEM</td>\n      <td>887</td>\n      <td>ISO 3166-2:YE</td>\n      <td>.ye</td>\n      <td>YE</td>\n      <td>Yemen *</td>\n      <td>Asia</td>\n      <td>2042.0</td>\n      <td>2023</td>\n      <td>3437.0</td>\n      <td>2013</td>\n      <td>2500</td>\n      <td>2017</td>\n      <td>Yemen</td>\n    </tr>\n    <tr>\n      <th>174</th>\n      <td>Zambia</td>\n      <td>The Republic of Zambia</td>\n      <td>UN member state</td>\n      <td>ZM</td>\n      <td>ZMB</td>\n      <td>894</td>\n      <td>ISO 3166-2:ZM</td>\n      <td>.zm</td>\n      <td>ZM</td>\n      <td>Zambia *</td>\n      <td>Africa</td>\n      <td>4041.0</td>\n      <td>2023</td>\n      <td>3894.0</td>\n      <td>2022</td>\n      <td>3200</td>\n      <td>2021</td>\n      <td>Zambia</td>\n    </tr>\n    <tr>\n      <th>175</th>\n      <td>Zimbabwe</td>\n      <td>The Republic of Zimbabwe</td>\n      <td>UN member state</td>\n      <td>ZW</td>\n      <td>ZWE</td>\n      <td>716</td>\n      <td>ISO 3166-2:ZW</td>\n      <td>.zw</td>\n      <td>ZW</td>\n      <td>Zimbabwe *</td>\n      <td>Africa</td>\n      <td>2627.0</td>\n      <td>2023</td>\n      <td>2531.0</td>\n      <td>2022</td>\n      <td>2100</td>\n      <td>2021</td>\n      <td>Zimbabwe</td>\n    </tr>\n  </tbody>\n</table>\n<p>176 rows × 18 columns</p>\n</div>"
          },
          "metadata": {}
        }
      ],
      "execution_count": null,
      "block_group": "05c413065be04041abade622b5d7bb8a"
    },
    {
      "cell_type": "markdown",
      "source": "<div class=\"alert alert-block alert-danger\">\n<b>Careful:</b> Remember that <code>merge</code> will create a complete dataset only for the countries that have common names in both.\n</div>",
      "metadata": {
        "tags": [],
        "cell_id": "b316ec5dc0064ad7a465a3d5f1a440ed",
        "slideshow": {
          "slide_type": "subslide"
        },
        "user_expressions": [],
        "deepnote_cell_type": "markdown"
      },
      "block_group": "b316ec5dc0064ad7a465a3d5f1a440ed"
    },
    {
      "cell_type": "code",
      "source": "merged.shape",
      "metadata": {
        "cell_id": "790701f45f6f4eafa8fea5cd376a3646",
        "slideshow": {
          "slide_type": "fragment"
        },
        "source_hash": null,
        "execution_start": 1691509092873,
        "execution_millis": 273,
        "deepnote_to_be_reexecuted": false,
        "deepnote_cell_type": "code"
      },
      "outputs": [
        {
          "output_type": "execute_result",
          "execution_count": 19,
          "data": {
            "text/plain": "(176, 18)"
          },
          "metadata": {}
        }
      ],
      "execution_count": null,
      "block_group": "790701f45f6f4eafa8fea5cd376a3646"
    },
    {
      "cell_type": "markdown",
      "source": "## What are the not common country names in both dataframes?",
      "metadata": {
        "cell_id": "84201f96c1a644a7a559a6ef12de5353",
        "slideshow": {
          "slide_type": "subslide"
        },
        "user_expressions": [],
        "deepnote_cell_type": "markdown"
      },
      "block_group": "84201f96c1a644a7a559a6ef12de5353"
    },
    {
      "cell_type": "code",
      "source": "isocodes_names = set(isocodes['Country name'])\ngdppc_wiki_names = set(gdppc_wiki['country_name'])",
      "metadata": {
        "cell_id": "3d90700c7c05451cab4ed06b58058a79",
        "slideshow": {
          "slide_type": "fragment"
        },
        "source_hash": null,
        "execution_start": 1691509092888,
        "execution_millis": 181,
        "deepnote_to_be_reexecuted": false,
        "deepnote_cell_type": "code"
      },
      "outputs": [],
      "execution_count": null,
      "block_group": "3d90700c7c05451cab4ed06b58058a79"
    },
    {
      "cell_type": "code",
      "source": "isocodes_names.difference(gdppc_wiki_names)",
      "metadata": {
        "cell_id": "344b71e19f0b4772862a167a67f0e87c",
        "slideshow": {
          "slide_type": "subslide"
        },
        "source_hash": null,
        "execution_start": 1691509092889,
        "execution_millis": 641,
        "deepnote_to_be_reexecuted": false,
        "deepnote_cell_type": "code"
      },
      "outputs": [
        {
          "output_type": "execute_result",
          "execution_count": 21,
          "data": {
            "text/plain": "{'Antarctica\\u200a[b]',\n 'Australia\\u200a[c]',\n 'Bahamas (the)',\n 'Bolivia (Plurinational State of)',\n 'Bonaire \\xa0Sint Eustatius \\xa0Saba',\n 'Bouvet Island',\n 'British Indian Ocean Territory (the)',\n 'British Virgin Islands – See Virgin Islands (British).',\n 'Brunei Darussalam\\u200a[f]',\n 'Burma – See Myanmar.',\n 'Cabo Verde\\u200a[g]',\n 'Cape Verde – See Cabo Verde.',\n 'Caribbean Netherlands – See Bonaire, Sint Eustatius and Saba.',\n 'Cayman Islands (the)',\n 'Central African Republic (the)',\n 'China, The Republic of – See Taiwan (Province of China).',\n 'Christmas Island',\n 'Cocos (Keeling) Islands (the)',\n 'Comoros (the)',\n 'Congo (the Democratic Republic of the)',\n 'Congo (the)\\u200a[h]',\n 'Cook Islands (the)',\n 'Czechia\\u200a[j]',\n \"Côte d'Ivoire\\u200a[i]\",\n \"Democratic People's Republic of Korea – See Korea, The Democratic People's Republic of.\",\n 'Democratic Republic of the Congo – See Congo, The Democratic Republic of the.',\n 'Dominican Republic (the)',\n 'East Timor – See Timor-Leste.',\n 'Eswatini\\u200a[k]',\n 'Falkland Islands (the) [Malvinas]\\u200a[l]',\n 'Faroe Islands (the)',\n 'France\\u200a[m]',\n 'French Guiana',\n 'French Southern Territories (the)\\u200a[n]',\n 'Gambia (the)',\n 'Great Britain – See United Kingdom, The.',\n 'Guadeloupe',\n 'Heard Island and McDonald Islands',\n 'Holy See (the)\\u200a[o]',\n 'Iran (Islamic Republic of)',\n \"Ivory Coast – See Côte d'Ivoire.\",\n 'Jan Mayen – See Svalbard and Jan Mayen.',\n \"Korea (the Democratic People's Republic of)\\u200a[p]\",\n 'Korea (the Republic of)\\u200a[q]',\n \"Lao People's Democratic Republic (the)\\u200a[r]\",\n 'Macao\\u200a[s]',\n 'Marshall Islands (the)',\n 'Martinique',\n 'Mayotte',\n 'Micronesia (Federated States of)',\n 'Moldova (the Republic of)',\n 'Myanmar\\u200a[u]',\n 'Netherlands, Kingdom of the',\n 'Niger (the)',\n 'Norfolk Island',\n \"North Korea – See Korea, The Democratic People's Republic of.\",\n 'North Macedonia\\u200a[t]',\n 'Northern Mariana Islands (the)',\n 'Palestine, State of',\n \"People's Republic of China – See China.\",\n 'Philippines (the)',\n 'Pitcairn\\u200a[v]',\n 'Republic of China – See Taiwan (Province of China).',\n 'Republic of Korea – See Korea, The Republic of.',\n 'Republic of the Congo – See Congo, The.',\n 'Russian Federation (the)\\u200a[w]',\n 'Réunion',\n 'Saba – See Bonaire, Sint Eustatius and Saba.',\n 'Sahrawi Arab Democratic Republic – See Western Sahara.',\n 'Saint Barthélemy',\n 'Saint Helena \\xa0Ascension Island \\xa0Tristan da Cunha',\n 'Sao Tome and Principe',\n 'Sint Eustatius – See Bonaire, Sint Eustatius and Saba.',\n 'South Georgia and the South Sandwich Islands',\n 'South Korea – See Korea, The Republic of.',\n 'Sudan (the)',\n 'Svalbard \\xa0Jan Mayen',\n 'Syrian Arab Republic (the)\\u200a[y]',\n 'Taiwan (Province of China)\\u200a[z]',\n 'Tanzania, the United Republic of',\n 'Timor-Leste\\u200a[ab]',\n 'Turks and Caicos Islands (the)',\n 'Türkiye [ac]',\n 'United Arab Emirates (the)',\n 'United Kingdom of Great Britain and Northern Ireland (the)',\n 'United States Minor Outlying Islands (the)\\u200a[ae]',\n 'United States Virgin Islands – See Virgin Islands (U.S.).',\n 'United States of America (the)',\n 'Vatican City – See Holy See, The.',\n 'Venezuela (Bolivarian Republic of)',\n 'Viet Nam\\u200a[ag]',\n 'Virgin Islands (British)\\u200a[ah]',\n 'Virgin Islands (U.S.)\\u200a[ai]',\n 'Western Sahara\\u200a[aj]',\n 'Åland Islands'}"
          },
          "metadata": {}
        }
      ],
      "execution_count": null,
      "block_group": "344b71e19f0b4772862a167a67f0e87c"
    },
    {
      "cell_type": "code",
      "source": "gdppc_wiki_names.difference(isocodes_names)",
      "metadata": {
        "cell_id": "fbbb7bee04e149309a15d4987cd97890",
        "slideshow": {
          "slide_type": "subslide"
        },
        "source_hash": null,
        "execution_start": 1691509092890,
        "execution_millis": 66,
        "deepnote_to_be_reexecuted": false,
        "deepnote_cell_type": "code"
      },
      "outputs": [
        {
          "output_type": "execute_result",
          "execution_count": 22,
          "data": {
            "text/plain": "{'Australia',\n 'Bahamas',\n 'Bolivia',\n 'British Virgin Islands',\n 'Brunei',\n 'Cape Verde',\n 'Cayman Islands',\n 'Central African Republic',\n 'Comoros',\n 'Congo',\n 'Cook Islands',\n 'Czech Republic',\n 'DR Congo',\n 'Dominican Republic',\n 'East Timor',\n 'Eswatini',\n 'European Union\\u202f[n 1]',\n 'Falkland Islands',\n 'Faroe Islands',\n 'France',\n 'Gambia',\n 'Iran',\n 'Ivory Coast',\n 'Kosovo',\n 'Laos',\n 'Macau',\n 'Marshall Islands',\n 'Micronesia',\n 'Moldova',\n 'Myanmar',\n 'Netherlands',\n 'Niger',\n 'North Korea',\n 'North Macedonia',\n 'Northern Mariana Islands',\n 'Palestine',\n 'Philippines',\n 'Russia',\n 'Saint Helena, Ascension and Tristan da Cunha',\n 'South Korea',\n 'Sudan',\n 'Syria',\n 'São Tomé and Príncipe',\n 'Taiwan',\n 'Tanzania',\n 'Turkey',\n 'Turks and Caicos Islands',\n 'U.S. Virgin Islands',\n 'United Arab Emirates',\n 'United Kingdom',\n 'United States',\n 'Venezuela',\n 'Vietnam',\n 'World'}"
          },
          "metadata": {}
        }
      ],
      "execution_count": null,
      "block_group": "fbbb7bee04e149309a15d4987cd97890"
    },
    {
      "cell_type": "markdown",
      "source": "## Clearly to create the full dataset, we'd need to standardize the country names. ",
      "metadata": {
        "tags": [],
        "cell_id": "769eac2ec93741e5ba2e917f751fc4d2",
        "slideshow": {
          "slide_type": "subslide"
        },
        "user_expressions": [],
        "deepnote_cell_type": "markdown"
      },
      "block_group": "769eac2ec93741e5ba2e917f751fc4d2"
    },
    {
      "cell_type": "markdown",
      "source": "## This is a major reason to use ISO CODES!",
      "metadata": {
        "tags": [],
        "cell_id": "3b6fa8b9da2a412e8b53cbb55f18c27f",
        "slideshow": {
          "slide_type": "fragment"
        },
        "user_expressions": [],
        "deepnote_cell_type": "markdown"
      },
      "block_group": "3b6fa8b9da2a412e8b53cbb55f18c27f"
    },
    {
      "cell_type": "markdown",
      "source": "## We'll learn methods to do this in another lecture, for now let's use the merged subset",
      "metadata": {
        "tags": [],
        "cell_id": "04cdca60085c4be0878359847dd2548a",
        "slideshow": {
          "slide_type": "fragment"
        },
        "user_expressions": [],
        "deepnote_cell_type": "markdown"
      },
      "block_group": "04cdca60085c4be0878359847dd2548a"
    },
    {
      "cell_type": "markdown",
      "source": "# Simple Plots",
      "metadata": {
        "cell_id": "98c4927c5c404c158a9e53ed1de75039",
        "slideshow": {
          "slide_type": "subslide"
        },
        "user_expressions": [],
        "deepnote_cell_type": "markdown"
      },
      "block_group": "98c4927c5c404c158a9e53ed1de75039"
    },
    {
      "cell_type": "code",
      "source": "# Set the size of the figure and get a figure and axis object\nfig, ax = plt.subplots(figsize=(10,6))\nmerged.gdppc_CIA.plot.kde(ax=ax, label='CIA')\nmerged.gdppc_IMF.plot.kde(ax=ax, label='IMF')\nmerged.gdppc_WB.plot.kde(ax=ax, label='WB')\nax.legend()",
      "metadata": {
        "cell_id": "418563f47e944d959d454befe280e5ff",
        "slideshow": {
          "slide_type": "subslide"
        },
        "source_hash": null,
        "execution_start": 1691509092935,
        "execution_millis": 604,
        "deepnote_to_be_reexecuted": false,
        "deepnote_cell_type": "code"
      },
      "outputs": [
        {
          "output_type": "execute_result",
          "execution_count": 23,
          "data": {
            "text/plain": "<matplotlib.legend.Legend at 0x7f379105f9a0>"
          },
          "metadata": {}
        },
        {
          "data": {
            "text/plain": "<Figure size 1000x600 with 1 Axes>",
            "image/png": "[encoded data removed]"
          },
          "metadata": {
            "image/png": {
              "width": 846,
              "height": 520
            }
          },
          "output_type": "display_data"
        }
      ],
      "execution_count": null,
      "block_group": "418563f47e944d959d454befe280e5ff"
    },
    {
      "cell_type": "code",
      "source": "# Set the size of the figure and get a figure and axis object\nfig, ax = plt.subplots(figsize=(10,6))\nmerged.gdppc_CIA.plot.hist(ax=ax, label='CIA')\nmerged.gdppc_IMF.plot.hist(ax=ax, label='IMF', alpha=0.6)\nmerged.gdppc_WB.plot.hist(ax=ax, label='WB', alpha=0.3)\nax.legend()",
      "metadata": {
        "cell_id": "7f5eeb2696244b7ba676514ae616dae4",
        "slideshow": {
          "slide_type": "subslide"
        },
        "source_hash": null,
        "execution_start": 1691509093665,
        "execution_millis": 382,
        "deepnote_to_be_reexecuted": false,
        "deepnote_cell_type": "code"
      },
      "outputs": [
        {
          "output_type": "execute_result",
          "execution_count": 24,
          "data": {
            "text/plain": "<matplotlib.legend.Legend at 0x7f37b9f17f70>"
          },
          "metadata": {}
        },
        {
          "data": {
            "text/plain": "<Figure size 1000x600 with 1 Axes>",
            "image/png": "[encoded data removed]"
          },
          "metadata": {
            "image/png": {
              "width": 842,
              "height": 505
            }
          },
          "output_type": "display_data"
        }
      ],
      "execution_count": null,
      "block_group": "7f5eeb2696244b7ba676514ae616dae4"
    },
    {
      "cell_type": "code",
      "source": "# Set the size of the figure and get a figure and axis object\nfig, ax = plt.subplots(figsize=(10,6))\nmerged.plot.scatter(x='gdppc_WB', y='gdppc_CIA', ax=ax, label='WB-CIA', c='r')\nmerged.plot.scatter(x='gdppc_WB', y='gdppc_IMF', ax=ax, label='WB-IMF', c='b')\nax.set_xlabel('World Bank')\nax.set_ylabel('Other Source')\nax.legend(loc='lower right')",
      "metadata": {
        "cell_id": "5f4504e34b70401f9448a4447ee9016b",
        "slideshow": {
          "slide_type": "subslide"
        },
        "source_hash": null,
        "execution_start": 1691509094148,
        "execution_millis": 267,
        "deepnote_to_be_reexecuted": false,
        "deepnote_cell_type": "code"
      },
      "outputs": [
        {
          "name": "stderr",
          "text": "/opt/conda/lib/python3.10/site-packages/pandas/plotting/_matplotlib/core.py:1259: UserWarning: No data for colormapping provided via 'c'. Parameters 'cmap' will be ignored\n  scatter = ax.scatter(\n",
          "output_type": "stream"
        },
        {
          "output_type": "execute_result",
          "execution_count": 25,
          "data": {
            "text/plain": "<matplotlib.legend.Legend at 0x7f3790fc27d0>"
          },
          "metadata": {}
        },
        {
          "data": {
            "text/plain": "<Figure size 1000x600 with 1 Axes>",
            "image/png": "[encoded data removed]"
          },
          "metadata": {
            "image/png": {
              "width": 877,
              "height": 525
            }
          },
          "output_type": "display_data"
        }
      ],
      "execution_count": null,
      "block_group": "5f4504e34b70401f9448a4447ee9016b"
    },
    {
      "cell_type": "markdown",
      "source": "# Example - Create Data",
      "metadata": {
        "cell_id": "08848776dce54a20b42cf6d54b1f000c",
        "slideshow": {
          "slide_type": "slide"
        },
        "user_expressions": [],
        "deepnote_cell_type": "markdown"
      },
      "block_group": "08848776dce54a20b42cf6d54b1f000c"
    },
    {
      "cell_type": "markdown",
      "source": "Let's create a `DataFrame` with some artificial data for some countries. \n1. Create `Series` of countries\n2. Create `Series` of data for each country\n3. Create `DataFrame`",
      "metadata": {
        "cell_id": "0659fbe99d6f43ca9581f4d9f929cafb",
        "slideshow": {
          "slide_type": "fragment"
        },
        "user_expressions": [],
        "deepnote_cell_type": "markdown"
      },
      "block_group": "0659fbe99d6f43ca9581f4d9f929cafb"
    },
    {
      "cell_type": "code",
      "source": "countries = pd.Series(['Colombia', 'Turkey', 'United States', 'Germany', 'Chile'], name='country')\ncountries",
      "metadata": {
        "cell_id": "b3b22497090a445391b22ab23157744b",
        "slideshow": {
          "slide_type": "subslide"
        },
        "source_hash": null,
        "execution_start": 1691509094698,
        "execution_millis": 22,
        "deepnote_to_be_reexecuted": false,
        "deepnote_cell_type": "code"
      },
      "outputs": [
        {
          "output_type": "execute_result",
          "execution_count": 26,
          "data": {
            "text/plain": "0         Colombia\n1           Turkey\n2    United States\n3          Germany\n4            Chile\nName: country, dtype: object"
          },
          "metadata": {}
        }
      ],
      "execution_count": null,
      "block_group": "b3b22497090a445391b22ab23157744b"
    },
    {
      "cell_type": "code",
      "source": "print('\\n', 'There are ', countries.shape[0], 'countries in this series.')",
      "metadata": {
        "cell_id": "9029c1b712a147f98ee811b0011f33af",
        "slideshow": {
          "slide_type": "fragment"
        },
        "source_hash": null,
        "execution_start": 1691509094699,
        "execution_millis": 22,
        "deepnote_to_be_reexecuted": false,
        "deepnote_cell_type": "code"
      },
      "outputs": [
        {
          "name": "stdout",
          "text": "\n There are  5 countries in this series.\n",
          "output_type": "stream"
        }
      ],
      "execution_count": null,
      "block_group": "9029c1b712a147f98ee811b0011f33af"
    },
    {
      "cell_type": "markdown",
      "source": "## We can apply a function on the data using the `apply` method. \nE.g., let's find the length of each country name using the `len` function.",
      "metadata": {
        "cell_id": "c893f04a7714443b981480dad48591b2",
        "slideshow": {
          "slide_type": "subslide"
        },
        "user_expressions": [],
        "deepnote_cell_type": "markdown"
      },
      "block_group": "c893f04a7714443b981480dad48591b2"
    },
    {
      "cell_type": "code",
      "source": "countries.apply(len)",
      "metadata": {
        "cell_id": "54907a01f99640db861e6ef346999c98",
        "slideshow": {
          "slide_type": "fragment"
        },
        "source_hash": null,
        "execution_start": 1691509094700,
        "execution_millis": 246,
        "deepnote_to_be_reexecuted": false,
        "deepnote_cell_type": "code"
      },
      "outputs": [
        {
          "output_type": "execute_result",
          "execution_count": 28,
          "data": {
            "text/plain": "0     8\n1     6\n2    13\n3     7\n4     5\nName: country, dtype: int64"
          },
          "metadata": {}
        }
      ],
      "execution_count": null,
      "block_group": "54907a01f99640db861e6ef346999c98"
    },
    {
      "cell_type": "markdown",
      "source": "Let's create the data using some of the functions we already learned.",
      "metadata": {
        "cell_id": "cc3b971a398a4e41a7c23bab952b2c82",
        "slideshow": {
          "slide_type": "subslide"
        },
        "user_expressions": [],
        "deepnote_cell_type": "markdown"
      },
      "block_group": "cc3b971a398a4e41a7c23bab952b2c82"
    },
    {
      "cell_type": "code",
      "source": "np.random.seed(123456)\ndata = pd.Series(np.random.normal(size=(countries.shape)), name='noise')\ndata",
      "metadata": {
        "cell_id": "9502b21170cd47418c7824fa2009c571",
        "slideshow": {
          "slide_type": "fragment"
        },
        "source_hash": null,
        "execution_start": 1691509094722,
        "execution_millis": 61,
        "deepnote_to_be_reexecuted": false,
        "deepnote_cell_type": "code"
      },
      "outputs": [
        {
          "output_type": "execute_result",
          "execution_count": 29,
          "data": {
            "text/plain": "0    0.469112\n1   -0.282863\n2   -1.509059\n3   -1.135632\n4    1.212112\nName: noise, dtype: float64"
          },
          "metadata": {}
        }
      ],
      "execution_count": null,
      "block_group": "9502b21170cd47418c7824fa2009c571"
    },
    {
      "cell_type": "markdown",
      "source": "## We can perform certain computation using some of the properties of the `pd.Series`:\n* mean\n* std\n* max",
      "metadata": {
        "tags": [],
        "cell_id": "d3e8832f7067490c8636fd97fc80f8f8",
        "slideshow": {
          "slide_type": "subslide"
        },
        "user_expressions": [],
        "deepnote_cell_type": "markdown"
      },
      "block_group": "d3e8832f7067490c8636fd97fc80f8f8"
    },
    {
      "cell_type": "code",
      "source": "print('\\n', 'The average in this sample is ', data.mean())\nprint('\\n', 'The average in this sample is ', \"{:.2f}\".format(data.mean()))\nprint('\\n', 'The maximum in this sample is ', \"{:.2f}\".format(data.max()))\nprint('\\n', 'The standard deviation in this sample is ', \"{:.2f}\".format(data.std()))",
      "metadata": {
        "cell_id": "53fdd302230f480da9bda7e6eb4f20ad",
        "slideshow": {
          "slide_type": "subslide"
        },
        "source_hash": null,
        "execution_start": 1691509094770,
        "execution_millis": 48,
        "deepnote_to_be_reexecuted": false,
        "deepnote_cell_type": "code"
      },
      "outputs": [
        {
          "name": "stdout",
          "text": "\n The average in this sample is  -0.24926597871826645\n\n The average in this sample is  -0.25\n\n The maximum in this sample is  1.21\n\n The standard deviation in this sample is  1.12\n",
          "output_type": "stream"
        }
      ],
      "execution_count": null,
      "block_group": "53fdd302230f480da9bda7e6eb4f20ad"
    },
    {
      "cell_type": "markdown",
      "source": "Here we have used the ``mean()`` function of the series to compute its mean. There are many other properties/functions for these series including ``std()``, ``shape``, ``count()``, ``max()``, ``min()``, etc. You can access these by writing ``series.name_of_function_or_property``. To see what functions are available you can hit ``tab`` after writing ``series.``.",
      "metadata": {
        "cell_id": "ca4a030d39e44eff8c00cf579edecf39",
        "slideshow": {
          "slide_type": "subslide"
        },
        "user_expressions": [],
        "deepnote_cell_type": "markdown"
      },
      "block_group": "ca4a030d39e44eff8c00cf579edecf39"
    },
    {
      "cell_type": "markdown",
      "source": "## We can transform the data using the `apply` method",
      "metadata": {
        "cell_id": "c9444b21a62c410d88f10b571c0fd05a",
        "slideshow": {
          "slide_type": "subslide"
        },
        "user_expressions": [],
        "deepnote_cell_type": "markdown"
      },
      "block_group": "c9444b21a62c410d88f10b571c0fd05a"
    },
    {
      "cell_type": "code",
      "source": "data.apply(np.exp)",
      "metadata": {
        "cell_id": "bbf362ba3b5045d0825372f3c08ca55f",
        "slideshow": {
          "slide_type": "subslide"
        },
        "source_hash": null,
        "execution_start": 1691509094778,
        "execution_millis": 12,
        "deepnote_to_be_reexecuted": false,
        "deepnote_cell_type": "code"
      },
      "outputs": [
        {
          "output_type": "execute_result",
          "execution_count": 31,
          "data": {
            "text/plain": "0    1.598575\n1    0.753623\n2    0.221118\n3    0.321219\n4    3.360575\nName: noise, dtype: float64"
          },
          "metadata": {}
        }
      ],
      "execution_count": null,
      "block_group": "bbf362ba3b5045d0825372f3c08ca55f"
    },
    {
      "cell_type": "markdown",
      "source": "## Let's create a ``pd.DataFrame`` using these two series.",
      "metadata": {
        "cell_id": "e795fda58ddc46f5a5e14b5dd2c37e60",
        "slideshow": {
          "slide_type": "subslide"
        },
        "user_expressions": [],
        "deepnote_cell_type": "markdown"
      },
      "block_group": "e795fda58ddc46f5a5e14b5dd2c37e60"
    },
    {
      "cell_type": "markdown",
      "source": "## Method 1",
      "metadata": {
        "tags": [],
        "cell_id": "0a6fb650330e4bb58ec5c5676cc0b563",
        "slideshow": {
          "slide_type": "subslide"
        },
        "user_expressions": [],
        "deepnote_cell_type": "markdown"
      },
      "block_group": "0a6fb650330e4bb58ec5c5676cc0b563"
    },
    {
      "cell_type": "code",
      "source": "df = pd.DataFrame([countries, data])\ndf",
      "metadata": {
        "cell_id": "796c342c2e42483d9829db954f1204e3",
        "slideshow": {
          "slide_type": "fragment"
        },
        "source_hash": null,
        "execution_start": 1691509094801,
        "execution_millis": 145,
        "deepnote_to_be_reexecuted": false,
        "deepnote_cell_type": "code"
      },
      "outputs": [
        {
          "output_type": "execute_result",
          "execution_count": 32,
          "data": {
            "application/vnd.deepnote.dataframe.v3+json": {
              "column_count": 5,
              "row_count": 2,
              "columns": [
                {
                  "name": 0,
                  "dtype": "object",
                  "stats": {
                    "unique_count": 2,
                    "nan_count": 0,
                    "categories": [
                      {
                        "name": "Colombia",
                        "count": 1
                      },
                      {
                        "name": "0.4691122999071863",
                        "count": 1
                      }
                    ]
                  }
                },
                {
                  "name": 1,
                  "dtype": "object",
                  "stats": {
                    "unique_count": 2,
                    "nan_count": 0,
                    "categories": [
                      {
                        "name": "Turkey",
                        "count": 1
                      },
                      {
                        "name": "-0.2828633443286633",
                        "count": 1
                      }
                    ]
                  }
                },
                {
                  "name": 2,
                  "dtype": "object",
                  "stats": {
                    "unique_count": 2,
                    "nan_count": 0,
                    "categories": [
                      {
                        "name": "United States",
                        "count": 1
                      },
                      {
                        "name": "-1.5090585031735124",
                        "count": 1
                      }
                    ]
                  }
                },
                {
                  "name": 3,
                  "dtype": "object",
                  "stats": {
                    "unique_count": 2,
                    "nan_count": 0,
                    "categories": [
                      {
                        "name": "Germany",
                        "count": 1
                      },
                      {
                        "name": "-1.1356323710171934",
                        "count": 1
                      }
                    ]
                  }
                },
                {
                  "name": 4,
                  "dtype": "object",
                  "stats": {
                    "unique_count": 2,
                    "nan_count": 0,
                    "categories": [
                      {
                        "name": "Chile",
                        "count": 1
                      },
                      {
                        "name": "1.2121120250208506",
                        "count": 1
                      }
                    ]
                  }
                },
                {
                  "name": "_deepnote_index_column",
                  "dtype": "object"
                }
              ],
              "rows": [
                {
                  "0": "Colombia",
                  "1": "Turkey",
                  "2": "United States",
                  "3": "Germany",
                  "4": "Chile",
                  "_deepnote_index_column": "country"
                },
                {
                  "0": "0.4691122999071863",
                  "1": "-0.2828633443286633",
                  "2": "-1.5090585031735124",
                  "3": "-1.1356323710171934",
                  "4": "1.2121120250208506",
                  "_deepnote_index_column": "noise"
                }
              ]
            },
            "text/plain": "                0         1              2         3         4\ncountry  Colombia    Turkey  United States   Germany     Chile\nnoise    0.469112 -0.282863      -1.509059 -1.135632  1.212112",
            "text/html": "<div>\n<style scoped>\n    .dataframe tbody tr th:only-of-type {\n        vertical-align: middle;\n    }\n\n    .dataframe tbody tr th {\n        vertical-align: top;\n    }\n\n    .dataframe thead th {\n        text-align: right;\n    }\n</style>\n<table border=\"1\" class=\"dataframe\">\n  <thead>\n    <tr style=\"text-align: right;\">\n      <th></th>\n      <th>0</th>\n      <th>1</th>\n      <th>2</th>\n      <th>3</th>\n      <th>4</th>\n    </tr>\n  </thead>\n  <tbody>\n    <tr>\n      <th>country</th>\n      <td>Colombia</td>\n      <td>Turkey</td>\n      <td>United States</td>\n      <td>Germany</td>\n      <td>Chile</td>\n    </tr>\n    <tr>\n      <th>noise</th>\n      <td>0.469112</td>\n      <td>-0.282863</td>\n      <td>-1.509059</td>\n      <td>-1.135632</td>\n      <td>1.212112</td>\n    </tr>\n  </tbody>\n</table>\n</div>"
          },
          "metadata": {}
        }
      ],
      "execution_count": null,
      "block_group": "796c342c2e42483d9829db954f1204e3"
    },
    {
      "cell_type": "markdown",
      "source": "Not exactly what we'd like, but don't worry, we can just transpose it so it has each country with its data in a row.",
      "metadata": {
        "cell_id": "52598b1491a948ed893b99484cd6c9c1",
        "slideshow": {
          "slide_type": "subslide"
        },
        "user_expressions": [],
        "deepnote_cell_type": "markdown"
      },
      "block_group": "52598b1491a948ed893b99484cd6c9c1"
    },
    {
      "cell_type": "code",
      "source": "df = df.T\ndf",
      "metadata": {
        "cell_id": "cdfeb0abf9604333bd5aca12a15527c7",
        "slideshow": {
          "slide_type": "fragment"
        },
        "source_hash": null,
        "execution_start": 1691509094819,
        "execution_millis": 337,
        "deepnote_to_be_reexecuted": false,
        "deepnote_cell_type": "code"
      },
      "outputs": [
        {
          "output_type": "execute_result",
          "execution_count": 33,
          "data": {
            "application/vnd.deepnote.dataframe.v3+json": {
              "column_count": 2,
              "row_count": 5,
              "columns": [
                {
                  "name": "country",
                  "dtype": "object",
                  "stats": {
                    "unique_count": 5,
                    "nan_count": 0,
                    "categories": [
                      {
                        "name": "Colombia",
                        "count": 1
                      },
                      {
                        "name": "Turkey",
                        "count": 1
                      },
                      {
                        "name": "3 others",
                        "count": 3
                      }
                    ]
                  }
                },
                {
                  "name": "noise",
                  "dtype": "object",
                  "stats": {
                    "unique_count": 5,
                    "nan_count": 0,
                    "categories": [
                      {
                        "name": "0.4691122999071863",
                        "count": 1
                      },
                      {
                        "name": "-0.2828633443286633",
                        "count": 1
                      },
                      {
                        "name": "3 others",
                        "count": 3
                      }
                    ]
                  }
                },
                {
                  "name": "_deepnote_index_column",
                  "dtype": "int64"
                }
              ],
              "rows": [
                {
                  "country": "Colombia",
                  "noise": "0.4691122999071863",
                  "_deepnote_index_column": 0
                },
                {
                  "country": "Turkey",
                  "noise": "-0.2828633443286633",
                  "_deepnote_index_column": 1
                },
                {
                  "country": "United States",
                  "noise": "-1.5090585031735124",
                  "_deepnote_index_column": 2
                },
                {
                  "country": "Germany",
                  "noise": "-1.1356323710171934",
                  "_deepnote_index_column": 3
                },
                {
                  "country": "Chile",
                  "noise": "1.2121120250208506",
                  "_deepnote_index_column": 4
                }
              ]
            },
            "text/plain": "         country     noise\n0       Colombia  0.469112\n1         Turkey -0.282863\n2  United States -1.509059\n3        Germany -1.135632\n4          Chile  1.212112",
            "text/html": "<div>\n<style scoped>\n    .dataframe tbody tr th:only-of-type {\n        vertical-align: middle;\n    }\n\n    .dataframe tbody tr th {\n        vertical-align: top;\n    }\n\n    .dataframe thead th {\n        text-align: right;\n    }\n</style>\n<table border=\"1\" class=\"dataframe\">\n  <thead>\n    <tr style=\"text-align: right;\">\n      <th></th>\n      <th>country</th>\n      <th>noise</th>\n    </tr>\n  </thead>\n  <tbody>\n    <tr>\n      <th>0</th>\n      <td>Colombia</td>\n      <td>0.469112</td>\n    </tr>\n    <tr>\n      <th>1</th>\n      <td>Turkey</td>\n      <td>-0.282863</td>\n    </tr>\n    <tr>\n      <th>2</th>\n      <td>United States</td>\n      <td>-1.509059</td>\n    </tr>\n    <tr>\n      <th>3</th>\n      <td>Germany</td>\n      <td>-1.135632</td>\n    </tr>\n    <tr>\n      <th>4</th>\n      <td>Chile</td>\n      <td>1.212112</td>\n    </tr>\n  </tbody>\n</table>\n</div>"
          },
          "metadata": {}
        }
      ],
      "execution_count": null,
      "block_group": "cdfeb0abf9604333bd5aca12a15527c7"
    },
    {
      "cell_type": "markdown",
      "source": "## Method 2",
      "metadata": {
        "cell_id": "38a067a3b006410f81b7e22c1976c09a",
        "slideshow": {
          "slide_type": "subslide"
        },
        "user_expressions": [],
        "deepnote_cell_type": "markdown"
      },
      "block_group": "38a067a3b006410f81b7e22c1976c09a"
    },
    {
      "cell_type": "code",
      "source": "df = pd.concat([countries, data], axis=1)\ndf",
      "metadata": {
        "cell_id": "7446a5d01d1a459b8aca4df75a97d900",
        "slideshow": {
          "slide_type": "fragment"
        },
        "source_hash": null,
        "execution_start": 1691509094895,
        "execution_millis": 243,
        "deepnote_to_be_reexecuted": false,
        "deepnote_cell_type": "code"
      },
      "outputs": [
        {
          "output_type": "execute_result",
          "execution_count": 34,
          "data": {
            "application/vnd.deepnote.dataframe.v3+json": {
              "column_count": 2,
              "row_count": 5,
              "columns": [
                {
                  "name": "country",
                  "dtype": "object",
                  "stats": {
                    "unique_count": 5,
                    "nan_count": 0,
                    "categories": [
                      {
                        "name": "Colombia",
                        "count": 1
                      },
                      {
                        "name": "Turkey",
                        "count": 1
                      },
                      {
                        "name": "3 others",
                        "count": 3
                      }
                    ]
                  }
                },
                {
                  "name": "noise",
                  "dtype": "float64",
                  "stats": {
                    "unique_count": 5,
                    "nan_count": 0,
                    "min": "-1.5090585031735124",
                    "max": "1.2121120250208506",
                    "histogram": [
                      {
                        "bin_start": -1.5090585031735124,
                        "bin_end": -1.236941450354076,
                        "count": 1
                      },
                      {
                        "bin_start": -1.236941450354076,
                        "bin_end": -0.9648243975346399,
                        "count": 1
                      },
                      {
                        "bin_start": -0.9648243975346399,
                        "bin_end": -0.6927073447152037,
                        "count": 0
                      },
                      {
                        "bin_start": -0.6927073447152037,
                        "bin_end": -0.42059029189576735,
                        "count": 0
                      },
                      {
                        "bin_start": -0.42059029189576735,
                        "bin_end": -0.14847323907633103,
                        "count": 1
                      },
                      {
                        "bin_start": -0.14847323907633103,
                        "bin_end": 0.12364381374310507,
                        "count": 0
                      },
                      {
                        "bin_start": 0.12364381374310507,
                        "bin_end": 0.3957608665625414,
                        "count": 0
                      },
                      {
                        "bin_start": 0.3957608665625414,
                        "bin_end": 0.6678779193819777,
                        "count": 1
                      },
                      {
                        "bin_start": 0.6678779193819777,
                        "bin_end": 0.9399949722014138,
                        "count": 0
                      },
                      {
                        "bin_start": 0.9399949722014138,
                        "bin_end": 1.2121120250208506,
                        "count": 1
                      }
                    ]
                  }
                },
                {
                  "name": "_deepnote_index_column",
                  "dtype": "int64"
                }
              ],
              "rows": [
                {
                  "country": "Colombia",
                  "noise": 0.4691122999071863,
                  "_deepnote_index_column": 0
                },
                {
                  "country": "Turkey",
                  "noise": -0.2828633443286633,
                  "_deepnote_index_column": 1
                },
                {
                  "country": "United States",
                  "noise": -1.5090585031735124,
                  "_deepnote_index_column": 2
                },
                {
                  "country": "Germany",
                  "noise": -1.1356323710171934,
                  "_deepnote_index_column": 3
                },
                {
                  "country": "Chile",
                  "noise": 1.2121120250208506,
                  "_deepnote_index_column": 4
                }
              ]
            },
            "text/plain": "         country     noise\n0       Colombia  0.469112\n1         Turkey -0.282863\n2  United States -1.509059\n3        Germany -1.135632\n4          Chile  1.212112",
            "text/html": "<div>\n<style scoped>\n    .dataframe tbody tr th:only-of-type {\n        vertical-align: middle;\n    }\n\n    .dataframe tbody tr th {\n        vertical-align: top;\n    }\n\n    .dataframe thead th {\n        text-align: right;\n    }\n</style>\n<table border=\"1\" class=\"dataframe\">\n  <thead>\n    <tr style=\"text-align: right;\">\n      <th></th>\n      <th>country</th>\n      <th>noise</th>\n    </tr>\n  </thead>\n  <tbody>\n    <tr>\n      <th>0</th>\n      <td>Colombia</td>\n      <td>0.469112</td>\n    </tr>\n    <tr>\n      <th>1</th>\n      <td>Turkey</td>\n      <td>-0.282863</td>\n    </tr>\n    <tr>\n      <th>2</th>\n      <td>United States</td>\n      <td>-1.509059</td>\n    </tr>\n    <tr>\n      <th>3</th>\n      <td>Germany</td>\n      <td>-1.135632</td>\n    </tr>\n    <tr>\n      <th>4</th>\n      <td>Chile</td>\n      <td>1.212112</td>\n    </tr>\n  </tbody>\n</table>\n</div>"
          },
          "metadata": {}
        }
      ],
      "execution_count": null,
      "block_group": "7446a5d01d1a459b8aca4df75a97d900"
    },
    {
      "cell_type": "markdown",
      "source": "## Method 3",
      "metadata": {
        "tags": [],
        "cell_id": "e29729e0e2054294a66558d6ba0abbaa",
        "slideshow": {
          "slide_type": "subslide"
        },
        "user_expressions": [],
        "deepnote_cell_type": "markdown"
      },
      "block_group": "e29729e0e2054294a66558d6ba0abbaa"
    },
    {
      "cell_type": "code",
      "source": "df = pd.DataFrame({'country':countries,\n                   'noise':data})\ndf",
      "metadata": {
        "cell_id": "8b0b972d67b441c1afaa71ab9901370a",
        "slideshow": {
          "slide_type": "fragment"
        },
        "source_hash": null,
        "execution_start": 1691509094898,
        "execution_millis": 667,
        "deepnote_to_be_reexecuted": false,
        "deepnote_cell_type": "code"
      },
      "outputs": [
        {
          "output_type": "execute_result",
          "execution_count": 35,
          "data": {
            "application/vnd.deepnote.dataframe.v3+json": {
              "column_count": 2,
              "row_count": 5,
              "columns": [
                {
                  "name": "country",
                  "dtype": "object",
                  "stats": {
                    "unique_count": 5,
                    "nan_count": 0,
                    "categories": [
                      {
                        "name": "Colombia",
                        "count": 1
                      },
                      {
                        "name": "Turkey",
                        "count": 1
                      },
                      {
                        "name": "3 others",
                        "count": 3
                      }
                    ]
                  }
                },
                {
                  "name": "noise",
                  "dtype": "float64",
                  "stats": {
                    "unique_count": 5,
                    "nan_count": 0,
                    "min": "-1.5090585031735124",
                    "max": "1.2121120250208506",
                    "histogram": [
                      {
                        "bin_start": -1.5090585031735124,
                        "bin_end": -1.236941450354076,
                        "count": 1
                      },
                      {
                        "bin_start": -1.236941450354076,
                        "bin_end": -0.9648243975346399,
                        "count": 1
                      },
                      {
                        "bin_start": -0.9648243975346399,
                        "bin_end": -0.6927073447152037,
                        "count": 0
                      },
                      {
                        "bin_start": -0.6927073447152037,
                        "bin_end": -0.42059029189576735,
                        "count": 0
                      },
                      {
                        "bin_start": -0.42059029189576735,
                        "bin_end": -0.14847323907633103,
                        "count": 1
                      },
                      {
                        "bin_start": -0.14847323907633103,
                        "bin_end": 0.12364381374310507,
                        "count": 0
                      },
                      {
                        "bin_start": 0.12364381374310507,
                        "bin_end": 0.3957608665625414,
                        "count": 0
                      },
                      {
                        "bin_start": 0.3957608665625414,
                        "bin_end": 0.6678779193819777,
                        "count": 1
                      },
                      {
                        "bin_start": 0.6678779193819777,
                        "bin_end": 0.9399949722014138,
                        "count": 0
                      },
                      {
                        "bin_start": 0.9399949722014138,
                        "bin_end": 1.2121120250208506,
                        "count": 1
                      }
                    ]
                  }
                },
                {
                  "name": "_deepnote_index_column",
                  "dtype": "int64"
                }
              ],
              "rows": [
                {
                  "country": "Colombia",
                  "noise": 0.4691122999071863,
                  "_deepnote_index_column": 0
                },
                {
                  "country": "Turkey",
                  "noise": -0.2828633443286633,
                  "_deepnote_index_column": 1
                },
                {
                  "country": "United States",
                  "noise": -1.5090585031735124,
                  "_deepnote_index_column": 2
                },
                {
                  "country": "Germany",
                  "noise": -1.1356323710171934,
                  "_deepnote_index_column": 3
                },
                {
                  "country": "Chile",
                  "noise": 1.2121120250208506,
                  "_deepnote_index_column": 4
                }
              ]
            },
            "text/plain": "         country     noise\n0       Colombia  0.469112\n1         Turkey -0.282863\n2  United States -1.509059\n3        Germany -1.135632\n4          Chile  1.212112",
            "text/html": "<div>\n<style scoped>\n    .dataframe tbody tr th:only-of-type {\n        vertical-align: middle;\n    }\n\n    .dataframe tbody tr th {\n        vertical-align: top;\n    }\n\n    .dataframe thead th {\n        text-align: right;\n    }\n</style>\n<table border=\"1\" class=\"dataframe\">\n  <thead>\n    <tr style=\"text-align: right;\">\n      <th></th>\n      <th>country</th>\n      <th>noise</th>\n    </tr>\n  </thead>\n  <tbody>\n    <tr>\n      <th>0</th>\n      <td>Colombia</td>\n      <td>0.469112</td>\n    </tr>\n    <tr>\n      <th>1</th>\n      <td>Turkey</td>\n      <td>-0.282863</td>\n    </tr>\n    <tr>\n      <th>2</th>\n      <td>United States</td>\n      <td>-1.509059</td>\n    </tr>\n    <tr>\n      <th>3</th>\n      <td>Germany</td>\n      <td>-1.135632</td>\n    </tr>\n    <tr>\n      <th>4</th>\n      <td>Chile</td>\n      <td>1.212112</td>\n    </tr>\n  </tbody>\n</table>\n</div>"
          },
          "metadata": {}
        }
      ],
      "execution_count": null,
      "block_group": "8b0b972d67b441c1afaa71ab9901370a"
    },
    {
      "cell_type": "markdown",
      "source": "## Adding more variables/rows",
      "metadata": {
        "cell_id": "eb15fd5fd5224506984e1606962bc382",
        "slideshow": {
          "slide_type": "subslide"
        },
        "user_expressions": [],
        "deepnote_cell_type": "markdown"
      },
      "block_group": "eb15fd5fd5224506984e1606962bc382"
    },
    {
      "cell_type": "markdown",
      "source": "Now let us add some more data to this dataframe. This is done easily by defining a new column. \n\nLet's create the square of ``noise``, create the sum of ``noise`` and its square, and get the length of the country's name. ",
      "metadata": {
        "cell_id": "bef35c0e233c4cc0b58f2ec91ecea0ce",
        "slideshow": {
          "slide_type": "fragment"
        },
        "user_expressions": [],
        "deepnote_cell_type": "markdown"
      },
      "block_group": "bef35c0e233c4cc0b58f2ec91ecea0ce"
    },
    {
      "cell_type": "code",
      "source": "df['noise_sq'] = df.noise**2\ndf['noise and its square'] = df.noise + df.noise_sq\ndf['name length'] = df.country.apply(len)\ndf",
      "metadata": {
        "cell_id": "c0966c1ab43b4fb684e2b951519c27f0",
        "slideshow": {
          "slide_type": "subslide"
        },
        "source_hash": null,
        "execution_start": 1691509094975,
        "execution_millis": 172,
        "deepnote_to_be_reexecuted": false,
        "deepnote_cell_type": "code"
      },
      "outputs": [
        {
          "output_type": "execute_result",
          "execution_count": 36,
          "data": {
            "application/vnd.deepnote.dataframe.v3+json": {
              "column_count": 5,
              "row_count": 5,
              "columns": [
                {
                  "name": "country",
                  "dtype": "object",
                  "stats": {
                    "unique_count": 5,
                    "nan_count": 0,
                    "categories": [
                      {
                        "name": "Colombia",
                        "count": 1
                      },
                      {
                        "name": "Turkey",
                        "count": 1
                      },
                      {
                        "name": "3 others",
                        "count": 3
                      }
                    ]
                  }
                },
                {
                  "name": "noise",
                  "dtype": "float64",
                  "stats": {
                    "unique_count": 5,
                    "nan_count": 0,
                    "min": "-1.5090585031735124",
                    "max": "1.2121120250208506",
                    "histogram": [
                      {
                        "bin_start": -1.5090585031735124,
                        "bin_end": -1.236941450354076,
                        "count": 1
                      },
                      {
                        "bin_start": -1.236941450354076,
                        "bin_end": -0.9648243975346399,
                        "count": 1
                      },
                      {
                        "bin_start": -0.9648243975346399,
                        "bin_end": -0.6927073447152037,
                        "count": 0
                      },
                      {
                        "bin_start": -0.6927073447152037,
                        "bin_end": -0.42059029189576735,
                        "count": 0
                      },
                      {
                        "bin_start": -0.42059029189576735,
                        "bin_end": -0.14847323907633103,
                        "count": 1
                      },
                      {
                        "bin_start": -0.14847323907633103,
                        "bin_end": 0.12364381374310507,
                        "count": 0
                      },
                      {
                        "bin_start": 0.12364381374310507,
                        "bin_end": 0.3957608665625414,
                        "count": 0
                      },
                      {
                        "bin_start": 0.3957608665625414,
                        "bin_end": 0.6678779193819777,
                        "count": 1
                      },
                      {
                        "bin_start": 0.6678779193819777,
                        "bin_end": 0.9399949722014138,
                        "count": 0
                      },
                      {
                        "bin_start": 0.9399949722014138,
                        "bin_end": 1.2121120250208506,
                        "count": 1
                      }
                    ]
                  }
                },
                {
                  "name": "noise_sq",
                  "dtype": "float64",
                  "stats": {
                    "unique_count": 5,
                    "nan_count": 0,
                    "min": "0.08001167156479592",
                    "max": "2.277257566000282",
                    "histogram": [
                      {
                        "bin_start": 0.08001167156479592,
                        "bin_end": 0.2997362610083445,
                        "count": 2
                      },
                      {
                        "bin_start": 0.2997362610083445,
                        "bin_end": 0.519460850451893,
                        "count": 0
                      },
                      {
                        "bin_start": 0.519460850451893,
                        "bin_end": 0.7391854398954417,
                        "count": 0
                      },
                      {
                        "bin_start": 0.7391854398954417,
                        "bin_end": 0.9589100293389903,
                        "count": 0
                      },
                      {
                        "bin_start": 0.9589100293389903,
                        "bin_end": 1.1786346187825387,
                        "count": 0
                      },
                      {
                        "bin_start": 1.1786346187825387,
                        "bin_end": 1.3983592082260874,
                        "count": 1
                      },
                      {
                        "bin_start": 1.3983592082260874,
                        "bin_end": 1.6180837976696358,
                        "count": 1
                      },
                      {
                        "bin_start": 1.6180837976696358,
                        "bin_end": 1.8378083871131845,
                        "count": 0
                      },
                      {
                        "bin_start": 1.8378083871131845,
                        "bin_end": 2.0575329765567334,
                        "count": 0
                      },
                      {
                        "bin_start": 2.0575329765567334,
                        "bin_end": 2.277257566000282,
                        "count": 1
                      }
                    ]
                  }
                },
                {
                  "name": "noise and its square",
                  "dtype": "float64",
                  "stats": {
                    "unique_count": 5,
                    "nan_count": 0,
                    "min": "-0.20285167276386734",
                    "max": "2.6813275862209975",
                    "histogram": [
                      {
                        "bin_start": -0.20285167276386734,
                        "bin_end": 0.08556625313461913,
                        "count": 1
                      },
                      {
                        "bin_start": 0.08556625313461913,
                        "bin_end": 0.3739841790331056,
                        "count": 1
                      },
                      {
                        "bin_start": 0.3739841790331056,
                        "bin_end": 0.662402104931592,
                        "count": 0
                      },
                      {
                        "bin_start": 0.662402104931592,
                        "bin_end": 0.9508200308300785,
                        "count": 2
                      },
                      {
                        "bin_start": 0.9508200308300785,
                        "bin_end": 1.239237956728565,
                        "count": 0
                      },
                      {
                        "bin_start": 1.239237956728565,
                        "bin_end": 1.5276558826270514,
                        "count": 0
                      },
                      {
                        "bin_start": 1.5276558826270514,
                        "bin_end": 1.8160738085255377,
                        "count": 0
                      },
                      {
                        "bin_start": 1.8160738085255377,
                        "bin_end": 2.1044917344240246,
                        "count": 0
                      },
                      {
                        "bin_start": 2.1044917344240246,
                        "bin_end": 2.3929096603225113,
                        "count": 0
                      },
                      {
                        "bin_start": 2.3929096603225113,
                        "bin_end": 2.6813275862209975,
                        "count": 1
                      }
                    ]
                  }
                },
                {
                  "name": "name length",
                  "dtype": "int64",
                  "stats": {
                    "unique_count": 5,
                    "nan_count": 0,
                    "min": "5",
                    "max": "13",
                    "histogram": [
                      {
                        "bin_start": 5,
                        "bin_end": 5.8,
                        "count": 1
                      },
                      {
                        "bin_start": 5.8,
                        "bin_end": 6.6,
                        "count": 1
                      },
                      {
                        "bin_start": 6.6,
                        "bin_end": 7.4,
                        "count": 1
                      },
                      {
                        "bin_start": 7.4,
                        "bin_end": 8.2,
                        "count": 1
                      },
                      {
                        "bin_start": 8.2,
                        "bin_end": 9,
                        "count": 0
                      },
                      {
                        "bin_start": 9,
                        "bin_end": 9.8,
                        "count": 0
                      },
                      {
                        "bin_start": 9.8,
                        "bin_end": 10.600000000000001,
                        "count": 0
                      },
                      {
                        "bin_start": 10.600000000000001,
                        "bin_end": 11.4,
                        "count": 0
                      },
                      {
                        "bin_start": 11.4,
                        "bin_end": 12.2,
                        "count": 0
                      },
                      {
                        "bin_start": 12.2,
                        "bin_end": 13,
                        "count": 1
                      }
                    ]
                  }
                },
                {
                  "name": "_deepnote_index_column",
                  "dtype": "int64"
                }
              ],
              "rows": [
                {
                  "country": "Colombia",
                  "noise": 0.4691122999071863,
                  "noise_sq": 0.2200663499242099,
                  "noise and its square": 0.6891786498313962,
                  "name length": 8,
                  "_deepnote_index_column": 0
                },
                {
                  "country": "Turkey",
                  "noise": -0.2828633443286633,
                  "noise_sq": 0.08001167156479592,
                  "noise and its square": -0.20285167276386734,
                  "name length": 6,
                  "_deepnote_index_column": 1
                },
                {
                  "country": "United States",
                  "noise": -1.5090585031735124,
                  "noise_sq": 2.277257566000282,
                  "noise and its square": 0.7681990628267694,
                  "name length": 13,
                  "_deepnote_index_column": 2
                },
                {
                  "country": "Germany",
                  "noise": -1.1356323710171934,
                  "noise_sq": 1.2896608821021325,
                  "noise and its square": 0.1540285110849391,
                  "name length": 7,
                  "_deepnote_index_column": 3
                },
                {
                  "country": "Chile",
                  "noise": 1.2121120250208506,
                  "noise_sq": 1.4692155612001472,
                  "noise and its square": 2.6813275862209975,
                  "name length": 5,
                  "_deepnote_index_column": 4
                }
              ]
            },
            "text/plain": "         country     noise  noise_sq  noise and its square  name length\n0       Colombia  0.469112  0.220066              0.689179            8\n1         Turkey -0.282863  0.080012             -0.202852            6\n2  United States -1.509059  2.277258              0.768199           13\n3        Germany -1.135632  1.289661              0.154029            7\n4          Chile  1.212112  1.469216              2.681328            5",
            "text/html": "<div>\n<style scoped>\n    .dataframe tbody tr th:only-of-type {\n        vertical-align: middle;\n    }\n\n    .dataframe tbody tr th {\n        vertical-align: top;\n    }\n\n    .dataframe thead th {\n        text-align: right;\n    }\n</style>\n<table border=\"1\" class=\"dataframe\">\n  <thead>\n    <tr style=\"text-align: right;\">\n      <th></th>\n      <th>country</th>\n      <th>noise</th>\n      <th>noise_sq</th>\n      <th>noise and its square</th>\n      <th>name length</th>\n    </tr>\n  </thead>\n  <tbody>\n    <tr>\n      <th>0</th>\n      <td>Colombia</td>\n      <td>0.469112</td>\n      <td>0.220066</td>\n      <td>0.689179</td>\n      <td>8</td>\n    </tr>\n    <tr>\n      <th>1</th>\n      <td>Turkey</td>\n      <td>-0.282863</td>\n      <td>0.080012</td>\n      <td>-0.202852</td>\n      <td>6</td>\n    </tr>\n    <tr>\n      <th>2</th>\n      <td>United States</td>\n      <td>-1.509059</td>\n      <td>2.277258</td>\n      <td>0.768199</td>\n      <td>13</td>\n    </tr>\n    <tr>\n      <th>3</th>\n      <td>Germany</td>\n      <td>-1.135632</td>\n      <td>1.289661</td>\n      <td>0.154029</td>\n      <td>7</td>\n    </tr>\n    <tr>\n      <th>4</th>\n      <td>Chile</td>\n      <td>1.212112</td>\n      <td>1.469216</td>\n      <td>2.681328</td>\n      <td>5</td>\n    </tr>\n  </tbody>\n</table>\n</div>"
          },
          "metadata": {}
        }
      ],
      "execution_count": null,
      "block_group": "c0966c1ab43b4fb684e2b951519c27f0"
    },
    {
      "cell_type": "markdown",
      "source": "This shows some of the ways in which you can create new data. \n\nEspecially useful is the ``apply`` method, which applies a function to the series. \n\nYou can also apply a function to the whole dataframe, which is useful if you want to perform computations using various columns.\n\nLet's see some other ways in which we can interact with dataframes. ",
      "metadata": {
        "tags": [],
        "cell_id": "bcce07b589104a928c14468b0c2757d8",
        "slideshow": {
          "slide_type": "subslide"
        },
        "user_expressions": [],
        "deepnote_cell_type": "markdown"
      },
      "block_group": "bcce07b589104a928c14468b0c2757d8"
    },
    {
      "cell_type": "markdown",
      "source": "## First, let's identify some observations, e.g., all countries in the South America.",
      "metadata": {
        "tags": [],
        "cell_id": "f80e3329a27342fa98a332efc4578527",
        "slideshow": {
          "slide_type": "subslide"
        },
        "user_expressions": [],
        "deepnote_cell_type": "markdown"
      },
      "block_group": "f80e3329a27342fa98a332efc4578527"
    },
    {
      "cell_type": "markdown",
      "source": "## Let's create a list of South American countries",
      "metadata": {
        "cell_id": "ff96d7dd15ae4c2fa2ccf4ca45548d8a",
        "slideshow": {
          "slide_type": "fragment"
        },
        "user_expressions": [],
        "deepnote_cell_type": "markdown"
      },
      "block_group": "ff96d7dd15ae4c2fa2ccf4ca45548d8a"
    },
    {
      "cell_type": "code",
      "source": "south_america = ['Colombia', 'Chile']",
      "metadata": {
        "cell_id": "26f01abf097041a38847160481f5cb4d",
        "slideshow": {
          "slide_type": "fragment"
        },
        "source_hash": null,
        "execution_start": 1691509094996,
        "execution_millis": 59,
        "deepnote_to_be_reexecuted": false,
        "deepnote_cell_type": "code"
      },
      "outputs": [],
      "execution_count": null,
      "block_group": "26f01abf097041a38847160481f5cb4d"
    },
    {
      "cell_type": "markdown",
      "source": "## Let's create a new dummy variable that identifies countries in South America \n## using `apply` and our `south_america` list",
      "metadata": {
        "cell_id": "87c6be68ea784e84b0863e71942638cc",
        "slideshow": {
          "slide_type": "subslide"
        },
        "user_expressions": [],
        "deepnote_cell_type": "markdown"
      },
      "block_group": "87c6be68ea784e84b0863e71942638cc"
    },
    {
      "cell_type": "code",
      "source": "df['South America Logical'] = df.country.apply(lambda x: x in south_america)\ndf",
      "metadata": {
        "cell_id": "b7142e5c41fe4775b60f9c7c76165bfa",
        "slideshow": {
          "slide_type": "subslide"
        },
        "source_hash": null,
        "execution_start": 1691509095026,
        "execution_millis": 207,
        "deepnote_to_be_reexecuted": false,
        "deepnote_cell_type": "code"
      },
      "outputs": [
        {
          "output_type": "execute_result",
          "execution_count": 38,
          "data": {
            "application/vnd.deepnote.dataframe.v3+json": {
              "column_count": 6,
              "row_count": 5,
              "columns": [
                {
                  "name": "country",
                  "dtype": "object",
                  "stats": {
                    "unique_count": 5,
                    "nan_count": 0,
                    "categories": [
                      {
                        "name": "Colombia",
                        "count": 1
                      },
                      {
                        "name": "Turkey",
                        "count": 1
                      },
                      {
                        "name": "3 others",
                        "count": 3
                      }
                    ]
                  }
                },
                {
                  "name": "noise",
                  "dtype": "float64",
                  "stats": {
                    "unique_count": 5,
                    "nan_count": 0,
                    "min": "-1.5090585031735124",
                    "max": "1.2121120250208506",
                    "histogram": [
                      {
                        "bin_start": -1.5090585031735124,
                        "bin_end": -1.236941450354076,
                        "count": 1
                      },
                      {
                        "bin_start": -1.236941450354076,
                        "bin_end": -0.9648243975346399,
                        "count": 1
                      },
                      {
                        "bin_start": -0.9648243975346399,
                        "bin_end": -0.6927073447152037,
                        "count": 0
                      },
                      {
                        "bin_start": -0.6927073447152037,
                        "bin_end": -0.42059029189576735,
                        "count": 0
                      },
                      {
                        "bin_start": -0.42059029189576735,
                        "bin_end": -0.14847323907633103,
                        "count": 1
                      },
                      {
                        "bin_start": -0.14847323907633103,
                        "bin_end": 0.12364381374310507,
                        "count": 0
                      },
                      {
                        "bin_start": 0.12364381374310507,
                        "bin_end": 0.3957608665625414,
                        "count": 0
                      },
                      {
                        "bin_start": 0.3957608665625414,
                        "bin_end": 0.6678779193819777,
                        "count": 1
                      },
                      {
                        "bin_start": 0.6678779193819777,
                        "bin_end": 0.9399949722014138,
                        "count": 0
                      },
                      {
                        "bin_start": 0.9399949722014138,
                        "bin_end": 1.2121120250208506,
                        "count": 1
                      }
                    ]
                  }
                },
                {
                  "name": "noise_sq",
                  "dtype": "float64",
                  "stats": {
                    "unique_count": 5,
                    "nan_count": 0,
                    "min": "0.08001167156479592",
                    "max": "2.277257566000282",
                    "histogram": [
                      {
                        "bin_start": 0.08001167156479592,
                        "bin_end": 0.2997362610083445,
                        "count": 2
                      },
                      {
                        "bin_start": 0.2997362610083445,
                        "bin_end": 0.519460850451893,
                        "count": 0
                      },
                      {
                        "bin_start": 0.519460850451893,
                        "bin_end": 0.7391854398954417,
                        "count": 0
                      },
                      {
                        "bin_start": 0.7391854398954417,
                        "bin_end": 0.9589100293389903,
                        "count": 0
                      },
                      {
                        "bin_start": 0.9589100293389903,
                        "bin_end": 1.1786346187825387,
                        "count": 0
                      },
                      {
                        "bin_start": 1.1786346187825387,
                        "bin_end": 1.3983592082260874,
                        "count": 1
                      },
                      {
                        "bin_start": 1.3983592082260874,
                        "bin_end": 1.6180837976696358,
                        "count": 1
                      },
                      {
                        "bin_start": 1.6180837976696358,
                        "bin_end": 1.8378083871131845,
                        "count": 0
                      },
                      {
                        "bin_start": 1.8378083871131845,
                        "bin_end": 2.0575329765567334,
                        "count": 0
                      },
                      {
                        "bin_start": 2.0575329765567334,
                        "bin_end": 2.277257566000282,
                        "count": 1
                      }
                    ]
                  }
                },
                {
                  "name": "noise and its square",
                  "dtype": "float64",
                  "stats": {
                    "unique_count": 5,
                    "nan_count": 0,
                    "min": "-0.20285167276386734",
                    "max": "2.6813275862209975",
                    "histogram": [
                      {
                        "bin_start": -0.20285167276386734,
                        "bin_end": 0.08556625313461913,
                        "count": 1
                      },
                      {
                        "bin_start": 0.08556625313461913,
                        "bin_end": 0.3739841790331056,
                        "count": 1
                      },
                      {
                        "bin_start": 0.3739841790331056,
                        "bin_end": 0.662402104931592,
                        "count": 0
                      },
                      {
                        "bin_start": 0.662402104931592,
                        "bin_end": 0.9508200308300785,
                        "count": 2
                      },
                      {
                        "bin_start": 0.9508200308300785,
                        "bin_end": 1.239237956728565,
                        "count": 0
                      },
                      {
                        "bin_start": 1.239237956728565,
                        "bin_end": 1.5276558826270514,
                        "count": 0
                      },
                      {
                        "bin_start": 1.5276558826270514,
                        "bin_end": 1.8160738085255377,
                        "count": 0
                      },
                      {
                        "bin_start": 1.8160738085255377,
                        "bin_end": 2.1044917344240246,
                        "count": 0
                      },
                      {
                        "bin_start": 2.1044917344240246,
                        "bin_end": 2.3929096603225113,
                        "count": 0
                      },
                      {
                        "bin_start": 2.3929096603225113,
                        "bin_end": 2.6813275862209975,
                        "count": 1
                      }
                    ]
                  }
                },
                {
                  "name": "name length",
                  "dtype": "int64",
                  "stats": {
                    "unique_count": 5,
                    "nan_count": 0,
                    "min": "5",
                    "max": "13",
                    "histogram": [
                      {
                        "bin_start": 5,
                        "bin_end": 5.8,
                        "count": 1
                      },
                      {
                        "bin_start": 5.8,
                        "bin_end": 6.6,
                        "count": 1
                      },
                      {
                        "bin_start": 6.6,
                        "bin_end": 7.4,
                        "count": 1
                      },
                      {
                        "bin_start": 7.4,
                        "bin_end": 8.2,
                        "count": 1
                      },
                      {
                        "bin_start": 8.2,
                        "bin_end": 9,
                        "count": 0
                      },
                      {
                        "bin_start": 9,
                        "bin_end": 9.8,
                        "count": 0
                      },
                      {
                        "bin_start": 9.8,
                        "bin_end": 10.600000000000001,
                        "count": 0
                      },
                      {
                        "bin_start": 10.600000000000001,
                        "bin_end": 11.4,
                        "count": 0
                      },
                      {
                        "bin_start": 11.4,
                        "bin_end": 12.2,
                        "count": 0
                      },
                      {
                        "bin_start": 12.2,
                        "bin_end": 13,
                        "count": 1
                      }
                    ]
                  }
                },
                {
                  "name": "South America Logical",
                  "dtype": "bool",
                  "stats": {
                    "unique_count": 2,
                    "nan_count": 0,
                    "categories": [
                      {
                        "name": "False",
                        "count": 3
                      },
                      {
                        "name": "True",
                        "count": 2
                      }
                    ]
                  }
                },
                {
                  "name": "_deepnote_index_column",
                  "dtype": "int64"
                }
              ],
              "rows": [
                {
                  "country": "Colombia",
                  "noise": 0.4691122999071863,
                  "noise_sq": 0.2200663499242099,
                  "noise and its square": 0.6891786498313962,
                  "name length": 8,
                  "South America Logical": "True",
                  "_deepnote_index_column": 0
                },
                {
                  "country": "Turkey",
                  "noise": -0.2828633443286633,
                  "noise_sq": 0.08001167156479592,
                  "noise and its square": -0.20285167276386734,
                  "name length": 6,
                  "South America Logical": "False",
                  "_deepnote_index_column": 1
                },
                {
                  "country": "United States",
                  "noise": -1.5090585031735124,
                  "noise_sq": 2.277257566000282,
                  "noise and its square": 0.7681990628267694,
                  "name length": 13,
                  "South America Logical": "False",
                  "_deepnote_index_column": 2
                },
                {
                  "country": "Germany",
                  "noise": -1.1356323710171934,
                  "noise_sq": 1.2896608821021325,
                  "noise and its square": 0.1540285110849391,
                  "name length": 7,
                  "South America Logical": "False",
                  "_deepnote_index_column": 3
                },
                {
                  "country": "Chile",
                  "noise": 1.2121120250208506,
                  "noise_sq": 1.4692155612001472,
                  "noise and its square": 2.6813275862209975,
                  "name length": 5,
                  "South America Logical": "True",
                  "_deepnote_index_column": 4
                }
              ]
            },
            "text/plain": "         country     noise  noise_sq  noise and its square  name length  \\\n0       Colombia  0.469112  0.220066              0.689179            8   \n1         Turkey -0.282863  0.080012             -0.202852            6   \n2  United States -1.509059  2.277258              0.768199           13   \n3        Germany -1.135632  1.289661              0.154029            7   \n4          Chile  1.212112  1.469216              2.681328            5   \n\n   South America Logical  \n0                   True  \n1                  False  \n2                  False  \n3                  False  \n4                   True  ",
            "text/html": "<div>\n<style scoped>\n    .dataframe tbody tr th:only-of-type {\n        vertical-align: middle;\n    }\n\n    .dataframe tbody tr th {\n        vertical-align: top;\n    }\n\n    .dataframe thead th {\n        text-align: right;\n    }\n</style>\n<table border=\"1\" class=\"dataframe\">\n  <thead>\n    <tr style=\"text-align: right;\">\n      <th></th>\n      <th>country</th>\n      <th>noise</th>\n      <th>noise_sq</th>\n      <th>noise and its square</th>\n      <th>name length</th>\n      <th>South America Logical</th>\n    </tr>\n  </thead>\n  <tbody>\n    <tr>\n      <th>0</th>\n      <td>Colombia</td>\n      <td>0.469112</td>\n      <td>0.220066</td>\n      <td>0.689179</td>\n      <td>8</td>\n      <td>True</td>\n    </tr>\n    <tr>\n      <th>1</th>\n      <td>Turkey</td>\n      <td>-0.282863</td>\n      <td>0.080012</td>\n      <td>-0.202852</td>\n      <td>6</td>\n      <td>False</td>\n    </tr>\n    <tr>\n      <th>2</th>\n      <td>United States</td>\n      <td>-1.509059</td>\n      <td>2.277258</td>\n      <td>0.768199</td>\n      <td>13</td>\n      <td>False</td>\n    </tr>\n    <tr>\n      <th>3</th>\n      <td>Germany</td>\n      <td>-1.135632</td>\n      <td>1.289661</td>\n      <td>0.154029</td>\n      <td>7</td>\n      <td>False</td>\n    </tr>\n    <tr>\n      <th>4</th>\n      <td>Chile</td>\n      <td>1.212112</td>\n      <td>1.469216</td>\n      <td>2.681328</td>\n      <td>5</td>\n      <td>True</td>\n    </tr>\n  </tbody>\n</table>\n</div>"
          },
          "metadata": {}
        }
      ],
      "execution_count": null,
      "block_group": "b7142e5c41fe4775b60f9c7c76165bfa"
    },
    {
      "cell_type": "markdown",
      "source": "## Notice the new column takes on *logical* values, i.e., `True` or `False`",
      "metadata": {
        "cell_id": "484280c532c34cb596673b49ff3fda59",
        "slideshow": {
          "slide_type": "subslide"
        },
        "user_expressions": [],
        "deepnote_cell_type": "markdown"
      },
      "block_group": "484280c532c34cb596673b49ff3fda59"
    },
    {
      "cell_type": "markdown",
      "source": "## More useful to have numerical values, where `1:True` and `0:False`",
      "metadata": {
        "cell_id": "ce64ef8394ff4f9e94d740ea596ea847",
        "slideshow": {
          "slide_type": "fragment"
        },
        "user_expressions": [],
        "deepnote_cell_type": "markdown"
      },
      "block_group": "ce64ef8394ff4f9e94d740ea596ea847"
    },
    {
      "cell_type": "markdown",
      "source": "## Method 1: Dictionary and `map`",
      "metadata": {
        "cell_id": "933815eeac09455eb65c8115862ad68b",
        "slideshow": {
          "slide_type": "subslide"
        },
        "user_expressions": [],
        "deepnote_cell_type": "markdown"
      },
      "block_group": "933815eeac09455eb65c8115862ad68b"
    },
    {
      "cell_type": "code",
      "source": "mydict = {True:1,\n          False:0}\ndf['South America Dict'] = df['South America Logical'].map(mydict)\ndf",
      "metadata": {
        "cell_id": "ff5ffac6c40b48b79ff51f6237a4785b",
        "slideshow": {
          "slide_type": "subslide"
        },
        "source_hash": null,
        "execution_start": 1691509095111,
        "execution_millis": 174,
        "deepnote_to_be_reexecuted": false,
        "deepnote_cell_type": "code"
      },
      "outputs": [
        {
          "output_type": "execute_result",
          "execution_count": 39,
          "data": {
            "application/vnd.deepnote.dataframe.v3+json": {
              "column_count": 7,
              "row_count": 5,
              "columns": [
                {
                  "name": "country",
                  "dtype": "object",
                  "stats": {
                    "unique_count": 5,
                    "nan_count": 0,
                    "categories": [
                      {
                        "name": "Colombia",
                        "count": 1
                      },
                      {
                        "name": "Turkey",
                        "count": 1
                      },
                      {
                        "name": "3 others",
                        "count": 3
                      }
                    ]
                  }
                },
                {
                  "name": "noise",
                  "dtype": "float64",
                  "stats": {
                    "unique_count": 5,
                    "nan_count": 0,
                    "min": "-1.5090585031735124",
                    "max": "1.2121120250208506",
                    "histogram": [
                      {
                        "bin_start": -1.5090585031735124,
                        "bin_end": -1.236941450354076,
                        "count": 1
                      },
                      {
                        "bin_start": -1.236941450354076,
                        "bin_end": -0.9648243975346399,
                        "count": 1
                      },
                      {
                        "bin_start": -0.9648243975346399,
                        "bin_end": -0.6927073447152037,
                        "count": 0
                      },
                      {
                        "bin_start": -0.6927073447152037,
                        "bin_end": -0.42059029189576735,
                        "count": 0
                      },
                      {
                        "bin_start": -0.42059029189576735,
                        "bin_end": -0.14847323907633103,
                        "count": 1
                      },
                      {
                        "bin_start": -0.14847323907633103,
                        "bin_end": 0.12364381374310507,
                        "count": 0
                      },
                      {
                        "bin_start": 0.12364381374310507,
                        "bin_end": 0.3957608665625414,
                        "count": 0
                      },
                      {
                        "bin_start": 0.3957608665625414,
                        "bin_end": 0.6678779193819777,
                        "count": 1
                      },
                      {
                        "bin_start": 0.6678779193819777,
                        "bin_end": 0.9399949722014138,
                        "count": 0
                      },
                      {
                        "bin_start": 0.9399949722014138,
                        "bin_end": 1.2121120250208506,
                        "count": 1
                      }
                    ]
                  }
                },
                {
                  "name": "noise_sq",
                  "dtype": "float64",
                  "stats": {
                    "unique_count": 5,
                    "nan_count": 0,
                    "min": "0.08001167156479592",
                    "max": "2.277257566000282",
                    "histogram": [
                      {
                        "bin_start": 0.08001167156479592,
                        "bin_end": 0.2997362610083445,
                        "count": 2
                      },
                      {
                        "bin_start": 0.2997362610083445,
                        "bin_end": 0.519460850451893,
                        "count": 0
                      },
                      {
                        "bin_start": 0.519460850451893,
                        "bin_end": 0.7391854398954417,
                        "count": 0
                      },
                      {
                        "bin_start": 0.7391854398954417,
                        "bin_end": 0.9589100293389903,
                        "count": 0
                      },
                      {
                        "bin_start": 0.9589100293389903,
                        "bin_end": 1.1786346187825387,
                        "count": 0
                      },
                      {
                        "bin_start": 1.1786346187825387,
                        "bin_end": 1.3983592082260874,
                        "count": 1
                      },
                      {
                        "bin_start": 1.3983592082260874,
                        "bin_end": 1.6180837976696358,
                        "count": 1
                      },
                      {
                        "bin_start": 1.6180837976696358,
                        "bin_end": 1.8378083871131845,
                        "count": 0
                      },
                      {
                        "bin_start": 1.8378083871131845,
                        "bin_end": 2.0575329765567334,
                        "count": 0
                      },
                      {
                        "bin_start": 2.0575329765567334,
                        "bin_end": 2.277257566000282,
                        "count": 1
                      }
                    ]
                  }
                },
                {
                  "name": "noise and its square",
                  "dtype": "float64",
                  "stats": {
                    "unique_count": 5,
                    "nan_count": 0,
                    "min": "-0.20285167276386734",
                    "max": "2.6813275862209975",
                    "histogram": [
                      {
                        "bin_start": -0.20285167276386734,
                        "bin_end": 0.08556625313461913,
                        "count": 1
                      },
                      {
                        "bin_start": 0.08556625313461913,
                        "bin_end": 0.3739841790331056,
                        "count": 1
                      },
                      {
                        "bin_start": 0.3739841790331056,
                        "bin_end": 0.662402104931592,
                        "count": 0
                      },
                      {
                        "bin_start": 0.662402104931592,
                        "bin_end": 0.9508200308300785,
                        "count": 2
                      },
                      {
                        "bin_start": 0.9508200308300785,
                        "bin_end": 1.239237956728565,
                        "count": 0
                      },
                      {
                        "bin_start": 1.239237956728565,
                        "bin_end": 1.5276558826270514,
                        "count": 0
                      },
                      {
                        "bin_start": 1.5276558826270514,
                        "bin_end": 1.8160738085255377,
                        "count": 0
                      },
                      {
                        "bin_start": 1.8160738085255377,
                        "bin_end": 2.1044917344240246,
                        "count": 0
                      },
                      {
                        "bin_start": 2.1044917344240246,
                        "bin_end": 2.3929096603225113,
                        "count": 0
                      },
                      {
                        "bin_start": 2.3929096603225113,
                        "bin_end": 2.6813275862209975,
                        "count": 1
                      }
                    ]
                  }
                },
                {
                  "name": "name length",
                  "dtype": "int64",
                  "stats": {
                    "unique_count": 5,
                    "nan_count": 0,
                    "min": "5",
                    "max": "13",
                    "histogram": [
                      {
                        "bin_start": 5,
                        "bin_end": 5.8,
                        "count": 1
                      },
                      {
                        "bin_start": 5.8,
                        "bin_end": 6.6,
                        "count": 1
                      },
                      {
                        "bin_start": 6.6,
                        "bin_end": 7.4,
                        "count": 1
                      },
                      {
                        "bin_start": 7.4,
                        "bin_end": 8.2,
                        "count": 1
                      },
                      {
                        "bin_start": 8.2,
                        "bin_end": 9,
                        "count": 0
                      },
                      {
                        "bin_start": 9,
                        "bin_end": 9.8,
                        "count": 0
                      },
                      {
                        "bin_start": 9.8,
                        "bin_end": 10.600000000000001,
                        "count": 0
                      },
                      {
                        "bin_start": 10.600000000000001,
                        "bin_end": 11.4,
                        "count": 0
                      },
                      {
                        "bin_start": 11.4,
                        "bin_end": 12.2,
                        "count": 0
                      },
                      {
                        "bin_start": 12.2,
                        "bin_end": 13,
                        "count": 1
                      }
                    ]
                  }
                },
                {
                  "name": "South America Logical",
                  "dtype": "bool",
                  "stats": {
                    "unique_count": 2,
                    "nan_count": 0,
                    "categories": [
                      {
                        "name": "False",
                        "count": 3
                      },
                      {
                        "name": "True",
                        "count": 2
                      }
                    ]
                  }
                },
                {
                  "name": "South America Dict",
                  "dtype": "int64",
                  "stats": {
                    "unique_count": 2,
                    "nan_count": 0,
                    "min": "0",
                    "max": "1",
                    "histogram": [
                      {
                        "bin_start": 0,
                        "bin_end": 0.1,
                        "count": 3
                      },
                      {
                        "bin_start": 0.1,
                        "bin_end": 0.2,
                        "count": 0
                      },
                      {
                        "bin_start": 0.2,
                        "bin_end": 0.30000000000000004,
                        "count": 0
                      },
                      {
                        "bin_start": 0.30000000000000004,
                        "bin_end": 0.4,
                        "count": 0
                      },
                      {
                        "bin_start": 0.4,
                        "bin_end": 0.5,
                        "count": 0
                      },
                      {
                        "bin_start": 0.5,
                        "bin_end": 0.6000000000000001,
                        "count": 0
                      },
                      {
                        "bin_start": 0.6000000000000001,
                        "bin_end": 0.7000000000000001,
                        "count": 0
                      },
                      {
                        "bin_start": 0.7000000000000001,
                        "bin_end": 0.8,
                        "count": 0
                      },
                      {
                        "bin_start": 0.8,
                        "bin_end": 0.9,
                        "count": 0
                      },
                      {
                        "bin_start": 0.9,
                        "bin_end": 1,
                        "count": 2
                      }
                    ]
                  }
                },
                {
                  "name": "_deepnote_index_column",
                  "dtype": "int64"
                }
              ],
              "rows": [
                {
                  "country": "Colombia",
                  "noise": 0.4691122999071863,
                  "noise_sq": 0.2200663499242099,
                  "noise and its square": 0.6891786498313962,
                  "name length": 8,
                  "South America Logical": "True",
                  "South America Dict": 1,
                  "_deepnote_index_column": 0
                },
                {
                  "country": "Turkey",
                  "noise": -0.2828633443286633,
                  "noise_sq": 0.08001167156479592,
                  "noise and its square": -0.20285167276386734,
                  "name length": 6,
                  "South America Logical": "False",
                  "South America Dict": 0,
                  "_deepnote_index_column": 1
                },
                {
                  "country": "United States",
                  "noise": -1.5090585031735124,
                  "noise_sq": 2.277257566000282,
                  "noise and its square": 0.7681990628267694,
                  "name length": 13,
                  "South America Logical": "False",
                  "South America Dict": 0,
                  "_deepnote_index_column": 2
                },
                {
                  "country": "Germany",
                  "noise": -1.1356323710171934,
                  "noise_sq": 1.2896608821021325,
                  "noise and its square": 0.1540285110849391,
                  "name length": 7,
                  "South America Logical": "False",
                  "South America Dict": 0,
                  "_deepnote_index_column": 3
                },
                {
                  "country": "Chile",
                  "noise": 1.2121120250208506,
                  "noise_sq": 1.4692155612001472,
                  "noise and its square": 2.6813275862209975,
                  "name length": 5,
                  "South America Logical": "True",
                  "South America Dict": 1,
                  "_deepnote_index_column": 4
                }
              ]
            },
            "text/plain": "         country     noise  noise_sq  noise and its square  name length  \\\n0       Colombia  0.469112  0.220066              0.689179            8   \n1         Turkey -0.282863  0.080012             -0.202852            6   \n2  United States -1.509059  2.277258              0.768199           13   \n3        Germany -1.135632  1.289661              0.154029            7   \n4          Chile  1.212112  1.469216              2.681328            5   \n\n   South America Logical  South America Dict  \n0                   True                   1  \n1                  False                   0  \n2                  False                   0  \n3                  False                   0  \n4                   True                   1  ",
            "text/html": "<div>\n<style scoped>\n    .dataframe tbody tr th:only-of-type {\n        vertical-align: middle;\n    }\n\n    .dataframe tbody tr th {\n        vertical-align: top;\n    }\n\n    .dataframe thead th {\n        text-align: right;\n    }\n</style>\n<table border=\"1\" class=\"dataframe\">\n  <thead>\n    <tr style=\"text-align: right;\">\n      <th></th>\n      <th>country</th>\n      <th>noise</th>\n      <th>noise_sq</th>\n      <th>noise and its square</th>\n      <th>name length</th>\n      <th>South America Logical</th>\n      <th>South America Dict</th>\n    </tr>\n  </thead>\n  <tbody>\n    <tr>\n      <th>0</th>\n      <td>Colombia</td>\n      <td>0.469112</td>\n      <td>0.220066</td>\n      <td>0.689179</td>\n      <td>8</td>\n      <td>True</td>\n      <td>1</td>\n    </tr>\n    <tr>\n      <th>1</th>\n      <td>Turkey</td>\n      <td>-0.282863</td>\n      <td>0.080012</td>\n      <td>-0.202852</td>\n      <td>6</td>\n      <td>False</td>\n      <td>0</td>\n    </tr>\n    <tr>\n      <th>2</th>\n      <td>United States</td>\n      <td>-1.509059</td>\n      <td>2.277258</td>\n      <td>0.768199</td>\n      <td>13</td>\n      <td>False</td>\n      <td>0</td>\n    </tr>\n    <tr>\n      <th>3</th>\n      <td>Germany</td>\n      <td>-1.135632</td>\n      <td>1.289661</td>\n      <td>0.154029</td>\n      <td>7</td>\n      <td>False</td>\n      <td>0</td>\n    </tr>\n    <tr>\n      <th>4</th>\n      <td>Chile</td>\n      <td>1.212112</td>\n      <td>1.469216</td>\n      <td>2.681328</td>\n      <td>5</td>\n      <td>True</td>\n      <td>1</td>\n    </tr>\n  </tbody>\n</table>\n</div>"
          },
          "metadata": {}
        }
      ],
      "execution_count": null,
      "block_group": "ff5ffac6c40b48b79ff51f6237a4785b"
    },
    {
      "cell_type": "markdown",
      "source": "## Method 2: Change type",
      "metadata": {
        "cell_id": "9a5270466f5b4918a7259b95ed18fb8f",
        "slideshow": {
          "slide_type": "subslide"
        },
        "user_expressions": [],
        "deepnote_cell_type": "markdown"
      },
      "block_group": "9a5270466f5b4918a7259b95ed18fb8f"
    },
    {
      "cell_type": "code",
      "source": "df['South America'] = df.country.apply(lambda x: x in south_america).astype(int)\ndf",
      "metadata": {
        "cell_id": "bc28ea0326f74b2ea429fd39a08b0b1a",
        "slideshow": {
          "slide_type": "fragment"
        },
        "source_hash": null,
        "execution_start": 1691509095116,
        "execution_millis": 262,
        "deepnote_to_be_reexecuted": false,
        "deepnote_cell_type": "code"
      },
      "outputs": [
        {
          "output_type": "execute_result",
          "execution_count": 40,
          "data": {
            "application/vnd.deepnote.dataframe.v3+json": {
              "column_count": 8,
              "row_count": 5,
              "columns": [
                {
                  "name": "country",
                  "dtype": "object",
                  "stats": {
                    "unique_count": 5,
                    "nan_count": 0,
                    "categories": [
                      {
                        "name": "Colombia",
                        "count": 1
                      },
                      {
                        "name": "Turkey",
                        "count": 1
                      },
                      {
                        "name": "3 others",
                        "count": 3
                      }
                    ]
                  }
                },
                {
                  "name": "noise",
                  "dtype": "float64",
                  "stats": {
                    "unique_count": 5,
                    "nan_count": 0,
                    "min": "-1.5090585031735124",
                    "max": "1.2121120250208506",
                    "histogram": [
                      {
                        "bin_start": -1.5090585031735124,
                        "bin_end": -1.236941450354076,
                        "count": 1
                      },
                      {
                        "bin_start": -1.236941450354076,
                        "bin_end": -0.9648243975346399,
                        "count": 1
                      },
                      {
                        "bin_start": -0.9648243975346399,
                        "bin_end": -0.6927073447152037,
                        "count": 0
                      },
                      {
                        "bin_start": -0.6927073447152037,
                        "bin_end": -0.42059029189576735,
                        "count": 0
                      },
                      {
                        "bin_start": -0.42059029189576735,
                        "bin_end": -0.14847323907633103,
                        "count": 1
                      },
                      {
                        "bin_start": -0.14847323907633103,
                        "bin_end": 0.12364381374310507,
                        "count": 0
                      },
                      {
                        "bin_start": 0.12364381374310507,
                        "bin_end": 0.3957608665625414,
                        "count": 0
                      },
                      {
                        "bin_start": 0.3957608665625414,
                        "bin_end": 0.6678779193819777,
                        "count": 1
                      },
                      {
                        "bin_start": 0.6678779193819777,
                        "bin_end": 0.9399949722014138,
                        "count": 0
                      },
                      {
                        "bin_start": 0.9399949722014138,
                        "bin_end": 1.2121120250208506,
                        "count": 1
                      }
                    ]
                  }
                },
                {
                  "name": "noise_sq",
                  "dtype": "float64",
                  "stats": {
                    "unique_count": 5,
                    "nan_count": 0,
                    "min": "0.08001167156479592",
                    "max": "2.277257566000282",
                    "histogram": [
                      {
                        "bin_start": 0.08001167156479592,
                        "bin_end": 0.2997362610083445,
                        "count": 2
                      },
                      {
                        "bin_start": 0.2997362610083445,
                        "bin_end": 0.519460850451893,
                        "count": 0
                      },
                      {
                        "bin_start": 0.519460850451893,
                        "bin_end": 0.7391854398954417,
                        "count": 0
                      },
                      {
                        "bin_start": 0.7391854398954417,
                        "bin_end": 0.9589100293389903,
                        "count": 0
                      },
                      {
                        "bin_start": 0.9589100293389903,
                        "bin_end": 1.1786346187825387,
                        "count": 0
                      },
                      {
                        "bin_start": 1.1786346187825387,
                        "bin_end": 1.3983592082260874,
                        "count": 1
                      },
                      {
                        "bin_start": 1.3983592082260874,
                        "bin_end": 1.6180837976696358,
                        "count": 1
                      },
                      {
                        "bin_start": 1.6180837976696358,
                        "bin_end": 1.8378083871131845,
                        "count": 0
                      },
                      {
                        "bin_start": 1.8378083871131845,
                        "bin_end": 2.0575329765567334,
                        "count": 0
                      },
                      {
                        "bin_start": 2.0575329765567334,
                        "bin_end": 2.277257566000282,
                        "count": 1
                      }
                    ]
                  }
                },
                {
                  "name": "noise and its square",
                  "dtype": "float64",
                  "stats": {
                    "unique_count": 5,
                    "nan_count": 0,
                    "min": "-0.20285167276386734",
                    "max": "2.6813275862209975",
                    "histogram": [
                      {
                        "bin_start": -0.20285167276386734,
                        "bin_end": 0.08556625313461913,
                        "count": 1
                      },
                      {
                        "bin_start": 0.08556625313461913,
                        "bin_end": 0.3739841790331056,
                        "count": 1
                      },
                      {
                        "bin_start": 0.3739841790331056,
                        "bin_end": 0.662402104931592,
                        "count": 0
                      },
                      {
                        "bin_start": 0.662402104931592,
                        "bin_end": 0.9508200308300785,
                        "count": 2
                      },
                      {
                        "bin_start": 0.9508200308300785,
                        "bin_end": 1.239237956728565,
                        "count": 0
                      },
                      {
                        "bin_start": 1.239237956728565,
                        "bin_end": 1.5276558826270514,
                        "count": 0
                      },
                      {
                        "bin_start": 1.5276558826270514,
                        "bin_end": 1.8160738085255377,
                        "count": 0
                      },
                      {
                        "bin_start": 1.8160738085255377,
                        "bin_end": 2.1044917344240246,
                        "count": 0
                      },
                      {
                        "bin_start": 2.1044917344240246,
                        "bin_end": 2.3929096603225113,
                        "count": 0
                      },
                      {
                        "bin_start": 2.3929096603225113,
                        "bin_end": 2.6813275862209975,
                        "count": 1
                      }
                    ]
                  }
                },
                {
                  "name": "name length",
                  "dtype": "int64",
                  "stats": {
                    "unique_count": 5,
                    "nan_count": 0,
                    "min": "5",
                    "max": "13",
                    "histogram": [
                      {
                        "bin_start": 5,
                        "bin_end": 5.8,
                        "count": 1
                      },
                      {
                        "bin_start": 5.8,
                        "bin_end": 6.6,
                        "count": 1
                      },
                      {
                        "bin_start": 6.6,
                        "bin_end": 7.4,
                        "count": 1
                      },
                      {
                        "bin_start": 7.4,
                        "bin_end": 8.2,
                        "count": 1
                      },
                      {
                        "bin_start": 8.2,
                        "bin_end": 9,
                        "count": 0
                      },
                      {
                        "bin_start": 9,
                        "bin_end": 9.8,
                        "count": 0
                      },
                      {
                        "bin_start": 9.8,
                        "bin_end": 10.600000000000001,
                        "count": 0
                      },
                      {
                        "bin_start": 10.600000000000001,
                        "bin_end": 11.4,
                        "count": 0
                      },
                      {
                        "bin_start": 11.4,
                        "bin_end": 12.2,
                        "count": 0
                      },
                      {
                        "bin_start": 12.2,
                        "bin_end": 13,
                        "count": 1
                      }
                    ]
                  }
                },
                {
                  "name": "South America Logical",
                  "dtype": "bool",
                  "stats": {
                    "unique_count": 2,
                    "nan_count": 0,
                    "categories": [
                      {
                        "name": "False",
                        "count": 3
                      },
                      {
                        "name": "True",
                        "count": 2
                      }
                    ]
                  }
                },
                {
                  "name": "South America Dict",
                  "dtype": "int64",
                  "stats": {
                    "unique_count": 2,
                    "nan_count": 0,
                    "min": "0",
                    "max": "1",
                    "histogram": [
                      {
                        "bin_start": 0,
                        "bin_end": 0.1,
                        "count": 3
                      },
                      {
                        "bin_start": 0.1,
                        "bin_end": 0.2,
                        "count": 0
                      },
                      {
                        "bin_start": 0.2,
                        "bin_end": 0.30000000000000004,
                        "count": 0
                      },
                      {
                        "bin_start": 0.30000000000000004,
                        "bin_end": 0.4,
                        "count": 0
                      },
                      {
                        "bin_start": 0.4,
                        "bin_end": 0.5,
                        "count": 0
                      },
                      {
                        "bin_start": 0.5,
                        "bin_end": 0.6000000000000001,
                        "count": 0
                      },
                      {
                        "bin_start": 0.6000000000000001,
                        "bin_end": 0.7000000000000001,
                        "count": 0
                      },
                      {
                        "bin_start": 0.7000000000000001,
                        "bin_end": 0.8,
                        "count": 0
                      },
                      {
                        "bin_start": 0.8,
                        "bin_end": 0.9,
                        "count": 0
                      },
                      {
                        "bin_start": 0.9,
                        "bin_end": 1,
                        "count": 2
                      }
                    ]
                  }
                },
                {
                  "name": "South America",
                  "dtype": "int64",
                  "stats": {
                    "unique_count": 2,
                    "nan_count": 0,
                    "min": "0",
                    "max": "1",
                    "histogram": [
                      {
                        "bin_start": 0,
                        "bin_end": 0.1,
                        "count": 3
                      },
                      {
                        "bin_start": 0.1,
                        "bin_end": 0.2,
                        "count": 0
                      },
                      {
                        "bin_start": 0.2,
                        "bin_end": 0.30000000000000004,
                        "count": 0
                      },
                      {
                        "bin_start": 0.30000000000000004,
                        "bin_end": 0.4,
                        "count": 0
                      },
                      {
                        "bin_start": 0.4,
                        "bin_end": 0.5,
                        "count": 0
                      },
                      {
                        "bin_start": 0.5,
                        "bin_end": 0.6000000000000001,
                        "count": 0
                      },
                      {
                        "bin_start": 0.6000000000000001,
                        "bin_end": 0.7000000000000001,
                        "count": 0
                      },
                      {
                        "bin_start": 0.7000000000000001,
                        "bin_end": 0.8,
                        "count": 0
                      },
                      {
                        "bin_start": 0.8,
                        "bin_end": 0.9,
                        "count": 0
                      },
                      {
                        "bin_start": 0.9,
                        "bin_end": 1,
                        "count": 2
                      }
                    ]
                  }
                },
                {
                  "name": "_deepnote_index_column",
                  "dtype": "int64"
                }
              ],
              "rows": [
                {
                  "country": "Colombia",
                  "noise": 0.4691122999071863,
                  "noise_sq": 0.2200663499242099,
                  "noise and its square": 0.6891786498313962,
                  "name length": 8,
                  "South America Logical": "True",
                  "South America Dict": 1,
                  "South America": 1,
                  "_deepnote_index_column": 0
                },
                {
                  "country": "Turkey",
                  "noise": -0.2828633443286633,
                  "noise_sq": 0.08001167156479592,
                  "noise and its square": -0.20285167276386734,
                  "name length": 6,
                  "South America Logical": "False",
                  "South America Dict": 0,
                  "South America": 0,
                  "_deepnote_index_column": 1
                },
                {
                  "country": "United States",
                  "noise": -1.5090585031735124,
                  "noise_sq": 2.277257566000282,
                  "noise and its square": 0.7681990628267694,
                  "name length": 13,
                  "South America Logical": "False",
                  "South America Dict": 0,
                  "South America": 0,
                  "_deepnote_index_column": 2
                },
                {
                  "country": "Germany",
                  "noise": -1.1356323710171934,
                  "noise_sq": 1.2896608821021325,
                  "noise and its square": 0.1540285110849391,
                  "name length": 7,
                  "South America Logical": "False",
                  "South America Dict": 0,
                  "South America": 0,
                  "_deepnote_index_column": 3
                },
                {
                  "country": "Chile",
                  "noise": 1.2121120250208506,
                  "noise_sq": 1.4692155612001472,
                  "noise and its square": 2.6813275862209975,
                  "name length": 5,
                  "South America Logical": "True",
                  "South America Dict": 1,
                  "South America": 1,
                  "_deepnote_index_column": 4
                }
              ]
            },
            "text/plain": "         country     noise  noise_sq  noise and its square  name length  \\\n0       Colombia  0.469112  0.220066              0.689179            8   \n1         Turkey -0.282863  0.080012             -0.202852            6   \n2  United States -1.509059  2.277258              0.768199           13   \n3        Germany -1.135632  1.289661              0.154029            7   \n4          Chile  1.212112  1.469216              2.681328            5   \n\n   South America Logical  South America Dict  South America  \n0                   True                   1              1  \n1                  False                   0              0  \n2                  False                   0              0  \n3                  False                   0              0  \n4                   True                   1              1  ",
            "text/html": "<div>\n<style scoped>\n    .dataframe tbody tr th:only-of-type {\n        vertical-align: middle;\n    }\n\n    .dataframe tbody tr th {\n        vertical-align: top;\n    }\n\n    .dataframe thead th {\n        text-align: right;\n    }\n</style>\n<table border=\"1\" class=\"dataframe\">\n  <thead>\n    <tr style=\"text-align: right;\">\n      <th></th>\n      <th>country</th>\n      <th>noise</th>\n      <th>noise_sq</th>\n      <th>noise and its square</th>\n      <th>name length</th>\n      <th>South America Logical</th>\n      <th>South America Dict</th>\n      <th>South America</th>\n    </tr>\n  </thead>\n  <tbody>\n    <tr>\n      <th>0</th>\n      <td>Colombia</td>\n      <td>0.469112</td>\n      <td>0.220066</td>\n      <td>0.689179</td>\n      <td>8</td>\n      <td>True</td>\n      <td>1</td>\n      <td>1</td>\n    </tr>\n    <tr>\n      <th>1</th>\n      <td>Turkey</td>\n      <td>-0.282863</td>\n      <td>0.080012</td>\n      <td>-0.202852</td>\n      <td>6</td>\n      <td>False</td>\n      <td>0</td>\n      <td>0</td>\n    </tr>\n    <tr>\n      <th>2</th>\n      <td>United States</td>\n      <td>-1.509059</td>\n      <td>2.277258</td>\n      <td>0.768199</td>\n      <td>13</td>\n      <td>False</td>\n      <td>0</td>\n      <td>0</td>\n    </tr>\n    <tr>\n      <th>3</th>\n      <td>Germany</td>\n      <td>-1.135632</td>\n      <td>1.289661</td>\n      <td>0.154029</td>\n      <td>7</td>\n      <td>False</td>\n      <td>0</td>\n      <td>0</td>\n    </tr>\n    <tr>\n      <th>4</th>\n      <td>Chile</td>\n      <td>1.212112</td>\n      <td>1.469216</td>\n      <td>2.681328</td>\n      <td>5</td>\n      <td>True</td>\n      <td>1</td>\n      <td>1</td>\n    </tr>\n  </tbody>\n</table>\n</div>"
          },
          "metadata": {}
        }
      ],
      "execution_count": null,
      "block_group": "bc28ea0326f74b2ea429fd39a08b0b1a"
    },
    {
      "cell_type": "markdown",
      "source": "# <center>Exercises</center>",
      "metadata": {
        "cell_id": "b9d5937163674b65a0c0194bc169aaef",
        "slideshow": {
          "slide_type": "slide"
        },
        "user_expressions": [],
        "deepnote_cell_type": "markdown"
      },
      "block_group": "b9d5937163674b65a0c0194bc169aaef"
    },
    {
      "cell_type": "markdown",
      "source": "<div class=\"alert alert-block alert-warning\">\n<b>Exercise 0:</b> Create a copy of this notebook that you will use for solving these exercises. You will need some of the results and code we have above.\n</div>",
      "metadata": {
        "tags": [],
        "slideshow": {
          "slide_type": "subslide"
        },
        "user_expressions": [],
        "cell_id": "8d13ce50b0604abb8c03e937fa8098f6",
        "deepnote_cell_type": "markdown"
      },
      "block_group": "d886841ff2a347cb8408002e9e4137a7"
    },
    {
      "cell_type": "markdown",
      "source": "<div class=\"alert alert-block alert-warning\">\n<b>Exercise 1:</b> Create a new dataframe <code>pop</code> with population data downloaded from <a href=\"https://en.wikipedia.org/wiki/List_of_countries_by_population_(United_Nations)\">Wikipedia</a>. Make sure to clean the data so it can be used further.\n</div>",
      "metadata": {
        "tags": [],
        "cell_id": "69fe75b4a423465b9207e574b00eed18",
        "slideshow": {
          "slide_type": "fragment"
        },
        "user_expressions": [],
        "deepnote_cell_type": "markdown"
      },
      "block_group": "69fe75b4a423465b9207e574b00eed18"
    },
    {
      "cell_type": "markdown",
      "source": "<div class=\"alert alert-block alert-warning\">\n<b>Exercise 2:</b> Merge the <code>isocodes</code> and <code>pop</code> dataframes.\n</div>",
      "metadata": {
        "tags": [],
        "cell_id": "40fb2e277a2c4542acc26a0b954ca7ed",
        "slideshow": {
          "slide_type": "fragment"
        },
        "user_expressions": [],
        "deepnote_cell_type": "markdown"
      },
      "block_group": "40fb2e277a2c4542acc26a0b954ca7ed"
    },
    {
      "cell_type": "markdown",
      "source": "<div class=\"alert alert-block alert-warning\">\n<b>Exercise 3:</b> Merge the dataframes we have created so far to have a unique dataframe that has ISO codes, GDP per capita, and population data.\n</div>",
      "metadata": {
        "tags": [],
        "cell_id": "4eebf95cf4564710aa9e381400c4c4d2",
        "slideshow": {
          "slide_type": "subslide"
        },
        "user_expressions": [],
        "deepnote_cell_type": "markdown"
      },
      "block_group": "4eebf95cf4564710aa9e381400c4c4d2"
    },
    {
      "cell_type": "markdown",
      "source": "<div class=\"alert alert-block alert-warning\">\n<b>Exercise 4:</b> Use the <code>os</code> package to create folders to export data and figures. \nSince you will be using the names of these folders a lot, save their names in variables called <code>path</code>, <code>pathout</code>, and <code>pathgraphs</code>, where <code>path = './data/'</code>, <code>pathout = './data/'</code>, and <code>pathgraphs = './graphs/'</code>\n</div>",
      "metadata": {
        "tags": [],
        "cell_id": "e5679ecd8d82461281e125d1da55a7a2",
        "slideshow": {
          "slide_type": "fragment"
        },
        "user_expressions": [],
        "deepnote_cell_type": "markdown"
      },
      "block_group": "e5679ecd8d82461281e125d1da55a7a2"
    },
    {
      "cell_type": "markdown",
      "source": "<div class=\"alert alert-block alert-warning\">\n    <b>Exercise 5:</b> Save the dataframe created in Exercise 3 as a <b>CSV, XLSX, and Stata</b> file into the <code>pathout</code> folder. Use a variable called <code>filename = 'Wiki_Data'</code> so you can use similar code to save all file types. Notice only the filetype will change.\n</div>",
      "metadata": {
        "tags": [],
        "cell_id": "12b4ae365395492c9756c7b0b3fbbd79",
        "slideshow": {
          "slide_type": "fragment"
        },
        "user_expressions": [],
        "deepnote_cell_type": "markdown"
      },
      "block_group": "12b4ae365395492c9756c7b0b3fbbd79"
    },
    {
      "cell_type": "markdown",
      "source": "<div class=\"alert alert-block alert-warning\">\n<b>Exercise 6:</b> Create plots showing the relation between GDP per capita and Population. Create all 4 types of possible regression plots and save them as <b> PNG, PDF, and JPG</b> files. Make sure to save them in the folder you created for <b>graphs</b>\n</div>",
      "metadata": {
        "tags": [],
        "cell_id": "f051c5f820404abfb6baf1c37f11d681",
        "slideshow": {
          "slide_type": "subslide"
        },
        "user_expressions": [],
        "deepnote_cell_type": "markdown"
      },
      "block_group": "f051c5f820404abfb6baf1c37f11d681"
    },
    {
      "cell_type": "markdown",
      "source": "<div class=\"alert alert-block alert-warning\">\n<b>Exercise 7:</b> Create plots showing the relation between GDP per capita and Population Growth. Create all 4 types of possible regression plots and save them as <b> PNG, PDF, and JPG</b> files. Make sure to save them in the folder you created for <b>graphs</b>\n</div>",
      "metadata": {
        "tags": [],
        "cell_id": "5fa58076ddcc4d3585d54c1cf03758fa",
        "slideshow": {
          "slide_type": "fragment"
        },
        "user_expressions": [],
        "deepnote_cell_type": "markdown"
      },
      "block_group": "5fa58076ddcc4d3585d54c1cf03758fa"
    },
    {
      "cell_type": "markdown",
      "source": "<div class=\"alert alert-block alert-warning\">\n<b>Exercise 8:</b> Using the notebook create slides for presenting your work and results. Once you have your slides, create a new public repo, publish it, and make sure to create a READ.ME file that show links to the notebook, html, and slides. Also, create the gh-pages branch to have a working slides webpage.\n</div>",
      "metadata": {
        "tags": [],
        "cell_id": "10baaf90dbc043ca9c402eb656af9ffd",
        "slideshow": {
          "slide_type": "fragment"
        },
        "user_expressions": [],
        "deepnote_cell_type": "markdown"
      },
      "block_group": "10baaf90dbc043ca9c402eb656af9ffd"
    },
    {
      "cell_type": "markdown",
      "source": "Notebook written by [Ömer Özak](http://omerozak.com) for his students in Economics at [Southern Methodist University](http://www.smu.edu). Feel free to use, distribute, or contribute.",
      "metadata": {
        "tags": [],
        "cell_id": "464da7d6de564a4a803d85b9420afdf1",
        "slideshow": {
          "slide_type": "slide"
        },
        "user_expressions": [],
        "deepnote_cell_type": "markdown"
      },
      "block_group": "464da7d6de564a4a803d85b9420afdf1"
    },
    {
      "cell_type": "markdown",
      "source": "[<center><img src=\"https://github.com/measuring-culture/Expanding-Measurement-Culture-Facebook-JRSI/blob/main/pics/SMUlogowWordmarkRB.jpg?raw=true\" width=\"250\"></center>](http://omerozak.com)",
      "metadata": {
        "tags": [],
        "cell_id": "d7b6d3772f1a4836b2e737c9ca0b8f8d",
        "slideshow": {
          "slide_type": "-"
        },
        "user_expressions": [],
        "deepnote_cell_type": "markdown"
      },
      "block_group": "d7b6d3772f1a4836b2e737c9ca0b8f8d"
    },
    {
      "cell_type": "markdown",
      "source": "<a style='text-decoration:none;line-height:16px;display:flex;color:#5B5B62;padding:10px;justify-content:end;' href='https://deepnote.com?utm_source=created-in-deepnote-cell&projectId=09d7a592-44de-45cd-8405-cff90bcdfaae' target=\"_blank\">\n<img alt='Created in deepnote.com' style='display:inline;max-height:16px;margin:0px;margin-right:7.5px;' src='data:image/svg+xml;base64,PD94bWwgdmVyc2lvbj0iMS4wIiBlbmNvZGluZz0iVVRGLTgiPz4KPHN2ZyB3aWR0aD0iODBweCIgaGVpZ2h0PSI4MHB4IiB2aWV3Qm94PSIwIDAgODAgODAiIHZlcnNpb249IjEuMSIgeG1sbnM9Imh0dHA6Ly93d3cudzMub3JnLzIwMDAvc3ZnIiB4bWxuczp4bGluaz0iaHR0cDovL3d3dy53My5vcmcvMTk5OS94bGluayI+CiAgICA8IS0tIEdlbmVyYXRvcjogU2tldGNoIDU0LjEgKDc2NDkwKSAtIGh0dHBzOi8vc2tldGNoYXBwLmNvbSAtLT4KICAgIDx0aXRsZT5Hcm91cCAzPC90aXRsZT4KICAgIDxkZXNjPkNyZWF0ZWQgd2l0aCBTa2V0Y2guPC9kZXNjPgogICAgPGcgaWQ9IkxhbmRpbmciIHN0cm9rZT0ibm9uZSIgc3Ryb2tlLXdpZHRoPSIxIiBmaWxsPSJub25lIiBmaWxsLXJ1bGU9ImV2ZW5vZGQiPgogICAgICAgIDxnIGlkPSJBcnRib2FyZCIgdHJhbnNmb3JtPSJ0cmFuc2xhdGUoLTEyMzUuMDAwMDAwLCAtNzkuMDAwMDAwKSI+CiAgICAgICAgICAgIDxnIGlkPSJHcm91cC0zIiB0cmFuc2Zvcm09InRyYW5zbGF0ZSgxMjM1LjAwMDAwMCwgNzkuMDAwMDAwKSI+CiAgICAgICAgICAgICAgICA8cG9seWdvbiBpZD0iUGF0aC0yMCIgZmlsbD0iIzAyNjVCNCIgcG9pbnRzPSIyLjM3NjIzNzYyIDgwIDM4LjA0NzY2NjcgODAgNTcuODIxNzgyMiA3My44MDU3NTkyIDU3LjgyMTc4MjIgMzIuNzU5MjczOSAzOS4xNDAyMjc4IDMxLjY4MzE2ODMiPjwvcG9seWdvbj4KICAgICAgICAgICAgICAgIDxwYXRoIGQ9Ik0zNS4wMDc3MTgsODAgQzQyLjkwNjIwMDcsNzYuNDU0OTM1OCA0Ny41NjQ5MTY3LDcxLjU0MjI2NzEgNDguOTgzODY2LDY1LjI2MTk5MzkgQzUxLjExMjI4OTksNTUuODQxNTg0MiA0MS42NzcxNzk1LDQ5LjIxMjIyODQgMjUuNjIzOTg0Niw0OS4yMTIyMjg0IEMyNS40ODQ5Mjg5LDQ5LjEyNjg0NDggMjkuODI2MTI5Niw0My4yODM4MjQ4IDM4LjY0NzU4NjksMzEuNjgzMTY4MyBMNzIuODcxMjg3MSwzMi41NTQ0MjUgTDY1LjI4MDk3Myw2Ny42NzYzNDIxIEw1MS4xMTIyODk5LDc3LjM3NjE0NCBMMzUuMDA3NzE4LDgwIFoiIGlkPSJQYXRoLTIyIiBmaWxsPSIjMDAyODY4Ij48L3BhdGg+CiAgICAgICAgICAgICAgICA8cGF0aCBkPSJNMCwzNy43MzA0NDA1IEwyNy4xMTQ1MzcsMC4yNTcxMTE0MzYgQzYyLjM3MTUxMjMsLTEuOTkwNzE3MDEgODAsMTAuNTAwMzkyNyA4MCwzNy43MzA0NDA1IEM4MCw2NC45NjA0ODgyIDY0Ljc3NjUwMzgsNzkuMDUwMzQxNCAzNC4zMjk1MTEzLDgwIEM0Ny4wNTUzNDg5LDc3LjU2NzA4MDggNTMuNDE4MjY3Nyw3MC4zMTM2MTAzIDUzLjQxODI2NzcsNTguMjM5NTg4NSBDNTMuNDE4MjY3Nyw0MC4xMjg1NTU3IDM2LjMwMzk1NDQsMzcuNzMwNDQwNSAyNS4yMjc0MTcsMzcuNzMwNDQwNSBDMTcuODQzMDU4NiwzNy43MzA0NDA1IDkuNDMzOTE5NjYsMzcuNzMwNDQwNSAwLDM3LjczMDQ0MDUgWiIgaWQ9IlBhdGgtMTkiIGZpbGw9IiMzNzkzRUYiPjwvcGF0aD4KICAgICAgICAgICAgPC9nPgogICAgICAgIDwvZz4KICAgIDwvZz4KPC9zdmc+' > </img>\nCreated in <span style='font-weight:600;margin-left:4px;'>Deepnote</span></a>",
      "metadata": {
        "created_in_deepnote_cell": true,
        "deepnote_cell_type": "markdown"
      }
    }
  ],
  "nbformat": 4,
  "nbformat_minor": 0,
  "metadata": {
    "widgets": {
      "application/vnd.jupyter.widget-state+json": {
        "state": {},
        "version_major": 2,
        "version_minor": 0
      }
    },
    "deepnote": {},
    "kernelspec": {
      "name": "python3",
      "language": "python",
      "display_name": "Python 3 (ipykernel)"
    },
    "celltoolbar": "Slideshow",
    "nbTranslate": {
      "hotkey": "alt-t",
      "sourceLang": "en",
      "targetLang": "fr",
      "displayLangs": [
        "*"
      ],
      "langInMainMenu": true,
      "useGoogleTranslate": true
    },
    "language_info": {
      "name": "python",
      "version": "3.9.15",
      "mimetype": "text/x-python",
      "file_extension": ".py",
      "pygments_lexer": "ipython3",
      "codemirror_mode": {
        "name": "ipython",
        "version": 3
      },
      "nbconvert_exporter": "python"
    },
    "deepnote_notebook_id": "af3a542cf14648f180043a15c04dc725",
    "deepnote_execution_queue": []
  }
}