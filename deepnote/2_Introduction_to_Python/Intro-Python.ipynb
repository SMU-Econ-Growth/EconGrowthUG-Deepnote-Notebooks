{
  "cells": [
    {
      "cell_type": "markdown",
      "source": "# <center>Introduction to <img src=\"https://www.python.org/static/community_logos/python-logo-inkscape.svg\" alt=\"Python\" width=300/> and <img src=\"https://ipython.org/_static/IPy_header.png\" alt=\"IPython\" width=300/> using <img src=\"https://raw.githubusercontent.com/SMU-Econ-Growth/EconGrowthUG-Notebooks/f432ff2bc8a9dedb01d67399bf526ed1b5c69964//pics/jupyter-logo.png\" alt=\"Jupyter\" width=300/> or <img src=\"https://mms.businesswire.com/media/20220526005103/en/1467491/5/deepnote-logo.jpg\" alt=\"Jupyter\" width=300/></center>",
      "metadata": {
        "tags": [],
        "slideshow": {
          "slide_type": "slide"
        },
        "user_expressions": [],
        "cell_id": "d1487cafa2774c19ac160e5e1a17c806",
        "deepnote_cell_type": "markdown"
      },
      "block_group": "d1487cafa2774c19ac160e5e1a17c806"
    },
    {
      "cell_type": "markdown",
      "source": "# <center> What is Python?</center>",
      "metadata": {
        "cell_id": "185050865caf468faaac084f3c23deff",
        "slideshow": {
          "slide_type": "slide"
        },
        "user_expressions": [],
        "deepnote_cell_type": "markdown"
      },
      "block_group": "185050865caf468faaac084f3c23deff"
    },
    {
      "cell_type": "markdown",
      "source": "**Python** is a powerful and easy to use programming language. It has a large community of developers and given its open source nature, you can find many solutions, scripts, and help all over the web. It is easy to learn and code, and faster than other high-level programming languages...and did I mention it is _free_ because it is **open-source** ",
      "metadata": {
        "cell_id": "0c8576459eb84b10a2eb9650d2298ee0",
        "slideshow": {
          "slide_type": "fragment"
        },
        "user_expressions": [],
        "deepnote_cell_type": "markdown"
      },
      "block_group": "0c8576459eb84b10a2eb9650d2298ee0"
    },
    {
      "cell_type": "markdown",
      "source": "# <center>Who uses Python?</center>",
      "metadata": {
        "cell_id": "b5fe87a7db344ac3ac9c94d951b458c4",
        "slideshow": {
          "slide_type": "slide"
        },
        "deepnote_cell_type": "markdown"
      },
      "block_group": "b5fe87a7db344ac3ac9c94d951b458c4"
    },
    {
      "cell_type": "markdown",
      "source": "**Python** is used by Intel, IBM, NASA, Pixar, Netflix, Facebook, JP Morgan Chase, Spotify, Uber, Goldman Sachs, PayPal, among many others",
      "metadata": {
        "cell_id": "28e2da3b44254b1682d97db258c8af0a",
        "slideshow": {
          "slide_type": "skip"
        },
        "deepnote_cell_type": "markdown"
      },
      "block_group": "28e2da3b44254b1682d97db258c8af0a"
    },
    {
      "cell_type": "markdown",
      "source": "|<img src=\"https://raw.githubusercontent.com/SMU-Econ-Growth/EconGrowthUG-Notebooks/34cb1033f420b6af51b24502db650791fc9ecc67/pics/NASA-logo.svg\" style=\"width:200px\">|<img src=\"https://raw.githubusercontent.com/SMU-Econ-Growth/EconGrowthUG-Notebooks/34cb1033f420b6af51b24502db650791fc9ecc67/pics/Goldman_Sachs_Blue_Box.svg\" style=\"width:200px\">|<img src=\"https://raw.githubusercontent.com/SMU-Econ-Growth/EconGrowthUG-Notebooks/683dd970bc14cad0dcad0ee21e12a911af6648d7/pics/IBM-logo.svg\" style=\"width:200px\">|<img src=\"https://raw.githubusercontent.com/SMU-Econ-Growth/EconGrowthUG-Notebooks/683dd970bc14cad0dcad0ee21e12a911af6648d7/pics/paypal-logo.svg\" style=\"width:200px\">|\n|:-:|:-:|:-:|:-:|\n|<img src=\"https://raw.githubusercontent.com/SMU-Econ-Growth/EconGrowthUG-Notebooks/34cb1033f420b6af51b24502db650791fc9ecc67/pics/NOAA-logo.svg\" style=\"width:200px\">|<img src=\"https://raw.githubusercontent.com/SMU-Econ-Growth/EconGrowthUG-Notebooks/683dd970bc14cad0dcad0ee21e12a911af6648d7/pics/amazon-logo.svg\" style=\"width:200px\">|<img src=\"https://raw.githubusercontent.com/SMU-Econ-Growth/EconGrowthUG-Notebooks/683dd970bc14cad0dcad0ee21e12a911af6648d7/pics/google-logo.svg\" style=\"width:200px\">|<img src=\"https://raw.githubusercontent.com/SMU-Econ-Growth/EconGrowthUG-Notebooks/34cb1033f420b6af51b24502db650791fc9ecc67/pics/uber-logo.png\" style=\"width:200px\">|\n|<img src=\"https://raw.githubusercontent.com/SMU-Econ-Growth/EconGrowthUG-Notebooks/34cb1033f420b6af51b24502db650791fc9ecc67/pics/netflix-logo-app-png-16.png\" style=\"width:200px\">|<img src=\"https://raw.githubusercontent.com/SMU-Econ-Growth/EconGrowthUG-Notebooks/683dd970bc14cad0dcad0ee21e12a911af6648d7/pics/Facebook-logo.svg\" style=\"width:200px\">|<img src=\"https://raw.githubusercontent.com/SMU-Econ-Growth/EconGrowthUG-Notebooks/34cb1033f420b6af51b24502db650791fc9ecc67/pics/Pixar-Logo.png\" style=\"width:200px\">|<img src=\"https://github.com/SMU-Econ-Growth/EconGrowthUG-Notebooks/blob/main/pics/spotify-logo.png?raw=true\" style=\"width:200px\">|\n",
      "metadata": {
        "cell_id": "f1fe36a4fe7c4721ab96a469ee1047e1",
        "slideshow": {
          "slide_type": "subslide"
        },
        "deepnote_cell_type": "markdown"
      },
      "block_group": "f1fe36a4fe7c4721ab96a469ee1047e1"
    },
    {
      "cell_type": "markdown",
      "source": "# <center> First steps</center>",
      "metadata": {
        "cell_id": "23e3d0764722465f9cdcb997125f8d1d",
        "slideshow": {
          "slide_type": "slide"
        },
        "user_expressions": [],
        "deepnote_cell_type": "markdown"
      },
      "block_group": "23e3d0764722465f9cdcb997125f8d1d"
    },
    {
      "cell_type": "markdown",
      "source": "Let's start by running some simple commands at the prompt to do some simple computations.",
      "metadata": {
        "cell_id": "fe4c3463bbc0464a953c8f330d9dd894",
        "slideshow": {
          "slide_type": "fragment"
        },
        "user_expressions": [],
        "deepnote_cell_type": "markdown"
      },
      "block_group": "fe4c3463bbc0464a953c8f330d9dd894"
    },
    {
      "cell_type": "markdown",
      "source": "We can perform addition and substractions like $1 + 1 - 2 = $ {{1 + 1 - 2}}",
      "metadata": {
        "cell_id": "fd4fe64635ea488984765b3d96c03422",
        "slideshow": {
          "slide_type": "fragment"
        },
        "variables": {
          "1 + 1 - 2": "0"
        },
        "deepnote_cell_type": "markdown"
      },
      "block_group": "fd4fe64635ea488984765b3d96c03422"
    },
    {
      "cell_type": "code",
      "source": "1 + 1 - 2",
      "metadata": {
        "cell_id": "56cd565038ce4ee09b095241081aa47d",
        "slideshow": {
          "slide_type": "-"
        },
        "source_hash": "cb7c33ad",
        "execution_start": 1680735443259,
        "execution_millis": 3,
        "deepnote_to_be_reexecuted": false,
        "deepnote_cell_type": "code"
      },
      "outputs": [
        {
          "output_type": "execute_result",
          "execution_count": 1,
          "data": {
            "text/plain": "0"
          },
          "metadata": {}
        }
      ],
      "execution_count": 1,
      "block_group": "56cd565038ce4ee09b095241081aa47d"
    },
    {
      "cell_type": "markdown",
      "source": "Multiplication and division like $3 * 2=${{3 * 2}} or $1/2=${{1/2}}",
      "metadata": {
        "cell_id": "242e9a2d3e664310b7a5602b2f31bdc0",
        "slideshow": {
          "slide_type": "subslide"
        },
        "variables": {
          "1/2": "0.5",
          "3 * 2": "6"
        },
        "deepnote_cell_type": "markdown"
      },
      "block_group": "242e9a2d3e664310b7a5602b2f31bdc0"
    },
    {
      "cell_type": "code",
      "source": "3*2",
      "metadata": {
        "cell_id": "77210c1e6cbb403287c665ac728c3f1d",
        "slideshow": {
          "slide_type": "-"
        },
        "source_hash": "cab3ef96",
        "execution_start": 1680735443259,
        "execution_millis": 4,
        "deepnote_to_be_reexecuted": false,
        "deepnote_cell_type": "code"
      },
      "outputs": [
        {
          "output_type": "execute_result",
          "execution_count": 2,
          "data": {
            "text/plain": "6"
          },
          "metadata": {}
        }
      ],
      "execution_count": 2,
      "block_group": "77210c1e6cbb403287c665ac728c3f1d"
    },
    {
      "cell_type": "code",
      "source": "1 / 2",
      "metadata": {
        "cell_id": "cfdf01d88e8d48ac9400dacd3ab3b4fd",
        "slideshow": {
          "slide_type": "-"
        },
        "source_hash": "943f5321",
        "execution_start": 1680735443263,
        "execution_millis": 5,
        "deepnote_to_be_reexecuted": false,
        "deepnote_cell_type": "code"
      },
      "outputs": [
        {
          "output_type": "execute_result",
          "execution_count": 3,
          "data": {
            "text/plain": "0.5"
          },
          "metadata": {}
        }
      ],
      "execution_count": 3,
      "block_group": "cfdf01d88e8d48ac9400dacd3ab3b4fd"
    },
    {
      "cell_type": "markdown",
      "source": "Compute powers $x^y$ as `x ** y`",
      "metadata": {
        "cell_id": "b67c5253ee5f4e889dff5255b15683e0",
        "slideshow": {
          "slide_type": "subslide"
        },
        "deepnote_cell_type": "markdown"
      },
      "block_group": "b67c5253ee5f4e889dff5255b15683e0"
    },
    {
      "cell_type": "code",
      "source": "3**2",
      "metadata": {
        "cell_id": "ba7216738a14412d898e71d43b261b61",
        "slideshow": {
          "slide_type": "-"
        },
        "source_hash": "750fa90b",
        "execution_start": 1680735443268,
        "execution_millis": 2,
        "deepnote_to_be_reexecuted": false,
        "deepnote_cell_type": "code"
      },
      "outputs": [
        {
          "output_type": "execute_result",
          "execution_count": 4,
          "data": {
            "text/plain": "9"
          },
          "metadata": {}
        }
      ],
      "execution_count": 4,
      "block_group": "ba7216738a14412d898e71d43b261b61"
    },
    {
      "cell_type": "markdown",
      "source": "Python obeys the usual orders for operators, so exponentiation before multiplication/division, etc.",
      "metadata": {
        "cell_id": "8f5a6cc06c354413bd64fd3700d8062a",
        "slideshow": {
          "slide_type": "fragment"
        },
        "user_expressions": [],
        "deepnote_cell_type": "markdown"
      },
      "block_group": "8f5a6cc06c354413bd64fd3700d8062a"
    },
    {
      "cell_type": "code",
      "source": "-1**2",
      "metadata": {
        "cell_id": "04d4fa21b4294263be3aa1a4f8fe9fa9",
        "slideshow": {
          "slide_type": "fragment"
        },
        "source_hash": "f993b09b",
        "execution_start": 1680735443308,
        "execution_millis": 10,
        "deepnote_to_be_reexecuted": false,
        "deepnote_cell_type": "code"
      },
      "outputs": [
        {
          "output_type": "execute_result",
          "execution_count": 5,
          "data": {
            "text/plain": "-1"
          },
          "metadata": {}
        }
      ],
      "execution_count": 5,
      "block_group": "04d4fa21b4294263be3aa1a4f8fe9fa9"
    },
    {
      "cell_type": "code",
      "source": "3 * (3 - 2)",
      "metadata": {
        "cell_id": "241c73c1dde249589ca6033903667413",
        "slideshow": {
          "slide_type": "fragment"
        },
        "source_hash": "7fc40f1d",
        "execution_start": 1680735443308,
        "execution_millis": 10,
        "deepnote_to_be_reexecuted": false,
        "deepnote_cell_type": "code"
      },
      "outputs": [
        {
          "output_type": "execute_result",
          "execution_count": 6,
          "data": {
            "text/plain": "3"
          },
          "metadata": {}
        }
      ],
      "execution_count": 6,
      "block_group": "241c73c1dde249589ca6033903667413"
    },
    {
      "cell_type": "code",
      "source": "3 * 3 - 2",
      "metadata": {
        "cell_id": "d6971fa690be4349adb7eb511358e6ef",
        "slideshow": {
          "slide_type": "fragment"
        },
        "source_hash": "a900148b",
        "execution_start": 1680735443308,
        "execution_millis": 11,
        "deepnote_to_be_reexecuted": false,
        "deepnote_cell_type": "code"
      },
      "outputs": [
        {
          "output_type": "execute_result",
          "execution_count": 7,
          "data": {
            "text/plain": "7"
          },
          "metadata": {}
        }
      ],
      "execution_count": 7,
      "block_group": "d6971fa690be4349adb7eb511358e6ef"
    },
    {
      "cell_type": "markdown",
      "source": "# <center> Getting help </center>",
      "metadata": {
        "cell_id": "2c7f1c3081a84d9c8868a2c5fb010a5c",
        "slideshow": {
          "slide_type": "slide"
        },
        "user_expressions": [],
        "deepnote_cell_type": "markdown"
      },
      "block_group": "2c7f1c3081a84d9c8868a2c5fb010a5c"
    },
    {
      "cell_type": "markdown",
      "source": "So what else can we do? Where do we start if we are new? You can use `?` or `help()` to get help.",
      "metadata": {
        "cell_id": "f2a961809319455db5bf903d705128fc",
        "slideshow": {
          "slide_type": "fragment"
        },
        "user_expressions": [],
        "deepnote_cell_type": "markdown"
      },
      "block_group": "f2a961809319455db5bf903d705128fc"
    },
    {
      "cell_type": "code",
      "source": "?",
      "metadata": {
        "cell_id": "cab3fb31ebe748a68b392272743a6a40",
        "slideshow": {
          "slide_type": "subslide"
        },
        "source_hash": "91433932",
        "execution_start": 1680735443320,
        "execution_millis": 4,
        "deepnote_to_be_reexecuted": false,
        "deepnote_cell_type": "code"
      },
      "outputs": [
        {
          "name": "stdout",
          "text": "\nIPython -- An enhanced Interactive Python\n=========================================\n\nIPython offers a fully compatible replacement for the standard Python\ninterpreter, with convenient shell features, special commands, command\nhistory mechanism and output results caching.\n\nAt your system command line, type 'ipython -h' to see the command line\noptions available. This document only describes interactive features.\n\nGETTING HELP\n------------\n\nWithin IPython you have various way to access help:\n\n  ?         -> Introduction and overview of IPython's features (this screen).\n  object?   -> Details about 'object'.\n  object??  -> More detailed, verbose information about 'object'.\n  %quickref -> Quick reference of all IPython specific syntax and magics.\n  help      -> Access Python's own help system.\n\nIf you are in terminal IPython you can quit this screen by pressing `q`.\n\n\nMAIN FEATURES\n-------------\n\n* Access to the standard Python help with object docstrings and the Python\n  manuals. Simply type 'help' (no quotes) to invoke it.\n\n* Magic commands: type %magic for information on the magic subsystem.\n\n* System command aliases, via the %alias command or the configuration file(s).\n\n* Dynamic object information:\n\n  Typing ?word or word? prints detailed information about an object. Certain\n  long strings (code, etc.) get snipped in the center for brevity.\n\n  Typing ??word or word?? gives access to the full information without\n  snipping long strings. Strings that are longer than the screen are printed\n  through the less pager.\n\n  The ?/?? system gives access to the full source code for any object (if\n  available), shows function prototypes and other useful information.\n\n  If you just want to see an object's docstring, type '%pdoc object' (without\n  quotes, and without % if you have automagic on).\n\n* Tab completion in the local namespace:\n\n  At any time, hitting tab will complete any available python commands or\n  variable names, and show you a list of the possible completions if there's\n  no unambiguous one. It will also complete filenames in the current directory.\n\n* Search previous command history in multiple ways:\n\n  - Start typing, and then use arrow keys up/down or (Ctrl-p/Ctrl-n) to search\n    through the history items that match what you've typed so far.\n\n  - Hit Ctrl-r: opens a search prompt. Begin typing and the system searches\n    your history for lines that match what you've typed so far, completing as\n    much as it can.\n\n  - %hist: search history by index.\n\n* Persistent command history across sessions.\n\n* Logging of input with the ability to save and restore a working session.\n\n* System shell with !. Typing !ls will run 'ls' in the current directory.\n\n* The reload command does a 'deep' reload of a module: changes made to the\n  module since you imported will actually be available without having to exit.\n\n* Verbose and colored exception traceback printouts. See the magic xmode and\n  xcolor functions for details (just type %magic).\n\n* Input caching system:\n\n  IPython offers numbered prompts (In/Out) with input and output caching. All\n  input is saved and can be retrieved as variables (besides the usual arrow\n  key recall).\n\n  The following GLOBAL variables always exist (so don't overwrite them!):\n  _i: stores previous input.\n  _ii: next previous.\n  _iii: next-next previous.\n  _ih : a list of all input _ih[n] is the input from line n.\n\n  Additionally, global variables named _i<n> are dynamically created (<n>\n  being the prompt counter), such that _i<n> == _ih[<n>]\n\n  For example, what you typed at prompt 14 is available as _i14 and _ih[14].\n\n  You can create macros which contain multiple input lines from this history,\n  for later re-execution, with the %macro function.\n\n  The history function %hist allows you to see any part of your input history\n  by printing a range of the _i variables. Note that inputs which contain\n  magic functions (%) appear in the history with a prepended comment. This is\n  because they aren't really valid Python code, so you can't exec them.\n\n* Output caching system:\n\n  For output that is returned from actions, a system similar to the input\n  cache exists but using _ instead of _i. Only actions that produce a result\n  (NOT assignments, for example) are cached. If you are familiar with\n  Mathematica, IPython's _ variables behave exactly like Mathematica's %\n  variables.\n\n  The following GLOBAL variables always exist (so don't overwrite them!):\n  _ (one underscore): previous output.\n  __ (two underscores): next previous.\n  ___ (three underscores): next-next previous.\n\n  Global variables named _<n> are dynamically created (<n> being the prompt\n  counter), such that the result of output <n> is always available as _<n>.\n\n  Finally, a global dictionary named _oh exists with entries for all lines\n  which generated output.\n\n* Directory history:\n\n  Your history of visited directories is kept in the global list _dh, and the\n  magic %cd command can be used to go to any entry in that list.\n\n* Auto-parentheses and auto-quotes (adapted from Nathan Gray's LazyPython)\n\n  1. Auto-parentheses\n        \n     Callable objects (i.e. functions, methods, etc) can be invoked like\n     this (notice the commas between the arguments)::\n       \n         In [1]: callable_ob arg1, arg2, arg3\n       \n     and the input will be translated to this::\n       \n         callable_ob(arg1, arg2, arg3)\n       \n     This feature is off by default (in rare cases it can produce\n     undesirable side-effects), but you can activate it at the command-line\n     by starting IPython with `--autocall 1`, set it permanently in your\n     configuration file, or turn on at runtime with `%autocall 1`.\n\n     You can force auto-parentheses by using '/' as the first character\n     of a line.  For example::\n       \n          In [1]: /globals             # becomes 'globals()'\n       \n     Note that the '/' MUST be the first character on the line!  This\n     won't work::\n       \n          In [2]: print /globals    # syntax error\n\n     In most cases the automatic algorithm should work, so you should\n     rarely need to explicitly invoke /. One notable exception is if you\n     are trying to call a function with a list of tuples as arguments (the\n     parenthesis will confuse IPython)::\n       \n          In [1]: zip (1,2,3),(4,5,6)  # won't work\n       \n     but this will work::\n       \n          In [2]: /zip (1,2,3),(4,5,6)\n          ------> zip ((1,2,3),(4,5,6))\n          Out[2]= [(1, 4), (2, 5), (3, 6)]\n\n     IPython tells you that it has altered your command line by\n     displaying the new command line preceded by -->.  e.g.::\n       \n          In [18]: callable list\n          -------> callable (list)\n\n  2. Auto-Quoting\n    \n     You can force auto-quoting of a function's arguments by using ',' as\n     the first character of a line.  For example::\n       \n          In [1]: ,my_function /home/me   # becomes my_function(\"/home/me\")\n\n     If you use ';' instead, the whole argument is quoted as a single\n     string (while ',' splits on whitespace)::\n       \n          In [2]: ,my_function a b c   # becomes my_function(\"a\",\"b\",\"c\")\n          In [3]: ;my_function a b c   # becomes my_function(\"a b c\")\n\n     Note that the ',' MUST be the first character on the line!  This\n     won't work::\n       \n          In [4]: x = ,my_function /home/me    # syntax error\n\n",
          "output_type": "stream"
        }
      ],
      "execution_count": 8,
      "block_group": "cab3fb31ebe748a68b392272743a6a40"
    },
    {
      "cell_type": "code",
      "source": "help()",
      "metadata": {
        "cell_id": "4d7f5ed0244f4e68a0638442fe12e2a4",
        "slideshow": {
          "slide_type": "subslide"
        },
        "source_hash": "310b707e",
        "execution_start": 1680735443321,
        "execution_millis": 15900,
        "deepnote_to_be_reexecuted": false,
        "deepnote_cell_type": "code"
      },
      "outputs": [
        {
          "name": "stdout",
          "text": "\nWelcome to Python 3.10's help utility!\n\nIf this is your first time using Python, you should definitely check out\nthe tutorial on the internet at https://docs.python.org/3.10/tutorial/.\n\nEnter the name of any module, keyword, or topic to get help on writing\nPython programs and using Python modules.  To quit this help utility and\nreturn to the interpreter, just type \"quit\".\n\nTo get a list of available modules, keywords, symbols, or topics, type\n\"modules\", \"keywords\", \"symbols\", or \"topics\".  Each module also comes\nwith a one-line summary of what it does; to list the modules whose name\nor summary contain a given string such as \"spam\", type \"modules spam\".\n\n\nYou are now leaving help and returning to the Python interpreter.\nIf you want to ask for help on a particular object directly from the\ninterpreter, you can type \"help(object)\".  Executing \"help('string')\"\nhas the same effect as typing a particular string at the help> prompt.\n",
          "output_type": "stream"
        }
      ],
      "execution_count": 9,
      "block_group": "4d7f5ed0244f4e68a0638442fe12e2a4"
    },
    {
      "cell_type": "markdown",
      "source": "If you want information about a command, say `mycommand` you can use `help(mycommand)`, `mycommand?` or `mycommand??` to get information about how it is used or even see its code.",
      "metadata": {
        "cell_id": "fb7313f067014b08a03d1c035b10592f",
        "slideshow": {
          "slide_type": "subslide"
        },
        "deepnote_cell_type": "markdown"
      },
      "block_group": "fb7313f067014b08a03d1c035b10592f"
    },
    {
      "cell_type": "code",
      "source": "help(sum)",
      "metadata": {
        "cell_id": "ebe12f1d0592417791dd20bd2179ae60",
        "slideshow": {
          "slide_type": "subslide"
        },
        "source_hash": "f5e46980",
        "execution_start": 1680735459223,
        "execution_millis": 19,
        "deepnote_to_be_reexecuted": false,
        "deepnote_cell_type": "code"
      },
      "outputs": [
        {
          "name": "stdout",
          "text": "Help on built-in function sum in module builtins:\n\nsum(iterable, /, start=0)\n    Return the sum of a 'start' value (default: 0) plus an iterable of numbers\n    \n    When the iterable is empty, return the start value.\n    This function is intended specifically for use with numeric values and may\n    reject non-numeric types.\n\n",
          "output_type": "stream"
        }
      ],
      "execution_count": 10,
      "block_group": "ebe12f1d0592417791dd20bd2179ae60"
    },
    {
      "cell_type": "code",
      "source": "sum?",
      "metadata": {
        "cell_id": "4a00bd1628d24495bfbb67935fc5caee",
        "slideshow": {
          "slide_type": "subslide"
        },
        "source_hash": "545f7ed2",
        "execution_start": 1680735459270,
        "execution_millis": 2,
        "deepnote_to_be_reexecuted": false,
        "deepnote_cell_type": "code"
      },
      "outputs": [
        {
          "name": "stdout",
          "text": "\u001b[0;31mSignature:\u001b[0m \u001b[0msum\u001b[0m\u001b[0;34m(\u001b[0m\u001b[0miterable\u001b[0m\u001b[0;34m,\u001b[0m \u001b[0;34m/\u001b[0m\u001b[0;34m,\u001b[0m \u001b[0mstart\u001b[0m\u001b[0;34m=\u001b[0m\u001b[0;36m0\u001b[0m\u001b[0;34m)\u001b[0m\u001b[0;34m\u001b[0m\u001b[0;34m\u001b[0m\u001b[0m\n\u001b[0;31mDocstring:\u001b[0m\nReturn the sum of a 'start' value (default: 0) plus an iterable of numbers\n\nWhen the iterable is empty, return the start value.\nThis function is intended specifically for use with numeric values and may\nreject non-numeric types.\n\u001b[0;31mType:\u001b[0m      builtin_function_or_method\n\n",
          "output_type": "stream"
        }
      ],
      "execution_count": 11,
      "block_group": "4a00bd1628d24495bfbb67935fc5caee"
    },
    {
      "cell_type": "code",
      "source": "sum??",
      "metadata": {
        "cell_id": "3866f37b46d34fa3bc405639735a7587",
        "slideshow": {
          "slide_type": "subslide"
        },
        "source_hash": "de7bbecc",
        "execution_start": 1680735459289,
        "execution_millis": 4,
        "deepnote_to_be_reexecuted": false,
        "deepnote_cell_type": "code"
      },
      "outputs": [
        {
          "name": "stdout",
          "text": "\u001b[0;31mSignature:\u001b[0m \u001b[0msum\u001b[0m\u001b[0;34m(\u001b[0m\u001b[0miterable\u001b[0m\u001b[0;34m,\u001b[0m \u001b[0;34m/\u001b[0m\u001b[0;34m,\u001b[0m \u001b[0mstart\u001b[0m\u001b[0;34m=\u001b[0m\u001b[0;36m0\u001b[0m\u001b[0;34m)\u001b[0m\u001b[0;34m\u001b[0m\u001b[0;34m\u001b[0m\u001b[0m\n\u001b[0;31mDocstring:\u001b[0m\nReturn the sum of a 'start' value (default: 0) plus an iterable of numbers\n\nWhen the iterable is empty, return the start value.\nThis function is intended specifically for use with numeric values and may\nreject non-numeric types.\n\u001b[0;31mType:\u001b[0m      builtin_function_or_method\n\n",
          "output_type": "stream"
        }
      ],
      "execution_count": 12,
      "block_group": "3866f37b46d34fa3bc405639735a7587"
    },
    {
      "cell_type": "markdown",
      "source": "# <center>Numbers, variables, strings, and other objects</center>",
      "metadata": {
        "cell_id": "73147aece4ab4cdc81a42eca8ff3e117",
        "slideshow": {
          "slide_type": "slide"
        },
        "user_expressions": [],
        "deepnote_cell_type": "markdown"
      },
      "block_group": "73147aece4ab4cdc81a42eca8ff3e117"
    },
    {
      "cell_type": "markdown",
      "source": "## Python has various basic types of elements:",
      "metadata": {
        "cell_id": "fb78d1318e8f419baaeca32a43f99255",
        "slideshow": {
          "slide_type": "subslide"
        },
        "deepnote_cell_type": "markdown"
      },
      "block_group": "fb78d1318e8f419baaeca32a43f99255"
    },
    {
      "cell_type": "markdown",
      "source": "## Numbers\nAny number is interpreted by Python as such. You can have integers, floats, etc. E.g.,\n\n    1, 2, 3.1425, 1000, 1e-10",
      "metadata": {
        "cell_id": "e8c23364a666499089a0a8682a6de3ee",
        "slideshow": {
          "slide_type": "subslide"
        },
        "deepnote_cell_type": "markdown"
      },
      "block_group": "e8c23364a666499089a0a8682a6de3ee"
    },
    {
      "cell_type": "code",
      "source": "1",
      "metadata": {
        "cell_id": "a3620dfd0f934b3cac077bac7af63e03",
        "slideshow": {
          "slide_type": "subslide"
        },
        "source_hash": "3befa0b7",
        "execution_start": 1680735459290,
        "execution_millis": 7,
        "deepnote_to_be_reexecuted": false,
        "deepnote_cell_type": "code"
      },
      "outputs": [
        {
          "output_type": "execute_result",
          "execution_count": 13,
          "data": {
            "text/plain": "1"
          },
          "metadata": {}
        }
      ],
      "execution_count": 13,
      "block_group": "a3620dfd0f934b3cac077bac7af63e03"
    },
    {
      "cell_type": "code",
      "source": "2",
      "metadata": {
        "cell_id": "d0410d0550c04a6fb8becf4710039720",
        "slideshow": {
          "slide_type": "fragment"
        },
        "source_hash": "e32dc8ff",
        "execution_start": 1680735459290,
        "execution_millis": 7,
        "deepnote_to_be_reexecuted": false,
        "deepnote_cell_type": "code"
      },
      "outputs": [
        {
          "output_type": "execute_result",
          "execution_count": 14,
          "data": {
            "text/plain": "2"
          },
          "metadata": {}
        }
      ],
      "execution_count": 14,
      "block_group": "d0410d0550c04a6fb8becf4710039720"
    },
    {
      "cell_type": "code",
      "source": "3.1425",
      "metadata": {
        "cell_id": "3f2dbb0a31ab4d2cb58ec973a6ccae87",
        "slideshow": {
          "slide_type": "fragment"
        },
        "source_hash": "d0af4f9f",
        "execution_start": 1680735459299,
        "execution_millis": 3,
        "deepnote_to_be_reexecuted": false,
        "deepnote_cell_type": "code"
      },
      "outputs": [
        {
          "output_type": "execute_result",
          "execution_count": 15,
          "data": {
            "text/plain": "3.1425"
          },
          "metadata": {}
        }
      ],
      "execution_count": 15,
      "block_group": "3f2dbb0a31ab4d2cb58ec973a6ccae87"
    },
    {
      "cell_type": "code",
      "source": "1000",
      "metadata": {
        "cell_id": "4414ec1df23d431cafa3bf2eb7a8bb52",
        "slideshow": {
          "slide_type": "fragment"
        },
        "source_hash": "44a4e6f2",
        "execution_start": 1680735459306,
        "execution_millis": 4,
        "deepnote_to_be_reexecuted": false,
        "deepnote_cell_type": "code"
      },
      "outputs": [
        {
          "output_type": "execute_result",
          "execution_count": 16,
          "data": {
            "text/plain": "1000"
          },
          "metadata": {}
        }
      ],
      "execution_count": 16,
      "block_group": "4414ec1df23d431cafa3bf2eb7a8bb52"
    },
    {
      "cell_type": "code",
      "source": "1e-10",
      "metadata": {
        "cell_id": "31366f2247ba4efba1558610d3d256d2",
        "slideshow": {
          "slide_type": "fragment"
        },
        "source_hash": "6c7d0e27",
        "execution_start": 1680735459310,
        "execution_millis": 4,
        "deepnote_to_be_reexecuted": false,
        "deepnote_cell_type": "code"
      },
      "outputs": [
        {
          "output_type": "execute_result",
          "execution_count": 17,
          "data": {
            "text/plain": "1e-10"
          },
          "metadata": {}
        }
      ],
      "execution_count": 17,
      "block_group": "31366f2247ba4efba1558610d3d256d2"
    },
    {
      "cell_type": "markdown",
      "source": "## Variables",
      "metadata": {
        "cell_id": "a90fa2bbf2a3496daeb8562e832b46ee",
        "slideshow": {
          "slide_type": "subslide"
        },
        "deepnote_cell_type": "markdown"
      },
      "block_group": "a90fa2bbf2a3496daeb8562e832b46ee"
    },
    {
      "cell_type": "markdown",
      "source": "* Variables are names assigned to Python objects so they can be called and used in computations.",
      "metadata": {
        "cell_id": "e157d759a483484fa48cd1e21a687753",
        "slideshow": {
          "slide_type": "fragment"
        },
        "deepnote_cell_type": "markdown"
      },
      "block_group": "e157d759a483484fa48cd1e21a687753"
    },
    {
      "cell_type": "markdown",
      "source": "* Variables are assigned using an equal sign",
      "metadata": {
        "cell_id": "49312fbd11554b8d9025916ea40c3baf",
        "slideshow": {
          "slide_type": "fragment"
        },
        "deepnote_cell_type": "markdown"
      },
      "block_group": "49312fbd11554b8d9025916ea40c3baf"
    },
    {
      "cell_type": "markdown",
      "source": "* Variables should be written in lower case",
      "metadata": {
        "cell_id": "ef6fbeb3dbf449429f9bb6093ade73a2",
        "slideshow": {
          "slide_type": "fragment"
        },
        "deepnote_cell_type": "markdown"
      },
      "block_group": "ef6fbeb3dbf449429f9bb6093ade73a2"
    },
    {
      "cell_type": "markdown",
      "source": "* Variable names cannot contain spaces or mathematical symbols",
      "metadata": {
        "cell_id": "2d14856b660c488ea31ba178f0d281ff",
        "slideshow": {
          "slide_type": "fragment"
        },
        "deepnote_cell_type": "markdown"
      },
      "block_group": "2d14856b660c488ea31ba178f0d281ff"
    },
    {
      "cell_type": "markdown",
      "source": "* Variable names should provide information on what it is. ",
      "metadata": {
        "cell_id": "ae21fd10d9a24a0480e0f284d87fc698",
        "slideshow": {
          "slide_type": "fragment"
        },
        "deepnote_cell_type": "markdown"
      },
      "block_group": "ae21fd10d9a24a0480e0f284d87fc698"
    },
    {
      "cell_type": "markdown",
      "source": "It is common to use multiple words in lower case connected by underscores. E.g.,\n\n`this_is_my_most_important_variable = (5 - 10)**2`",
      "metadata": {
        "cell_id": "706231908bab4ed9a247ce0360099d5a",
        "slideshow": {
          "slide_type": "subslide"
        },
        "deepnote_cell_type": "markdown"
      },
      "block_group": "706231908bab4ed9a247ce0360099d5a"
    },
    {
      "cell_type": "code",
      "source": "a = 5",
      "metadata": {
        "cell_id": "10c675ba58cd40039acc1f796e1e5df9",
        "slideshow": {
          "slide_type": "subslide"
        },
        "source_hash": "9ea5a2e1",
        "execution_start": 1680735459315,
        "execution_millis": 5,
        "deepnote_to_be_reexecuted": false,
        "deepnote_cell_type": "code"
      },
      "outputs": [],
      "execution_count": 18,
      "block_group": "10c675ba58cd40039acc1f796e1e5df9"
    },
    {
      "cell_type": "code",
      "source": "a",
      "metadata": {
        "cell_id": "8bd29d1221be4b50bac30bcb7c4b8dc9",
        "slideshow": {
          "slide_type": "-"
        },
        "source_hash": "ef4233c",
        "execution_start": 1680735459318,
        "execution_millis": 5,
        "deepnote_to_be_reexecuted": false,
        "deepnote_cell_type": "code"
      },
      "outputs": [
        {
          "output_type": "execute_result",
          "execution_count": 19,
          "data": {
            "text/plain": "5"
          },
          "metadata": {}
        }
      ],
      "execution_count": 19,
      "block_group": "8bd29d1221be4b50bac30bcb7c4b8dc9"
    },
    {
      "cell_type": "code",
      "source": "b = 10\nc = (a + b) * (a - b)\nc",
      "metadata": {
        "cell_id": "67c2bee397d548a38f54a2437b46a1d5",
        "slideshow": {
          "slide_type": "fragment"
        },
        "source_hash": "d3bfdecb",
        "execution_start": 1680735459323,
        "execution_millis": 5,
        "deepnote_to_be_reexecuted": false,
        "deepnote_cell_type": "code"
      },
      "outputs": [
        {
          "output_type": "execute_result",
          "execution_count": 20,
          "data": {
            "text/plain": "-75"
          },
          "metadata": {}
        }
      ],
      "execution_count": 20,
      "block_group": "67c2bee397d548a38f54a2437b46a1d5"
    },
    {
      "cell_type": "markdown",
      "source": "## Strings\n\nAnything that is enclosed between a pair of single or double quotation marks is treated as a string. This includes numbers or any other element. E.g., \n\n    'Hello', \"5\", '[ exp(3) - 16]', \"World\", '\"a quote\"'\n    ",
      "metadata": {
        "cell_id": "ed5dbf13bf6e4772ac91a64f47228c7d",
        "slideshow": {
          "slide_type": "subslide"
        },
        "deepnote_cell_type": "markdown"
      },
      "block_group": "ed5dbf13bf6e4772ac91a64f47228c7d"
    },
    {
      "cell_type": "code",
      "source": "'Hello'",
      "metadata": {
        "cell_id": "5b4909406b974645a6151a974875d8b0",
        "slideshow": {
          "slide_type": "subslide"
        },
        "source_hash": "ba4f1a75",
        "execution_start": 1680735459331,
        "execution_millis": 5,
        "deepnote_to_be_reexecuted": false,
        "deepnote_cell_type": "code"
      },
      "outputs": [
        {
          "output_type": "execute_result",
          "execution_count": 21,
          "data": {
            "text/plain": "'Hello'"
          },
          "metadata": {}
        }
      ],
      "execution_count": 21,
      "block_group": "5b4909406b974645a6151a974875d8b0"
    },
    {
      "cell_type": "code",
      "source": "\"5\"",
      "metadata": {
        "cell_id": "a02dc226d7fa4dfeb34fe4b3b3c007a9",
        "slideshow": {
          "slide_type": "fragment"
        },
        "source_hash": "e2f96dfc",
        "execution_start": 1680735459344,
        "execution_millis": 6,
        "deepnote_to_be_reexecuted": false,
        "deepnote_cell_type": "code"
      },
      "outputs": [
        {
          "output_type": "execute_result",
          "execution_count": 22,
          "data": {
            "text/plain": "'5'"
          },
          "metadata": {}
        }
      ],
      "execution_count": 22,
      "block_group": "a02dc226d7fa4dfeb34fe4b3b3c007a9"
    },
    {
      "cell_type": "code",
      "source": "'[ exp(3) - 16]'",
      "metadata": {
        "cell_id": "f48dde8db65b47819f553a1b1b793072",
        "slideshow": {
          "slide_type": "fragment"
        },
        "source_hash": "cfe6146c",
        "execution_start": 1680735459355,
        "execution_millis": 3,
        "deepnote_to_be_reexecuted": false,
        "deepnote_cell_type": "code"
      },
      "outputs": [
        {
          "output_type": "execute_result",
          "execution_count": 23,
          "data": {
            "text/plain": "'[ exp(3) - 16]'"
          },
          "metadata": {}
        }
      ],
      "execution_count": 23,
      "block_group": "f48dde8db65b47819f553a1b1b793072"
    },
    {
      "cell_type": "code",
      "source": "\"World\"",
      "metadata": {
        "cell_id": "328fe63eb1df448ea35727f932aaca5d",
        "slideshow": {
          "slide_type": "fragment"
        },
        "source_hash": "b0d656f0",
        "execution_start": 1680735459356,
        "execution_millis": 6,
        "deepnote_to_be_reexecuted": false,
        "deepnote_cell_type": "code"
      },
      "outputs": [
        {
          "output_type": "execute_result",
          "execution_count": 24,
          "data": {
            "text/plain": "'World'"
          },
          "metadata": {}
        }
      ],
      "execution_count": 24,
      "block_group": "328fe63eb1df448ea35727f932aaca5d"
    },
    {
      "cell_type": "code",
      "source": "'\"a quote\"'",
      "metadata": {
        "cell_id": "491e41bd871444428470350762687b19",
        "slideshow": {
          "slide_type": "fragment"
        },
        "source_hash": "7994d0f3",
        "execution_start": 1680735459362,
        "execution_millis": 5,
        "deepnote_to_be_reexecuted": false,
        "deepnote_cell_type": "code"
      },
      "outputs": [
        {
          "output_type": "execute_result",
          "execution_count": 25,
          "data": {
            "text/plain": "'\"a quote\"'"
          },
          "metadata": {}
        }
      ],
      "execution_count": 25,
      "block_group": "491e41bd871444428470350762687b19"
    },
    {
      "cell_type": "markdown",
      "source": "### Operations on strings\n\n* Strings can be added together using `+`\n* Strings can be multiplied by a number using `*`",
      "metadata": {
        "cell_id": "d67e0c4e91fd4a479230f9a58ff5e09d",
        "slideshow": {
          "slide_type": "subslide"
        },
        "deepnote_cell_type": "markdown"
      },
      "block_group": "d67e0c4e91fd4a479230f9a58ff5e09d"
    },
    {
      "cell_type": "code",
      "source": "string1 = \"Hello\"\nstring2 = \"World\"\nstring1 + ' ' + string2",
      "metadata": {
        "cell_id": "eda65dc0432a49fcad4cbbff676c083c",
        "slideshow": {
          "slide_type": "fragment"
        },
        "source_hash": "96f5c006",
        "execution_start": 1680735459386,
        "execution_millis": 5,
        "deepnote_to_be_reexecuted": false,
        "deepnote_cell_type": "code"
      },
      "outputs": [
        {
          "output_type": "execute_result",
          "execution_count": 26,
          "data": {
            "text/plain": "'Hello World'"
          },
          "metadata": {}
        }
      ],
      "execution_count": 26,
      "block_group": "eda65dc0432a49fcad4cbbff676c083c"
    },
    {
      "cell_type": "code",
      "source": "5 * (string1 + ' ')",
      "metadata": {
        "cell_id": "f4b53741e4a942ce8d39423dbd86fe01",
        "slideshow": {
          "slide_type": "fragment"
        },
        "source_hash": "abf155aa",
        "execution_start": 1680735459398,
        "execution_millis": 3,
        "deepnote_to_be_reexecuted": false,
        "deepnote_cell_type": "code"
      },
      "outputs": [
        {
          "output_type": "execute_result",
          "execution_count": 27,
          "data": {
            "text/plain": "'Hello Hello Hello Hello Hello '"
          },
          "metadata": {}
        }
      ],
      "execution_count": 27,
      "block_group": "f4b53741e4a942ce8d39423dbd86fe01"
    },
    {
      "cell_type": "markdown",
      "source": "<div class=\"alert alert-block alert-danger\">\n<b>Careful:</b> There is no division, substraction, or power operation with strings.\n</div>",
      "metadata": {
        "tags": [],
        "cell_id": "4a1661d573284a9281377e8ad9d04b51",
        "slideshow": {
          "slide_type": "subslide"
        },
        "user_expressions": [],
        "deepnote_cell_type": "markdown"
      },
      "block_group": "4a1661d573284a9281377e8ad9d04b51"
    },
    {
      "cell_type": "code",
      "source": "string1 ** 5",
      "metadata": {
        "cell_id": "d57496f679fa4e3f95ad1aa21c434e94",
        "slideshow": {
          "slide_type": "fragment"
        },
        "source_hash": "d4433739",
        "execution_start": 1680735459444,
        "execution_millis": 412,
        "deepnote_to_be_reexecuted": false,
        "deepnote_cell_type": "code"
      },
      "outputs": [
        {
          "output_type": "error",
          "ename": "TypeError",
          "evalue": "unsupported operand type(s) for ** or pow(): 'str' and 'int'",
          "traceback": [
            "\u001b[0;31m---------------------------------------------------------------------------\u001b[0m",
            "\u001b[0;31mTypeError\u001b[0m                                 Traceback (most recent call last)",
            "Cell \u001b[0;32mIn [28], line 1\u001b[0m\n\u001b[0;32m----> 1\u001b[0m \u001b[43mstring1\u001b[49m\u001b[43m \u001b[49m\u001b[38;5;241;43m*\u001b[39;49m\u001b[38;5;241;43m*\u001b[39;49m\u001b[43m \u001b[49m\u001b[38;5;241;43m5\u001b[39;49m\n",
            "\u001b[0;31mTypeError\u001b[0m: unsupported operand type(s) for ** or pow(): 'str' and 'int'"
          ]
        }
      ],
      "execution_count": 28,
      "block_group": "d57496f679fa4e3f95ad1aa21c434e94"
    },
    {
      "cell_type": "markdown",
      "source": "### Properties of strings",
      "metadata": {
        "cell_id": "051decc8ca114cd5bffd54d97c3f5848",
        "slideshow": {
          "slide_type": "subslide"
        },
        "deepnote_cell_type": "markdown"
      },
      "block_group": "051decc8ca114cd5bffd54d97c3f5848"
    },
    {
      "cell_type": "markdown",
      "source": "* Most objects in Python have specific properties related to them. ",
      "metadata": {
        "cell_id": "98536f3876d04a2f86a6074ecf25029a",
        "slideshow": {
          "slide_type": "fragment"
        },
        "deepnote_cell_type": "markdown"
      },
      "block_group": "98536f3876d04a2f86a6074ecf25029a"
    },
    {
      "cell_type": "markdown",
      "source": "* These properties can be functions, constants, variables, or other objects. ",
      "metadata": {
        "cell_id": "ac00cbc8448e46869c1aad427de85351",
        "slideshow": {
          "slide_type": "fragment"
        },
        "deepnote_cell_type": "markdown"
      },
      "block_group": "ac00cbc8448e46869c1aad427de85351"
    },
    {
      "cell_type": "markdown",
      "source": "* To access the properties `variable_name.property` if it is a variable or constant, or `variable_name.property()` if it is a function.",
      "metadata": {
        "cell_id": "ae2d4addef4e41de944c3fee6933402f",
        "slideshow": {
          "slide_type": "fragment"
        },
        "deepnote_cell_type": "markdown"
      },
      "block_group": "ae2d4addef4e41de944c3fee6933402f"
    },
    {
      "cell_type": "markdown",
      "source": "E.g., strings have the following properties:\n\n\n| Method | Description |\n|:-------|:----------|\n|capitalize( )| Converts the first character to upper case|\n|lower( ) | Converts a string into lower case|\n|upper( ) | Converts a string into upper case|\n|startswith( )| Returns true if the string starts with the specified value|",
      "metadata": {
        "cell_id": "2d0f4c8651a347cebe2f828a3add2dcd",
        "slideshow": {
          "slide_type": "subslide"
        },
        "deepnote_cell_type": "markdown"
      },
      "block_group": "2d0f4c8651a347cebe2f828a3add2dcd"
    },
    {
      "cell_type": "code",
      "source": "string1.upper()",
      "metadata": {
        "cell_id": "b32fab826686400bbbb8bee3af578627",
        "slideshow": {
          "slide_type": "subslide"
        },
        "source_hash": "6a2888f7",
        "deepnote_to_be_reexecuted": true,
        "deepnote_cell_type": "code"
      },
      "outputs": [],
      "execution_count": 0,
      "block_group": "b32fab826686400bbbb8bee3af578627"
    },
    {
      "cell_type": "code",
      "source": "string1.startswith('h')",
      "metadata": {
        "cell_id": "03b8881e49db4b2d8b4a728cfbe9ed52",
        "slideshow": {
          "slide_type": "fragment"
        },
        "source_hash": "f3301cac",
        "deepnote_to_be_reexecuted": true,
        "deepnote_cell_type": "code"
      },
      "outputs": [],
      "execution_count": 0,
      "block_group": "03b8881e49db4b2d8b4a728cfbe9ed52"
    },
    {
      "cell_type": "code",
      "source": "'This is a sentence that we will split at the spaces'.split(' ')",
      "metadata": {
        "cell_id": "c2975aedd598430c9f8850165bf1eda1",
        "slideshow": {
          "slide_type": "fragment"
        },
        "source_hash": "88785e62",
        "deepnote_to_be_reexecuted": true,
        "deepnote_cell_type": "code"
      },
      "outputs": [],
      "execution_count": 0,
      "block_group": "c2975aedd598430c9f8850165bf1eda1"
    },
    {
      "cell_type": "markdown",
      "source": "## Lists",
      "metadata": {
        "cell_id": "e257dbb2df6440dc86376b5942212cb9",
        "slideshow": {
          "slide_type": "subslide"
        },
        "user_expressions": [],
        "deepnote_cell_type": "markdown"
      },
      "block_group": "e257dbb2df6440dc86376b5942212cb9"
    },
    {
      "cell_type": "markdown",
      "source": "* Anything enclosed between square brackets is a list. ",
      "metadata": {
        "cell_id": "a4b0b8381c0c40798974d5545d28bff6",
        "slideshow": {
          "slide_type": "fragment"
        },
        "user_expressions": [],
        "deepnote_cell_type": "markdown"
      },
      "block_group": "a4b0b8381c0c40798974d5545d28bff6"
    },
    {
      "cell_type": "markdown",
      "source": "* Elements of a list must be separated by a comma. ",
      "metadata": {
        "cell_id": "ff60cdf37aac416bb48247208807b5b5",
        "slideshow": {
          "slide_type": "fragment"
        },
        "user_expressions": [],
        "deepnote_cell_type": "markdown"
      },
      "block_group": "ff60cdf37aac416bb48247208807b5b5"
    },
    {
      "cell_type": "markdown",
      "source": "* Lists can contain any other Python object, including other lists. ",
      "metadata": {
        "cell_id": "1433ce3c368d4732b2141cd93ad60f1b",
        "slideshow": {
          "slide_type": "fragment"
        },
        "user_expressions": [],
        "deepnote_cell_type": "markdown"
      },
      "block_group": "1433ce3c368d4732b2141cd93ad60f1b"
    },
    {
      "cell_type": "markdown",
      "source": "* Lists are used to store multiple items in a object.",
      "metadata": {
        "cell_id": "4a329f0efe6847229766b888c7d0c9b2",
        "slideshow": {
          "slide_type": "fragment"
        },
        "user_expressions": [],
        "deepnote_cell_type": "markdown"
      },
      "block_group": "4a329f0efe6847229766b888c7d0c9b2"
    },
    {
      "cell_type": "code",
      "source": "[\"some text\", 5, [\"another\", \"list\"], (2,2)]",
      "metadata": {
        "cell_id": "7ebcf1b2285b44e7a1bf899c11d39f86",
        "slideshow": {
          "slide_type": "fragment"
        },
        "source_hash": "fb6d9948",
        "deepnote_to_be_reexecuted": true,
        "deepnote_cell_type": "code"
      },
      "outputs": [],
      "execution_count": 0,
      "block_group": "7ebcf1b2285b44e7a1bf899c11d39f86"
    },
    {
      "cell_type": "markdown",
      "source": "### Operations on Lists\n\n* Lists can be added together using `+`\n* Lists can be multiplied by a number using `*`",
      "metadata": {
        "cell_id": "269186e494d44e798a0bc28ef26b56de",
        "slideshow": {
          "slide_type": "subslide"
        },
        "user_expressions": [],
        "deepnote_cell_type": "markdown"
      },
      "block_group": "269186e494d44e798a0bc28ef26b56de"
    },
    {
      "cell_type": "code",
      "source": "list1 = ['train', 'car']\nlist2 = ['bike', 'skates']\nlist1 + list2",
      "metadata": {
        "cell_id": "a64cad19abed48519d131f45210cf7c7",
        "slideshow": {
          "slide_type": "fragment"
        },
        "source_hash": "6e002ca7",
        "deepnote_to_be_reexecuted": true,
        "deepnote_cell_type": "code"
      },
      "outputs": [],
      "execution_count": 0,
      "block_group": "a64cad19abed48519d131f45210cf7c7"
    },
    {
      "cell_type": "code",
      "source": "5 * list1",
      "metadata": {
        "cell_id": "af49295bf9e44a8c98518c4bbc638109",
        "slideshow": {
          "slide_type": "fragment"
        },
        "source_hash": "31673c48",
        "deepnote_to_be_reexecuted": true,
        "deepnote_cell_type": "code"
      },
      "outputs": [],
      "execution_count": 0,
      "block_group": "af49295bf9e44a8c98518c4bbc638109"
    },
    {
      "cell_type": "markdown",
      "source": "<div class=\"alert alert-block alert-danger\">\n<b>Careful:</b> There is no division, substraction, or power operation with strings.\n</div>",
      "metadata": {
        "tags": [],
        "cell_id": "4f4cdb6e3f3c42c9b5f3d2e99ebc195f",
        "slideshow": {
          "slide_type": "subslide"
        },
        "user_expressions": [],
        "deepnote_cell_type": "markdown"
      },
      "block_group": "4f4cdb6e3f3c42c9b5f3d2e99ebc195f"
    },
    {
      "cell_type": "code",
      "source": "list1 - list1",
      "metadata": {
        "cell_id": "8d096e127426402fb1e92987fc92e524",
        "slideshow": {
          "slide_type": "fragment"
        },
        "source_hash": "ccae71b3",
        "deepnote_to_be_reexecuted": true,
        "deepnote_cell_type": "code"
      },
      "outputs": [],
      "execution_count": 0,
      "block_group": "8d096e127426402fb1e92987fc92e524"
    },
    {
      "cell_type": "markdown",
      "source": "### Properties of lists\n\nAs explianed above, most objects in Python have specific properties related to them. These properties can be functions, constants, variables, or other objects. To access the properties `variable_name.property` if it is a variable or constant, or `variable_name.property()` if it is a function.\n\nE.g., lists have the following properties:\n\n\n| Method | Description |\n|:-------|:----------|\n|sort( )| Sort elements of the list|\n|append(x) | Add an element `x` to the list|\n|remove(x) | Drop element `x` from the list|\n|count(x)| Count number of occurrances of `x` in list|",
      "metadata": {
        "tags": [],
        "cell_id": "c5ddba08560a432481acf224ac54241b",
        "slideshow": {
          "slide_type": "subslide"
        },
        "user_expressions": [],
        "deepnote_cell_type": "markdown"
      },
      "block_group": "c5ddba08560a432481acf224ac54241b"
    },
    {
      "cell_type": "code",
      "source": "list3 = list1 + list2\nlist3",
      "metadata": {
        "cell_id": "00a6b48c984049be8e7059ec6632f08f",
        "slideshow": {
          "slide_type": "subslide"
        },
        "source_hash": "2a24e71e",
        "deepnote_to_be_reexecuted": true,
        "deepnote_cell_type": "code"
      },
      "outputs": [],
      "execution_count": 0,
      "block_group": "00a6b48c984049be8e7059ec6632f08f"
    },
    {
      "cell_type": "code",
      "source": "list3.sort()\nlist3",
      "metadata": {
        "cell_id": "b1be6bd0937b4b0b90e7f698777c8c52",
        "slideshow": {
          "slide_type": "fragment"
        },
        "source_hash": "6c99b1eb",
        "deepnote_to_be_reexecuted": true,
        "deepnote_cell_type": "code"
      },
      "outputs": [],
      "execution_count": 0,
      "block_group": "b1be6bd0937b4b0b90e7f698777c8c52"
    },
    {
      "cell_type": "markdown",
      "source": "## Sets",
      "metadata": {
        "cell_id": "7ed2dcb8d6934074b36499fb717739c6",
        "slideshow": {
          "slide_type": "subslide"
        },
        "user_expressions": [],
        "deepnote_cell_type": "markdown"
      },
      "block_group": "7ed2dcb8d6934074b36499fb717739c6"
    },
    {
      "cell_type": "markdown",
      "source": "* Any list of objects enclosed in in curly brackets is a set",
      "metadata": {
        "cell_id": "62beaa3cc3c648dc85b56646781d61e9",
        "slideshow": {
          "slide_type": "fragment"
        },
        "user_expressions": [],
        "deepnote_cell_type": "markdown"
      },
      "block_group": "62beaa3cc3c648dc85b56646781d61e9"
    },
    {
      "cell_type": "markdown",
      "source": "* Sets are similar to their mathematical equivalent\n    * There are no duplicates\n    * Same operations",
      "metadata": {
        "cell_id": "0b34eaf7b07f42889a7672aa93830ac7",
        "slideshow": {
          "slide_type": "fragment"
        },
        "user_expressions": [],
        "deepnote_cell_type": "markdown"
      },
      "block_group": "0b34eaf7b07f42889a7672aa93830ac7"
    },
    {
      "cell_type": "code",
      "source": "set_of_cities = {'Washington, D.C.', 'Bogotá', 'Berlin', 'Dallas'}\nset_of_cities",
      "metadata": {
        "cell_id": "90b26ff6adb64414b24b55742b162e59",
        "slideshow": {
          "slide_type": "subslide"
        },
        "source_hash": "1ce5028f",
        "deepnote_to_be_reexecuted": true,
        "deepnote_cell_type": "code"
      },
      "outputs": [],
      "execution_count": 0,
      "block_group": "90b26ff6adb64414b24b55742b162e59"
    },
    {
      "cell_type": "code",
      "source": "set_of_capitals = {'Washington, D.C.', 'Bogotá', 'Berlin'}\nset_of_capitals",
      "metadata": {
        "cell_id": "a2fc40976a3b4be793bbae8e3eaa71da",
        "slideshow": {
          "slide_type": "fragment"
        },
        "source_hash": "9ad19bf8",
        "deepnote_to_be_reexecuted": true,
        "deepnote_cell_type": "code"
      },
      "outputs": [],
      "execution_count": 0,
      "block_group": "a2fc40976a3b4be793bbae8e3eaa71da"
    },
    {
      "cell_type": "markdown",
      "source": "### Properties of sets\n\nMost objects in Python have specific properties related to them. These properties can be functions, constants, variables, or other objects. To access the properties `variable_name.property` if it is a variable or constant, or `variable_name.property()` if it is a function.\n\nE.g., sets have the following properties:\n\n\n| Method | Description |\n|:-------|:----------|\n|union(A)| Get union of set with set A|\n|intersection(A) | Get intersection with set B|\n|difference(A) | Get set difference with set B|",
      "metadata": {
        "cell_id": "17564d92f38c438ca76d49ea21b01448",
        "slideshow": {
          "slide_type": "subslide"
        },
        "user_expressions": [],
        "deepnote_cell_type": "markdown"
      },
      "block_group": "17564d92f38c438ca76d49ea21b01448"
    },
    {
      "cell_type": "code",
      "source": "set_of_cities.difference(set_of_capitals)",
      "metadata": {
        "cell_id": "73a13011e9cf49f09576f622014da3a2",
        "slideshow": {
          "slide_type": "subslide"
        },
        "source_hash": "98a1ce7e",
        "deepnote_to_be_reexecuted": true,
        "deepnote_cell_type": "code"
      },
      "outputs": [],
      "execution_count": 0,
      "block_group": "73a13011e9cf49f09576f622014da3a2"
    },
    {
      "cell_type": "code",
      "source": "set_of_cities.intersection(set_of_capitals)",
      "metadata": {
        "cell_id": "28ecb4a7bf204f7887e47e55d92b6702",
        "slideshow": {
          "slide_type": "fragment"
        },
        "source_hash": "6456cef4",
        "deepnote_to_be_reexecuted": true,
        "deepnote_cell_type": "code"
      },
      "outputs": [],
      "execution_count": 0,
      "block_group": "28ecb4a7bf204f7887e47e55d92b6702"
    },
    {
      "cell_type": "markdown",
      "source": "## Dictionaries",
      "metadata": {
        "cell_id": "2964268354f24124b1ea8ccecb2038ce",
        "slideshow": {
          "slide_type": "subslide"
        },
        "user_expressions": [],
        "deepnote_cell_type": "markdown"
      },
      "block_group": "2964268354f24124b1ea8ccecb2038ce"
    },
    {
      "cell_type": "markdown",
      "source": "* Dictionaries are used to store data values in linked pairs. ",
      "metadata": {
        "cell_id": "8b748a990ffb4506a9c611faf54f280c",
        "slideshow": {
          "slide_type": "fragment"
        },
        "user_expressions": [],
        "deepnote_cell_type": "markdown"
      },
      "block_group": "8b748a990ffb4506a9c611faf54f280c"
    },
    {
      "cell_type": "markdown",
      "source": "* They are created by enclosing pairs of the form  `key:value` between curly braces. ",
      "metadata": {
        "cell_id": "2ff3af74feb34d428a0516ae0ece6a76",
        "slideshow": {
          "slide_type": "fragment"
        },
        "user_expressions": [],
        "deepnote_cell_type": "markdown"
      },
      "block_group": "2ff3af74feb34d428a0516ae0ece6a76"
    },
    {
      "cell_type": "markdown",
      "source": "* This allows us to retrieve information using the `key`. ",
      "metadata": {
        "cell_id": "cd341525296c4873ba40a3b4ce128c77",
        "slideshow": {
          "slide_type": "fragment"
        },
        "user_expressions": [],
        "deepnote_cell_type": "markdown"
      },
      "block_group": "cd341525296c4873ba40a3b4ce128c77"
    },
    {
      "cell_type": "markdown",
      "source": "E.g., we could use a dictionary to link for each artist their best album\n\n```python\nartist_best_album = { 'Depeche Mode':'Violator',\n                       'U2':'Achtung Baby',\n                       'Brooklyn Funk Essentials':'In the Buzz Bag',\n                      }\n```",
      "metadata": {
        "cell_id": "f39265ca51f34a948d937467f9dd270d",
        "slideshow": {
          "slide_type": "subslide"
        },
        "user_expressions": [],
        "deepnote_cell_type": "markdown"
      },
      "block_group": "f39265ca51f34a948d937467f9dd270d"
    },
    {
      "cell_type": "code",
      "source": "artist_best_album = { 'Depeche Mode':'Violator',\n                       'U2':'Achtung Baby',\n                       'Brooklyn Funk Essentials':'In the Buzz Bag',\n                      }\nartist_best_album",
      "metadata": {
        "cell_id": "99624dde64ed41a2aae74b8b2fab6900",
        "slideshow": {
          "slide_type": "subslide"
        },
        "source_hash": "2fb72b5a",
        "deepnote_to_be_reexecuted": true,
        "deepnote_cell_type": "code"
      },
      "outputs": [],
      "execution_count": 0,
      "block_group": "99624dde64ed41a2aae74b8b2fab6900"
    },
    {
      "cell_type": "code",
      "source": "artist_best_album['U2']",
      "metadata": {
        "cell_id": "b093aba5876042bea4968e532513c4f3",
        "slideshow": {
          "slide_type": "fragment"
        },
        "source_hash": "280a2502",
        "deepnote_to_be_reexecuted": true,
        "deepnote_cell_type": "code"
      },
      "outputs": [],
      "execution_count": 0,
      "block_group": "b093aba5876042bea4968e532513c4f3"
    },
    {
      "cell_type": "markdown",
      "source": "A dictionary of bands with information on each member (taken from Wikipedia)",
      "metadata": {
        "cell_id": "63399b8c1e7c44988ebd148e28db4dab",
        "slideshow": {
          "slide_type": "subslide"
        },
        "user_expressions": [],
        "deepnote_cell_type": "markdown"
      },
      "block_group": "63399b8c1e7c44988ebd148e28db4dab"
    },
    {
      "cell_type": "code",
      "source": "top_bands = {'The Beatles':{'John':[\"vocals\", \"guitars\", \"keyboards\", 'harmonica', \"bass\", \n                                    \"(1960–1969; died 1980)\"],\n                            'Paul':[\"vocals\", 'bass', 'guitars', 'keyboards', 'drums', \"(1960–1970)\"],\n                            'George':[\"guitars\", 'vocals', 'sitar', 'keyboards', 'bass', \n                                      \"(1960–1970; died 2001)\"],\n                            'Ringo':[\"drums\", 'percussion', 'vocals', \"(1962–1970)\"]\n                           },\n             'The Rolling Stones':{'Mick':[\"lead and backing vocals\", 'harmonica', 'rhythm guitar', \n                                           'percussion', 'keyboards', 'bass guitar', \"(1962–present)\"],\n                                   'Keith':['rhythm and lead guitars', 'bass guitar', 'keyboards', \n                                            'percussion', 'backing and lead vocals', '(1962–present)'],\n                                   'Ronnie':['lead and rhythm guitars', 'bass guitar', 'backing vocals', \n                                             '(1975–present)']\n                                  }\n            }",
      "metadata": {
        "cell_id": "23a458b8572f4987ba4b8257404eab44",
        "slideshow": {
          "slide_type": "fragment"
        },
        "source_hash": "67a21bae",
        "code_folding": [],
        "deepnote_to_be_reexecuted": true,
        "deepnote_cell_type": "code"
      },
      "outputs": [],
      "execution_count": 0,
      "block_group": "23a458b8572f4987ba4b8257404eab44"
    },
    {
      "cell_type": "code",
      "source": "top_bands['The Beatles']",
      "metadata": {
        "cell_id": "f62a358d0c354795a92432f361038ea0",
        "slideshow": {
          "slide_type": "subslide"
        },
        "source_hash": "789b5a1e",
        "deepnote_to_be_reexecuted": true,
        "deepnote_cell_type": "code"
      },
      "outputs": [],
      "execution_count": 0,
      "block_group": "f62a358d0c354795a92432f361038ea0"
    },
    {
      "cell_type": "code",
      "source": "top_bands['The Beatles']['Ringo']",
      "metadata": {
        "cell_id": "1e29039ae668461099ca921a725079c3",
        "slideshow": {
          "slide_type": "fragment"
        },
        "source_hash": "95404dbf",
        "deepnote_to_be_reexecuted": true,
        "deepnote_cell_type": "code"
      },
      "outputs": [],
      "execution_count": 0,
      "block_group": "1e29039ae668461099ca921a725079c3"
    },
    {
      "cell_type": "markdown",
      "source": "# Getting Elements in Strings, Lists, etc.",
      "metadata": {
        "cell_id": "67933301fecb4a47aba3407c25872932",
        "slideshow": {
          "slide_type": "subslide"
        },
        "user_expressions": [],
        "deepnote_cell_type": "markdown"
      },
      "block_group": "67933301fecb4a47aba3407c25872932"
    },
    {
      "cell_type": "markdown",
      "source": "* We can get elements of any *strings or lists*. ",
      "metadata": {
        "cell_id": "fcd1f5406f08480da9f64767a4dd56e6",
        "slideshow": {
          "slide_type": "fragment"
        },
        "user_expressions": [
          {
            "result": {
              "data": {
                "text/plain": "'Hello'"
              },
              "status": "ok",
              "metadata": {}
            },
            "expression": "string1"
          }
        ],
        "deepnote_cell_type": "markdown"
      },
      "block_group": "fcd1f5406f08480da9f64767a4dd56e6"
    },
    {
      "cell_type": "markdown",
      "source": "* E.g., to get the first element of a list, we just execute `list_name[0]`. ",
      "metadata": {
        "cell_id": "874f77dcd35d45dfbbb828c0d0d0c2e6",
        "slideshow": {
          "slide_type": "fragment"
        },
        "user_expressions": [
          {
            "result": {
              "data": {
                "text/plain": "'Hello'"
              },
              "status": "ok",
              "metadata": {}
            },
            "expression": "string1"
          }
        ],
        "deepnote_cell_type": "markdown"
      },
      "block_group": "874f77dcd35d45dfbbb828c0d0d0c2e6"
    },
    {
      "cell_type": "markdown",
      "source": "* More generally, if we want the $n^{th}$ element, we execute `list_name[n-1]`. ",
      "metadata": {
        "cell_id": "ed0666011834407988b98930a5c35d92",
        "slideshow": {
          "slide_type": "fragment"
        },
        "user_expressions": [
          {
            "result": {
              "data": {
                "text/plain": "'Hello'"
              },
              "status": "ok",
              "metadata": {}
            },
            "expression": "string1"
          }
        ],
        "deepnote_cell_type": "markdown"
      },
      "block_group": "ed0666011834407988b98930a5c35d92"
    },
    {
      "cell_type": "markdown",
      "source": "* Let's use this to get the third element of `string1`, which we created above. ",
      "metadata": {
        "cell_id": "7955ff416c804e6fb10c2a19690f3bd5",
        "slideshow": {
          "slide_type": "fragment"
        },
        "user_expressions": [
          {
            "result": {
              "data": {
                "text/plain": "'Hello'"
              },
              "status": "ok",
              "metadata": {}
            },
            "expression": "string1"
          }
        ],
        "deepnote_cell_type": "markdown"
      },
      "block_group": "7955ff416c804e6fb10c2a19690f3bd5"
    },
    {
      "cell_type": "markdown",
      "source": "Remember `string1`={{string1}}",
      "metadata": {
        "cell_id": "0acb6e38d3ec4843a89df8b2c6e8ffbc",
        "slideshow": {
          "slide_type": "subslide"
        },
        "variables": {
          "string1": "Hello"
        },
        "user_expressions": [
          {
            "result": {
              "data": {
                "text/plain": "'Hello'"
              },
              "status": "ok",
              "metadata": {}
            },
            "expression": "string1"
          }
        ],
        "deepnote_cell_type": "markdown"
      },
      "block_group": "0acb6e38d3ec4843a89df8b2c6e8ffbc"
    },
    {
      "cell_type": "code",
      "source": "string1[1]",
      "metadata": {
        "cell_id": "97b11d8ae1fe4c5f8d8cc42a640f39a4",
        "slideshow": {
          "slide_type": "fragment"
        },
        "source_hash": "49d894af",
        "deepnote_to_be_reexecuted": true,
        "deepnote_cell_type": "code"
      },
      "outputs": [],
      "execution_count": 0,
      "block_group": "97b11d8ae1fe4c5f8d8cc42a640f39a4"
    },
    {
      "cell_type": "markdown",
      "source": "<div class=\"alert alert-block alert-info\">\n    <b>Note:</b> In <i>Python</i> elements are counted starting from zero (0) not one (1).\n</div>",
      "metadata": {
        "tags": [],
        "cell_id": "da8756d806e847369131551374fc4b06",
        "slideshow": {
          "slide_type": "fragment"
        },
        "user_expressions": [],
        "deepnote_cell_type": "markdown"
      },
      "block_group": "da8756d806e847369131551374fc4b06"
    },
    {
      "cell_type": "markdown",
      "source": "While we cannot get elements of sets in this way, we can:\n\n* convert sets into lists\n* access the element of the list\n\nE.g., we can get the last element of our set of capitals by executing",
      "metadata": {
        "cell_id": "d5569192f43445c1ae89ae66d7d8756e",
        "slideshow": {
          "slide_type": "subslide"
        },
        "user_expressions": [],
        "deepnote_cell_type": "markdown"
      },
      "block_group": "d5569192f43445c1ae89ae66d7d8756e"
    },
    {
      "cell_type": "code",
      "source": "list(set_of_capitals)[-1]",
      "metadata": {
        "cell_id": "c16e39cfee0b4422938b9ed875e5104a",
        "slideshow": {
          "slide_type": "fragment"
        },
        "source_hash": "e3e7d0b5",
        "deepnote_to_be_reexecuted": true,
        "deepnote_cell_type": "code"
      },
      "outputs": [],
      "execution_count": 0,
      "block_group": "c16e39cfee0b4422938b9ed875e5104a"
    },
    {
      "cell_type": "markdown",
      "source": "<div class=\"alert alert-block alert-info\">\n    <b>Note:</b> We used the function <code>list( )</code> to convert our set into a list.\n</div>",
      "metadata": {
        "tags": [],
        "cell_id": "e3617486bb41409cb6ff78828ff63182",
        "slideshow": {
          "slide_type": "fragment"
        },
        "user_expressions": [],
        "deepnote_cell_type": "markdown"
      },
      "block_group": "e3617486bb41409cb6ff78828ff63182"
    },
    {
      "cell_type": "markdown",
      "source": "<div class=\"alert alert-block alert-info\">\n    <b>Note:</b> We can access an element by counting backwards, so <code>list_name[-n]</code> gives us the $n^{th}$  to last element.\n</div>",
      "metadata": {
        "cell_id": "af3c5ee82ef34b738a759bc383bcd792",
        "slideshow": {
          "slide_type": "fragment"
        },
        "user_expressions": [],
        "deepnote_cell_type": "markdown"
      },
      "block_group": "af3c5ee82ef34b738a759bc383bcd792"
    },
    {
      "cell_type": "markdown",
      "source": "# <center> Exercises </center>",
      "metadata": {
        "cell_id": "710f53f3725e4b53928b3fb997227914",
        "slideshow": {
          "slide_type": "slide"
        },
        "user_expressions": [],
        "deepnote_cell_type": "markdown"
      },
      "block_group": "710f53f3725e4b53928b3fb997227914"
    },
    {
      "cell_type": "markdown",
      "source": "<div class=\"alert alert-block alert-warning\">\n<b>Exercise 1:</b>  Create the list <em>favorite_artists</em> with your 10 favorite artists.\n</div>",
      "metadata": {
        "tags": [],
        "cell_id": "ec7c1a6b80364f55a88450533a0d8e8d",
        "slideshow": {
          "slide_type": "slide"
        },
        "user_expressions": [],
        "deepnote_cell_type": "markdown"
      },
      "block_group": "ec7c1a6b80364f55a88450533a0d8e8d"
    },
    {
      "cell_type": "markdown",
      "source": "<div class=\"alert alert-block alert-warning\">\n<b>Exercise 2:</b>  Create the list <em>favorite_songs</em> with your 10 favorite songs.\n</div>",
      "metadata": {
        "cell_id": "bdd38a604a0444c4bed4fab2f211ffc2",
        "slideshow": {
          "slide_type": "fragment"
        },
        "user_expressions": [],
        "deepnote_cell_type": "markdown"
      },
      "block_group": "bdd38a604a0444c4bed4fab2f211ffc2"
    },
    {
      "cell_type": "markdown",
      "source": "<div class=\"alert alert-block alert-warning\">\n<b>Exercise 3:</b>  Create the dictionary <em>artists_best_song</em> which for each of your favorite artists links their best song (according to you or some other source).\n</div>",
      "metadata": {
        "tags": [],
        "cell_id": "babda85961a240399c4d33236a02d670",
        "slideshow": {
          "slide_type": "fragment"
        },
        "user_expressions": [],
        "deepnote_cell_type": "markdown"
      },
      "block_group": "babda85961a240399c4d33236a02d670"
    },
    {
      "cell_type": "markdown",
      "source": "<div class=\"alert alert-block alert-warning\">\n<b>Exercise 4:</b>  Create the dictionary <em>favorite_song_artist</em> which links each of your favorite songs with the name of the artist.\n</div>",
      "metadata": {
        "tags": [],
        "cell_id": "64f750b60be94560a571d570636fff69",
        "slideshow": {
          "slide_type": "fragment"
        },
        "user_expressions": [],
        "deepnote_cell_type": "markdown"
      },
      "block_group": "64f750b60be94560a571d570636fff69"
    },
    {
      "cell_type": "markdown",
      "source": "Notebook written by [Ömer Özak](http://omerozak.com) for his students in Economics at [Southern Methodist University](http://www.smu.edu). Feel free to use, distribute, or contribute.",
      "metadata": {
        "tags": [],
        "cell_id": "a695e4d17fd64ccb9288fe788dbc5389",
        "slideshow": {
          "slide_type": "slide"
        },
        "user_expressions": [],
        "deepnote_cell_type": "markdown"
      },
      "block_group": "a695e4d17fd64ccb9288fe788dbc5389"
    },
    {
      "cell_type": "markdown",
      "source": "[<center><img src=\"https://github.com/measuring-culture/Expanding-Measurement-Culture-Facebook-JRSI/blob/main/pics/SMUlogowWordmarkRB.jpg?raw=true\" width=\"250\"></center>](http://omerozak.com)",
      "metadata": {
        "tags": [],
        "cell_id": "7571354b1ccb4eec84d1d157b3186693",
        "slideshow": {
          "slide_type": "-"
        },
        "user_expressions": [],
        "deepnote_cell_type": "markdown"
      },
      "block_group": "7571354b1ccb4eec84d1d157b3186693"
    },
    {
      "cell_type": "markdown",
      "source": "<a style='text-decoration:none;line-height:16px;display:flex;color:#5B5B62;padding:10px;justify-content:end;' href='https://deepnote.com?utm_source=created-in-deepnote-cell&projectId=3e551f22-faea-46c3-a77c-d376885f79c0' target=\"_blank\">\n<img alt='Created in deepnote.com' style='display:inline;max-height:16px;margin:0px;margin-right:7.5px;' src='data:image/svg+xml;base64,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' > </img>\nCreated in <span style='font-weight:600;margin-left:4px;'>Deepnote</span></a>",
      "metadata": {
        "created_in_deepnote_cell": true,
        "deepnote_cell_type": "markdown"
      }
    }
  ],
  "nbformat": 4,
  "nbformat_minor": 0,
  "metadata": {
    "widgets": {
      "application/vnd.jupyter.widget-state+json": {
        "state": {},
        "version_major": 2,
        "version_minor": 0
      }
    },
    "deepnote": {},
    "kernelspec": {
      "name": "python3",
      "language": "python",
      "display_name": "Python 3 (ipykernel)"
    },
    "celltoolbar": "Slideshow",
    "nbTranslate": {
      "hotkey": "alt-t",
      "sourceLang": "en",
      "targetLang": "fr",
      "displayLangs": [
        "*"
      ],
      "langInMainMenu": true,
      "useGoogleTranslate": true
    },
    "language_info": {
      "name": "python",
      "version": "3.9.15",
      "mimetype": "text/x-python",
      "file_extension": ".py",
      "pygments_lexer": "ipython3",
      "codemirror_mode": {
        "name": "ipython",
        "version": 3
      },
      "nbconvert_exporter": "python"
    },
    "deepnote_notebook_id": "0a4c5f9268634eeca84fb349c4878f44",
    "deepnote_persisted_session": {
      "createdAt": "2023-04-05T23:15:30.440Z"
    },
    "deepnote_execution_queue": []
  }
}