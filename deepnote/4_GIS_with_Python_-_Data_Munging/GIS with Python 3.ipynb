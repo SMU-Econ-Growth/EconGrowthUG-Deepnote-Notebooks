{
  "cells": [
    {
      "cell_type": "markdown",
      "source": "# GIS with ![Python](https://www.python.org/static/community_logos/python-logo-inkscape.svg) and ![IPython](https://ipython.org/_static/IPy_header.png) ",
      "metadata": {
        "cell_id": "711f18087aa048079fc45ad3bd8e4b0b",
        "user_expressions": [],
        "deepnote_cell_type": "markdown"
      },
      "block_group": "711f18087aa048079fc45ad3bd8e4b0b"
    },
    {
      "cell_type": "markdown",
      "source": "# Part III: Data Munging...Combining GIS with Other Tools",
      "metadata": {
        "cell_id": "2c494c6c7cc344c984eebe73650995ec",
        "user_expressions": [],
        "deepnote_cell_type": "markdown"
      },
      "block_group": "2c494c6c7cc344c984eebe73650995ec"
    },
    {
      "cell_type": "markdown",
      "source": "# Set-up our environment as before\n\nLet's import the packages we will use and set the paths for outputs.",
      "metadata": {
        "cell_id": "4fa22b075f26441ab641ab97b2865b92",
        "user_expressions": [],
        "deepnote_cell_type": "markdown"
      },
      "block_group": "4fa22b075f26441ab641ab97b2865b92"
    },
    {
      "cell_type": "code",
      "source": "# Let's import pandas and some other basic packages we will use \nfrom __future__ import division\n\nimport pandas as pd\nimport numpy as np\nimport os, sys\n\n# GIS packages\nimport geopandas as gpd\nfrom geopandas.tools import overlay\nfrom shapely.geometry import Polygon, Point\nimport georasters as gr\n# Alias for Geopandas\ngp = gpd\n\n# Plotting\nimport matplotlib as mpl\nimport seaborn as sns\n# Setup seaborn\nsns.set()\n\n# Mapping\nimport geoplot as gplt\nimport geoplot.crs as gcrs\nimport mapclassify as mc\nimport textwrap\n\n%pylab --no-import-all\n%matplotlib inline\n",
      "metadata": {
        "cell_id": "16e13b1db88041fea8a3cacfab0a542a",
        "source_hash": "5541987e",
        "execution_start": 1680970819405,
        "execution_millis": 1,
        "deepnote_to_be_reexecuted": false,
        "deepnote_cell_type": "code"
      },
      "outputs": [
        {
          "name": "stdout",
          "text": "Using matplotlib backend: agg\n%pylab is deprecated, use %matplotlib inline and import the required libraries.\nPopulating the interactive namespace from numpy and matplotlib\n",
          "output_type": "stream"
        }
      ],
      "execution_count": 11,
      "block_group": "16e13b1db88041fea8a3cacfab0a542a"
    },
    {
      "cell_type": "code",
      "source": "# Functions for plotting\ndef center_wrap(text, cwidth=32, **kw):\n    '''Center Text (to be used in legend)'''\n    lines = text\n    #lines = textwrap.wrap(text, **kw)\n    return \"\\n\".join(line.center(cwidth) for line in lines)\n\ndef MyChloropleth(mydf, myfile='', myvar='',\n                  mylegend='',\n                  k=5,\n                  extent=[-180, -90, 180, 90],\n                  bbox_to_anchor=(0.2, 0.5),\n                  edgecolor='white', facecolor='lightgray',\n                  scheme='FisherJenks', bins=None, pct=None,\n                  legend_labels=None,\n                  save=True,\n                  percent=False,\n                  cmap='Reds',\n                  **kwargs):\n    # Chloropleth\n    # Color scheme\n    if scheme=='EqualInterval':\n        scheme = mc.EqualInterval(mydf[myvar], k=k)\n    elif scheme=='Quantiles':\n        scheme = mc.Quantiles(mydf[myvar], k=k)\n    elif scheme=='BoxPlot':\n        scheme = mc.BoxPlot(mydf[myvar], k=k)\n    elif scheme=='FisherJenks':\n        scheme = mc.FisherJenks(mydf[myvar], k=k)\n    elif scheme=='FisherJenksSampled':\n        scheme = mc.FisherJenksSampled(mydf[myvar], k=k)\n    elif scheme=='HeadTailBreaks':\n        scheme = mc.HeadTailBreaks(mydf[myvar], k=k)\n    elif scheme=='JenksCaspall':\n        scheme = mc.JenksCaspall(mydf[myvar], k=k)\n    elif scheme=='JenksCaspallForced':\n        scheme = mc.JenksCaspallForced(mydf[myvar], k=k)\n    elif scheme=='JenksCaspallSampled':\n        scheme = mc.JenksCaspallSampled(mydf[myvar], k=k)\n    elif scheme=='KClassifiers':\n        scheme = mc.KClassifiers(mydf[myvar], k=k)\n    elif scheme=='Percentiles':\n        scheme = mc.Percentiles(mydf[myvar], pct=pct)\n    elif scheme=='UserDefined':\n        scheme = mc.UserDefined(mydf[myvar], bins=bins)\n    \n    if legend_labels is None:\n        # Format legend\n        upper_bounds = scheme.bins\n        # get and format all bounds\n        bounds = []\n        for index, upper_bound in enumerate(upper_bounds):\n            if index == 0:\n                lower_bound = mydf[myvar].min()\n            else:\n                lower_bound = upper_bounds[index-1]\n            # format the numerical legend here\n            if percent:\n                bound = f'{lower_bound:.0%} - {upper_bound:.0%}'\n            else:\n                bound = f'{float(lower_bound):,.0f} - {float(upper_bound):,.0f}'\n            bounds.append(bound)\n        legend_labels = bounds\n    #Plot\n    ax = gplt.choropleth(\n        mydf, hue=myvar, projection=gcrs.PlateCarree(central_longitude=0.0, globe=None),\n        edgecolor='white', linewidth=1,\n        cmap=cmap, legend=True,\n        scheme=scheme,\n        legend_kwargs={'bbox_to_anchor': bbox_to_anchor,\n                       'frameon': True,\n                       'title':mylegend,\n                       },\n        legend_labels = legend_labels,\n        figsize=(24, 16),\n        rasterized=True,\n    )\n    gplt.polyplot(\n        countries, projection=gcrs.PlateCarree(central_longitude=0.0, globe=None),\n        edgecolor=edgecolor, facecolor=facecolor,\n        ax=ax,\n        rasterized=True,\n        extent=extent,\n    )\n    if save:\n        plt.savefig(pathgraphs + myfile + '_' + myvar +'.pdf', dpi=300, bbox_inches='tight')\n        plt.savefig(pathgraphs + myfile + '_' + myvar +'.png', dpi=300, bbox_inches='tight')\n    pass\n",
      "metadata": {
        "cell_id": "585c6f35f0154517a38f1c8c2043c0d8",
        "source_hash": "9f0a2a0",
        "execution_start": 1680970819405,
        "execution_millis": 1,
        "deepnote_to_be_reexecuted": false,
        "deepnote_cell_type": "code"
      },
      "outputs": [],
      "execution_count": 12,
      "block_group": "585c6f35f0154517a38f1c8c2043c0d8"
    },
    {
      "cell_type": "code",
      "source": "# Paths\npathout = './data/'\n\nif not os.path.exists(pathout):\n    os.mkdir(pathout)\n    \npathgraphs = './graphs/'\nif not os.path.exists(pathgraphs):\n    os.mkdir(pathgraphs)",
      "metadata": {
        "cell_id": "ec4fe7540d7644689674fbb59e9831d3",
        "source_hash": "a38e3b9",
        "execution_start": 1680970821171,
        "execution_millis": 4,
        "deepnote_to_be_reexecuted": false,
        "deepnote_cell_type": "code"
      },
      "outputs": [],
      "execution_count": 13,
      "block_group": "ec4fe7540d7644689674fbb59e9831d3"
    },
    {
      "cell_type": "markdown",
      "source": "# Let's plot the countries for which Colombian citizens do not require visas\n\nThe Colombian Cancillery's website has a list with visa requirements for colombians. Let's use it to map countries for which visas are not required. Below is the [link to the information](https://www.cancilleria.gov.co/sites/default/files/FOTOS2020/relacion_de_paises_que_exigen_o_no_visas_a_colombianos_17-04-2020.pdf'). The problem is that it is a pdf file. Let's open the website and check it out",
      "metadata": {
        "cell_id": "d7bbad1aecf34ff180c57cdd848b7903",
        "user_expressions": [],
        "deepnote_cell_type": "markdown"
      },
      "block_group": "d7bbad1aecf34ff180c57cdd848b7903"
    },
    {
      "cell_type": "code",
      "source": "# Import display options for showing websites\nfrom IPython.display import IFrame\n\nurl = 'https://www.cancilleria.gov.co/sites/default/files/FOTOS2020/relacion_de_paises_que_exigen_o_no_visas_a_colombianos_17-04-2020.pdf'\nIFrame(url, width=800, height=400)",
      "metadata": {
        "cell_id": "ee361ab85fe94ea39bdfc7f9d59bbe9b",
        "source_hash": "ed7053cc",
        "execution_start": 1680970822475,
        "execution_millis": 5,
        "deepnote_to_be_reexecuted": false,
        "deepnote_cell_type": "code"
      },
      "outputs": [
        {
          "output_type": "execute_result",
          "execution_count": 14,
          "data": {
            "text/plain": "<IPython.lib.display.IFrame at 0x7f13a720f9d0>",
            "text/html": "\n        <iframe\n            width=\"800\"\n            height=\"400\"\n            src=\"https://www.cancilleria.gov.co/sites/default/files/FOTOS2020/relacion_de_paises_que_exigen_o_no_visas_a_colombianos_17-04-2020.pdf\"\n            frameborder=\"0\"\n            allowfullscreen\n            \n        ></iframe>\n        "
          },
          "metadata": {}
        }
      ],
      "execution_count": 14,
      "block_group": "ee361ab85fe94ea39bdfc7f9d59bbe9b"
    },
    {
      "cell_type": "markdown",
      "source": "## Roadblock\n\nSomeone forgot to make our life easy and made the data available in a ``pdf``.\n\n<img src=\"./pics/fun/CalvinHobbesProblem.png\" alt=\"Only Human?\" width=\"250\"/><img src=\"./pics/fun/WhatShallWeDo.jpg\" alt=\"What Shall We Do now?\" width=\"250\"/>\n\n## Luckily ``python`` has tools to deal with this. \n\n<img src=\"./pics/fun/CalvinHobbesNew.jpg\" alt=\"New\" width=\"250\"/>\n\nSo let's download it, save it to disk and use these tools to process the pdf into a ``pandas.DataFrame``.\n",
      "metadata": {
        "cell_id": "5d30d4f8ffeb496585d128e0c1b31b58",
        "user_expressions": [],
        "deepnote_cell_type": "markdown"
      },
      "block_group": "5d30d4f8ffeb496585d128e0c1b31b58"
    },
    {
      "cell_type": "code",
      "source": "# Import package for downloading internet content and save it to file\nimport requests\n\nurl = 'https://www.cancilleria.gov.co/sites/default/files/FOTOS2020/relacion_de_paises_que_exigen_o_no_visas_a_colombianos_17-04-2020.pdf'\nresponse = requests.get(url)\nwith open(pathout + 'visas.pdf', 'wb') as f:\n    f.write(response.content)",
      "metadata": {
        "cell_id": "d7d2fe6bc4744cfdb2f81541277603a4",
        "source_hash": "1d30f7b",
        "execution_start": 1680970825365,
        "execution_millis": 32,
        "deepnote_to_be_reexecuted": false,
        "deepnote_cell_type": "code"
      },
      "outputs": [],
      "execution_count": 15,
      "block_group": "d7d2fe6bc4744cfdb2f81541277603a4"
    },
    {
      "cell_type": "code",
      "source": "# Import package to read pdf tables\nimport camelot\nvisas = camelot.read_pdf(pathout + 'visas.pdf', pages='1-7')",
      "metadata": {
        "cell_id": "69c5266bf8b7422cb328fb5462729ee8",
        "source_hash": "a9388ea6",
        "execution_start": 1680970829927,
        "execution_millis": 106,
        "deepnote_to_be_reexecuted": false,
        "deepnote_cell_type": "code"
      },
      "outputs": [
        {
          "output_type": "error",
          "ename": "ImportError",
          "evalue": "libGL.so.1: cannot open shared object file: No such file or directory",
          "traceback": [
            "\u001b[0;31m---------------------------------------------------------------------------\u001b[0m",
            "\u001b[0;31mImportError\u001b[0m                               Traceback (most recent call last)",
            "Cell \u001b[0;32mIn [16], line 2\u001b[0m\n\u001b[1;32m      1\u001b[0m \u001b[38;5;66;03m# Import package to read pdf tables\u001b[39;00m\n\u001b[0;32m----> 2\u001b[0m \u001b[38;5;28;01mimport\u001b[39;00m \u001b[38;5;21;01mcamelot\u001b[39;00m\n\u001b[1;32m      3\u001b[0m visas \u001b[38;5;241m=\u001b[39m camelot\u001b[38;5;241m.\u001b[39mread_pdf(pathout \u001b[38;5;241m+\u001b[39m \u001b[38;5;124m'\u001b[39m\u001b[38;5;124mvisas.pdf\u001b[39m\u001b[38;5;124m'\u001b[39m, pages\u001b[38;5;241m=\u001b[39m\u001b[38;5;124m'\u001b[39m\u001b[38;5;124m1-7\u001b[39m\u001b[38;5;124m'\u001b[39m)\n",
            "File \u001b[0;32m/opt/conda/lib/python3.10/site-packages/camelot/__init__.py:6\u001b[0m\n\u001b[1;32m      3\u001b[0m \u001b[38;5;28;01mimport\u001b[39;00m \u001b[38;5;21;01mlogging\u001b[39;00m\n\u001b[1;32m      5\u001b[0m \u001b[38;5;28;01mfrom\u001b[39;00m \u001b[38;5;21;01m.\u001b[39;00m\u001b[38;5;21;01m__version__\u001b[39;00m \u001b[38;5;28;01mimport\u001b[39;00m __version__\n\u001b[0;32m----> 6\u001b[0m \u001b[38;5;28;01mfrom\u001b[39;00m \u001b[38;5;21;01m.\u001b[39;00m\u001b[38;5;21;01mio\u001b[39;00m \u001b[38;5;28;01mimport\u001b[39;00m read_pdf\n\u001b[1;32m      7\u001b[0m \u001b[38;5;28;01mfrom\u001b[39;00m \u001b[38;5;21;01m.\u001b[39;00m\u001b[38;5;21;01mplotting\u001b[39;00m \u001b[38;5;28;01mimport\u001b[39;00m PlotMethods\n\u001b[1;32m     10\u001b[0m \u001b[38;5;66;03m# set up logging\u001b[39;00m\n",
            "File \u001b[0;32m/opt/conda/lib/python3.10/site-packages/camelot/io.py:5\u001b[0m\n\u001b[1;32m      1\u001b[0m \u001b[38;5;66;03m# -*- coding: utf-8 -*-\u001b[39;00m\n\u001b[1;32m      3\u001b[0m \u001b[38;5;28;01mimport\u001b[39;00m \u001b[38;5;21;01mwarnings\u001b[39;00m\n\u001b[0;32m----> 5\u001b[0m \u001b[38;5;28;01mfrom\u001b[39;00m \u001b[38;5;21;01m.\u001b[39;00m\u001b[38;5;21;01mhandlers\u001b[39;00m \u001b[38;5;28;01mimport\u001b[39;00m PDFHandler\n\u001b[1;32m      6\u001b[0m \u001b[38;5;28;01mfrom\u001b[39;00m \u001b[38;5;21;01m.\u001b[39;00m\u001b[38;5;21;01mutils\u001b[39;00m \u001b[38;5;28;01mimport\u001b[39;00m validate_input, remove_extra\n\u001b[1;32m      9\u001b[0m \u001b[38;5;28;01mdef\u001b[39;00m \u001b[38;5;21mread_pdf\u001b[39m(\n\u001b[1;32m     10\u001b[0m     filepath,\n\u001b[1;32m     11\u001b[0m     pages\u001b[38;5;241m=\u001b[39m\u001b[38;5;124m\"\u001b[39m\u001b[38;5;124m1\u001b[39m\u001b[38;5;124m\"\u001b[39m,\n\u001b[0;32m   (...)\u001b[0m\n\u001b[1;32m     16\u001b[0m     \u001b[38;5;241m*\u001b[39m\u001b[38;5;241m*\u001b[39mkwargs\n\u001b[1;32m     17\u001b[0m ):\n",
            "File \u001b[0;32m/opt/conda/lib/python3.10/site-packages/camelot/handlers.py:9\u001b[0m\n\u001b[1;32m      6\u001b[0m \u001b[38;5;28;01mfrom\u001b[39;00m \u001b[38;5;21;01mPyPDF2\u001b[39;00m \u001b[38;5;28;01mimport\u001b[39;00m PdfFileReader, PdfFileWriter\n\u001b[1;32m      8\u001b[0m \u001b[38;5;28;01mfrom\u001b[39;00m \u001b[38;5;21;01m.\u001b[39;00m\u001b[38;5;21;01mcore\u001b[39;00m \u001b[38;5;28;01mimport\u001b[39;00m TableList\n\u001b[0;32m----> 9\u001b[0m \u001b[38;5;28;01mfrom\u001b[39;00m \u001b[38;5;21;01m.\u001b[39;00m\u001b[38;5;21;01mparsers\u001b[39;00m \u001b[38;5;28;01mimport\u001b[39;00m Stream, Lattice\n\u001b[1;32m     10\u001b[0m \u001b[38;5;28;01mfrom\u001b[39;00m \u001b[38;5;21;01m.\u001b[39;00m\u001b[38;5;21;01mutils\u001b[39;00m \u001b[38;5;28;01mimport\u001b[39;00m (\n\u001b[1;32m     11\u001b[0m     TemporaryDirectory,\n\u001b[1;32m     12\u001b[0m     get_page_layout,\n\u001b[0;32m   (...)\u001b[0m\n\u001b[1;32m     16\u001b[0m     download_url,\n\u001b[1;32m     17\u001b[0m )\n\u001b[1;32m     20\u001b[0m \u001b[38;5;28;01mclass\u001b[39;00m \u001b[38;5;21;01mPDFHandler\u001b[39;00m(\u001b[38;5;28mobject\u001b[39m):\n",
            "File \u001b[0;32m/opt/conda/lib/python3.10/site-packages/camelot/parsers/__init__.py:4\u001b[0m\n\u001b[1;32m      1\u001b[0m \u001b[38;5;66;03m# -*- coding: utf-8 -*-\u001b[39;00m\n\u001b[1;32m      3\u001b[0m \u001b[38;5;28;01mfrom\u001b[39;00m \u001b[38;5;21;01m.\u001b[39;00m\u001b[38;5;21;01mstream\u001b[39;00m \u001b[38;5;28;01mimport\u001b[39;00m Stream\n\u001b[0;32m----> 4\u001b[0m \u001b[38;5;28;01mfrom\u001b[39;00m \u001b[38;5;21;01m.\u001b[39;00m\u001b[38;5;21;01mlattice\u001b[39;00m \u001b[38;5;28;01mimport\u001b[39;00m Lattice\n",
            "File \u001b[0;32m/opt/conda/lib/python3.10/site-packages/camelot/parsers/lattice.py:25\u001b[0m\n\u001b[1;32m     14\u001b[0m \u001b[38;5;28;01mfrom\u001b[39;00m \u001b[38;5;21;01m.\u001b[39;00m\u001b[38;5;21;01m.\u001b[39;00m\u001b[38;5;21;01mcore\u001b[39;00m \u001b[38;5;28;01mimport\u001b[39;00m Table\n\u001b[1;32m     15\u001b[0m \u001b[38;5;28;01mfrom\u001b[39;00m \u001b[38;5;21;01m.\u001b[39;00m\u001b[38;5;21;01m.\u001b[39;00m\u001b[38;5;21;01mutils\u001b[39;00m \u001b[38;5;28;01mimport\u001b[39;00m (\n\u001b[1;32m     16\u001b[0m     scale_image,\n\u001b[1;32m     17\u001b[0m     scale_pdf,\n\u001b[0;32m   (...)\u001b[0m\n\u001b[1;32m     23\u001b[0m     compute_whitespace,\n\u001b[1;32m     24\u001b[0m )\n\u001b[0;32m---> 25\u001b[0m \u001b[38;5;28;01mfrom\u001b[39;00m \u001b[38;5;21;01m.\u001b[39;00m\u001b[38;5;21;01m.\u001b[39;00m\u001b[38;5;21;01mimage_processing\u001b[39;00m \u001b[38;5;28;01mimport\u001b[39;00m (\n\u001b[1;32m     26\u001b[0m     adaptive_threshold,\n\u001b[1;32m     27\u001b[0m     find_lines,\n\u001b[1;32m     28\u001b[0m     find_contours,\n\u001b[1;32m     29\u001b[0m     find_joints,\n\u001b[1;32m     30\u001b[0m )\n\u001b[1;32m     31\u001b[0m \u001b[38;5;28;01mfrom\u001b[39;00m \u001b[38;5;21;01m.\u001b[39;00m\u001b[38;5;21;01m.\u001b[39;00m\u001b[38;5;21;01mbackends\u001b[39;00m\u001b[38;5;21;01m.\u001b[39;00m\u001b[38;5;21;01mimage_conversion\u001b[39;00m \u001b[38;5;28;01mimport\u001b[39;00m BACKENDS\n\u001b[1;32m     34\u001b[0m logger \u001b[38;5;241m=\u001b[39m logging\u001b[38;5;241m.\u001b[39mgetLogger(\u001b[38;5;124m\"\u001b[39m\u001b[38;5;124mcamelot\u001b[39m\u001b[38;5;124m\"\u001b[39m)\n",
            "File \u001b[0;32m/opt/conda/lib/python3.10/site-packages/camelot/image_processing.py:3\u001b[0m\n\u001b[1;32m      1\u001b[0m \u001b[38;5;66;03m# -*- coding: utf-8 -*-\u001b[39;00m\n\u001b[0;32m----> 3\u001b[0m \u001b[38;5;28;01mimport\u001b[39;00m \u001b[38;5;21;01mcv2\u001b[39;00m\n\u001b[1;32m      4\u001b[0m \u001b[38;5;28;01mimport\u001b[39;00m \u001b[38;5;21;01mnumpy\u001b[39;00m \u001b[38;5;28;01mas\u001b[39;00m \u001b[38;5;21;01mnp\u001b[39;00m\n\u001b[1;32m      7\u001b[0m \u001b[38;5;28;01mdef\u001b[39;00m \u001b[38;5;21madaptive_threshold\u001b[39m(imagename, process_background\u001b[38;5;241m=\u001b[39m\u001b[38;5;28;01mFalse\u001b[39;00m, blocksize\u001b[38;5;241m=\u001b[39m\u001b[38;5;241m15\u001b[39m, c\u001b[38;5;241m=\u001b[39m\u001b[38;5;241m-\u001b[39m\u001b[38;5;241m2\u001b[39m):\n",
            "\u001b[0;31mImportError\u001b[0m: libGL.so.1: cannot open shared object file: No such file or directory"
          ]
        }
      ],
      "execution_count": 16,
      "block_group": "69c5266bf8b7422cb328fb5462729ee8"
    },
    {
      "cell_type": "markdown",
      "source": "Let's explore the visas object",
      "metadata": {
        "cell_id": "680d56d458424b7b9a777033f9760aad",
        "user_expressions": [],
        "deepnote_cell_type": "markdown"
      },
      "block_group": "680d56d458424b7b9a777033f9760aad"
    },
    {
      "cell_type": "code",
      "source": "visas",
      "metadata": {
        "cell_id": "3c68e6f35b514e40a80b3305cbfae22a",
        "source_hash": "d28fb129",
        "deepnote_to_be_reexecuted": true,
        "deepnote_cell_type": "code"
      },
      "outputs": [],
      "execution_count": 0,
      "block_group": "3c68e6f35b514e40a80b3305cbfae22a"
    },
    {
      "cell_type": "markdown",
      "source": "So there are 7 tables in visas. What does Table 1 have?",
      "metadata": {
        "cell_id": "b7cb663a301246619b70f26529b71df4",
        "user_expressions": [],
        "deepnote_cell_type": "markdown"
      },
      "block_group": "b7cb663a301246619b70f26529b71df4"
    },
    {
      "cell_type": "code",
      "source": "visas[0]",
      "metadata": {
        "cell_id": "f0ff7f7ab86649d6b5dacc53d32d7059",
        "source_hash": "237fec6f",
        "deepnote_to_be_reexecuted": true,
        "deepnote_cell_type": "code"
      },
      "outputs": [],
      "execution_count": 0,
      "block_group": "f0ff7f7ab86649d6b5dacc53d32d7059"
    },
    {
      "cell_type": "code",
      "source": "visas[0].df",
      "metadata": {
        "cell_id": "77ec2e65af3841f68d606d676f4ff631",
        "source_hash": "10eefbb5",
        "deepnote_to_be_reexecuted": true,
        "deepnote_cell_type": "code"
      },
      "outputs": [],
      "execution_count": 0,
      "block_group": "77ec2e65af3841f68d606d676f4ff631"
    },
    {
      "cell_type": "markdown",
      "source": "Ok, let's concatenate all these ``pandas`` dataframes.",
      "metadata": {
        "cell_id": "c11984ddba674069b0e2e4efdfe90d28",
        "user_expressions": [],
        "deepnote_cell_type": "markdown"
      },
      "block_group": "c11984ddba674069b0e2e4efdfe90d28"
    },
    {
      "cell_type": "code",
      "source": "visadf = pd.concat([i.df for i in visas]).reset_index(drop=True)\nvisadf",
      "metadata": {
        "cell_id": "b9877860521c4348be78f63394f28307",
        "source_hash": "2c3065ad",
        "deepnote_to_be_reexecuted": true,
        "deepnote_cell_type": "code"
      },
      "outputs": [],
      "execution_count": 0,
      "block_group": "b9877860521c4348be78f63394f28307"
    },
    {
      "cell_type": "markdown",
      "source": "## We need to correct the header",
      "metadata": {
        "cell_id": "74d228201a9548cba574468f4497d334",
        "user_expressions": [],
        "deepnote_cell_type": "markdown"
      },
      "block_group": "74d228201a9548cba574468f4497d334"
    },
    {
      "cell_type": "code",
      "source": "visadf.columns = visadf.iloc[5]",
      "metadata": {
        "cell_id": "722f666f58e04685a6bb60660023952e",
        "source_hash": "cc6113d3",
        "deepnote_to_be_reexecuted": true,
        "deepnote_cell_type": "code"
      },
      "outputs": [],
      "execution_count": 0,
      "block_group": "722f666f58e04685a6bb60660023952e"
    },
    {
      "cell_type": "code",
      "source": "visadf.head(10)",
      "metadata": {
        "cell_id": "74d3f534a0fd4a17b6d2ab5910a8f440",
        "source_hash": "bd9145dc",
        "deepnote_to_be_reexecuted": true,
        "deepnote_cell_type": "code"
      },
      "outputs": [],
      "execution_count": 0,
      "block_group": "74d3f534a0fd4a17b6d2ab5910a8f440"
    },
    {
      "cell_type": "code",
      "source": "visadf = visadf.iloc[6:].copy()",
      "metadata": {
        "cell_id": "e5065a9809934b5b80a91f9c77e6ae6a",
        "source_hash": "9d02e675",
        "deepnote_to_be_reexecuted": true,
        "deepnote_cell_type": "code"
      },
      "outputs": [],
      "execution_count": 0,
      "block_group": "e5065a9809934b5b80a91f9c77e6ae6a"
    },
    {
      "cell_type": "code",
      "source": "visadf.columns.name = ''",
      "metadata": {
        "cell_id": "aa5b307defc6409dac4d72628a10c0c9",
        "source_hash": "675ec6b4",
        "deepnote_to_be_reexecuted": true,
        "deepnote_cell_type": "code"
      },
      "outputs": [],
      "execution_count": 0,
      "block_group": "aa5b307defc6409dac4d72628a10c0c9"
    },
    {
      "cell_type": "code",
      "source": "visadf.head(10)",
      "metadata": {
        "cell_id": "c2dc71c43f654e45bb93de4892cc56ad",
        "source_hash": "bd9145dc",
        "deepnote_to_be_reexecuted": true,
        "deepnote_cell_type": "code"
      },
      "outputs": [],
      "execution_count": 0,
      "block_group": "c2dc71c43f654e45bb93de4892cc56ad"
    },
    {
      "cell_type": "markdown",
      "source": "Let's code SI (YES) as 1 and NO as 0",
      "metadata": {
        "cell_id": "461b1fd3d93143ef919d5adce846b1f6",
        "user_expressions": [],
        "deepnote_cell_type": "markdown"
      },
      "block_group": "461b1fd3d93143ef919d5adce846b1f6"
    },
    {
      "cell_type": "code",
      "source": "visadf['visa_req'] = visadf.SI.map({'X':1, '':0})",
      "metadata": {
        "cell_id": "b597a101766a4d19a96f39e6030cffe9",
        "source_hash": "d648ea60",
        "deepnote_to_be_reexecuted": true,
        "deepnote_cell_type": "code"
      },
      "outputs": [],
      "execution_count": 0,
      "block_group": "b597a101766a4d19a96f39e6030cffe9"
    },
    {
      "cell_type": "markdown",
      "source": "Let's check whether things were mapped correctly",
      "metadata": {
        "cell_id": "1b528a8e92ff426bb91ac46331d4497a",
        "user_expressions": [],
        "deepnote_cell_type": "markdown"
      },
      "block_group": "1b528a8e92ff426bb91ac46331d4497a"
    },
    {
      "cell_type": "code",
      "source": "visadf.loc[visadf.visa_req.isna()]",
      "metadata": {
        "cell_id": "3f74a9d4f65d446db970fc764ec1cd7b",
        "source_hash": "7b154434",
        "deepnote_to_be_reexecuted": true,
        "deepnote_cell_type": "code"
      },
      "outputs": [],
      "execution_count": 0,
      "block_group": "3f74a9d4f65d446db970fc764ec1cd7b"
    },
    {
      "cell_type": "code",
      "source": "IFrame(url, width=800, height=400)",
      "metadata": {
        "cell_id": "15014eb9830241a5a1d428fd91a90bde",
        "source_hash": "c5812076",
        "deepnote_to_be_reexecuted": true,
        "deepnote_cell_type": "code"
      },
      "outputs": [],
      "execution_count": 0,
      "block_group": "15014eb9830241a5a1d428fd91a90bde"
    },
    {
      "cell_type": "code",
      "source": "visadf.loc[(visadf.SI=='X X') | (visadf.SI.shift(1)=='X X')  | (visadf.SI.shift(-1)=='X X')]",
      "metadata": {
        "cell_id": "6a0a72fd1f8f4e26aa834040de6345c3",
        "source_hash": "fcbfd98e",
        "deepnote_to_be_reexecuted": true,
        "deepnote_cell_type": "code"
      },
      "outputs": [],
      "execution_count": 0,
      "block_group": "6a0a72fd1f8f4e26aa834040de6345c3"
    },
    {
      "cell_type": "code",
      "source": "visadf.loc[(visadf.SI=='X X X') | (visadf.SI.shift(1)=='X X X')  | (visadf.SI.shift(-1)=='X X X')]",
      "metadata": {
        "cell_id": "df1f2599548c40c0a13be43ae3bcd046",
        "source_hash": "2ec1a5df",
        "deepnote_to_be_reexecuted": true,
        "deepnote_cell_type": "code"
      },
      "outputs": [],
      "execution_count": 0,
      "block_group": "df1f2599548c40c0a13be43ae3bcd046"
    },
    {
      "cell_type": "markdown",
      "source": "Ok it seems we have two types of errors. First, notince that sometimes the type of visa is defined, e.g., Azerbayán. Second, the OCR software has mixed some rows, so that now we have XX, XXX, etc. Looking at the pdf it seems this is due to assigning an X from a previous row to the current row (\"X X\") or from both the previous and next (\"X X X\"). Let's try to correct these errors programatically (obviously sometimes it may just be faster and better to export the dataframe, correct it by hand snd then load the corrected one, but we're here to learn, right?).",
      "metadata": {
        "cell_id": "6b41c81262a8459890958e64eeb95fc9",
        "user_expressions": [],
        "deepnote_cell_type": "markdown"
      },
      "block_group": "6b41c81262a8459890958e64eeb95fc9"
    },
    {
      "cell_type": "markdown",
      "source": "First, let's replace the repeated X with what seems to be the correct data.\n\n**X X**",
      "metadata": {
        "cell_id": "804a2f32ed3444b3b8270184430a0581",
        "user_expressions": [],
        "deepnote_cell_type": "markdown"
      },
      "block_group": "804a2f32ed3444b3b8270184430a0581"
    },
    {
      "cell_type": "code",
      "source": "visadf.loc[(visadf.SI=='X X') | (visadf.SI.shift(-1)=='X X'), 'visa_req'] = 1\nvisadf.loc[(visadf.SI=='X X') | (visadf.SI.shift(-1)=='X X')]",
      "metadata": {
        "cell_id": "a599b0dffeb041cd8bb94d40bc9f0dc6",
        "source_hash": "b00d68ad",
        "deepnote_to_be_reexecuted": true,
        "deepnote_cell_type": "code"
      },
      "outputs": [],
      "execution_count": 0,
      "block_group": "a599b0dffeb041cd8bb94d40bc9f0dc6"
    },
    {
      "cell_type": "markdown",
      "source": "**X X X**",
      "metadata": {
        "cell_id": "ce639a3bf3364d4fb3cd895108731010",
        "user_expressions": [],
        "deepnote_cell_type": "markdown"
      },
      "block_group": "ce639a3bf3364d4fb3cd895108731010"
    },
    {
      "cell_type": "code",
      "source": "visadf.loc[(visadf.SI=='X X X') | (visadf.SI.shift(1)=='X X X')  | (visadf.SI.shift(-1)=='X X X'), 'visa_req'] =1\nvisadf.loc[(visadf.SI=='X X X') | (visadf.SI.shift(1)=='X X X')  | (visadf.SI.shift(-1)=='X X X')]",
      "metadata": {
        "cell_id": "8214fb993c77487fb2343f1495162534",
        "source_hash": "79e237b9",
        "deepnote_to_be_reexecuted": true,
        "deepnote_cell_type": "code"
      },
      "outputs": [],
      "execution_count": 0,
      "block_group": "8214fb993c77487fb2343f1495162534"
    },
    {
      "cell_type": "markdown",
      "source": "**X X X X**",
      "metadata": {
        "cell_id": "324c775e131542d8bbbc1f6708412222",
        "user_expressions": [],
        "deepnote_cell_type": "markdown"
      },
      "block_group": "324c775e131542d8bbbc1f6708412222"
    },
    {
      "cell_type": "code",
      "source": "visadf.loc[(visadf.SI=='X X X X') | (visadf.SI.shift(1)=='X X X X')  | (visadf.SI.shift(-1)=='X X X X') | (visadf.SI.shift(2)=='X X X X')  | (visadf.SI.shift(-2)=='X X X X')  | (visadf.SI.shift(-3)=='X X X X')]",
      "metadata": {
        "cell_id": "c01dbd0e87614658b140fdd45ca8dda3",
        "source_hash": "a988e2a",
        "deepnote_to_be_reexecuted": true,
        "deepnote_cell_type": "code"
      },
      "outputs": [],
      "execution_count": 0,
      "block_group": "c01dbd0e87614658b140fdd45ca8dda3"
    },
    {
      "cell_type": "code",
      "source": "visadf.loc[(visadf.SI=='X X X X') | (visadf.SI.shift(1)=='X X X X')  | (visadf.SI.shift(-1)=='X X X X') | (visadf.SI.shift(-2)=='X X X X'), 'visa_req'] = 1\nvisadf.loc[(visadf.SI=='X X X X') | (visadf.SI.shift(1)=='X X X X')  | (visadf.SI.shift(-1)=='X X X X') | (visadf.SI.shift(-2)=='X X X X')]",
      "metadata": {
        "cell_id": "98c8537c52c14835bfe03dc59b68986f",
        "source_hash": "ff2c409d",
        "deepnote_to_be_reexecuted": true,
        "deepnote_cell_type": "code"
      },
      "outputs": [],
      "execution_count": 0,
      "block_group": "98c8537c52c14835bfe03dc59b68986f"
    },
    {
      "cell_type": "markdown",
      "source": "**X X X X X**",
      "metadata": {
        "cell_id": "4ed96d1df10b469cba8b576f7871918b",
        "user_expressions": [],
        "deepnote_cell_type": "markdown"
      },
      "block_group": "4ed96d1df10b469cba8b576f7871918b"
    },
    {
      "cell_type": "code",
      "source": "visadf.loc[(visadf.SI=='X X X X X') | (visadf.SI.shift(1)=='X X X X X')  | (visadf.SI.shift(-1)=='X X X X X') | (visadf.SI.shift(-2)=='X X X X X') | (visadf.SI.shift(2)=='X X X X X')]",
      "metadata": {
        "cell_id": "3bddd7466fdf4e2cb4a60dab4c5cb83c",
        "source_hash": "747c0082",
        "deepnote_to_be_reexecuted": true,
        "deepnote_cell_type": "code"
      },
      "outputs": [],
      "execution_count": 0,
      "block_group": "3bddd7466fdf4e2cb4a60dab4c5cb83c"
    },
    {
      "cell_type": "code",
      "source": "visadf.loc[(visadf.SI=='X X X X X') | (visadf.SI.shift(1)=='X X X X X')  | (visadf.SI.shift(-1)=='X X X X X') | (visadf.SI.shift(-2)=='X X X X X') | (visadf.SI.shift(2)=='X X X X X'), 'visa_req'] = 1\nvisadf.loc[(visadf.SI=='X X X X X') | (visadf.SI.shift(1)=='X X X X X')  | (visadf.SI.shift(-1)=='X X X X X') | (visadf.SI.shift(-2)=='X X X X X') | (visadf.SI.shift(2)=='X X X X X')]",
      "metadata": {
        "cell_id": "9de42e082deb4dee984b6796e801fded",
        "source_hash": "cf77cb4",
        "deepnote_to_be_reexecuted": true,
        "deepnote_cell_type": "code"
      },
      "outputs": [],
      "execution_count": 0,
      "block_group": "9de42e082deb4dee984b6796e801fded"
    },
    {
      "cell_type": "markdown",
      "source": "**X X X X X X**",
      "metadata": {
        "cell_id": "c64630b622104e0bb65ed025727c1b74",
        "user_expressions": [],
        "deepnote_cell_type": "markdown"
      },
      "block_group": "c64630b622104e0bb65ed025727c1b74"
    },
    {
      "cell_type": "code",
      "source": "visadf.loc[(visadf.SI=='X X X X X X') | (visadf.SI.shift(1)=='X X X X X X')  | (visadf.SI.shift(-1)=='X X X X X X') | (visadf.SI.shift(-2)=='X X X X X X') | (visadf.SI.shift(2)=='X X X X X X') | (visadf.SI.shift(-3)=='X X X X X X') | (visadf.SI.shift(3)=='X X X X X X')]",
      "metadata": {
        "cell_id": "f84b5d4bc91249a9a25e9a3261c58b40",
        "source_hash": "d7514ae",
        "deepnote_to_be_reexecuted": true,
        "deepnote_cell_type": "code"
      },
      "outputs": [],
      "execution_count": 0,
      "block_group": "f84b5d4bc91249a9a25e9a3261c58b40"
    },
    {
      "cell_type": "code",
      "source": "visadf.loc[(visadf.SI=='X X X X X X') | (visadf.SI.shift(1)=='X X X X X X')  | (visadf.SI.shift(-1)=='X X X X X X') | (visadf.SI.shift(-2)=='X X X X X X') | (visadf.SI.shift(2)=='X X X X X X') | (visadf.SI.shift(-3)=='X X X X X X'), 'visa_req'] = 1\nvisadf.loc[(visadf.SI=='X X X X X X') | (visadf.SI.shift(1)=='X X X X X X')  | (visadf.SI.shift(-1)=='X X X X X X') | (visadf.SI.shift(-2)=='X X X X X X') | (visadf.SI.shift(2)=='X X X X X X') | (visadf.SI.shift(-3)=='X X X X X X')]",
      "metadata": {
        "cell_id": "e07d6a5445364996a3051b97e2a326d5",
        "source_hash": "33fc2eb1",
        "deepnote_to_be_reexecuted": true,
        "deepnote_cell_type": "code"
      },
      "outputs": [],
      "execution_count": 0,
      "block_group": "e07d6a5445364996a3051b97e2a326d5"
    },
    {
      "cell_type": "markdown",
      "source": "Let's also replace visa required for any row that has the word \"visa\".",
      "metadata": {
        "cell_id": "4a30c9f2e17142e78d5664685426b661",
        "user_expressions": [],
        "deepnote_cell_type": "markdown"
      },
      "block_group": "4a30c9f2e17142e78d5664685426b661"
    },
    {
      "cell_type": "code",
      "source": "visadf.loc[visadf.SI.str.lower().str.find('visa')!=-1]",
      "metadata": {
        "cell_id": "2af8504d993f45b2af63a2f5678273ad",
        "source_hash": "a2613303",
        "deepnote_to_be_reexecuted": true,
        "deepnote_cell_type": "code"
      },
      "outputs": [],
      "execution_count": 0,
      "block_group": "2af8504d993f45b2af63a2f5678273ad"
    },
    {
      "cell_type": "code",
      "source": "visadf.loc[visadf.SI.str.lower().str.find('visa')!=-1, 'visa_req'] = 1\nvisadf.loc[visadf.SI.str.lower().str.find('visa')!=-1]",
      "metadata": {
        "cell_id": "9f50ad3b8c93479bbed08a9bfe9cff1b",
        "source_hash": "5e6d84b7",
        "deepnote_to_be_reexecuted": true,
        "deepnote_cell_type": "code"
      },
      "outputs": [],
      "execution_count": 0,
      "block_group": "9f50ad3b8c93479bbed08a9bfe9cff1b"
    },
    {
      "cell_type": "markdown",
      "source": "Let's check again",
      "metadata": {
        "cell_id": "bf5cbec0b53d486a9ee3360048b3b8e6",
        "user_expressions": [],
        "deepnote_cell_type": "markdown"
      },
      "block_group": "bf5cbec0b53d486a9ee3360048b3b8e6"
    },
    {
      "cell_type": "code",
      "source": "visadf.loc[visadf.visa_req.isna()]",
      "metadata": {
        "cell_id": "b32739f4a6d44b8ba4ef97b11991341b",
        "source_hash": "7b154434",
        "deepnote_to_be_reexecuted": true,
        "deepnote_cell_type": "code"
      },
      "outputs": [],
      "execution_count": 0,
      "block_group": "b32739f4a6d44b8ba4ef97b11991341b"
    },
    {
      "cell_type": "markdown",
      "source": "Ok, it seems we have coded which countries need and which do not need visa for colombian citizens. Let's analyze this data a bit.",
      "metadata": {
        "cell_id": "672fc1b4e8fa422f8fb9b884696c1268",
        "user_expressions": [],
        "deepnote_cell_type": "markdown"
      },
      "block_group": "672fc1b4e8fa422f8fb9b884696c1268"
    },
    {
      "cell_type": "code",
      "source": "visadf['visa_req_YN'] = visadf.visa_req.map({0:'NO', 1:'YES'})\nvisadf",
      "metadata": {
        "cell_id": "ca95442591b743b58f1fe161ca028aa5",
        "source_hash": "fd0e53c9",
        "deepnote_to_be_reexecuted": true,
        "deepnote_cell_type": "code"
      },
      "outputs": [],
      "execution_count": 0,
      "block_group": "ca95442591b743b58f1fe161ca028aa5"
    },
    {
      "cell_type": "code",
      "source": "visadf.hist()\nvisadf.visa_req.describe()",
      "metadata": {
        "cell_id": "a37979f605e6406cb7d944781c6b1f0c",
        "source_hash": "12ec540a",
        "deepnote_to_be_reexecuted": true,
        "deepnote_cell_type": "code"
      },
      "outputs": [],
      "execution_count": 0,
      "block_group": "a37979f605e6406cb7d944781c6b1f0c"
    },
    {
      "cell_type": "code",
      "source": "df = visadf.groupby('visa_req_YN').count().reset_index()\ndf",
      "metadata": {
        "cell_id": "0ebe145309cc4e599bd3f40d3e953981",
        "source_hash": "5ada7975",
        "deepnote_to_be_reexecuted": true,
        "deepnote_cell_type": "code"
      },
      "outputs": [],
      "execution_count": 0,
      "block_group": "0ebe145309cc4e599bd3f40d3e953981"
    },
    {
      "cell_type": "code",
      "source": "sns.set(rc={'figure.figsize':(11.7,8.27)})\n#sns.reset_orig()\nsns.set_context(\"talk\")\n# Plot\nfig, ax = plt.subplots()\nsns.barplot(x='visa_req_YN', y='visa_req', data=df, alpha=1)\nax.tick_params(axis = 'both', which = 'major')\nax.tick_params(axis = 'both', which = 'minor')\nax.set_xlabel('Visa Required')\nax.set_ylabel('Number of Countries')",
      "metadata": {
        "cell_id": "e05c719fe56649edbef4de4784cfaa42",
        "source_hash": "de11dd0f",
        "deepnote_to_be_reexecuted": true,
        "deepnote_cell_type": "code"
      },
      "outputs": [],
      "execution_count": 0,
      "block_group": "e05c719fe56649edbef4de4784cfaa42"
    },
    {
      "cell_type": "markdown",
      "source": "Let's try to map these countries. First let's get the Natural Earth shapefile.",
      "metadata": {
        "cell_id": "ad9259a7c33041d9b40771f2a158b7cd",
        "user_expressions": [],
        "deepnote_cell_type": "markdown"
      },
      "block_group": "ad9259a7c33041d9b40771f2a158b7cd"
    },
    {
      "cell_type": "code",
      "source": "import requests\nimport io\n\n#headers = {'User-Agent': 'Mozilla/5.0 (Macintosh; Intel Mac OS X 10_10_1) AppleWebKit/537.36 (KHTML, like Gecko) Chrome/39.0.2171.95 Safari/537.36'}\nheaders = {'User-Agent': 'Mozilla/5.0 (X11; Linux x86_64) AppleWebKit/537.36 (KHTML, like Gecko) Chrome/51.0.2704.103 Safari/537.36', 'Accept': 'text/html,application/xhtml+xml,application/xml;q=0.9,*/*;q=0.8'}\n\nurl = 'https://www.naturalearthdata.com/http//www.naturalearthdata.com/download/10m/cultural/ne_10m_admin_0_countries.zip'\nr = requests.get(url, headers=headers)\ncountries = gp.read_file(io.BytesIO(r.content))\n#countries = gpd.read_file('https://www.naturalearthdata.com/http//www.naturalearthdata.com/download/10m/cultural/ne_10m_admin_0_countries.zip')",
      "metadata": {
        "cell_id": "6fdebd42955e4bcda1be6e4e18134b0e",
        "source_hash": "66506900",
        "deepnote_to_be_reexecuted": true,
        "deepnote_cell_type": "code"
      },
      "outputs": [],
      "execution_count": 0,
      "block_group": "6fdebd42955e4bcda1be6e4e18134b0e"
    },
    {
      "cell_type": "code",
      "source": "countries",
      "metadata": {
        "cell_id": "2bff7ced0bd54f86a77fb5a7cda4ad94",
        "source_hash": "967497f2",
        "deepnote_to_be_reexecuted": true,
        "deepnote_cell_type": "code"
      },
      "outputs": [],
      "execution_count": 0,
      "block_group": "2bff7ced0bd54f86a77fb5a7cda4ad94"
    },
    {
      "cell_type": "markdown",
      "source": "Luckily there are country names in Spanish. Let's see if we can merge these two data sets.",
      "metadata": {
        "cell_id": "12233ea29e244af1b8bd65a03aa4c611",
        "user_expressions": [],
        "deepnote_cell_type": "markdown"
      },
      "block_group": "12233ea29e244af1b8bd65a03aa4c611"
    },
    {
      "cell_type": "code",
      "source": "countries.NAME_ES",
      "metadata": {
        "cell_id": "232370edfbbf4ad28557b1aedc9fbc98",
        "source_hash": "ca2765d0",
        "deepnote_to_be_reexecuted": true,
        "deepnote_cell_type": "code"
      },
      "outputs": [],
      "execution_count": 0,
      "block_group": "232370edfbbf4ad28557b1aedc9fbc98"
    },
    {
      "cell_type": "code",
      "source": "col_visa = countries.merge(visadf, left_on='NAME_ES', right_on='PAIS')",
      "metadata": {
        "cell_id": "9a4d199d2ef24a8eb49e61774f7b4718",
        "source_hash": "f60b0aa",
        "deepnote_to_be_reexecuted": true,
        "deepnote_cell_type": "code"
      },
      "outputs": [],
      "execution_count": 0,
      "block_group": "9a4d199d2ef24a8eb49e61774f7b4718"
    },
    {
      "cell_type": "code",
      "source": "cmap = mpl.colors.ListedColormap(['blue', 'red'])\nmylegend = center_wrap([\"Visa Requirements\", \"For Colombian Citizens\"], cwidth=32, width=32)\nMyChloropleth(mydf=col_visa, myfile='col_visa', myvar='visa_req', mylegend=mylegend, k=1, bbox_to_anchor=(0.25, 0.3),\n                  edgecolor='white', facecolor='lightgray', cmap=cmap, scheme='UserDefined', bins=[0,1], legend_labels=['NO', 'YES'],\n                  save=False)",
      "metadata": {
        "cell_id": "8666c2f0ab3148e8966ac643e2c4b5fb",
        "source_hash": "124fb5ca",
        "deepnote_to_be_reexecuted": true,
        "deepnote_cell_type": "code"
      },
      "outputs": [],
      "execution_count": 0,
      "block_group": "8666c2f0ab3148e8966ac643e2c4b5fb"
    },
    {
      "cell_type": "markdown",
      "source": "So it seems not everything merged correctly",
      "metadata": {
        "cell_id": "6600098914fd4961ab14718d3aab9199",
        "user_expressions": [],
        "deepnote_cell_type": "markdown"
      },
      "block_group": "6600098914fd4961ab14718d3aab9199"
    },
    {
      "cell_type": "code",
      "source": "col_visa.shape",
      "metadata": {
        "cell_id": "eafcb6f845104165ba69fc7656385541",
        "source_hash": "fc52d27",
        "deepnote_to_be_reexecuted": true,
        "deepnote_cell_type": "code"
      },
      "outputs": [],
      "execution_count": 0,
      "block_group": "eafcb6f845104165ba69fc7656385541"
    },
    {
      "cell_type": "code",
      "source": "visadf.shape",
      "metadata": {
        "cell_id": "223a489c7c264aadaf28fb78539042fc",
        "source_hash": "8bc386bb",
        "deepnote_to_be_reexecuted": true,
        "deepnote_cell_type": "code"
      },
      "outputs": [],
      "execution_count": 0,
      "block_group": "223a489c7c264aadaf28fb78539042fc"
    },
    {
      "cell_type": "code",
      "source": "col_visa.loc[col_visa.visa_req.isna(), 'NAME_ES'].sort_values()",
      "metadata": {
        "cell_id": "36e77484c4a94a6cbf483692dd4c526b",
        "source_hash": "76461b1b",
        "deepnote_to_be_reexecuted": true,
        "deepnote_cell_type": "code"
      },
      "outputs": [],
      "execution_count": 0,
      "block_group": "36e77484c4a94a6cbf483692dd4c526b"
    },
    {
      "cell_type": "markdown",
      "source": "So we are not linking all countries. This is usually due to symbols like accents and ~, but in this case also because the tail of the data frame includes territories of countries, so their names are non-standard (and OCR may have made some mistakes). ",
      "metadata": {
        "cell_id": "a15d875f4f4840928da3e0b585ad4a11",
        "user_expressions": [],
        "deepnote_cell_type": "markdown"
      },
      "block_group": "a15d875f4f4840928da3e0b585ad4a11"
    },
    {
      "cell_type": "code",
      "source": "visadf.tail(25)",
      "metadata": {
        "cell_id": "9ea7ceae858f4a3ea7affe9a56093f61",
        "source_hash": "387a5a2a",
        "deepnote_to_be_reexecuted": true,
        "deepnote_cell_type": "code"
      },
      "outputs": [],
      "execution_count": 0,
      "block_group": "9ea7ceae858f4a3ea7affe9a56093f61"
    },
    {
      "cell_type": "markdown",
      "source": "Let's correct the country names to improve matching. It's always a good practice to keep the original names.",
      "metadata": {
        "cell_id": "3fb17315ce23419f83d9587721441f9d",
        "user_expressions": [],
        "deepnote_cell_type": "markdown"
      },
      "block_group": "3fb17315ce23419f83d9587721441f9d"
    },
    {
      "cell_type": "code",
      "source": "visadf['PAIS_OR'] = visadf.PAIS",
      "metadata": {
        "cell_id": "2a79aaed415e4eeaa48879e22f1dfac2",
        "source_hash": "5daee406",
        "deepnote_to_be_reexecuted": true,
        "deepnote_cell_type": "code"
      },
      "outputs": [],
      "execution_count": 0,
      "block_group": "2a79aaed415e4eeaa48879e22f1dfac2"
    },
    {
      "cell_type": "code",
      "source": "visadf.loc[visadf.PAIS.str.find('(')!=-1, 'PAIS'] = visadf.loc[visadf.PAIS_OR.str.find('(')!=-1, 'PAIS_OR'].apply(lambda x: x[:x.find('(')])\nvisadf.PAIS = visadf.PAIS.str.strip()",
      "metadata": {
        "cell_id": "c7e4f63f42af47d0a155eb5c1554025a",
        "source_hash": "3625460b",
        "deepnote_to_be_reexecuted": true,
        "deepnote_cell_type": "code"
      },
      "outputs": [],
      "execution_count": 0,
      "block_group": "c7e4f63f42af47d0a155eb5c1554025a"
    },
    {
      "cell_type": "code",
      "source": "visadf.tail(30)",
      "metadata": {
        "cell_id": "43c71308cb9f410aa5bfa2516f4a172d",
        "source_hash": "d1e5c18c",
        "deepnote_to_be_reexecuted": true,
        "deepnote_cell_type": "code"
      },
      "outputs": [],
      "execution_count": 0,
      "block_group": "43c71308cb9f410aa5bfa2516f4a172d"
    },
    {
      "cell_type": "code",
      "source": "col_visa = countries.merge(visadf, left_on='NAME_ES', right_on='PAIS')\ncmap = mpl.colors.ListedColormap(['blue', 'red'])\nmylegend = center_wrap([\"Visa Requirements\", \"For Colombian Citizens\"], cwidth=32, width=32)\nMyChloropleth(mydf=col_visa, myfile='col_visa', myvar='visa_req', mylegend=mylegend, k=1, bbox_to_anchor=(0.25, 0.3),\n                  edgecolor='white', facecolor='lightgray', cmap=cmap, scheme='UserDefined', bins=[0,1], legend_labels=['NO', 'YES'],\n                  save=False)",
      "metadata": {
        "cell_id": "3309777e2c0049ef9ba4d986b0b931db",
        "source_hash": "7096f0ef",
        "deepnote_to_be_reexecuted": true,
        "deepnote_cell_type": "code"
      },
      "outputs": [],
      "execution_count": 0,
      "block_group": "3309777e2c0049ef9ba4d986b0b931db"
    },
    {
      "cell_type": "code",
      "source": "col_visa.shape",
      "metadata": {
        "cell_id": "2a95a38c3b3046cd940274b2c893e757",
        "source_hash": "fc52d27",
        "deepnote_to_be_reexecuted": true,
        "deepnote_cell_type": "code"
      },
      "outputs": [],
      "execution_count": 0,
      "block_group": "2a95a38c3b3046cd940274b2c893e757"
    },
    {
      "cell_type": "markdown",
      "source": "Ok, that helped a bit. Let's see what else is different. Let's start by finding which countries are not linked.",
      "metadata": {
        "cell_id": "99c812a04bae45f7a3227a0a6d616704",
        "user_expressions": [],
        "deepnote_cell_type": "markdown"
      },
      "block_group": "99c812a04bae45f7a3227a0a6d616704"
    },
    {
      "cell_type": "code",
      "source": "miss_countries = list(set(countries.NAME_ES).difference(col_visa.NAME_ES))\n#miss_countries.remove(None)\n#miss_countries.sort()\nmiss_visadf = list(set(visadf.PAIS).difference(col_visa.PAIS))\nmiss_visadf.remove('')\nmiss_visadf.sort()\nprint('Misssing countries', miss_countries)\nprint('')\nprint('Missing PAIS', miss_visadf)",
      "metadata": {
        "cell_id": "a2300f36f4954eec849df266d6e06e5e",
        "source_hash": "892c889f",
        "deepnote_to_be_reexecuted": true,
        "deepnote_cell_type": "code"
      },
      "outputs": [],
      "execution_count": 0,
      "block_group": "a2300f36f4954eec849df266d6e06e5e"
    },
    {
      "cell_type": "markdown",
      "source": "Let's choose one example to see why/how\nthey differ",
      "metadata": {
        "cell_id": "71f0e679353d492390f4c7c1d2dec1bb",
        "user_expressions": [],
        "deepnote_cell_type": "markdown"
      },
      "block_group": "71f0e679353d492390f4c7c1d2dec1bb"
    },
    {
      "cell_type": "code",
      "source": "countries.loc[countries.NAME_ES.str.find('Congo')!=-1, 'NAME_ES']",
      "metadata": {
        "cell_id": "b07fea4ff17049db954f864527f0e0c9",
        "source_hash": "d0c667e6",
        "deepnote_to_be_reexecuted": true,
        "deepnote_cell_type": "code"
      },
      "outputs": [],
      "execution_count": 0,
      "block_group": "b07fea4ff17049db954f864527f0e0c9"
    },
    {
      "cell_type": "code",
      "source": "visadf.loc[visadf.PAIS.str.find('Congo')!=-1, 'PAIS']",
      "metadata": {
        "cell_id": "06e2a34a6c714c28afa055b09075aacb",
        "source_hash": "dd8ffe2d",
        "deepnote_to_be_reexecuted": true,
        "deepnote_cell_type": "code"
      },
      "outputs": [],
      "execution_count": 0,
      "block_group": "06e2a34a6c714c28afa055b09075aacb"
    },
    {
      "cell_type": "markdown",
      "source": "OK, so not an easy fix. We can correct by hand the missing ones or perhaps if we can find a way of linking for each missing country in one dataframe the most similar country in the other we may be able to simplify our work. If you google for help you will find e.g., that the package ``difflib`` can help.",
      "metadata": {
        "cell_id": "21fe071d54344fc08cd82fce2f26063f",
        "user_expressions": [],
        "deepnote_cell_type": "markdown"
      },
      "block_group": "21fe071d54344fc08cd82fce2f26063f"
    },
    {
      "cell_type": "code",
      "source": "# Import package to match text\nimport difflib",
      "metadata": {
        "cell_id": "589d109fa4534d3a9f795bcf40ac069b",
        "source_hash": "3439d74f",
        "deepnote_to_be_reexecuted": true,
        "deepnote_cell_type": "code"
      },
      "outputs": [],
      "execution_count": 0,
      "block_group": "589d109fa4534d3a9f795bcf40ac069b"
    },
    {
      "cell_type": "markdown",
      "source": "Let's create a dataframe to keep the matches we create between the country name in ``countries`` and ``visadf``.",
      "metadata": {
        "cell_id": "72d02a3943b3440da78f6f0a15316912",
        "user_expressions": [],
        "deepnote_cell_type": "markdown"
      },
      "block_group": "72d02a3943b3440da78f6f0a15316912"
    },
    {
      "cell_type": "code",
      "source": "matches = pd.DataFrame(miss_countries, columns=['countries'])\nmatches = matches.loc[matches.countries.isna()==False].reset_index(drop=True).copy()\nmatches",
      "metadata": {
        "cell_id": "9117ab48595848a3b13c3b30a2d6a607",
        "source_hash": "7e3ec13",
        "deepnote_to_be_reexecuted": true,
        "deepnote_cell_type": "code"
      },
      "outputs": [],
      "execution_count": 0,
      "block_group": "9117ab48595848a3b13c3b30a2d6a607"
    },
    {
      "cell_type": "markdown",
      "source": "Now, let's use the ``difflib.get_close_matches`` function to find the closest match to each country name in ``countries`` to ``visadf``.",
      "metadata": {
        "cell_id": "f15e7c1ff9f84a92b69d8c68be39e04d",
        "user_expressions": [],
        "deepnote_cell_type": "markdown"
      },
      "block_group": "f15e7c1ff9f84a92b69d8c68be39e04d"
    },
    {
      "cell_type": "code",
      "source": "matches['visadf'] = matches.countries.apply(lambda x: difflib.get_close_matches(x, miss_visadf, cutoff=0.8))\nmatches.loc[matches.visadf.apply(lambda x: x!=[])]",
      "metadata": {
        "cell_id": "4ba825a1c5774b37b82717afe1c23a98",
        "source_hash": "b2e8f1a0",
        "deepnote_to_be_reexecuted": true,
        "deepnote_cell_type": "code"
      },
      "outputs": [],
      "execution_count": 0,
      "block_group": "4ba825a1c5774b37b82717afe1c23a98"
    },
    {
      "cell_type": "markdown",
      "source": "So it works! Of course now we need to improve matches and try to find as many as we can so we do not have to do it by hand. One way to do it is to keep the correct matches and decrease the cutoff required for a match. ",
      "metadata": {
        "cell_id": "999b8ff0e6734434b9f75e7ab46f7bd9",
        "user_expressions": [],
        "deepnote_cell_type": "markdown"
      },
      "block_group": "999b8ff0e6734434b9f75e7ab46f7bd9"
    },
    {
      "cell_type": "code",
      "source": "matches.loc[matches.visadf.apply(lambda x: x!=[] and len(x)==1), 'k'] = 0.8\nmatches.loc[matches.visadf.apply(lambda x: x!=[] and len(x)==1), 'visadf_matched'] = matches.loc[matches.visadf.apply(lambda x: x!=[] and len(x)==1), 'visadf'].apply(lambda x: x[0])\nmatches.loc[matches.visadf.apply(lambda x: x!=[] and len(x)==1)]",
      "metadata": {
        "cell_id": "a626a9c79fa84d339f386a29c8d9ace3",
        "source_hash": "ef3f061d",
        "deepnote_to_be_reexecuted": true,
        "deepnote_cell_type": "code"
      },
      "outputs": [],
      "execution_count": 0,
      "block_group": "a626a9c79fa84d339f386a29c8d9ace3"
    },
    {
      "cell_type": "code",
      "source": "for k in np.arange(0.9,0.1,-0.025):\n    if matches.visadf_matched.isna().sum()!=0:\n        print(k)\n        matches['visadf'] = matches.countries.apply(lambda x: difflib.get_close_matches(x, miss_visadf, cutoff=k))\n        matches.loc[(matches.visadf.apply(lambda x: x!=[] and len(x)==1)) & (matches.visadf_matched.isna()), 'k'] = k\n        matches.loc[(matches.visadf.apply(lambda x: x!=[] and len(x)==1)) & (matches.visadf_matched.isna()), 'visadf_matched'] = matches.loc[(matches.visadf.apply(lambda x: x!=[] and len(x)==1)) & (matches.visadf_matched.isna()), 'visadf'].apply(lambda x: x[0])\nmatches",
      "metadata": {
        "cell_id": "f426ab93f500482f93f18f73d206bac2",
        "source_hash": "edd11e54",
        "deepnote_to_be_reexecuted": true,
        "deepnote_cell_type": "code"
      },
      "outputs": [],
      "execution_count": 0,
      "block_group": "f426ab93f500482f93f18f73d206bac2"
    },
    {
      "cell_type": "code",
      "source": "matches.sort_values('k', ascending=False)",
      "metadata": {
        "cell_id": "72c1baa97c654ab680b81948cb3f190b",
        "source_hash": "ca01c2ba",
        "deepnote_to_be_reexecuted": true,
        "deepnote_cell_type": "code"
      },
      "outputs": [],
      "execution_count": 0,
      "block_group": "72c1baa97c654ab680b81948cb3f190b"
    },
    {
      "cell_type": "markdown",
      "source": " Let's create the opposite match",
      "metadata": {
        "cell_id": "534295bb7efd4dc3bcd30053697acd9b",
        "user_expressions": [],
        "deepnote_cell_type": "markdown"
      },
      "block_group": "534295bb7efd4dc3bcd30053697acd9b"
    },
    {
      "cell_type": "code",
      "source": "matches2 = pd.DataFrame(miss_visadf, columns=['visadf'])\nmatches2 = matches2.loc[matches2.visadf.isna()==False].reset_index(drop=True).copy()\nmatches2['countries'] = matches2.visadf.apply(lambda x: difflib.get_close_matches(x, miss_countries, cutoff=0.9))\nmatches2.loc[matches2.countries.apply(lambda x: x!=[] and len(x)==1), 'k'] = 0.8\nmatches2.loc[matches2.countries.apply(lambda x: x!=[] and len(x)==1), 'countries_matched'] = matches2.loc[matches2.countries.apply(lambda x: x!=[] and len(x)==1), 'countries'].apply(lambda x: x[0])\nfor k in np.arange(0.9,0.1,-0.025):\n    if matches2.countries_matched.isna().sum()!=0:\n        print(k)\n        matches2['countries'] = matches2.visadf.apply(lambda x: difflib.get_close_matches(x, miss_countries, cutoff=k))\n        matches2.loc[(matches2.countries.apply(lambda x: x!=[] and len(x)==1)) & (matches2.countries_matched.isna()), 'k'] = k\n        matches2.loc[(matches2.countries.apply(lambda x: x!=[] and len(x)==1)) & (matches2.countries_matched.isna()), 'countries_matched'] = matches2.loc[(matches2.countries.apply(lambda x: x!=[] and len(x)==1)) & (matches2.countries_matched.isna()), 'countries'].apply(lambda x: x[0])\nmatches2",
      "metadata": {
        "cell_id": "6e94f8f670074da9b8e0f149f075d3b5",
        "source_hash": "1e354dcd",
        "deepnote_to_be_reexecuted": true,
        "deepnote_cell_type": "code"
      },
      "outputs": [],
      "execution_count": 0,
      "block_group": "6e94f8f670074da9b8e0f149f075d3b5"
    },
    {
      "cell_type": "markdown",
      "source": "Clearly, this still will need some work...some were linked correctly, others not (although the correct ones seem to be in the list ``countries``) and still there are some that do not seem to be there at all! This is partly due to the fact that the Natural Earth shapefile does not seem to have some countries (e.g., Bonaire, Sint Eustatius, Saba, Reunion). Given the missing locations in ``countries`` it may be easier to use ``matches2`` to finish the matching.",
      "metadata": {
        "cell_id": "73c642042fdb470294e7b927e958b647",
        "user_expressions": [],
        "deepnote_cell_type": "markdown"
      },
      "block_group": "73c642042fdb470294e7b927e958b647"
    },
    {
      "cell_type": "code",
      "source": "namecols = ['SOVEREIGNT', 'NAME_ES'] + [col for col in countries.columns if col.find('NAME')!=-1] \ncountries.loc[countries.apply(lambda row: row.astype(str).str.lower().str.contains('bonaire').any(), axis=1), namecols]",
      "metadata": {
        "cell_id": "f1e449b9d5554f70865d1465c26debdf",
        "source_hash": "2634ded1",
        "deepnote_to_be_reexecuted": true,
        "deepnote_cell_type": "code"
      },
      "outputs": [],
      "execution_count": 0,
      "block_group": "f1e449b9d5554f70865d1465c26debdf"
    },
    {
      "cell_type": "code",
      "source": "countries.loc[countries.apply(lambda row: row.astype(str).str.lower().str.contains('eust').any(), axis=1), namecols]",
      "metadata": {
        "cell_id": "8b6f829b81e446fa8037d4b40593b08d",
        "source_hash": "7ab21abe",
        "deepnote_to_be_reexecuted": true,
        "deepnote_cell_type": "code"
      },
      "outputs": [],
      "execution_count": 0,
      "block_group": "8b6f829b81e446fa8037d4b40593b08d"
    },
    {
      "cell_type": "code",
      "source": "countries.loc[countries.apply(lambda row: row.astype(str).str.lower().str.contains('sab').any(), axis=1), namecols]",
      "metadata": {
        "cell_id": "393311b9709941689ea33081cbb0dfc9",
        "source_hash": "4500d2b9",
        "deepnote_to_be_reexecuted": true,
        "deepnote_cell_type": "code"
      },
      "outputs": [],
      "execution_count": 0,
      "block_group": "393311b9709941689ea33081cbb0dfc9"
    },
    {
      "cell_type": "code",
      "source": "countries.loc[countries.apply(lambda row: row.astype(str).str.lower().str.contains('reun').any(), axis=1), namecols]",
      "metadata": {
        "cell_id": "8da1af7c822040568c18beeaf5a74236",
        "source_hash": "eb7c10c3",
        "deepnote_to_be_reexecuted": true,
        "deepnote_cell_type": "code"
      },
      "outputs": [],
      "execution_count": 0,
      "block_group": "8da1af7c822040568c18beeaf5a74236"
    },
    {
      "cell_type": "markdown",
      "source": "Or have different writing/names (e.g., Myanmar, Swaziland) or because the Spanish name used by the Colombian Cancillery is non-standard (e.g., Santa Sede vs Vaticano)",
      "metadata": {
        "cell_id": "b0bb5cf54428434da6ebf460234e0f99",
        "user_expressions": [],
        "deepnote_cell_type": "markdown"
      },
      "block_group": "b0bb5cf54428434da6ebf460234e0f99"
    },
    {
      "cell_type": "code",
      "source": "countries.loc[countries.apply(lambda row: row.astype(str).str.lower().str.contains('myan').any(), axis=1), namecols]",
      "metadata": {
        "cell_id": "6143477d090a4c3b9c1c248ae0f98c2e",
        "source_hash": "5420fe4c",
        "deepnote_to_be_reexecuted": true,
        "deepnote_cell_type": "code"
      },
      "outputs": [],
      "execution_count": 0,
      "block_group": "6143477d090a4c3b9c1c248ae0f98c2e"
    },
    {
      "cell_type": "code",
      "source": "countries.loc[countries.apply(lambda row: row.astype(str).str.lower().str.contains('swazi').any(), axis=1), namecols]",
      "metadata": {
        "cell_id": "491669cc5ec44568928988279b4c3fb1",
        "source_hash": "2419772a",
        "deepnote_to_be_reexecuted": true,
        "deepnote_cell_type": "code"
      },
      "outputs": [],
      "execution_count": 0,
      "block_group": "491669cc5ec44568928988279b4c3fb1"
    },
    {
      "cell_type": "code",
      "source": "countries.loc[countries.apply(lambda row: row.astype(str).str.lower().str.contains('vatic').any(), axis=1), namecols]",
      "metadata": {
        "cell_id": "5f1be628b010490eb1970b07b003e9b1",
        "source_hash": "a5efa42f",
        "deepnote_to_be_reexecuted": true,
        "deepnote_cell_type": "code"
      },
      "outputs": [],
      "execution_count": 0,
      "block_group": "5f1be628b010490eb1970b07b003e9b1"
    },
    {
      "cell_type": "code",
      "source": "countries.loc[countries.apply(lambda row: row.astype(str).str.lower().str.contains('china').any(), axis=1), namecols]",
      "metadata": {
        "cell_id": "7344c47256f045c5a5d01f03a766d769",
        "source_hash": "b3007d7c",
        "deepnote_to_be_reexecuted": true,
        "deepnote_cell_type": "code"
      },
      "outputs": [],
      "execution_count": 0,
      "block_group": "7344c47256f045c5a5d01f03a766d769"
    },
    {
      "cell_type": "markdown",
      "source": "Let's try to see how goodf the best macthes are",
      "metadata": {
        "cell_id": "a6cdd7e51677446f90185a401f8d28af",
        "user_expressions": [],
        "deepnote_cell_type": "markdown"
      },
      "block_group": "a6cdd7e51677446f90185a401f8d28af"
    },
    {
      "cell_type": "code",
      "source": "matches2.sort_values('k', ascending=False)",
      "metadata": {
        "cell_id": "c02c7aaeb90646dda8ce3ea6e6e96aab",
        "source_hash": "322ccd76",
        "deepnote_to_be_reexecuted": true,
        "deepnote_cell_type": "code"
      },
      "outputs": [],
      "execution_count": 0,
      "block_group": "c02c7aaeb90646dda8ce3ea6e6e96aab"
    },
    {
      "cell_type": "markdown",
      "source": "Seems we won't be able to improve, so let's finish by hand (using code of course, since we want replicability of our results).\n\n<img src=\"../images/pics/fun/homework.gif\" alt=\"homework\" width=\"500\"/>",
      "metadata": {
        "cell_id": "9c08ac74720743a4ae61c709c4f77334",
        "user_expressions": [],
        "deepnote_cell_type": "markdown"
      },
      "block_group": "9c08ac74720743a4ae61c709c4f77334"
    },
    {
      "cell_type": "code",
      "source": "# Correct matches2\nmatches2.loc[matches2.visadf=='Suazilandia', 'countries_matched'] = 'eSwatini'\nmatches2.loc[matches2.visadf=='Laos República Democrática P', 'countries_matched'] = 'Laos'\nmatches2.loc[matches2.visadf=='Corea República Popular Dem.', 'countries_matched'] = 'Corea del Norte'\nmatches2.loc[matches2.visadf=='Corea República', 'countries_matched'] = 'Corea del Sur'\nmatches2.loc[matches2.visadf=='Martinica', 'countries_matched'] = ''\nmatches2.loc[matches2.visadf=='Santa Sede', 'countries_matched'] = 'Ciudad del Vaticano'\nmatches2.loc[matches2.visadf=='Bonaire', 'countries_matched'] = ''\nmatches2.loc[matches2.visadf=='Myanmar', 'countries_matched'] = 'Birmania'\nmatches2.loc[matches2.visadf=='Rusia Federación', 'countries_matched'] = 'Rusia'\nmatches2.loc[matches2.visadf=='Réunion', 'countries_matched'] = ''\nmatches2.loc[matches2.visadf=='Mayotte', 'countries_matched'] = ''\nmatches2.loc[matches2.visadf=='Reino Unido Gran Bretaña e Irlanda del  Norte', 'countries_matched'] = 'Reino Unido'\nmatches2.loc[matches2.visadf=='Congo', 'countries_matched'] = 'República del Congo'\nmatches2.loc[matches2.visadf=='Sint Eustatius', 'countries_matched'] = ''\nmatches2.loc[matches2.visadf=='Guadalupe', 'countries_matched'] = ''\nmatches2.loc[matches2.visadf=='Guyana Francesa', 'countries_matched'] = ''\nmatches2.loc[matches2.visadf=='Brunei Darussalam', 'countries_matched'] = 'Brunéi'\nmatches2.loc[matches2.visadf=='Palau', 'countries_matched'] = 'Palaos'\nmatches2.loc[matches2.visadf=='Saba', 'countries_matched'] = ''\nmatches2.loc[matches2.visadf=='China República Popular', 'countries_matched'] = 'China'\n#matches2.loc[matches2.visadf=='', 'countries_matched'] = ''\n#matches2.loc[matches2.visadf=='', 'countries_matched'] = ''\nmatches2.sort_values('k', ascending=False)",
      "metadata": {
        "cell_id": "18ed74b19336406b86f5b40585da7ddf",
        "source_hash": "a8838a7b",
        "deepnote_to_be_reexecuted": true,
        "deepnote_cell_type": "code"
      },
      "outputs": [],
      "execution_count": 0,
      "block_group": "18ed74b19336406b86f5b40585da7ddf"
    },
    {
      "cell_type": "code",
      "source": "#countries.loc[countries.apply(lambda row: row.astype(str).str.lower().str.contains('aba').any(), axis=1), namecols]",
      "metadata": {
        "cell_id": "56c4dd7838a14518a37f9b0a417bd500",
        "source_hash": "6caf7b7a",
        "deepnote_to_be_reexecuted": true,
        "deepnote_cell_type": "code"
      },
      "outputs": [],
      "execution_count": 0,
      "block_group": "56c4dd7838a14518a37f9b0a417bd500"
    },
    {
      "cell_type": "markdown",
      "source": "This is as good as we can do it with this dataset and shapefile (of course we may need a different shapefile if we really need to ensure that we are plotting all the correct information. E.g., does French Guyana have the same visa requirements than France and the other French Territories represented in Natural Earth's shapefile as France? If so, then we are ok! Otherwise we would need another shapefile or transform this one).",
      "metadata": {
        "cell_id": "26b64e4dc2d94ba1b001441d8b3c7cb5",
        "user_expressions": [],
        "deepnote_cell_type": "markdown"
      },
      "block_group": "26b64e4dc2d94ba1b001441d8b3c7cb5"
    },
    {
      "cell_type": "code",
      "source": "visadf['countries_matched'] = visadf.PAIS\nvisadf.loc[visadf.PAIS.apply(lambda x: x in miss_visadf), 'countries_matched'] = visadf.loc[visadf.PAIS.apply(lambda x: x in miss_visadf)].PAIS.map(matches2[['visadf', 'countries_matched']].set_index('visadf').to_dict()['countries_matched'])\nvisadf",
      "metadata": {
        "cell_id": "ce0529ea5aa640d089afb984a628e575",
        "source_hash": "b5e1e353",
        "deepnote_to_be_reexecuted": true,
        "deepnote_cell_type": "code"
      },
      "outputs": [],
      "execution_count": 0,
      "block_group": "ce0529ea5aa640d089afb984a628e575"
    },
    {
      "cell_type": "code",
      "source": "col_visa = countries.merge(visadf, left_on='NAME_ES', right_on='countries_matched')\ncmap = mpl.colors.ListedColormap(['blue', 'red'])\nmylegend = center_wrap([\"Visa Requirements\", \"For Colombian Citizens\"], cwidth=32, width=32)\nMyChloropleth(mydf=col_visa, myfile='col_visa', myvar='visa_req', mylegend=mylegend, k=1, bbox_to_anchor=(0.25, 0.3),\n                  edgecolor='white', facecolor='lightgray', cmap=cmap, scheme='UserDefined', bins=[0,1], legend_labels=['NO', 'YES'],\n                  save=False)",
      "metadata": {
        "cell_id": "d9aa56b534464b79958d2e05be540682",
        "source_hash": "f1e194a6",
        "deepnote_to_be_reexecuted": true,
        "deepnote_cell_type": "code"
      },
      "outputs": [],
      "execution_count": 0,
      "block_group": "d9aa56b534464b79958d2e05be540682"
    },
    {
      "cell_type": "markdown",
      "source": "Let's check whether all Franch Territories depicted have the correct visa assignment.",
      "metadata": {
        "cell_id": "32afd4492c264e9ab72e70cb096e466c",
        "user_expressions": [],
        "deepnote_cell_type": "markdown"
      },
      "block_group": "32afd4492c264e9ab72e70cb096e466c"
    },
    {
      "cell_type": "code",
      "source": "col_visa.loc[col_visa.PAIS_OR.str.contains('Francia'), ['SOVEREIGNT', 'NAME_ES', 'ADM0_A3'] + visadf.columns.to_list()]",
      "metadata": {
        "cell_id": "fc22a0181ef14c77bd91d43ae3a77c6b",
        "source_hash": "f33b894b",
        "deepnote_to_be_reexecuted": true,
        "deepnote_cell_type": "code"
      },
      "outputs": [],
      "execution_count": 0,
      "block_group": "fc22a0181ef14c77bd91d43ae3a77c6b"
    },
    {
      "cell_type": "code",
      "source": "visadf.loc[visadf.PAIS_OR.str.contains('Francia')]",
      "metadata": {
        "cell_id": "685348c816624f91a9594f4df6575440",
        "source_hash": "95ae7029",
        "deepnote_to_be_reexecuted": true,
        "deepnote_cell_type": "code"
      },
      "outputs": [],
      "execution_count": 0,
      "block_group": "685348c816624f91a9594f4df6575440"
    },
    {
      "cell_type": "markdown",
      "source": "Seems the ones we are missing have the same equirements as mainland France, so we are lucky and do not seem to need to do more.\n\n<img src=\"../images/pics/fun/Party.jpg\" alt=\"homework\" width=\"500\"/>",
      "metadata": {
        "cell_id": "11692c4852c147ffa8e81373c97b8333",
        "user_expressions": [],
        "deepnote_cell_type": "markdown"
      },
      "block_group": "11692c4852c147ffa8e81373c97b8333"
    },
    {
      "cell_type": "markdown",
      "source": "# Exercise\n\n1. Merge the ``col_visa`` data with data from the World Development indicators\n2. Explore the characteristics of the two sets of countries. Compare them in terms of income per capita, population, trade.\n3. Find trade, travel, FDI data for each country in relation to Colombia. What do you find?\n4. Can you provide the correlates of visa requirements for Colombia?",
      "metadata": {
        "cell_id": "77802f5e82ce4cf9ae74ec82b09c8e77",
        "deepnote_cell_type": "markdown"
      },
      "block_group": "77802f5e82ce4cf9ae74ec82b09c8e77"
    },
    {
      "cell_type": "markdown",
      "source": "<a style='text-decoration:none;line-height:16px;display:flex;color:#5B5B62;padding:10px;justify-content:end;' href='https://deepnote.com?utm_source=created-in-deepnote-cell&projectId=37e98ed8-2d4a-4f68-8499-4795adef8049' target=\"_blank\">\n<img alt='Created in deepnote.com' style='display:inline;max-height:16px;margin:0px;margin-right:7.5px;' src='data:image/svg+xml;base64,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' > </img>\nCreated in <span style='font-weight:600;margin-left:4px;'>Deepnote</span></a>",
      "metadata": {
        "created_in_deepnote_cell": true,
        "deepnote_cell_type": "markdown"
      }
    }
  ],
  "nbformat": 4,
  "nbformat_minor": 0,
  "metadata": {
    "widgets": {
      "application/vnd.jupyter.widget-state+json": {
        "state": {},
        "version_major": 2,
        "version_minor": 0
      }
    },
    "deepnote": {},
    "kernelspec": {
      "name": "python3",
      "language": "python",
      "display_name": "Python 3 (ipykernel)"
    },
    "language_info": {
      "name": "python",
      "version": "3.9.13",
      "mimetype": "text/x-python",
      "file_extension": ".py",
      "pygments_lexer": "ipython3",
      "codemirror_mode": {
        "name": "ipython",
        "version": 3
      },
      "nbconvert_exporter": "python"
    },
    "deepnote_notebook_id": "afe938918a25493cb37515d775cf0032",
    "deepnote_execution_queue": []
  }
}