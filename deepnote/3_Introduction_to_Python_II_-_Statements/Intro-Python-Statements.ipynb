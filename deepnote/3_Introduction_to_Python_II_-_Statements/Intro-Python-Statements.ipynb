{
  "cells": [
    {
      "cell_type": "markdown",
      "source": "# <center>Introduction to <img src=\"https://www.python.org/static/community_logos/python-logo-inkscape.svg\" alt=\"Python\" width=300/> and <img src=\"https://ipython.org/_static/IPy_header.png\" alt=\"IPython\" width=300/> using <img src=\"https://raw.githubusercontent.com/SMU-Econ-Growth/EconGrowthUG-Notebooks/f432ff2bc8a9dedb01d67399bf526ed1b5c69964//pics/jupyter-logo.png\" alt=\"Jupyter\" width=300/> or <img src=\"https://mms.businesswire.com/media/20220526005103/en/1467491/5/deepnote-logo.jpg\" alt=\"Jupyter\" width=300/></center>",
      "metadata": {
        "tags": [],
        "slideshow": {
          "slide_type": "slide"
        },
        "user_expressions": [],
        "cell_id": "c6f83d266a4e4f93a2f547c33fd1e014",
        "deepnote_cell_type": "markdown"
      },
      "block_group": "c6f83d266a4e4f93a2f547c33fd1e014"
    },
    {
      "cell_type": "markdown",
      "source": "# Iterations",
      "metadata": {
        "cell_id": "8f5509ad07154247b74af9de7f838fcb",
        "slideshow": {
          "slide_type": "slide"
        },
        "deepnote_cell_type": "markdown"
      },
      "block_group": "8f5509ad07154247b74af9de7f838fcb"
    },
    {
      "cell_type": "markdown",
      "source": "Sometimes we want to iterate over elements of a list, set, string or such in order to perfor operations with each element. This is done using a `for` statement, which looks like this\n\n```python\nfor element in list_name:\n    perform_first_ operation_with_element\n    perform_another_ operation_with_element_or_result_of_previous_operation\n```",
      "metadata": {
        "cell_id": "e26cb46ff8d34ceb838947dc2a10e805",
        "slideshow": {
          "slide_type": "subslide"
        },
        "deepnote_cell_type": "markdown"
      },
      "block_group": "e26cb46ff8d34ceb838947dc2a10e805"
    },
    {
      "cell_type": "markdown",
      "source": "<div class=\"alert alert-block alert-info\">\n    <b>Note:</b> There is special horizontal spacing below the line that starts with <code>for</code> and all lines below it are aligned in the <code>for</code> statement.\n</div>",
      "metadata": {
        "tags": [],
        "cell_id": "d93dc327fef44652934751bf22933add",
        "slideshow": {
          "slide_type": "fragment"
        },
        "user_expressions": [],
        "deepnote_cell_type": "markdown"
      },
      "block_group": "d93dc327fef44652934751bf22933add"
    },
    {
      "cell_type": "markdown",
      "source": "# How to write a `for` statement:",
      "metadata": {
        "cell_id": "96c2e31f025f4f4b960d6d6976ae082a",
        "slideshow": {
          "slide_type": "subslide"
        },
        "deepnote_cell_type": "markdown"
      },
      "block_group": "96c2e31f025f4f4b960d6d6976ae082a"
    },
    {
      "cell_type": "markdown",
      "source": "1. Start with the word `for`",
      "metadata": {
        "cell_id": "1ba8246e36b7496a8dffde7e44657f9b",
        "slideshow": {
          "slide_type": "fragment"
        },
        "deepnote_cell_type": "markdown"
      },
      "block_group": "1ba8246e36b7496a8dffde7e44657f9b"
    },
    {
      "cell_type": "markdown",
      "source": "2. In the same line define a name for the variable you will use in the iterations. In the example we used `element`, but we coudl have named it `i`, `j`, `t`, `n`, or any other name. As before it is useful to choose a name that will let you know what it is. ",
      "metadata": {
        "cell_id": "a5988767d6864868b543031b99838afe",
        "slideshow": {
          "slide_type": "fragment"
        },
        "deepnote_cell_type": "markdown"
      },
      "block_group": "a5988767d6864868b543031b99838afe"
    },
    {
      "cell_type": "markdown",
      "source": "3. Write the word `in` followed by the name of the list, set, etc. from which you will take elements to perfrom the operations.",
      "metadata": {
        "cell_id": "fa9d9939b85443cca85cbad02b2b9151",
        "slideshow": {
          "slide_type": "fragment"
        },
        "deepnote_cell_type": "markdown"
      },
      "block_group": "fa9d9939b85443cca85cbad02b2b9151"
    },
    {
      "cell_type": "markdown",
      "source": "4. Put a colon `:` at the end of that line.",
      "metadata": {
        "cell_id": "ddc20550b72840908fb8e7b916a7f76e",
        "slideshow": {
          "slide_type": "fragment"
        },
        "deepnote_cell_type": "markdown"
      },
      "block_group": "ddc20550b72840908fb8e7b916a7f76e"
    },
    {
      "cell_type": "markdown",
      "source": "5. In a new line, which should have a `tab` or 2 or 4 spaces, write the code for first operation you want to perform using the `element`.",
      "metadata": {
        "cell_id": "abbc2d39dc1c42e6a34d4bbbb0a7c4e8",
        "slideshow": {
          "slide_type": "subslide"
        },
        "deepnote_cell_type": "markdown"
      },
      "block_group": "abbc2d39dc1c42e6a34d4bbbb0a7c4e8"
    },
    {
      "cell_type": "markdown",
      "source": "6. Continue adding lines that start with the same horizontal spacing as in 5., i.e. a `tab` or 2 or 4 spaces.",
      "metadata": {
        "cell_id": "73aa36d8c4bf4413b000f6c39ceea442",
        "slideshow": {
          "slide_type": "fragment"
        },
        "deepnote_cell_type": "markdown"
      },
      "block_group": "73aa36d8c4bf4413b000f6c39ceea442"
    },
    {
      "cell_type": "markdown",
      "source": "7. To finish the `for` statement, just start a line without the same horizontal spacing",
      "metadata": {
        "cell_id": "7b9301353a024d73a05790df999e98fa",
        "slideshow": {
          "slide_type": "fragment"
        },
        "deepnote_cell_type": "markdown"
      },
      "block_group": "7b9301353a024d73a05790df999e98fa"
    },
    {
      "cell_type": "markdown",
      "source": "# Example",
      "metadata": {
        "cell_id": "6b02d1fb0c434eee8fa31bcfdb2ad536",
        "slideshow": {
          "slide_type": "subslide"
        },
        "deepnote_cell_type": "markdown"
      },
      "block_group": "6b02d1fb0c434eee8fa31bcfdb2ad536"
    },
    {
      "cell_type": "markdown",
      "source": "Let's iterate over the set of capitals and print a message saying \"XXX is a capital of a country.\" where we will replace XXX with the name of the capital.",
      "metadata": {
        "cell_id": "6fd9119092074ca18a0f2a3590a0ba9a",
        "slideshow": {
          "slide_type": "-"
        },
        "deepnote_cell_type": "markdown"
      },
      "block_group": "6fd9119092074ca18a0f2a3590a0ba9a"
    },
    {
      "cell_type": "code",
      "source": "set_of_capitals = {'Washington, D.C.', 'Bogotá', 'Berlin'}\n\n# Next line starts for statement\nfor capital in set_of_capitals:\n    print(capital, \" is a capital of a country.\")\n# For statment ends",
      "metadata": {
        "cell_id": "926bb157097044e68142cb6ff0635f4d",
        "slideshow": {
          "slide_type": "fragment"
        },
        "source_hash": "32766ce1",
        "execution_start": 1681149223132,
        "execution_millis": 544,
        "deepnote_to_be_reexecuted": false,
        "deepnote_cell_type": "code"
      },
      "outputs": [
        {
          "name": "stdout",
          "text": "Washington, D.C.  is a capital of a country.\nBerlin  is a capital of a country.\nBogotá  is a capital of a country.\n",
          "output_type": "stream"
        }
      ],
      "execution_count": 1,
      "block_group": "926bb157097044e68142cb6ff0635f4d"
    },
    {
      "cell_type": "markdown",
      "source": "# Example - Iteration over dictionaries",
      "metadata": {
        "cell_id": "d16d868c273a4ded805884d514a37229",
        "slideshow": {
          "slide_type": "subslide"
        },
        "deepnote_cell_type": "markdown"
      },
      "block_group": "d16d868c273a4ded805884d514a37229"
    },
    {
      "cell_type": "markdown",
      "source": "Let's iterate over our `top_bands` dictionary and print a message that says `X is a member of Y`.",
      "metadata": {
        "cell_id": "7cf6df0e5a4243fc8ec874fe4455d71a",
        "deepnote_cell_type": "markdown"
      },
      "block_group": "7cf6df0e5a4243fc8ec874fe4455d71a"
    },
    {
      "cell_type": "code",
      "source": "top_bands = {'The Beatles':{'John':[\"vocals\", \"guitars\", \"keyboards\", 'harmonica', \"bass\", \n                                    \"(1960–1969; died 1980)\"],\n                            'Paul':[\"vocals\", 'bass', 'guitars', 'keyboards', 'drums', \"(1960–1970)\"],\n                            'George':[\"guitars\", 'vocals', 'sitar', 'keyboards', 'bass', \n                                      \"(1960–1970; died 2001)\"],\n                            'Ringo':[\"drums\", 'percussion', 'vocals', \"(1962–1970)\"]\n                           },\n             'The Rolling Stones':{'Mick':[\"lead and backing vocals\", 'harmonica', 'rhythm guitar', \n                                           'percussion', 'keyboards', 'bass guitar', \"(1962–present)\"],\n                                   'Keith':['rhythm and lead guitars', 'bass guitar', 'keyboards', \n                                            'percussion', 'backing and lead vocals', '(1962–present)'],\n                                   'Ronnie':['lead and rhythm guitars', 'bass guitar', 'backing vocals', \n                                             '(1975–present)']\n                                  }\n            }",
      "metadata": {
        "cell_id": "9497fb3255264dd288fc217e7f1ddd3a",
        "slideshow": {
          "slide_type": "fragment"
        },
        "source_hash": "67a21bae",
        "code_folding": [],
        "execution_start": 1681149223117,
        "execution_millis": 561,
        "deepnote_to_be_reexecuted": false,
        "deepnote_cell_type": "code"
      },
      "outputs": [],
      "execution_count": 2,
      "block_group": "9497fb3255264dd288fc217e7f1ddd3a"
    },
    {
      "cell_type": "code",
      "source": "for key in top_bands:\n    for key2 in top_bands[key]:\n        print(key2, \"is a member of\", key)",
      "metadata": {
        "cell_id": "aeb948af560043d78b09811e501626a8",
        "slideshow": {
          "slide_type": "subslide"
        },
        "source_hash": "50690c78",
        "execution_start": 1681149223123,
        "execution_millis": 555,
        "deepnote_to_be_reexecuted": false,
        "deepnote_cell_type": "code"
      },
      "outputs": [
        {
          "name": "stdout",
          "text": "John is a member of The Beatles\nPaul is a member of The Beatles\nGeorge is a member of The Beatles\nRingo is a member of The Beatles\nMick is a member of The Rolling Stones\nKeith is a member of The Rolling Stones\nRonnie is a member of The Rolling Stones\n",
          "output_type": "stream"
        }
      ],
      "execution_count": 3,
      "block_group": "aeb948af560043d78b09811e501626a8"
    },
    {
      "cell_type": "markdown",
      "source": "# Conditionals",
      "metadata": {
        "cell_id": "69d211646bb440b191e194d739769138",
        "slideshow": {
          "slide_type": "slide"
        },
        "deepnote_cell_type": "markdown"
      },
      "block_group": "69d211646bb440b191e194d739769138"
    },
    {
      "cell_type": "markdown",
      "source": "Sometimes we want to execute code or perform a computation **if** a certain condition holds. This is done with an `if`, `elif`, `else` statement, which looks like this\n```python\nif condition1:\n    do_something\nelif condition2:\n    do_something_different\nelse:\n    do_something_else\n```",
      "metadata": {
        "cell_id": "558449cfc53142d6baff273cda1e3f91",
        "slideshow": {
          "slide_type": "subslide"
        },
        "deepnote_cell_type": "markdown"
      },
      "block_group": "558449cfc53142d6baff273cda1e3f91"
    },
    {
      "cell_type": "markdown",
      "source": "<div class=\"alert alert-block alert-info\">\n    <b>Note:</b> There is special horizontal spacing separating each condition that is tested.\n</div>",
      "metadata": {
        "cell_id": "f17a34ed5d034bcab46645eca97cbf27",
        "slideshow": {
          "slide_type": "fragment"
        },
        "deepnote_cell_type": "markdown"
      },
      "block_group": "f17a34ed5d034bcab46645eca97cbf27"
    },
    {
      "cell_type": "markdown",
      "source": "# How to write an `if-elif-else` statement:",
      "metadata": {
        "cell_id": "d25c7ccdadda4bc0a5574459d139fbcf",
        "slideshow": {
          "slide_type": "subslide"
        },
        "deepnote_cell_type": "markdown"
      },
      "block_group": "d25c7ccdadda4bc0a5574459d139fbcf"
    },
    {
      "cell_type": "markdown",
      "source": "1. Start with the word `if`",
      "metadata": {
        "cell_id": "1dbe15bc14994919b60f0de877f16a68",
        "slideshow": {
          "slide_type": "fragment"
        },
        "deepnote_cell_type": "markdown"
      },
      "block_group": "1dbe15bc14994919b60f0de877f16a68"
    },
    {
      "cell_type": "markdown",
      "source": "2. On the same line put the condition you want to be checked `condition1`",
      "metadata": {
        "cell_id": "fa6a1cb49bc14554984345ee64cdbdc8",
        "slideshow": {
          "slide_type": "fragment"
        },
        "deepnote_cell_type": "markdown"
      },
      "block_group": "fa6a1cb49bc14554984345ee64cdbdc8"
    },
    {
      "cell_type": "markdown",
      "source": "3. End the line with a colon `:`",
      "metadata": {
        "cell_id": "54446a18025643ba8479f43905bcb4f5",
        "slideshow": {
          "slide_type": "fragment"
        },
        "deepnote_cell_type": "markdown"
      },
      "block_group": "54446a18025643ba8479f43905bcb4f5"
    },
    {
      "cell_type": "markdown",
      "source": "4. On the next line add horizontal spacing (`tab`, 2 or 4 spaces)",
      "metadata": {
        "cell_id": "9d58f312a04141728d119325568c31e3",
        "slideshow": {
          "slide_type": "fragment"
        },
        "deepnote_cell_type": "markdown"
      },
      "block_group": "9d58f312a04141728d119325568c31e3"
    },
    {
      "cell_type": "markdown",
      "source": "5. On the same line write the code that will perform the computation you want to do **if `condition1` is true**",
      "metadata": {
        "cell_id": "9128c8251830419199351f4ce2aa5109",
        "slideshow": {
          "slide_type": "fragment"
        },
        "deepnote_cell_type": "markdown"
      },
      "block_group": "9128c8251830419199351f4ce2aa5109"
    },
    {
      "cell_type": "markdown",
      "source": "6. Continue adding all the code you want to perform **if `condition1` is true** on new lines with the same horizontal spacing",
      "metadata": {
        "cell_id": "1aa880fe14cb4936869823a2c8c7cc37",
        "slideshow": {
          "slide_type": "subslide"
        },
        "deepnote_cell_type": "markdown"
      },
      "block_group": "1aa880fe14cb4936869823a2c8c7cc37"
    },
    {
      "cell_type": "markdown",
      "source": "7. If you have other conditions you want to test, start a new line **without horizontal spacing** and the words `elif`",
      "metadata": {
        "cell_id": "54b9d39020dd40f782da85ce416e1d97",
        "slideshow": {
          "slide_type": "fragment"
        },
        "deepnote_cell_type": "markdown"
      },
      "block_group": "54b9d39020dd40f782da85ce416e1d97"
    },
    {
      "cell_type": "markdown",
      "source": "8. Continue after `elif` with the same steps as in 2-6",
      "metadata": {
        "cell_id": "23675435311c4c1dacfc7b3db7afbb5b",
        "slideshow": {
          "slide_type": "fragment"
        },
        "deepnote_cell_type": "markdown"
      },
      "block_group": "23675435311c4c1dacfc7b3db7afbb5b"
    },
    {
      "cell_type": "markdown",
      "source": "9. If you want to perform computation for any case not covered by all the previous conditions, start a new line **without horizontal spacing** with the word `else` and follow steps 2-6 again.",
      "metadata": {
        "cell_id": "2ec843d09aee4f8c84ba0ad2c9d1324a",
        "slideshow": {
          "slide_type": "fragment"
        },
        "deepnote_cell_type": "markdown"
      },
      "block_group": "2ec843d09aee4f8c84ba0ad2c9d1324a"
    },
    {
      "cell_type": "markdown",
      "source": "10. To finish the `if` statement, just start a line without the same horizontal spacing",
      "metadata": {
        "cell_id": "b967385b2e504ed585ff54c01128bcba",
        "slideshow": {
          "slide_type": "fragment"
        },
        "deepnote_cell_type": "markdown"
      },
      "block_group": "b967385b2e504ed585ff54c01128bcba"
    },
    {
      "cell_type": "markdown",
      "source": "# Example",
      "metadata": {
        "cell_id": "e4211a4b64f74b5ea48b416c8a55065f",
        "slideshow": {
          "slide_type": "subslide"
        },
        "deepnote_cell_type": "markdown"
      },
      "block_group": "e4211a4b64f74b5ea48b416c8a55065f"
    },
    {
      "cell_type": "markdown",
      "source": "Let's use our knowledge of conditionals to iterate over our list of cities, but only `print` the message \"XXX is a capital of a country.\" where we will replace XXX with the name of the city if it is a capital. Otherwise, we will `print` the message \"XXX is not a capital of a country.\"",
      "metadata": {
        "cell_id": "f4b6e92655ac410fb4d234718162e283",
        "slideshow": {
          "slide_type": "-"
        },
        "deepnote_cell_type": "markdown"
      },
      "block_group": "f4b6e92655ac410fb4d234718162e283"
    },
    {
      "cell_type": "code",
      "source": "set_of_cities = {'Washington, D.C.', 'Bogotá', 'Berlin', 'Dallas'}\nfor city in set_of_cities:\n    if city in set_of_capitals:\n        print(city, \"is a capital of a country\")\n    else:\n        print(city, \"is not a capital of a country\")",
      "metadata": {
        "cell_id": "46127bcfb7ed47f19e05e2d901c3566e",
        "slideshow": {
          "slide_type": "fragment"
        },
        "source_hash": "a3d35c99",
        "execution_start": 1681149223125,
        "execution_millis": 554,
        "deepnote_to_be_reexecuted": false,
        "deepnote_cell_type": "code"
      },
      "outputs": [
        {
          "name": "stdout",
          "text": "Dallas is not a capital of a country\nBerlin is a capital of a country\nBogotá is a capital of a country\nWashington, D.C. is a capital of a country\n",
          "output_type": "stream"
        }
      ],
      "execution_count": 4,
      "block_group": "46127bcfb7ed47f19e05e2d901c3566e"
    },
    {
      "cell_type": "markdown",
      "source": "# Conditional Iterations",
      "metadata": {
        "cell_id": "24d7d89aeea746c2b861e54ed7c7a862",
        "slideshow": {
          "slide_type": "slide"
        },
        "deepnote_cell_type": "markdown"
      },
      "block_group": "24d7d89aeea746c2b861e54ed7c7a862"
    },
    {
      "cell_type": "markdown",
      "source": "Sometimes we want to perform some computations, especially iterations, only **while** some condition is true. This is especially useful for repetitive and humerical computations. To do this we use a `while` statement, which looks like this\n\n```python\nwhile condition_is_true:\n    perform_computations\n```",
      "metadata": {
        "cell_id": "bba2c06b3ef7455787721429ee13a2c5",
        "slideshow": {
          "slide_type": "subslide"
        },
        "deepnote_cell_type": "markdown"
      },
      "block_group": "bba2c06b3ef7455787721429ee13a2c5"
    },
    {
      "cell_type": "markdown",
      "source": "<div class=\"alert alert-block alert-info\">\n    <b>Note:</b> There is special horizontal spacing below the line that starts with <code>while</code> and all lines below it are aligned in the <code>while</code> statement.\n</div>",
      "metadata": {
        "cell_id": "7437cfbf752946568e586beecaefeef0",
        "slideshow": {
          "slide_type": "fragment"
        },
        "deepnote_cell_type": "markdown"
      },
      "block_group": "7437cfbf752946568e586beecaefeef0"
    },
    {
      "cell_type": "markdown",
      "source": "<div class=\"alert alert-block alert-danger\">\n    <b>Careful:</b> If the <code>condition</code> is always true, the computer will continue iterating until the end of time. So you always want to put a condition to force it to stop after certain number of computations\n</div>",
      "metadata": {
        "cell_id": "e231a3051fb04d65ae7ce539e91034b5",
        "slideshow": {
          "slide_type": "fragment"
        },
        "deepnote_cell_type": "markdown"
      },
      "block_group": "e231a3051fb04d65ae7ce539e91034b5"
    },
    {
      "cell_type": "markdown",
      "source": "# How to write a `while` statement:",
      "metadata": {
        "cell_id": "fa7bd20762e9403a834d1d6035ecd452",
        "slideshow": {
          "slide_type": "subslide"
        },
        "deepnote_cell_type": "markdown"
      },
      "block_group": "fa7bd20762e9403a834d1d6035ecd452"
    },
    {
      "cell_type": "markdown",
      "source": "1. Start with the word `while`",
      "metadata": {
        "cell_id": "5a4e89e915ea499183251713c9e1567e",
        "slideshow": {
          "slide_type": "fragment"
        },
        "deepnote_cell_type": "markdown"
      },
      "block_group": "5a4e89e915ea499183251713c9e1567e"
    },
    {
      "cell_type": "markdown",
      "source": "2. On the same line put the condition you want to hold while performing computations `condition_is_true`",
      "metadata": {
        "cell_id": "5105ce0d429943ea9f647960c907f19d",
        "slideshow": {
          "slide_type": "fragment"
        },
        "deepnote_cell_type": "markdown"
      },
      "block_group": "5105ce0d429943ea9f647960c907f19d"
    },
    {
      "cell_type": "markdown",
      "source": "3. End the line with a colon `:`",
      "metadata": {
        "cell_id": "a30357c5b5b94b80929fdb67a982bab4",
        "slideshow": {
          "slide_type": "fragment"
        },
        "deepnote_cell_type": "markdown"
      },
      "block_group": "a30357c5b5b94b80929fdb67a982bab4"
    },
    {
      "cell_type": "markdown",
      "source": "4. On the next line add horizontal spacing (`tab`, 2 or 4 spaces)",
      "metadata": {
        "cell_id": "9c003ca8019b4b7fb461ee628aafbb9c",
        "slideshow": {
          "slide_type": "fragment"
        },
        "deepnote_cell_type": "markdown"
      },
      "block_group": "9c003ca8019b4b7fb461ee628aafbb9c"
    },
    {
      "cell_type": "markdown",
      "source": "5. On the same line write the code that will perform the computation you want to do **while `condition_is_true` holds**",
      "metadata": {
        "cell_id": "e6b3aa0d42a141e78dd1f3ca9e0ab50a",
        "slideshow": {
          "slide_type": "subslide"
        },
        "deepnote_cell_type": "markdown"
      },
      "block_group": "e6b3aa0d42a141e78dd1f3ca9e0ab50a"
    },
    {
      "cell_type": "markdown",
      "source": "6. To finish the `while` statement, just start a line without the same horizontal spacing",
      "metadata": {
        "cell_id": "f7d9dc617d3646bb944a7541ca5adff2",
        "slideshow": {
          "slide_type": "fragment"
        },
        "deepnote_cell_type": "markdown"
      },
      "block_group": "f7d9dc617d3646bb944a7541ca5adff2"
    },
    {
      "cell_type": "markdown",
      "source": "# Example",
      "metadata": {
        "cell_id": "0d492f2c86884148b034abbab9ebf5aa",
        "slideshow": {
          "slide_type": "subslide"
        },
        "deepnote_cell_type": "markdown"
      },
      "block_group": "0d492f2c86884148b034abbab9ebf5aa"
    },
    {
      "cell_type": "markdown",
      "source": "Let's find the smallest integer $n$ such that $n^2>100$. \n\nTo do this, let's add 1 to a variable named `n`, which starts at 0. And let's do this until $n^2>100$.",
      "metadata": {
        "cell_id": "7961bd40d56b419290b77a143348e768",
        "slideshow": {
          "slide_type": "-"
        },
        "deepnote_cell_type": "markdown"
      },
      "block_group": "7961bd40d56b419290b77a143348e768"
    },
    {
      "cell_type": "code",
      "source": "n = 0\nwhile n**2<=100:\n    n = n + 1\nprint(n)",
      "metadata": {
        "cell_id": "c5ff1dfccabd4e09b5d8d43f84fc32f5",
        "slideshow": {
          "slide_type": "fragment"
        },
        "source_hash": "a22aa6da",
        "execution_start": 1681149223130,
        "execution_millis": 547,
        "deepnote_to_be_reexecuted": false,
        "deepnote_cell_type": "code"
      },
      "outputs": [
        {
          "name": "stdout",
          "text": "11\n",
          "output_type": "stream"
        }
      ],
      "execution_count": 5,
      "block_group": "c5ff1dfccabd4e09b5d8d43f84fc32f5"
    },
    {
      "cell_type": "markdown",
      "source": "The smallest integer such that $n^2>100$ is {{n}}",
      "metadata": {
        "cell_id": "bf612f7c6400429bbdf43a8d4b09bfaf",
        "slideshow": {
          "slide_type": "-"
        },
        "variables": {
          "n": "11"
        },
        "deepnote_cell_type": "markdown"
      },
      "block_group": "bf612f7c6400429bbdf43a8d4b09bfaf"
    },
    {
      "cell_type": "markdown",
      "source": "# <center>Exercises</center>",
      "metadata": {
        "cell_id": "5c139280191c4729b135ab4e5cca5a5c",
        "slideshow": {
          "slide_type": "slide"
        },
        "deepnote_cell_type": "markdown"
      },
      "block_group": "5c139280191c4729b135ab4e5cca5a5c"
    },
    {
      "cell_type": "markdown",
      "source": "<div class=\"alert alert-block alert-warning\">\n    <b>Exercise 1:</b> Use your dictionary <em>artist_best_song</em> to print messages that say \"X song is the best song of Y\".\n</div>",
      "metadata": {
        "cell_id": "ebc20bd5e17b4985834b72ead4bde391",
        "slideshow": {
          "slide_type": "fragment"
        },
        "deepnote_cell_type": "markdown"
      },
      "block_group": "ebc20bd5e17b4985834b72ead4bde391"
    },
    {
      "cell_type": "markdown",
      "source": "<div class=\"alert alert-block alert-warning\">\n    <b>Exercise 2:</b> Use your dictionaries <em>artist_best_song</em> and <em>favorite_song_artist</em> to check whether an artist's best song is also one of your favorite songs. If so, print messages that say \"X is my favorite song of artist Y, and it is also his/her best song\", where the message will correctly specify <em>her</em> or <em>his</em> depending on the gender of the artist. If it is not, it should print a message saying so also. (<b>Hint:</b> You may want to add more information to the dictionary, so it records the gender, or create a <em>gender_artist</em> that keep for each artist her/his gender)\n</div>",
      "metadata": {
        "cell_id": "1033bfd61fa544ee906a52f47dc77db5",
        "slideshow": {
          "slide_type": "fragment"
        },
        "deepnote_cell_type": "markdown"
      },
      "block_group": "1033bfd61fa544ee906a52f47dc77db5"
    },
    {
      "cell_type": "markdown",
      "source": "<div class=\"alert alert-block alert-warning\">\n    <b>Exercise 3:</b> Use the dictionary <em>top_bands</em> to print messages that say for each member the band he belongs to, then another message that says the instruments they play, then a message that says the years they beloged to the band, and finally a message that says whether they are alive or not.\n</div>",
      "metadata": {
        "cell_id": "b74402c9e8c1489d93f57ac5df469582",
        "slideshow": {
          "slide_type": "subslide"
        },
        "deepnote_cell_type": "markdown"
      },
      "block_group": "b74402c9e8c1489d93f57ac5df469582"
    },
    {
      "cell_type": "markdown",
      "source": "<div class=\"alert alert-block alert-warning\">\n    <b>Exercise 4:</b> Find the largest integer $n$ such that $n^2<200$ and $n$ is even.\n</div>",
      "metadata": {
        "cell_id": "5d04661be5ca495aaefe7e22ade0072d",
        "slideshow": {
          "slide_type": "fragment"
        },
        "deepnote_cell_type": "markdown"
      },
      "block_group": "5d04661be5ca495aaefe7e22ade0072d"
    },
    {
      "cell_type": "markdown",
      "source": "Notebook written by [Ömer Özak](http://omerozak.com) for his students in Economics at [Southern Methodist University](http://www.smu.edu). Feel free to use, distribute, or contribute.",
      "metadata": {
        "tags": [],
        "cell_id": "841b4ea951244b28b8307b3e3b27da8e",
        "slideshow": {
          "slide_type": "slide"
        },
        "user_expressions": [],
        "deepnote_cell_type": "markdown"
      },
      "block_group": "841b4ea951244b28b8307b3e3b27da8e"
    },
    {
      "cell_type": "markdown",
      "source": "[<center><img src=\"https://github.com/measuring-culture/Expanding-Measurement-Culture-Facebook-JRSI/blob/main/pics/SMUlogowWordmarkRB.jpg?raw=true\" width=\"250\"></center>](http://omerozak.com)",
      "metadata": {
        "tags": [],
        "cell_id": "d387ebc1e73b4c4fbb6c7ac6d135dad0",
        "slideshow": {
          "slide_type": "-"
        },
        "user_expressions": [],
        "deepnote_cell_type": "markdown"
      },
      "block_group": "d387ebc1e73b4c4fbb6c7ac6d135dad0"
    },
    {
      "cell_type": "markdown",
      "source": "<a style='text-decoration:none;line-height:16px;display:flex;color:#5B5B62;padding:10px;justify-content:end;' href='https://deepnote.com?utm_source=created-in-deepnote-cell&projectId=3b8f372a-13a0-48e8-bf44-25c3f4ef2590' target=\"_blank\">\n<img alt='Created in deepnote.com' style='display:inline;max-height:16px;margin:0px;margin-right:7.5px;' src='data:image/svg+xml;base64,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' > </img>\nCreated in <span style='font-weight:600;margin-left:4px;'>Deepnote</span></a>",
      "metadata": {
        "created_in_deepnote_cell": true,
        "deepnote_cell_type": "markdown"
      }
    }
  ],
  "nbformat": 4,
  "nbformat_minor": 0,
  "metadata": {
    "widgets": {
      "application/vnd.jupyter.widget-state+json": {
        "state": {},
        "version_major": 2,
        "version_minor": 0
      }
    },
    "deepnote": {},
    "kernelspec": {
      "name": "python3",
      "language": "python",
      "display_name": "Python 3 (ipykernel)"
    },
    "celltoolbar": "Slideshow",
    "nbTranslate": {
      "hotkey": "alt-t",
      "sourceLang": "en",
      "targetLang": "fr",
      "displayLangs": [
        "*"
      ],
      "langInMainMenu": true,
      "useGoogleTranslate": true
    },
    "language_info": {
      "name": "python",
      "version": "3.9.15",
      "mimetype": "text/x-python",
      "file_extension": ".py",
      "pygments_lexer": "ipython3",
      "codemirror_mode": {
        "name": "ipython",
        "version": 3
      },
      "nbconvert_exporter": "python"
    },
    "deepnote_notebook_id": "f19d7ef47bc344acb486755ea93d088b",
    "deepnote_persisted_session": {
      "createdAt": "2023-04-10T18:01:05.422Z"
    },
    "deepnote_execution_queue": []
  }
}