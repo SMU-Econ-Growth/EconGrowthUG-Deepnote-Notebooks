{
  "cells": [
    {
      "cell_type": "markdown",
      "source": "# <center>Introduction to <img src=\"https://www.python.org/static/community_logos/python-logo-inkscape.svg\" alt=\"Python\" width=300/> and <img src=\"https://ipython.org/_static/IPy_header.png\" alt=\"IPython\" width=300/> using <img src=\"https://raw.githubusercontent.com/SMU-Econ-Growth/EconGrowthUG-Notebooks/f432ff2bc8a9dedb01d67399bf526ed1b5c69964//pics/jupyter-logo.png\" alt=\"Jupyter\" width=300/> or <img src=\"https://mms.businesswire.com/media/20220526005103/en/1467491/5/deepnote-logo.jpg\" alt=\"Jupyter\" width=300/></center>",
      "metadata": {
        "tags": [],
        "slideshow": {
          "slide_type": "slide"
        },
        "user_expressions": [],
        "cell_id": "481e98cf774f48b6b6eebd5d29cbf7fb",
        "deepnote_cell_type": "markdown"
      },
      "block_group": "481e98cf774f48b6b6eebd5d29cbf7fb"
    },
    {
      "cell_type": "markdown",
      "source": "# Functions",
      "metadata": {
        "tags": [],
        "cell_id": "3d110fc11a07449bb202972ad7c5edda",
        "slideshow": {
          "slide_type": "slide"
        },
        "user_expressions": [],
        "deepnote_cell_type": "markdown"
      },
      "block_group": "3d110fc11a07449bb202972ad7c5edda"
    },
    {
      "cell_type": "markdown",
      "source": "Many times we need to perform computations or things Python does not know how to do natively. ",
      "metadata": {
        "cell_id": "fcea36dfed58419198a7588bc00bbe00",
        "slideshow": {
          "slide_type": "fragment"
        },
        "user_expressions": [],
        "deepnote_cell_type": "markdown"
      },
      "block_group": "fcea36dfed58419198a7588bc00bbe00"
    },
    {
      "cell_type": "markdown",
      "source": "Other times, we want the same piece of code to work with other inputs (data, values, etc.)",
      "metadata": {
        "cell_id": "173fba4636024814b6622280855cfaf9",
        "slideshow": {
          "slide_type": "fragment"
        },
        "user_expressions": [],
        "deepnote_cell_type": "markdown"
      },
      "block_group": "173fba4636024814b6622280855cfaf9"
    },
    {
      "cell_type": "markdown",
      "source": "What can we do?",
      "metadata": {
        "cell_id": "fb90d901b6fb49d085199af9bd32808f",
        "slideshow": {
          "slide_type": "fragment"
        },
        "user_expressions": [],
        "deepnote_cell_type": "markdown"
      },
      "block_group": "fb90d901b6fb49d085199af9bd32808f"
    },
    {
      "cell_type": "markdown",
      "source": "### Solution: Write a function",
      "metadata": {
        "tags": [],
        "cell_id": "4ab09074efe44cae8147b128aaa55e76",
        "slideshow": {
          "slide_type": "subslide"
        },
        "user_expressions": [],
        "deepnote_cell_type": "markdown"
      },
      "block_group": "4ab09074efe44cae8147b128aaa55e76"
    },
    {
      "cell_type": "markdown",
      "source": "There are two ways of defining functions in Python:",
      "metadata": {
        "cell_id": "9134f002ef3946ee95fc4da528784958",
        "slideshow": {
          "slide_type": "fragment"
        },
        "user_expressions": [],
        "deepnote_cell_type": "markdown"
      },
      "block_group": "9134f002ef3946ee95fc4da528784958"
    },
    {
      "cell_type": "markdown",
      "source": "1. Using *anonymous functions* via the `lambda` notation:\n```python\nmy_function = lambda x: some_computations_based_on_x\n```  ",
      "metadata": {
        "tags": [],
        "cell_id": "e718d90ddfbc40948e55238563038787",
        "slideshow": {
          "slide_type": "fragment"
        },
        "user_expressions": [],
        "deepnote_cell_type": "markdown"
      },
      "block_group": "e718d90ddfbc40948e55238563038787"
    },
    {
      "cell_type": "markdown",
      "source": "* `lambda` notation is useful to create functions on the go, especially when passing a function to others. We'll see examples and use it quite a bit later when we go into data analyses.",
      "metadata": {
        "tags": [],
        "cell_id": "a39e113849e8436b92726b6a699a0440",
        "slideshow": {
          "slide_type": "fragment"
        },
        "user_expressions": [],
        "deepnote_cell_type": "markdown"
      },
      "block_group": "a39e113849e8436b92726b6a699a0440"
    },
    {
      "cell_type": "markdown",
      "source": "* A `lambda` function can take any number of arguments, but can only have one expression, i.e., you cannot perform complex computations.",
      "metadata": {
        "tags": [],
        "cell_id": "7f9fc3c253c943459c65b01903506e4f",
        "slideshow": {
          "slide_type": "fragment"
        },
        "user_expressions": [],
        "deepnote_cell_type": "markdown"
      },
      "block_group": "7f9fc3c253c943459c65b01903506e4f"
    },
    {
      "cell_type": "markdown",
      "source": "2. Using the `def` statement:\n```python\ndef my_function(x, y, z=Z):\n    '''\n    Explanation of what the function does\n    What are the inputs:\n    x: variable to be passed\n    y: variable to be passed\n    z: variable to be passed, Z is the default value\n    '''\n    perform_computations\n    return some_value_or_computation\n```",
      "metadata": {
        "cell_id": "4799ae2375304a12a7444e13249d6c0a",
        "slideshow": {
          "slide_type": "subslide"
        },
        "user_expressions": [],
        "deepnote_cell_type": "markdown"
      },
      "block_group": "4799ae2375304a12a7444e13249d6c0a"
    },
    {
      "cell_type": "markdown",
      "source": "* Functions defined with the `def` statement can take any number of arguments, assign default values to them, and can have as many expressions as needed.",
      "metadata": {
        "tags": [],
        "cell_id": "0b5eaafb4be7453da5369bb0c5f677ce",
        "slideshow": {
          "slide_type": "subslide"
        },
        "user_expressions": [],
        "deepnote_cell_type": "markdown"
      },
      "block_group": "0b5eaafb4be7453da5369bb0c5f677ce"
    },
    {
      "cell_type": "markdown",
      "source": "<div class=\"alert alert-block alert-info\">\n    <b>Note:</b> There is special horizontal spacing below the line that starts with <code>def</code> and all lines below it are aligned in the <code>def</code> statement. This is similar to the other statements we have seen so far.\n</div>",
      "metadata": {
        "tags": [],
        "cell_id": "72ddb8ad332d4cc7ba2a4d15bca92360",
        "slideshow": {
          "slide_type": "fragment"
        },
        "user_expressions": [],
        "deepnote_cell_type": "markdown"
      },
      "block_group": "72ddb8ad332d4cc7ba2a4d15bca92360"
    },
    {
      "cell_type": "markdown",
      "source": "# Example",
      "metadata": {
        "cell_id": "aa1ebfb00490479dbd35056a2a0ee48d",
        "slideshow": {
          "slide_type": "subslide"
        },
        "deepnote_cell_type": "markdown"
      },
      "block_group": "aa1ebfb00490479dbd35056a2a0ee48d"
    },
    {
      "cell_type": "markdown",
      "source": "Let's create a function that computes the square of a number. Let's do it first using an anonymous function.",
      "metadata": {
        "tags": [],
        "cell_id": "e79cad4d586d47fcb08b6730be8233de",
        "slideshow": {
          "slide_type": "fragment"
        },
        "user_expressions": [],
        "deepnote_cell_type": "markdown"
      },
      "block_group": "e79cad4d586d47fcb08b6730be8233de"
    },
    {
      "cell_type": "code",
      "source": "my_square = lambda x: x**2",
      "metadata": {
        "cell_id": "3eecfb099d4840fcad23a1b7f8600162",
        "slideshow": {
          "slide_type": "fragment"
        },
        "deepnote_cell_type": "code"
      },
      "outputs": [],
      "execution_count": 1,
      "block_group": "3eecfb099d4840fcad23a1b7f8600162"
    },
    {
      "cell_type": "code",
      "source": "my_square(4)",
      "metadata": {
        "cell_id": "5f1ae41b226d413fa65580700a43c694",
        "slideshow": {
          "slide_type": "fragment"
        },
        "deepnote_cell_type": "code"
      },
      "outputs": [
        {
          "data": {
            "text/plain": "16"
          },
          "execution_count": 2,
          "metadata": {},
          "output_type": "execute_result"
        }
      ],
      "execution_count": 2,
      "block_group": "5f1ae41b226d413fa65580700a43c694"
    },
    {
      "cell_type": "code",
      "source": "my_square(9)",
      "metadata": {
        "cell_id": "4a33ca3dbb5c41e3a6e4a563c7a13cfd",
        "slideshow": {
          "slide_type": "fragment"
        },
        "deepnote_cell_type": "code"
      },
      "outputs": [
        {
          "data": {
            "text/plain": "81"
          },
          "execution_count": 3,
          "metadata": {},
          "output_type": "execute_result"
        }
      ],
      "execution_count": 3,
      "block_group": "4a33ca3dbb5c41e3a6e4a563c7a13cfd"
    },
    {
      "cell_type": "markdown",
      "source": "Now, let's create the same function using the `def` statement, which we will call create/write a function as opposed to an anonymous function.",
      "metadata": {
        "tags": [],
        "cell_id": "d187205a0be447719e3af1b5e3246fcc",
        "slideshow": {
          "slide_type": "subslide"
        },
        "user_expressions": [],
        "deepnote_cell_type": "markdown"
      },
      "block_group": "d187205a0be447719e3af1b5e3246fcc"
    },
    {
      "cell_type": "code",
      "source": "def my_square_fn(x):\n    '''\n    This function take an input x and return x^2.\n    Parameters:\n    -----------\n    x: float, integer or any other number\n    \n    Returns:\n    --------\n    out = x**2\n    \n    Example:\n    >>> out = my_square_fn(4)\n    >>> out\n        16\n    '''\n    return x**2",
      "metadata": {
        "cell_id": "b828d794fb8842169162a442b6e932f2",
        "slideshow": {
          "slide_type": "fragment"
        },
        "deepnote_cell_type": "code"
      },
      "outputs": [],
      "execution_count": 4,
      "block_group": "b828d794fb8842169162a442b6e932f2"
    },
    {
      "cell_type": "code",
      "source": "my_square_fn(4)",
      "metadata": {
        "cell_id": "37c19d0b7c5f4293b5dc8d72ce071ebf",
        "slideshow": {
          "slide_type": "subslide"
        },
        "deepnote_cell_type": "code"
      },
      "outputs": [
        {
          "data": {
            "text/plain": "16"
          },
          "execution_count": 5,
          "metadata": {},
          "output_type": "execute_result"
        }
      ],
      "execution_count": 5,
      "block_group": "37c19d0b7c5f4293b5dc8d72ce071ebf"
    },
    {
      "cell_type": "code",
      "source": "my_square_fn?",
      "metadata": {
        "cell_id": "1efa85387337445d866146b41068df22",
        "slideshow": {
          "slide_type": "fragment"
        },
        "deepnote_cell_type": "code"
      },
      "outputs": [],
      "execution_count": 6,
      "block_group": "1efa85387337445d866146b41068df22"
    },
    {
      "cell_type": "markdown",
      "source": "# Some useful functions in Python",
      "metadata": {
        "tags": [],
        "cell_id": "46c4a25236e848d7bddbb5ab87ef0bfc",
        "slideshow": {
          "slide_type": "slide"
        },
        "user_expressions": [],
        "deepnote_cell_type": "markdown"
      },
      "block_group": "46c4a25236e848d7bddbb5ab87ef0bfc"
    },
    {
      "cell_type": "markdown",
      "source": "* `range(from, to, step)` creates a sequence of numbers from `from` to `to` increasing by `step`",
      "metadata": {
        "tags": [],
        "cell_id": "faf8312cabde4345b410a2825f6dfab9",
        "slideshow": {
          "slide_type": "subslide"
        },
        "user_expressions": [],
        "deepnote_cell_type": "markdown"
      },
      "block_group": "faf8312cabde4345b410a2825f6dfab9"
    },
    {
      "cell_type": "code",
      "source": "list(range(2, 20, 3))",
      "metadata": {
        "cell_id": "52b9a7af73cc40058136315fb8cfb872",
        "slideshow": {
          "slide_type": "fragment"
        },
        "deepnote_cell_type": "code"
      },
      "outputs": [
        {
          "data": {
            "text/plain": "[2, 5, 8, 11, 14, 17]"
          },
          "execution_count": 7,
          "metadata": {},
          "output_type": "execute_result"
        }
      ],
      "execution_count": 7,
      "block_group": "52b9a7af73cc40058136315fb8cfb872"
    },
    {
      "cell_type": "code",
      "source": "list(range(5))",
      "metadata": {
        "cell_id": "b0cc27b6429e40ee96cd946920007865",
        "slideshow": {
          "slide_type": "fragment"
        },
        "deepnote_cell_type": "code"
      },
      "outputs": [
        {
          "data": {
            "text/plain": "[0, 1, 2, 3, 4]"
          },
          "execution_count": 8,
          "metadata": {},
          "output_type": "execute_result"
        }
      ],
      "execution_count": 8,
      "block_group": "b0cc27b6429e40ee96cd946920007865"
    },
    {
      "cell_type": "markdown",
      "source": "* `print(string)` prints a string",
      "metadata": {
        "tags": [],
        "cell_id": "8362f550a01b47c995ceb9653862b1bd",
        "slideshow": {
          "slide_type": "subslide"
        },
        "user_expressions": [],
        "deepnote_cell_type": "markdown"
      },
      "block_group": "8362f550a01b47c995ceb9653862b1bd"
    },
    {
      "cell_type": "code",
      "source": "print('The square of 100 is', my_square(100))\nprint('The square of 100 is ' + str(my_square(100)))",
      "metadata": {
        "cell_id": "0e93bd2a70aa4452b7ed9cee42cf34bf",
        "slideshow": {
          "slide_type": "fragment"
        },
        "deepnote_cell_type": "code"
      },
      "outputs": [
        {
          "name": "stdout",
          "output_type": "stream",
          "text": "The square of 100 is 10000\nThe square of 100 is 10000\n"
        }
      ],
      "execution_count": 9,
      "block_group": "0e93bd2a70aa4452b7ed9cee42cf34bf"
    },
    {
      "cell_type": "markdown",
      "source": "* `len(x)` returns the length of element `x`",
      "metadata": {
        "tags": [],
        "cell_id": "db351483febf48d4b49ab0873d21b180",
        "slideshow": {
          "slide_type": "subslide"
        },
        "user_expressions": [],
        "deepnote_cell_type": "markdown"
      },
      "block_group": "db351483febf48d4b49ab0873d21b180"
    },
    {
      "cell_type": "code",
      "source": "len(range(100))",
      "metadata": {
        "cell_id": "3a3759ea677b4c87835490c23630cc51",
        "slideshow": {
          "slide_type": "fragment"
        },
        "deepnote_cell_type": "code"
      },
      "outputs": [
        {
          "data": {
            "text/plain": "100"
          },
          "execution_count": 10,
          "metadata": {},
          "output_type": "execute_result"
        }
      ],
      "execution_count": 10,
      "block_group": "3a3759ea677b4c87835490c23630cc51"
    },
    {
      "cell_type": "code",
      "source": "len('Some random string ndsyafsdasdwne')",
      "metadata": {
        "cell_id": "84dc7cd4d1a74305844c16e3f1d747a0",
        "slideshow": {
          "slide_type": "fragment"
        },
        "deepnote_cell_type": "code"
      },
      "outputs": [
        {
          "data": {
            "text/plain": "33"
          },
          "execution_count": 11,
          "metadata": {},
          "output_type": "execute_result"
        }
      ],
      "execution_count": 11,
      "block_group": "84dc7cd4d1a74305844c16e3f1d747a0"
    },
    {
      "cell_type": "markdown",
      "source": "* `type(x)` returns the type of `x`",
      "metadata": {
        "tags": [],
        "cell_id": "6c7cd6137bf548409a3875a8b5d8033b",
        "slideshow": {
          "slide_type": "subslide"
        },
        "user_expressions": [],
        "deepnote_cell_type": "markdown"
      },
      "block_group": "6c7cd6137bf548409a3875a8b5d8033b"
    },
    {
      "cell_type": "code",
      "source": "type('hello')",
      "metadata": {
        "cell_id": "e492d5c01fae45e9b939d32a0caaf970",
        "slideshow": {
          "slide_type": "fragment"
        },
        "deepnote_cell_type": "code"
      },
      "outputs": [
        {
          "data": {
            "text/plain": "str"
          },
          "execution_count": 12,
          "metadata": {},
          "output_type": "execute_result"
        }
      ],
      "execution_count": 12,
      "block_group": "e492d5c01fae45e9b939d32a0caaf970"
    },
    {
      "cell_type": "code",
      "source": "type(3.1415)",
      "metadata": {
        "cell_id": "5ad90d2bc26246ab9dc5809e51049b7c",
        "slideshow": {
          "slide_type": "fragment"
        },
        "deepnote_cell_type": "code"
      },
      "outputs": [
        {
          "data": {
            "text/plain": "float"
          },
          "execution_count": 13,
          "metadata": {},
          "output_type": "execute_result"
        }
      ],
      "execution_count": 13,
      "block_group": "5ad90d2bc26246ab9dc5809e51049b7c"
    },
    {
      "cell_type": "code",
      "source": "type(10)",
      "metadata": {
        "cell_id": "20b2b2b3f52c45fc95debf6542a6150d",
        "slideshow": {
          "slide_type": "fragment"
        },
        "deepnote_cell_type": "code"
      },
      "outputs": [
        {
          "data": {
            "text/plain": "int"
          },
          "execution_count": 14,
          "metadata": {},
          "output_type": "execute_result"
        }
      ],
      "execution_count": 14,
      "block_group": "20b2b2b3f52c45fc95debf6542a6150d"
    },
    {
      "cell_type": "code",
      "source": "type([1, 'a', 3])",
      "metadata": {
        "cell_id": "27468fd858884f93a30a89dda42a5f86",
        "slideshow": {
          "slide_type": "fragment"
        },
        "deepnote_cell_type": "code"
      },
      "outputs": [
        {
          "data": {
            "text/plain": "list"
          },
          "execution_count": 15,
          "metadata": {},
          "output_type": "execute_result"
        }
      ],
      "execution_count": 15,
      "block_group": "27468fd858884f93a30a89dda42a5f86"
    },
    {
      "cell_type": "markdown",
      "source": "## But what if Python does not have the function we need?",
      "metadata": {
        "cell_id": "0b11036a9895421cbd84260da68a8d0e",
        "slideshow": {
          "slide_type": "slide"
        },
        "user_expressions": [],
        "deepnote_cell_type": "markdown"
      },
      "block_group": "0b11036a9895421cbd84260da68a8d0e"
    },
    {
      "cell_type": "markdown",
      "source": "## Do we need to write all the functions?",
      "metadata": {
        "tags": [],
        "cell_id": "a3e6cad2f19a4d40a623c2bcf5ceea07",
        "slideshow": {
          "slide_type": "fragment"
        },
        "user_expressions": [],
        "deepnote_cell_type": "markdown"
      },
      "block_group": "a3e6cad2f19a4d40a623c2bcf5ceea07"
    },
    {
      "cell_type": "markdown",
      "source": "## Luckily...No",
      "metadata": {
        "tags": [],
        "cell_id": "8440cdc075f04ccd925026fc73734504",
        "slideshow": {
          "slide_type": "fragment"
        },
        "user_expressions": [],
        "deepnote_cell_type": "markdown"
      },
      "block_group": "8440cdc075f04ccd925026fc73734504"
    },
    {
      "cell_type": "markdown",
      "source": "# Extending Python's Functionality with Packages",
      "metadata": {
        "tags": [],
        "cell_id": "1aa9ed6122884e7a8da02a66da2608b6",
        "slideshow": {
          "slide_type": "slide"
        },
        "user_expressions": [],
        "deepnote_cell_type": "markdown"
      },
      "block_group": "1aa9ed6122884e7a8da02a66da2608b6"
    },
    {
      "cell_type": "markdown",
      "source": "One of the reasons people like Python is that there are lots of ready to use functions and solutions out there\n\n<center><img src=\"https://github.com/SMU-Econ-Growth/EconGrowthUG-Notebooks/blob/main/pics/X-files-truth-is-out-there.jpg?raw=true\" alt=\"X-files\" width=50%/></center>",
      "metadata": {
        "tags": [],
        "cell_id": "64d78d788f9040b3ac3613a250d96df5",
        "slideshow": {
          "slide_type": "fragment"
        },
        "user_expressions": [],
        "deepnote_cell_type": "markdown"
      },
      "block_group": "64d78d788f9040b3ac3613a250d96df5"
    },
    {
      "cell_type": "markdown",
      "source": "In order to use a package/module in Python or IPython, say `mypackage`, you need to import it, by executing\n```python\nimport mypackage\n```",
      "metadata": {
        "cell_id": "c8245c71921a46c098bfd081e7aab5c1",
        "slideshow": {
          "slide_type": "subslide"
        },
        "user_expressions": [],
        "deepnote_cell_type": "markdown"
      },
      "block_group": "c8245c71921a46c098bfd081e7aab5c1"
    },
    {
      "cell_type": "markdown",
      "source": "After executing this command, you will have access to the functions and objects defined in `mypackage`. \nFor example, if `mypackage` has a function `squared` that takes a real number `x` and computes its square, \nwe can use this function by calling `mypackage.squared(x)`. ",
      "metadata": {
        "cell_id": "7d4a57beffb54496a3f5bcba6788910c",
        "slideshow": {
          "slide_type": "fragment"
        },
        "user_expressions": [],
        "deepnote_cell_type": "markdown"
      },
      "block_group": "7d4a57beffb54496a3f5bcba6788910c"
    },
    {
      "cell_type": "markdown",
      "source": "Since the name of some packages might be too long, your can give them a nickname by importing them instead as\n```python    \nimport mypackage as myp\n```\nso now we could compute the square of `x` by calling `myp.squared(x)`.",
      "metadata": {
        "tags": [],
        "cell_id": "960afdf107f84afb84e6b06259bb41be",
        "slideshow": {
          "slide_type": "subslide"
        },
        "user_expressions": [],
        "deepnote_cell_type": "markdown"
      },
      "block_group": "960afdf107f84afb84e6b06259bb41be"
    },
    {
      "cell_type": "markdown",
      "source": "Sometimes we want to import only a function or a subpackage, in which case we use\n```python\nfrom mypackage import mysubpackage as mysp\nfrom mypackage import function\n```",
      "metadata": {
        "tags": [],
        "cell_id": "fc95b91b613a46aaa62af659d2852470",
        "slideshow": {
          "slide_type": "subslide"
        },
        "user_expressions": [],
        "deepnote_cell_type": "markdown"
      },
      "block_group": "fc95b91b613a46aaa62af659d2852470"
    },
    {
      "cell_type": "markdown",
      "source": "We will use various packages that will be useful to do computations, statistics, plots, data management, etc.",
      "metadata": {
        "tags": [],
        "cell_id": "b760d0c44db148c1a1e34521c4ccff6a",
        "slideshow": {
          "slide_type": "fragment"
        },
        "user_expressions": [],
        "deepnote_cell_type": "markdown"
      },
      "block_group": "b760d0c44db148c1a1e34521c4ccff6a"
    },
    {
      "cell_type": "markdown",
      "source": "# Managing the Operating System with os",
      "metadata": {
        "cell_id": "781a767c58fd45e2aaec95611190a6ec",
        "slideshow": {
          "slide_type": "slide"
        },
        "deepnote_cell_type": "markdown"
      },
      "block_group": "781a767c58fd45e2aaec95611190a6ec"
    },
    {
      "cell_type": "markdown",
      "source": "[os](https://docs.python.org/3/library/os.html) is the fundamental module to interact with your computer's operating system.",
      "metadata": {
        "cell_id": "328f2d53f5a84052a1061561b085275d",
        "slideshow": {
          "slide_type": "fragment"
        },
        "deepnote_cell_type": "markdown"
      },
      "block_group": "328f2d53f5a84052a1061561b085275d"
    },
    {
      "cell_type": "markdown",
      "source": "With `os` you can:",
      "metadata": {
        "cell_id": "5d3d17fbe2d14680b1d7b5bdbfabfc15",
        "slideshow": {
          "slide_type": "subslide"
        },
        "deepnote_cell_type": "markdown"
      },
      "block_group": "5d3d17fbe2d14680b1d7b5bdbfabfc15"
    },
    {
      "cell_type": "markdown",
      "source": "* Get environment variables",
      "metadata": {
        "cell_id": "467ce93705364f50b6b455ae9a5b3cca",
        "slideshow": {
          "slide_type": "fragment"
        },
        "deepnote_cell_type": "markdown"
      },
      "block_group": "467ce93705364f50b6b455ae9a5b3cca"
    },
    {
      "cell_type": "markdown",
      "source": "* Verify if a file or directory exists",
      "metadata": {
        "cell_id": "f636e6e95ef54706aab871f4cff02117",
        "slideshow": {
          "slide_type": "fragment"
        },
        "deepnote_cell_type": "markdown"
      },
      "block_group": "f636e6e95ef54706aab871f4cff02117"
    },
    {
      "cell_type": "markdown",
      "source": "* Change directories",
      "metadata": {
        "cell_id": "a24dda3459ee425b9fc57ba098e3ca52",
        "slideshow": {
          "slide_type": "fragment"
        },
        "deepnote_cell_type": "markdown"
      },
      "block_group": "a24dda3459ee425b9fc57ba098e3ca52"
    },
    {
      "cell_type": "markdown",
      "source": "* Create a file or directory",
      "metadata": {
        "cell_id": "59f0f5d5b9254c1cbf3839dd1b0d0e61",
        "slideshow": {
          "slide_type": "fragment"
        },
        "deepnote_cell_type": "markdown"
      },
      "block_group": "59f0f5d5b9254c1cbf3839dd1b0d0e61"
    },
    {
      "cell_type": "markdown",
      "source": "* Delete files or directories",
      "metadata": {
        "cell_id": "65e0dc900f52442cac7d612c146d5c9d",
        "slideshow": {
          "slide_type": "fragment"
        },
        "deepnote_cell_type": "markdown"
      },
      "block_group": "65e0dc900f52442cac7d612c146d5c9d"
    },
    {
      "cell_type": "code",
      "source": "import os",
      "metadata": {
        "cell_id": "52d49c2f43fd45ad89e04c258999af6d",
        "slideshow": {
          "slide_type": "subslide"
        },
        "deepnote_cell_type": "code"
      },
      "outputs": [],
      "execution_count": 16,
      "block_group": "52d49c2f43fd45ad89e04c258999af6d"
    },
    {
      "cell_type": "markdown",
      "source": "### Get the home directory of current user",
      "metadata": {
        "cell_id": "628ada4bd7524d269a94297c69de78cf",
        "slideshow": {
          "slide_type": "fragment"
        },
        "deepnote_cell_type": "markdown"
      },
      "block_group": "628ada4bd7524d269a94297c69de78cf"
    },
    {
      "cell_type": "code",
      "source": "os.getenv('HOME')",
      "metadata": {
        "cell_id": "d5af038aecf24a7f9185d67f9adcf87d",
        "slideshow": {
          "slide_type": "-"
        },
        "deepnote_cell_type": "code"
      },
      "outputs": [],
      "execution_count": null,
      "block_group": "d5af038aecf24a7f9185d67f9adcf87d"
    },
    {
      "cell_type": "markdown",
      "source": "### Verify if `pics` directory exists",
      "metadata": {
        "cell_id": "a318e5e76cc346e89efc024267064846",
        "slideshow": {
          "slide_type": "subslide"
        },
        "deepnote_cell_type": "markdown"
      },
      "block_group": "a318e5e76cc346e89efc024267064846"
    },
    {
      "cell_type": "code",
      "source": "os.path.exists('pics')",
      "metadata": {
        "cell_id": "4d201042a6964c92a1ea70e52bf8d7dd",
        "slideshow": {
          "slide_type": "-"
        },
        "deepnote_cell_type": "code"
      },
      "outputs": [
        {
          "data": {
            "text/plain": "True"
          },
          "execution_count": 17,
          "metadata": {},
          "output_type": "execute_result"
        }
      ],
      "execution_count": 17,
      "block_group": "4d201042a6964c92a1ea70e52bf8d7dd"
    },
    {
      "cell_type": "markdown",
      "source": "# Plots with \n<center><img src=\"https://raw.githubusercontent.com/SMU-Econ-Growth/EconGrowthUG-Notebooks/main/pics/matplotlib.svg\" alt=\"matplotlib\" width=25%/></center>",
      "metadata": {
        "tags": [],
        "cell_id": "b57f7e17d81c4ca1b9131f964b0db2d4",
        "slideshow": {
          "slide_type": "slide"
        },
        "user_expressions": [],
        "deepnote_cell_type": "markdown"
      },
      "block_group": "b57f7e17d81c4ca1b9131f964b0db2d4"
    },
    {
      "cell_type": "markdown",
      "source": "[Matplotlib](https://matplotlib.org/) is the fundamental package for plotting in Python. \n\nAll other plotting packages are built on top of it and expand it.\n\nYou can find examples of plots in their [Gallery](https://matplotlib.org/stable/gallery/index.html).",
      "metadata": {
        "tags": [],
        "cell_id": "0f33493d5be249f3840c6bbcc1b11b1d",
        "slideshow": {
          "slide_type": "fragment"
        },
        "user_expressions": [],
        "deepnote_cell_type": "markdown"
      },
      "block_group": "0f33493d5be249f3840c6bbcc1b11b1d"
    },
    {
      "cell_type": "markdown",
      "source": "It is the norm to import matplotlib and its pyplot component as follows (and I suggest you do the same):\n```python\nimport matplotlib as mpl\nimport matplotlib.pyplot as plt\n%matplotlib matlab_type\n```\nwhere `matlab_type` can be `inline` or `widget`. \n\n`widget` provides interactive plots, while `inline` generates static plots.",
      "metadata": {
        "cell_id": "fe88b4f6204d4af196dc7227ad3e9c66",
        "slideshow": {
          "slide_type": "subslide"
        },
        "user_expressions": [],
        "deepnote_cell_type": "markdown"
      },
      "block_group": "fe88b4f6204d4af196dc7227ad3e9c66"
    },
    {
      "cell_type": "code",
      "source": "import matplotlib as mpl\nimport matplotlib.pyplot as plt\n%matplotlib widget",
      "metadata": {
        "cell_id": "c185fe8c0a574763ac681df4fd60a7c5",
        "slideshow": {
          "slide_type": "fragment"
        },
        "deepnote_cell_type": "code"
      },
      "outputs": [],
      "execution_count": 18,
      "block_group": "c185fe8c0a574763ac681df4fd60a7c5"
    },
    {
      "cell_type": "markdown",
      "source": "Let's plot a line connecting a few points in a plot",
      "metadata": {
        "tags": [],
        "cell_id": "abfcaab44cea4c80832fdfcc3387a884",
        "slideshow": {
          "slide_type": "subslide"
        },
        "user_expressions": [],
        "deepnote_cell_type": "markdown"
      },
      "block_group": "abfcaab44cea4c80832fdfcc3387a884"
    },
    {
      "cell_type": "code",
      "source": "x = [0, 1, 2, 3]\ny = [my_square(i) for i in x]\nplt.plot(x, y, c='r', marker='o', linestyle=':', label=r'$y=x^2$')\nplt.legend()\nplt.show()",
      "metadata": {
        "cell_id": "5c3f9e7df4114a7f8fd697801d8991ea",
        "slideshow": {
          "slide_type": "fragment"
        },
        "deepnote_cell_type": "code"
      },
      "outputs": [
        {
          "data": {
            "application/vnd.jupyter.widget-view+json": {
              "model_id": "29a5c8e57d3e4e5aab8d31bbfd513fd9",
              "version_major": 2,
              "version_minor": 0
            },
            "image/png": "[encoded data removed]",
            "text/html": "\n            <div style=\"display: inline-block;\">\n                <div class=\"jupyter-widgets widget-label\" style=\"text-align: center;\">\n                    Figure\n                </div>\n                <img src='data:image/png;base64,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' width=640.0/>\n            </div>\n        ",
            "text/plain": "Canvas(toolbar=Toolbar(toolitems=[('Home', 'Reset original view', 'home', 'home'), ('Back', 'Back to previous …"
          },
          "metadata": {
            "image/png": {
              "width": 640,
              "height": 480
            }
          },
          "output_type": "display_data"
        }
      ],
      "execution_count": 19,
      "block_group": "5c3f9e7df4114a7f8fd697801d8991ea"
    },
    {
      "cell_type": "markdown",
      "source": "Let's plot various lines and points with different colors and styles, and add labels etc.",
      "metadata": {
        "cell_id": "1eda8074aed1493482d863364ff040e1",
        "slideshow": {
          "slide_type": "subslide"
        },
        "user_expressions": [],
        "deepnote_cell_type": "markdown"
      },
      "block_group": "1eda8074aed1493482d863364ff040e1"
    },
    {
      "cell_type": "code",
      "source": "x = [i/10 for i in range(0, 100)]\ny = [i**2 for i in x]\nz = [100 - 1/4 * i**2 + i for i in x]",
      "metadata": {
        "cell_id": "7976d519c6ca4171b7382526fe35fc82",
        "slideshow": {
          "slide_type": "fragment"
        },
        "deepnote_cell_type": "code"
      },
      "outputs": [],
      "execution_count": 20,
      "block_group": "7976d519c6ca4171b7382526fe35fc82"
    },
    {
      "cell_type": "code",
      "source": "fig, ax = plt.subplots(figsize=(8,5))\nax.plot(x, y, c='r', marker='o', markersize=4, linestyle='-.', label=r'$y=x^2$')\nax.plot(x, z, c='b', marker='D', markersize=4, linestyle='-', label=r'$y=100-\\frac{1}{4}x^2 + x$')\nax.set_xlabel(r'$x$', fontsize=18)\nax.set_ylabel(r'Value', fontsize=18)\nax.set_title(r'Some Plots', fontsize=24)\nax.legend(fontsize=18)\nplt.savefig('./pics/some-plots.png')\nplt.savefig('./pics/some-plots.pdf')\nplt.show()",
      "metadata": {
        "cell_id": "94648f06bd1048d0b0215fb039f6b890",
        "slideshow": {
          "slide_type": "subslide"
        },
        "deepnote_cell_type": "code"
      },
      "outputs": [
        {
          "data": {
            "application/vnd.jupyter.widget-view+json": {
              "model_id": "30175952ee3b450cb93da277881733bb",
              "version_major": 2,
              "version_minor": 0
            },
            "image/png": "[encoded data removed]",
            "text/html": "\n            <div style=\"display: inline-block;\">\n                <div class=\"jupyter-widgets widget-label\" style=\"text-align: center;\">\n                    Figure\n                </div>\n                <img src='data:image/png;base64,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' width=800.0/>\n            </div>\n        ",
            "text/plain": "Canvas(toolbar=Toolbar(toolitems=[('Home', 'Reset original view', 'home', 'home'), ('Back', 'Back to previous …"
          },
          "metadata": {
            "image/png": {
              "width": 800,
              "height": 500
            }
          },
          "output_type": "display_data"
        }
      ],
      "execution_count": 21,
      "block_group": "94648f06bd1048d0b0215fb039f6b890"
    },
    {
      "cell_type": "markdown",
      "source": "# <center>Numerical Computations with NumPy</center>\n<center><img src=\"https://raw.githubusercontent.com/SMU-Econ-Growth/EconGrowthUG-Notebooks/main/pics/numpy.svg\" alt=\"NumPy\" width=10%/></center>",
      "metadata": {
        "tags": [],
        "cell_id": "32df72c0b0aa4860ad50d29c8502e2e5",
        "slideshow": {
          "slide_type": "slide"
        },
        "user_expressions": [],
        "deepnote_cell_type": "markdown"
      },
      "block_group": "32df72c0b0aa4860ad50d29c8502e2e5"
    },
    {
      "cell_type": "markdown",
      "source": "[NumPy](https://numpy.org/) is one of the fundamental packages for scientific computing with Python.\n\nIt provides many functions, objects, elements, etc. for doing all kinds of numerical computations, e.g.,\n* Constants: Euler, Pi\n* Matrices, vectors, arrays\n* Functions: Logarithms, roots, inverses\n* Random number generators\n* Optimization algorithms",
      "metadata": {
        "tags": [],
        "cell_id": "2f6b6055ad8a41529e85af20ea5ca7bd",
        "slideshow": {
          "slide_type": "subslide"
        },
        "user_expressions": [],
        "deepnote_cell_type": "markdown"
      },
      "block_group": "2f6b6055ad8a41529e85af20ea5ca7bd"
    },
    {
      "cell_type": "markdown",
      "source": "It is the norm to import NumPy as follows (and I suggest you do the same):\n```python\nimport numpy as np\n```",
      "metadata": {
        "tags": [],
        "cell_id": "0e861c2855b846b0affc575976314992",
        "slideshow": {
          "slide_type": "subslide"
        },
        "user_expressions": [],
        "deepnote_cell_type": "markdown"
      },
      "block_group": "0e861c2855b846b0affc575976314992"
    },
    {
      "cell_type": "code",
      "source": "import numpy as np",
      "metadata": {
        "cell_id": "9c429ad2f92142638bb46c56db1a82f3",
        "slideshow": {
          "slide_type": "fragment"
        },
        "deepnote_cell_type": "code"
      },
      "outputs": [],
      "execution_count": 22,
      "block_group": "9c429ad2f92142638bb46c56db1a82f3"
    },
    {
      "cell_type": "markdown",
      "source": "Once it is imported we can start doing computations with it. \n\nThe main type of object we will use is a NumPy array, which we create by\n```python\nmy_array = np.array(list_of_numbers)\n```\ne.g.,",
      "metadata": {
        "tags": [],
        "cell_id": "861aedf4b69540a0b7d79396fcfe3d6d",
        "slideshow": {
          "slide_type": "subslide"
        },
        "user_expressions": [],
        "deepnote_cell_type": "markdown"
      },
      "block_group": "861aedf4b69540a0b7d79396fcfe3d6d"
    },
    {
      "cell_type": "code",
      "source": "c = [1, 2]\nd = [[1, 2], [3, 4]]\nca = np.array(c)\nda = np.array(d) ",
      "metadata": {
        "cell_id": "ebbd401035884ede8f299e9c2746e38e",
        "slideshow": {
          "slide_type": "subslide"
        },
        "deepnote_cell_type": "code"
      },
      "outputs": [],
      "execution_count": 23,
      "block_group": "ebbd401035884ede8f299e9c2746e38e"
    },
    {
      "cell_type": "code",
      "source": "ca",
      "metadata": {
        "cell_id": "d6b34fb4fd724a8f99ac931f6d118f1e",
        "slideshow": {
          "slide_type": "fragment"
        },
        "deepnote_cell_type": "code"
      },
      "outputs": [
        {
          "data": {
            "text/plain": "array([1, 2])"
          },
          "execution_count": 24,
          "metadata": {},
          "output_type": "execute_result"
        }
      ],
      "execution_count": 24,
      "block_group": "d6b34fb4fd724a8f99ac931f6d118f1e"
    },
    {
      "cell_type": "code",
      "source": "da",
      "metadata": {
        "cell_id": "cdbde3ff4b034ce7adf2e1de53a57d50",
        "slideshow": {
          "slide_type": "fragment"
        },
        "deepnote_cell_type": "code"
      },
      "outputs": [
        {
          "data": {
            "text/plain": "array([[1, 2],\n       [3, 4]])"
          },
          "execution_count": 25,
          "metadata": {},
          "output_type": "execute_result"
        }
      ],
      "execution_count": 25,
      "block_group": "cdbde3ff4b034ce7adf2e1de53a57d50"
    },
    {
      "cell_type": "markdown",
      "source": "With our arrays we can easily perform computations on each element.",
      "metadata": {
        "cell_id": "57e37a9b788e486bbeee6efe988f43dd",
        "slideshow": {
          "slide_type": "subslide"
        },
        "user_expressions": [],
        "deepnote_cell_type": "markdown"
      },
      "block_group": "57e37a9b788e486bbeee6efe988f43dd"
    },
    {
      "cell_type": "code",
      "source": "ca**2",
      "metadata": {
        "cell_id": "099da4c973364682a22086d92f6415b7",
        "slideshow": {
          "slide_type": "fragment"
        },
        "deepnote_cell_type": "code"
      },
      "outputs": [
        {
          "data": {
            "text/plain": "array([1, 4])"
          },
          "execution_count": 26,
          "metadata": {},
          "output_type": "execute_result"
        }
      ],
      "execution_count": 26,
      "block_group": "099da4c973364682a22086d92f6415b7"
    },
    {
      "cell_type": "code",
      "source": "da * 3",
      "metadata": {
        "cell_id": "b6580911059a4033be0033f46aab7f1a",
        "slideshow": {
          "slide_type": "fragment"
        },
        "deepnote_cell_type": "code"
      },
      "outputs": [
        {
          "data": {
            "text/plain": "array([[ 3,  6],\n       [ 9, 12]])"
          },
          "execution_count": 27,
          "metadata": {},
          "output_type": "execute_result"
        }
      ],
      "execution_count": 27,
      "block_group": "b6580911059a4033be0033f46aab7f1a"
    },
    {
      "cell_type": "code",
      "source": "ca*da",
      "metadata": {
        "cell_id": "7b7eff17d9dd4144bfd478b47ed484cb",
        "slideshow": {
          "slide_type": "fragment"
        },
        "deepnote_cell_type": "code"
      },
      "outputs": [
        {
          "data": {
            "text/plain": "array([[1, 4],\n       [3, 8]])"
          },
          "execution_count": 28,
          "metadata": {},
          "output_type": "execute_result"
        }
      ],
      "execution_count": 28,
      "block_group": "7b7eff17d9dd4144bfd478b47ed484cb"
    },
    {
      "cell_type": "markdown",
      "source": "Arrays also have their own functions and properties",
      "metadata": {
        "tags": [],
        "cell_id": "2e17b8b018294621a76aef3098ddde9b",
        "slideshow": {
          "slide_type": "subslide"
        },
        "user_expressions": [],
        "deepnote_cell_type": "markdown"
      },
      "block_group": "2e17b8b018294621a76aef3098ddde9b"
    },
    {
      "cell_type": "code",
      "source": "print(ca.shape)\nprint(da.shape)",
      "metadata": {
        "cell_id": "5820754127144161b0df99d2eaab14f9",
        "slideshow": {
          "slide_type": "fragment"
        },
        "deepnote_cell_type": "code"
      },
      "outputs": [
        {
          "name": "stdout",
          "output_type": "stream",
          "text": "(2,)\n(2, 2)\n"
        }
      ],
      "execution_count": 29,
      "block_group": "5820754127144161b0df99d2eaab14f9"
    },
    {
      "cell_type": "code",
      "source": "print('da=', da)\nprint('Sum of all elements da.sum()=', da.sum())\nprint('Sum of all elements in each column da.sum(axis=0)=', da.sum(axis=0))\nprint('Sum of all elements in each row da.sum(axis=1)=', da.sum(axis=1))\nprint('dot product is ca.dot(da)=', ca.dot(da))",
      "metadata": {
        "cell_id": "278bdfaf01d04ce89643083763d06bf8",
        "slideshow": {
          "slide_type": "fragment"
        },
        "deepnote_cell_type": "code"
      },
      "outputs": [
        {
          "name": "stdout",
          "output_type": "stream",
          "text": "da= [[1 2]\n [3 4]]\nSum of all elements da.sum()= 10\nSum of all elements in each column da.sum(axis=0)= [4 6]\nSum of all elements in each row da.sum(axis=1)= [3 7]\ndot product is ca.dot(da)= [ 7 10]\n"
        }
      ],
      "execution_count": 30,
      "block_group": "278bdfaf01d04ce89643083763d06bf8"
    },
    {
      "cell_type": "markdown",
      "source": "## We can create special arrays/matrices using Numpy's functions and classes",
      "metadata": {
        "cell_id": "447daa8947384eccafc5d64a465a0479",
        "slideshow": {
          "slide_type": "subslide"
        },
        "user_expressions": [],
        "deepnote_cell_type": "markdown"
      },
      "block_group": "447daa8947384eccafc5d64a465a0479"
    },
    {
      "cell_type": "code",
      "source": "print(np.ones((3,4)))\nprint(np.zeros((2,2)))\nprint(np.eye(2))\nprint(np.ones_like(ca))",
      "metadata": {
        "cell_id": "d38be7eabfd14f34bf51fa0a4c5fe1a7",
        "slideshow": {
          "slide_type": "fragment"
        },
        "deepnote_cell_type": "code"
      },
      "outputs": [
        {
          "name": "stdout",
          "output_type": "stream",
          "text": "[[1. 1. 1. 1.]\n [1. 1. 1. 1.]\n [1. 1. 1. 1.]]\n[[0. 0.]\n [0. 0.]]\n[[1. 0.]\n [0. 1.]]\n[1 1]\n"
        }
      ],
      "execution_count": 31,
      "block_group": "d38be7eabfd14f34bf51fa0a4c5fe1a7"
    },
    {
      "cell_type": "markdown",
      "source": "## Random Numbers with `np.random`",
      "metadata": {
        "cell_id": "8b38396112c64aafbeb2d6773447ba91",
        "slideshow": {
          "slide_type": "subslide"
        },
        "user_expressions": [],
        "deepnote_cell_type": "markdown"
      },
      "block_group": "8b38396112c64aafbeb2d6773447ba91"
    },
    {
      "cell_type": "markdown",
      "source": "## Uniform distribution `np.random.uniform(low, high, size)`",
      "metadata": {
        "cell_id": "7e76e53ba4b4469a90d83cef0121320e",
        "slideshow": {
          "slide_type": "fragment"
        },
        "user_expressions": [],
        "deepnote_cell_type": "markdown"
      },
      "block_group": "7e76e53ba4b4469a90d83cef0121320e"
    },
    {
      "cell_type": "code",
      "source": "np.random.uniform(-1,1,10)",
      "metadata": {
        "cell_id": "a40daa2278a840dd86c802eff024f3f9",
        "slideshow": {
          "slide_type": "fragment"
        },
        "deepnote_cell_type": "code"
      },
      "outputs": [
        {
          "data": {
            "text/plain": "array([ 0.08183555, -0.90068916, -0.3861001 ,  0.24515804, -0.07788098,\n       -0.24446539, -0.24307422,  0.34988979,  0.12040606, -0.86218082])"
          },
          "execution_count": 32,
          "metadata": {},
          "output_type": "execute_result"
        }
      ],
      "execution_count": 32,
      "block_group": "a40daa2278a840dd86c802eff024f3f9"
    },
    {
      "cell_type": "markdown",
      "source": "## Normal Distribution `np.random.normal(loc, scale, size)`",
      "metadata": {
        "tags": [],
        "cell_id": "433b29e97bdf489c9503b1ccbda2f53a",
        "slideshow": {
          "slide_type": "subslide"
        },
        "user_expressions": [],
        "deepnote_cell_type": "markdown"
      },
      "block_group": "433b29e97bdf489c9503b1ccbda2f53a"
    },
    {
      "cell_type": "code",
      "source": "np.random.normal(10, 1, size=(3,3))",
      "metadata": {
        "cell_id": "ba72c4863d95431fa774998059be7133",
        "slideshow": {
          "slide_type": "fragment"
        },
        "deepnote_cell_type": "code"
      },
      "outputs": [
        {
          "data": {
            "text/plain": "array([[ 9.86381478,  9.19635859,  9.51404729],\n       [ 8.73820829, 10.38539136,  9.95531535],\n       [10.33150078,  9.17957557,  8.48430286]])"
          },
          "execution_count": 33,
          "metadata": {},
          "output_type": "execute_result"
        }
      ],
      "execution_count": 33,
      "block_group": "ba72c4863d95431fa774998059be7133"
    },
    {
      "cell_type": "markdown",
      "source": "# Example",
      "metadata": {
        "cell_id": "f584192d741f47db9e85a7a3ac555087",
        "slideshow": {
          "slide_type": "subslide"
        },
        "deepnote_cell_type": "markdown"
      },
      "block_group": "f584192d741f47db9e85a7a3ac555087"
    },
    {
      "cell_type": "markdown",
      "source": "Let's create a simple random walk and plot it. A random walk is a variable $x_t$ that satisfies\n$$\nx_{t+1} = a_0 + x_t + \\varepsilon_t\n$$\nwhere $a_0$ is some real number, known as *drift*, and $\\varepsilon_t$ is a random variable that is Normally distributed with mean 0 and standard deviation $\\sigma^2$, i.e., \n$$\n\\varepsilon_t\\sim\\mathcal{N}(0,\\sigma^2).\n$$\nFor simplicity, let's assume the drift $a_0=0$.",
      "metadata": {
        "tags": [],
        "cell_id": "4d8c8599607f4afeacfdd63c416ccb44",
        "slideshow": {
          "slide_type": "fragment"
        },
        "user_expressions": [],
        "deepnote_cell_type": "markdown"
      },
      "block_group": "4d8c8599607f4afeacfdd63c416ccb44"
    },
    {
      "cell_type": "code",
      "source": "#np.random.seed(123456)\nx0 = 0\nx = [x0]\n[x.append(x[-1] + np.random.normal() ) for i in range(500)]\nfig, ax = plt.subplots(figsize=(8,5))\nax.plot(x)\nplt.title(r'A simple random walk', fontsize=24)\nplt.xlabel(r'Period $t$', fontsize=18)\nplt.ylabel(r'$x_t$', fontsize=18)\nplt.show()",
      "metadata": {
        "cell_id": "adeccc37777b4120940e4bf5e93c9ab3",
        "slideshow": {
          "slide_type": "subslide"
        },
        "deepnote_cell_type": "code"
      },
      "outputs": [
        {
          "data": {
            "application/vnd.jupyter.widget-view+json": {
              "model_id": "80d50dc541554b289f4651572592fe2b",
              "version_major": 2,
              "version_minor": 0
            },
            "image/png": "[encoded data removed]",
            "text/html": "\n            <div style=\"display: inline-block;\">\n                <div class=\"jupyter-widgets widget-label\" style=\"text-align: center;\">\n                    Figure\n                </div>\n                <img src='data:image/png;base64,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' width=800.0/>\n            </div>\n        ",
            "text/plain": "Canvas(toolbar=Toolbar(toolitems=[('Home', 'Reset original view', 'home', 'home'), ('Back', 'Back to previous …"
          },
          "metadata": {
            "image/png": {
              "width": 800,
              "height": 500
            }
          },
          "output_type": "display_data"
        }
      ],
      "execution_count": 34,
      "block_group": "adeccc37777b4120940e4bf5e93c9ab3"
    },
    {
      "cell_type": "markdown",
      "source": "<div class=\"alert alert-block alert-warning\">\n    <b>Exercise 1:</b> Write a function that computes the level of output generated by a constant returns to scale Cobb-Douglas production function, i.e., such that it computes $A\\cdot K^\\alpha \\cdot L^{1-\\alpha}$.\n</div>",
      "metadata": {
        "tags": [],
        "cell_id": "f6440fd89ef74ca8adc2b92c5ed103c3",
        "slideshow": {
          "slide_type": "subslide"
        },
        "user_expressions": [],
        "deepnote_cell_type": "markdown"
      },
      "block_group": "f6440fd89ef74ca8adc2b92c5ed103c3"
    },
    {
      "cell_type": "code",
      "source": "def CobbDouglas(K=1, L=1, A=1, alpha=0.3):\n    '''\n    This function computes the level of output of a Cobb-Douglas production function.\n    Given values of K, L, A, and alpha it returns $A\\cdot K^\\alpha \\cdot L^{1-\\alpha}$.\n    Parameters:\n    -----------\n    K: float, integer or any other number, default=1\n    L: float, integer or any other number, default=1\n    A: float, integer or any other number, default=1\n    alpha: float between (0,1), default=0.3\n    \n    Returns:\n    --------\n    out = A * K**alpha * L**(1-alpha)\n    \n    Example:\n    >>> out = CobbDouglas(4, 9, 2, 1/2)\n    >>> out\n        12\n    '''",
      "metadata": {
        "cell_id": "0aaf6c8c6686421ab00356de131764c9",
        "slideshow": {
          "slide_type": "-"
        },
        "deepnote_cell_type": "code"
      },
      "outputs": [],
      "execution_count": 35,
      "block_group": "0aaf6c8c6686421ab00356de131764c9"
    },
    {
      "cell_type": "markdown",
      "source": "<div class=\"alert alert-block alert-warning\">\n    <b>Exercise 2:</b> Use the function you created and plot the production function as a function of $K$ for given values of $A$ and $L$. <b>Hint:</b> Use the <code>np.linspace(0, 5, 100)</code> function to create an array of values of $K$ with 100 point between 0 and 5.\n</div>",
      "metadata": {
        "tags": [],
        "cell_id": "771b04fd21a543fca8f5221847a61630",
        "slideshow": {
          "slide_type": "subslide"
        },
        "user_expressions": [],
        "deepnote_cell_type": "markdown"
      },
      "block_group": "771b04fd21a543fca8f5221847a61630"
    },
    {
      "cell_type": "markdown",
      "source": "<div class=\"alert alert-block alert-warning\">\n    <b>Exercise 3:</b> Show with a plot the effect of increasing $A$ from 1 to 2, 4, or 5.\n</div>",
      "metadata": {
        "tags": [],
        "cell_id": "f33bd817255c49f9acf189e0eb60b819",
        "slideshow": {
          "slide_type": "fragment"
        },
        "user_expressions": [],
        "deepnote_cell_type": "markdown"
      },
      "block_group": "f33bd817255c49f9acf189e0eb60b819"
    },
    {
      "cell_type": "markdown",
      "source": "<div class=\"alert alert-block alert-warning\">\n    <b>Exercise 4:</b> Show with a plot the effect of increasing $L$ from 1 to 2, 4, 5.\n</div>",
      "metadata": {
        "tags": [],
        "cell_id": "18f21816c3a54c48b5569b573ef1da64",
        "slideshow": {
          "slide_type": "fragment"
        },
        "user_expressions": [],
        "deepnote_cell_type": "markdown"
      },
      "block_group": "18f21816c3a54c48b5569b573ef1da64"
    },
    {
      "cell_type": "markdown",
      "source": "<div class=\"alert alert-block alert-warning\">\n    <b>Exercise 5:</b> Save the previous plots into <b>png, jpeg, and pdf</b> files using the <code>plt.savefig</code> function.\n</div>",
      "metadata": {
        "tags": [],
        "cell_id": "23a39fac61dd4de68db8023dff823d6f",
        "slideshow": {
          "slide_type": "fragment"
        },
        "user_expressions": [],
        "deepnote_cell_type": "markdown"
      },
      "block_group": "23a39fac61dd4de68db8023dff823d6f"
    },
    {
      "cell_type": "markdown",
      "source": "Notebook written by [Ömer Özak](http://omerozak.com) for his students in Economics at [Southern Methodist University](http://www.smu.edu). Feel free to use, distribute, or contribute.",
      "metadata": {
        "tags": [],
        "cell_id": "39f8a4b302f14b7382abd5034db1f735",
        "slideshow": {
          "slide_type": "slide"
        },
        "user_expressions": [],
        "deepnote_cell_type": "markdown"
      },
      "block_group": "39f8a4b302f14b7382abd5034db1f735"
    },
    {
      "cell_type": "markdown",
      "source": "[<center><img src=\"https://github.com/measuring-culture/Expanding-Measurement-Culture-Facebook-JRSI/blob/main/pics/SMUlogowWordmarkRB.jpg?raw=true\" width=\"250\"></center>](http://omerozak.com)",
      "metadata": {
        "tags": [],
        "cell_id": "adc54a6f25274d00bd81e828642eadf2",
        "slideshow": {
          "slide_type": "-"
        },
        "user_expressions": [],
        "deepnote_cell_type": "markdown"
      },
      "block_group": "adc54a6f25274d00bd81e828642eadf2"
    },
    {
      "cell_type": "markdown",
      "source": "<a style='text-decoration:none;line-height:16px;display:flex;color:#5B5B62;padding:10px;justify-content:end;' href='https://deepnote.com?utm_source=created-in-deepnote-cell&projectId=6235f940-2440-49ed-8dd6-b53ef25fabd2' target=\"_blank\">\n<img alt='Created in deepnote.com' style='display:inline;max-height:16px;margin:0px;margin-right:7.5px;' src='data:image/svg+xml;base64,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' > </img>\nCreated in <span style='font-weight:600;margin-left:4px;'>Deepnote</span></a>",
      "metadata": {
        "created_in_deepnote_cell": true,
        "deepnote_cell_type": "markdown"
      }
    }
  ],
  "nbformat": 4,
  "nbformat_minor": 0,
  "metadata": {
    "widgets": {
      "application/vnd.jupyter.widget-state+json": {
        "state": {},
        "version_major": 2,
        "version_minor": 0
      }
    },
    "deepnote": {},
    "kernelspec": {
      "name": "python3",
      "language": "python",
      "display_name": "Python 3 (ipykernel)"
    },
    "celltoolbar": "Slideshow",
    "nbTranslate": {
      "hotkey": "alt-t",
      "sourceLang": "en",
      "targetLang": "fr",
      "displayLangs": [
        "*"
      ],
      "langInMainMenu": true,
      "useGoogleTranslate": true
    },
    "language_info": {
      "name": "python",
      "version": "3.9.15",
      "mimetype": "text/x-python",
      "file_extension": ".py",
      "pygments_lexer": "ipython3",
      "codemirror_mode": {
        "name": "ipython",
        "version": 3
      },
      "nbconvert_exporter": "python"
    },
    "deepnote_notebook_id": "b4d41e10d8d549b4ba911686ae1bb1d5",
    "deepnote_execution_queue": []
  }
}