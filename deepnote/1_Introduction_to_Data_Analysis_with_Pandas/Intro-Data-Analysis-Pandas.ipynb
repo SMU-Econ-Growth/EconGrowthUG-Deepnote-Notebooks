{
  "cells": [
    {
      "cell_type": "markdown",
      "source": "# <center>Introduction to Data Analysis in </center>\n    \n<center><img src=\"https://www.python.org/static/community_logos/python-logo-inkscape.svg\" alt=\"Python\" width=300/> </center>\n\n# <center>using </center>\n\n<center><a href=\"https://pandas.pydata.org/docs/index.html\"><img src=\"https://raw.githubusercontent.com/SMU-Econ-Growth/EconGrowthUG-Notebooks/c004a90a03c3633fd05cdbce96647e229fdc21d8/pics/Pandas_logo.svg\" alt=\"Pandas\" width=300/></a></center>",
      "metadata": {
        "tags": [],
        "slideshow": {
          "slide_type": "slide"
        },
        "user_expressions": [],
        "cell_id": "e8ee69cf8cf5477883cf964fec5f4a73",
        "deepnote_cell_type": "markdown"
      },
      "block_group": "1a21e02e824342a686cbd94c24718a79"
    },
    {
      "cell_type": "markdown",
      "source": "# <center>What is <img src=\"https://raw.githubusercontent.com/SMU-Econ-Growth/EconGrowthUG-Notebooks/c004a90a03c3633fd05cdbce96647e229fdc21d8/pics/Pandas_logo.svg\" alt=\"Pandas\" width=150/>?</center>",
      "metadata": {
        "tags": [],
        "slideshow": {
          "slide_type": "slide"
        },
        "user_expressions": [],
        "cell_id": "66b9dbda0cc642b5b8a4039e417f5a80",
        "deepnote_cell_type": "markdown"
      },
      "block_group": "e872b52bc4254471a990aef8b42e68d8"
    },
    {
      "cell_type": "markdown",
      "source": "**pandas** is a fast, powerful, flexible and easy to use open source data analysis and manipulation tool, built on top of the Python programming language.",
      "metadata": {
        "slideshow": {
          "slide_type": "fragment"
        },
        "user_expressions": [],
        "cell_id": "f84308d6d65b4416aee1db5d475895d1",
        "deepnote_cell_type": "markdown"
      },
      "block_group": "fe1e0d58d77d44aea668562b0a3fccac"
    },
    {
      "cell_type": "markdown",
      "source": "# <center>What is <img src=\"https://raw.githubusercontent.com/SMU-Econ-Growth/EconGrowthUG-Notebooks/c004a90a03c3633fd05cdbce96647e229fdc21d8/pics/Pandas_logo.svg\" alt=\"Pandas\" width=150/> for?</center>",
      "metadata": {
        "tags": [],
        "slideshow": {
          "slide_type": "slide"
        },
        "user_expressions": [],
        "cell_id": "6da699108efa46dfbe1e5c31432fe403",
        "deepnote_cell_type": "markdown"
      },
      "block_group": "940d207b2311418b96dc94806ce0acf1"
    },
    {
      "cell_type": "markdown",
      "source": "* **pandas** is the right tool when working with tabular data\n    * such as data stored in spreadsheets or databases ",
      "metadata": {
        "tags": [],
        "slideshow": {
          "slide_type": "fragment"
        },
        "user_expressions": [],
        "cell_id": "27c1c5d89cf34a28a376f1d9af4f0ba5",
        "deepnote_cell_type": "markdown"
      },
      "block_group": "9a85fe30a7934f7ba5a15a9ee612d87e"
    },
    {
      "cell_type": "markdown",
      "source": "* **pandas** will help you to \n    * explore\n    * clean\n    * transform\n    * merge \n    * process",
      "metadata": {
        "tags": [],
        "slideshow": {
          "slide_type": "subslide"
        },
        "user_expressions": [],
        "cell_id": "87dd50b2c476448dbcd39bc5dcafeade",
        "deepnote_cell_type": "markdown"
      },
      "block_group": "4f7c3519391d478caae6272e5f46a684"
    },
    {
      "cell_type": "markdown",
      "source": "* In **pandas**, a data table is called a ``DataFrame``\n<center><a href=\"https://pandas.pydata.org/docs/getting_started/index.html\"><img src=\"https://raw.githubusercontent.com/SMU-Econ-Growth/EconGrowthUG-Notebooks/c004a90a03c3633fd05cdbce96647e229fdc21d8/pics/01_table_dataframe.svg\" alt=\"Pandas DataFrame\" width=500/></a></center>",
      "metadata": {
        "tags": [],
        "slideshow": {
          "slide_type": "slide"
        },
        "user_expressions": [],
        "cell_id": "f95d81f3913d405f9830572cae74732b",
        "deepnote_cell_type": "markdown"
      },
      "block_group": "7978b599e205424d9d8422c761846b44"
    },
    {
      "cell_type": "markdown",
      "source": "* In **pandas**, a column of a data table is called a `Series`\n    * A `DataFrame` is a collection of `Series`",
      "metadata": {
        "tags": [],
        "slideshow": {
          "slide_type": "subslide"
        },
        "user_expressions": [],
        "cell_id": "0d0ca545774947fcaaefbc57fb93dd74",
        "deepnote_cell_type": "markdown"
      },
      "block_group": "2d6a7d4b6317466c9419d7855540fadd"
    },
    {
      "cell_type": "markdown",
      "source": "With [pandas](http://pandas.pydata.org) you can \n1. Import many types of data, including\n    * CSV files\n    * Tab or other types of delimited files \n    * Excel (xls, xlsx) files\n    * Stata files",
      "metadata": {
        "slideshow": {
          "slide_type": "subslide"
        },
        "user_expressions": [],
        "cell_id": "5bf57c4646254d588e0fb78473905586",
        "deepnote_cell_type": "markdown"
      },
      "block_group": "efc10ed6cc064c33b94838e7f09d58cc"
    },
    {
      "cell_type": "markdown",
      "source": "2. Open files directly from a website\n3. Merge, select, join data\n4. Perform statistical analyses\n5. Create plots of your data\n\nand much more.",
      "metadata": {
        "slideshow": {
          "slide_type": "subslide"
        },
        "user_expressions": [],
        "cell_id": "e09a6626ca4f49c6947d0954156c0f2f",
        "deepnote_cell_type": "markdown"
      },
      "block_group": "8ad07ce7ad5a47539ae44a9437fb37e1"
    },
    {
      "cell_type": "markdown",
      "source": "* **pandas** is imported as\n```python\nimport pandas as pd\n```\nI suggest you follow this convention, which will make using other people's code and snippets easier.",
      "metadata": {
        "tags": [],
        "slideshow": {
          "slide_type": "subslide"
        },
        "user_expressions": [],
        "cell_id": "eac53997cc704c10b3b850fd25a40258",
        "deepnote_cell_type": "markdown"
      },
      "block_group": "ed1946227624411f8efb67054f9677dc"
    },
    {
      "cell_type": "code",
      "source": "# Let's import pandas and some other basic packages we will use \nfrom __future__ import division\n%matplotlib inline\nimport os\nimport matplotlib.pyplot as plt\nimport numpy as np\nnp.random.seed(123456)\nimport pandas as pd",
      "metadata": {
        "slideshow": {
          "slide_type": "fragment"
        },
        "source_hash": "feb5e232",
        "execution_start": 1730132647104,
        "execution_millis": 267,
        "execution_context_id": "7c89757c-8d24-40c2-891e-29eb8cc3b4ff",
        "cell_id": "6af8ed8c2972448bbc774c679dc8c2ad",
        "deepnote_cell_type": "code"
      },
      "outputs": [],
      "outputs_reference": null,
      "execution_count": 1,
      "block_group": "e651d65192b24ac6b073fa5fb57a8547",
      "content_dependencies": null
    },
    {
      "cell_type": "markdown",
      "source": "# <center>How to create a <img src=\"https://raw.githubusercontent.com/SMU-Econ-Growth/EconGrowthUG-Notebooks/c004a90a03c3633fd05cdbce96647e229fdc21d8/pics/Pandas_logo.svg\" alt=\"Pandas\" width=150/> `Series`?</center>",
      "metadata": {
        "tags": [],
        "slideshow": {
          "slide_type": "slide"
        },
        "user_expressions": [],
        "cell_id": "f930758e7fbe4229b3ee594e5e5fa89e",
        "deepnote_cell_type": "markdown"
      },
      "block_group": "84ef379219294e88a0f199516817a324"
    },
    {
      "cell_type": "markdown",
      "source": "# Create a New `Series`\n<center><a href=\"https://pandas.pydata.org/docs/getting_started/intro_tutorials/01_table_oriented.html#min-tut-01-tableoriented\"><img src=\"https://raw.githubusercontent.com/SMU-Econ-Growth/EconGrowthUG-Notebooks/main/pics/01_table_series.svg\" alt=\"Pandas DataFrame\" width=20%/></a></center>",
      "metadata": {
        "tags": [],
        "slideshow": {
          "slide_type": "subslide"
        },
        "user_expressions": [],
        "cell_id": "765b87ff1b8940a0939375ac371bf680",
        "deepnote_cell_type": "markdown"
      },
      "block_group": "dc444a40adb94bd4bf21fe6a6d585a42"
    },
    {
      "cell_type": "markdown",
      "source": "* To create a new [`Series`](https://pandas.pydata.org/docs/reference/api/pandas.Series.html)\n```python\nmy_new_series = pd.Series(a_list_with_data, \n                          name='Name of Column in data table')\n```",
      "metadata": {
        "tags": [],
        "slideshow": {
          "slide_type": "subslide"
        },
        "user_expressions": [],
        "cell_id": "d0424e5471e446f587207efe121ec6b8",
        "deepnote_cell_type": "markdown"
      },
      "block_group": "e897f594f9a0475582ab26d2154ef04a"
    },
    {
      "cell_type": "code",
      "source": "first_names = pd.Series(['Taylor', 'John', 'Fela', 'Manu', 'Şebnem'], name='First Name')\nfirst_names",
      "metadata": {
        "tags": [],
        "slideshow": {
          "slide_type": "subslide"
        },
        "source_hash": "7ecf2da1",
        "execution_start": 1730132647420,
        "execution_millis": 1,
        "execution_context_id": "7c89757c-8d24-40c2-891e-29eb8cc3b4ff",
        "cell_id": "15472d0130474318a2e80dff52611ee9",
        "deepnote_cell_type": "code"
      },
      "outputs": [
        {
          "output_type": "execute_result",
          "execution_count": 2,
          "data": {
            "text/plain": "0    Taylor\n1      John\n2      Fela\n3      Manu\n4    Şebnem\nName: First Name, dtype: object"
          },
          "metadata": {}
        }
      ],
      "outputs_reference": null,
      "execution_count": 2,
      "block_group": "cb0b7c7b8545413ea9fcbef769c32bed",
      "content_dependencies": null
    },
    {
      "cell_type": "code",
      "source": "last_names = pd.Series({0:'Swift',\n                        1:'Lennon',\n                        2:'Kuti',\n                        3:'Chau', \n                        4:'Ferrah'}, name='Last Name')\nlast_names",
      "metadata": {
        "tags": [],
        "slideshow": {
          "slide_type": "subslide"
        },
        "source_hash": "7b30009a",
        "execution_start": 1730132647476,
        "execution_millis": 1,
        "execution_context_id": "7c89757c-8d24-40c2-891e-29eb8cc3b4ff",
        "cell_id": "3774f13ab1474e26b2239515078a0f56",
        "deepnote_cell_type": "code"
      },
      "outputs": [
        {
          "output_type": "execute_result",
          "execution_count": 3,
          "data": {
            "text/plain": "0     Swift\n1    Lennon\n2      Kuti\n3      Chau\n4    Ferrah\nName: Last Name, dtype: object"
          },
          "metadata": {}
        }
      ],
      "outputs_reference": null,
      "execution_count": 3,
      "block_group": "b65370257062426da706753ab533c22a",
      "content_dependencies": null
    },
    {
      "cell_type": "code",
      "source": "age = pd.Series(np.random.randint(33, 85, size=5), name='Age')\nage",
      "metadata": {
        "tags": [],
        "slideshow": {
          "slide_type": "subslide"
        },
        "source_hash": "681edf8d",
        "execution_start": 1730132647524,
        "execution_millis": 1,
        "execution_context_id": "7c89757c-8d24-40c2-891e-29eb8cc3b4ff",
        "cell_id": "4c29730764a24edbacd114b60d8040f9",
        "deepnote_cell_type": "code"
      },
      "outputs": [
        {
          "output_type": "execute_result",
          "execution_count": 4,
          "data": {
            "text/plain": "0    34\n1    75\n2    83\n3    82\n4    76\nName: Age, dtype: int64"
          },
          "metadata": {}
        }
      ],
      "outputs_reference": null,
      "execution_count": 4,
      "block_group": "96c3f7678dde46bc820017ca31dba9cc",
      "content_dependencies": null
    },
    {
      "cell_type": "markdown",
      "source": "# <center>How to create a <img src=\"https://raw.githubusercontent.com/SMU-Econ-Growth/EconGrowthUG-Notebooks/c004a90a03c3633fd05cdbce96647e229fdc21d8/pics/Pandas_logo.svg\" alt=\"Pandas\" width=150/> `DataFrame`?</center>",
      "metadata": {
        "tags": [],
        "slideshow": {
          "slide_type": "slide"
        },
        "user_expressions": [],
        "cell_id": "816de3f6344a4267a20de4f62822c3c7",
        "deepnote_cell_type": "markdown"
      },
      "block_group": "47a4b07c1a9b44cf97c3389bdf976337"
    },
    {
      "cell_type": "markdown",
      "source": "# Create a New `DataFrame`\n<center><a href=\"https://pandas.pydata.org/docs/getting_started/intro_tutorials/01_table_oriented.html#min-tut-01-tableoriented\"><img src=\"https://raw.githubusercontent.com/SMU-Econ-Growth/EconGrowthUG-Notebooks/c004a90a03c3633fd05cdbce96647e229fdc21d8/pics/01_table_dataframe.svg\" alt=\"Pandas DataFrame\" width=500/></a></center>",
      "metadata": {
        "tags": [],
        "slideshow": {
          "slide_type": "subslide"
        },
        "user_expressions": [],
        "cell_id": "7bd81e3453c84628b413f5bac7884148",
        "deepnote_cell_type": "markdown"
      },
      "block_group": "f69f079929a8477ebe91b8bbcebc9b46"
    },
    {
      "cell_type": "markdown",
      "source": "* To create a new [`DataFrame`](https://pandas.pydata.org/docs/reference/api/pandas.DataFrame.html)\n```python\ndf = pd.DataFrame({'Column1 Name':column_1_data, \n                   'Column2 Name':column_2_data, \n                   'Column3 Name':column_3_data, \n                   ...\n                  })\n```",
      "metadata": {
        "tags": [],
        "slideshow": {
          "slide_type": "subslide"
        },
        "user_expressions": [],
        "cell_id": "86829a1652f34e5aa1d4af7d87a1b41d",
        "deepnote_cell_type": "markdown"
      },
      "block_group": "42305680b9044853ba589e3d363d32cb"
    },
    {
      "cell_type": "code",
      "source": "musicians = pd.DataFrame({'First Name':first_names, \n                          'Last Name':last_names, \n                          'Age':age})\nmusicians",
      "metadata": {
        "tags": [],
        "slideshow": {
          "slide_type": "subslide"
        },
        "source_hash": "c023dae9",
        "execution_start": 1730132647572,
        "execution_millis": 1,
        "execution_context_id": "7c89757c-8d24-40c2-891e-29eb8cc3b4ff",
        "cell_id": "9f1a384fb92c463b8b70edf5ec8f6c9d",
        "deepnote_cell_type": "code"
      },
      "outputs": [
        {
          "output_type": "execute_result",
          "execution_count": 5,
          "data": {
            "application/vnd.deepnote.dataframe.v3+json": {
              "column_count": 3,
              "row_count": 5,
              "columns": [
                {
                  "name": "First Name",
                  "dtype": "object",
                  "stats": {
                    "unique_count": 5,
                    "nan_count": 0,
                    "categories": [
                      {
                        "name": "Taylor",
                        "count": 1
                      },
                      {
                        "name": "John",
                        "count": 1
                      },
                      {
                        "name": "3 others",
                        "count": 3
                      }
                    ]
                  }
                },
                {
                  "name": "Last Name",
                  "dtype": "object",
                  "stats": {
                    "unique_count": 5,
                    "nan_count": 0,
                    "categories": [
                      {
                        "name": "Swift",
                        "count": 1
                      },
                      {
                        "name": "Lennon",
                        "count": 1
                      },
                      {
                        "name": "3 others",
                        "count": 3
                      }
                    ]
                  }
                },
                {
                  "name": "Age",
                  "dtype": "int64",
                  "stats": {
                    "unique_count": 5,
                    "nan_count": 0,
                    "min": "34",
                    "max": "83",
                    "histogram": [
                      {
                        "bin_start": 34,
                        "bin_end": 38.9,
                        "count": 1
                      },
                      {
                        "bin_start": 38.9,
                        "bin_end": 43.8,
                        "count": 0
                      },
                      {
                        "bin_start": 43.8,
                        "bin_end": 48.7,
                        "count": 0
                      },
                      {
                        "bin_start": 48.7,
                        "bin_end": 53.6,
                        "count": 0
                      },
                      {
                        "bin_start": 53.6,
                        "bin_end": 58.5,
                        "count": 0
                      },
                      {
                        "bin_start": 58.5,
                        "bin_end": 63.400000000000006,
                        "count": 0
                      },
                      {
                        "bin_start": 63.400000000000006,
                        "bin_end": 68.30000000000001,
                        "count": 0
                      },
                      {
                        "bin_start": 68.30000000000001,
                        "bin_end": 73.2,
                        "count": 0
                      },
                      {
                        "bin_start": 73.2,
                        "bin_end": 78.1,
                        "count": 2
                      },
                      {
                        "bin_start": 78.1,
                        "bin_end": 83,
                        "count": 2
                      }
                    ]
                  }
                },
                {
                  "name": "_deepnote_index_column",
                  "dtype": "int64"
                }
              ],
              "rows": [
                {
                  "First Name": "Taylor",
                  "Last Name": "Swift",
                  "Age": 34,
                  "_deepnote_index_column": 0
                },
                {
                  "First Name": "John",
                  "Last Name": "Lennon",
                  "Age": 75,
                  "_deepnote_index_column": 1
                },
                {
                  "First Name": "Fela",
                  "Last Name": "Kuti",
                  "Age": 83,
                  "_deepnote_index_column": 2
                },
                {
                  "First Name": "Manu",
                  "Last Name": "Chau",
                  "Age": 82,
                  "_deepnote_index_column": 3
                },
                {
                  "First Name": "Şebnem",
                  "Last Name": "Ferrah",
                  "Age": 76,
                  "_deepnote_index_column": 4
                }
              ]
            },
            "text/plain": "  First Name Last Name  Age\n0     Taylor     Swift   34\n1       John    Lennon   75\n2       Fela      Kuti   83\n3       Manu      Chau   82\n4     Şebnem    Ferrah   76",
            "text/html": "<div>\n<style scoped>\n    .dataframe tbody tr th:only-of-type {\n        vertical-align: middle;\n    }\n\n    .dataframe tbody tr th {\n        vertical-align: top;\n    }\n\n    .dataframe thead th {\n        text-align: right;\n    }\n</style>\n<table border=\"1\" class=\"dataframe\">\n  <thead>\n    <tr style=\"text-align: right;\">\n      <th></th>\n      <th>First Name</th>\n      <th>Last Name</th>\n      <th>Age</th>\n    </tr>\n  </thead>\n  <tbody>\n    <tr>\n      <th>0</th>\n      <td>Taylor</td>\n      <td>Swift</td>\n      <td>34</td>\n    </tr>\n    <tr>\n      <th>1</th>\n      <td>John</td>\n      <td>Lennon</td>\n      <td>75</td>\n    </tr>\n    <tr>\n      <th>2</th>\n      <td>Fela</td>\n      <td>Kuti</td>\n      <td>83</td>\n    </tr>\n    <tr>\n      <th>3</th>\n      <td>Manu</td>\n      <td>Chau</td>\n      <td>82</td>\n    </tr>\n    <tr>\n      <th>4</th>\n      <td>Şebnem</td>\n      <td>Ferrah</td>\n      <td>76</td>\n    </tr>\n  </tbody>\n</table>\n</div>"
          },
          "metadata": {}
        }
      ],
      "outputs_reference": null,
      "execution_count": 5,
      "block_group": "fa18a983ccd246889fa8bf72cbdb4b95",
      "content_dependencies": null
    },
    {
      "cell_type": "code",
      "source": "musicians.dtypes",
      "metadata": {
        "tags": [],
        "slideshow": {
          "slide_type": "subslide"
        },
        "source_hash": "1ec2140c",
        "execution_start": 1730132647620,
        "execution_millis": 1,
        "execution_context_id": "7c89757c-8d24-40c2-891e-29eb8cc3b4ff",
        "cell_id": "bb6aba93e0cd4f0fb7747c5317eb872c",
        "deepnote_cell_type": "code"
      },
      "outputs": [
        {
          "output_type": "execute_result",
          "execution_count": 6,
          "data": {
            "text/plain": "First Name    object\nLast Name     object\nAge            int64\ndtype: object"
          },
          "metadata": {}
        }
      ],
      "outputs_reference": null,
      "execution_count": 6,
      "block_group": "504d146d76d7417cb5a54cf327c3fff4",
      "content_dependencies": null
    },
    {
      "cell_type": "code",
      "source": "musicians['Age'] = musicians['Age'].astype(int)",
      "metadata": {
        "tags": [],
        "slideshow": {
          "slide_type": "subslide"
        },
        "source_hash": "22c7a01d",
        "execution_start": 1730132647668,
        "execution_millis": 0,
        "execution_context_id": "7c89757c-8d24-40c2-891e-29eb8cc3b4ff",
        "cell_id": "bf772bb3446443bca2d568dc4ac6b186",
        "deepnote_cell_type": "code"
      },
      "outputs": [],
      "outputs_reference": null,
      "execution_count": 7,
      "block_group": "b170d991616745d7873631d48cf95b3e",
      "content_dependencies": null
    },
    {
      "cell_type": "code",
      "source": "musicians.dtypes",
      "metadata": {
        "tags": [],
        "slideshow": {
          "slide_type": "-"
        },
        "source_hash": "1ec2140c",
        "execution_start": 1730132647717,
        "execution_millis": 0,
        "execution_context_id": "7c89757c-8d24-40c2-891e-29eb8cc3b4ff",
        "cell_id": "e2ca99a74ef347c6a8b3b74c6f889141",
        "deepnote_cell_type": "code"
      },
      "outputs": [
        {
          "output_type": "execute_result",
          "execution_count": 8,
          "data": {
            "text/plain": "First Name    object\nLast Name     object\nAge            int64\ndtype: object"
          },
          "metadata": {}
        }
      ],
      "outputs_reference": null,
      "execution_count": 8,
      "block_group": "c037f8647df348d69152539e02f7c19d",
      "content_dependencies": null
    },
    {
      "cell_type": "markdown",
      "source": "* To create a new [`DataFrame`](https://pandas.pydata.org/docs/reference/api/pandas.DataFrame.html)\n```python\ndf = pd.DataFrame(a_list_of_series_or_raw_data,\n                  columns=list_with_column_names,\n                  index=list_of_indices_if_you_need).T\n```",
      "metadata": {
        "tags": [],
        "slideshow": {
          "slide_type": "subslide"
        },
        "user_expressions": [],
        "cell_id": "fe45b1c9e63c42c8a31726b9a7cdb238",
        "deepnote_cell_type": "markdown"
      },
      "block_group": "d491217799df4e9d8f707113739f90d6"
    },
    {
      "cell_type": "code",
      "source": "musicians = pd.DataFrame([first_names, last_names, age]).T\nmusicians",
      "metadata": {
        "tags": [],
        "slideshow": {
          "slide_type": "subslide"
        },
        "source_hash": "c79cb88d",
        "execution_start": 1730132647785,
        "execution_millis": 0,
        "execution_context_id": "7c89757c-8d24-40c2-891e-29eb8cc3b4ff",
        "cell_id": "34e6077806344c83be3e79efc28240d8",
        "deepnote_cell_type": "code"
      },
      "outputs": [
        {
          "output_type": "execute_result",
          "execution_count": 9,
          "data": {
            "application/vnd.deepnote.dataframe.v3+json": {
              "column_count": 3,
              "row_count": 5,
              "columns": [
                {
                  "name": "First Name",
                  "dtype": "object",
                  "stats": {
                    "unique_count": 5,
                    "nan_count": 0,
                    "categories": [
                      {
                        "name": "Taylor",
                        "count": 1
                      },
                      {
                        "name": "John",
                        "count": 1
                      },
                      {
                        "name": "3 others",
                        "count": 3
                      }
                    ]
                  }
                },
                {
                  "name": "Last Name",
                  "dtype": "object",
                  "stats": {
                    "unique_count": 5,
                    "nan_count": 0,
                    "categories": [
                      {
                        "name": "Swift",
                        "count": 1
                      },
                      {
                        "name": "Lennon",
                        "count": 1
                      },
                      {
                        "name": "3 others",
                        "count": 3
                      }
                    ]
                  }
                },
                {
                  "name": "Age",
                  "dtype": "object",
                  "stats": {
                    "unique_count": 5,
                    "nan_count": 0,
                    "categories": [
                      {
                        "name": "34",
                        "count": 1
                      },
                      {
                        "name": "75",
                        "count": 1
                      },
                      {
                        "name": "3 others",
                        "count": 3
                      }
                    ]
                  }
                },
                {
                  "name": "_deepnote_index_column",
                  "dtype": "int64"
                }
              ],
              "rows": [
                {
                  "First Name": "Taylor",
                  "Last Name": "Swift",
                  "Age": "34",
                  "_deepnote_index_column": 0
                },
                {
                  "First Name": "John",
                  "Last Name": "Lennon",
                  "Age": "75",
                  "_deepnote_index_column": 1
                },
                {
                  "First Name": "Fela",
                  "Last Name": "Kuti",
                  "Age": "83",
                  "_deepnote_index_column": 2
                },
                {
                  "First Name": "Manu",
                  "Last Name": "Chau",
                  "Age": "82",
                  "_deepnote_index_column": 3
                },
                {
                  "First Name": "Şebnem",
                  "Last Name": "Ferrah",
                  "Age": "76",
                  "_deepnote_index_column": 4
                }
              ]
            },
            "text/plain": "  First Name Last Name Age\n0     Taylor     Swift  34\n1       John    Lennon  75\n2       Fela      Kuti  83\n3       Manu      Chau  82\n4     Şebnem    Ferrah  76",
            "text/html": "<div>\n<style scoped>\n    .dataframe tbody tr th:only-of-type {\n        vertical-align: middle;\n    }\n\n    .dataframe tbody tr th {\n        vertical-align: top;\n    }\n\n    .dataframe thead th {\n        text-align: right;\n    }\n</style>\n<table border=\"1\" class=\"dataframe\">\n  <thead>\n    <tr style=\"text-align: right;\">\n      <th></th>\n      <th>First Name</th>\n      <th>Last Name</th>\n      <th>Age</th>\n    </tr>\n  </thead>\n  <tbody>\n    <tr>\n      <th>0</th>\n      <td>Taylor</td>\n      <td>Swift</td>\n      <td>34</td>\n    </tr>\n    <tr>\n      <th>1</th>\n      <td>John</td>\n      <td>Lennon</td>\n      <td>75</td>\n    </tr>\n    <tr>\n      <th>2</th>\n      <td>Fela</td>\n      <td>Kuti</td>\n      <td>83</td>\n    </tr>\n    <tr>\n      <th>3</th>\n      <td>Manu</td>\n      <td>Chau</td>\n      <td>82</td>\n    </tr>\n    <tr>\n      <th>4</th>\n      <td>Şebnem</td>\n      <td>Ferrah</td>\n      <td>76</td>\n    </tr>\n  </tbody>\n</table>\n</div>"
          },
          "metadata": {}
        }
      ],
      "outputs_reference": null,
      "execution_count": 9,
      "block_group": "d3d525021dcc4dbd8e722529e7ad48eb",
      "content_dependencies": null
    },
    {
      "cell_type": "code",
      "source": "musicians.dtypes",
      "metadata": {
        "tags": [],
        "slideshow": {
          "slide_type": "subslide"
        },
        "source_hash": "1ec2140c",
        "execution_start": 1730132647836,
        "execution_millis": 1,
        "execution_context_id": "7c89757c-8d24-40c2-891e-29eb8cc3b4ff",
        "cell_id": "d848e6fe4cfe4714a223a83440cd9c13",
        "deepnote_cell_type": "code"
      },
      "outputs": [
        {
          "output_type": "execute_result",
          "execution_count": 10,
          "data": {
            "text/plain": "First Name    object\nLast Name     object\nAge           object\ndtype: object"
          },
          "metadata": {}
        }
      ],
      "outputs_reference": null,
      "execution_count": 10,
      "block_group": "5592fa8007c64716af76c8d84c043d8e",
      "content_dependencies": null
    },
    {
      "cell_type": "code",
      "source": "musicians['Age'] = musicians['Age'].astype(int)",
      "metadata": {
        "tags": [],
        "slideshow": {
          "slide_type": "subslide"
        },
        "source_hash": "22c7a01d",
        "execution_start": 1730132647884,
        "execution_millis": 0,
        "execution_context_id": "7c89757c-8d24-40c2-891e-29eb8cc3b4ff",
        "cell_id": "44546f125fda4b039546ffd755da341e",
        "deepnote_cell_type": "code"
      },
      "outputs": [],
      "outputs_reference": null,
      "execution_count": 11,
      "block_group": "e398a78459d94f2c8cd800bcee110d7b",
      "content_dependencies": null
    },
    {
      "cell_type": "code",
      "source": "musicians.dtypes",
      "metadata": {
        "tags": [],
        "slideshow": {
          "slide_type": "-"
        },
        "source_hash": "1ec2140c",
        "execution_start": 1730132647932,
        "execution_millis": 1,
        "execution_context_id": "7c89757c-8d24-40c2-891e-29eb8cc3b4ff",
        "cell_id": "f726d42a6c234adaa7998d05d36a282d",
        "deepnote_cell_type": "code"
      },
      "outputs": [
        {
          "output_type": "execute_result",
          "execution_count": 12,
          "data": {
            "text/plain": "First Name    object\nLast Name     object\nAge            int64\ndtype: object"
          },
          "metadata": {}
        }
      ],
      "outputs_reference": null,
      "execution_count": 12,
      "block_group": "af82181ca97549ec90d536ab9d3cb805",
      "content_dependencies": null
    },
    {
      "cell_type": "markdown",
      "source": "* To create a new [`DataFrame`](https://pandas.pydata.org/docs/reference/api/pandas.DataFrame.html)\n```python\ndf = pd.DataFrame(a_list_of_series_or_raw_data,\n                  columns=list_with_column_names,\n                  index=list_of_indices_if_you_need).T\n```",
      "metadata": {
        "tags": [],
        "slideshow": {
          "slide_type": "subslide"
        },
        "user_expressions": [],
        "cell_id": "75cdbc621a644299875b16db772146b8",
        "deepnote_cell_type": "markdown"
      },
      "block_group": "8e3ab5fac43b4860b7c58206db0bc66f"
    },
    {
      "cell_type": "code",
      "source": "random_data = pd.DataFrame(np.random.normal(size=(5,3)), columns=['Random Series 1', 'Random Series 2', 'Random Series 3'])\nrandom_data",
      "metadata": {
        "tags": [],
        "slideshow": {
          "slide_type": "subslide"
        },
        "source_hash": "93da19db",
        "execution_start": 1730132647992,
        "execution_millis": 1,
        "execution_context_id": "7c89757c-8d24-40c2-891e-29eb8cc3b4ff",
        "cell_id": "d282c5583e71414f938a6e76818e05cb",
        "deepnote_cell_type": "code"
      },
      "outputs": [
        {
          "output_type": "execute_result",
          "execution_count": 13,
          "data": {
            "application/vnd.deepnote.dataframe.v3+json": {
              "column_count": 3,
              "row_count": 5,
              "columns": [
                {
                  "name": "Random Series 1",
                  "dtype": "float64",
                  "stats": {
                    "unique_count": 5,
                    "nan_count": 0,
                    "min": "-1.9868311237108258",
                    "max": "0.4743475731571014",
                    "histogram": [
                      {
                        "bin_start": -1.9868311237108258,
                        "bin_end": -1.740713254024033,
                        "count": 1
                      },
                      {
                        "bin_start": -1.740713254024033,
                        "bin_end": -1.4945953843372404,
                        "count": 0
                      },
                      {
                        "bin_start": -1.4945953843372404,
                        "bin_end": -1.2484775146504477,
                        "count": 0
                      },
                      {
                        "bin_start": -1.2484775146504477,
                        "bin_end": -1.002359644963655,
                        "count": 1
                      },
                      {
                        "bin_start": -1.002359644963655,
                        "bin_end": -0.7562417752768622,
                        "count": 0
                      },
                      {
                        "bin_start": -0.7562417752768622,
                        "bin_end": -0.5101239055900695,
                        "count": 0
                      },
                      {
                        "bin_start": -0.5101239055900695,
                        "bin_end": -0.26400603590327676,
                        "count": 0
                      },
                      {
                        "bin_start": -0.26400603590327676,
                        "bin_end": -0.017888166216484036,
                        "count": 1
                      },
                      {
                        "bin_start": -0.017888166216484036,
                        "bin_end": 0.2282297034703087,
                        "count": 0
                      },
                      {
                        "bin_start": 0.2282297034703087,
                        "bin_end": 0.4743475731571014,
                        "count": 2
                      }
                    ]
                  }
                },
                {
                  "name": "Random Series 2",
                  "dtype": "float64",
                  "stats": {
                    "unique_count": 5,
                    "nan_count": 0,
                    "min": "-2.173146972788413",
                    "max": "1.3851733306983764",
                    "histogram": [
                      {
                        "bin_start": -2.173146972788413,
                        "bin_end": -1.817314942439734,
                        "count": 1
                      },
                      {
                        "bin_start": -1.817314942439734,
                        "bin_end": -1.461482912091055,
                        "count": 0
                      },
                      {
                        "bin_start": -1.461482912091055,
                        "bin_end": -1.1056508817423762,
                        "count": 1
                      },
                      {
                        "bin_start": -1.1056508817423762,
                        "bin_end": -0.7498188513936972,
                        "count": 0
                      },
                      {
                        "bin_start": -0.7498188513936972,
                        "bin_end": -0.39398682104501814,
                        "count": 0
                      },
                      {
                        "bin_start": -0.39398682104501814,
                        "bin_end": -0.038154790696339536,
                        "count": 1
                      },
                      {
                        "bin_start": -0.038154790696339536,
                        "bin_end": 0.3176772396523395,
                        "count": 0
                      },
                      {
                        "bin_start": 0.3176772396523395,
                        "bin_end": 0.6735092700010186,
                        "count": 0
                      },
                      {
                        "bin_start": 0.6735092700010186,
                        "bin_end": 1.0293413003496976,
                        "count": 1
                      },
                      {
                        "bin_start": 1.0293413003496976,
                        "bin_end": 1.3851733306983764,
                        "count": 1
                      }
                    ]
                  }
                },
                {
                  "name": "Random Series 3",
                  "dtype": "float64",
                  "stats": {
                    "unique_count": 5,
                    "nan_count": 0,
                    "min": "-0.6649514935634256",
                    "max": "0.736309151744298",
                    "histogram": [
                      {
                        "bin_start": -0.6649514935634256,
                        "bin_end": -0.5248254290326533,
                        "count": 3
                      },
                      {
                        "bin_start": -0.5248254290326533,
                        "bin_end": -0.3846993645018809,
                        "count": 0
                      },
                      {
                        "bin_start": -0.3846993645018809,
                        "bin_end": -0.24457329997110855,
                        "count": 0
                      },
                      {
                        "bin_start": -0.24457329997110855,
                        "bin_end": -0.10444723544033618,
                        "count": 0
                      },
                      {
                        "bin_start": -0.10444723544033618,
                        "bin_end": 0.03567882909043618,
                        "count": 0
                      },
                      {
                        "bin_start": 0.03567882909043618,
                        "bin_end": 0.17580489362120855,
                        "count": 0
                      },
                      {
                        "bin_start": 0.17580489362120855,
                        "bin_end": 0.3159309581519809,
                        "count": 1
                      },
                      {
                        "bin_start": 0.3159309581519809,
                        "bin_end": 0.4560570226827533,
                        "count": 0
                      },
                      {
                        "bin_start": 0.4560570226827533,
                        "bin_end": 0.5961830872135255,
                        "count": 0
                      },
                      {
                        "bin_start": 0.5961830872135255,
                        "bin_end": 0.736309151744298,
                        "count": 1
                      }
                    ]
                  }
                },
                {
                  "name": "_deepnote_index_column",
                  "dtype": "int64"
                }
              ],
              "rows": [
                {
                  "Random Series 1": -0.25430917557981186,
                  "Random Series 2": 0.8196402466448417,
                  "Random Series 3": -0.589863052403182,
                  "_deepnote_index_column": 0
                },
                {
                  "Random Series 1": -1.9868311237108258,
                  "Random Series 2": -2.173146972788413,
                  "Random Series 3": 0.736309151744298,
                  "_deepnote_index_column": 1
                },
                {
                  "Random Series 1": -1.066292612382013,
                  "Random Series 2": -0.14964028327640952,
                  "Random Series 3": 0.25585576211365385,
                  "_deepnote_index_column": 2
                },
                {
                  "Random Series 1": 0.2873919634407392,
                  "Random Series 2": -1.2185272353065746,
                  "Random Series 3": -0.6649514935634256,
                  "_deepnote_index_column": 3
                },
                {
                  "Random Series 1": 0.4743475731571014,
                  "Random Series 2": 1.3851733306983764,
                  "Random Series 3": -0.5639328903255161,
                  "_deepnote_index_column": 4
                }
              ]
            },
            "text/plain": "   Random Series 1  Random Series 2  Random Series 3\n0        -0.254309         0.819640        -0.589863\n1        -1.986831        -2.173147         0.736309\n2        -1.066293        -0.149640         0.255856\n3         0.287392        -1.218527        -0.664951\n4         0.474348         1.385173        -0.563933",
            "text/html": "<div>\n<style scoped>\n    .dataframe tbody tr th:only-of-type {\n        vertical-align: middle;\n    }\n\n    .dataframe tbody tr th {\n        vertical-align: top;\n    }\n\n    .dataframe thead th {\n        text-align: right;\n    }\n</style>\n<table border=\"1\" class=\"dataframe\">\n  <thead>\n    <tr style=\"text-align: right;\">\n      <th></th>\n      <th>Random Series 1</th>\n      <th>Random Series 2</th>\n      <th>Random Series 3</th>\n    </tr>\n  </thead>\n  <tbody>\n    <tr>\n      <th>0</th>\n      <td>-0.254309</td>\n      <td>0.819640</td>\n      <td>-0.589863</td>\n    </tr>\n    <tr>\n      <th>1</th>\n      <td>-1.986831</td>\n      <td>-2.173147</td>\n      <td>0.736309</td>\n    </tr>\n    <tr>\n      <th>2</th>\n      <td>-1.066293</td>\n      <td>-0.149640</td>\n      <td>0.255856</td>\n    </tr>\n    <tr>\n      <th>3</th>\n      <td>0.287392</td>\n      <td>-1.218527</td>\n      <td>-0.664951</td>\n    </tr>\n    <tr>\n      <th>4</th>\n      <td>0.474348</td>\n      <td>1.385173</td>\n      <td>-0.563933</td>\n    </tr>\n  </tbody>\n</table>\n</div>"
          },
          "metadata": {}
        }
      ],
      "outputs_reference": null,
      "execution_count": 13,
      "block_group": "cd7d30a350d74978a7150f87618e072e",
      "content_dependencies": null
    },
    {
      "cell_type": "markdown",
      "source": "# Import and Export Data",
      "metadata": {
        "slideshow": {
          "slide_type": "subslide"
        },
        "user_expressions": [],
        "cell_id": "c64038fc2a4347c19ede17918d190a4a",
        "deepnote_cell_type": "markdown"
      },
      "block_group": "d37b0be8fe19422ebe6ddf6398e20923"
    },
    {
      "cell_type": "markdown",
      "source": "<center><a href=\"https://pandas.pydata.org/docs/getting_started/intro_tutorials/02_read_write.html#min-tut-02-read-write\"><img src=\"https://raw.githubusercontent.com/SMU-Econ-Growth/EconGrowthUG-Notebooks/c004a90a03c3633fd05cdbce96647e229fdc21d8/pics/02_io_readwrite.svg\" alt=\"Pandas\" width=700/></center>",
      "metadata": {
        "tags": [],
        "slideshow": {
          "slide_type": "-"
        },
        "user_expressions": [],
        "cell_id": "474b7f8033c54a10bc5fca6690759120",
        "deepnote_cell_type": "markdown"
      },
      "block_group": "65554e6392cc4d78a31ebba2392789f6"
    },
    {
      "cell_type": "markdown",
      "source": "# Import Existing Data",
      "metadata": {
        "slideshow": {
          "slide_type": "subslide"
        },
        "user_expressions": [],
        "cell_id": "34836a48d9fd40679d45b96962474fec",
        "deepnote_cell_type": "markdown"
      },
      "block_group": "b56ee6b1d48741c8bcda789e4049251b"
    },
    {
      "cell_type": "markdown",
      "source": "**pandas** supports the integration with many file formats or data sources\n* csv\n* excel\n* sql\n* json\n* parquet\n* Stata\n* HTML",
      "metadata": {
        "slideshow": {
          "slide_type": "fragment"
        },
        "user_expressions": [],
        "cell_id": "154c997a3f144f3584dfa6c7ba7039f6",
        "deepnote_cell_type": "markdown"
      },
      "block_group": "2c5bf11b4930439ebc1b4b0773bbd59e"
    },
    {
      "cell_type": "markdown",
      "source": "To import data in a specific format you use the function with the prefix `read_*`, e.g.,  \n* csv: [`pd.read_csv(path_to_file, other options and settings)`](https://pandas.pydata.org/docs/reference/api/pandas.read_csv.html)\n* excel: [`pd.read_excel(path_to_file, other options and settings)`](https://pandas.pydata.org/docs/reference/api/pandas.read_excel.html)\n* stata: [`pd.read_stata(path_to_file, other options and settings)`](https://pandas.pydata.org/docs/reference/api/pandas.read_stata.html)\n* html: [`pd.read_html(url_or_path_to_file, other options and settings)`](https://pandas.pydata.org/docs/reference/api/pandas.read_html.html)",
      "metadata": {
        "tags": [],
        "slideshow": {
          "slide_type": "subslide"
        },
        "user_expressions": [],
        "cell_id": "0e57c23236c54d318b89761d3732200f",
        "deepnote_cell_type": "markdown"
      },
      "block_group": "2d0b9b5aaf2b4ef1b338edd9a8e2b1fc"
    },
    {
      "cell_type": "markdown",
      "source": "# Export Data",
      "metadata": {
        "slideshow": {
          "slide_type": "subslide"
        },
        "user_expressions": [],
        "cell_id": "98c970214769499abefc3512016ebf44",
        "deepnote_cell_type": "markdown"
      },
      "block_group": "271ec060351b46d49bf42cb7730b2aed"
    },
    {
      "cell_type": "markdown",
      "source": "To export data in a specific format you use the function with the prefix `to_*`, e.g.,  \n* csv: [`pd.to_csv(path_to_file, other options and settings)`](https://pandas.pydata.org/docs/reference/api/pandas.DataFrame.to_csv.html)\n* excel: [`pd.to_excel(path_to_file, other options and settings)`](https://pandas.pydata.org/docs/reference/api/pandas.DataFrame.to_excel.html)\n* stata: [`pd.to_stata(path_to_file, other options and settings)`](https://pandas.pydata.org/docs/reference/api/pandas.DataFrame.to_stata.html)",
      "metadata": {
        "tags": [],
        "slideshow": {
          "slide_type": "fragment"
        },
        "user_expressions": [],
        "cell_id": "be04b50533374aa8b0f316154bd9c1b1",
        "deepnote_cell_type": "markdown"
      },
      "block_group": "d6c8b87e97844c94a940c1893b76ec6f"
    },
    {
      "cell_type": "markdown",
      "source": "## Let's write our dataframe to file (try different formats)",
      "metadata": {
        "tags": [],
        "slideshow": {
          "slide_type": "subslide"
        },
        "user_expressions": [],
        "cell_id": "07b32cd77819459eaa03855b44585dff",
        "deepnote_cell_type": "markdown"
      },
      "block_group": "c22b2adf46094687bcb2f5a029640337"
    },
    {
      "cell_type": "code",
      "source": "pathout = './data/'\nmusicians.to_csv(pathout + 'musicians.csv', encoding='utf8', index=False)\nmusicians.to_excel(pathout + 'musicians.xlsx', index=False)",
      "metadata": {
        "tags": [],
        "slideshow": {
          "slide_type": "-"
        },
        "source_hash": "398157c1",
        "execution_start": 1730132648041,
        "execution_millis": 486,
        "execution_context_id": "7c89757c-8d24-40c2-891e-29eb8cc3b4ff",
        "cell_id": "87a0cd6a4707409e8c1d38b4dc2e3080",
        "deepnote_cell_type": "code"
      },
      "outputs": [],
      "outputs_reference": null,
      "execution_count": 14,
      "block_group": "19b165791f60468ab56dd2d993ca7a6f",
      "content_dependencies": null
    },
    {
      "cell_type": "markdown",
      "source": "## Let's read our dataframe from file (try different formats) and put it into different dataframes",
      "metadata": {
        "tags": [],
        "slideshow": {
          "slide_type": "subslide"
        },
        "user_expressions": [],
        "cell_id": "b8afa2a7e2e14b5790dfcd7573842888",
        "deepnote_cell_type": "markdown"
      },
      "block_group": "1a8ae40707874dd5acfffec1416c8e9f"
    },
    {
      "cell_type": "code",
      "source": "pathout = './data/'\nmusicians_csv = pd.read_csv(pathout + 'musicians.csv', encoding='utf8')\nmusicians_csv",
      "metadata": {
        "tags": [],
        "slideshow": {
          "slide_type": "-"
        },
        "source_hash": "68aabbad",
        "execution_start": 1730132648572,
        "execution_millis": 122,
        "execution_context_id": "7c89757c-8d24-40c2-891e-29eb8cc3b4ff",
        "cell_id": "75f43c234eb947ec8ba17ceb02068945",
        "deepnote_cell_type": "code"
      },
      "outputs": [
        {
          "output_type": "execute_result",
          "execution_count": 15,
          "data": {
            "application/vnd.deepnote.dataframe.v3+json": {
              "column_count": 3,
              "row_count": 5,
              "columns": [
                {
                  "name": "First Name",
                  "dtype": "object",
                  "stats": {
                    "unique_count": 5,
                    "nan_count": 0,
                    "categories": [
                      {
                        "name": "Taylor",
                        "count": 1
                      },
                      {
                        "name": "John",
                        "count": 1
                      },
                      {
                        "name": "3 others",
                        "count": 3
                      }
                    ]
                  }
                },
                {
                  "name": "Last Name",
                  "dtype": "object",
                  "stats": {
                    "unique_count": 5,
                    "nan_count": 0,
                    "categories": [
                      {
                        "name": "Swift",
                        "count": 1
                      },
                      {
                        "name": "Lennon",
                        "count": 1
                      },
                      {
                        "name": "3 others",
                        "count": 3
                      }
                    ]
                  }
                },
                {
                  "name": "Age",
                  "dtype": "int64",
                  "stats": {
                    "unique_count": 5,
                    "nan_count": 0,
                    "min": "34",
                    "max": "83",
                    "histogram": [
                      {
                        "bin_start": 34,
                        "bin_end": 38.9,
                        "count": 1
                      },
                      {
                        "bin_start": 38.9,
                        "bin_end": 43.8,
                        "count": 0
                      },
                      {
                        "bin_start": 43.8,
                        "bin_end": 48.7,
                        "count": 0
                      },
                      {
                        "bin_start": 48.7,
                        "bin_end": 53.6,
                        "count": 0
                      },
                      {
                        "bin_start": 53.6,
                        "bin_end": 58.5,
                        "count": 0
                      },
                      {
                        "bin_start": 58.5,
                        "bin_end": 63.400000000000006,
                        "count": 0
                      },
                      {
                        "bin_start": 63.400000000000006,
                        "bin_end": 68.30000000000001,
                        "count": 0
                      },
                      {
                        "bin_start": 68.30000000000001,
                        "bin_end": 73.2,
                        "count": 0
                      },
                      {
                        "bin_start": 73.2,
                        "bin_end": 78.1,
                        "count": 2
                      },
                      {
                        "bin_start": 78.1,
                        "bin_end": 83,
                        "count": 2
                      }
                    ]
                  }
                },
                {
                  "name": "_deepnote_index_column",
                  "dtype": "int64"
                }
              ],
              "rows": [
                {
                  "First Name": "Taylor",
                  "Last Name": "Swift",
                  "Age": 34,
                  "_deepnote_index_column": 0
                },
                {
                  "First Name": "John",
                  "Last Name": "Lennon",
                  "Age": 75,
                  "_deepnote_index_column": 1
                },
                {
                  "First Name": "Fela",
                  "Last Name": "Kuti",
                  "Age": 83,
                  "_deepnote_index_column": 2
                },
                {
                  "First Name": "Manu",
                  "Last Name": "Chau",
                  "Age": 82,
                  "_deepnote_index_column": 3
                },
                {
                  "First Name": "Şebnem",
                  "Last Name": "Ferrah",
                  "Age": 76,
                  "_deepnote_index_column": 4
                }
              ]
            },
            "text/plain": "  First Name Last Name  Age\n0     Taylor     Swift   34\n1       John    Lennon   75\n2       Fela      Kuti   83\n3       Manu      Chau   82\n4     Şebnem    Ferrah   76",
            "text/html": "<div>\n<style scoped>\n    .dataframe tbody tr th:only-of-type {\n        vertical-align: middle;\n    }\n\n    .dataframe tbody tr th {\n        vertical-align: top;\n    }\n\n    .dataframe thead th {\n        text-align: right;\n    }\n</style>\n<table border=\"1\" class=\"dataframe\">\n  <thead>\n    <tr style=\"text-align: right;\">\n      <th></th>\n      <th>First Name</th>\n      <th>Last Name</th>\n      <th>Age</th>\n    </tr>\n  </thead>\n  <tbody>\n    <tr>\n      <th>0</th>\n      <td>Taylor</td>\n      <td>Swift</td>\n      <td>34</td>\n    </tr>\n    <tr>\n      <th>1</th>\n      <td>John</td>\n      <td>Lennon</td>\n      <td>75</td>\n    </tr>\n    <tr>\n      <th>2</th>\n      <td>Fela</td>\n      <td>Kuti</td>\n      <td>83</td>\n    </tr>\n    <tr>\n      <th>3</th>\n      <td>Manu</td>\n      <td>Chau</td>\n      <td>82</td>\n    </tr>\n    <tr>\n      <th>4</th>\n      <td>Şebnem</td>\n      <td>Ferrah</td>\n      <td>76</td>\n    </tr>\n  </tbody>\n</table>\n</div>"
          },
          "metadata": {}
        }
      ],
      "outputs_reference": null,
      "execution_count": 15,
      "block_group": "103f336adb704ae69997afe636cdb887",
      "content_dependencies": null
    },
    {
      "cell_type": "code",
      "source": "musicians_excel = pd.read_excel(pathout + 'musicians.xlsx')\nmusicians_excel",
      "metadata": {
        "tags": [],
        "slideshow": {
          "slide_type": "subslide"
        },
        "source_hash": "6ac25dee",
        "execution_start": 1730132648736,
        "execution_millis": 184,
        "execution_context_id": "7c89757c-8d24-40c2-891e-29eb8cc3b4ff",
        "cell_id": "855a53f6ebc14aefb58a5cc23922fb2d",
        "deepnote_cell_type": "code"
      },
      "outputs": [
        {
          "output_type": "execute_result",
          "execution_count": 16,
          "data": {
            "application/vnd.deepnote.dataframe.v3+json": {
              "column_count": 3,
              "row_count": 5,
              "columns": [
                {
                  "name": "First Name",
                  "dtype": "object",
                  "stats": {
                    "unique_count": 5,
                    "nan_count": 0,
                    "categories": [
                      {
                        "name": "Taylor",
                        "count": 1
                      },
                      {
                        "name": "John",
                        "count": 1
                      },
                      {
                        "name": "3 others",
                        "count": 3
                      }
                    ]
                  }
                },
                {
                  "name": "Last Name",
                  "dtype": "object",
                  "stats": {
                    "unique_count": 5,
                    "nan_count": 0,
                    "categories": [
                      {
                        "name": "Swift",
                        "count": 1
                      },
                      {
                        "name": "Lennon",
                        "count": 1
                      },
                      {
                        "name": "3 others",
                        "count": 3
                      }
                    ]
                  }
                },
                {
                  "name": "Age",
                  "dtype": "int64",
                  "stats": {
                    "unique_count": 5,
                    "nan_count": 0,
                    "min": "34",
                    "max": "83",
                    "histogram": [
                      {
                        "bin_start": 34,
                        "bin_end": 38.9,
                        "count": 1
                      },
                      {
                        "bin_start": 38.9,
                        "bin_end": 43.8,
                        "count": 0
                      },
                      {
                        "bin_start": 43.8,
                        "bin_end": 48.7,
                        "count": 0
                      },
                      {
                        "bin_start": 48.7,
                        "bin_end": 53.6,
                        "count": 0
                      },
                      {
                        "bin_start": 53.6,
                        "bin_end": 58.5,
                        "count": 0
                      },
                      {
                        "bin_start": 58.5,
                        "bin_end": 63.400000000000006,
                        "count": 0
                      },
                      {
                        "bin_start": 63.400000000000006,
                        "bin_end": 68.30000000000001,
                        "count": 0
                      },
                      {
                        "bin_start": 68.30000000000001,
                        "bin_end": 73.2,
                        "count": 0
                      },
                      {
                        "bin_start": 73.2,
                        "bin_end": 78.1,
                        "count": 2
                      },
                      {
                        "bin_start": 78.1,
                        "bin_end": 83,
                        "count": 2
                      }
                    ]
                  }
                },
                {
                  "name": "_deepnote_index_column",
                  "dtype": "int64"
                }
              ],
              "rows": [
                {
                  "First Name": "Taylor",
                  "Last Name": "Swift",
                  "Age": 34,
                  "_deepnote_index_column": 0
                },
                {
                  "First Name": "John",
                  "Last Name": "Lennon",
                  "Age": 75,
                  "_deepnote_index_column": 1
                },
                {
                  "First Name": "Fela",
                  "Last Name": "Kuti",
                  "Age": 83,
                  "_deepnote_index_column": 2
                },
                {
                  "First Name": "Manu",
                  "Last Name": "Chau",
                  "Age": 82,
                  "_deepnote_index_column": 3
                },
                {
                  "First Name": "Şebnem",
                  "Last Name": "Ferrah",
                  "Age": 76,
                  "_deepnote_index_column": 4
                }
              ]
            },
            "text/plain": "  First Name Last Name  Age\n0     Taylor     Swift   34\n1       John    Lennon   75\n2       Fela      Kuti   83\n3       Manu      Chau   82\n4     Şebnem    Ferrah   76",
            "text/html": "<div>\n<style scoped>\n    .dataframe tbody tr th:only-of-type {\n        vertical-align: middle;\n    }\n\n    .dataframe tbody tr th {\n        vertical-align: top;\n    }\n\n    .dataframe thead th {\n        text-align: right;\n    }\n</style>\n<table border=\"1\" class=\"dataframe\">\n  <thead>\n    <tr style=\"text-align: right;\">\n      <th></th>\n      <th>First Name</th>\n      <th>Last Name</th>\n      <th>Age</th>\n    </tr>\n  </thead>\n  <tbody>\n    <tr>\n      <th>0</th>\n      <td>Taylor</td>\n      <td>Swift</td>\n      <td>34</td>\n    </tr>\n    <tr>\n      <th>1</th>\n      <td>John</td>\n      <td>Lennon</td>\n      <td>75</td>\n    </tr>\n    <tr>\n      <th>2</th>\n      <td>Fela</td>\n      <td>Kuti</td>\n      <td>83</td>\n    </tr>\n    <tr>\n      <th>3</th>\n      <td>Manu</td>\n      <td>Chau</td>\n      <td>82</td>\n    </tr>\n    <tr>\n      <th>4</th>\n      <td>Şebnem</td>\n      <td>Ferrah</td>\n      <td>76</td>\n    </tr>\n  </tbody>\n</table>\n</div>"
          },
          "metadata": {}
        }
      ],
      "outputs_reference": null,
      "execution_count": 16,
      "block_group": "3109bde6e30c45a19e48dc25ec9d44ed",
      "content_dependencies": null
    },
    {
      "cell_type": "markdown",
      "source": "# Create New Columns/Variables",
      "metadata": {
        "tags": [],
        "slideshow": {
          "slide_type": "slide"
        },
        "user_expressions": [],
        "cell_id": "07637bc7e8df4312990aeef92409dd67",
        "deepnote_cell_type": "markdown"
      },
      "block_group": "528db3c9ef9f4374aa8ad4016c735f0e"
    },
    {
      "cell_type": "markdown",
      "source": "<center><a href=\"https://pandas.pydata.org/docs/getting_started/intro_tutorials/05_add_columns.html#min-tut-05-columns\"><img src=\"https://raw.githubusercontent.com/SMU-Econ-Growth/EconGrowthUG-Notebooks/c004a90a03c3633fd05cdbce96647e229fdc21d8/pics/05_newcolumn_2.svg\" alt=\"New Columns\" width=700/></a></center>",
      "metadata": {
        "tags": [],
        "slideshow": {
          "slide_type": "-"
        },
        "user_expressions": [],
        "cell_id": "974131c0a888483f8361a3fd2fc28191",
        "deepnote_cell_type": "markdown"
      },
      "block_group": "6c479738a0104852935e894208c70769"
    },
    {
      "cell_type": "markdown",
      "source": "# From Other Columns/Variables",
      "metadata": {
        "tags": [],
        "slideshow": {
          "slide_type": "subslide"
        },
        "user_expressions": [],
        "cell_id": "10d19d57692641b4a3b98152e029456c",
        "deepnote_cell_type": "markdown"
      },
      "block_group": "61f98912623e44febd003499bf535409"
    },
    {
      "cell_type": "markdown",
      "source": "* To create a new column in a dataframe from other columns in the dataframe just perform any operations on the existing variables",
      "metadata": {
        "tags": [],
        "slideshow": {
          "slide_type": "fragment"
        },
        "user_expressions": [],
        "cell_id": "bf785e8414ea450f9741274d9acf0982",
        "deepnote_cell_type": "markdown"
      },
      "block_group": "34262e9048f940ae91321a48ef82ccd1"
    },
    {
      "cell_type": "markdown",
      "source": "* All operations are performed across all rows",
      "metadata": {
        "tags": [],
        "slideshow": {
          "slide_type": "fragment"
        },
        "user_expressions": [],
        "cell_id": "1c100a0dcd9742ff830779eea2d6c59b",
        "deepnote_cell_type": "markdown"
      },
      "block_group": "fa4eb5f0c4c242e79456f89900ef0c98"
    },
    {
      "cell_type": "markdown",
      "source": "* E.g., to create the new variable $Y$ defined as $Y=2\\cdot X^2-\\ln(Z)$, where $X$ and $Z$ are existing variables\n```python\ndf['Y'] = 2 * df['X']**2 - df['Z'].apply(np.log)\n```",
      "metadata": {
        "tags": [],
        "slideshow": {
          "slide_type": "fragment"
        },
        "user_expressions": [],
        "cell_id": "cc053cfbe86d4fbeacd0d7f80b29bd1e",
        "deepnote_cell_type": "markdown"
      },
      "block_group": "084fca54763947d29e7db2314988e320"
    },
    {
      "cell_type": "markdown",
      "source": "# From a `list` or `numpy.array`",
      "metadata": {
        "tags": [],
        "slideshow": {
          "slide_type": "subslide"
        },
        "user_expressions": [],
        "cell_id": "10d7bb21586f4ec8b9491c01d0f3cc8c",
        "deepnote_cell_type": "markdown"
      },
      "block_group": "9a501111d2dc489788b1192828b09ba1"
    },
    {
      "cell_type": "markdown",
      "source": "* To create a new column in the dataframe from a list or array, just define the new column to be equal to the list or array\n```python\ndf['new variable'] = list_or_array\n```",
      "metadata": {
        "slideshow": {
          "slide_type": "fragment"
        },
        "user_expressions": [],
        "cell_id": "90a347cb52b346ee8658442983e0f582",
        "deepnote_cell_type": "markdown"
      },
      "block_group": "1c828b4a043c4e61b57b9505e780d695"
    },
    {
      "cell_type": "markdown",
      "source": "<div class=\"alert alert-block alert-danger\">\n<b>Careful:</b> The list or array must have the same dimension as the dataframe. Check it using <code>df.shape</code> and <code>array.shape</code> or <code>len(list)</code>\n</div>",
      "metadata": {
        "tags": [],
        "slideshow": {
          "slide_type": "fragment"
        },
        "user_expressions": [],
        "cell_id": "da67a30bf1b444e387d34fd91887150e",
        "deepnote_cell_type": "markdown"
      },
      "block_group": "9b5317cb12dc4699a142055d3435bf82"
    },
    {
      "cell_type": "code",
      "source": "musicians['Gender'] = ['Female', 'Male', 'Male', 'Male', 'Female']\nmusicians",
      "metadata": {
        "tags": [],
        "slideshow": {
          "slide_type": "subslide"
        },
        "source_hash": "c3008fe7",
        "execution_start": 1730132648965,
        "execution_millis": 0,
        "execution_context_id": "7c89757c-8d24-40c2-891e-29eb8cc3b4ff",
        "cell_id": "ca42052945ae48fcb30e48b32806c8b4",
        "deepnote_cell_type": "code"
      },
      "outputs": [
        {
          "output_type": "execute_result",
          "execution_count": 17,
          "data": {
            "application/vnd.deepnote.dataframe.v3+json": {
              "column_count": 4,
              "row_count": 5,
              "columns": [
                {
                  "name": "First Name",
                  "dtype": "object",
                  "stats": {
                    "unique_count": 5,
                    "nan_count": 0,
                    "categories": [
                      {
                        "name": "Taylor",
                        "count": 1
                      },
                      {
                        "name": "John",
                        "count": 1
                      },
                      {
                        "name": "3 others",
                        "count": 3
                      }
                    ]
                  }
                },
                {
                  "name": "Last Name",
                  "dtype": "object",
                  "stats": {
                    "unique_count": 5,
                    "nan_count": 0,
                    "categories": [
                      {
                        "name": "Swift",
                        "count": 1
                      },
                      {
                        "name": "Lennon",
                        "count": 1
                      },
                      {
                        "name": "3 others",
                        "count": 3
                      }
                    ]
                  }
                },
                {
                  "name": "Age",
                  "dtype": "int64",
                  "stats": {
                    "unique_count": 5,
                    "nan_count": 0,
                    "min": "34",
                    "max": "83",
                    "histogram": [
                      {
                        "bin_start": 34,
                        "bin_end": 38.9,
                        "count": 1
                      },
                      {
                        "bin_start": 38.9,
                        "bin_end": 43.8,
                        "count": 0
                      },
                      {
                        "bin_start": 43.8,
                        "bin_end": 48.7,
                        "count": 0
                      },
                      {
                        "bin_start": 48.7,
                        "bin_end": 53.6,
                        "count": 0
                      },
                      {
                        "bin_start": 53.6,
                        "bin_end": 58.5,
                        "count": 0
                      },
                      {
                        "bin_start": 58.5,
                        "bin_end": 63.400000000000006,
                        "count": 0
                      },
                      {
                        "bin_start": 63.400000000000006,
                        "bin_end": 68.30000000000001,
                        "count": 0
                      },
                      {
                        "bin_start": 68.30000000000001,
                        "bin_end": 73.2,
                        "count": 0
                      },
                      {
                        "bin_start": 73.2,
                        "bin_end": 78.1,
                        "count": 2
                      },
                      {
                        "bin_start": 78.1,
                        "bin_end": 83,
                        "count": 2
                      }
                    ]
                  }
                },
                {
                  "name": "Gender",
                  "dtype": "object",
                  "stats": {
                    "unique_count": 2,
                    "nan_count": 0,
                    "categories": [
                      {
                        "name": "Male",
                        "count": 3
                      },
                      {
                        "name": "Female",
                        "count": 2
                      }
                    ]
                  }
                },
                {
                  "name": "_deepnote_index_column",
                  "dtype": "int64"
                }
              ],
              "rows": [
                {
                  "First Name": "Taylor",
                  "Last Name": "Swift",
                  "Age": 34,
                  "Gender": "Female",
                  "_deepnote_index_column": 0
                },
                {
                  "First Name": "John",
                  "Last Name": "Lennon",
                  "Age": 75,
                  "Gender": "Male",
                  "_deepnote_index_column": 1
                },
                {
                  "First Name": "Fela",
                  "Last Name": "Kuti",
                  "Age": 83,
                  "Gender": "Male",
                  "_deepnote_index_column": 2
                },
                {
                  "First Name": "Manu",
                  "Last Name": "Chau",
                  "Age": 82,
                  "Gender": "Male",
                  "_deepnote_index_column": 3
                },
                {
                  "First Name": "Şebnem",
                  "Last Name": "Ferrah",
                  "Age": 76,
                  "Gender": "Female",
                  "_deepnote_index_column": 4
                }
              ]
            },
            "text/plain": "  First Name Last Name  Age  Gender\n0     Taylor     Swift   34  Female\n1       John    Lennon   75    Male\n2       Fela      Kuti   83    Male\n3       Manu      Chau   82    Male\n4     Şebnem    Ferrah   76  Female",
            "text/html": "<div>\n<style scoped>\n    .dataframe tbody tr th:only-of-type {\n        vertical-align: middle;\n    }\n\n    .dataframe tbody tr th {\n        vertical-align: top;\n    }\n\n    .dataframe thead th {\n        text-align: right;\n    }\n</style>\n<table border=\"1\" class=\"dataframe\">\n  <thead>\n    <tr style=\"text-align: right;\">\n      <th></th>\n      <th>First Name</th>\n      <th>Last Name</th>\n      <th>Age</th>\n      <th>Gender</th>\n    </tr>\n  </thead>\n  <tbody>\n    <tr>\n      <th>0</th>\n      <td>Taylor</td>\n      <td>Swift</td>\n      <td>34</td>\n      <td>Female</td>\n    </tr>\n    <tr>\n      <th>1</th>\n      <td>John</td>\n      <td>Lennon</td>\n      <td>75</td>\n      <td>Male</td>\n    </tr>\n    <tr>\n      <th>2</th>\n      <td>Fela</td>\n      <td>Kuti</td>\n      <td>83</td>\n      <td>Male</td>\n    </tr>\n    <tr>\n      <th>3</th>\n      <td>Manu</td>\n      <td>Chau</td>\n      <td>82</td>\n      <td>Male</td>\n    </tr>\n    <tr>\n      <th>4</th>\n      <td>Şebnem</td>\n      <td>Ferrah</td>\n      <td>76</td>\n      <td>Female</td>\n    </tr>\n  </tbody>\n</table>\n</div>"
          },
          "metadata": {}
        }
      ],
      "outputs_reference": null,
      "execution_count": 17,
      "block_group": "a824478008bc4bdc9bc8a148de029f20",
      "content_dependencies": null
    },
    {
      "cell_type": "code",
      "source": "random_data['New Series'] = random_data['Random Series 1'] * random_data['Random Series 2']\nrandom_data",
      "metadata": {
        "tags": [],
        "slideshow": {
          "slide_type": "subslide"
        },
        "source_hash": "9fc0f76e",
        "execution_start": 1730132649012,
        "execution_millis": 1,
        "execution_context_id": "7c89757c-8d24-40c2-891e-29eb8cc3b4ff",
        "cell_id": "8e4c9e340f7341d4acca357c17c21407",
        "deepnote_cell_type": "code"
      },
      "outputs": [
        {
          "output_type": "execute_result",
          "execution_count": 18,
          "data": {
            "application/vnd.deepnote.dataframe.v3+json": {
              "column_count": 4,
              "row_count": 5,
              "columns": [
                {
                  "name": "Random Series 1",
                  "dtype": "float64",
                  "stats": {
                    "unique_count": 5,
                    "nan_count": 0,
                    "min": "-1.9868311237108258",
                    "max": "0.4743475731571014",
                    "histogram": [
                      {
                        "bin_start": -1.9868311237108258,
                        "bin_end": -1.740713254024033,
                        "count": 1
                      },
                      {
                        "bin_start": -1.740713254024033,
                        "bin_end": -1.4945953843372404,
                        "count": 0
                      },
                      {
                        "bin_start": -1.4945953843372404,
                        "bin_end": -1.2484775146504477,
                        "count": 0
                      },
                      {
                        "bin_start": -1.2484775146504477,
                        "bin_end": -1.002359644963655,
                        "count": 1
                      },
                      {
                        "bin_start": -1.002359644963655,
                        "bin_end": -0.7562417752768622,
                        "count": 0
                      },
                      {
                        "bin_start": -0.7562417752768622,
                        "bin_end": -0.5101239055900695,
                        "count": 0
                      },
                      {
                        "bin_start": -0.5101239055900695,
                        "bin_end": -0.26400603590327676,
                        "count": 0
                      },
                      {
                        "bin_start": -0.26400603590327676,
                        "bin_end": -0.017888166216484036,
                        "count": 1
                      },
                      {
                        "bin_start": -0.017888166216484036,
                        "bin_end": 0.2282297034703087,
                        "count": 0
                      },
                      {
                        "bin_start": 0.2282297034703087,
                        "bin_end": 0.4743475731571014,
                        "count": 2
                      }
                    ]
                  }
                },
                {
                  "name": "Random Series 2",
                  "dtype": "float64",
                  "stats": {
                    "unique_count": 5,
                    "nan_count": 0,
                    "min": "-2.173146972788413",
                    "max": "1.3851733306983764",
                    "histogram": [
                      {
                        "bin_start": -2.173146972788413,
                        "bin_end": -1.817314942439734,
                        "count": 1
                      },
                      {
                        "bin_start": -1.817314942439734,
                        "bin_end": -1.461482912091055,
                        "count": 0
                      },
                      {
                        "bin_start": -1.461482912091055,
                        "bin_end": -1.1056508817423762,
                        "count": 1
                      },
                      {
                        "bin_start": -1.1056508817423762,
                        "bin_end": -0.7498188513936972,
                        "count": 0
                      },
                      {
                        "bin_start": -0.7498188513936972,
                        "bin_end": -0.39398682104501814,
                        "count": 0
                      },
                      {
                        "bin_start": -0.39398682104501814,
                        "bin_end": -0.038154790696339536,
                        "count": 1
                      },
                      {
                        "bin_start": -0.038154790696339536,
                        "bin_end": 0.3176772396523395,
                        "count": 0
                      },
                      {
                        "bin_start": 0.3176772396523395,
                        "bin_end": 0.6735092700010186,
                        "count": 0
                      },
                      {
                        "bin_start": 0.6735092700010186,
                        "bin_end": 1.0293413003496976,
                        "count": 1
                      },
                      {
                        "bin_start": 1.0293413003496976,
                        "bin_end": 1.3851733306983764,
                        "count": 1
                      }
                    ]
                  }
                },
                {
                  "name": "Random Series 3",
                  "dtype": "float64",
                  "stats": {
                    "unique_count": 5,
                    "nan_count": 0,
                    "min": "-0.6649514935634256",
                    "max": "0.736309151744298",
                    "histogram": [
                      {
                        "bin_start": -0.6649514935634256,
                        "bin_end": -0.5248254290326533,
                        "count": 3
                      },
                      {
                        "bin_start": -0.5248254290326533,
                        "bin_end": -0.3846993645018809,
                        "count": 0
                      },
                      {
                        "bin_start": -0.3846993645018809,
                        "bin_end": -0.24457329997110855,
                        "count": 0
                      },
                      {
                        "bin_start": -0.24457329997110855,
                        "bin_end": -0.10444723544033618,
                        "count": 0
                      },
                      {
                        "bin_start": -0.10444723544033618,
                        "bin_end": 0.03567882909043618,
                        "count": 0
                      },
                      {
                        "bin_start": 0.03567882909043618,
                        "bin_end": 0.17580489362120855,
                        "count": 0
                      },
                      {
                        "bin_start": 0.17580489362120855,
                        "bin_end": 0.3159309581519809,
                        "count": 1
                      },
                      {
                        "bin_start": 0.3159309581519809,
                        "bin_end": 0.4560570226827533,
                        "count": 0
                      },
                      {
                        "bin_start": 0.4560570226827533,
                        "bin_end": 0.5961830872135255,
                        "count": 0
                      },
                      {
                        "bin_start": 0.5961830872135255,
                        "bin_end": 0.736309151744298,
                        "count": 1
                      }
                    ]
                  }
                },
                {
                  "name": "New Series",
                  "dtype": "float64",
                  "stats": {
                    "unique_count": 5,
                    "nan_count": 0,
                    "min": "-0.3501949346607721",
                    "max": "4.317676041933982",
                    "histogram": [
                      {
                        "bin_start": -0.3501949346607721,
                        "bin_end": 0.11659216299870329,
                        "count": 2
                      },
                      {
                        "bin_start": 0.11659216299870329,
                        "bin_end": 0.5833792606581787,
                        "count": 1
                      },
                      {
                        "bin_start": 0.5833792606581787,
                        "bin_end": 1.0501663583176541,
                        "count": 1
                      },
                      {
                        "bin_start": 1.0501663583176541,
                        "bin_end": 1.5169534559771294,
                        "count": 0
                      },
                      {
                        "bin_start": 1.5169534559771294,
                        "bin_end": 1.983740553636605,
                        "count": 0
                      },
                      {
                        "bin_start": 1.983740553636605,
                        "bin_end": 2.4505276512960803,
                        "count": 0
                      },
                      {
                        "bin_start": 2.4505276512960803,
                        "bin_end": 2.917314748955556,
                        "count": 0
                      },
                      {
                        "bin_start": 2.917314748955556,
                        "bin_end": 3.384101846615031,
                        "count": 0
                      },
                      {
                        "bin_start": 3.384101846615031,
                        "bin_end": 3.850888944274507,
                        "count": 0
                      },
                      {
                        "bin_start": 3.850888944274507,
                        "bin_end": 4.317676041933982,
                        "count": 1
                      }
                    ]
                  }
                },
                {
                  "name": "_deepnote_index_column",
                  "dtype": "int64"
                }
              ],
              "rows": [
                {
                  "Random Series 1": -0.25430917557981186,
                  "Random Series 2": 0.8196402466448417,
                  "Random Series 3": -0.589863052403182,
                  "New Series": -0.20844203539628334,
                  "_deepnote_index_column": 0
                },
                {
                  "Random Series 1": -1.9868311237108258,
                  "Random Series 2": -2.173146972788413,
                  "Random Series 3": 0.736309151744298,
                  "New Series": 4.317676041933982,
                  "_deepnote_index_column": 1
                },
                {
                  "Random Series 1": -1.066292612382013,
                  "Random Series 2": -0.14964028327640952,
                  "Random Series 3": 0.25585576211365385,
                  "New Series": 0.15956032857238714,
                  "_deepnote_index_column": 2
                },
                {
                  "Random Series 1": 0.2873919634407392,
                  "Random Series 2": -1.2185272353065746,
                  "Random Series 3": -0.6649514935634256,
                  "New Series": -0.3501949346607721,
                  "_deepnote_index_column": 3
                },
                {
                  "Random Series 1": 0.4743475731571014,
                  "Random Series 2": 1.3851733306983764,
                  "Random Series 3": -0.5639328903255161,
                  "New Series": 0.6570536078187139,
                  "_deepnote_index_column": 4
                }
              ]
            },
            "text/plain": "   Random Series 1  Random Series 2  Random Series 3  New Series\n0        -0.254309         0.819640        -0.589863   -0.208442\n1        -1.986831        -2.173147         0.736309    4.317676\n2        -1.066293        -0.149640         0.255856    0.159560\n3         0.287392        -1.218527        -0.664951   -0.350195\n4         0.474348         1.385173        -0.563933    0.657054",
            "text/html": "<div>\n<style scoped>\n    .dataframe tbody tr th:only-of-type {\n        vertical-align: middle;\n    }\n\n    .dataframe tbody tr th {\n        vertical-align: top;\n    }\n\n    .dataframe thead th {\n        text-align: right;\n    }\n</style>\n<table border=\"1\" class=\"dataframe\">\n  <thead>\n    <tr style=\"text-align: right;\">\n      <th></th>\n      <th>Random Series 1</th>\n      <th>Random Series 2</th>\n      <th>Random Series 3</th>\n      <th>New Series</th>\n    </tr>\n  </thead>\n  <tbody>\n    <tr>\n      <th>0</th>\n      <td>-0.254309</td>\n      <td>0.819640</td>\n      <td>-0.589863</td>\n      <td>-0.208442</td>\n    </tr>\n    <tr>\n      <th>1</th>\n      <td>-1.986831</td>\n      <td>-2.173147</td>\n      <td>0.736309</td>\n      <td>4.317676</td>\n    </tr>\n    <tr>\n      <th>2</th>\n      <td>-1.066293</td>\n      <td>-0.149640</td>\n      <td>0.255856</td>\n      <td>0.159560</td>\n    </tr>\n    <tr>\n      <th>3</th>\n      <td>0.287392</td>\n      <td>-1.218527</td>\n      <td>-0.664951</td>\n      <td>-0.350195</td>\n    </tr>\n    <tr>\n      <th>4</th>\n      <td>0.474348</td>\n      <td>1.385173</td>\n      <td>-0.563933</td>\n      <td>0.657054</td>\n    </tr>\n  </tbody>\n</table>\n</div>"
          },
          "metadata": {}
        }
      ],
      "outputs_reference": null,
      "execution_count": 18,
      "block_group": "7e95f67060694acd9237e8d80fbbf9ea",
      "content_dependencies": null
    },
    {
      "cell_type": "markdown",
      "source": "# Applying Functions to Dataframe",
      "metadata": {
        "slideshow": {
          "slide_type": "subslide"
        },
        "user_expressions": [],
        "cell_id": "fb445024a5494e3299b50d1b36ea6168",
        "deepnote_cell_type": "markdown"
      },
      "block_group": "99015cf04f5542cebefe1113ec95e9e7"
    },
    {
      "cell_type": "markdown",
      "source": "<center><a href=\"https://pandas.pydata.org/docs/getting_started/intro_tutorials/05_add_columns.html#min-tut-05-columns\"><img src=\"https://raw.githubusercontent.com/SMU-Econ-Growth/EconGrowthUG-Notebooks/c004a90a03c3633fd05cdbce96647e229fdc21d8/pics/05_newcolumn_2.svg\" alt=\"New Columns\" width=700/></a></center>",
      "metadata": {
        "tags": [],
        "slideshow": {
          "slide_type": "-"
        },
        "user_expressions": [],
        "cell_id": "7740d3321c354fa3bb640349c8f96587",
        "deepnote_cell_type": "markdown"
      },
      "block_group": "d78ebee1c6f846a9956749ad646c8573"
    },
    {
      "cell_type": "markdown",
      "source": "* **pandas** also let's you apply a function to a column or to the whole dataset using the `apply` function.",
      "metadata": {
        "tags": [],
        "slideshow": {
          "slide_type": "subslide"
        },
        "user_expressions": [],
        "cell_id": "8ad3ae34e3544d6aaed5224a1ef0a93a",
        "deepnote_cell_type": "markdown"
      },
      "block_group": "9c10b0d635de4508873a30d702fb5a81"
    },
    {
      "cell_type": "markdown",
      "source": "* To apply a function to the whole dataset:\n```python\ndf.apply(my_function, axis=1)\n```\nThis is useful when the function uses data from various columns",
      "metadata": {
        "tags": [],
        "slideshow": {
          "slide_type": "fragment"
        },
        "user_expressions": [],
        "cell_id": "25f87846925d451083b5914d95eb1574",
        "deepnote_cell_type": "markdown"
      },
      "block_group": "868fcc6e93d74fd0883dcc564cd360d7"
    },
    {
      "cell_type": "markdown",
      "source": "* To apply a function to only a column:\n```python\ndf['My Column'].apply(my_function, axis=1)\n```\nor\n```python\ndf.my_column.apply(my_function, axis=1)\n```",
      "metadata": {
        "tags": [],
        "slideshow": {
          "slide_type": "subslide"
        },
        "user_expressions": [],
        "cell_id": "b008fe5cdda940afb677b0a8f60c9aed",
        "deepnote_cell_type": "markdown"
      },
      "block_group": "dfa0f65839444abc9dc14023809452db"
    },
    {
      "cell_type": "code",
      "source": "musicians['Young Female'] = (musicians['Age']<35) * (musicians['Gender']=='Female')\nmusicians['Young Female (as integer)'] = (musicians['Age']<35) * (musicians['Gender']=='Female').astype(int)\nmusicians",
      "metadata": {
        "tags": [],
        "slideshow": {
          "slide_type": "subslide"
        },
        "source_hash": "4a37c966",
        "execution_start": 1730132649061,
        "execution_millis": 0,
        "execution_context_id": "7c89757c-8d24-40c2-891e-29eb8cc3b4ff",
        "cell_id": "8d28663f75334756bb18074c907f0ca9",
        "deepnote_cell_type": "code"
      },
      "outputs": [
        {
          "output_type": "execute_result",
          "execution_count": 19,
          "data": {
            "application/vnd.deepnote.dataframe.v3+json": {
              "column_count": 6,
              "row_count": 5,
              "columns": [
                {
                  "name": "First Name",
                  "dtype": "object",
                  "stats": {
                    "unique_count": 5,
                    "nan_count": 0,
                    "categories": [
                      {
                        "name": "Taylor",
                        "count": 1
                      },
                      {
                        "name": "John",
                        "count": 1
                      },
                      {
                        "name": "3 others",
                        "count": 3
                      }
                    ]
                  }
                },
                {
                  "name": "Last Name",
                  "dtype": "object",
                  "stats": {
                    "unique_count": 5,
                    "nan_count": 0,
                    "categories": [
                      {
                        "name": "Swift",
                        "count": 1
                      },
                      {
                        "name": "Lennon",
                        "count": 1
                      },
                      {
                        "name": "3 others",
                        "count": 3
                      }
                    ]
                  }
                },
                {
                  "name": "Age",
                  "dtype": "int64",
                  "stats": {
                    "unique_count": 5,
                    "nan_count": 0,
                    "min": "34",
                    "max": "83",
                    "histogram": [
                      {
                        "bin_start": 34,
                        "bin_end": 38.9,
                        "count": 1
                      },
                      {
                        "bin_start": 38.9,
                        "bin_end": 43.8,
                        "count": 0
                      },
                      {
                        "bin_start": 43.8,
                        "bin_end": 48.7,
                        "count": 0
                      },
                      {
                        "bin_start": 48.7,
                        "bin_end": 53.6,
                        "count": 0
                      },
                      {
                        "bin_start": 53.6,
                        "bin_end": 58.5,
                        "count": 0
                      },
                      {
                        "bin_start": 58.5,
                        "bin_end": 63.400000000000006,
                        "count": 0
                      },
                      {
                        "bin_start": 63.400000000000006,
                        "bin_end": 68.30000000000001,
                        "count": 0
                      },
                      {
                        "bin_start": 68.30000000000001,
                        "bin_end": 73.2,
                        "count": 0
                      },
                      {
                        "bin_start": 73.2,
                        "bin_end": 78.1,
                        "count": 2
                      },
                      {
                        "bin_start": 78.1,
                        "bin_end": 83,
                        "count": 2
                      }
                    ]
                  }
                },
                {
                  "name": "Gender",
                  "dtype": "object",
                  "stats": {
                    "unique_count": 2,
                    "nan_count": 0,
                    "categories": [
                      {
                        "name": "Male",
                        "count": 3
                      },
                      {
                        "name": "Female",
                        "count": 2
                      }
                    ]
                  }
                },
                {
                  "name": "Young Female",
                  "dtype": "bool",
                  "stats": {
                    "unique_count": 2,
                    "nan_count": 0,
                    "categories": [
                      {
                        "name": "False",
                        "count": 4
                      },
                      {
                        "name": "True",
                        "count": 1
                      }
                    ]
                  }
                },
                {
                  "name": "Young Female (as integer)",
                  "dtype": "int64",
                  "stats": {
                    "unique_count": 2,
                    "nan_count": 0,
                    "min": "0",
                    "max": "1",
                    "histogram": [
                      {
                        "bin_start": 0,
                        "bin_end": 0.1,
                        "count": 4
                      },
                      {
                        "bin_start": 0.1,
                        "bin_end": 0.2,
                        "count": 0
                      },
                      {
                        "bin_start": 0.2,
                        "bin_end": 0.30000000000000004,
                        "count": 0
                      },
                      {
                        "bin_start": 0.30000000000000004,
                        "bin_end": 0.4,
                        "count": 0
                      },
                      {
                        "bin_start": 0.4,
                        "bin_end": 0.5,
                        "count": 0
                      },
                      {
                        "bin_start": 0.5,
                        "bin_end": 0.6000000000000001,
                        "count": 0
                      },
                      {
                        "bin_start": 0.6000000000000001,
                        "bin_end": 0.7000000000000001,
                        "count": 0
                      },
                      {
                        "bin_start": 0.7000000000000001,
                        "bin_end": 0.8,
                        "count": 0
                      },
                      {
                        "bin_start": 0.8,
                        "bin_end": 0.9,
                        "count": 0
                      },
                      {
                        "bin_start": 0.9,
                        "bin_end": 1,
                        "count": 1
                      }
                    ]
                  }
                },
                {
                  "name": "_deepnote_index_column",
                  "dtype": "int64"
                }
              ],
              "rows": [
                {
                  "First Name": "Taylor",
                  "Last Name": "Swift",
                  "Age": 34,
                  "Gender": "Female",
                  "Young Female": "True",
                  "Young Female (as integer)": 1,
                  "_deepnote_index_column": 0
                },
                {
                  "First Name": "John",
                  "Last Name": "Lennon",
                  "Age": 75,
                  "Gender": "Male",
                  "Young Female": "False",
                  "Young Female (as integer)": 0,
                  "_deepnote_index_column": 1
                },
                {
                  "First Name": "Fela",
                  "Last Name": "Kuti",
                  "Age": 83,
                  "Gender": "Male",
                  "Young Female": "False",
                  "Young Female (as integer)": 0,
                  "_deepnote_index_column": 2
                },
                {
                  "First Name": "Manu",
                  "Last Name": "Chau",
                  "Age": 82,
                  "Gender": "Male",
                  "Young Female": "False",
                  "Young Female (as integer)": 0,
                  "_deepnote_index_column": 3
                },
                {
                  "First Name": "Şebnem",
                  "Last Name": "Ferrah",
                  "Age": 76,
                  "Gender": "Female",
                  "Young Female": "False",
                  "Young Female (as integer)": 0,
                  "_deepnote_index_column": 4
                }
              ]
            },
            "text/plain": "  First Name Last Name  Age  Gender  Young Female  Young Female (as integer)\n0     Taylor     Swift   34  Female          True                          1\n1       John    Lennon   75    Male         False                          0\n2       Fela      Kuti   83    Male         False                          0\n3       Manu      Chau   82    Male         False                          0\n4     Şebnem    Ferrah   76  Female         False                          0",
            "text/html": "<div>\n<style scoped>\n    .dataframe tbody tr th:only-of-type {\n        vertical-align: middle;\n    }\n\n    .dataframe tbody tr th {\n        vertical-align: top;\n    }\n\n    .dataframe thead th {\n        text-align: right;\n    }\n</style>\n<table border=\"1\" class=\"dataframe\">\n  <thead>\n    <tr style=\"text-align: right;\">\n      <th></th>\n      <th>First Name</th>\n      <th>Last Name</th>\n      <th>Age</th>\n      <th>Gender</th>\n      <th>Young Female</th>\n      <th>Young Female (as integer)</th>\n    </tr>\n  </thead>\n  <tbody>\n    <tr>\n      <th>0</th>\n      <td>Taylor</td>\n      <td>Swift</td>\n      <td>34</td>\n      <td>Female</td>\n      <td>True</td>\n      <td>1</td>\n    </tr>\n    <tr>\n      <th>1</th>\n      <td>John</td>\n      <td>Lennon</td>\n      <td>75</td>\n      <td>Male</td>\n      <td>False</td>\n      <td>0</td>\n    </tr>\n    <tr>\n      <th>2</th>\n      <td>Fela</td>\n      <td>Kuti</td>\n      <td>83</td>\n      <td>Male</td>\n      <td>False</td>\n      <td>0</td>\n    </tr>\n    <tr>\n      <th>3</th>\n      <td>Manu</td>\n      <td>Chau</td>\n      <td>82</td>\n      <td>Male</td>\n      <td>False</td>\n      <td>0</td>\n    </tr>\n    <tr>\n      <th>4</th>\n      <td>Şebnem</td>\n      <td>Ferrah</td>\n      <td>76</td>\n      <td>Female</td>\n      <td>False</td>\n      <td>0</td>\n    </tr>\n  </tbody>\n</table>\n</div>"
          },
          "metadata": {}
        }
      ],
      "outputs_reference": null,
      "execution_count": 19,
      "block_group": "c9757ca3425945cdbbfcf7f7950572f2",
      "content_dependencies": null
    },
    {
      "cell_type": "code",
      "source": "random_data['Some Transformation'] = random_data.apply(lambda x: x['New Series'] - x['Random Series 3'], axis=1)\nrandom_data",
      "metadata": {
        "tags": [],
        "slideshow": {
          "slide_type": "subslide"
        },
        "source_hash": "47a93b4",
        "execution_start": 1730132649113,
        "execution_millis": 0,
        "execution_context_id": "7c89757c-8d24-40c2-891e-29eb8cc3b4ff",
        "cell_id": "1a0e6a7e337c4e3a856b7f9a6a455faa",
        "deepnote_cell_type": "code"
      },
      "outputs": [
        {
          "output_type": "execute_result",
          "execution_count": 20,
          "data": {
            "application/vnd.deepnote.dataframe.v3+json": {
              "column_count": 5,
              "row_count": 5,
              "columns": [
                {
                  "name": "Random Series 1",
                  "dtype": "float64",
                  "stats": {
                    "unique_count": 5,
                    "nan_count": 0,
                    "min": "-1.9868311237108258",
                    "max": "0.4743475731571014",
                    "histogram": [
                      {
                        "bin_start": -1.9868311237108258,
                        "bin_end": -1.740713254024033,
                        "count": 1
                      },
                      {
                        "bin_start": -1.740713254024033,
                        "bin_end": -1.4945953843372404,
                        "count": 0
                      },
                      {
                        "bin_start": -1.4945953843372404,
                        "bin_end": -1.2484775146504477,
                        "count": 0
                      },
                      {
                        "bin_start": -1.2484775146504477,
                        "bin_end": -1.002359644963655,
                        "count": 1
                      },
                      {
                        "bin_start": -1.002359644963655,
                        "bin_end": -0.7562417752768622,
                        "count": 0
                      },
                      {
                        "bin_start": -0.7562417752768622,
                        "bin_end": -0.5101239055900695,
                        "count": 0
                      },
                      {
                        "bin_start": -0.5101239055900695,
                        "bin_end": -0.26400603590327676,
                        "count": 0
                      },
                      {
                        "bin_start": -0.26400603590327676,
                        "bin_end": -0.017888166216484036,
                        "count": 1
                      },
                      {
                        "bin_start": -0.017888166216484036,
                        "bin_end": 0.2282297034703087,
                        "count": 0
                      },
                      {
                        "bin_start": 0.2282297034703087,
                        "bin_end": 0.4743475731571014,
                        "count": 2
                      }
                    ]
                  }
                },
                {
                  "name": "Random Series 2",
                  "dtype": "float64",
                  "stats": {
                    "unique_count": 5,
                    "nan_count": 0,
                    "min": "-2.173146972788413",
                    "max": "1.3851733306983764",
                    "histogram": [
                      {
                        "bin_start": -2.173146972788413,
                        "bin_end": -1.817314942439734,
                        "count": 1
                      },
                      {
                        "bin_start": -1.817314942439734,
                        "bin_end": -1.461482912091055,
                        "count": 0
                      },
                      {
                        "bin_start": -1.461482912091055,
                        "bin_end": -1.1056508817423762,
                        "count": 1
                      },
                      {
                        "bin_start": -1.1056508817423762,
                        "bin_end": -0.7498188513936972,
                        "count": 0
                      },
                      {
                        "bin_start": -0.7498188513936972,
                        "bin_end": -0.39398682104501814,
                        "count": 0
                      },
                      {
                        "bin_start": -0.39398682104501814,
                        "bin_end": -0.038154790696339536,
                        "count": 1
                      },
                      {
                        "bin_start": -0.038154790696339536,
                        "bin_end": 0.3176772396523395,
                        "count": 0
                      },
                      {
                        "bin_start": 0.3176772396523395,
                        "bin_end": 0.6735092700010186,
                        "count": 0
                      },
                      {
                        "bin_start": 0.6735092700010186,
                        "bin_end": 1.0293413003496976,
                        "count": 1
                      },
                      {
                        "bin_start": 1.0293413003496976,
                        "bin_end": 1.3851733306983764,
                        "count": 1
                      }
                    ]
                  }
                },
                {
                  "name": "Random Series 3",
                  "dtype": "float64",
                  "stats": {
                    "unique_count": 5,
                    "nan_count": 0,
                    "min": "-0.6649514935634256",
                    "max": "0.736309151744298",
                    "histogram": [
                      {
                        "bin_start": -0.6649514935634256,
                        "bin_end": -0.5248254290326533,
                        "count": 3
                      },
                      {
                        "bin_start": -0.5248254290326533,
                        "bin_end": -0.3846993645018809,
                        "count": 0
                      },
                      {
                        "bin_start": -0.3846993645018809,
                        "bin_end": -0.24457329997110855,
                        "count": 0
                      },
                      {
                        "bin_start": -0.24457329997110855,
                        "bin_end": -0.10444723544033618,
                        "count": 0
                      },
                      {
                        "bin_start": -0.10444723544033618,
                        "bin_end": 0.03567882909043618,
                        "count": 0
                      },
                      {
                        "bin_start": 0.03567882909043618,
                        "bin_end": 0.17580489362120855,
                        "count": 0
                      },
                      {
                        "bin_start": 0.17580489362120855,
                        "bin_end": 0.3159309581519809,
                        "count": 1
                      },
                      {
                        "bin_start": 0.3159309581519809,
                        "bin_end": 0.4560570226827533,
                        "count": 0
                      },
                      {
                        "bin_start": 0.4560570226827533,
                        "bin_end": 0.5961830872135255,
                        "count": 0
                      },
                      {
                        "bin_start": 0.5961830872135255,
                        "bin_end": 0.736309151744298,
                        "count": 1
                      }
                    ]
                  }
                },
                {
                  "name": "New Series",
                  "dtype": "float64",
                  "stats": {
                    "unique_count": 5,
                    "nan_count": 0,
                    "min": "-0.3501949346607721",
                    "max": "4.317676041933982",
                    "histogram": [
                      {
                        "bin_start": -0.3501949346607721,
                        "bin_end": 0.11659216299870329,
                        "count": 2
                      },
                      {
                        "bin_start": 0.11659216299870329,
                        "bin_end": 0.5833792606581787,
                        "count": 1
                      },
                      {
                        "bin_start": 0.5833792606581787,
                        "bin_end": 1.0501663583176541,
                        "count": 1
                      },
                      {
                        "bin_start": 1.0501663583176541,
                        "bin_end": 1.5169534559771294,
                        "count": 0
                      },
                      {
                        "bin_start": 1.5169534559771294,
                        "bin_end": 1.983740553636605,
                        "count": 0
                      },
                      {
                        "bin_start": 1.983740553636605,
                        "bin_end": 2.4505276512960803,
                        "count": 0
                      },
                      {
                        "bin_start": 2.4505276512960803,
                        "bin_end": 2.917314748955556,
                        "count": 0
                      },
                      {
                        "bin_start": 2.917314748955556,
                        "bin_end": 3.384101846615031,
                        "count": 0
                      },
                      {
                        "bin_start": 3.384101846615031,
                        "bin_end": 3.850888944274507,
                        "count": 0
                      },
                      {
                        "bin_start": 3.850888944274507,
                        "bin_end": 4.317676041933982,
                        "count": 1
                      }
                    ]
                  }
                },
                {
                  "name": "Some Transformation",
                  "dtype": "float64",
                  "stats": {
                    "unique_count": 5,
                    "nan_count": 0,
                    "min": "-0.09629543354126671",
                    "max": "3.5813668901896842",
                    "histogram": [
                      {
                        "bin_start": -0.09629543354126671,
                        "bin_end": 0.27147079883182845,
                        "count": 1
                      },
                      {
                        "bin_start": 0.27147079883182845,
                        "bin_end": 0.6392370312049236,
                        "count": 2
                      },
                      {
                        "bin_start": 0.6392370312049236,
                        "bin_end": 1.0070032635780188,
                        "count": 0
                      },
                      {
                        "bin_start": 1.0070032635780188,
                        "bin_end": 1.3747694959511139,
                        "count": 1
                      },
                      {
                        "bin_start": 1.3747694959511139,
                        "bin_end": 1.7425357283242089,
                        "count": 0
                      },
                      {
                        "bin_start": 1.7425357283242089,
                        "bin_end": 2.110301960697304,
                        "count": 0
                      },
                      {
                        "bin_start": 2.110301960697304,
                        "bin_end": 2.478068193070399,
                        "count": 0
                      },
                      {
                        "bin_start": 2.478068193070399,
                        "bin_end": 2.845834425443494,
                        "count": 0
                      },
                      {
                        "bin_start": 2.845834425443494,
                        "bin_end": 3.213600657816589,
                        "count": 0
                      },
                      {
                        "bin_start": 3.213600657816589,
                        "bin_end": 3.5813668901896842,
                        "count": 1
                      }
                    ]
                  }
                },
                {
                  "name": "_deepnote_index_column",
                  "dtype": "int64"
                }
              ],
              "rows": [
                {
                  "Random Series 1": -0.25430917557981186,
                  "Random Series 2": 0.8196402466448417,
                  "Random Series 3": -0.589863052403182,
                  "New Series": -0.20844203539628334,
                  "Some Transformation": 0.3814210170068987,
                  "_deepnote_index_column": 0
                },
                {
                  "Random Series 1": -1.9868311237108258,
                  "Random Series 2": -2.173146972788413,
                  "Random Series 3": 0.736309151744298,
                  "New Series": 4.317676041933982,
                  "Some Transformation": 3.5813668901896842,
                  "_deepnote_index_column": 1
                },
                {
                  "Random Series 1": -1.066292612382013,
                  "Random Series 2": -0.14964028327640952,
                  "Random Series 3": 0.25585576211365385,
                  "New Series": 0.15956032857238714,
                  "Some Transformation": -0.09629543354126671,
                  "_deepnote_index_column": 2
                },
                {
                  "Random Series 1": 0.2873919634407392,
                  "Random Series 2": -1.2185272353065746,
                  "Random Series 3": -0.6649514935634256,
                  "New Series": -0.3501949346607721,
                  "Some Transformation": 0.3147565589026535,
                  "_deepnote_index_column": 3
                },
                {
                  "Random Series 1": 0.4743475731571014,
                  "Random Series 2": 1.3851733306983764,
                  "Random Series 3": -0.5639328903255161,
                  "New Series": 0.6570536078187139,
                  "Some Transformation": 1.22098649814423,
                  "_deepnote_index_column": 4
                }
              ]
            },
            "text/plain": "   Random Series 1  Random Series 2  Random Series 3  New Series  \\\n0        -0.254309         0.819640        -0.589863   -0.208442   \n1        -1.986831        -2.173147         0.736309    4.317676   \n2        -1.066293        -0.149640         0.255856    0.159560   \n3         0.287392        -1.218527        -0.664951   -0.350195   \n4         0.474348         1.385173        -0.563933    0.657054   \n\n   Some Transformation  \n0             0.381421  \n1             3.581367  \n2            -0.096295  \n3             0.314757  \n4             1.220986  ",
            "text/html": "<div>\n<style scoped>\n    .dataframe tbody tr th:only-of-type {\n        vertical-align: middle;\n    }\n\n    .dataframe tbody tr th {\n        vertical-align: top;\n    }\n\n    .dataframe thead th {\n        text-align: right;\n    }\n</style>\n<table border=\"1\" class=\"dataframe\">\n  <thead>\n    <tr style=\"text-align: right;\">\n      <th></th>\n      <th>Random Series 1</th>\n      <th>Random Series 2</th>\n      <th>Random Series 3</th>\n      <th>New Series</th>\n      <th>Some Transformation</th>\n    </tr>\n  </thead>\n  <tbody>\n    <tr>\n      <th>0</th>\n      <td>-0.254309</td>\n      <td>0.819640</td>\n      <td>-0.589863</td>\n      <td>-0.208442</td>\n      <td>0.381421</td>\n    </tr>\n    <tr>\n      <th>1</th>\n      <td>-1.986831</td>\n      <td>-2.173147</td>\n      <td>0.736309</td>\n      <td>4.317676</td>\n      <td>3.581367</td>\n    </tr>\n    <tr>\n      <th>2</th>\n      <td>-1.066293</td>\n      <td>-0.149640</td>\n      <td>0.255856</td>\n      <td>0.159560</td>\n      <td>-0.096295</td>\n    </tr>\n    <tr>\n      <th>3</th>\n      <td>0.287392</td>\n      <td>-1.218527</td>\n      <td>-0.664951</td>\n      <td>-0.350195</td>\n      <td>0.314757</td>\n    </tr>\n    <tr>\n      <th>4</th>\n      <td>0.474348</td>\n      <td>1.385173</td>\n      <td>-0.563933</td>\n      <td>0.657054</td>\n      <td>1.220986</td>\n    </tr>\n  </tbody>\n</table>\n</div>"
          },
          "metadata": {}
        }
      ],
      "outputs_reference": null,
      "execution_count": 20,
      "block_group": "639e731a1cec430c892eaebce690cf6f",
      "content_dependencies": null
    },
    {
      "cell_type": "markdown",
      "source": "# Select subset of data",
      "metadata": {
        "slideshow": {
          "slide_type": "slide"
        },
        "user_expressions": [],
        "cell_id": "17e879cdbff8450785c3ccfe71bd7797",
        "deepnote_cell_type": "markdown"
      },
      "block_group": "60573af52ec24c1497f698112cc1bb7a"
    },
    {
      "cell_type": "markdown",
      "source": "<center><a href=\"https://pandas.pydata.org/docs/getting_started/intro_tutorials/03_subset_data.html#min-tut-03-subset\"><img src=\"https://raw.githubusercontent.com/SMU-Econ-Growth/EconGrowthUG-Notebooks/c004a90a03c3633fd05cdbce96647e229fdc21d8/pics/03_subset_columns_rows.svg\" alt=\"Subset data\" width=700/></a></center>",
      "metadata": {
        "tags": [],
        "slideshow": {
          "slide_type": "-"
        },
        "user_expressions": [],
        "cell_id": "84416ca40c5a4efbb221d230b865b631",
        "deepnote_cell_type": "markdown"
      },
      "block_group": "359a28a823e341caa4b2e2fff089cb40"
    },
    {
      "cell_type": "markdown",
      "source": "# Select subset of columns",
      "metadata": {
        "tags": [],
        "slideshow": {
          "slide_type": "subslide"
        },
        "user_expressions": [],
        "cell_id": "c74ee8f212e34184b4e3c9d5d1154cc6",
        "deepnote_cell_type": "markdown"
      },
      "block_group": "4b9f2e11cd624c59ad41fafd1e9a4c59"
    },
    {
      "cell_type": "markdown",
      "source": "<center><a href=\"https://pandas.pydata.org/docs/getting_started/intro_tutorials/03_subset_data.html#min-tut-03-subset\"><img src=\"https://raw.githubusercontent.com/SMU-Econ-Growth/EconGrowthUG-Notebooks/c004a90a03c3633fd05cdbce96647e229fdc21d8/pics/03_subset_columns.svg\" alt=\"Subset data\" width=700/></a></center>",
      "metadata": {
        "tags": [],
        "slideshow": {
          "slide_type": "-"
        },
        "user_expressions": [],
        "cell_id": "fefac572c1914f86a9e2fdec362522d6",
        "deepnote_cell_type": "markdown"
      },
      "block_group": "80b7392b21aa4a098c620f9edf3f102d"
    },
    {
      "cell_type": "markdown",
      "source": "* To select 1 column and get a `Series`\n```python \ndf['name of column']\n```\nor \n```python \ndf.name_of_column\n```",
      "metadata": {
        "tags": [],
        "slideshow": {
          "slide_type": "subslide"
        },
        "user_expressions": [],
        "cell_id": "3f13e11910204eb784c334d168bc109e",
        "deepnote_cell_type": "markdown"
      },
      "block_group": "299658a7441e49b2b96227e81ed5528d"
    },
    {
      "cell_type": "markdown",
      "source": "<div class=\"alert alert-block alert-danger\">\n<b>Careful:</b> The second method only works if there are no spaces in the name of the variable/row.\n</div>",
      "metadata": {
        "tags": [],
        "slideshow": {
          "slide_type": "fragment"
        },
        "user_expressions": [],
        "cell_id": "ddf0a651dd6e4aa6aec0e23e7a442257",
        "deepnote_cell_type": "markdown"
      },
      "block_group": "1a6e38e41be04dcf81d406219fca3227"
    },
    {
      "cell_type": "code",
      "source": "musicians['First Name']",
      "metadata": {
        "tags": [],
        "slideshow": {
          "slide_type": "subslide"
        },
        "source_hash": "574592c5",
        "execution_start": 1730132649160,
        "execution_millis": 1,
        "execution_context_id": "7c89757c-8d24-40c2-891e-29eb8cc3b4ff",
        "cell_id": "c4b1fc6a019641bb8ea1017727cd326b",
        "deepnote_cell_type": "code"
      },
      "outputs": [
        {
          "output_type": "execute_result",
          "execution_count": 21,
          "data": {
            "text/plain": "0    Taylor\n1      John\n2      Fela\n3      Manu\n4    Şebnem\nName: First Name, dtype: object"
          },
          "metadata": {}
        }
      ],
      "outputs_reference": null,
      "execution_count": 21,
      "block_group": "ff09c3a9a6af47659ba950e3474779df",
      "content_dependencies": null
    },
    {
      "cell_type": "markdown",
      "source": "* To select a subset of columns and get a `DataFrame`\n```python \ndf[list_of_columns]\n```\n* In particular, to get a `DataFrame` from a single column\n```python \ndf[['name of column']]\n```",
      "metadata": {
        "tags": [],
        "slideshow": {
          "slide_type": "subslide"
        },
        "user_expressions": [],
        "cell_id": "0c35317d892847e3a8c09aa8a0c1a298",
        "deepnote_cell_type": "markdown"
      },
      "block_group": "5aea0c6b01dd4c7d86a75481729ada08"
    },
    {
      "cell_type": "code",
      "source": "musicians[['First Name', 'Age']]",
      "metadata": {
        "tags": [],
        "slideshow": {
          "slide_type": "subslide"
        },
        "source_hash": "f92b7a7e",
        "execution_start": 1730132649212,
        "execution_millis": 1,
        "execution_context_id": "7c89757c-8d24-40c2-891e-29eb8cc3b4ff",
        "cell_id": "776e0db5a5714467bcb1f8e3d32b5dcc",
        "deepnote_cell_type": "code"
      },
      "outputs": [
        {
          "output_type": "execute_result",
          "execution_count": 22,
          "data": {
            "application/vnd.deepnote.dataframe.v3+json": {
              "column_count": 2,
              "row_count": 5,
              "columns": [
                {
                  "name": "First Name",
                  "dtype": "object",
                  "stats": {
                    "unique_count": 5,
                    "nan_count": 0,
                    "categories": [
                      {
                        "name": "Taylor",
                        "count": 1
                      },
                      {
                        "name": "John",
                        "count": 1
                      },
                      {
                        "name": "3 others",
                        "count": 3
                      }
                    ]
                  }
                },
                {
                  "name": "Age",
                  "dtype": "int64",
                  "stats": {
                    "unique_count": 5,
                    "nan_count": 0,
                    "min": "34",
                    "max": "83",
                    "histogram": [
                      {
                        "bin_start": 34,
                        "bin_end": 38.9,
                        "count": 1
                      },
                      {
                        "bin_start": 38.9,
                        "bin_end": 43.8,
                        "count": 0
                      },
                      {
                        "bin_start": 43.8,
                        "bin_end": 48.7,
                        "count": 0
                      },
                      {
                        "bin_start": 48.7,
                        "bin_end": 53.6,
                        "count": 0
                      },
                      {
                        "bin_start": 53.6,
                        "bin_end": 58.5,
                        "count": 0
                      },
                      {
                        "bin_start": 58.5,
                        "bin_end": 63.400000000000006,
                        "count": 0
                      },
                      {
                        "bin_start": 63.400000000000006,
                        "bin_end": 68.30000000000001,
                        "count": 0
                      },
                      {
                        "bin_start": 68.30000000000001,
                        "bin_end": 73.2,
                        "count": 0
                      },
                      {
                        "bin_start": 73.2,
                        "bin_end": 78.1,
                        "count": 2
                      },
                      {
                        "bin_start": 78.1,
                        "bin_end": 83,
                        "count": 2
                      }
                    ]
                  }
                },
                {
                  "name": "_deepnote_index_column",
                  "dtype": "int64"
                }
              ],
              "rows": [
                {
                  "First Name": "Taylor",
                  "Age": 34,
                  "_deepnote_index_column": 0
                },
                {
                  "First Name": "John",
                  "Age": 75,
                  "_deepnote_index_column": 1
                },
                {
                  "First Name": "Fela",
                  "Age": 83,
                  "_deepnote_index_column": 2
                },
                {
                  "First Name": "Manu",
                  "Age": 82,
                  "_deepnote_index_column": 3
                },
                {
                  "First Name": "Şebnem",
                  "Age": 76,
                  "_deepnote_index_column": 4
                }
              ]
            },
            "text/plain": "  First Name  Age\n0     Taylor   34\n1       John   75\n2       Fela   83\n3       Manu   82\n4     Şebnem   76",
            "text/html": "<div>\n<style scoped>\n    .dataframe tbody tr th:only-of-type {\n        vertical-align: middle;\n    }\n\n    .dataframe tbody tr th {\n        vertical-align: top;\n    }\n\n    .dataframe thead th {\n        text-align: right;\n    }\n</style>\n<table border=\"1\" class=\"dataframe\">\n  <thead>\n    <tr style=\"text-align: right;\">\n      <th></th>\n      <th>First Name</th>\n      <th>Age</th>\n    </tr>\n  </thead>\n  <tbody>\n    <tr>\n      <th>0</th>\n      <td>Taylor</td>\n      <td>34</td>\n    </tr>\n    <tr>\n      <th>1</th>\n      <td>John</td>\n      <td>75</td>\n    </tr>\n    <tr>\n      <th>2</th>\n      <td>Fela</td>\n      <td>83</td>\n    </tr>\n    <tr>\n      <th>3</th>\n      <td>Manu</td>\n      <td>82</td>\n    </tr>\n    <tr>\n      <th>4</th>\n      <td>Şebnem</td>\n      <td>76</td>\n    </tr>\n  </tbody>\n</table>\n</div>"
          },
          "metadata": {}
        }
      ],
      "outputs_reference": null,
      "execution_count": 22,
      "block_group": "ef4c5af41b714997b8a958dd27883481",
      "content_dependencies": null
    },
    {
      "cell_type": "markdown",
      "source": "<div class=\"alert alert-block alert-info\">\n    <b>Note:</b> Notice the small difference when selecting <b>a unique column</b>\n</div>",
      "metadata": {
        "tags": [],
        "slideshow": {
          "slide_type": "fragment"
        },
        "user_expressions": [],
        "cell_id": "65a51de426164a598091bbd6008326d6",
        "deepnote_cell_type": "markdown"
      },
      "block_group": "626f40bcb3054c99afd48b6e6e21537f"
    },
    {
      "cell_type": "markdown",
      "source": "# Select subset of rows",
      "metadata": {
        "tags": [],
        "slideshow": {
          "slide_type": "subslide"
        },
        "user_expressions": [],
        "cell_id": "cdb7350f38d24f2e88d1a27af9d0febe",
        "deepnote_cell_type": "markdown"
      },
      "block_group": "aa14995ded704d7b8b35aa05bfce250e"
    },
    {
      "cell_type": "markdown",
      "source": "<center><a href=\"https://pandas.pydata.org/docs/getting_started/intro_tutorials/03_subset_data.html#min-tut-03-subset\"><img src=\"https://raw.githubusercontent.com/SMU-Econ-Growth/EconGrowthUG-Notebooks/c004a90a03c3633fd05cdbce96647e229fdc21d8/pics/03_subset_rows.svg\" alt=\"Subset data\" width=700/></a></center>",
      "metadata": {
        "tags": [],
        "slideshow": {
          "slide_type": "-"
        },
        "user_expressions": [],
        "cell_id": "0b2522e0cdb44308b7f596527273a8ef",
        "deepnote_cell_type": "markdown"
      },
      "block_group": "9014fe6b034e4955b06b253ed59ad41e"
    },
    {
      "cell_type": "markdown",
      "source": "* To select specific rows, you need to pass the index of the rows you want and use `df.iloc`.\n    \n    E.g., if you want the observations in index [0,2,5,9], then\n    ```python\n    df.iloc[[0,2,5,9]]\n    ```",
      "metadata": {
        "tags": [],
        "slideshow": {
          "slide_type": "subslide"
        },
        "user_expressions": [],
        "cell_id": "25f21718649540649ea4ef5ed683c354",
        "deepnote_cell_type": "markdown"
      },
      "block_group": "f91d4658801e4056ac39a40dc6d99e21"
    },
    {
      "cell_type": "markdown",
      "source": "* To select rows that satisfy a condition, e.g., variable_1>0, use `df.loc`\n\n    ```python\n    df.loc[df['variable_1']>0]\n    ```    ",
      "metadata": {
        "tags": [],
        "slideshow": {
          "slide_type": "subslide"
        },
        "user_expressions": [],
        "cell_id": "76b294e34a984224882d71f455335ea3",
        "deepnote_cell_type": "markdown"
      },
      "block_group": "6b4fc719de1b421fbbcdc9f0ca9ba687"
    },
    {
      "cell_type": "markdown",
      "source": "* or more generally\n    \n    ```python\n    df.loc[condition to be satisfied by data in df]\n    ```",
      "metadata": {
        "tags": [],
        "slideshow": {
          "slide_type": "fragment"
        },
        "user_expressions": [],
        "cell_id": "e7195ba03a8c4dc2851dca2693547cb8",
        "deepnote_cell_type": "markdown"
      },
      "block_group": "6f9e717460ce4ecba733a7f81b38c8cb"
    },
    {
      "cell_type": "code",
      "source": "musicians.iloc[0]",
      "metadata": {
        "tags": [],
        "slideshow": {
          "slide_type": "subslide"
        },
        "source_hash": "8c7f2ae8",
        "execution_start": 1730132649261,
        "execution_millis": 0,
        "execution_context_id": "7c89757c-8d24-40c2-891e-29eb8cc3b4ff",
        "cell_id": "328da4c6ffe149298e3fd56c3efd8351",
        "deepnote_cell_type": "code"
      },
      "outputs": [
        {
          "output_type": "execute_result",
          "execution_count": 23,
          "data": {
            "text/plain": "First Name                   Taylor\nLast Name                     Swift\nAge                              34\nGender                       Female\nYoung Female                   True\nYoung Female (as integer)         1\nName: 0, dtype: object"
          },
          "metadata": {}
        }
      ],
      "outputs_reference": null,
      "execution_count": 23,
      "block_group": "5ce19d7e115f41da916552ef13d4a0fa",
      "content_dependencies": null
    },
    {
      "cell_type": "code",
      "source": "musicians['First Name'].loc[musicians['Age']<50]",
      "metadata": {
        "tags": [],
        "slideshow": {
          "slide_type": "subslide"
        },
        "source_hash": "3a7df9e3",
        "execution_start": 1730132649312,
        "execution_millis": 1,
        "execution_context_id": "7c89757c-8d24-40c2-891e-29eb8cc3b4ff",
        "cell_id": "c51939a91d2e42ec98ea418ce1cffb9a",
        "deepnote_cell_type": "code"
      },
      "outputs": [
        {
          "output_type": "execute_result",
          "execution_count": 24,
          "data": {
            "text/plain": "0    Taylor\nName: First Name, dtype: object"
          },
          "metadata": {}
        }
      ],
      "outputs_reference": null,
      "execution_count": 24,
      "block_group": "59fe8c5484da4f0597fd6336ed33f1e3",
      "content_dependencies": null
    },
    {
      "cell_type": "markdown",
      "source": "# Select subset of rows and columns",
      "metadata": {
        "tags": [],
        "slideshow": {
          "slide_type": "subslide"
        },
        "user_expressions": [],
        "cell_id": "4d53e6554dce4917a7e8b34bc503a913",
        "deepnote_cell_type": "markdown"
      },
      "block_group": "a91e7d6c8f034b6b85ae8382eb216981"
    },
    {
      "cell_type": "markdown",
      "source": "<center><a href=\"https://pandas.pydata.org/docs/getting_started/intro_tutorials/03_subset_data.html#min-tut-03-subset\"><img src=\"https://raw.githubusercontent.com/SMU-Econ-Growth/EconGrowthUG-Notebooks/c004a90a03c3633fd05cdbce96647e229fdc21d8/pics/03_subset_columns_rows.svg\" alt=\"Subset data\" width=700/></a></center>",
      "metadata": {
        "tags": [],
        "slideshow": {
          "slide_type": "-"
        },
        "user_expressions": [],
        "cell_id": "424afaca67a94686a4bacfeb196a3117",
        "deepnote_cell_type": "markdown"
      },
      "block_group": "7a8307699d3643b2803f3d60f9adb94f"
    },
    {
      "cell_type": "markdown",
      "source": "* To select jointly a subset of rows that satisfy a condition and some of the variables\n```python\ndf.loc[condition to be satisfied by data in df, list_of_columns]\n```\ne.g., select rows that satisfy `variable_1>0` and only the subset of columns `['variable_1', 'variable_2']`\n```python\ndf.loc[df['variable_1']>0, ['variable_1', 'variable_2']]\n```",
      "metadata": {
        "tags": [],
        "slideshow": {
          "slide_type": "subslide"
        },
        "user_expressions": [],
        "cell_id": "7571b2dc1c704990a33e981ecbff2351",
        "deepnote_cell_type": "markdown"
      },
      "block_group": "f88c2f7a7de14539b59aa6ddfcb89f53"
    },
    {
      "cell_type": "code",
      "source": "musicians.loc[(musicians['Age']>=50) & (musicians['Gender']=='Female') , ['First Name', 'Last Name']]",
      "metadata": {
        "tags": [],
        "slideshow": {
          "slide_type": "subslide"
        },
        "source_hash": "517212d0",
        "execution_start": 1730132649368,
        "execution_millis": 1,
        "execution_context_id": "7c89757c-8d24-40c2-891e-29eb8cc3b4ff",
        "cell_id": "87cb432d984446d0bfa3c04f453840b1",
        "deepnote_cell_type": "code"
      },
      "outputs": [
        {
          "output_type": "execute_result",
          "execution_count": 25,
          "data": {
            "application/vnd.deepnote.dataframe.v3+json": {
              "column_count": 2,
              "row_count": 1,
              "columns": [
                {
                  "name": "First Name",
                  "dtype": "object",
                  "stats": {
                    "unique_count": 1,
                    "nan_count": 0,
                    "categories": [
                      {
                        "name": "Şebnem",
                        "count": 1
                      }
                    ]
                  }
                },
                {
                  "name": "Last Name",
                  "dtype": "object",
                  "stats": {
                    "unique_count": 1,
                    "nan_count": 0,
                    "categories": [
                      {
                        "name": "Ferrah",
                        "count": 1
                      }
                    ]
                  }
                },
                {
                  "name": "_deepnote_index_column",
                  "dtype": "int64"
                }
              ],
              "rows": [
                {
                  "First Name": "Şebnem",
                  "Last Name": "Ferrah",
                  "_deepnote_index_column": 4
                }
              ]
            },
            "text/plain": "  First Name Last Name\n4     Şebnem    Ferrah",
            "text/html": "<div>\n<style scoped>\n    .dataframe tbody tr th:only-of-type {\n        vertical-align: middle;\n    }\n\n    .dataframe tbody tr th {\n        vertical-align: top;\n    }\n\n    .dataframe thead th {\n        text-align: right;\n    }\n</style>\n<table border=\"1\" class=\"dataframe\">\n  <thead>\n    <tr style=\"text-align: right;\">\n      <th></th>\n      <th>First Name</th>\n      <th>Last Name</th>\n    </tr>\n  </thead>\n  <tbody>\n    <tr>\n      <th>4</th>\n      <td>Şebnem</td>\n      <td>Ferrah</td>\n    </tr>\n  </tbody>\n</table>\n</div>"
          },
          "metadata": {}
        }
      ],
      "outputs_reference": null,
      "execution_count": 25,
      "block_group": "d5dd679d57c442ae9e8b8649239fd416",
      "content_dependencies": null
    },
    {
      "cell_type": "markdown",
      "source": "# Create Statistics for Columns in Dataframe",
      "metadata": {
        "slideshow": {
          "slide_type": "slide"
        },
        "user_expressions": [],
        "cell_id": "5ce54144a703470b8ad799f3ff717f64",
        "deepnote_cell_type": "markdown"
      },
      "block_group": "7ff3e4aab3b945ba98150252c50a4f65"
    },
    {
      "cell_type": "markdown",
      "source": "<center><a href=\"https://pandas.pydata.org/docs/getting_started/intro_tutorials/06_calculate_statistics.html#min-tut-06-stats\"><img src=\"https://raw.githubusercontent.com/SMU-Econ-Growth/EconGrowthUG-Notebooks/c004a90a03c3633fd05cdbce96647e229fdc21d8/pics/06_reduction.svg\" alt=\"groupby\" width=700/></a></center>",
      "metadata": {
        "tags": [],
        "slideshow": {
          "slide_type": "-"
        },
        "user_expressions": [],
        "cell_id": "43692e3c94b54c87a970c53cca6a903f",
        "deepnote_cell_type": "markdown"
      },
      "block_group": "e857bcd7aa6149749ca5c169e89d16b4"
    },
    {
      "cell_type": "markdown",
      "source": "The **pandas** `DataFrame` has various properties that compute statistics based on columns in the dataframe\n* mean\n* min\n* max\n* std\n* median\n* quantile",
      "metadata": {
        "tags": [],
        "slideshow": {
          "slide_type": "subslide"
        },
        "user_expressions": [],
        "cell_id": "29a7419db77a4cd9a8cd4e496a4c59d5",
        "deepnote_cell_type": "markdown"
      },
      "block_group": "2d350b4ad3134acc80ae2ed2d8c77838"
    },
    {
      "cell_type": "markdown",
      "source": "These statistics can be computed across rows or columns",
      "metadata": {
        "tags": [],
        "slideshow": {
          "slide_type": "subslide"
        },
        "user_expressions": [],
        "cell_id": "1b29a153b1054e6db7d4dd7516379da1",
        "deepnote_cell_type": "markdown"
      },
      "block_group": "fa99e97830d84d3ea1263905443ef1c0"
    },
    {
      "cell_type": "markdown",
      "source": "* Statistic across rows (for all columns): `df.statistic()` or `df.statistic(axis=0)`",
      "metadata": {
        "tags": [],
        "slideshow": {
          "slide_type": "fragment"
        },
        "user_expressions": [],
        "cell_id": "54fa1496a0154c8983c575c8fea865ae",
        "deepnote_cell_type": "markdown"
      },
      "block_group": "4990504a514a481f83d03e53d52e1e8e"
    },
    {
      "cell_type": "markdown",
      "source": "* Statistics across columns: `df.statistic(axis=1)`",
      "metadata": {
        "tags": [],
        "slideshow": {
          "slide_type": "fragment"
        },
        "user_expressions": [],
        "cell_id": "eeda3f6078b24d969b4b482a464b9346",
        "deepnote_cell_type": "markdown"
      },
      "block_group": "7794e3f4c5ac4068af02eaf4da00edb2"
    },
    {
      "cell_type": "markdown",
      "source": "The special method `describe` generates various summary statistics\n```python\ndf.describe()\n```",
      "metadata": {
        "tags": [],
        "slideshow": {
          "slide_type": "subslide"
        },
        "user_expressions": [],
        "cell_id": "a53dd2859f8e41fbb5141d0c7dea4031",
        "deepnote_cell_type": "markdown"
      },
      "block_group": "4b77f6c0d6e548c38dbd14986531afc8"
    },
    {
      "cell_type": "markdown",
      "source": "<div class=\"alert alert-block alert-info\">\n    <b>Note:</b> You can apply these statistics to a single column or a subset of columns.\n</div>",
      "metadata": {
        "tags": [],
        "slideshow": {
          "slide_type": "fragment"
        },
        "user_expressions": [],
        "cell_id": "b96aa3479cdb4880bd2d748261da96a2",
        "deepnote_cell_type": "markdown"
      },
      "block_group": "3936f215d1a1463a8b9ace303cd7625a"
    },
    {
      "cell_type": "code",
      "source": "musicians.describe()",
      "metadata": {
        "tags": [],
        "slideshow": {
          "slide_type": "subslide"
        },
        "source_hash": "cf9852ba",
        "execution_start": 1730132649416,
        "execution_millis": 1,
        "execution_context_id": "7c89757c-8d24-40c2-891e-29eb8cc3b4ff",
        "cell_id": "1f86aab9dda947c8a9aeb54464b8fe06",
        "deepnote_cell_type": "code"
      },
      "outputs": [
        {
          "output_type": "execute_result",
          "execution_count": 26,
          "data": {
            "application/vnd.deepnote.dataframe.v3+json": {
              "column_count": 2,
              "row_count": 8,
              "columns": [
                {
                  "name": "Age",
                  "dtype": "float64",
                  "stats": {
                    "unique_count": 8,
                    "nan_count": 0,
                    "min": "5.0",
                    "max": "83.0",
                    "histogram": [
                      {
                        "bin_start": 5,
                        "bin_end": 12.8,
                        "count": 1
                      },
                      {
                        "bin_start": 12.8,
                        "bin_end": 20.6,
                        "count": 1
                      },
                      {
                        "bin_start": 20.6,
                        "bin_end": 28.4,
                        "count": 0
                      },
                      {
                        "bin_start": 28.4,
                        "bin_end": 36.2,
                        "count": 1
                      },
                      {
                        "bin_start": 36.2,
                        "bin_end": 44,
                        "count": 0
                      },
                      {
                        "bin_start": 44,
                        "bin_end": 51.8,
                        "count": 0
                      },
                      {
                        "bin_start": 51.8,
                        "bin_end": 59.6,
                        "count": 0
                      },
                      {
                        "bin_start": 59.6,
                        "bin_end": 67.4,
                        "count": 0
                      },
                      {
                        "bin_start": 67.4,
                        "bin_end": 75.2,
                        "count": 2
                      },
                      {
                        "bin_start": 75.2,
                        "bin_end": 83,
                        "count": 3
                      }
                    ]
                  }
                },
                {
                  "name": "Young Female (as integer)",
                  "dtype": "float64",
                  "stats": {
                    "unique_count": 5,
                    "nan_count": 0,
                    "min": "0.0",
                    "max": "5.0",
                    "histogram": [
                      {
                        "bin_start": 0,
                        "bin_end": 0.5,
                        "count": 6
                      },
                      {
                        "bin_start": 0.5,
                        "bin_end": 1,
                        "count": 0
                      },
                      {
                        "bin_start": 1,
                        "bin_end": 1.5,
                        "count": 1
                      },
                      {
                        "bin_start": 1.5,
                        "bin_end": 2,
                        "count": 0
                      },
                      {
                        "bin_start": 2,
                        "bin_end": 2.5,
                        "count": 0
                      },
                      {
                        "bin_start": 2.5,
                        "bin_end": 3,
                        "count": 0
                      },
                      {
                        "bin_start": 3,
                        "bin_end": 3.5,
                        "count": 0
                      },
                      {
                        "bin_start": 3.5,
                        "bin_end": 4,
                        "count": 0
                      },
                      {
                        "bin_start": 4,
                        "bin_end": 4.5,
                        "count": 0
                      },
                      {
                        "bin_start": 4.5,
                        "bin_end": 5,
                        "count": 1
                      }
                    ]
                  }
                },
                {
                  "name": "_deepnote_index_column",
                  "dtype": "object"
                }
              ],
              "rows": [
                {
                  "Age": 5,
                  "Young Female (as integer)": 5,
                  "_deepnote_index_column": "count"
                },
                {
                  "Age": 70,
                  "Young Female (as integer)": 0.2,
                  "_deepnote_index_column": "mean"
                },
                {
                  "Age": 20.43281674170255,
                  "Young Female (as integer)": 0.44721359549995804,
                  "_deepnote_index_column": "std"
                },
                {
                  "Age": 34,
                  "Young Female (as integer)": 0,
                  "_deepnote_index_column": "min"
                },
                {
                  "Age": 75,
                  "Young Female (as integer)": 0,
                  "_deepnote_index_column": "25%"
                },
                {
                  "Age": 76,
                  "Young Female (as integer)": 0,
                  "_deepnote_index_column": "50%"
                },
                {
                  "Age": 82,
                  "Young Female (as integer)": 0,
                  "_deepnote_index_column": "75%"
                },
                {
                  "Age": 83,
                  "Young Female (as integer)": 1,
                  "_deepnote_index_column": "max"
                }
              ]
            },
            "text/plain": "             Age  Young Female (as integer)\ncount   5.000000                   5.000000\nmean   70.000000                   0.200000\nstd    20.432817                   0.447214\nmin    34.000000                   0.000000\n25%    75.000000                   0.000000\n50%    76.000000                   0.000000\n75%    82.000000                   0.000000\nmax    83.000000                   1.000000",
            "text/html": "<div>\n<style scoped>\n    .dataframe tbody tr th:only-of-type {\n        vertical-align: middle;\n    }\n\n    .dataframe tbody tr th {\n        vertical-align: top;\n    }\n\n    .dataframe thead th {\n        text-align: right;\n    }\n</style>\n<table border=\"1\" class=\"dataframe\">\n  <thead>\n    <tr style=\"text-align: right;\">\n      <th></th>\n      <th>Age</th>\n      <th>Young Female (as integer)</th>\n    </tr>\n  </thead>\n  <tbody>\n    <tr>\n      <th>count</th>\n      <td>5.000000</td>\n      <td>5.000000</td>\n    </tr>\n    <tr>\n      <th>mean</th>\n      <td>70.000000</td>\n      <td>0.200000</td>\n    </tr>\n    <tr>\n      <th>std</th>\n      <td>20.432817</td>\n      <td>0.447214</td>\n    </tr>\n    <tr>\n      <th>min</th>\n      <td>34.000000</td>\n      <td>0.000000</td>\n    </tr>\n    <tr>\n      <th>25%</th>\n      <td>75.000000</td>\n      <td>0.000000</td>\n    </tr>\n    <tr>\n      <th>50%</th>\n      <td>76.000000</td>\n      <td>0.000000</td>\n    </tr>\n    <tr>\n      <th>75%</th>\n      <td>82.000000</td>\n      <td>0.000000</td>\n    </tr>\n    <tr>\n      <th>max</th>\n      <td>83.000000</td>\n      <td>1.000000</td>\n    </tr>\n  </tbody>\n</table>\n</div>"
          },
          "metadata": {}
        }
      ],
      "outputs_reference": null,
      "execution_count": 26,
      "block_group": "0e7a99094f0c4e788ce9b8a89f388bd8",
      "content_dependencies": null
    },
    {
      "cell_type": "code",
      "source": "musicians['Mean Age'] = musicians['Age'].mean()\nmusicians",
      "metadata": {
        "tags": [],
        "slideshow": {
          "slide_type": "subslide"
        },
        "source_hash": "c58bec13",
        "execution_start": 1730132649468,
        "execution_millis": 1,
        "execution_context_id": "7c89757c-8d24-40c2-891e-29eb8cc3b4ff",
        "cell_id": "9e1d57c769f2414096e38d1e3469c626",
        "deepnote_cell_type": "code"
      },
      "outputs": [
        {
          "output_type": "execute_result",
          "execution_count": 27,
          "data": {
            "application/vnd.deepnote.dataframe.v3+json": {
              "column_count": 7,
              "row_count": 5,
              "columns": [
                {
                  "name": "First Name",
                  "dtype": "object",
                  "stats": {
                    "unique_count": 5,
                    "nan_count": 0,
                    "categories": [
                      {
                        "name": "Taylor",
                        "count": 1
                      },
                      {
                        "name": "John",
                        "count": 1
                      },
                      {
                        "name": "3 others",
                        "count": 3
                      }
                    ]
                  }
                },
                {
                  "name": "Last Name",
                  "dtype": "object",
                  "stats": {
                    "unique_count": 5,
                    "nan_count": 0,
                    "categories": [
                      {
                        "name": "Swift",
                        "count": 1
                      },
                      {
                        "name": "Lennon",
                        "count": 1
                      },
                      {
                        "name": "3 others",
                        "count": 3
                      }
                    ]
                  }
                },
                {
                  "name": "Age",
                  "dtype": "int64",
                  "stats": {
                    "unique_count": 5,
                    "nan_count": 0,
                    "min": "34",
                    "max": "83",
                    "histogram": [
                      {
                        "bin_start": 34,
                        "bin_end": 38.9,
                        "count": 1
                      },
                      {
                        "bin_start": 38.9,
                        "bin_end": 43.8,
                        "count": 0
                      },
                      {
                        "bin_start": 43.8,
                        "bin_end": 48.7,
                        "count": 0
                      },
                      {
                        "bin_start": 48.7,
                        "bin_end": 53.6,
                        "count": 0
                      },
                      {
                        "bin_start": 53.6,
                        "bin_end": 58.5,
                        "count": 0
                      },
                      {
                        "bin_start": 58.5,
                        "bin_end": 63.400000000000006,
                        "count": 0
                      },
                      {
                        "bin_start": 63.400000000000006,
                        "bin_end": 68.30000000000001,
                        "count": 0
                      },
                      {
                        "bin_start": 68.30000000000001,
                        "bin_end": 73.2,
                        "count": 0
                      },
                      {
                        "bin_start": 73.2,
                        "bin_end": 78.1,
                        "count": 2
                      },
                      {
                        "bin_start": 78.1,
                        "bin_end": 83,
                        "count": 2
                      }
                    ]
                  }
                },
                {
                  "name": "Gender",
                  "dtype": "object",
                  "stats": {
                    "unique_count": 2,
                    "nan_count": 0,
                    "categories": [
                      {
                        "name": "Male",
                        "count": 3
                      },
                      {
                        "name": "Female",
                        "count": 2
                      }
                    ]
                  }
                },
                {
                  "name": "Young Female",
                  "dtype": "bool",
                  "stats": {
                    "unique_count": 2,
                    "nan_count": 0,
                    "categories": [
                      {
                        "name": "False",
                        "count": 4
                      },
                      {
                        "name": "True",
                        "count": 1
                      }
                    ]
                  }
                },
                {
                  "name": "Young Female (as integer)",
                  "dtype": "int64",
                  "stats": {
                    "unique_count": 2,
                    "nan_count": 0,
                    "min": "0",
                    "max": "1",
                    "histogram": [
                      {
                        "bin_start": 0,
                        "bin_end": 0.1,
                        "count": 4
                      },
                      {
                        "bin_start": 0.1,
                        "bin_end": 0.2,
                        "count": 0
                      },
                      {
                        "bin_start": 0.2,
                        "bin_end": 0.30000000000000004,
                        "count": 0
                      },
                      {
                        "bin_start": 0.30000000000000004,
                        "bin_end": 0.4,
                        "count": 0
                      },
                      {
                        "bin_start": 0.4,
                        "bin_end": 0.5,
                        "count": 0
                      },
                      {
                        "bin_start": 0.5,
                        "bin_end": 0.6000000000000001,
                        "count": 0
                      },
                      {
                        "bin_start": 0.6000000000000001,
                        "bin_end": 0.7000000000000001,
                        "count": 0
                      },
                      {
                        "bin_start": 0.7000000000000001,
                        "bin_end": 0.8,
                        "count": 0
                      },
                      {
                        "bin_start": 0.8,
                        "bin_end": 0.9,
                        "count": 0
                      },
                      {
                        "bin_start": 0.9,
                        "bin_end": 1,
                        "count": 1
                      }
                    ]
                  }
                },
                {
                  "name": "Mean Age",
                  "dtype": "float64",
                  "stats": {
                    "unique_count": 1,
                    "nan_count": 0,
                    "min": "70.0",
                    "max": "70.0",
                    "histogram": [
                      {
                        "bin_start": 69.5,
                        "bin_end": 69.6,
                        "count": 0
                      },
                      {
                        "bin_start": 69.6,
                        "bin_end": 69.7,
                        "count": 0
                      },
                      {
                        "bin_start": 69.7,
                        "bin_end": 69.8,
                        "count": 0
                      },
                      {
                        "bin_start": 69.8,
                        "bin_end": 69.9,
                        "count": 0
                      },
                      {
                        "bin_start": 69.9,
                        "bin_end": 70,
                        "count": 0
                      },
                      {
                        "bin_start": 70,
                        "bin_end": 70.1,
                        "count": 5
                      },
                      {
                        "bin_start": 70.1,
                        "bin_end": 70.2,
                        "count": 0
                      },
                      {
                        "bin_start": 70.2,
                        "bin_end": 70.3,
                        "count": 0
                      },
                      {
                        "bin_start": 70.3,
                        "bin_end": 70.4,
                        "count": 0
                      },
                      {
                        "bin_start": 70.4,
                        "bin_end": 70.5,
                        "count": 0
                      }
                    ]
                  }
                },
                {
                  "name": "_deepnote_index_column",
                  "dtype": "int64"
                }
              ],
              "rows": [
                {
                  "First Name": "Taylor",
                  "Last Name": "Swift",
                  "Age": 34,
                  "Gender": "Female",
                  "Young Female": "True",
                  "Young Female (as integer)": 1,
                  "Mean Age": 70,
                  "_deepnote_index_column": 0
                },
                {
                  "First Name": "John",
                  "Last Name": "Lennon",
                  "Age": 75,
                  "Gender": "Male",
                  "Young Female": "False",
                  "Young Female (as integer)": 0,
                  "Mean Age": 70,
                  "_deepnote_index_column": 1
                },
                {
                  "First Name": "Fela",
                  "Last Name": "Kuti",
                  "Age": 83,
                  "Gender": "Male",
                  "Young Female": "False",
                  "Young Female (as integer)": 0,
                  "Mean Age": 70,
                  "_deepnote_index_column": 2
                },
                {
                  "First Name": "Manu",
                  "Last Name": "Chau",
                  "Age": 82,
                  "Gender": "Male",
                  "Young Female": "False",
                  "Young Female (as integer)": 0,
                  "Mean Age": 70,
                  "_deepnote_index_column": 3
                },
                {
                  "First Name": "Şebnem",
                  "Last Name": "Ferrah",
                  "Age": 76,
                  "Gender": "Female",
                  "Young Female": "False",
                  "Young Female (as integer)": 0,
                  "Mean Age": 70,
                  "_deepnote_index_column": 4
                }
              ]
            },
            "text/plain": "  First Name Last Name  Age  Gender  Young Female  Young Female (as integer)  \\\n0     Taylor     Swift   34  Female          True                          1   \n1       John    Lennon   75    Male         False                          0   \n2       Fela      Kuti   83    Male         False                          0   \n3       Manu      Chau   82    Male         False                          0   \n4     Şebnem    Ferrah   76  Female         False                          0   \n\n   Mean Age  \n0      70.0  \n1      70.0  \n2      70.0  \n3      70.0  \n4      70.0  ",
            "text/html": "<div>\n<style scoped>\n    .dataframe tbody tr th:only-of-type {\n        vertical-align: middle;\n    }\n\n    .dataframe tbody tr th {\n        vertical-align: top;\n    }\n\n    .dataframe thead th {\n        text-align: right;\n    }\n</style>\n<table border=\"1\" class=\"dataframe\">\n  <thead>\n    <tr style=\"text-align: right;\">\n      <th></th>\n      <th>First Name</th>\n      <th>Last Name</th>\n      <th>Age</th>\n      <th>Gender</th>\n      <th>Young Female</th>\n      <th>Young Female (as integer)</th>\n      <th>Mean Age</th>\n    </tr>\n  </thead>\n  <tbody>\n    <tr>\n      <th>0</th>\n      <td>Taylor</td>\n      <td>Swift</td>\n      <td>34</td>\n      <td>Female</td>\n      <td>True</td>\n      <td>1</td>\n      <td>70.0</td>\n    </tr>\n    <tr>\n      <th>1</th>\n      <td>John</td>\n      <td>Lennon</td>\n      <td>75</td>\n      <td>Male</td>\n      <td>False</td>\n      <td>0</td>\n      <td>70.0</td>\n    </tr>\n    <tr>\n      <th>2</th>\n      <td>Fela</td>\n      <td>Kuti</td>\n      <td>83</td>\n      <td>Male</td>\n      <td>False</td>\n      <td>0</td>\n      <td>70.0</td>\n    </tr>\n    <tr>\n      <th>3</th>\n      <td>Manu</td>\n      <td>Chau</td>\n      <td>82</td>\n      <td>Male</td>\n      <td>False</td>\n      <td>0</td>\n      <td>70.0</td>\n    </tr>\n    <tr>\n      <th>4</th>\n      <td>Şebnem</td>\n      <td>Ferrah</td>\n      <td>76</td>\n      <td>Female</td>\n      <td>False</td>\n      <td>0</td>\n      <td>70.0</td>\n    </tr>\n  </tbody>\n</table>\n</div>"
          },
          "metadata": {}
        }
      ],
      "outputs_reference": null,
      "execution_count": 27,
      "block_group": "17c686622cde4eacaf51261a47f355dd",
      "content_dependencies": null
    },
    {
      "cell_type": "markdown",
      "source": "# Apply Functions or Create Aggregate Statistics by Groups of Rows",
      "metadata": {
        "tags": [],
        "slideshow": {
          "slide_type": "subslide"
        },
        "user_expressions": [],
        "cell_id": "d7ae979d08f54c2ea5726a263cefa933",
        "deepnote_cell_type": "markdown"
      },
      "block_group": "09a1ae6bb784466a8da0a92a02e1075e"
    },
    {
      "cell_type": "markdown",
      "source": "<center><a href=\"https://pandas.pydata.org/docs/getting_started/intro_tutorials/06_calculate_statistics.html#min-tut-06-stats\"><img src=\"https://raw.githubusercontent.com/SMU-Econ-Growth/EconGrowthUG-Notebooks/c004a90a03c3633fd05cdbce96647e229fdc21d8/pics/06_groupby.svg\" alt=\"groupby\" width=700/></a></center>",
      "metadata": {
        "tags": [],
        "slideshow": {
          "slide_type": "-"
        },
        "user_expressions": [],
        "cell_id": "84b2abd2888b4b6f9f62f37cab1fd91d",
        "deepnote_cell_type": "markdown"
      },
      "block_group": "d74aceffa1224878930aecd174861876"
    },
    {
      "cell_type": "markdown",
      "source": "* To generate statistics or apply functions my groups in the data we use the `groupby` method",
      "metadata": {
        "tags": [],
        "slideshow": {
          "slide_type": "subslide"
        },
        "user_expressions": [],
        "cell_id": "2dfc28bb9cf242e7865f4dbf7dfb6fbd",
        "deepnote_cell_type": "markdown"
      },
      "block_group": "828e673785364702a54435b6a24ca7f0"
    },
    {
      "cell_type": "markdown",
      "source": "* To generate a dataframe that contains the statistics for each group defined by columns named `Variable1` and `Variable2`\n    \n```python\ndf.groupby(['Variable1', 'Variable2']).statistic()\n```",
      "metadata": {
        "tags": [],
        "slideshow": {
          "slide_type": "fragment"
        },
        "user_expressions": [],
        "cell_id": "1d3c74212eb74e2d8ae806d898dfbb50",
        "deepnote_cell_type": "markdown"
      },
      "block_group": "b067c043a1f6455ebb85c0bf6144f28a"
    },
    {
      "cell_type": "markdown",
      "source": "* To apply a function to all rows in each group and generate a dataframe with the group level result\n```python\ndf.groupby(['Variable1', 'Variable2']).apply(my_function)\n```",
      "metadata": {
        "tags": [],
        "slideshow": {
          "slide_type": "fragment"
        },
        "user_expressions": [],
        "cell_id": "3b326a3d05d54f7fb02203f1589f6093",
        "deepnote_cell_type": "markdown"
      },
      "block_group": "316ace4b78eb4c88a0e5ee24a589d45d"
    },
    {
      "cell_type": "code",
      "source": "musicians_gender = musicians.groupby(['Gender']).mean(numeric_only=True)\nmusicians_gender",
      "metadata": {
        "tags": [],
        "slideshow": {
          "slide_type": "subslide"
        },
        "source_hash": "e7413ad9",
        "execution_start": 1730132649516,
        "execution_millis": 1,
        "execution_context_id": "7c89757c-8d24-40c2-891e-29eb8cc3b4ff",
        "cell_id": "40edf8aa2c2747c6a1f0c2acbab6967f",
        "deepnote_cell_type": "code"
      },
      "outputs": [
        {
          "output_type": "execute_result",
          "execution_count": 28,
          "data": {
            "application/vnd.deepnote.dataframe.v3+json": {
              "column_count": 4,
              "row_count": 2,
              "columns": [
                {
                  "name": "Age",
                  "dtype": "float64",
                  "stats": {
                    "unique_count": 2,
                    "nan_count": 0,
                    "min": "55.0",
                    "max": "80.0",
                    "histogram": [
                      {
                        "bin_start": 55,
                        "bin_end": 57.5,
                        "count": 1
                      },
                      {
                        "bin_start": 57.5,
                        "bin_end": 60,
                        "count": 0
                      },
                      {
                        "bin_start": 60,
                        "bin_end": 62.5,
                        "count": 0
                      },
                      {
                        "bin_start": 62.5,
                        "bin_end": 65,
                        "count": 0
                      },
                      {
                        "bin_start": 65,
                        "bin_end": 67.5,
                        "count": 0
                      },
                      {
                        "bin_start": 67.5,
                        "bin_end": 70,
                        "count": 0
                      },
                      {
                        "bin_start": 70,
                        "bin_end": 72.5,
                        "count": 0
                      },
                      {
                        "bin_start": 72.5,
                        "bin_end": 75,
                        "count": 0
                      },
                      {
                        "bin_start": 75,
                        "bin_end": 77.5,
                        "count": 0
                      },
                      {
                        "bin_start": 77.5,
                        "bin_end": 80,
                        "count": 1
                      }
                    ]
                  }
                },
                {
                  "name": "Young Female",
                  "dtype": "float64",
                  "stats": {
                    "unique_count": 2,
                    "nan_count": 0,
                    "min": "0.0",
                    "max": "0.5",
                    "histogram": [
                      {
                        "bin_start": 0,
                        "bin_end": 0.05,
                        "count": 1
                      },
                      {
                        "bin_start": 0.05,
                        "bin_end": 0.1,
                        "count": 0
                      },
                      {
                        "bin_start": 0.1,
                        "bin_end": 0.15000000000000002,
                        "count": 0
                      },
                      {
                        "bin_start": 0.15000000000000002,
                        "bin_end": 0.2,
                        "count": 0
                      },
                      {
                        "bin_start": 0.2,
                        "bin_end": 0.25,
                        "count": 0
                      },
                      {
                        "bin_start": 0.25,
                        "bin_end": 0.30000000000000004,
                        "count": 0
                      },
                      {
                        "bin_start": 0.30000000000000004,
                        "bin_end": 0.35000000000000003,
                        "count": 0
                      },
                      {
                        "bin_start": 0.35000000000000003,
                        "bin_end": 0.4,
                        "count": 0
                      },
                      {
                        "bin_start": 0.4,
                        "bin_end": 0.45,
                        "count": 0
                      },
                      {
                        "bin_start": 0.45,
                        "bin_end": 0.5,
                        "count": 1
                      }
                    ]
                  }
                },
                {
                  "name": "Young Female (as integer)",
                  "dtype": "float64",
                  "stats": {
                    "unique_count": 2,
                    "nan_count": 0,
                    "min": "0.0",
                    "max": "0.5",
                    "histogram": [
                      {
                        "bin_start": 0,
                        "bin_end": 0.05,
                        "count": 1
                      },
                      {
                        "bin_start": 0.05,
                        "bin_end": 0.1,
                        "count": 0
                      },
                      {
                        "bin_start": 0.1,
                        "bin_end": 0.15000000000000002,
                        "count": 0
                      },
                      {
                        "bin_start": 0.15000000000000002,
                        "bin_end": 0.2,
                        "count": 0
                      },
                      {
                        "bin_start": 0.2,
                        "bin_end": 0.25,
                        "count": 0
                      },
                      {
                        "bin_start": 0.25,
                        "bin_end": 0.30000000000000004,
                        "count": 0
                      },
                      {
                        "bin_start": 0.30000000000000004,
                        "bin_end": 0.35000000000000003,
                        "count": 0
                      },
                      {
                        "bin_start": 0.35000000000000003,
                        "bin_end": 0.4,
                        "count": 0
                      },
                      {
                        "bin_start": 0.4,
                        "bin_end": 0.45,
                        "count": 0
                      },
                      {
                        "bin_start": 0.45,
                        "bin_end": 0.5,
                        "count": 1
                      }
                    ]
                  }
                },
                {
                  "name": "Mean Age",
                  "dtype": "float64",
                  "stats": {
                    "unique_count": 1,
                    "nan_count": 0,
                    "min": "70.0",
                    "max": "70.0",
                    "histogram": [
                      {
                        "bin_start": 69.5,
                        "bin_end": 69.6,
                        "count": 0
                      },
                      {
                        "bin_start": 69.6,
                        "bin_end": 69.7,
                        "count": 0
                      },
                      {
                        "bin_start": 69.7,
                        "bin_end": 69.8,
                        "count": 0
                      },
                      {
                        "bin_start": 69.8,
                        "bin_end": 69.9,
                        "count": 0
                      },
                      {
                        "bin_start": 69.9,
                        "bin_end": 70,
                        "count": 0
                      },
                      {
                        "bin_start": 70,
                        "bin_end": 70.1,
                        "count": 2
                      },
                      {
                        "bin_start": 70.1,
                        "bin_end": 70.2,
                        "count": 0
                      },
                      {
                        "bin_start": 70.2,
                        "bin_end": 70.3,
                        "count": 0
                      },
                      {
                        "bin_start": 70.3,
                        "bin_end": 70.4,
                        "count": 0
                      },
                      {
                        "bin_start": 70.4,
                        "bin_end": 70.5,
                        "count": 0
                      }
                    ]
                  }
                },
                {
                  "name": "_deepnote_index_column",
                  "dtype": "object"
                }
              ],
              "rows": [
                {
                  "Age": 55,
                  "Young Female": 0.5,
                  "Young Female (as integer)": 0.5,
                  "Mean Age": 70,
                  "_deepnote_index_column": "Female"
                },
                {
                  "Age": 80,
                  "Young Female": 0,
                  "Young Female (as integer)": 0,
                  "Mean Age": 70,
                  "_deepnote_index_column": "Male"
                }
              ]
            },
            "text/plain": "         Age  Young Female  Young Female (as integer)  Mean Age\nGender                                                         \nFemale  55.0           0.5                        0.5      70.0\nMale    80.0           0.0                        0.0      70.0",
            "text/html": "<div>\n<style scoped>\n    .dataframe tbody tr th:only-of-type {\n        vertical-align: middle;\n    }\n\n    .dataframe tbody tr th {\n        vertical-align: top;\n    }\n\n    .dataframe thead th {\n        text-align: right;\n    }\n</style>\n<table border=\"1\" class=\"dataframe\">\n  <thead>\n    <tr style=\"text-align: right;\">\n      <th></th>\n      <th>Age</th>\n      <th>Young Female</th>\n      <th>Young Female (as integer)</th>\n      <th>Mean Age</th>\n    </tr>\n    <tr>\n      <th>Gender</th>\n      <th></th>\n      <th></th>\n      <th></th>\n      <th></th>\n    </tr>\n  </thead>\n  <tbody>\n    <tr>\n      <th>Female</th>\n      <td>55.0</td>\n      <td>0.5</td>\n      <td>0.5</td>\n      <td>70.0</td>\n    </tr>\n    <tr>\n      <th>Male</th>\n      <td>80.0</td>\n      <td>0.0</td>\n      <td>0.0</td>\n      <td>70.0</td>\n    </tr>\n  </tbody>\n</table>\n</div>"
          },
          "metadata": {}
        }
      ],
      "outputs_reference": null,
      "execution_count": 28,
      "block_group": "ec17aa19421e494c8faf58b02b43951d",
      "content_dependencies": null
    },
    {
      "cell_type": "markdown",
      "source": "## Notice the rows are not numbered now, but are using the `Gender` categories, so we can select rows using them",
      "metadata": {
        "tags": [],
        "slideshow": {
          "slide_type": "fragment"
        },
        "user_expressions": [],
        "cell_id": "d73d0673d3d44fcc8576c65bac9c709a",
        "deepnote_cell_type": "markdown"
      },
      "block_group": "5165a5aced6e4a0bb0610fa97b80e95c"
    },
    {
      "cell_type": "code",
      "source": "musicians_gender.loc['Female']",
      "metadata": {
        "tags": [],
        "slideshow": {
          "slide_type": "fragment"
        },
        "source_hash": "206e95c0",
        "execution_start": 1730132649564,
        "execution_millis": 1,
        "execution_context_id": "7c89757c-8d24-40c2-891e-29eb8cc3b4ff",
        "cell_id": "93de641451004f3fb94faea6bcf3f012",
        "deepnote_cell_type": "code"
      },
      "outputs": [
        {
          "output_type": "execute_result",
          "execution_count": 29,
          "data": {
            "text/plain": "Age                          55.0\nYoung Female                  0.5\nYoung Female (as integer)     0.5\nMean Age                     70.0\nName: Female, dtype: float64"
          },
          "metadata": {}
        }
      ],
      "outputs_reference": null,
      "execution_count": 29,
      "block_group": "aaebbce3e3db4111804b8038d0384743",
      "content_dependencies": null
    },
    {
      "cell_type": "markdown",
      "source": "## If you want to put the categories back to columns and have numbers as indices, use the `reset_index()` function",
      "metadata": {
        "tags": [],
        "slideshow": {
          "slide_type": "subslide"
        },
        "user_expressions": [],
        "cell_id": "ce515a07c1c74d71964d889f5421788a",
        "deepnote_cell_type": "markdown"
      },
      "block_group": "362e4b92c88744c7a22447c45c137791"
    },
    {
      "cell_type": "code",
      "source": "musicians_gender = musicians_gender.reset_index()\nmusicians_gender",
      "metadata": {
        "tags": [],
        "slideshow": {
          "slide_type": "-"
        },
        "source_hash": "b9068803",
        "execution_start": 1730132649612,
        "execution_millis": 1,
        "execution_context_id": "7c89757c-8d24-40c2-891e-29eb8cc3b4ff",
        "cell_id": "bb10195985f349b0a84b36813f281a46",
        "deepnote_cell_type": "code"
      },
      "outputs": [
        {
          "output_type": "execute_result",
          "execution_count": 30,
          "data": {
            "application/vnd.deepnote.dataframe.v3+json": {
              "column_count": 5,
              "row_count": 2,
              "columns": [
                {
                  "name": "Gender",
                  "dtype": "object",
                  "stats": {
                    "unique_count": 2,
                    "nan_count": 0,
                    "categories": [
                      {
                        "name": "Female",
                        "count": 1
                      },
                      {
                        "name": "Male",
                        "count": 1
                      }
                    ]
                  }
                },
                {
                  "name": "Age",
                  "dtype": "float64",
                  "stats": {
                    "unique_count": 2,
                    "nan_count": 0,
                    "min": "55.0",
                    "max": "80.0",
                    "histogram": [
                      {
                        "bin_start": 55,
                        "bin_end": 57.5,
                        "count": 1
                      },
                      {
                        "bin_start": 57.5,
                        "bin_end": 60,
                        "count": 0
                      },
                      {
                        "bin_start": 60,
                        "bin_end": 62.5,
                        "count": 0
                      },
                      {
                        "bin_start": 62.5,
                        "bin_end": 65,
                        "count": 0
                      },
                      {
                        "bin_start": 65,
                        "bin_end": 67.5,
                        "count": 0
                      },
                      {
                        "bin_start": 67.5,
                        "bin_end": 70,
                        "count": 0
                      },
                      {
                        "bin_start": 70,
                        "bin_end": 72.5,
                        "count": 0
                      },
                      {
                        "bin_start": 72.5,
                        "bin_end": 75,
                        "count": 0
                      },
                      {
                        "bin_start": 75,
                        "bin_end": 77.5,
                        "count": 0
                      },
                      {
                        "bin_start": 77.5,
                        "bin_end": 80,
                        "count": 1
                      }
                    ]
                  }
                },
                {
                  "name": "Young Female",
                  "dtype": "float64",
                  "stats": {
                    "unique_count": 2,
                    "nan_count": 0,
                    "min": "0.0",
                    "max": "0.5",
                    "histogram": [
                      {
                        "bin_start": 0,
                        "bin_end": 0.05,
                        "count": 1
                      },
                      {
                        "bin_start": 0.05,
                        "bin_end": 0.1,
                        "count": 0
                      },
                      {
                        "bin_start": 0.1,
                        "bin_end": 0.15000000000000002,
                        "count": 0
                      },
                      {
                        "bin_start": 0.15000000000000002,
                        "bin_end": 0.2,
                        "count": 0
                      },
                      {
                        "bin_start": 0.2,
                        "bin_end": 0.25,
                        "count": 0
                      },
                      {
                        "bin_start": 0.25,
                        "bin_end": 0.30000000000000004,
                        "count": 0
                      },
                      {
                        "bin_start": 0.30000000000000004,
                        "bin_end": 0.35000000000000003,
                        "count": 0
                      },
                      {
                        "bin_start": 0.35000000000000003,
                        "bin_end": 0.4,
                        "count": 0
                      },
                      {
                        "bin_start": 0.4,
                        "bin_end": 0.45,
                        "count": 0
                      },
                      {
                        "bin_start": 0.45,
                        "bin_end": 0.5,
                        "count": 1
                      }
                    ]
                  }
                },
                {
                  "name": "Young Female (as integer)",
                  "dtype": "float64",
                  "stats": {
                    "unique_count": 2,
                    "nan_count": 0,
                    "min": "0.0",
                    "max": "0.5",
                    "histogram": [
                      {
                        "bin_start": 0,
                        "bin_end": 0.05,
                        "count": 1
                      },
                      {
                        "bin_start": 0.05,
                        "bin_end": 0.1,
                        "count": 0
                      },
                      {
                        "bin_start": 0.1,
                        "bin_end": 0.15000000000000002,
                        "count": 0
                      },
                      {
                        "bin_start": 0.15000000000000002,
                        "bin_end": 0.2,
                        "count": 0
                      },
                      {
                        "bin_start": 0.2,
                        "bin_end": 0.25,
                        "count": 0
                      },
                      {
                        "bin_start": 0.25,
                        "bin_end": 0.30000000000000004,
                        "count": 0
                      },
                      {
                        "bin_start": 0.30000000000000004,
                        "bin_end": 0.35000000000000003,
                        "count": 0
                      },
                      {
                        "bin_start": 0.35000000000000003,
                        "bin_end": 0.4,
                        "count": 0
                      },
                      {
                        "bin_start": 0.4,
                        "bin_end": 0.45,
                        "count": 0
                      },
                      {
                        "bin_start": 0.45,
                        "bin_end": 0.5,
                        "count": 1
                      }
                    ]
                  }
                },
                {
                  "name": "Mean Age",
                  "dtype": "float64",
                  "stats": {
                    "unique_count": 1,
                    "nan_count": 0,
                    "min": "70.0",
                    "max": "70.0",
                    "histogram": [
                      {
                        "bin_start": 69.5,
                        "bin_end": 69.6,
                        "count": 0
                      },
                      {
                        "bin_start": 69.6,
                        "bin_end": 69.7,
                        "count": 0
                      },
                      {
                        "bin_start": 69.7,
                        "bin_end": 69.8,
                        "count": 0
                      },
                      {
                        "bin_start": 69.8,
                        "bin_end": 69.9,
                        "count": 0
                      },
                      {
                        "bin_start": 69.9,
                        "bin_end": 70,
                        "count": 0
                      },
                      {
                        "bin_start": 70,
                        "bin_end": 70.1,
                        "count": 2
                      },
                      {
                        "bin_start": 70.1,
                        "bin_end": 70.2,
                        "count": 0
                      },
                      {
                        "bin_start": 70.2,
                        "bin_end": 70.3,
                        "count": 0
                      },
                      {
                        "bin_start": 70.3,
                        "bin_end": 70.4,
                        "count": 0
                      },
                      {
                        "bin_start": 70.4,
                        "bin_end": 70.5,
                        "count": 0
                      }
                    ]
                  }
                },
                {
                  "name": "_deepnote_index_column",
                  "dtype": "int64"
                }
              ],
              "rows": [
                {
                  "Gender": "Female",
                  "Age": 55,
                  "Young Female": 0.5,
                  "Young Female (as integer)": 0.5,
                  "Mean Age": 70,
                  "_deepnote_index_column": 0
                },
                {
                  "Gender": "Male",
                  "Age": 80,
                  "Young Female": 0,
                  "Young Female (as integer)": 0,
                  "Mean Age": 70,
                  "_deepnote_index_column": 1
                }
              ]
            },
            "text/plain": "   Gender   Age  Young Female  Young Female (as integer)  Mean Age\n0  Female  55.0           0.5                        0.5      70.0\n1    Male  80.0           0.0                        0.0      70.0",
            "text/html": "<div>\n<style scoped>\n    .dataframe tbody tr th:only-of-type {\n        vertical-align: middle;\n    }\n\n    .dataframe tbody tr th {\n        vertical-align: top;\n    }\n\n    .dataframe thead th {\n        text-align: right;\n    }\n</style>\n<table border=\"1\" class=\"dataframe\">\n  <thead>\n    <tr style=\"text-align: right;\">\n      <th></th>\n      <th>Gender</th>\n      <th>Age</th>\n      <th>Young Female</th>\n      <th>Young Female (as integer)</th>\n      <th>Mean Age</th>\n    </tr>\n  </thead>\n  <tbody>\n    <tr>\n      <th>0</th>\n      <td>Female</td>\n      <td>55.0</td>\n      <td>0.5</td>\n      <td>0.5</td>\n      <td>70.0</td>\n    </tr>\n    <tr>\n      <th>1</th>\n      <td>Male</td>\n      <td>80.0</td>\n      <td>0.0</td>\n      <td>0.0</td>\n      <td>70.0</td>\n    </tr>\n  </tbody>\n</table>\n</div>"
          },
          "metadata": {}
        }
      ],
      "outputs_reference": null,
      "execution_count": 30,
      "block_group": "20a417df8d8146dc8ff1258a70393368",
      "content_dependencies": null
    },
    {
      "cell_type": "markdown",
      "source": "# Plot Data",
      "metadata": {
        "tags": [],
        "slideshow": {
          "slide_type": "slide"
        },
        "user_expressions": [],
        "cell_id": "8e3c9dba215142f8bbc201e09e3c22b1",
        "deepnote_cell_type": "markdown"
      },
      "block_group": "1828d97ac86749fab968fe140bfd855f"
    },
    {
      "cell_type": "markdown",
      "source": "<center><a href=\"https://pandas.pydata.org/docs/getting_started/intro_tutorials/04_plotting.html#min-tut-04-plotting\"><img src=\"https://raw.githubusercontent.com/SMU-Econ-Growth/EconGrowthUG-Notebooks/c004a90a03c3633fd05cdbce96647e229fdc21d8/pics/04_plot_overview.svg\" alt=\"Plotting\" width=700/></a></center>",
      "metadata": {
        "tags": [],
        "slideshow": {
          "slide_type": "-"
        },
        "user_expressions": [],
        "cell_id": "80df890beba9478899dc34672b943c57",
        "deepnote_cell_type": "markdown"
      },
      "block_group": "447b92f74cd74925ba5a2a8e8ff0fb0d"
    },
    {
      "cell_type": "markdown",
      "source": "**pandas** can easily create various types of plots based on the data\n* Plot all variables, where $x$ is the index\n```python\ndf.plot()\n```",
      "metadata": {
        "tags": [],
        "slideshow": {
          "slide_type": "subslide"
        },
        "user_expressions": [],
        "cell_id": "a4b15ac6cf874791bd5409b05e4101a0",
        "deepnote_cell_type": "markdown"
      },
      "block_group": "52b0a02a14c74fce977343ea7444bc57"
    },
    {
      "cell_type": "markdown",
      "source": "* Plot only one specific variable (against the index)\n```python\ndf['variable'].plot()\n```\nor\n```python\ndf.variable_name.plot()\n```",
      "metadata": {
        "slideshow": {
          "slide_type": "subslide"
        },
        "user_expressions": [],
        "cell_id": "9fb5dcab072b496783951fd32c306f36",
        "deepnote_cell_type": "markdown"
      },
      "block_group": "14d3c38cfdcc4e9f8ab14f6d14d07a1e"
    },
    {
      "cell_type": "markdown",
      "source": "* Plot `variable X` against `variable Y`\n```python\ndf.plot.scatter(x='Variable X', y='Variable Y')\n```",
      "metadata": {
        "tags": [],
        "slideshow": {
          "slide_type": "subslide"
        },
        "user_expressions": [],
        "cell_id": "c4cc0b2cdc2b46a88f9296979587b10a",
        "deepnote_cell_type": "markdown"
      },
      "block_group": "34f9ac938de049fd930b0b8f99d8bf44"
    },
    {
      "cell_type": "markdown",
      "source": "* Other plot types:\n    * Box plot: `df.plot.box()`\n    * Area plot: df.plot.area()\n    * (Vertical) Bar plot: df.plot.bar()\n    * (Horizontal) Bar plot: df.plot.barh()\n    * Density plot: df.plot.density()\n    * Historam: df.plot.hist()\n    * KDE plot: df.plot.kde()\n    * Pie Chart: df.plot.pie()",
      "metadata": {
        "tags": [],
        "slideshow": {
          "slide_type": "subslide"
        },
        "user_expressions": [],
        "cell_id": "7ee2b2893b764582aa21049233f21763",
        "deepnote_cell_type": "markdown"
      },
      "block_group": "e97a34f05482444c80fd559410d77f84"
    },
    {
      "cell_type": "code",
      "source": "random_data.plot.scatter(x='New Series', y='Some Transformation', \n                         color='r', s=50, label='Very Important Relation!')",
      "metadata": {
        "tags": [],
        "slideshow": {
          "slide_type": "subslide"
        },
        "source_hash": "723f397c",
        "execution_start": 1730132649660,
        "execution_millis": 41,
        "execution_context_id": "7c89757c-8d24-40c2-891e-29eb8cc3b4ff",
        "cell_id": "870bde6de3bb4e158251428306ebc6c3",
        "deepnote_cell_type": "code"
      },
      "outputs": [
        {
          "output_type": "execute_result",
          "execution_count": 31,
          "data": {
            "text/plain": "<Axes: xlabel='New Series', ylabel='Some Transformation'>"
          },
          "metadata": {}
        },
        {
          "data": {
            "text/plain": "<Figure size 640x480 with 1 Axes>",
            "image/png": "[encoded data removed]"
          },
          "metadata": {
            "image/png": {
              "width": 567,
              "height": 432
            }
          },
          "output_type": "display_data"
        }
      ],
      "outputs_reference": null,
      "execution_count": 31,
      "block_group": "c00830eff3974f28a2fcdaf8a0af3d97",
      "content_dependencies": null
    },
    {
      "cell_type": "markdown",
      "source": "## **pandas** uses `matplotlib`, so we can pass options or use axes and figures as we learned before",
      "metadata": {
        "slideshow": {
          "slide_type": "subslide"
        },
        "user_expressions": [],
        "cell_id": "cc1a4a5fa6304cf38585fa0bb0f99b81",
        "deepnote_cell_type": "markdown"
      },
      "block_group": "14fe3a71859b41b4873eb8490f949be7"
    },
    {
      "cell_type": "markdown",
      "source": "## We can also pass **pandas** dataframes to **seaborn**, **statsmodels**, and many other packages",
      "metadata": {
        "tags": [],
        "slideshow": {
          "slide_type": "subslide"
        },
        "user_expressions": [],
        "cell_id": "8d09e0839ea4412eb13f5c960741a927",
        "deepnote_cell_type": "markdown"
      },
      "block_group": "10f7ddc772544094a9cc9f8e6b0361e7"
    },
    {
      "cell_type": "markdown",
      "source": "# Reshape DataFrame",
      "metadata": {
        "tags": [],
        "slideshow": {
          "slide_type": "slide"
        },
        "user_expressions": [],
        "cell_id": "99239786e74841458821b71030f48baf",
        "deepnote_cell_type": "markdown"
      },
      "block_group": "36e088ad526a47b791e5b004c13e2315"
    },
    {
      "cell_type": "markdown",
      "source": "<center><a href=\"https://pandas.pydata.org/docs/getting_started/intro_tutorials/07_reshape_table_layout.html#min-tut-07-reshape\"><img src=\"https://raw.githubusercontent.com/SMU-Econ-Growth/EconGrowthUG-Notebooks/c004a90a03c3633fd05cdbce96647e229fdc21d8/pics/07_melt.svg\" alt=\"melt\" width=500/><img src=\"https://raw.githubusercontent.com/SMU-Econ-Growth/EconGrowthUG-Notebooks/c004a90a03c3633fd05cdbce96647e229fdc21d8/pics/07_pivot.svg\" alt=\"pivot\" width=500/></a></center>",
      "metadata": {
        "tags": [],
        "slideshow": {
          "slide_type": "-"
        },
        "user_expressions": [],
        "cell_id": "fc72ad8a06f2494db1951db7826e7892",
        "deepnote_cell_type": "markdown"
      },
      "block_group": "35aa53c762b74e508d90d4e1a4843107"
    },
    {
      "cell_type": "markdown",
      "source": "## Many times you may need to reshape you data\n* To be used in other python commands\n* For further processing",
      "metadata": {
        "tags": [],
        "slideshow": {
          "slide_type": "subslide"
        },
        "user_expressions": [],
        "cell_id": "039289ba7e7a4610a12f930035edba6a",
        "deepnote_cell_type": "markdown"
      },
      "block_group": "47207aad492943f694cc4138d3c44de9"
    },
    {
      "cell_type": "markdown",
      "source": "# Reshape DataFrame From Wide To Long",
      "metadata": {
        "tags": [],
        "slideshow": {
          "slide_type": "subslide"
        },
        "user_expressions": [],
        "cell_id": "833a1cea762b4ac79c194ec68e00d374",
        "deepnote_cell_type": "markdown"
      },
      "block_group": "22cb556ea25541eb8bbc6a97d516048c"
    },
    {
      "cell_type": "markdown",
      "source": "<center><a href=\"https://pandas.pydata.org/docs/getting_started/intro_tutorials/07_reshape_table_layout.html#min-tut-07-reshape\"><img src=\"https://raw.githubusercontent.com/SMU-Econ-Growth/EconGrowthUG-Notebooks/c004a90a03c3633fd05cdbce96647e229fdc21d8/pics/07_melt.svg\" alt=\"melt\" width=700/></center>",
      "metadata": {
        "tags": [],
        "slideshow": {
          "slide_type": "-"
        },
        "user_expressions": [],
        "cell_id": "1075fa38ac714b8aa88e8f08db662964",
        "deepnote_cell_type": "markdown"
      },
      "block_group": "b6f13a9ab8474616a0a2d697f97e81da"
    },
    {
      "cell_type": "markdown",
      "source": "## Original dataframe has units (countries, households, individuals) in rows and variables or yearly observations in columns",
      "metadata": {
        "tags": [],
        "slideshow": {
          "slide_type": "subslide"
        },
        "user_expressions": [],
        "cell_id": "5d136fd2130c4e7593c8f3c0f1f27f56",
        "deepnote_cell_type": "markdown"
      },
      "block_group": "5ec29c9fddd448438dc4dbf54371d1dc"
    },
    {
      "cell_type": "markdown",
      "source": "## New dataframe has unit $\\times$ variable/year in each row and values in columns",
      "metadata": {
        "tags": [],
        "slideshow": {
          "slide_type": "fragment"
        },
        "user_expressions": [],
        "cell_id": "c30e31c7010a4f20b773e6a28b569568",
        "deepnote_cell_type": "markdown"
      },
      "block_group": "c348d88f83934a5a98c3b7ecedacd301"
    },
    {
      "cell_type": "markdown",
      "source": "## Useful commands\n* [`pd.wide_to_long(df, stubnames, i, j, sep='', suffix='\\\\d+')`](https://pandas.pydata.org/docs/reference/api/pandas.wide_to_long.html)\n* [`pd.melt(frame, id_vars=None, value_vars=None, var_name=None, value_name='value', col_level=None, ignore_index=True)`](https://pandas.pydata.org/docs/reference/api/pandas.melt.html#pandas.melt)\n* [`df.melt(id_vars=None, value_vars=None, var_name=None, value_name='value', col_level=None, ignore_index=True)`](https://pandas.pydata.org/docs/reference/api/pandas.DataFrame.melt.html#pandas.DataFrame.melt)\n* [`df.stack(level=- 1, dropna=True)`](https://pandas.pydata.org/docs/reference/api/pandas.DataFrame.stack.html#pandas.DataFrame.stack)",
      "metadata": {
        "tags": [],
        "slideshow": {
          "slide_type": "subslide"
        },
        "user_expressions": [],
        "cell_id": "fc38c6b7a77b44c09b002f3f09d701f8",
        "deepnote_cell_type": "markdown"
      },
      "block_group": "9dac6f9540444603bb3e1555850ba8ec"
    },
    {
      "cell_type": "markdown",
      "source": "<center><a href=\"https://pandas.pydata.org/docs/user_guide/reshaping.html#reshaping-stacking\"><img src=\"https://raw.githubusercontent.com/SMU-Econ-Growth/EconGrowthUG-Notebooks/c004a90a03c3633fd05cdbce96647e229fdc21d8/pics/reshaping_melt.png\" alt=\"melt\" width=700/></center>",
      "metadata": {
        "tags": [],
        "slideshow": {
          "slide_type": "subslide"
        },
        "user_expressions": [],
        "cell_id": "1e97a743f5434c8f9a8d0ba03f308fdc",
        "deepnote_cell_type": "markdown"
      },
      "block_group": "b67bba0cf97c4b2d8bbead0576634e50"
    },
    {
      "cell_type": "markdown",
      "source": "<center><a href=\"https://pandas.pydata.org/docs/user_guide/reshaping.html#reshaping-stacking\"><img src=\"https://raw.githubusercontent.com/SMU-Econ-Growth/EconGrowthUG-Notebooks/c004a90a03c3633fd05cdbce96647e229fdc21d8/pics/reshaping_stack.png\" alt=\"melt\" width=700/></center>",
      "metadata": {
        "tags": [],
        "slideshow": {
          "slide_type": "subslide"
        },
        "user_expressions": [],
        "cell_id": "a7b0275d09024c71af700c09aef70110",
        "deepnote_cell_type": "markdown"
      },
      "block_group": "3b15e52b7a8740f28fe55cae7f10ae62"
    },
    {
      "cell_type": "markdown",
      "source": "# Reshape DataFrame From Long To Wide",
      "metadata": {
        "tags": [],
        "slideshow": {
          "slide_type": "subslide"
        },
        "user_expressions": [],
        "cell_id": "8e9713f9b3754e4a8fda0caab595ad01",
        "deepnote_cell_type": "markdown"
      },
      "block_group": "87e11b85be2544edbb8ad68a62aa532d"
    },
    {
      "cell_type": "markdown",
      "source": "<center><a href=\"https://pandas.pydata.org/docs/getting_started/intro_tutorials/07_reshape_table_layout.html#min-tut-07-reshape\"><img src=\"https://raw.githubusercontent.com/SMU-Econ-Growth/EconGrowthUG-Notebooks/c004a90a03c3633fd05cdbce96647e229fdc21d8/pics/07_pivot.svg\" alt=\"pivot\" width=700/></center>",
      "metadata": {
        "tags": [],
        "slideshow": {
          "slide_type": "-"
        },
        "user_expressions": [],
        "cell_id": "29bde014a7584b218a1741ca23139e13",
        "deepnote_cell_type": "markdown"
      },
      "block_group": "c59c0e7aaba143a698f30201d49efb26"
    },
    {
      "cell_type": "markdown",
      "source": "## Original dataframe has unit $\\times$ variable/year in each row and values in columns",
      "metadata": {
        "tags": [],
        "slideshow": {
          "slide_type": "subslide"
        },
        "user_expressions": [],
        "cell_id": "00bb14b46be846c7895a309c1598d56d",
        "deepnote_cell_type": "markdown"
      },
      "block_group": "a9dbcfcf58644040bccf610b1a23afc2"
    },
    {
      "cell_type": "markdown",
      "source": "## New dataframe has units (countries, households, individuals) in rows and variables or yearly observations in columns",
      "metadata": {
        "tags": [],
        "slideshow": {
          "slide_type": "fragment"
        },
        "user_expressions": [],
        "cell_id": "7024fae766ad4c38b2dd06a3db26cd34",
        "deepnote_cell_type": "markdown"
      },
      "block_group": "f3eef49573484b0db65f83bcddd138ba"
    },
    {
      "cell_type": "markdown",
      "source": "## Useful commands\n* [`pd.pivot(data, index=None, columns=None, values=None)`](https://pandas.pydata.org/docs/reference/api/pandas.pivot.html#pandas.pivot)\n* [`df.pivot(index=None, columns=None, values=None)`](https://pandas.pydata.org/docs/reference/api/pandas.DataFrame.pivot.html#pandas.DataFrame.pivot)\n* [`df.unstack(level=- 1, fill_value=None)`](https://pandas.pydata.org/docs/reference/api/pandas.DataFrame.unstack.html#pandas.DataFrame.unstack)",
      "metadata": {
        "tags": [],
        "slideshow": {
          "slide_type": "subslide"
        },
        "user_expressions": [],
        "cell_id": "7f84421660f14b9285979c268d312c4c",
        "deepnote_cell_type": "markdown"
      },
      "block_group": "5f038da679354688bee45363f55401ff"
    },
    {
      "cell_type": "markdown",
      "source": "<center><a href=\"https://pandas.pydata.org/docs/user_guide/reshaping.html#reshaping-by-pivoting-dataframe-objects\"><img src=\"https://raw.githubusercontent.com/SMU-Econ-Growth/EconGrowthUG-Notebooks/c004a90a03c3633fd05cdbce96647e229fdc21d8/pics/reshaping_pivot.png\" alt=\"melt\" width=700/></center>",
      "metadata": {
        "tags": [],
        "slideshow": {
          "slide_type": "subslide"
        },
        "user_expressions": [],
        "cell_id": "8ffac45336a34e60b7d0493967da7828",
        "deepnote_cell_type": "markdown"
      },
      "block_group": "843fa8c74d26439483b5d2f1af1f850f"
    },
    {
      "cell_type": "markdown",
      "source": "<center><a href=\"https://pandas.pydata.org/docs/user_guide/reshaping.html#reshaping-by-stacking-and-unstacking\"><img src=\"https://raw.githubusercontent.com/SMU-Econ-Growth/EconGrowthUG-Notebooks/c004a90a03c3633fd05cdbce96647e229fdc21d8/pics/reshaping_unstack.png\" alt=\"melt\" width=700/></center>",
      "metadata": {
        "tags": [],
        "slideshow": {
          "slide_type": "subslide"
        },
        "user_expressions": [],
        "cell_id": "e72dc635ab324896a7839ee3cfa94a5a",
        "deepnote_cell_type": "markdown"
      },
      "block_group": "d3646cda4eee4da9872b2b6b6584b807"
    },
    {
      "cell_type": "markdown",
      "source": "# Combine Data from Multiple DataFrames",
      "metadata": {
        "tags": [],
        "slideshow": {
          "slide_type": "slide"
        },
        "user_expressions": [],
        "cell_id": "f7962773bb814f2098adf655bc024fd4",
        "deepnote_cell_type": "markdown"
      },
      "block_group": "4d133dbe964f4f28882f83600fe19440"
    },
    {
      "cell_type": "markdown",
      "source": "<center><a href=\"https://pandas.pydata.org/docs/getting_started/intro_tutorials/08_combine_dataframes.html#min-tut-08-combine\"><img src=\"https://raw.githubusercontent.com/SMU-Econ-Growth/EconGrowthUG-Notebooks/c004a90a03c3633fd05cdbce96647e229fdc21d8/pics/08_concat_row.svg\" alt=\"concatenate\" width=700/></center>",
      "metadata": {
        "tags": [],
        "slideshow": {
          "slide_type": "-"
        },
        "user_expressions": [],
        "cell_id": "ef497e1556054934b7c076e6169aa400",
        "deepnote_cell_type": "markdown"
      },
      "block_group": "402dce48c09841ada4cbf34d947625b7"
    },
    {
      "cell_type": "markdown",
      "source": "# Concatenating Dataframes",
      "metadata": {
        "slideshow": {
          "slide_type": "subslide"
        },
        "user_expressions": [],
        "cell_id": "43dfce7978ae4e14a26e961866a91de7",
        "deepnote_cell_type": "markdown"
      },
      "block_group": "15e454bc86684d49b801d1cb58b0ce56"
    },
    {
      "cell_type": "markdown",
      "source": "<center><a href=\"https://pandas.pydata.org/docs/getting_started/intro_tutorials/08_combine_dataframes.html#min-tut-08-combine\"><img src=\"https://raw.githubusercontent.com/SMU-Econ-Growth/EconGrowthUG-Notebooks/c004a90a03c3633fd05cdbce96647e229fdc21d8/pics/08_concat_row.svg\" alt=\"concatenate\" width=700/></center>",
      "metadata": {
        "tags": [],
        "slideshow": {
          "slide_type": "-"
        },
        "user_expressions": [],
        "cell_id": "f5cfe9a9b9674ad78acddc4209e5a153",
        "deepnote_cell_type": "markdown"
      },
      "block_group": "489b69031c9a47b1a7297734809b0807"
    },
    {
      "cell_type": "markdown",
      "source": "## **pandas** let's you easily concatenate various `Series` or `DataFrames` to create a new `DataFrame`\n[`pd.concat(objs, axis=0, join='outer', ignore_index=False, keys=None, levels=None, names=None, verify_integrity=False, sort=False, copy=True)`](https://pandas.pydata.org/docs/reference/api/pandas.concat.html)",
      "metadata": {
        "tags": [],
        "slideshow": {
          "slide_type": "subslide"
        },
        "user_expressions": [],
        "cell_id": "3970007e497d410882b518406a8dd12a",
        "deepnote_cell_type": "markdown"
      },
      "block_group": "9ec1d7ae8eaa48f4bcc6306a9ebeca00"
    },
    {
      "cell_type": "markdown",
      "source": "```python\npd.concat([df1, df2, df3])\n```",
      "metadata": {
        "tags": [],
        "slideshow": {
          "slide_type": "subslide"
        },
        "user_expressions": [],
        "cell_id": "146858b6e4d14d9eafff404896491891",
        "deepnote_cell_type": "markdown"
      },
      "block_group": "0137b279cafa4867b2a114d3c197f302"
    },
    {
      "cell_type": "markdown",
      "source": "<center><a href=\"https://pandas.pydata.org/docs/user_guide/merging.html#concatenating-objects\"><img src=\"https://raw.githubusercontent.com/SMU-Econ-Growth/EconGrowthUG-Notebooks/c004a90a03c3633fd05cdbce96647e229fdc21d8/pics/merging_concat_basic.png\" alt=\"concatenate\" width=500/></center>",
      "metadata": {
        "tags": [],
        "slideshow": {
          "slide_type": "-"
        },
        "user_expressions": [],
        "cell_id": "4d381dee6c7d4e6caeaddb8be62e515d",
        "deepnote_cell_type": "markdown"
      },
      "block_group": "0e2be91eb0ee4fedb1b2d5f775c1aaed"
    },
    {
      "cell_type": "markdown",
      "source": "```python\npd.concat([df1, df4], axis=1)\n```",
      "metadata": {
        "tags": [],
        "slideshow": {
          "slide_type": "subslide"
        },
        "user_expressions": [],
        "cell_id": "0680d361efb049759efda9f7b5c69684",
        "deepnote_cell_type": "markdown"
      },
      "block_group": "f2fd5bf1ef744a439d8e8ed337580881"
    },
    {
      "cell_type": "markdown",
      "source": "<center><a href=\"https://pandas.pydata.org/docs/user_guide/merging.html#concatenating-objects\"><img src=\"https://raw.githubusercontent.com/SMU-Econ-Growth/EconGrowthUG-Notebooks/c004a90a03c3633fd05cdbce96647e229fdc21d8/pics/merging_concat_axis1.png\" alt=\"concatenate\" width=1000/></center>",
      "metadata": {
        "tags": [],
        "slideshow": {
          "slide_type": "-"
        },
        "user_expressions": [],
        "cell_id": "c21e7d11e14e4e6d8b1e7e8b13e97b14",
        "deepnote_cell_type": "markdown"
      },
      "block_group": "3399cdcec4a245b8a8f24943509cb290"
    },
    {
      "cell_type": "markdown",
      "source": "```python\npd.concat([df1, df4], axis=1, join='inner')\n```",
      "metadata": {
        "tags": [],
        "slideshow": {
          "slide_type": "subslide"
        },
        "user_expressions": [],
        "cell_id": "5dcd7242acbb497b8625d37b1a1588d6",
        "deepnote_cell_type": "markdown"
      },
      "block_group": "fff38d2529d44a278867ff2ebadf057d"
    },
    {
      "cell_type": "markdown",
      "source": "<center><a href=\"https://pandas.pydata.org/docs/user_guide/merging.html#concatenating-objects\"><img src=\"https://raw.githubusercontent.com/SMU-Econ-Growth/EconGrowthUG-Notebooks/c004a90a03c3633fd05cdbce96647e229fdc21d8/pics/merging_concat_axis1_inner.png\" alt=\"concatenate\" width=1000/></center>",
      "metadata": {
        "tags": [],
        "slideshow": {
          "slide_type": "-"
        },
        "user_expressions": [],
        "cell_id": "0127590336a1407d81cf376e5def8c90",
        "deepnote_cell_type": "markdown"
      },
      "block_group": "395311d52392466f9544d58d0aa02097"
    },
    {
      "cell_type": "markdown",
      "source": "# Merging/Joining Dataframes",
      "metadata": {
        "slideshow": {
          "slide_type": "subslide"
        },
        "user_expressions": [],
        "cell_id": "0a88cec243634cf496ddb45c32ed8dfe",
        "deepnote_cell_type": "markdown"
      },
      "block_group": "0cb7c8dd5196412390a93b5450efd8b9"
    },
    {
      "cell_type": "markdown",
      "source": "<center><a href=\"https://pandas.pydata.org/docs/getting_started/intro_tutorials/08_combine_dataframes.html#join-tables-using-a-common-identifier\"><img src=\"https://raw.githubusercontent.com/SMU-Econ-Growth/EconGrowthUG-Notebooks/c004a90a03c3633fd05cdbce96647e229fdc21d8/pics/08_merge_left.svg\" alt=\"concatenate\" width=1000/></center>",
      "metadata": {
        "tags": [],
        "slideshow": {
          "slide_type": "-"
        },
        "user_expressions": [],
        "cell_id": "6163d7ccd9a24c21a78d69667c66b601",
        "deepnote_cell_type": "markdown"
      },
      "block_group": "5879328c5fce48c399aad3aa966bc102"
    },
    {
      "cell_type": "markdown",
      "source": "## **pandas** let's you easily merge/join `Series` or `DataFrames` to create a new `DataFrame`",
      "metadata": {
        "tags": [],
        "slideshow": {
          "slide_type": "subslide"
        },
        "user_expressions": [],
        "cell_id": "9daca1f9ce6e44a88e66d6de89fb41a6",
        "deepnote_cell_type": "markdown"
      },
      "block_group": "806dd01ec36c48f58908c24346e2dc82"
    },
    {
      "cell_type": "markdown",
      "source": "* [`pd.merge(left, right, how='inner', on=None, left_on=None, right_on=None, left_index=False, right_index=False, sort=False, suffixes=('_x', '_y'), copy=True, indicator=False, validate=None)`](https://pandas.pydata.org/docs/reference/api/pandas.merge.html)",
      "metadata": {
        "tags": [],
        "slideshow": {
          "slide_type": "fragment"
        },
        "user_expressions": [],
        "cell_id": "c3f05f869676421e991f8cabf7f5585c",
        "deepnote_cell_type": "markdown"
      },
      "block_group": "294a31ba0fa24f438ba14a9995b81c2f"
    },
    {
      "cell_type": "markdown",
      "source": "* [`df.merge(right, how='inner', on=None, left_on=None, right_on=None, left_index=False, right_index=False, sort=False, suffixes=('_x', '_y'), copy=True, indicator=False, validate=None)`](https://pandas.pydata.org/docs/reference/api/pandas.DataFrame.merge.html)",
      "metadata": {
        "tags": [],
        "slideshow": {
          "slide_type": "fragment"
        },
        "user_expressions": [],
        "cell_id": "3c00dce3f2424262803d06bce0cb32cf",
        "deepnote_cell_type": "markdown"
      },
      "block_group": "40cee3b4e09249d38f8eac65053938eb"
    },
    {
      "cell_type": "markdown",
      "source": "```python\npd.merge([left, right])\n```\nor\n```python\nleft.merge(right)\n```\nor\n```python\nright.merge(left)\n```",
      "metadata": {
        "tags": [],
        "slideshow": {
          "slide_type": "subslide"
        },
        "user_expressions": [],
        "cell_id": "1e7398e879e3423d800010cc880e8af1",
        "deepnote_cell_type": "markdown"
      },
      "block_group": "e7a66e8f832e46b5af5b8a693d957cc8"
    },
    {
      "cell_type": "markdown",
      "source": "<center><a href=\"https://pandas.pydata.org/docs/user_guide/merging.html#database-style-dataframe-or-named-series-joining-merging\"><img src=\"https://raw.githubusercontent.com/SMU-Econ-Growth/EconGrowthUG-Notebooks/c004a90a03c3633fd05cdbce96647e229fdc21d8/pics/merging_merge_on_key.png\" alt=\"concatenate\" width=700/></center>",
      "metadata": {
        "tags": [],
        "slideshow": {
          "slide_type": "-"
        },
        "user_expressions": [],
        "cell_id": "e9e2b34497004f13bdc477d2c73aaf2c",
        "deepnote_cell_type": "markdown"
      },
      "block_group": "7e3a0b390c004df8a89444a42aceba29"
    },
    {
      "cell_type": "markdown",
      "source": "```python\npd.merge([left, right])\n```\nor\n```python\npd.merge([left, right], on=[\"key1\", \"key2\"])\n```",
      "metadata": {
        "tags": [],
        "slideshow": {
          "slide_type": "subslide"
        },
        "user_expressions": [],
        "cell_id": "22e735ddef554172804bb3ecbe67691b",
        "deepnote_cell_type": "markdown"
      },
      "block_group": "06c3b6688ab24696a221340fbb9ea766"
    },
    {
      "cell_type": "markdown",
      "source": "<center><a href=\"https://pandas.pydata.org/docs/user_guide/merging.html#database-style-dataframe-or-named-series-joining-merging\"><img src=\"https://raw.githubusercontent.com/SMU-Econ-Growth/EconGrowthUG-Notebooks/c004a90a03c3633fd05cdbce96647e229fdc21d8/pics/merging_merge_on_key_multiple.png\" alt=\"concatenate\" width=1000/></center>",
      "metadata": {
        "tags": [],
        "slideshow": {
          "slide_type": "-"
        },
        "user_expressions": [],
        "cell_id": "592a959aed7d452db7df42e021fedbd1",
        "deepnote_cell_type": "markdown"
      },
      "block_group": "f28cbfb6c3994c98948be4f4812c11f5"
    },
    {
      "cell_type": "markdown",
      "source": "```python\npd.merge([left, right], how=\"left\", on=[\"key1\", \"key2\"])\n```\nor\n```python\nleft.merge(right, how=\"left\", on=[\"key1\", \"key2\"])\n```\nor\n```python\nright.merge(left, how=\"right\", on=[\"key1\", \"key2\"])\n```",
      "metadata": {
        "tags": [],
        "slideshow": {
          "slide_type": "subslide"
        },
        "user_expressions": [],
        "cell_id": "4b0953d92d044377b78bdfd463382e7d",
        "deepnote_cell_type": "markdown"
      },
      "block_group": "4c9467705ca243a99e451982ed4cc9e2"
    },
    {
      "cell_type": "markdown",
      "source": "<center><a href=\"https://pandas.pydata.org/docs/user_guide/merging.html#database-style-dataframe-or-named-series-joining-merging\"><img src=\"https://raw.githubusercontent.com/SMU-Econ-Growth/EconGrowthUG-Notebooks/c004a90a03c3633fd05cdbce96647e229fdc21d8/pics/merging_merge_on_key_left.png\" alt=\"concatenate\" width=1000/></center>",
      "metadata": {
        "tags": [],
        "slideshow": {
          "slide_type": "-"
        },
        "user_expressions": [],
        "cell_id": "aa4b69b5d3a44d8eaa2c486873b80cc9",
        "deepnote_cell_type": "markdown"
      },
      "block_group": "eed038165ee64fdba160317b48ae12a6"
    },
    {
      "cell_type": "markdown",
      "source": "```python\npd.merge([left, right], how=\"right\", on=[\"key1\", \"key2\"])\n```\nor\n```python\nleft.merge(right, how=\"right\", on=[\"key1\", \"key2\"])\n```\nor\n```python\nright.merge(left, how=\"left\", on=[\"key1\", \"key2\"])\n```",
      "metadata": {
        "tags": [],
        "slideshow": {
          "slide_type": "subslide"
        },
        "user_expressions": [],
        "cell_id": "128008b978a043efa5b83941391e1f6b",
        "deepnote_cell_type": "markdown"
      },
      "block_group": "6b7ace281d404249833ce20a7e67e96e"
    },
    {
      "cell_type": "markdown",
      "source": "<center><a href=\"https://pandas.pydata.org/docs/user_guide/merging.html#database-style-dataframe-or-named-series-joining-merging\"><img src=\"https://raw.githubusercontent.com/SMU-Econ-Growth/EconGrowthUG-Notebooks/c004a90a03c3633fd05cdbce96647e229fdc21d8/pics/merging_merge_on_key_right.png\" alt=\"concatenate\" width=1000/></center>",
      "metadata": {
        "tags": [],
        "slideshow": {
          "slide_type": "-"
        },
        "user_expressions": [],
        "cell_id": "ca20adc3392a4db98c0ecb17c80e0fef",
        "deepnote_cell_type": "markdown"
      },
      "block_group": "f6b763082a7f4e2a9105b91f14fa00a1"
    },
    {
      "cell_type": "markdown",
      "source": "```python\npd.merge([left, right], how=\"outer\", on=[\"key1\", \"key2\"])\n```\nor\n```python\nleft.merge(right, how=\"outer\", on=[\"key1\", \"key2\"])\n```\nor\n```python\nright.merge(left, how=\"outer\", on=[\"key1\", \"key2\"])\n```",
      "metadata": {
        "tags": [],
        "slideshow": {
          "slide_type": "subslide"
        },
        "user_expressions": [],
        "cell_id": "f44967deb73443b8bb3d2ea06913147c",
        "deepnote_cell_type": "markdown"
      },
      "block_group": "1a1f1aebd41c457191965b27cb0fcd45"
    },
    {
      "cell_type": "markdown",
      "source": "<center><a href=\"https://pandas.pydata.org/docs/user_guide/merging.html#database-style-dataframe-or-named-series-joining-merging\"><img src=\"https://raw.githubusercontent.com/SMU-Econ-Growth/EconGrowthUG-Notebooks/c004a90a03c3633fd05cdbce96647e229fdc21d8/pics/merging_merge_on_key_outer.png\" alt=\"concatenate\" width=1000/></center>",
      "metadata": {
        "tags": [],
        "slideshow": {
          "slide_type": "-"
        },
        "user_expressions": [],
        "cell_id": "784b1679ed5f4e4c865b25461e871295",
        "deepnote_cell_type": "markdown"
      },
      "block_group": "bb695be28f1b4457b563dff6784d9a74"
    },
    {
      "cell_type": "markdown",
      "source": "# Many Other Options and Possibilities\n* [Working with Time Series](https://pandas.pydata.org/docs/getting_started/intro_tutorials/09_timeseries.html#min-tut-09-timeseries)\n* [Working with Text](https://pandas.pydata.org/docs/getting_started/intro_tutorials/10_text_data.html#min-tut-10-text)",
      "metadata": {
        "slideshow": {
          "slide_type": "slide"
        },
        "user_expressions": [],
        "cell_id": "4f3e4ab0995843b59c0c9e06c81b7aa3",
        "deepnote_cell_type": "markdown"
      },
      "block_group": "671712f3d3c74136bf94ae4c3e5c6b95"
    },
    {
      "cell_type": "markdown",
      "source": "# <center>Examples</center>",
      "metadata": {
        "tags": [],
        "slideshow": {
          "slide_type": "slide"
        },
        "user_expressions": [],
        "cell_id": "c4e2107fcfb140b2b7b4821b1241a627",
        "deepnote_cell_type": "markdown"
      },
      "block_group": "2be9690f124b4df69830053ca7334a6e"
    },
    {
      "cell_type": "markdown",
      "source": "# Example - Import data",
      "metadata": {
        "slideshow": {
          "slide_type": "subslide"
        },
        "user_expressions": [],
        "cell_id": "d0a37a409c2d4c188b14b9d43d65511f",
        "deepnote_cell_type": "markdown"
      },
      "block_group": "6c68818eb35647d880a60cbe9840e942"
    },
    {
      "cell_type": "markdown",
      "source": "## Let's import the table of countries' ISO codes from [Wikipedia](https://en.wikipedia.org/wiki/List_of_ISO_3166_country_codes)",
      "metadata": {
        "slideshow": {
          "slide_type": "subslide"
        },
        "user_expressions": [],
        "cell_id": "72284396e62f4d46b7cb52bfb812b14e",
        "deepnote_cell_type": "markdown"
      },
      "block_group": "0ba4f306ccba46788088bcdffd56031a"
    },
    {
      "cell_type": "code",
      "source": "# Import display options for showing websites\nfrom IPython.display import IFrame\nurl = 'https://en.wikipedia.org/wiki/List_of_ISO_3166_country_codes'\nIFrame(url, width=800, height=400)",
      "metadata": {
        "slideshow": {
          "slide_type": "subslide"
        },
        "source_hash": "24506e99",
        "execution_start": 1730132649897,
        "execution_millis": 0,
        "execution_context_id": "7c89757c-8d24-40c2-891e-29eb8cc3b4ff",
        "cell_id": "64974965f82f4ca5b5105a2f89e3b1ce",
        "deepnote_cell_type": "code"
      },
      "outputs": [
        {
          "output_type": "execute_result",
          "execution_count": 32,
          "data": {
            "text/plain": "<IPython.lib.display.IFrame at 0x7f339be2f070>",
            "text/html": "\n        <iframe\n            width=\"800\"\n            height=\"400\"\n            src=\"https://en.wikipedia.org/wiki/List_of_ISO_3166_country_codes\"\n            frameborder=\"0\"\n            allowfullscreen\n            \n        ></iframe>\n        "
          },
          "metadata": {}
        }
      ],
      "outputs_reference": null,
      "execution_count": 32,
      "block_group": "13d1fee8eda640ff8728779f75302f42",
      "content_dependencies": null
    },
    {
      "cell_type": "code",
      "source": "isocodes = pd.read_html(url, encoding='utf-8')[0]\nisocodes",
      "metadata": {
        "slideshow": {
          "slide_type": "subslide"
        },
        "source_hash": "bab68209",
        "execution_start": 1730132649949,
        "execution_millis": 173,
        "execution_context_id": "7c89757c-8d24-40c2-891e-29eb8cc3b4ff",
        "cell_id": "3223bdfc3b3f474a843073260d1a8af2",
        "deepnote_cell_type": "code"
      },
      "outputs": [
        {
          "output_type": "execute_result",
          "execution_count": 33,
          "data": {
            "application/vnd.deepnote.dataframe.v3+json": {
              "column_count": 8,
              "row_count": 271,
              "columns": [
                {
                  "name": "ISO 3166[1] name[5] ISO 3166[1] name[5]",
                  "dtype": "object",
                  "stats": {
                    "unique_count": 271,
                    "nan_count": 0,
                    "categories": [
                      {
                        "name": "Afghanistan",
                        "count": 1
                      },
                      {
                        "name": "Åland Islands",
                        "count": 1
                      },
                      {
                        "name": "269 others",
                        "count": 269
                      }
                    ]
                  }
                },
                {
                  "name": "Official state name[6][a] Official state name[6][a]",
                  "dtype": "object",
                  "stats": {
                    "unique_count": 271,
                    "nan_count": 0,
                    "categories": [
                      {
                        "name": "the Islamic Republic of Afghanistan[b]",
                        "count": 1
                      },
                      {
                        "name": "Åland[c][d]",
                        "count": 1
                      },
                      {
                        "name": "269 others",
                        "count": 269
                      }
                    ]
                  }
                },
                {
                  "name": "Sovereignty [6][7][8] Sovereignty [6][7][8]",
                  "dtype": "object",
                  "stats": {
                    "unique_count": 38,
                    "nan_count": 0,
                    "categories": [
                      {
                        "name": "UN member",
                        "count": 193
                      },
                      {
                        "name": "United Kingdom",
                        "count": 12
                      },
                      {
                        "name": "36 others",
                        "count": 66
                      }
                    ]
                  }
                },
                {
                  "name": "ISO 3166-1[2] A-2 [5]",
                  "dtype": "object",
                  "stats": {
                    "unique_count": 270,
                    "nan_count": 1,
                    "categories": [
                      {
                        "name": ".mw-parser-output .monospaced{font-family:monospace,monospace}AF",
                        "count": 1
                      },
                      {
                        "name": "269 others",
                        "count": 269
                      },
                      {
                        "name": "Missing",
                        "count": 1
                      }
                    ]
                  }
                },
                {
                  "name": "ISO 3166-1[2] A-3 [5]",
                  "dtype": "object",
                  "stats": {
                    "unique_count": 271,
                    "nan_count": 0,
                    "categories": [
                      {
                        "name": "AFG",
                        "count": 1
                      },
                      {
                        "name": "ALA",
                        "count": 1
                      },
                      {
                        "name": "269 others",
                        "count": 269
                      }
                    ]
                  }
                },
                {
                  "name": "ISO 3166-1[2] Num. [5]",
                  "dtype": "object",
                  "stats": {
                    "unique_count": 271,
                    "nan_count": 0,
                    "categories": [
                      {
                        "name": "004",
                        "count": 1
                      },
                      {
                        "name": "248",
                        "count": 1
                      },
                      {
                        "name": "269 others",
                        "count": 269
                      }
                    ]
                  }
                },
                {
                  "name": "ISO 3166-2[3] subdivision codes link ISO 3166-2[3] subdivision codes link",
                  "dtype": "object",
                  "stats": {
                    "unique_count": 271,
                    "nan_count": 0,
                    "categories": [
                      {
                        "name": "ISO 3166-2:AF",
                        "count": 1
                      },
                      {
                        "name": "ISO 3166-2:AX",
                        "count": 1
                      },
                      {
                        "name": "269 others",
                        "count": 269
                      }
                    ]
                  }
                },
                {
                  "name": "TLD [9] TLD [9]",
                  "dtype": "object",
                  "stats": {
                    "unique_count": 271,
                    "nan_count": 0,
                    "categories": [
                      {
                        "name": ".af",
                        "count": 1
                      },
                      {
                        "name": ".ax",
                        "count": 1
                      },
                      {
                        "name": "269 others",
                        "count": 269
                      }
                    ]
                  }
                },
                {
                  "name": "_deepnote_index_column",
                  "dtype": "int64"
                }
              ],
              "rows": [
                {
                  "ISO 3166[1] name[5] ISO 3166[1] name[5]": "Afghanistan",
                  "Official state name[6][a] Official state name[6][a]": "the Islamic Republic of Afghanistan[b]",
                  "Sovereignty [6][7][8] Sovereignty [6][7][8]": "UN member",
                  "ISO 3166-1[2] A-2 [5]": ".mw-parser-output .monospaced{font-family:monospace,monospace}AF",
                  "ISO 3166-1[2] A-3 [5]": "AFG",
                  "ISO 3166-1[2] Num. [5]": "004",
                  "ISO 3166-2[3] subdivision codes link ISO 3166-2[3] subdivision codes link": "ISO 3166-2:AF",
                  "TLD [9] TLD [9]": ".af",
                  "_deepnote_index_column": 0
                },
                {
                  "ISO 3166[1] name[5] ISO 3166[1] name[5]": "Åland Islands",
                  "Official state name[6][a] Official state name[6][a]": "Åland[c][d]",
                  "Sovereignty [6][7][8] Sovereignty [6][7][8]": "Finland",
                  "ISO 3166-1[2] A-2 [5]": "AX",
                  "ISO 3166-1[2] A-3 [5]": "ALA",
                  "ISO 3166-1[2] Num. [5]": "248",
                  "ISO 3166-2[3] subdivision codes link ISO 3166-2[3] subdivision codes link": "ISO 3166-2:AX",
                  "TLD [9] TLD [9]": ".ax",
                  "_deepnote_index_column": 1
                },
                {
                  "ISO 3166[1] name[5] ISO 3166[1] name[5]": "Albania",
                  "Official state name[6][a] Official state name[6][a]": "the Republic of Albania",
                  "Sovereignty [6][7][8] Sovereignty [6][7][8]": "UN member",
                  "ISO 3166-1[2] A-2 [5]": "AL",
                  "ISO 3166-1[2] A-3 [5]": "ALB",
                  "ISO 3166-1[2] Num. [5]": "008",
                  "ISO 3166-2[3] subdivision codes link ISO 3166-2[3] subdivision codes link": "ISO 3166-2:AL",
                  "TLD [9] TLD [9]": ".al",
                  "_deepnote_index_column": 2
                },
                {
                  "ISO 3166[1] name[5] ISO 3166[1] name[5]": "Algeria",
                  "Official state name[6][a] Official state name[6][a]": "the People's Democratic Republic of Algeria",
                  "Sovereignty [6][7][8] Sovereignty [6][7][8]": "UN member",
                  "ISO 3166-1[2] A-2 [5]": "DZ",
                  "ISO 3166-1[2] A-3 [5]": "DZA",
                  "ISO 3166-1[2] Num. [5]": "012",
                  "ISO 3166-2[3] subdivision codes link ISO 3166-2[3] subdivision codes link": "ISO 3166-2:DZ",
                  "TLD [9] TLD [9]": ".dz",
                  "_deepnote_index_column": 3
                },
                {
                  "ISO 3166[1] name[5] ISO 3166[1] name[5]": "American Samoa",
                  "Official state name[6][a] Official state name[6][a]": "American Samoa[c]",
                  "Sovereignty [6][7][8] Sovereignty [6][7][8]": "United States",
                  "ISO 3166-1[2] A-2 [5]": "AS",
                  "ISO 3166-1[2] A-3 [5]": "ASM",
                  "ISO 3166-1[2] Num. [5]": "016",
                  "ISO 3166-2[3] subdivision codes link ISO 3166-2[3] subdivision codes link": "ISO 3166-2:AS",
                  "TLD [9] TLD [9]": ".as",
                  "_deepnote_index_column": 4
                },
                {
                  "ISO 3166[1] name[5] ISO 3166[1] name[5]": "Andorra",
                  "Official state name[6][a] Official state name[6][a]": "the Principality of Andorra",
                  "Sovereignty [6][7][8] Sovereignty [6][7][8]": "UN member",
                  "ISO 3166-1[2] A-2 [5]": "AD",
                  "ISO 3166-1[2] A-3 [5]": "AND",
                  "ISO 3166-1[2] Num. [5]": "020",
                  "ISO 3166-2[3] subdivision codes link ISO 3166-2[3] subdivision codes link": "ISO 3166-2:AD",
                  "TLD [9] TLD [9]": ".ad",
                  "_deepnote_index_column": 5
                },
                {
                  "ISO 3166[1] name[5] ISO 3166[1] name[5]": "Angola",
                  "Official state name[6][a] Official state name[6][a]": "the Republic of Angola",
                  "Sovereignty [6][7][8] Sovereignty [6][7][8]": "UN member",
                  "ISO 3166-1[2] A-2 [5]": "AO",
                  "ISO 3166-1[2] A-3 [5]": "AGO",
                  "ISO 3166-1[2] Num. [5]": "024",
                  "ISO 3166-2[3] subdivision codes link ISO 3166-2[3] subdivision codes link": "ISO 3166-2:AO",
                  "TLD [9] TLD [9]": ".ao",
                  "_deepnote_index_column": 6
                },
                {
                  "ISO 3166[1] name[5] ISO 3166[1] name[5]": "Anguilla",
                  "Official state name[6][a] Official state name[6][a]": "Anguilla[c]",
                  "Sovereignty [6][7][8] Sovereignty [6][7][8]": "United Kingdom",
                  "ISO 3166-1[2] A-2 [5]": "AI",
                  "ISO 3166-1[2] A-3 [5]": "AIA",
                  "ISO 3166-1[2] Num. [5]": "660",
                  "ISO 3166-2[3] subdivision codes link ISO 3166-2[3] subdivision codes link": "ISO 3166-2:AI",
                  "TLD [9] TLD [9]": ".ai",
                  "_deepnote_index_column": 7
                },
                {
                  "ISO 3166[1] name[5] ISO 3166[1] name[5]": "Antarctica [e]",
                  "Official state name[6][a] Official state name[6][a]": "Antarctica[c]",
                  "Sovereignty [6][7][8] Sovereignty [6][7][8]": "Antarctic Treaty",
                  "ISO 3166-1[2] A-2 [5]": "AQ",
                  "ISO 3166-1[2] A-3 [5]": "ATA",
                  "ISO 3166-1[2] Num. [5]": "010",
                  "ISO 3166-2[3] subdivision codes link ISO 3166-2[3] subdivision codes link": "ISO 3166-2:AQ",
                  "TLD [9] TLD [9]": ".aq",
                  "_deepnote_index_column": 8
                },
                {
                  "ISO 3166[1] name[5] ISO 3166[1] name[5]": "Antigua and Barbuda",
                  "Official state name[6][a] Official state name[6][a]": "Antigua and Barbuda[c]",
                  "Sovereignty [6][7][8] Sovereignty [6][7][8]": "UN member",
                  "ISO 3166-1[2] A-2 [5]": "AG",
                  "ISO 3166-1[2] A-3 [5]": "ATG",
                  "ISO 3166-1[2] Num. [5]": "028",
                  "ISO 3166-2[3] subdivision codes link ISO 3166-2[3] subdivision codes link": "ISO 3166-2:AG",
                  "TLD [9] TLD [9]": ".ag",
                  "_deepnote_index_column": 9
                }
              ]
            },
            "text/plain": "     ISO 3166[1] name[5]                       Official state name[6][a]  \\\n     ISO 3166[1] name[5]                       Official state name[6][a]   \n0            Afghanistan          the Islamic Republic of Afghanistan[b]   \n1          Åland Islands                                     Åland[c][d]   \n2                Albania                         the Republic of Albania   \n3                Algeria     the People's Democratic Republic of Algeria   \n4         American Samoa                               American Samoa[c]   \n..                   ...                                             ...   \n266    Wallis and Futuna  the Territory of the Wallis and Futuna Islands   \n267  Western Sahara [an]      the Sahrawi Arab Democratic Republic[c][d]   \n268                Yemen                           the Republic of Yemen   \n269               Zambia                          the Republic of Zambia   \n270             Zimbabwe                        the Republic of Zimbabwe   \n\n    Sovereignty [6][7][8]                                      ISO 3166-1[2]  \\\n    Sovereignty [6][7][8]                                            A-2 [5]   \n0               UN member  .mw-parser-output .monospaced{font-family:mono...   \n1                 Finland                                                 AX   \n2               UN member                                                 AL   \n3               UN member                                                 DZ   \n4           United States                                                 AS   \n..                    ...                                                ...   \n266                France                                                 WF   \n267         Disputed [ao]                                                 EH   \n268             UN member                                                 YE   \n269             UN member                                                 ZM   \n270             UN member                                                 ZW   \n\n                     ISO 3166-2[3] subdivision codes link TLD [9]  \n    A-3 [5] Num. [5] ISO 3166-2[3] subdivision codes link TLD [9]  \n0       AFG      004                        ISO 3166-2:AF     .af  \n1       ALA      248                        ISO 3166-2:AX     .ax  \n2       ALB      008                        ISO 3166-2:AL     .al  \n3       DZA      012                        ISO 3166-2:DZ     .dz  \n4       ASM      016                        ISO 3166-2:AS     .as  \n..      ...      ...                                  ...     ...  \n266     WLF      876                        ISO 3166-2:WF     .wf  \n267     ESH      732                        ISO 3166-2:EH    [ap]  \n268     YEM      887                        ISO 3166-2:YE     .ye  \n269     ZMB      894                        ISO 3166-2:ZM     .zm  \n270     ZWE      716                        ISO 3166-2:ZW     .zw  \n\n[271 rows x 8 columns]",
            "text/html": "<div>\n<style scoped>\n    .dataframe tbody tr th:only-of-type {\n        vertical-align: middle;\n    }\n\n    .dataframe tbody tr th {\n        vertical-align: top;\n    }\n\n    .dataframe thead tr th {\n        text-align: left;\n    }\n</style>\n<table border=\"1\" class=\"dataframe\">\n  <thead>\n    <tr>\n      <th></th>\n      <th>ISO 3166[1] name[5]</th>\n      <th>Official state name[6][a]</th>\n      <th>Sovereignty [6][7][8]</th>\n      <th colspan=\"3\" halign=\"left\">ISO 3166-1[2]</th>\n      <th>ISO 3166-2[3] subdivision codes link</th>\n      <th>TLD [9]</th>\n    </tr>\n    <tr>\n      <th></th>\n      <th>ISO 3166[1] name[5]</th>\n      <th>Official state name[6][a]</th>\n      <th>Sovereignty [6][7][8]</th>\n      <th>A-2 [5]</th>\n      <th>A-3 [5]</th>\n      <th>Num. [5]</th>\n      <th>ISO 3166-2[3] subdivision codes link</th>\n      <th>TLD [9]</th>\n    </tr>\n  </thead>\n  <tbody>\n    <tr>\n      <th>0</th>\n      <td>Afghanistan</td>\n      <td>the Islamic Republic of Afghanistan[b]</td>\n      <td>UN member</td>\n      <td>.mw-parser-output .monospaced{font-family:mono...</td>\n      <td>AFG</td>\n      <td>004</td>\n      <td>ISO 3166-2:AF</td>\n      <td>.af</td>\n    </tr>\n    <tr>\n      <th>1</th>\n      <td>Åland Islands</td>\n      <td>Åland[c][d]</td>\n      <td>Finland</td>\n      <td>AX</td>\n      <td>ALA</td>\n      <td>248</td>\n      <td>ISO 3166-2:AX</td>\n      <td>.ax</td>\n    </tr>\n    <tr>\n      <th>2</th>\n      <td>Albania</td>\n      <td>the Republic of Albania</td>\n      <td>UN member</td>\n      <td>AL</td>\n      <td>ALB</td>\n      <td>008</td>\n      <td>ISO 3166-2:AL</td>\n      <td>.al</td>\n    </tr>\n    <tr>\n      <th>3</th>\n      <td>Algeria</td>\n      <td>the People's Democratic Republic of Algeria</td>\n      <td>UN member</td>\n      <td>DZ</td>\n      <td>DZA</td>\n      <td>012</td>\n      <td>ISO 3166-2:DZ</td>\n      <td>.dz</td>\n    </tr>\n    <tr>\n      <th>4</th>\n      <td>American Samoa</td>\n      <td>American Samoa[c]</td>\n      <td>United States</td>\n      <td>AS</td>\n      <td>ASM</td>\n      <td>016</td>\n      <td>ISO 3166-2:AS</td>\n      <td>.as</td>\n    </tr>\n    <tr>\n      <th>...</th>\n      <td>...</td>\n      <td>...</td>\n      <td>...</td>\n      <td>...</td>\n      <td>...</td>\n      <td>...</td>\n      <td>...</td>\n      <td>...</td>\n    </tr>\n    <tr>\n      <th>266</th>\n      <td>Wallis and Futuna</td>\n      <td>the Territory of the Wallis and Futuna Islands</td>\n      <td>France</td>\n      <td>WF</td>\n      <td>WLF</td>\n      <td>876</td>\n      <td>ISO 3166-2:WF</td>\n      <td>.wf</td>\n    </tr>\n    <tr>\n      <th>267</th>\n      <td>Western Sahara [an]</td>\n      <td>the Sahrawi Arab Democratic Republic[c][d]</td>\n      <td>Disputed [ao]</td>\n      <td>EH</td>\n      <td>ESH</td>\n      <td>732</td>\n      <td>ISO 3166-2:EH</td>\n      <td>[ap]</td>\n    </tr>\n    <tr>\n      <th>268</th>\n      <td>Yemen</td>\n      <td>the Republic of Yemen</td>\n      <td>UN member</td>\n      <td>YE</td>\n      <td>YEM</td>\n      <td>887</td>\n      <td>ISO 3166-2:YE</td>\n      <td>.ye</td>\n    </tr>\n    <tr>\n      <th>269</th>\n      <td>Zambia</td>\n      <td>the Republic of Zambia</td>\n      <td>UN member</td>\n      <td>ZM</td>\n      <td>ZMB</td>\n      <td>894</td>\n      <td>ISO 3166-2:ZM</td>\n      <td>.zm</td>\n    </tr>\n    <tr>\n      <th>270</th>\n      <td>Zimbabwe</td>\n      <td>the Republic of Zimbabwe</td>\n      <td>UN member</td>\n      <td>ZW</td>\n      <td>ZWE</td>\n      <td>716</td>\n      <td>ISO 3166-2:ZW</td>\n      <td>.zw</td>\n    </tr>\n  </tbody>\n</table>\n<p>271 rows × 8 columns</p>\n</div>"
          },
          "metadata": {}
        }
      ],
      "outputs_reference": null,
      "execution_count": 33,
      "block_group": "6461ba5606f84ec7846fc472d6812c55",
      "content_dependencies": null
    },
    {
      "cell_type": "markdown",
      "source": "## Not perfect, but we can correct it and make it look nice",
      "metadata": {
        "slideshow": {
          "slide_type": "subslide"
        },
        "user_expressions": [],
        "cell_id": "3f604ebbac3144eeb74f4573d0bab3ce",
        "deepnote_cell_type": "markdown"
      },
      "block_group": "9a83944feb7346df84251c5aec938c1b"
    },
    {
      "cell_type": "code",
      "source": "isocodes.columns",
      "metadata": {
        "slideshow": {
          "slide_type": "fragment"
        },
        "source_hash": "6cd39821",
        "execution_start": 1730132650164,
        "execution_millis": 1,
        "execution_context_id": "7c89757c-8d24-40c2-891e-29eb8cc3b4ff",
        "cell_id": "b1d8469e0dcd4f40a29b50da11eee7d2",
        "deepnote_cell_type": "code"
      },
      "outputs": [
        {
          "output_type": "execute_result",
          "execution_count": 34,
          "data": {
            "text/plain": "MultiIndex([(                 'ISO 3166[1] name[5]', ...),\n            (           'Official state name[6][a]', ...),\n            (               'Sovereignty [6][7][8]', ...),\n            (                       'ISO 3166-1[2]', ...),\n            (                       'ISO 3166-1[2]', ...),\n            (                       'ISO 3166-1[2]', ...),\n            ('ISO 3166-2[3] subdivision codes link', ...),\n            (                             'TLD [9]', ...)],\n           )"
          },
          "metadata": {}
        }
      ],
      "outputs_reference": null,
      "execution_count": 34,
      "block_group": "267d134a616c45658aba970c09c241df",
      "content_dependencies": null
    },
    {
      "cell_type": "markdown",
      "source": "## First, let's drop the first column index",
      "metadata": {
        "slideshow": {
          "slide_type": "subslide"
        },
        "user_expressions": [],
        "cell_id": "6e0de4869a1a4383a16858b5cc8b5e2b",
        "deepnote_cell_type": "markdown"
      },
      "block_group": "cf21e4ff6eb647979e8794c3643f859e"
    },
    {
      "cell_type": "code",
      "source": "isocodes = isocodes.droplevel(0, axis=1)\nisocodes.head()",
      "metadata": {
        "slideshow": {
          "slide_type": "fragment"
        },
        "source_hash": "70721e4a",
        "execution_start": 1730132650212,
        "execution_millis": 1,
        "execution_context_id": "7c89757c-8d24-40c2-891e-29eb8cc3b4ff",
        "cell_id": "97b35d20f8f1416cb9fb380dcede8d01",
        "deepnote_cell_type": "code"
      },
      "outputs": [
        {
          "output_type": "execute_result",
          "execution_count": 35,
          "data": {
            "application/vnd.deepnote.dataframe.v3+json": {
              "column_count": 8,
              "row_count": 5,
              "columns": [
                {
                  "name": "ISO 3166[1] name[5]",
                  "dtype": "object",
                  "stats": {
                    "unique_count": 5,
                    "nan_count": 0,
                    "categories": [
                      {
                        "name": "Afghanistan",
                        "count": 1
                      },
                      {
                        "name": "Åland Islands",
                        "count": 1
                      },
                      {
                        "name": "3 others",
                        "count": 3
                      }
                    ]
                  }
                },
                {
                  "name": "Official state name[6][a]",
                  "dtype": "object",
                  "stats": {
                    "unique_count": 5,
                    "nan_count": 0,
                    "categories": [
                      {
                        "name": "the Islamic Republic of Afghanistan[b]",
                        "count": 1
                      },
                      {
                        "name": "Åland[c][d]",
                        "count": 1
                      },
                      {
                        "name": "3 others",
                        "count": 3
                      }
                    ]
                  }
                },
                {
                  "name": "Sovereignty [6][7][8]",
                  "dtype": "object",
                  "stats": {
                    "unique_count": 3,
                    "nan_count": 0,
                    "categories": [
                      {
                        "name": "UN member",
                        "count": 3
                      },
                      {
                        "name": "Finland",
                        "count": 1
                      },
                      {
                        "name": "United States",
                        "count": 1
                      }
                    ]
                  }
                },
                {
                  "name": "A-2 [5]",
                  "dtype": "object",
                  "stats": {
                    "unique_count": 5,
                    "nan_count": 0,
                    "categories": [
                      {
                        "name": ".mw-parser-output .monospaced{font-family:monospace,monospace}AF",
                        "count": 1
                      },
                      {
                        "name": "AX",
                        "count": 1
                      },
                      {
                        "name": "3 others",
                        "count": 3
                      }
                    ]
                  }
                },
                {
                  "name": "A-3 [5]",
                  "dtype": "object",
                  "stats": {
                    "unique_count": 5,
                    "nan_count": 0,
                    "categories": [
                      {
                        "name": "AFG",
                        "count": 1
                      },
                      {
                        "name": "ALA",
                        "count": 1
                      },
                      {
                        "name": "3 others",
                        "count": 3
                      }
                    ]
                  }
                },
                {
                  "name": "Num. [5]",
                  "dtype": "object",
                  "stats": {
                    "unique_count": 5,
                    "nan_count": 0,
                    "categories": [
                      {
                        "name": "004",
                        "count": 1
                      },
                      {
                        "name": "248",
                        "count": 1
                      },
                      {
                        "name": "3 others",
                        "count": 3
                      }
                    ]
                  }
                },
                {
                  "name": "ISO 3166-2[3] subdivision codes link",
                  "dtype": "object",
                  "stats": {
                    "unique_count": 5,
                    "nan_count": 0,
                    "categories": [
                      {
                        "name": "ISO 3166-2:AF",
                        "count": 1
                      },
                      {
                        "name": "ISO 3166-2:AX",
                        "count": 1
                      },
                      {
                        "name": "3 others",
                        "count": 3
                      }
                    ]
                  }
                },
                {
                  "name": "TLD [9]",
                  "dtype": "object",
                  "stats": {
                    "unique_count": 5,
                    "nan_count": 0,
                    "categories": [
                      {
                        "name": ".af",
                        "count": 1
                      },
                      {
                        "name": ".ax",
                        "count": 1
                      },
                      {
                        "name": "3 others",
                        "count": 3
                      }
                    ]
                  }
                },
                {
                  "name": "_deepnote_index_column",
                  "dtype": "int64"
                }
              ],
              "rows": [
                {
                  "ISO 3166[1] name[5]": "Afghanistan",
                  "Official state name[6][a]": "the Islamic Republic of Afghanistan[b]",
                  "Sovereignty [6][7][8]": "UN member",
                  "A-2 [5]": ".mw-parser-output .monospaced{font-family:monospace,monospace}AF",
                  "A-3 [5]": "AFG",
                  "Num. [5]": "004",
                  "ISO 3166-2[3] subdivision codes link": "ISO 3166-2:AF",
                  "TLD [9]": ".af",
                  "_deepnote_index_column": 0
                },
                {
                  "ISO 3166[1] name[5]": "Åland Islands",
                  "Official state name[6][a]": "Åland[c][d]",
                  "Sovereignty [6][7][8]": "Finland",
                  "A-2 [5]": "AX",
                  "A-3 [5]": "ALA",
                  "Num. [5]": "248",
                  "ISO 3166-2[3] subdivision codes link": "ISO 3166-2:AX",
                  "TLD [9]": ".ax",
                  "_deepnote_index_column": 1
                },
                {
                  "ISO 3166[1] name[5]": "Albania",
                  "Official state name[6][a]": "the Republic of Albania",
                  "Sovereignty [6][7][8]": "UN member",
                  "A-2 [5]": "AL",
                  "A-3 [5]": "ALB",
                  "Num. [5]": "008",
                  "ISO 3166-2[3] subdivision codes link": "ISO 3166-2:AL",
                  "TLD [9]": ".al",
                  "_deepnote_index_column": 2
                },
                {
                  "ISO 3166[1] name[5]": "Algeria",
                  "Official state name[6][a]": "the People's Democratic Republic of Algeria",
                  "Sovereignty [6][7][8]": "UN member",
                  "A-2 [5]": "DZ",
                  "A-3 [5]": "DZA",
                  "Num. [5]": "012",
                  "ISO 3166-2[3] subdivision codes link": "ISO 3166-2:DZ",
                  "TLD [9]": ".dz",
                  "_deepnote_index_column": 3
                },
                {
                  "ISO 3166[1] name[5]": "American Samoa",
                  "Official state name[6][a]": "American Samoa[c]",
                  "Sovereignty [6][7][8]": "United States",
                  "A-2 [5]": "AS",
                  "A-3 [5]": "ASM",
                  "Num. [5]": "016",
                  "ISO 3166-2[3] subdivision codes link": "ISO 3166-2:AS",
                  "TLD [9]": ".as",
                  "_deepnote_index_column": 4
                }
              ]
            },
            "text/plain": "  ISO 3166[1] name[5]                    Official state name[6][a]  \\\n0         Afghanistan       the Islamic Republic of Afghanistan[b]   \n1       Åland Islands                                  Åland[c][d]   \n2             Albania                      the Republic of Albania   \n3             Algeria  the People's Democratic Republic of Algeria   \n4      American Samoa                            American Samoa[c]   \n\n  Sovereignty [6][7][8]                                            A-2 [5]  \\\n0             UN member  .mw-parser-output .monospaced{font-family:mono...   \n1               Finland                                                 AX   \n2             UN member                                                 AL   \n3             UN member                                                 DZ   \n4         United States                                                 AS   \n\n  A-3 [5] Num. [5] ISO 3166-2[3] subdivision codes link TLD [9]  \n0     AFG      004                        ISO 3166-2:AF     .af  \n1     ALA      248                        ISO 3166-2:AX     .ax  \n2     ALB      008                        ISO 3166-2:AL     .al  \n3     DZA      012                        ISO 3166-2:DZ     .dz  \n4     ASM      016                        ISO 3166-2:AS     .as  ",
            "text/html": "<div>\n<style scoped>\n    .dataframe tbody tr th:only-of-type {\n        vertical-align: middle;\n    }\n\n    .dataframe tbody tr th {\n        vertical-align: top;\n    }\n\n    .dataframe thead th {\n        text-align: right;\n    }\n</style>\n<table border=\"1\" class=\"dataframe\">\n  <thead>\n    <tr style=\"text-align: right;\">\n      <th></th>\n      <th>ISO 3166[1] name[5]</th>\n      <th>Official state name[6][a]</th>\n      <th>Sovereignty [6][7][8]</th>\n      <th>A-2 [5]</th>\n      <th>A-3 [5]</th>\n      <th>Num. [5]</th>\n      <th>ISO 3166-2[3] subdivision codes link</th>\n      <th>TLD [9]</th>\n    </tr>\n  </thead>\n  <tbody>\n    <tr>\n      <th>0</th>\n      <td>Afghanistan</td>\n      <td>the Islamic Republic of Afghanistan[b]</td>\n      <td>UN member</td>\n      <td>.mw-parser-output .monospaced{font-family:mono...</td>\n      <td>AFG</td>\n      <td>004</td>\n      <td>ISO 3166-2:AF</td>\n      <td>.af</td>\n    </tr>\n    <tr>\n      <th>1</th>\n      <td>Åland Islands</td>\n      <td>Åland[c][d]</td>\n      <td>Finland</td>\n      <td>AX</td>\n      <td>ALA</td>\n      <td>248</td>\n      <td>ISO 3166-2:AX</td>\n      <td>.ax</td>\n    </tr>\n    <tr>\n      <th>2</th>\n      <td>Albania</td>\n      <td>the Republic of Albania</td>\n      <td>UN member</td>\n      <td>AL</td>\n      <td>ALB</td>\n      <td>008</td>\n      <td>ISO 3166-2:AL</td>\n      <td>.al</td>\n    </tr>\n    <tr>\n      <th>3</th>\n      <td>Algeria</td>\n      <td>the People's Democratic Republic of Algeria</td>\n      <td>UN member</td>\n      <td>DZ</td>\n      <td>DZA</td>\n      <td>012</td>\n      <td>ISO 3166-2:DZ</td>\n      <td>.dz</td>\n    </tr>\n    <tr>\n      <th>4</th>\n      <td>American Samoa</td>\n      <td>American Samoa[c]</td>\n      <td>United States</td>\n      <td>AS</td>\n      <td>ASM</td>\n      <td>016</td>\n      <td>ISO 3166-2:AS</td>\n      <td>.as</td>\n    </tr>\n  </tbody>\n</table>\n</div>"
          },
          "metadata": {}
        }
      ],
      "outputs_reference": null,
      "execution_count": 35,
      "block_group": "3256d82957e54fa28298dcbf110dad88",
      "content_dependencies": null
    },
    {
      "cell_type": "markdown",
      "source": "## Second, let's correct column names",
      "metadata": {
        "slideshow": {
          "slide_type": "subslide"
        },
        "user_expressions": [],
        "cell_id": "5caa65e74caf46ccaa0db46bed94449d",
        "deepnote_cell_type": "markdown"
      },
      "block_group": "2ea0d38908d34e0dad2468458c179218"
    },
    {
      "cell_type": "code",
      "source": "mycols = isocodes.columns\nmycols = [c[:c.find('[')].strip() for c in mycols]\nmycols",
      "metadata": {
        "slideshow": {
          "slide_type": "fragment"
        },
        "source_hash": "ee450c09",
        "execution_start": 1730132650260,
        "execution_millis": 1,
        "execution_context_id": "7c89757c-8d24-40c2-891e-29eb8cc3b4ff",
        "cell_id": "e98c558a94c9478fb3fad6ca1d1670aa",
        "deepnote_cell_type": "code"
      },
      "outputs": [
        {
          "output_type": "execute_result",
          "execution_count": 36,
          "data": {
            "text/plain": "['ISO 3166',\n 'Official state name',\n 'Sovereignty',\n 'A-2',\n 'A-3',\n 'Num.',\n 'ISO 3166-2',\n 'TLD']"
          },
          "metadata": {}
        }
      ],
      "outputs_reference": null,
      "execution_count": 36,
      "block_group": "f9949c6f215c42b984560326d9fb3eb4",
      "content_dependencies": null
    },
    {
      "cell_type": "code",
      "source": "isocodes.columns = mycols\nisocodes.head()",
      "metadata": {
        "slideshow": {
          "slide_type": "subslide"
        },
        "source_hash": "70f399c8",
        "execution_start": 1730132650316,
        "execution_millis": 1,
        "execution_context_id": "7c89757c-8d24-40c2-891e-29eb8cc3b4ff",
        "cell_id": "0b5370fb24aa4194952e12aaaa9a507d",
        "deepnote_cell_type": "code"
      },
      "outputs": [
        {
          "output_type": "execute_result",
          "execution_count": 37,
          "data": {
            "application/vnd.deepnote.dataframe.v3+json": {
              "column_count": 8,
              "row_count": 5,
              "columns": [
                {
                  "name": "ISO 3166",
                  "dtype": "object",
                  "stats": {
                    "unique_count": 5,
                    "nan_count": 0,
                    "categories": [
                      {
                        "name": "Afghanistan",
                        "count": 1
                      },
                      {
                        "name": "Åland Islands",
                        "count": 1
                      },
                      {
                        "name": "3 others",
                        "count": 3
                      }
                    ]
                  }
                },
                {
                  "name": "Official state name",
                  "dtype": "object",
                  "stats": {
                    "unique_count": 5,
                    "nan_count": 0,
                    "categories": [
                      {
                        "name": "the Islamic Republic of Afghanistan[b]",
                        "count": 1
                      },
                      {
                        "name": "Åland[c][d]",
                        "count": 1
                      },
                      {
                        "name": "3 others",
                        "count": 3
                      }
                    ]
                  }
                },
                {
                  "name": "Sovereignty",
                  "dtype": "object",
                  "stats": {
                    "unique_count": 3,
                    "nan_count": 0,
                    "categories": [
                      {
                        "name": "UN member",
                        "count": 3
                      },
                      {
                        "name": "Finland",
                        "count": 1
                      },
                      {
                        "name": "United States",
                        "count": 1
                      }
                    ]
                  }
                },
                {
                  "name": "A-2",
                  "dtype": "object",
                  "stats": {
                    "unique_count": 5,
                    "nan_count": 0,
                    "categories": [
                      {
                        "name": ".mw-parser-output .monospaced{font-family:monospace,monospace}AF",
                        "count": 1
                      },
                      {
                        "name": "AX",
                        "count": 1
                      },
                      {
                        "name": "3 others",
                        "count": 3
                      }
                    ]
                  }
                },
                {
                  "name": "A-3",
                  "dtype": "object",
                  "stats": {
                    "unique_count": 5,
                    "nan_count": 0,
                    "categories": [
                      {
                        "name": "AFG",
                        "count": 1
                      },
                      {
                        "name": "ALA",
                        "count": 1
                      },
                      {
                        "name": "3 others",
                        "count": 3
                      }
                    ]
                  }
                },
                {
                  "name": "Num.",
                  "dtype": "object",
                  "stats": {
                    "unique_count": 5,
                    "nan_count": 0,
                    "categories": [
                      {
                        "name": "004",
                        "count": 1
                      },
                      {
                        "name": "248",
                        "count": 1
                      },
                      {
                        "name": "3 others",
                        "count": 3
                      }
                    ]
                  }
                },
                {
                  "name": "ISO 3166-2",
                  "dtype": "object",
                  "stats": {
                    "unique_count": 5,
                    "nan_count": 0,
                    "categories": [
                      {
                        "name": "ISO 3166-2:AF",
                        "count": 1
                      },
                      {
                        "name": "ISO 3166-2:AX",
                        "count": 1
                      },
                      {
                        "name": "3 others",
                        "count": 3
                      }
                    ]
                  }
                },
                {
                  "name": "TLD",
                  "dtype": "object",
                  "stats": {
                    "unique_count": 5,
                    "nan_count": 0,
                    "categories": [
                      {
                        "name": ".af",
                        "count": 1
                      },
                      {
                        "name": ".ax",
                        "count": 1
                      },
                      {
                        "name": "3 others",
                        "count": 3
                      }
                    ]
                  }
                },
                {
                  "name": "_deepnote_index_column",
                  "dtype": "int64"
                }
              ],
              "rows": [
                {
                  "ISO 3166": "Afghanistan",
                  "Official state name": "the Islamic Republic of Afghanistan[b]",
                  "Sovereignty": "UN member",
                  "A-2": ".mw-parser-output .monospaced{font-family:monospace,monospace}AF",
                  "A-3": "AFG",
                  "Num.": "004",
                  "ISO 3166-2": "ISO 3166-2:AF",
                  "TLD": ".af",
                  "_deepnote_index_column": 0
                },
                {
                  "ISO 3166": "Åland Islands",
                  "Official state name": "Åland[c][d]",
                  "Sovereignty": "Finland",
                  "A-2": "AX",
                  "A-3": "ALA",
                  "Num.": "248",
                  "ISO 3166-2": "ISO 3166-2:AX",
                  "TLD": ".ax",
                  "_deepnote_index_column": 1
                },
                {
                  "ISO 3166": "Albania",
                  "Official state name": "the Republic of Albania",
                  "Sovereignty": "UN member",
                  "A-2": "AL",
                  "A-3": "ALB",
                  "Num.": "008",
                  "ISO 3166-2": "ISO 3166-2:AL",
                  "TLD": ".al",
                  "_deepnote_index_column": 2
                },
                {
                  "ISO 3166": "Algeria",
                  "Official state name": "the People's Democratic Republic of Algeria",
                  "Sovereignty": "UN member",
                  "A-2": "DZ",
                  "A-3": "DZA",
                  "Num.": "012",
                  "ISO 3166-2": "ISO 3166-2:DZ",
                  "TLD": ".dz",
                  "_deepnote_index_column": 3
                },
                {
                  "ISO 3166": "American Samoa",
                  "Official state name": "American Samoa[c]",
                  "Sovereignty": "United States",
                  "A-2": "AS",
                  "A-3": "ASM",
                  "Num.": "016",
                  "ISO 3166-2": "ISO 3166-2:AS",
                  "TLD": ".as",
                  "_deepnote_index_column": 4
                }
              ]
            },
            "text/plain": "         ISO 3166                          Official state name    Sovereignty  \\\n0     Afghanistan       the Islamic Republic of Afghanistan[b]      UN member   \n1   Åland Islands                                  Åland[c][d]        Finland   \n2         Albania                      the Republic of Albania      UN member   \n3         Algeria  the People's Democratic Republic of Algeria      UN member   \n4  American Samoa                            American Samoa[c]  United States   \n\n                                                 A-2  A-3 Num.     ISO 3166-2  \\\n0  .mw-parser-output .monospaced{font-family:mono...  AFG  004  ISO 3166-2:AF   \n1                                                 AX  ALA  248  ISO 3166-2:AX   \n2                                                 AL  ALB  008  ISO 3166-2:AL   \n3                                                 DZ  DZA  012  ISO 3166-2:DZ   \n4                                                 AS  ASM  016  ISO 3166-2:AS   \n\n   TLD  \n0  .af  \n1  .ax  \n2  .al  \n3  .dz  \n4  .as  ",
            "text/html": "<div>\n<style scoped>\n    .dataframe tbody tr th:only-of-type {\n        vertical-align: middle;\n    }\n\n    .dataframe tbody tr th {\n        vertical-align: top;\n    }\n\n    .dataframe thead th {\n        text-align: right;\n    }\n</style>\n<table border=\"1\" class=\"dataframe\">\n  <thead>\n    <tr style=\"text-align: right;\">\n      <th></th>\n      <th>ISO 3166</th>\n      <th>Official state name</th>\n      <th>Sovereignty</th>\n      <th>A-2</th>\n      <th>A-3</th>\n      <th>Num.</th>\n      <th>ISO 3166-2</th>\n      <th>TLD</th>\n    </tr>\n  </thead>\n  <tbody>\n    <tr>\n      <th>0</th>\n      <td>Afghanistan</td>\n      <td>the Islamic Republic of Afghanistan[b]</td>\n      <td>UN member</td>\n      <td>.mw-parser-output .monospaced{font-family:mono...</td>\n      <td>AFG</td>\n      <td>004</td>\n      <td>ISO 3166-2:AF</td>\n      <td>.af</td>\n    </tr>\n    <tr>\n      <th>1</th>\n      <td>Åland Islands</td>\n      <td>Åland[c][d]</td>\n      <td>Finland</td>\n      <td>AX</td>\n      <td>ALA</td>\n      <td>248</td>\n      <td>ISO 3166-2:AX</td>\n      <td>.ax</td>\n    </tr>\n    <tr>\n      <th>2</th>\n      <td>Albania</td>\n      <td>the Republic of Albania</td>\n      <td>UN member</td>\n      <td>AL</td>\n      <td>ALB</td>\n      <td>008</td>\n      <td>ISO 3166-2:AL</td>\n      <td>.al</td>\n    </tr>\n    <tr>\n      <th>3</th>\n      <td>Algeria</td>\n      <td>the People's Democratic Republic of Algeria</td>\n      <td>UN member</td>\n      <td>DZ</td>\n      <td>DZA</td>\n      <td>012</td>\n      <td>ISO 3166-2:DZ</td>\n      <td>.dz</td>\n    </tr>\n    <tr>\n      <th>4</th>\n      <td>American Samoa</td>\n      <td>American Samoa[c]</td>\n      <td>United States</td>\n      <td>AS</td>\n      <td>ASM</td>\n      <td>016</td>\n      <td>ISO 3166-2:AS</td>\n      <td>.as</td>\n    </tr>\n  </tbody>\n</table>\n</div>"
          },
          "metadata": {}
        }
      ],
      "outputs_reference": null,
      "execution_count": 37,
      "block_group": "cca8e1890a4c4ce78058be185254f243",
      "content_dependencies": null
    },
    {
      "cell_type": "markdown",
      "source": "## Third, let's correct `A-2` using `ISO 3166-2`",
      "metadata": {
        "slideshow": {
          "slide_type": "subslide"
        },
        "user_expressions": [],
        "cell_id": "7de4893db9464317a39fdd47f3dc43d5",
        "deepnote_cell_type": "markdown"
      },
      "block_group": "f686108badd349e58f75e3d1a613ebd1"
    },
    {
      "cell_type": "code",
      "source": "isocodes['Alpha-2 code original'] = isocodes['A-2']\nisocodes['A-2'] = isocodes['ISO 3166-2'].apply(lambda x: x[x.find(':')+1:])\nisocodes.head()",
      "metadata": {
        "slideshow": {
          "slide_type": "fragment"
        },
        "source_hash": "2d54123f",
        "execution_start": 1730132650368,
        "execution_millis": 1,
        "execution_context_id": "7c89757c-8d24-40c2-891e-29eb8cc3b4ff",
        "cell_id": "aecbe6f6691846b0a0e8fc71eb5e33f4",
        "deepnote_cell_type": "code"
      },
      "outputs": [
        {
          "output_type": "execute_result",
          "execution_count": 38,
          "data": {
            "application/vnd.deepnote.dataframe.v3+json": {
              "column_count": 9,
              "row_count": 5,
              "columns": [
                {
                  "name": "ISO 3166",
                  "dtype": "object",
                  "stats": {
                    "unique_count": 5,
                    "nan_count": 0,
                    "categories": [
                      {
                        "name": "Afghanistan",
                        "count": 1
                      },
                      {
                        "name": "Åland Islands",
                        "count": 1
                      },
                      {
                        "name": "3 others",
                        "count": 3
                      }
                    ]
                  }
                },
                {
                  "name": "Official state name",
                  "dtype": "object",
                  "stats": {
                    "unique_count": 5,
                    "nan_count": 0,
                    "categories": [
                      {
                        "name": "the Islamic Republic of Afghanistan[b]",
                        "count": 1
                      },
                      {
                        "name": "Åland[c][d]",
                        "count": 1
                      },
                      {
                        "name": "3 others",
                        "count": 3
                      }
                    ]
                  }
                },
                {
                  "name": "Sovereignty",
                  "dtype": "object",
                  "stats": {
                    "unique_count": 3,
                    "nan_count": 0,
                    "categories": [
                      {
                        "name": "UN member",
                        "count": 3
                      },
                      {
                        "name": "Finland",
                        "count": 1
                      },
                      {
                        "name": "United States",
                        "count": 1
                      }
                    ]
                  }
                },
                {
                  "name": "A-2",
                  "dtype": "object",
                  "stats": {
                    "unique_count": 5,
                    "nan_count": 0,
                    "categories": [
                      {
                        "name": "AF",
                        "count": 1
                      },
                      {
                        "name": "AX",
                        "count": 1
                      },
                      {
                        "name": "3 others",
                        "count": 3
                      }
                    ]
                  }
                },
                {
                  "name": "A-3",
                  "dtype": "object",
                  "stats": {
                    "unique_count": 5,
                    "nan_count": 0,
                    "categories": [
                      {
                        "name": "AFG",
                        "count": 1
                      },
                      {
                        "name": "ALA",
                        "count": 1
                      },
                      {
                        "name": "3 others",
                        "count": 3
                      }
                    ]
                  }
                },
                {
                  "name": "Num.",
                  "dtype": "object",
                  "stats": {
                    "unique_count": 5,
                    "nan_count": 0,
                    "categories": [
                      {
                        "name": "004",
                        "count": 1
                      },
                      {
                        "name": "248",
                        "count": 1
                      },
                      {
                        "name": "3 others",
                        "count": 3
                      }
                    ]
                  }
                },
                {
                  "name": "ISO 3166-2",
                  "dtype": "object",
                  "stats": {
                    "unique_count": 5,
                    "nan_count": 0,
                    "categories": [
                      {
                        "name": "ISO 3166-2:AF",
                        "count": 1
                      },
                      {
                        "name": "ISO 3166-2:AX",
                        "count": 1
                      },
                      {
                        "name": "3 others",
                        "count": 3
                      }
                    ]
                  }
                },
                {
                  "name": "TLD",
                  "dtype": "object",
                  "stats": {
                    "unique_count": 5,
                    "nan_count": 0,
                    "categories": [
                      {
                        "name": ".af",
                        "count": 1
                      },
                      {
                        "name": ".ax",
                        "count": 1
                      },
                      {
                        "name": "3 others",
                        "count": 3
                      }
                    ]
                  }
                },
                {
                  "name": "Alpha-2 code original",
                  "dtype": "object",
                  "stats": {
                    "unique_count": 5,
                    "nan_count": 0,
                    "categories": [
                      {
                        "name": ".mw-parser-output .monospaced{font-family:monospace,monospace}AF",
                        "count": 1
                      },
                      {
                        "name": "AX",
                        "count": 1
                      },
                      {
                        "name": "3 others",
                        "count": 3
                      }
                    ]
                  }
                },
                {
                  "name": "_deepnote_index_column",
                  "dtype": "int64"
                }
              ],
              "rows": [
                {
                  "ISO 3166": "Afghanistan",
                  "Official state name": "the Islamic Republic of Afghanistan[b]",
                  "Sovereignty": "UN member",
                  "A-2": "AF",
                  "A-3": "AFG",
                  "Num.": "004",
                  "ISO 3166-2": "ISO 3166-2:AF",
                  "TLD": ".af",
                  "Alpha-2 code original": ".mw-parser-output .monospaced{font-family:monospace,monospace}AF",
                  "_deepnote_index_column": 0
                },
                {
                  "ISO 3166": "Åland Islands",
                  "Official state name": "Åland[c][d]",
                  "Sovereignty": "Finland",
                  "A-2": "AX",
                  "A-3": "ALA",
                  "Num.": "248",
                  "ISO 3166-2": "ISO 3166-2:AX",
                  "TLD": ".ax",
                  "Alpha-2 code original": "AX",
                  "_deepnote_index_column": 1
                },
                {
                  "ISO 3166": "Albania",
                  "Official state name": "the Republic of Albania",
                  "Sovereignty": "UN member",
                  "A-2": "AL",
                  "A-3": "ALB",
                  "Num.": "008",
                  "ISO 3166-2": "ISO 3166-2:AL",
                  "TLD": ".al",
                  "Alpha-2 code original": "AL",
                  "_deepnote_index_column": 2
                },
                {
                  "ISO 3166": "Algeria",
                  "Official state name": "the People's Democratic Republic of Algeria",
                  "Sovereignty": "UN member",
                  "A-2": "DZ",
                  "A-3": "DZA",
                  "Num.": "012",
                  "ISO 3166-2": "ISO 3166-2:DZ",
                  "TLD": ".dz",
                  "Alpha-2 code original": "DZ",
                  "_deepnote_index_column": 3
                },
                {
                  "ISO 3166": "American Samoa",
                  "Official state name": "American Samoa[c]",
                  "Sovereignty": "United States",
                  "A-2": "AS",
                  "A-3": "ASM",
                  "Num.": "016",
                  "ISO 3166-2": "ISO 3166-2:AS",
                  "TLD": ".as",
                  "Alpha-2 code original": "AS",
                  "_deepnote_index_column": 4
                }
              ]
            },
            "text/plain": "         ISO 3166                          Official state name    Sovereignty  \\\n0     Afghanistan       the Islamic Republic of Afghanistan[b]      UN member   \n1   Åland Islands                                  Åland[c][d]        Finland   \n2         Albania                      the Republic of Albania      UN member   \n3         Algeria  the People's Democratic Republic of Algeria      UN member   \n4  American Samoa                            American Samoa[c]  United States   \n\n  A-2  A-3 Num.     ISO 3166-2  TLD  \\\n0  AF  AFG  004  ISO 3166-2:AF  .af   \n1  AX  ALA  248  ISO 3166-2:AX  .ax   \n2  AL  ALB  008  ISO 3166-2:AL  .al   \n3  DZ  DZA  012  ISO 3166-2:DZ  .dz   \n4  AS  ASM  016  ISO 3166-2:AS  .as   \n\n                               Alpha-2 code original  \n0  .mw-parser-output .monospaced{font-family:mono...  \n1                                                 AX  \n2                                                 AL  \n3                                                 DZ  \n4                                                 AS  ",
            "text/html": "<div>\n<style scoped>\n    .dataframe tbody tr th:only-of-type {\n        vertical-align: middle;\n    }\n\n    .dataframe tbody tr th {\n        vertical-align: top;\n    }\n\n    .dataframe thead th {\n        text-align: right;\n    }\n</style>\n<table border=\"1\" class=\"dataframe\">\n  <thead>\n    <tr style=\"text-align: right;\">\n      <th></th>\n      <th>ISO 3166</th>\n      <th>Official state name</th>\n      <th>Sovereignty</th>\n      <th>A-2</th>\n      <th>A-3</th>\n      <th>Num.</th>\n      <th>ISO 3166-2</th>\n      <th>TLD</th>\n      <th>Alpha-2 code original</th>\n    </tr>\n  </thead>\n  <tbody>\n    <tr>\n      <th>0</th>\n      <td>Afghanistan</td>\n      <td>the Islamic Republic of Afghanistan[b]</td>\n      <td>UN member</td>\n      <td>AF</td>\n      <td>AFG</td>\n      <td>004</td>\n      <td>ISO 3166-2:AF</td>\n      <td>.af</td>\n      <td>.mw-parser-output .monospaced{font-family:mono...</td>\n    </tr>\n    <tr>\n      <th>1</th>\n      <td>Åland Islands</td>\n      <td>Åland[c][d]</td>\n      <td>Finland</td>\n      <td>AX</td>\n      <td>ALA</td>\n      <td>248</td>\n      <td>ISO 3166-2:AX</td>\n      <td>.ax</td>\n      <td>AX</td>\n    </tr>\n    <tr>\n      <th>2</th>\n      <td>Albania</td>\n      <td>the Republic of Albania</td>\n      <td>UN member</td>\n      <td>AL</td>\n      <td>ALB</td>\n      <td>008</td>\n      <td>ISO 3166-2:AL</td>\n      <td>.al</td>\n      <td>AL</td>\n    </tr>\n    <tr>\n      <th>3</th>\n      <td>Algeria</td>\n      <td>the People's Democratic Republic of Algeria</td>\n      <td>UN member</td>\n      <td>DZ</td>\n      <td>DZA</td>\n      <td>012</td>\n      <td>ISO 3166-2:DZ</td>\n      <td>.dz</td>\n      <td>DZ</td>\n    </tr>\n    <tr>\n      <th>4</th>\n      <td>American Samoa</td>\n      <td>American Samoa[c]</td>\n      <td>United States</td>\n      <td>AS</td>\n      <td>ASM</td>\n      <td>016</td>\n      <td>ISO 3166-2:AS</td>\n      <td>.as</td>\n      <td>AS</td>\n    </tr>\n  </tbody>\n</table>\n</div>"
          },
          "metadata": {}
        }
      ],
      "outputs_reference": null,
      "execution_count": 38,
      "block_group": "313b8f880ad748d487d213ee18c9483a",
      "content_dependencies": null
    },
    {
      "cell_type": "markdown",
      "source": "## Now, let's import the table of countries' GDP per capita (PPP) from [Wikipedia](https://en.wikipedia.org/wiki/List_of_countries_by_GDP_(PPP)_per_capita)",
      "metadata": {
        "slideshow": {
          "slide_type": "subslide"
        },
        "user_expressions": [],
        "cell_id": "462bd9f67c43469cae4df382717891a5",
        "deepnote_cell_type": "markdown"
      },
      "block_group": "0a1c68a112ff4002abbf245c0c028eda"
    },
    {
      "cell_type": "code",
      "source": "url = 'https://en.wikipedia.org/wiki/List_of_countries_by_GDP_(PPP)_per_capita'\nIFrame(url, width=800, height=400)",
      "metadata": {
        "slideshow": {
          "slide_type": "subslide"
        },
        "source_hash": "7bfcde37",
        "execution_start": 1730132650416,
        "execution_millis": 0,
        "execution_context_id": "7c89757c-8d24-40c2-891e-29eb8cc3b4ff",
        "cell_id": "688ce15df511473f9ceb957e11b1ce34",
        "deepnote_cell_type": "code"
      },
      "outputs": [
        {
          "output_type": "execute_result",
          "execution_count": 39,
          "data": {
            "text/plain": "<IPython.lib.display.IFrame at 0x7f339c01b430>",
            "text/html": "\n        <iframe\n            width=\"800\"\n            height=\"400\"\n            src=\"https://en.wikipedia.org/wiki/List_of_countries_by_GDP_(PPP)_per_capita\"\n            frameborder=\"0\"\n            allowfullscreen\n            \n        ></iframe>\n        "
          },
          "metadata": {}
        }
      ],
      "outputs_reference": null,
      "execution_count": 39,
      "block_group": "81b90691bc534ec8ba9470df63a06f13",
      "content_dependencies": null
    },
    {
      "cell_type": "code",
      "source": "gdppc_wiki = pd.read_html(url, encoding='utf-8')[1]\ngdppc_wiki",
      "metadata": {
        "slideshow": {
          "slide_type": "subslide"
        },
        "source_hash": "356dd338",
        "execution_start": 1730132650464,
        "execution_millis": 71,
        "execution_context_id": "7c89757c-8d24-40c2-891e-29eb8cc3b4ff",
        "cell_id": "b865a322e8434686b8d3f3b099700fff",
        "deepnote_cell_type": "code"
      },
      "outputs": [
        {
          "output_type": "execute_result",
          "execution_count": 40,
          "data": {
            "application/vnd.deepnote.dataframe.v3+json": {
              "column_count": 7,
              "row_count": 230,
              "columns": [
                {
                  "name": "Country/Territory Country/Territory",
                  "dtype": "object",
                  "stats": {
                    "unique_count": 230,
                    "nan_count": 0,
                    "categories": [
                      {
                        "name": "Luxembourg *",
                        "count": 1
                      },
                      {
                        "name": "Singapore *",
                        "count": 1
                      },
                      {
                        "name": "228 others",
                        "count": 228
                      }
                    ]
                  }
                },
                {
                  "name": "IMF[5][6] Projection",
                  "dtype": "object",
                  "stats": {
                    "unique_count": 199,
                    "nan_count": 0,
                    "categories": [
                      {
                        "name": "—",
                        "count": 32
                      },
                      {
                        "name": "151146",
                        "count": 1
                      },
                      {
                        "name": "197 others",
                        "count": 197
                      }
                    ]
                  }
                },
                {
                  "name": "IMF[5][6] Year",
                  "dtype": "object",
                  "stats": {
                    "unique_count": 13,
                    "nan_count": 0,
                    "categories": [
                      {
                        "name": "2024",
                        "count": 185
                      },
                      {
                        "name": "—",
                        "count": 32
                      },
                      {
                        "name": "11 others",
                        "count": 13
                      }
                    ]
                  }
                },
                {
                  "name": "World Bank[7] Estimate",
                  "dtype": "object",
                  "stats": {
                    "unique_count": 205,
                    "nan_count": 0,
                    "categories": [
                      {
                        "name": "—",
                        "count": 26
                      },
                      {
                        "name": "143342",
                        "count": 1
                      },
                      {
                        "name": "203 others",
                        "count": 203
                      }
                    ]
                  }
                },
                {
                  "name": "World Bank[7] Year",
                  "dtype": "object",
                  "stats": {
                    "unique_count": 15,
                    "nan_count": 0,
                    "categories": [
                      {
                        "name": "2023",
                        "count": 179
                      },
                      {
                        "name": "—",
                        "count": 26
                      },
                      {
                        "name": "13 others",
                        "count": 25
                      }
                    ]
                  }
                },
                {
                  "name": "CIA[8][9][10] Estimate",
                  "dtype": "int64",
                  "stats": {
                    "unique_count": 177,
                    "nan_count": 0,
                    "min": "700",
                    "max": "139100",
                    "histogram": [
                      {
                        "bin_start": 700,
                        "bin_end": 14540,
                        "count": 117
                      },
                      {
                        "bin_start": 14540,
                        "bin_end": 28380,
                        "count": 38
                      },
                      {
                        "bin_start": 28380,
                        "bin_end": 42220,
                        "count": 32
                      },
                      {
                        "bin_start": 42220,
                        "bin_end": 56060,
                        "count": 21
                      },
                      {
                        "bin_start": 56060,
                        "bin_end": 69900,
                        "count": 12
                      },
                      {
                        "bin_start": 69900,
                        "bin_end": 83740,
                        "count": 3
                      },
                      {
                        "bin_start": 83740,
                        "bin_end": 97580,
                        "count": 2
                      },
                      {
                        "bin_start": 97580,
                        "bin_end": 111420,
                        "count": 2
                      },
                      {
                        "bin_start": 111420,
                        "bin_end": 125260,
                        "count": 2
                      },
                      {
                        "bin_start": 125260,
                        "bin_end": 139100,
                        "count": 1
                      }
                    ]
                  }
                },
                {
                  "name": "CIA[8][9][10] Year",
                  "dtype": "object",
                  "stats": {
                    "unique_count": 25,
                    "nan_count": 0,
                    "categories": [
                      {
                        "name": "2021",
                        "count": 178
                      },
                      {
                        "name": "2020",
                        "count": 8
                      },
                      {
                        "name": "23 others",
                        "count": 44
                      }
                    ]
                  }
                },
                {
                  "name": "_deepnote_index_column",
                  "dtype": "int64"
                }
              ],
              "rows": [
                {
                  "Country/Territory Country/Territory": "Luxembourg *",
                  "IMF[5][6] Projection": "151146",
                  "IMF[5][6] Year": "2024",
                  "World Bank[7] Estimate": "143342",
                  "World Bank[7] Year": "2023",
                  "CIA[8][9][10] Estimate": 115700,
                  "CIA[8][9][10] Year": "2021",
                  "_deepnote_index_column": 0
                },
                {
                  "Country/Territory Country/Territory": "Singapore *",
                  "IMF[5][6] Projection": "148186",
                  "IMF[5][6] Year": "2024",
                  "World Bank[7] Estimate": "141500",
                  "World Bank[7] Year": "2023",
                  "CIA[8][9][10] Estimate": 106000,
                  "CIA[8][9][10] Year": "2021",
                  "_deepnote_index_column": 1
                },
                {
                  "Country/Territory Country/Territory": "Liechtenstein *",
                  "IMF[5][6] Projection": "—",
                  "IMF[5][6] Year": "—",
                  "World Bank[7] Estimate": "—",
                  "World Bank[7] Year": "—",
                  "CIA[8][9][10] Estimate": 139100,
                  "CIA[8][9][10] Year": "2009",
                  "_deepnote_index_column": 2
                },
                {
                  "Country/Territory Country/Territory": "Macau *",
                  "IMF[5][6] Projection": "130417",
                  "IMF[5][6] Year": "2024",
                  "World Bank[7] Estimate": "113183",
                  "World Bank[7] Year": "2023",
                  "CIA[8][9][10] Estimate": 64800,
                  "CIA[8][9][10] Year": "2021",
                  "_deepnote_index_column": 3
                },
                {
                  "Country/Territory Country/Territory": "Ireland *",
                  "IMF[5][6] Projection": "127750",
                  "IMF[5][6] Year": "2024",
                  "World Bank[7] Estimate": "127623",
                  "World Bank[7] Year": "2023",
                  "CIA[8][9][10] Estimate": 102500,
                  "CIA[8][9][10] Year": "2021",
                  "_deepnote_index_column": 4
                },
                {
                  "Country/Territory Country/Territory": "Monaco *",
                  "IMF[5][6] Projection": "—",
                  "IMF[5][6] Year": "—",
                  "World Bank[7] Estimate": "—",
                  "World Bank[7] Year": "—",
                  "CIA[8][9][10] Estimate": 115700,
                  "CIA[8][9][10] Year": "2015",
                  "_deepnote_index_column": 5
                },
                {
                  "Country/Territory Country/Territory": "Qatar *",
                  "IMF[5][6] Projection": "115075",
                  "IMF[5][6] Year": "2024",
                  "World Bank[7] Estimate": "121125",
                  "World Bank[7] Year": "2022",
                  "CIA[8][9][10] Estimate": 92200,
                  "CIA[8][9][10] Year": "2021",
                  "_deepnote_index_column": 6
                },
                {
                  "Country/Territory Country/Territory": "Bermuda *",
                  "IMF[5][6] Projection": "—",
                  "IMF[5][6] Year": "—",
                  "World Bank[7] Estimate": "106866",
                  "World Bank[7] Year": "2022",
                  "CIA[8][9][10] Estimate": 80300,
                  "CIA[8][9][10] Year": "2021",
                  "_deepnote_index_column": 7
                },
                {
                  "Country/Territory Country/Territory": "Norway *",
                  "IMF[5][6] Projection": "103446",
                  "IMF[5][6] Year": "2024",
                  "World Bank[7] Estimate": "104460",
                  "World Bank[7] Year": "2023",
                  "CIA[8][9][10] Estimate": 65700,
                  "CIA[8][9][10] Year": "2021",
                  "_deepnote_index_column": 8
                },
                {
                  "Country/Territory Country/Territory": "Switzerland *",
                  "IMF[5][6] Projection": "95837",
                  "IMF[5][6] Year": "2024",
                  "World Bank[7] Estimate": "92980",
                  "World Bank[7] Year": "2023",
                  "CIA[8][9][10] Estimate": 71000,
                  "CIA[8][9][10] Year": "2021",
                  "_deepnote_index_column": 9
                }
              ]
            },
            "text/plain": "              Country/Territory  IMF[5][6]       World Bank[7]        \\\n              Country/Territory Projection  Year      Estimate  Year   \n0                  Luxembourg *     151146  2024        143342  2023   \n1                   Singapore *     148186  2024        141500  2023   \n2               Liechtenstein *          —     —             —     —   \n3                       Macau *     130417  2024        113183  2023   \n4                     Ireland *     127750  2024        127623  2023   \n..                          ...        ...   ...           ...   ...   \n225                    Malawi *       1714  2024          1868  2023   \n226               North Korea *          —     —             —     —   \n227  Central African Republic *       1296  2024          1130  2023   \n228                   Burundi *        986  2024           951  2023   \n229               South Sudan *        763  2024          1146  2015   \n\n    CIA[8][9][10]        \n         Estimate  Year  \n0          115700  2021  \n1          106000  2021  \n2          139100  2009  \n3           64800  2021  \n4          102500  2021  \n..            ...   ...  \n225          1500  2021  \n226          1700  2015  \n227           800  2021  \n228           700  2021  \n229          1600  2017  \n\n[230 rows x 7 columns]",
            "text/html": "<div>\n<style scoped>\n    .dataframe tbody tr th:only-of-type {\n        vertical-align: middle;\n    }\n\n    .dataframe tbody tr th {\n        vertical-align: top;\n    }\n\n    .dataframe thead tr th {\n        text-align: left;\n    }\n</style>\n<table border=\"1\" class=\"dataframe\">\n  <thead>\n    <tr>\n      <th></th>\n      <th>Country/Territory</th>\n      <th colspan=\"2\" halign=\"left\">IMF[5][6]</th>\n      <th colspan=\"2\" halign=\"left\">World Bank[7]</th>\n      <th colspan=\"2\" halign=\"left\">CIA[8][9][10]</th>\n    </tr>\n    <tr>\n      <th></th>\n      <th>Country/Territory</th>\n      <th>Projection</th>\n      <th>Year</th>\n      <th>Estimate</th>\n      <th>Year</th>\n      <th>Estimate</th>\n      <th>Year</th>\n    </tr>\n  </thead>\n  <tbody>\n    <tr>\n      <th>0</th>\n      <td>Luxembourg *</td>\n      <td>151146</td>\n      <td>2024</td>\n      <td>143342</td>\n      <td>2023</td>\n      <td>115700</td>\n      <td>2021</td>\n    </tr>\n    <tr>\n      <th>1</th>\n      <td>Singapore *</td>\n      <td>148186</td>\n      <td>2024</td>\n      <td>141500</td>\n      <td>2023</td>\n      <td>106000</td>\n      <td>2021</td>\n    </tr>\n    <tr>\n      <th>2</th>\n      <td>Liechtenstein *</td>\n      <td>—</td>\n      <td>—</td>\n      <td>—</td>\n      <td>—</td>\n      <td>139100</td>\n      <td>2009</td>\n    </tr>\n    <tr>\n      <th>3</th>\n      <td>Macau *</td>\n      <td>130417</td>\n      <td>2024</td>\n      <td>113183</td>\n      <td>2023</td>\n      <td>64800</td>\n      <td>2021</td>\n    </tr>\n    <tr>\n      <th>4</th>\n      <td>Ireland *</td>\n      <td>127750</td>\n      <td>2024</td>\n      <td>127623</td>\n      <td>2023</td>\n      <td>102500</td>\n      <td>2021</td>\n    </tr>\n    <tr>\n      <th>...</th>\n      <td>...</td>\n      <td>...</td>\n      <td>...</td>\n      <td>...</td>\n      <td>...</td>\n      <td>...</td>\n      <td>...</td>\n    </tr>\n    <tr>\n      <th>225</th>\n      <td>Malawi *</td>\n      <td>1714</td>\n      <td>2024</td>\n      <td>1868</td>\n      <td>2023</td>\n      <td>1500</td>\n      <td>2021</td>\n    </tr>\n    <tr>\n      <th>226</th>\n      <td>North Korea *</td>\n      <td>—</td>\n      <td>—</td>\n      <td>—</td>\n      <td>—</td>\n      <td>1700</td>\n      <td>2015</td>\n    </tr>\n    <tr>\n      <th>227</th>\n      <td>Central African Republic *</td>\n      <td>1296</td>\n      <td>2024</td>\n      <td>1130</td>\n      <td>2023</td>\n      <td>800</td>\n      <td>2021</td>\n    </tr>\n    <tr>\n      <th>228</th>\n      <td>Burundi *</td>\n      <td>986</td>\n      <td>2024</td>\n      <td>951</td>\n      <td>2023</td>\n      <td>700</td>\n      <td>2021</td>\n    </tr>\n    <tr>\n      <th>229</th>\n      <td>South Sudan *</td>\n      <td>763</td>\n      <td>2024</td>\n      <td>1146</td>\n      <td>2015</td>\n      <td>1600</td>\n      <td>2017</td>\n    </tr>\n  </tbody>\n</table>\n<p>230 rows × 7 columns</p>\n</div>"
          },
          "metadata": {}
        }
      ],
      "outputs_reference": null,
      "execution_count": 40,
      "block_group": "cce45935449f4c83a5167c7e7095b338",
      "content_dependencies": null
    },
    {
      "cell_type": "markdown",
      "source": "## Again we need to clean the data a little bit",
      "metadata": {
        "tags": [],
        "slideshow": {
          "slide_type": "subslide"
        },
        "user_expressions": [],
        "cell_id": "09b21fc07de04d28b7578cbdd5500d4a",
        "deepnote_cell_type": "markdown"
      },
      "block_group": "3a612f3e359a4d598fe844aa5b3bcff3"
    },
    {
      "cell_type": "code",
      "source": "gdppc_wiki.columns = ['Country/Territory', 'gdppc_IMF', 'year_IMF',\n                      'gdppc_WB', 'year_WB', 'gdppc_CIA', 'year_CIA']\ngdppc_wiki.head()",
      "metadata": {
        "slideshow": {
          "slide_type": "fragment"
        },
        "source_hash": "f144a9c7",
        "execution_start": 1730132650580,
        "execution_millis": 1,
        "execution_context_id": "7c89757c-8d24-40c2-891e-29eb8cc3b4ff",
        "cell_id": "c38d808866174027acf0c2a7081d6ffc",
        "deepnote_cell_type": "code"
      },
      "outputs": [
        {
          "output_type": "execute_result",
          "execution_count": 41,
          "data": {
            "application/vnd.deepnote.dataframe.v3+json": {
              "column_count": 7,
              "row_count": 5,
              "columns": [
                {
                  "name": "Country/Territory",
                  "dtype": "object",
                  "stats": {
                    "unique_count": 5,
                    "nan_count": 0,
                    "categories": [
                      {
                        "name": "Luxembourg *",
                        "count": 1
                      },
                      {
                        "name": "Singapore *",
                        "count": 1
                      },
                      {
                        "name": "3 others",
                        "count": 3
                      }
                    ]
                  }
                },
                {
                  "name": "gdppc_IMF",
                  "dtype": "object",
                  "stats": {
                    "unique_count": 5,
                    "nan_count": 0,
                    "categories": [
                      {
                        "name": "151146",
                        "count": 1
                      },
                      {
                        "name": "148186",
                        "count": 1
                      },
                      {
                        "name": "3 others",
                        "count": 3
                      }
                    ]
                  }
                },
                {
                  "name": "year_IMF",
                  "dtype": "object",
                  "stats": {
                    "unique_count": 2,
                    "nan_count": 0,
                    "categories": [
                      {
                        "name": "2024",
                        "count": 4
                      },
                      {
                        "name": "—",
                        "count": 1
                      }
                    ]
                  }
                },
                {
                  "name": "gdppc_WB",
                  "dtype": "object",
                  "stats": {
                    "unique_count": 5,
                    "nan_count": 0,
                    "categories": [
                      {
                        "name": "143342",
                        "count": 1
                      },
                      {
                        "name": "141500",
                        "count": 1
                      },
                      {
                        "name": "3 others",
                        "count": 3
                      }
                    ]
                  }
                },
                {
                  "name": "year_WB",
                  "dtype": "object",
                  "stats": {
                    "unique_count": 2,
                    "nan_count": 0,
                    "categories": [
                      {
                        "name": "2023",
                        "count": 4
                      },
                      {
                        "name": "—",
                        "count": 1
                      }
                    ]
                  }
                },
                {
                  "name": "gdppc_CIA",
                  "dtype": "int64",
                  "stats": {
                    "unique_count": 5,
                    "nan_count": 0,
                    "min": "64800",
                    "max": "139100",
                    "histogram": [
                      {
                        "bin_start": 64800,
                        "bin_end": 72230,
                        "count": 1
                      },
                      {
                        "bin_start": 72230,
                        "bin_end": 79660,
                        "count": 0
                      },
                      {
                        "bin_start": 79660,
                        "bin_end": 87090,
                        "count": 0
                      },
                      {
                        "bin_start": 87090,
                        "bin_end": 94520,
                        "count": 0
                      },
                      {
                        "bin_start": 94520,
                        "bin_end": 101950,
                        "count": 0
                      },
                      {
                        "bin_start": 101950,
                        "bin_end": 109380,
                        "count": 2
                      },
                      {
                        "bin_start": 109380,
                        "bin_end": 116810,
                        "count": 1
                      },
                      {
                        "bin_start": 116810,
                        "bin_end": 124240,
                        "count": 0
                      },
                      {
                        "bin_start": 124240,
                        "bin_end": 131670,
                        "count": 0
                      },
                      {
                        "bin_start": 131670,
                        "bin_end": 139100,
                        "count": 1
                      }
                    ]
                  }
                },
                {
                  "name": "year_CIA",
                  "dtype": "object",
                  "stats": {
                    "unique_count": 2,
                    "nan_count": 0,
                    "categories": [
                      {
                        "name": "2021",
                        "count": 4
                      },
                      {
                        "name": "2009",
                        "count": 1
                      }
                    ]
                  }
                },
                {
                  "name": "_deepnote_index_column",
                  "dtype": "int64"
                }
              ],
              "rows": [
                {
                  "Country/Territory": "Luxembourg *",
                  "gdppc_IMF": "151146",
                  "year_IMF": "2024",
                  "gdppc_WB": "143342",
                  "year_WB": "2023",
                  "gdppc_CIA": 115700,
                  "year_CIA": "2021",
                  "_deepnote_index_column": 0
                },
                {
                  "Country/Territory": "Singapore *",
                  "gdppc_IMF": "148186",
                  "year_IMF": "2024",
                  "gdppc_WB": "141500",
                  "year_WB": "2023",
                  "gdppc_CIA": 106000,
                  "year_CIA": "2021",
                  "_deepnote_index_column": 1
                },
                {
                  "Country/Territory": "Liechtenstein *",
                  "gdppc_IMF": "—",
                  "year_IMF": "—",
                  "gdppc_WB": "—",
                  "year_WB": "—",
                  "gdppc_CIA": 139100,
                  "year_CIA": "2009",
                  "_deepnote_index_column": 2
                },
                {
                  "Country/Territory": "Macau *",
                  "gdppc_IMF": "130417",
                  "year_IMF": "2024",
                  "gdppc_WB": "113183",
                  "year_WB": "2023",
                  "gdppc_CIA": 64800,
                  "year_CIA": "2021",
                  "_deepnote_index_column": 3
                },
                {
                  "Country/Territory": "Ireland *",
                  "gdppc_IMF": "127750",
                  "year_IMF": "2024",
                  "gdppc_WB": "127623",
                  "year_WB": "2023",
                  "gdppc_CIA": 102500,
                  "year_CIA": "2021",
                  "_deepnote_index_column": 4
                }
              ]
            },
            "text/plain": "  Country/Territory gdppc_IMF year_IMF gdppc_WB year_WB  gdppc_CIA year_CIA\n0      Luxembourg *    151146     2024   143342    2023     115700     2021\n1       Singapore *    148186     2024   141500    2023     106000     2021\n2   Liechtenstein *         —        —        —       —     139100     2009\n3           Macau *    130417     2024   113183    2023      64800     2021\n4         Ireland *    127750     2024   127623    2023     102500     2021",
            "text/html": "<div>\n<style scoped>\n    .dataframe tbody tr th:only-of-type {\n        vertical-align: middle;\n    }\n\n    .dataframe tbody tr th {\n        vertical-align: top;\n    }\n\n    .dataframe thead th {\n        text-align: right;\n    }\n</style>\n<table border=\"1\" class=\"dataframe\">\n  <thead>\n    <tr style=\"text-align: right;\">\n      <th></th>\n      <th>Country/Territory</th>\n      <th>gdppc_IMF</th>\n      <th>year_IMF</th>\n      <th>gdppc_WB</th>\n      <th>year_WB</th>\n      <th>gdppc_CIA</th>\n      <th>year_CIA</th>\n    </tr>\n  </thead>\n  <tbody>\n    <tr>\n      <th>0</th>\n      <td>Luxembourg *</td>\n      <td>151146</td>\n      <td>2024</td>\n      <td>143342</td>\n      <td>2023</td>\n      <td>115700</td>\n      <td>2021</td>\n    </tr>\n    <tr>\n      <th>1</th>\n      <td>Singapore *</td>\n      <td>148186</td>\n      <td>2024</td>\n      <td>141500</td>\n      <td>2023</td>\n      <td>106000</td>\n      <td>2021</td>\n    </tr>\n    <tr>\n      <th>2</th>\n      <td>Liechtenstein *</td>\n      <td>—</td>\n      <td>—</td>\n      <td>—</td>\n      <td>—</td>\n      <td>139100</td>\n      <td>2009</td>\n    </tr>\n    <tr>\n      <th>3</th>\n      <td>Macau *</td>\n      <td>130417</td>\n      <td>2024</td>\n      <td>113183</td>\n      <td>2023</td>\n      <td>64800</td>\n      <td>2021</td>\n    </tr>\n    <tr>\n      <th>4</th>\n      <td>Ireland *</td>\n      <td>127750</td>\n      <td>2024</td>\n      <td>127623</td>\n      <td>2023</td>\n      <td>102500</td>\n      <td>2021</td>\n    </tr>\n  </tbody>\n</table>\n</div>"
          },
          "metadata": {}
        }
      ],
      "outputs_reference": null,
      "execution_count": 41,
      "block_group": "1995a847e7e2492d8b5e3dc4e20af604",
      "content_dependencies": null
    },
    {
      "cell_type": "markdown",
      "source": "## Let's eliminate the * in the country names",
      "metadata": {
        "tags": [],
        "slideshow": {
          "slide_type": "subslide"
        },
        "user_expressions": [],
        "cell_id": "6369596203414973a061246c327e5fd2",
        "deepnote_cell_type": "markdown"
      },
      "block_group": "4bae8235844c48979b9dd6207d816a06"
    },
    {
      "cell_type": "code",
      "source": "gdppc_wiki['country_name'] = gdppc_wiki['Country/Territory'].str.replace('*', '', regex=True).str.strip()\ngdppc_wiki.head()",
      "metadata": {
        "slideshow": {
          "slide_type": "fragment"
        },
        "source_hash": "41cce31a",
        "execution_start": 1730132650644,
        "execution_millis": 1,
        "execution_context_id": "7c89757c-8d24-40c2-891e-29eb8cc3b4ff",
        "cell_id": "bfcf7dc604b74f9e80ca41b1b8a28a2d",
        "deepnote_cell_type": "code"
      },
      "outputs": [
        {
          "output_type": "execute_result",
          "execution_count": 42,
          "data": {
            "application/vnd.deepnote.dataframe.v3+json": {
              "column_count": 8,
              "row_count": 5,
              "columns": [
                {
                  "name": "Country/Territory",
                  "dtype": "object",
                  "stats": {
                    "unique_count": 5,
                    "nan_count": 0,
                    "categories": [
                      {
                        "name": "Luxembourg *",
                        "count": 1
                      },
                      {
                        "name": "Singapore *",
                        "count": 1
                      },
                      {
                        "name": "3 others",
                        "count": 3
                      }
                    ]
                  }
                },
                {
                  "name": "gdppc_IMF",
                  "dtype": "object",
                  "stats": {
                    "unique_count": 5,
                    "nan_count": 0,
                    "categories": [
                      {
                        "name": "151146",
                        "count": 1
                      },
                      {
                        "name": "148186",
                        "count": 1
                      },
                      {
                        "name": "3 others",
                        "count": 3
                      }
                    ]
                  }
                },
                {
                  "name": "year_IMF",
                  "dtype": "object",
                  "stats": {
                    "unique_count": 2,
                    "nan_count": 0,
                    "categories": [
                      {
                        "name": "2024",
                        "count": 4
                      },
                      {
                        "name": "—",
                        "count": 1
                      }
                    ]
                  }
                },
                {
                  "name": "gdppc_WB",
                  "dtype": "object",
                  "stats": {
                    "unique_count": 5,
                    "nan_count": 0,
                    "categories": [
                      {
                        "name": "143342",
                        "count": 1
                      },
                      {
                        "name": "141500",
                        "count": 1
                      },
                      {
                        "name": "3 others",
                        "count": 3
                      }
                    ]
                  }
                },
                {
                  "name": "year_WB",
                  "dtype": "object",
                  "stats": {
                    "unique_count": 2,
                    "nan_count": 0,
                    "categories": [
                      {
                        "name": "2023",
                        "count": 4
                      },
                      {
                        "name": "—",
                        "count": 1
                      }
                    ]
                  }
                },
                {
                  "name": "gdppc_CIA",
                  "dtype": "int64",
                  "stats": {
                    "unique_count": 5,
                    "nan_count": 0,
                    "min": "64800",
                    "max": "139100",
                    "histogram": [
                      {
                        "bin_start": 64800,
                        "bin_end": 72230,
                        "count": 1
                      },
                      {
                        "bin_start": 72230,
                        "bin_end": 79660,
                        "count": 0
                      },
                      {
                        "bin_start": 79660,
                        "bin_end": 87090,
                        "count": 0
                      },
                      {
                        "bin_start": 87090,
                        "bin_end": 94520,
                        "count": 0
                      },
                      {
                        "bin_start": 94520,
                        "bin_end": 101950,
                        "count": 0
                      },
                      {
                        "bin_start": 101950,
                        "bin_end": 109380,
                        "count": 2
                      },
                      {
                        "bin_start": 109380,
                        "bin_end": 116810,
                        "count": 1
                      },
                      {
                        "bin_start": 116810,
                        "bin_end": 124240,
                        "count": 0
                      },
                      {
                        "bin_start": 124240,
                        "bin_end": 131670,
                        "count": 0
                      },
                      {
                        "bin_start": 131670,
                        "bin_end": 139100,
                        "count": 1
                      }
                    ]
                  }
                },
                {
                  "name": "year_CIA",
                  "dtype": "object",
                  "stats": {
                    "unique_count": 2,
                    "nan_count": 0,
                    "categories": [
                      {
                        "name": "2021",
                        "count": 4
                      },
                      {
                        "name": "2009",
                        "count": 1
                      }
                    ]
                  }
                },
                {
                  "name": "country_name",
                  "dtype": "object",
                  "stats": {
                    "unique_count": 5,
                    "nan_count": 0,
                    "categories": [
                      {
                        "name": "Luxembourg",
                        "count": 1
                      },
                      {
                        "name": "Singapore",
                        "count": 1
                      },
                      {
                        "name": "3 others",
                        "count": 3
                      }
                    ]
                  }
                },
                {
                  "name": "_deepnote_index_column",
                  "dtype": "int64"
                }
              ],
              "rows": [
                {
                  "Country/Territory": "Luxembourg *",
                  "gdppc_IMF": "151146",
                  "year_IMF": "2024",
                  "gdppc_WB": "143342",
                  "year_WB": "2023",
                  "gdppc_CIA": 115700,
                  "year_CIA": "2021",
                  "country_name": "Luxembourg",
                  "_deepnote_index_column": 0
                },
                {
                  "Country/Territory": "Singapore *",
                  "gdppc_IMF": "148186",
                  "year_IMF": "2024",
                  "gdppc_WB": "141500",
                  "year_WB": "2023",
                  "gdppc_CIA": 106000,
                  "year_CIA": "2021",
                  "country_name": "Singapore",
                  "_deepnote_index_column": 1
                },
                {
                  "Country/Territory": "Liechtenstein *",
                  "gdppc_IMF": "—",
                  "year_IMF": "—",
                  "gdppc_WB": "—",
                  "year_WB": "—",
                  "gdppc_CIA": 139100,
                  "year_CIA": "2009",
                  "country_name": "Liechtenstein",
                  "_deepnote_index_column": 2
                },
                {
                  "Country/Territory": "Macau *",
                  "gdppc_IMF": "130417",
                  "year_IMF": "2024",
                  "gdppc_WB": "113183",
                  "year_WB": "2023",
                  "gdppc_CIA": 64800,
                  "year_CIA": "2021",
                  "country_name": "Macau",
                  "_deepnote_index_column": 3
                },
                {
                  "Country/Territory": "Ireland *",
                  "gdppc_IMF": "127750",
                  "year_IMF": "2024",
                  "gdppc_WB": "127623",
                  "year_WB": "2023",
                  "gdppc_CIA": 102500,
                  "year_CIA": "2021",
                  "country_name": "Ireland",
                  "_deepnote_index_column": 4
                }
              ]
            },
            "text/plain": "  Country/Territory gdppc_IMF year_IMF gdppc_WB year_WB  gdppc_CIA year_CIA  \\\n0      Luxembourg *    151146     2024   143342    2023     115700     2021   \n1       Singapore *    148186     2024   141500    2023     106000     2021   \n2   Liechtenstein *         —        —        —       —     139100     2009   \n3           Macau *    130417     2024   113183    2023      64800     2021   \n4         Ireland *    127750     2024   127623    2023     102500     2021   \n\n    country_name  \n0     Luxembourg  \n1      Singapore  \n2  Liechtenstein  \n3          Macau  \n4        Ireland  ",
            "text/html": "<div>\n<style scoped>\n    .dataframe tbody tr th:only-of-type {\n        vertical-align: middle;\n    }\n\n    .dataframe tbody tr th {\n        vertical-align: top;\n    }\n\n    .dataframe thead th {\n        text-align: right;\n    }\n</style>\n<table border=\"1\" class=\"dataframe\">\n  <thead>\n    <tr style=\"text-align: right;\">\n      <th></th>\n      <th>Country/Territory</th>\n      <th>gdppc_IMF</th>\n      <th>year_IMF</th>\n      <th>gdppc_WB</th>\n      <th>year_WB</th>\n      <th>gdppc_CIA</th>\n      <th>year_CIA</th>\n      <th>country_name</th>\n    </tr>\n  </thead>\n  <tbody>\n    <tr>\n      <th>0</th>\n      <td>Luxembourg *</td>\n      <td>151146</td>\n      <td>2024</td>\n      <td>143342</td>\n      <td>2023</td>\n      <td>115700</td>\n      <td>2021</td>\n      <td>Luxembourg</td>\n    </tr>\n    <tr>\n      <th>1</th>\n      <td>Singapore *</td>\n      <td>148186</td>\n      <td>2024</td>\n      <td>141500</td>\n      <td>2023</td>\n      <td>106000</td>\n      <td>2021</td>\n      <td>Singapore</td>\n    </tr>\n    <tr>\n      <th>2</th>\n      <td>Liechtenstein *</td>\n      <td>—</td>\n      <td>—</td>\n      <td>—</td>\n      <td>—</td>\n      <td>139100</td>\n      <td>2009</td>\n      <td>Liechtenstein</td>\n    </tr>\n    <tr>\n      <th>3</th>\n      <td>Macau *</td>\n      <td>130417</td>\n      <td>2024</td>\n      <td>113183</td>\n      <td>2023</td>\n      <td>64800</td>\n      <td>2021</td>\n      <td>Macau</td>\n    </tr>\n    <tr>\n      <th>4</th>\n      <td>Ireland *</td>\n      <td>127750</td>\n      <td>2024</td>\n      <td>127623</td>\n      <td>2023</td>\n      <td>102500</td>\n      <td>2021</td>\n      <td>Ireland</td>\n    </tr>\n  </tbody>\n</table>\n</div>"
          },
          "metadata": {}
        }
      ],
      "outputs_reference": null,
      "execution_count": 42,
      "block_group": "1ff2753d723844b199ca80d8e94ffe3c",
      "content_dependencies": null
    },
    {
      "cell_type": "markdown",
      "source": "# Let's make sure years and GDPpc columns are treated as numbers",
      "metadata": {
        "tags": [],
        "slideshow": {
          "slide_type": "subslide"
        },
        "user_expressions": [],
        "cell_id": "393b0684bd404a92a086b16fce9569ea",
        "deepnote_cell_type": "markdown"
      },
      "block_group": "719f95308d3543fa9a9dc3be5cbc4c8b"
    },
    {
      "cell_type": "code",
      "source": "gdppc_wiki.dtypes",
      "metadata": {
        "slideshow": {
          "slide_type": "fragment"
        },
        "source_hash": "f888cf1a",
        "execution_start": 1730132650692,
        "execution_millis": 1,
        "execution_context_id": "7c89757c-8d24-40c2-891e-29eb8cc3b4ff",
        "cell_id": "8637d46e4a1548eeb4d5e9680d543a2d",
        "deepnote_cell_type": "code"
      },
      "outputs": [
        {
          "output_type": "execute_result",
          "execution_count": 43,
          "data": {
            "text/plain": "Country/Territory    object\ngdppc_IMF            object\nyear_IMF             object\ngdppc_WB             object\nyear_WB              object\ngdppc_CIA             int64\nyear_CIA             object\ncountry_name         object\ndtype: object"
          },
          "metadata": {}
        }
      ],
      "outputs_reference": null,
      "execution_count": 43,
      "block_group": "0d3fb90aa9534d3c955c9f85c19852c8",
      "content_dependencies": null
    },
    {
      "cell_type": "code",
      "source": "for c in gdppc_wiki.columns[1:-1]:\n    if gdppc_wiki[c].dtype=='O':\n        gdppc_wiki[c] = pd.to_numeric(gdppc_wiki[c].str.replace('—', 'nan'), errors='coerce')\n        if c.startswith('year'):\n            gdppc_wiki[c] = gdppc_wiki[c].astype('Int64')",
      "metadata": {
        "slideshow": {
          "slide_type": "subslide"
        },
        "source_hash": "63cc1649",
        "execution_start": 1730132650748,
        "execution_millis": 1,
        "execution_context_id": "7c89757c-8d24-40c2-891e-29eb8cc3b4ff",
        "cell_id": "1632eea5f5014ec1b79c124378dbc0a0",
        "deepnote_cell_type": "code"
      },
      "outputs": [],
      "outputs_reference": null,
      "execution_count": 44,
      "block_group": "bac110c726024ab9ab0f72a5b30856af",
      "content_dependencies": null
    },
    {
      "cell_type": "code",
      "source": "gdppc_wiki.dtypes",
      "metadata": {
        "slideshow": {
          "slide_type": "subslide"
        },
        "source_hash": "f888cf1a",
        "execution_start": 1730132650796,
        "execution_millis": 1,
        "execution_context_id": "7c89757c-8d24-40c2-891e-29eb8cc3b4ff",
        "cell_id": "167de7f245094d60bb006c9dc49615b9",
        "deepnote_cell_type": "code"
      },
      "outputs": [
        {
          "output_type": "execute_result",
          "execution_count": 45,
          "data": {
            "text/plain": "Country/Territory     object\ngdppc_IMF            float64\nyear_IMF               Int64\ngdppc_WB             float64\nyear_WB                Int64\ngdppc_CIA              int64\nyear_CIA               Int64\ncountry_name          object\ndtype: object"
          },
          "metadata": {}
        }
      ],
      "outputs_reference": null,
      "execution_count": 45,
      "block_group": "b1198f016ff94970a1d1360e6f0086b6",
      "content_dependencies": null
    },
    {
      "cell_type": "markdown",
      "source": "## Let's try to merge the data from both dataframes",
      "metadata": {
        "tags": [],
        "slideshow": {
          "slide_type": "subslide"
        },
        "user_expressions": [],
        "cell_id": "92063516ac924cdfac90c9d16261797b",
        "deepnote_cell_type": "markdown"
      },
      "block_group": "3f3aa529d3c04a38886c910129429ee0"
    },
    {
      "cell_type": "code",
      "source": "isocodes.head(2)",
      "metadata": {
        "slideshow": {
          "slide_type": "fragment"
        },
        "source_hash": "8e8fa466",
        "execution_start": 1730132650852,
        "execution_millis": 1,
        "execution_context_id": "7c89757c-8d24-40c2-891e-29eb8cc3b4ff",
        "cell_id": "1074d0aac5384058a029e924b804943e",
        "deepnote_cell_type": "code"
      },
      "outputs": [
        {
          "output_type": "execute_result",
          "execution_count": 46,
          "data": {
            "application/vnd.deepnote.dataframe.v3+json": {
              "column_count": 9,
              "row_count": 2,
              "columns": [
                {
                  "name": "ISO 3166",
                  "dtype": "object",
                  "stats": {
                    "unique_count": 2,
                    "nan_count": 0,
                    "categories": [
                      {
                        "name": "Afghanistan",
                        "count": 1
                      },
                      {
                        "name": "Åland Islands",
                        "count": 1
                      }
                    ]
                  }
                },
                {
                  "name": "Official state name",
                  "dtype": "object",
                  "stats": {
                    "unique_count": 2,
                    "nan_count": 0,
                    "categories": [
                      {
                        "name": "the Islamic Republic of Afghanistan[b]",
                        "count": 1
                      },
                      {
                        "name": "Åland[c][d]",
                        "count": 1
                      }
                    ]
                  }
                },
                {
                  "name": "Sovereignty",
                  "dtype": "object",
                  "stats": {
                    "unique_count": 2,
                    "nan_count": 0,
                    "categories": [
                      {
                        "name": "UN member",
                        "count": 1
                      },
                      {
                        "name": "Finland",
                        "count": 1
                      }
                    ]
                  }
                },
                {
                  "name": "A-2",
                  "dtype": "object",
                  "stats": {
                    "unique_count": 2,
                    "nan_count": 0,
                    "categories": [
                      {
                        "name": "AF",
                        "count": 1
                      },
                      {
                        "name": "AX",
                        "count": 1
                      }
                    ]
                  }
                },
                {
                  "name": "A-3",
                  "dtype": "object",
                  "stats": {
                    "unique_count": 2,
                    "nan_count": 0,
                    "categories": [
                      {
                        "name": "AFG",
                        "count": 1
                      },
                      {
                        "name": "ALA",
                        "count": 1
                      }
                    ]
                  }
                },
                {
                  "name": "Num.",
                  "dtype": "object",
                  "stats": {
                    "unique_count": 2,
                    "nan_count": 0,
                    "categories": [
                      {
                        "name": "004",
                        "count": 1
                      },
                      {
                        "name": "248",
                        "count": 1
                      }
                    ]
                  }
                },
                {
                  "name": "ISO 3166-2",
                  "dtype": "object",
                  "stats": {
                    "unique_count": 2,
                    "nan_count": 0,
                    "categories": [
                      {
                        "name": "ISO 3166-2:AF",
                        "count": 1
                      },
                      {
                        "name": "ISO 3166-2:AX",
                        "count": 1
                      }
                    ]
                  }
                },
                {
                  "name": "TLD",
                  "dtype": "object",
                  "stats": {
                    "unique_count": 2,
                    "nan_count": 0,
                    "categories": [
                      {
                        "name": ".af",
                        "count": 1
                      },
                      {
                        "name": ".ax",
                        "count": 1
                      }
                    ]
                  }
                },
                {
                  "name": "Alpha-2 code original",
                  "dtype": "object",
                  "stats": {
                    "unique_count": 2,
                    "nan_count": 0,
                    "categories": [
                      {
                        "name": ".mw-parser-output .monospaced{font-family:monospace,monospace}AF",
                        "count": 1
                      },
                      {
                        "name": "AX",
                        "count": 1
                      }
                    ]
                  }
                },
                {
                  "name": "_deepnote_index_column",
                  "dtype": "int64"
                }
              ],
              "rows": [
                {
                  "ISO 3166": "Afghanistan",
                  "Official state name": "the Islamic Republic of Afghanistan[b]",
                  "Sovereignty": "UN member",
                  "A-2": "AF",
                  "A-3": "AFG",
                  "Num.": "004",
                  "ISO 3166-2": "ISO 3166-2:AF",
                  "TLD": ".af",
                  "Alpha-2 code original": ".mw-parser-output .monospaced{font-family:monospace,monospace}AF",
                  "_deepnote_index_column": 0
                },
                {
                  "ISO 3166": "Åland Islands",
                  "Official state name": "Åland[c][d]",
                  "Sovereignty": "Finland",
                  "A-2": "AX",
                  "A-3": "ALA",
                  "Num.": "248",
                  "ISO 3166-2": "ISO 3166-2:AX",
                  "TLD": ".ax",
                  "Alpha-2 code original": "AX",
                  "_deepnote_index_column": 1
                }
              ]
            },
            "text/plain": "        ISO 3166                     Official state name Sovereignty A-2  A-3  \\\n0    Afghanistan  the Islamic Republic of Afghanistan[b]   UN member  AF  AFG   \n1  Åland Islands                             Åland[c][d]     Finland  AX  ALA   \n\n  Num.     ISO 3166-2  TLD                              Alpha-2 code original  \n0  004  ISO 3166-2:AF  .af  .mw-parser-output .monospaced{font-family:mono...  \n1  248  ISO 3166-2:AX  .ax                                                 AX  ",
            "text/html": "<div>\n<style scoped>\n    .dataframe tbody tr th:only-of-type {\n        vertical-align: middle;\n    }\n\n    .dataframe tbody tr th {\n        vertical-align: top;\n    }\n\n    .dataframe thead th {\n        text-align: right;\n    }\n</style>\n<table border=\"1\" class=\"dataframe\">\n  <thead>\n    <tr style=\"text-align: right;\">\n      <th></th>\n      <th>ISO 3166</th>\n      <th>Official state name</th>\n      <th>Sovereignty</th>\n      <th>A-2</th>\n      <th>A-3</th>\n      <th>Num.</th>\n      <th>ISO 3166-2</th>\n      <th>TLD</th>\n      <th>Alpha-2 code original</th>\n    </tr>\n  </thead>\n  <tbody>\n    <tr>\n      <th>0</th>\n      <td>Afghanistan</td>\n      <td>the Islamic Republic of Afghanistan[b]</td>\n      <td>UN member</td>\n      <td>AF</td>\n      <td>AFG</td>\n      <td>004</td>\n      <td>ISO 3166-2:AF</td>\n      <td>.af</td>\n      <td>.mw-parser-output .monospaced{font-family:mono...</td>\n    </tr>\n    <tr>\n      <th>1</th>\n      <td>Åland Islands</td>\n      <td>Åland[c][d]</td>\n      <td>Finland</td>\n      <td>AX</td>\n      <td>ALA</td>\n      <td>248</td>\n      <td>ISO 3166-2:AX</td>\n      <td>.ax</td>\n      <td>AX</td>\n    </tr>\n  </tbody>\n</table>\n</div>"
          },
          "metadata": {}
        }
      ],
      "outputs_reference": null,
      "execution_count": 46,
      "block_group": "049d0b43c4704ba18637c76381a82d3c",
      "content_dependencies": null
    },
    {
      "cell_type": "code",
      "source": "gdppc_wiki.head(1)",
      "metadata": {
        "slideshow": {
          "slide_type": "fragment"
        },
        "source_hash": "105c5929",
        "execution_start": 1730132650896,
        "execution_millis": 1,
        "execution_context_id": "7c89757c-8d24-40c2-891e-29eb8cc3b4ff",
        "cell_id": "e141d1066ac5473bb916d474dd710119",
        "deepnote_cell_type": "code"
      },
      "outputs": [
        {
          "output_type": "execute_result",
          "execution_count": 47,
          "data": {
            "application/vnd.deepnote.dataframe.v3+json": {
              "column_count": 8,
              "row_count": 1,
              "columns": [
                {
                  "name": "Country/Territory",
                  "dtype": "object",
                  "stats": {
                    "unique_count": 1,
                    "nan_count": 0,
                    "categories": [
                      {
                        "name": "Luxembourg *",
                        "count": 1
                      }
                    ]
                  }
                },
                {
                  "name": "gdppc_IMF",
                  "dtype": "float64",
                  "stats": {
                    "unique_count": 1,
                    "nan_count": 0,
                    "min": "151146.0",
                    "max": "151146.0",
                    "histogram": [
                      {
                        "bin_start": 151145.5,
                        "bin_end": 151145.6,
                        "count": 0
                      },
                      {
                        "bin_start": 151145.6,
                        "bin_end": 151145.7,
                        "count": 0
                      },
                      {
                        "bin_start": 151145.7,
                        "bin_end": 151145.8,
                        "count": 0
                      },
                      {
                        "bin_start": 151145.8,
                        "bin_end": 151145.9,
                        "count": 0
                      },
                      {
                        "bin_start": 151145.9,
                        "bin_end": 151146,
                        "count": 0
                      },
                      {
                        "bin_start": 151146,
                        "bin_end": 151146.1,
                        "count": 1
                      },
                      {
                        "bin_start": 151146.1,
                        "bin_end": 151146.2,
                        "count": 0
                      },
                      {
                        "bin_start": 151146.2,
                        "bin_end": 151146.3,
                        "count": 0
                      },
                      {
                        "bin_start": 151146.3,
                        "bin_end": 151146.4,
                        "count": 0
                      },
                      {
                        "bin_start": 151146.4,
                        "bin_end": 151146.5,
                        "count": 0
                      }
                    ]
                  }
                },
                {
                  "name": "year_IMF",
                  "dtype": "Int64",
                  "stats": {
                    "unique_count": 1,
                    "nan_count": 0,
                    "categories": [
                      {
                        "name": "2024",
                        "count": 1
                      }
                    ]
                  }
                },
                {
                  "name": "gdppc_WB",
                  "dtype": "float64",
                  "stats": {
                    "unique_count": 1,
                    "nan_count": 0,
                    "min": "143342.0",
                    "max": "143342.0",
                    "histogram": [
                      {
                        "bin_start": 143341.5,
                        "bin_end": 143341.6,
                        "count": 0
                      },
                      {
                        "bin_start": 143341.6,
                        "bin_end": 143341.7,
                        "count": 0
                      },
                      {
                        "bin_start": 143341.7,
                        "bin_end": 143341.8,
                        "count": 0
                      },
                      {
                        "bin_start": 143341.8,
                        "bin_end": 143341.9,
                        "count": 0
                      },
                      {
                        "bin_start": 143341.9,
                        "bin_end": 143342,
                        "count": 0
                      },
                      {
                        "bin_start": 143342,
                        "bin_end": 143342.1,
                        "count": 1
                      },
                      {
                        "bin_start": 143342.1,
                        "bin_end": 143342.2,
                        "count": 0
                      },
                      {
                        "bin_start": 143342.2,
                        "bin_end": 143342.3,
                        "count": 0
                      },
                      {
                        "bin_start": 143342.3,
                        "bin_end": 143342.4,
                        "count": 0
                      },
                      {
                        "bin_start": 143342.4,
                        "bin_end": 143342.5,
                        "count": 0
                      }
                    ]
                  }
                },
                {
                  "name": "year_WB",
                  "dtype": "Int64",
                  "stats": {
                    "unique_count": 1,
                    "nan_count": 0,
                    "categories": [
                      {
                        "name": "2023",
                        "count": 1
                      }
                    ]
                  }
                },
                {
                  "name": "gdppc_CIA",
                  "dtype": "int64",
                  "stats": {
                    "unique_count": 1,
                    "nan_count": 0,
                    "min": "115700",
                    "max": "115700",
                    "histogram": [
                      {
                        "bin_start": 115699.5,
                        "bin_end": 115699.6,
                        "count": 0
                      },
                      {
                        "bin_start": 115699.6,
                        "bin_end": 115699.7,
                        "count": 0
                      },
                      {
                        "bin_start": 115699.7,
                        "bin_end": 115699.8,
                        "count": 0
                      },
                      {
                        "bin_start": 115699.8,
                        "bin_end": 115699.9,
                        "count": 0
                      },
                      {
                        "bin_start": 115699.9,
                        "bin_end": 115700,
                        "count": 0
                      },
                      {
                        "bin_start": 115700,
                        "bin_end": 115700.1,
                        "count": 1
                      },
                      {
                        "bin_start": 115700.1,
                        "bin_end": 115700.2,
                        "count": 0
                      },
                      {
                        "bin_start": 115700.2,
                        "bin_end": 115700.3,
                        "count": 0
                      },
                      {
                        "bin_start": 115700.3,
                        "bin_end": 115700.4,
                        "count": 0
                      },
                      {
                        "bin_start": 115700.4,
                        "bin_end": 115700.5,
                        "count": 0
                      }
                    ]
                  }
                },
                {
                  "name": "year_CIA",
                  "dtype": "Int64",
                  "stats": {
                    "unique_count": 1,
                    "nan_count": 0,
                    "categories": [
                      {
                        "name": "2021",
                        "count": 1
                      }
                    ]
                  }
                },
                {
                  "name": "country_name",
                  "dtype": "object",
                  "stats": {
                    "unique_count": 1,
                    "nan_count": 0,
                    "categories": [
                      {
                        "name": "Luxembourg",
                        "count": 1
                      }
                    ]
                  }
                },
                {
                  "name": "_deepnote_index_column",
                  "dtype": "int64"
                }
              ],
              "rows": [
                {
                  "Country/Territory": "Luxembourg *",
                  "gdppc_IMF": 151146,
                  "year_IMF": "2024",
                  "gdppc_WB": 143342,
                  "year_WB": "2023",
                  "gdppc_CIA": 115700,
                  "year_CIA": "2021",
                  "country_name": "Luxembourg",
                  "_deepnote_index_column": 0
                }
              ]
            },
            "text/plain": "  Country/Territory  gdppc_IMF  year_IMF  gdppc_WB  year_WB  gdppc_CIA  \\\n0      Luxembourg *   151146.0      2024  143342.0     2023     115700   \n\n   year_CIA country_name  \n0      2021   Luxembourg  ",
            "text/html": "<div>\n<style scoped>\n    .dataframe tbody tr th:only-of-type {\n        vertical-align: middle;\n    }\n\n    .dataframe tbody tr th {\n        vertical-align: top;\n    }\n\n    .dataframe thead th {\n        text-align: right;\n    }\n</style>\n<table border=\"1\" class=\"dataframe\">\n  <thead>\n    <tr style=\"text-align: right;\">\n      <th></th>\n      <th>Country/Territory</th>\n      <th>gdppc_IMF</th>\n      <th>year_IMF</th>\n      <th>gdppc_WB</th>\n      <th>year_WB</th>\n      <th>gdppc_CIA</th>\n      <th>year_CIA</th>\n      <th>country_name</th>\n    </tr>\n  </thead>\n  <tbody>\n    <tr>\n      <th>0</th>\n      <td>Luxembourg *</td>\n      <td>151146.0</td>\n      <td>2024</td>\n      <td>143342.0</td>\n      <td>2023</td>\n      <td>115700</td>\n      <td>2021</td>\n      <td>Luxembourg</td>\n    </tr>\n  </tbody>\n</table>\n</div>"
          },
          "metadata": {}
        }
      ],
      "outputs_reference": null,
      "execution_count": 47,
      "block_group": "dacac2288690412ba822914005afb2f1",
      "content_dependencies": null
    },
    {
      "cell_type": "markdown",
      "source": "## The only common information in both dataframes is the country's name, so let's merge using the corrected `country_name` and `ISO 3166`",
      "metadata": {
        "tags": [],
        "slideshow": {
          "slide_type": "subslide"
        },
        "user_expressions": [],
        "cell_id": "842294dcc2cd4e95a12ef95754389b97",
        "deepnote_cell_type": "markdown"
      },
      "block_group": "6c9e2fbfdc8445cd8add0bb8d6ec065d"
    },
    {
      "cell_type": "code",
      "source": "merged = isocodes.merge(gdppc_wiki, left_on='ISO 3166', right_on='country_name')\nmerged",
      "metadata": {
        "slideshow": {
          "slide_type": "subslide"
        },
        "source_hash": "1047cc83",
        "execution_start": 1730132650945,
        "execution_millis": 0,
        "execution_context_id": "7c89757c-8d24-40c2-891e-29eb8cc3b4ff",
        "cell_id": "c906ba7d60c64961bbfdb1d1320cdd17",
        "deepnote_cell_type": "code"
      },
      "outputs": [
        {
          "output_type": "execute_result",
          "execution_count": 48,
          "data": {
            "application/vnd.deepnote.dataframe.v3+json": {
              "column_count": 17,
              "row_count": 175,
              "columns": [
                {
                  "name": "ISO 3166",
                  "dtype": "object",
                  "stats": {
                    "unique_count": 175,
                    "nan_count": 0,
                    "categories": [
                      {
                        "name": "Afghanistan",
                        "count": 1
                      },
                      {
                        "name": "Albania",
                        "count": 1
                      },
                      {
                        "name": "173 others",
                        "count": 173
                      }
                    ]
                  }
                },
                {
                  "name": "Official state name",
                  "dtype": "object",
                  "stats": {
                    "unique_count": 175,
                    "nan_count": 0,
                    "categories": [
                      {
                        "name": "the Islamic Republic of Afghanistan[b]",
                        "count": 1
                      },
                      {
                        "name": "the Republic of Albania",
                        "count": 1
                      },
                      {
                        "name": "173 others",
                        "count": 173
                      }
                    ]
                  }
                },
                {
                  "name": "Sovereignty",
                  "dtype": "object",
                  "stats": {
                    "unique_count": 9,
                    "nan_count": 0,
                    "categories": [
                      {
                        "name": "UN member",
                        "count": 153
                      },
                      {
                        "name": "France",
                        "count": 5
                      },
                      {
                        "name": "7 others",
                        "count": 17
                      }
                    ]
                  }
                },
                {
                  "name": "A-2",
                  "dtype": "object",
                  "stats": {
                    "unique_count": 175,
                    "nan_count": 0,
                    "categories": [
                      {
                        "name": "AF",
                        "count": 1
                      },
                      {
                        "name": "AL",
                        "count": 1
                      },
                      {
                        "name": "173 others",
                        "count": 173
                      }
                    ]
                  }
                },
                {
                  "name": "A-3",
                  "dtype": "object",
                  "stats": {
                    "unique_count": 175,
                    "nan_count": 0,
                    "categories": [
                      {
                        "name": "AFG",
                        "count": 1
                      },
                      {
                        "name": "ALB",
                        "count": 1
                      },
                      {
                        "name": "173 others",
                        "count": 173
                      }
                    ]
                  }
                },
                {
                  "name": "Num.",
                  "dtype": "object",
                  "stats": {
                    "unique_count": 175,
                    "nan_count": 0,
                    "categories": [
                      {
                        "name": "004",
                        "count": 1
                      },
                      {
                        "name": "008",
                        "count": 1
                      },
                      {
                        "name": "173 others",
                        "count": 173
                      }
                    ]
                  }
                },
                {
                  "name": "ISO 3166-2",
                  "dtype": "object",
                  "stats": {
                    "unique_count": 175,
                    "nan_count": 0,
                    "categories": [
                      {
                        "name": "ISO 3166-2:AF",
                        "count": 1
                      },
                      {
                        "name": "ISO 3166-2:AL",
                        "count": 1
                      },
                      {
                        "name": "173 others",
                        "count": 173
                      }
                    ]
                  }
                },
                {
                  "name": "TLD",
                  "dtype": "object",
                  "stats": {
                    "unique_count": 175,
                    "nan_count": 0,
                    "categories": [
                      {
                        "name": ".af",
                        "count": 1
                      },
                      {
                        "name": ".al",
                        "count": 1
                      },
                      {
                        "name": "173 others",
                        "count": 173
                      }
                    ]
                  }
                },
                {
                  "name": "Alpha-2 code original",
                  "dtype": "object",
                  "stats": {
                    "unique_count": 174,
                    "nan_count": 1,
                    "categories": [
                      {
                        "name": ".mw-parser-output .monospaced{font-family:monospace,monospace}AF",
                        "count": 1
                      },
                      {
                        "name": "173 others",
                        "count": 173
                      },
                      {
                        "name": "Missing",
                        "count": 1
                      }
                    ]
                  }
                },
                {
                  "name": "Country/Territory",
                  "dtype": "object",
                  "stats": {
                    "unique_count": 175,
                    "nan_count": 0,
                    "categories": [
                      {
                        "name": "Afghanistan *",
                        "count": 1
                      },
                      {
                        "name": "Albania *",
                        "count": 1
                      },
                      {
                        "name": "173 others",
                        "count": 173
                      }
                    ]
                  }
                },
                {
                  "name": "gdppc_IMF",
                  "dtype": "float64",
                  "stats": {
                    "unique_count": 153,
                    "nan_count": 22,
                    "min": "763.0",
                    "max": "151146.0",
                    "histogram": [
                      {
                        "bin_start": 763,
                        "bin_end": 15801.3,
                        "count": 64
                      },
                      {
                        "bin_start": 15801.3,
                        "bin_end": 30839.6,
                        "count": 33
                      },
                      {
                        "bin_start": 30839.6,
                        "bin_end": 45877.899999999994,
                        "count": 18
                      },
                      {
                        "bin_start": 45877.899999999994,
                        "bin_end": 60916.2,
                        "count": 16
                      },
                      {
                        "bin_start": 60916.2,
                        "bin_end": 75954.5,
                        "count": 12
                      },
                      {
                        "bin_start": 75954.5,
                        "bin_end": 90992.79999999999,
                        "count": 4
                      },
                      {
                        "bin_start": 90992.79999999999,
                        "bin_end": 106031.09999999999,
                        "count": 2
                      },
                      {
                        "bin_start": 106031.09999999999,
                        "bin_end": 121069.4,
                        "count": 1
                      },
                      {
                        "bin_start": 121069.4,
                        "bin_end": 136107.69999999998,
                        "count": 1
                      },
                      {
                        "bin_start": 136107.69999999998,
                        "bin_end": 151146,
                        "count": 2
                      }
                    ]
                  }
                },
                {
                  "name": "year_IMF",
                  "dtype": "Int64",
                  "stats": {
                    "unique_count": 3,
                    "nan_count": 25,
                    "categories": [
                      {
                        "name": "2024",
                        "count": 146
                      },
                      {
                        "name": "2 others",
                        "count": 4
                      },
                      {
                        "name": "Missing",
                        "count": 25
                      }
                    ]
                  }
                },
                {
                  "name": "gdppc_WB",
                  "dtype": "float64",
                  "stats": {
                    "unique_count": 156,
                    "nan_count": 19,
                    "min": "951.0",
                    "max": "143342.0",
                    "histogram": [
                      {
                        "bin_start": 951,
                        "bin_end": 15190.1,
                        "count": 64
                      },
                      {
                        "bin_start": 15190.1,
                        "bin_end": 29429.2,
                        "count": 34
                      },
                      {
                        "bin_start": 29429.2,
                        "bin_end": 43668.3,
                        "count": 16
                      },
                      {
                        "bin_start": 43668.3,
                        "bin_end": 57907.4,
                        "count": 21
                      },
                      {
                        "bin_start": 57907.4,
                        "bin_end": 72146.5,
                        "count": 11
                      },
                      {
                        "bin_start": 72146.5,
                        "bin_end": 86385.6,
                        "count": 3
                      },
                      {
                        "bin_start": 86385.6,
                        "bin_end": 100624.7,
                        "count": 1
                      },
                      {
                        "bin_start": 100624.7,
                        "bin_end": 114863.8,
                        "count": 2
                      },
                      {
                        "bin_start": 114863.8,
                        "bin_end": 129102.90000000001,
                        "count": 2
                      },
                      {
                        "bin_start": 129102.90000000001,
                        "bin_end": 143342,
                        "count": 2
                      }
                    ]
                  }
                },
                {
                  "name": "year_WB",
                  "dtype": "Int64",
                  "stats": {
                    "unique_count": 7,
                    "nan_count": 22,
                    "categories": [
                      {
                        "name": "2023",
                        "count": 141
                      },
                      {
                        "name": "6 others",
                        "count": 12
                      },
                      {
                        "name": "Missing",
                        "count": 22
                      }
                    ]
                  }
                },
                {
                  "name": "gdppc_CIA",
                  "dtype": "int64",
                  "stats": {
                    "unique_count": 144,
                    "nan_count": 0,
                    "min": "700",
                    "max": "139100",
                    "histogram": [
                      {
                        "bin_start": 700,
                        "bin_end": 14540,
                        "count": 88
                      },
                      {
                        "bin_start": 14540,
                        "bin_end": 28380,
                        "count": 31
                      },
                      {
                        "bin_start": 28380,
                        "bin_end": 42220,
                        "count": 26
                      },
                      {
                        "bin_start": 42220,
                        "bin_end": 56060,
                        "count": 15
                      },
                      {
                        "bin_start": 56060,
                        "bin_end": 69900,
                        "count": 6
                      },
                      {
                        "bin_start": 69900,
                        "bin_end": 83740,
                        "count": 2
                      },
                      {
                        "bin_start": 83740,
                        "bin_end": 97580,
                        "count": 2
                      },
                      {
                        "bin_start": 97580,
                        "bin_end": 111420,
                        "count": 2
                      },
                      {
                        "bin_start": 111420,
                        "bin_end": 125260,
                        "count": 2
                      },
                      {
                        "bin_start": 125260,
                        "bin_end": 139100,
                        "count": 1
                      }
                    ]
                  }
                },
                {
                  "name": "year_CIA",
                  "dtype": "Int64",
                  "stats": {
                    "unique_count": 15,
                    "nan_count": 4,
                    "categories": [
                      {
                        "name": "2021",
                        "count": 143
                      },
                      {
                        "name": "14 others",
                        "count": 28
                      },
                      {
                        "name": "Missing",
                        "count": 4
                      }
                    ]
                  }
                },
                {
                  "name": "country_name",
                  "dtype": "object",
                  "stats": {
                    "unique_count": 175,
                    "nan_count": 0,
                    "categories": [
                      {
                        "name": "Afghanistan",
                        "count": 1
                      },
                      {
                        "name": "Albania",
                        "count": 1
                      },
                      {
                        "name": "173 others",
                        "count": 173
                      }
                    ]
                  }
                },
                {
                  "name": "_deepnote_index_column",
                  "dtype": "int64"
                }
              ],
              "rows": [
                {
                  "ISO 3166": "Afghanistan",
                  "Official state name": "the Islamic Republic of Afghanistan[b]",
                  "Sovereignty": "UN member",
                  "A-2": "AF",
                  "A-3": "AFG",
                  "Num.": "004",
                  "ISO 3166-2": "ISO 3166-2:AF",
                  "TLD": ".af",
                  "Alpha-2 code original": ".mw-parser-output .monospaced{font-family:monospace,monospace}AF",
                  "Country/Territory": "Afghanistan *",
                  "gdppc_IMF": 2116,
                  "year_IMF": "2022",
                  "gdppc_WB": 2093,
                  "year_WB": "2022",
                  "gdppc_CIA": 1500,
                  "year_CIA": "2021",
                  "country_name": "Afghanistan",
                  "_deepnote_index_column": 0
                },
                {
                  "ISO 3166": "Albania",
                  "Official state name": "the Republic of Albania",
                  "Sovereignty": "UN member",
                  "A-2": "AL",
                  "A-3": "ALB",
                  "Num.": "008",
                  "ISO 3166-2": "ISO 3166-2:AL",
                  "TLD": ".al",
                  "Alpha-2 code original": "AL",
                  "Country/Territory": "Albania *",
                  "gdppc_IMF": 21377,
                  "year_IMF": "2024",
                  "gdppc_WB": 21395,
                  "year_WB": "2023",
                  "gdppc_CIA": 14500,
                  "year_CIA": "2021",
                  "country_name": "Albania",
                  "_deepnote_index_column": 1
                },
                {
                  "ISO 3166": "Algeria",
                  "Official state name": "the People's Democratic Republic of Algeria",
                  "Sovereignty": "UN member",
                  "A-2": "DZ",
                  "A-3": "DZA",
                  "Num.": "012",
                  "ISO 3166-2": "ISO 3166-2:DZ",
                  "TLD": ".dz",
                  "Alpha-2 code original": "DZ",
                  "Country/Territory": "Algeria *",
                  "gdppc_IMF": 17718,
                  "year_IMF": "2024",
                  "gdppc_WB": 17027,
                  "year_WB": "2023",
                  "gdppc_CIA": 11000,
                  "year_CIA": "2021",
                  "country_name": "Algeria",
                  "_deepnote_index_column": 2
                },
                {
                  "ISO 3166": "American Samoa",
                  "Official state name": "American Samoa[c]",
                  "Sovereignty": "United States",
                  "A-2": "AS",
                  "A-3": "ASM",
                  "Num.": "016",
                  "ISO 3166-2": "ISO 3166-2:AS",
                  "TLD": ".as",
                  "Alpha-2 code original": "AS",
                  "Country/Territory": "American Samoa *",
                  "gdppc_IMF": "nan",
                  "year_IMF": "<NA>",
                  "gdppc_WB": "nan",
                  "year_WB": "<NA>",
                  "gdppc_CIA": 11200,
                  "year_CIA": "2016",
                  "country_name": "American Samoa",
                  "_deepnote_index_column": 3
                },
                {
                  "ISO 3166": "Andorra",
                  "Official state name": "the Principality of Andorra",
                  "Sovereignty": "UN member",
                  "A-2": "AD",
                  "A-3": "AND",
                  "Num.": "020",
                  "ISO 3166-2": "ISO 3166-2:AD",
                  "TLD": ".ad",
                  "Alpha-2 code original": "AD",
                  "Country/Territory": "Andorra *",
                  "gdppc_IMF": 68612,
                  "year_IMF": "2024",
                  "gdppc_WB": 71588,
                  "year_WB": "2023",
                  "gdppc_CIA": 49900,
                  "year_CIA": "2015",
                  "country_name": "Andorra",
                  "_deepnote_index_column": 4
                },
                {
                  "ISO 3166": "Angola",
                  "Official state name": "the Republic of Angola",
                  "Sovereignty": "UN member",
                  "A-2": "AO",
                  "A-3": "AGO",
                  "Num.": "024",
                  "ISO 3166-2": "ISO 3166-2:AO",
                  "TLD": ".ao",
                  "Alpha-2 code original": "AO",
                  "Country/Territory": "Angola *",
                  "gdppc_IMF": 7801,
                  "year_IMF": "2024",
                  "gdppc_WB": 8041,
                  "year_WB": "2023",
                  "gdppc_CIA": 5900,
                  "year_CIA": "2021",
                  "country_name": "Angola",
                  "_deepnote_index_column": 5
                },
                {
                  "ISO 3166": "Anguilla",
                  "Official state name": "Anguilla[c]",
                  "Sovereignty": "United Kingdom",
                  "A-2": "AI",
                  "A-3": "AIA",
                  "Num.": "660",
                  "ISO 3166-2": "ISO 3166-2:AI",
                  "TLD": ".ai",
                  "Alpha-2 code original": "AI",
                  "Country/Territory": "Anguilla *",
                  "gdppc_IMF": "nan",
                  "year_IMF": "<NA>",
                  "gdppc_WB": "nan",
                  "year_WB": "<NA>",
                  "gdppc_CIA": 12200,
                  "year_CIA": "2008",
                  "country_name": "Anguilla",
                  "_deepnote_index_column": 6
                },
                {
                  "ISO 3166": "Antigua and Barbuda",
                  "Official state name": "Antigua and Barbuda[c]",
                  "Sovereignty": "UN member",
                  "A-2": "AG",
                  "A-3": "ATG",
                  "Num.": "028",
                  "ISO 3166-2": "ISO 3166-2:AG",
                  "TLD": ".ag",
                  "Alpha-2 code original": "AG",
                  "Country/Territory": "Antigua and Barbuda *",
                  "gdppc_IMF": 31474,
                  "year_IMF": "2024",
                  "gdppc_WB": 31802,
                  "year_WB": "2023",
                  "gdppc_CIA": 19100,
                  "year_CIA": "2021",
                  "country_name": "Antigua and Barbuda",
                  "_deepnote_index_column": 7
                },
                {
                  "ISO 3166": "Argentina",
                  "Official state name": "the Argentine Republic",
                  "Sovereignty": "UN member",
                  "A-2": "AR",
                  "A-3": "ARG",
                  "Num.": "032",
                  "ISO 3166-2": "ISO 3166-2:AR",
                  "TLD": ".ar",
                  "Alpha-2 code original": "AR",
                  "Country/Territory": "Argentina *",
                  "gdppc_IMF": 28704,
                  "year_IMF": "2024",
                  "gdppc_WB": 29363,
                  "year_WB": "2023",
                  "gdppc_CIA": 21500,
                  "year_CIA": "2021",
                  "country_name": "Argentina",
                  "_deepnote_index_column": 8
                },
                {
                  "ISO 3166": "Armenia",
                  "Official state name": "the Republic of Armenia",
                  "Sovereignty": "UN member",
                  "A-2": "AM",
                  "A-3": "ARM",
                  "Num.": "051",
                  "ISO 3166-2": "ISO 3166-2:AM",
                  "TLD": ".am",
                  "Alpha-2 code original": "AM",
                  "Country/Territory": "Armenia *",
                  "gdppc_IMF": 23376,
                  "year_IMF": "2024",
                  "gdppc_WB": 23055,
                  "year_WB": "2023",
                  "gdppc_CIA": 14200,
                  "year_CIA": "2021",
                  "country_name": "Armenia",
                  "_deepnote_index_column": 9
                }
              ]
            },
            "text/plain": "              ISO 3166                             Official state name  \\\n0          Afghanistan          the Islamic Republic of Afghanistan[b]   \n1              Albania                         the Republic of Albania   \n2              Algeria     the People's Democratic Republic of Algeria   \n3       American Samoa                               American Samoa[c]   \n4              Andorra                     the Principality of Andorra   \n..                 ...                                             ...   \n170            Vanuatu                         the Republic of Vanuatu   \n171  Wallis and Futuna  the Territory of the Wallis and Futuna Islands   \n172              Yemen                           the Republic of Yemen   \n173             Zambia                          the Republic of Zambia   \n174           Zimbabwe                        the Republic of Zimbabwe   \n\n       Sovereignty A-2  A-3 Num.     ISO 3166-2  TLD  \\\n0        UN member  AF  AFG  004  ISO 3166-2:AF  .af   \n1        UN member  AL  ALB  008  ISO 3166-2:AL  .al   \n2        UN member  DZ  DZA  012  ISO 3166-2:DZ  .dz   \n3    United States  AS  ASM  016  ISO 3166-2:AS  .as   \n4        UN member  AD  AND  020  ISO 3166-2:AD  .ad   \n..             ...  ..  ...  ...            ...  ...   \n170      UN member  VU  VUT  548  ISO 3166-2:VU  .vu   \n171         France  WF  WLF  876  ISO 3166-2:WF  .wf   \n172      UN member  YE  YEM  887  ISO 3166-2:YE  .ye   \n173      UN member  ZM  ZMB  894  ISO 3166-2:ZM  .zm   \n174      UN member  ZW  ZWE  716  ISO 3166-2:ZW  .zw   \n\n                                 Alpha-2 code original    Country/Territory  \\\n0    .mw-parser-output .monospaced{font-family:mono...        Afghanistan *   \n1                                                   AL            Albania *   \n2                                                   DZ            Algeria *   \n3                                                   AS     American Samoa *   \n4                                                   AD            Andorra *   \n..                                                 ...                  ...   \n170                                                 VU            Vanuatu *   \n171                                                 WF  Wallis and Futuna *   \n172                                                 YE              Yemen *   \n173                                                 ZM             Zambia *   \n174                                                 ZW           Zimbabwe *   \n\n     gdppc_IMF  year_IMF  gdppc_WB  year_WB  gdppc_CIA  year_CIA  \\\n0       2116.0      2022    2093.0     2022       1500      2021   \n1      21377.0      2024   21395.0     2023      14500      2021   \n2      17718.0      2024   17027.0     2023      11000      2021   \n3          NaN      <NA>       NaN     <NA>      11200      2016   \n4      68612.0      2024   71588.0     2023      49900      2015   \n..         ...       ...       ...      ...        ...       ...   \n170     2878.0      2024    3315.0     2023       2800      2021   \n171        NaN      <NA>       NaN     <NA>       3800      2004   \n172     1996.0      2024    3437.0     2013       2500      2017   \n173     4190.0      2024    4126.0     2023       3200      2021   \n174     5071.0      2024    3900.0     2023       2100      2021   \n\n          country_name  \n0          Afghanistan  \n1              Albania  \n2              Algeria  \n3       American Samoa  \n4              Andorra  \n..                 ...  \n170            Vanuatu  \n171  Wallis and Futuna  \n172              Yemen  \n173             Zambia  \n174           Zimbabwe  \n\n[175 rows x 17 columns]",
            "text/html": "<div>\n<style scoped>\n    .dataframe tbody tr th:only-of-type {\n        vertical-align: middle;\n    }\n\n    .dataframe tbody tr th {\n        vertical-align: top;\n    }\n\n    .dataframe thead th {\n        text-align: right;\n    }\n</style>\n<table border=\"1\" class=\"dataframe\">\n  <thead>\n    <tr style=\"text-align: right;\">\n      <th></th>\n      <th>ISO 3166</th>\n      <th>Official state name</th>\n      <th>Sovereignty</th>\n      <th>A-2</th>\n      <th>A-3</th>\n      <th>Num.</th>\n      <th>ISO 3166-2</th>\n      <th>TLD</th>\n      <th>Alpha-2 code original</th>\n      <th>Country/Territory</th>\n      <th>gdppc_IMF</th>\n      <th>year_IMF</th>\n      <th>gdppc_WB</th>\n      <th>year_WB</th>\n      <th>gdppc_CIA</th>\n      <th>year_CIA</th>\n      <th>country_name</th>\n    </tr>\n  </thead>\n  <tbody>\n    <tr>\n      <th>0</th>\n      <td>Afghanistan</td>\n      <td>the Islamic Republic of Afghanistan[b]</td>\n      <td>UN member</td>\n      <td>AF</td>\n      <td>AFG</td>\n      <td>004</td>\n      <td>ISO 3166-2:AF</td>\n      <td>.af</td>\n      <td>.mw-parser-output .monospaced{font-family:mono...</td>\n      <td>Afghanistan *</td>\n      <td>2116.0</td>\n      <td>2022</td>\n      <td>2093.0</td>\n      <td>2022</td>\n      <td>1500</td>\n      <td>2021</td>\n      <td>Afghanistan</td>\n    </tr>\n    <tr>\n      <th>1</th>\n      <td>Albania</td>\n      <td>the Republic of Albania</td>\n      <td>UN member</td>\n      <td>AL</td>\n      <td>ALB</td>\n      <td>008</td>\n      <td>ISO 3166-2:AL</td>\n      <td>.al</td>\n      <td>AL</td>\n      <td>Albania *</td>\n      <td>21377.0</td>\n      <td>2024</td>\n      <td>21395.0</td>\n      <td>2023</td>\n      <td>14500</td>\n      <td>2021</td>\n      <td>Albania</td>\n    </tr>\n    <tr>\n      <th>2</th>\n      <td>Algeria</td>\n      <td>the People's Democratic Republic of Algeria</td>\n      <td>UN member</td>\n      <td>DZ</td>\n      <td>DZA</td>\n      <td>012</td>\n      <td>ISO 3166-2:DZ</td>\n      <td>.dz</td>\n      <td>DZ</td>\n      <td>Algeria *</td>\n      <td>17718.0</td>\n      <td>2024</td>\n      <td>17027.0</td>\n      <td>2023</td>\n      <td>11000</td>\n      <td>2021</td>\n      <td>Algeria</td>\n    </tr>\n    <tr>\n      <th>3</th>\n      <td>American Samoa</td>\n      <td>American Samoa[c]</td>\n      <td>United States</td>\n      <td>AS</td>\n      <td>ASM</td>\n      <td>016</td>\n      <td>ISO 3166-2:AS</td>\n      <td>.as</td>\n      <td>AS</td>\n      <td>American Samoa *</td>\n      <td>NaN</td>\n      <td>&lt;NA&gt;</td>\n      <td>NaN</td>\n      <td>&lt;NA&gt;</td>\n      <td>11200</td>\n      <td>2016</td>\n      <td>American Samoa</td>\n    </tr>\n    <tr>\n      <th>4</th>\n      <td>Andorra</td>\n      <td>the Principality of Andorra</td>\n      <td>UN member</td>\n      <td>AD</td>\n      <td>AND</td>\n      <td>020</td>\n      <td>ISO 3166-2:AD</td>\n      <td>.ad</td>\n      <td>AD</td>\n      <td>Andorra *</td>\n      <td>68612.0</td>\n      <td>2024</td>\n      <td>71588.0</td>\n      <td>2023</td>\n      <td>49900</td>\n      <td>2015</td>\n      <td>Andorra</td>\n    </tr>\n    <tr>\n      <th>...</th>\n      <td>...</td>\n      <td>...</td>\n      <td>...</td>\n      <td>...</td>\n      <td>...</td>\n      <td>...</td>\n      <td>...</td>\n      <td>...</td>\n      <td>...</td>\n      <td>...</td>\n      <td>...</td>\n      <td>...</td>\n      <td>...</td>\n      <td>...</td>\n      <td>...</td>\n      <td>...</td>\n      <td>...</td>\n    </tr>\n    <tr>\n      <th>170</th>\n      <td>Vanuatu</td>\n      <td>the Republic of Vanuatu</td>\n      <td>UN member</td>\n      <td>VU</td>\n      <td>VUT</td>\n      <td>548</td>\n      <td>ISO 3166-2:VU</td>\n      <td>.vu</td>\n      <td>VU</td>\n      <td>Vanuatu *</td>\n      <td>2878.0</td>\n      <td>2024</td>\n      <td>3315.0</td>\n      <td>2023</td>\n      <td>2800</td>\n      <td>2021</td>\n      <td>Vanuatu</td>\n    </tr>\n    <tr>\n      <th>171</th>\n      <td>Wallis and Futuna</td>\n      <td>the Territory of the Wallis and Futuna Islands</td>\n      <td>France</td>\n      <td>WF</td>\n      <td>WLF</td>\n      <td>876</td>\n      <td>ISO 3166-2:WF</td>\n      <td>.wf</td>\n      <td>WF</td>\n      <td>Wallis and Futuna *</td>\n      <td>NaN</td>\n      <td>&lt;NA&gt;</td>\n      <td>NaN</td>\n      <td>&lt;NA&gt;</td>\n      <td>3800</td>\n      <td>2004</td>\n      <td>Wallis and Futuna</td>\n    </tr>\n    <tr>\n      <th>172</th>\n      <td>Yemen</td>\n      <td>the Republic of Yemen</td>\n      <td>UN member</td>\n      <td>YE</td>\n      <td>YEM</td>\n      <td>887</td>\n      <td>ISO 3166-2:YE</td>\n      <td>.ye</td>\n      <td>YE</td>\n      <td>Yemen *</td>\n      <td>1996.0</td>\n      <td>2024</td>\n      <td>3437.0</td>\n      <td>2013</td>\n      <td>2500</td>\n      <td>2017</td>\n      <td>Yemen</td>\n    </tr>\n    <tr>\n      <th>173</th>\n      <td>Zambia</td>\n      <td>the Republic of Zambia</td>\n      <td>UN member</td>\n      <td>ZM</td>\n      <td>ZMB</td>\n      <td>894</td>\n      <td>ISO 3166-2:ZM</td>\n      <td>.zm</td>\n      <td>ZM</td>\n      <td>Zambia *</td>\n      <td>4190.0</td>\n      <td>2024</td>\n      <td>4126.0</td>\n      <td>2023</td>\n      <td>3200</td>\n      <td>2021</td>\n      <td>Zambia</td>\n    </tr>\n    <tr>\n      <th>174</th>\n      <td>Zimbabwe</td>\n      <td>the Republic of Zimbabwe</td>\n      <td>UN member</td>\n      <td>ZW</td>\n      <td>ZWE</td>\n      <td>716</td>\n      <td>ISO 3166-2:ZW</td>\n      <td>.zw</td>\n      <td>ZW</td>\n      <td>Zimbabwe *</td>\n      <td>5071.0</td>\n      <td>2024</td>\n      <td>3900.0</td>\n      <td>2023</td>\n      <td>2100</td>\n      <td>2021</td>\n      <td>Zimbabwe</td>\n    </tr>\n  </tbody>\n</table>\n<p>175 rows × 17 columns</p>\n</div>"
          },
          "metadata": {}
        }
      ],
      "outputs_reference": null,
      "execution_count": 48,
      "block_group": "4a984a17655a4fea98e5cd3e0d2a3c4c",
      "content_dependencies": null
    },
    {
      "cell_type": "markdown",
      "source": "<div class=\"alert alert-block alert-danger\">\n<b>Careful:</b> Remember that <code>merge</code> will create a complete dataset only for the countries that have common names in both.\n</div>",
      "metadata": {
        "tags": [],
        "slideshow": {
          "slide_type": "subslide"
        },
        "user_expressions": [],
        "cell_id": "b6f9bc961e6b4d8e83e455289e2c34d7",
        "deepnote_cell_type": "markdown"
      },
      "block_group": "d8529075aa2945a4ac61190460128e9f"
    },
    {
      "cell_type": "code",
      "source": "merged.shape",
      "metadata": {
        "slideshow": {
          "slide_type": "fragment"
        },
        "source_hash": "16c31688",
        "execution_start": 1730132650992,
        "execution_millis": 1,
        "execution_context_id": "7c89757c-8d24-40c2-891e-29eb8cc3b4ff",
        "cell_id": "eb0acd60afd74da7a1d232728c9ff507",
        "deepnote_cell_type": "code"
      },
      "outputs": [
        {
          "output_type": "execute_result",
          "execution_count": 49,
          "data": {
            "text/plain": "(175, 17)"
          },
          "metadata": {}
        }
      ],
      "outputs_reference": null,
      "execution_count": 49,
      "block_group": "c75a8e3a54664c089d7bd571d263b62c",
      "content_dependencies": null
    },
    {
      "cell_type": "markdown",
      "source": "## What are the not common country names in both dataframes?",
      "metadata": {
        "slideshow": {
          "slide_type": "subslide"
        },
        "user_expressions": [],
        "cell_id": "d891d451e1c54831bb9195bda53939f0",
        "deepnote_cell_type": "markdown"
      },
      "block_group": "78a1981c98e54cc6a7922ed97c002275"
    },
    {
      "cell_type": "code",
      "source": "isocodes_names = set(isocodes['ISO 3166'])\ngdppc_wiki_names = set(gdppc_wiki['country_name'])",
      "metadata": {
        "slideshow": {
          "slide_type": "fragment"
        },
        "source_hash": "7465c5fb",
        "execution_start": 1730132651040,
        "execution_millis": 0,
        "execution_context_id": "7c89757c-8d24-40c2-891e-29eb8cc3b4ff",
        "cell_id": "67c704e294f64a90a59c541941c9b7d0",
        "deepnote_cell_type": "code"
      },
      "outputs": [],
      "outputs_reference": null,
      "execution_count": 50,
      "block_group": "47b0e10e1e064b0caa23ccde1a70d3bc",
      "content_dependencies": null
    },
    {
      "cell_type": "code",
      "source": "isocodes_names.difference(gdppc_wiki_names)",
      "metadata": {
        "slideshow": {
          "slide_type": "subslide"
        },
        "source_hash": "7f6c3ba5",
        "execution_start": 1730132651088,
        "execution_millis": 0,
        "execution_context_id": "7c89757c-8d24-40c2-891e-29eb8cc3b4ff",
        "cell_id": "66423ef36e8d4c06af3b5b16de6ca6f4",
        "deepnote_cell_type": "code"
      },
      "outputs": [
        {
          "output_type": "execute_result",
          "execution_count": 51,
          "data": {
            "text/plain": "{'Antarctica\\u200a[e]',\n 'Australia\\u200a[f]',\n 'Bahamas (the)',\n 'Bolivia (Plurinational State of)',\n 'Bonaire \\xa0Sint Eustatius \\xa0Saba',\n 'Bouvet Island',\n 'British Indian Ocean Territory (the)',\n 'British Virgin Islands – See Virgin Islands (British).',\n 'Brunei Darussalam\\u200a[i]',\n 'Burma – See Myanmar.',\n 'Cabo Verde\\u200a[j]',\n 'Cape Verde – See Cabo Verde.',\n 'Caribbean Netherlands – See Bonaire, Sint Eustatius and Saba.',\n 'Cayman Islands (the)',\n 'Central African Republic (the)',\n 'China, The Republic of – See Taiwan (Province of China).',\n 'Christmas Island',\n 'Cocos (Keeling) Islands (the)',\n 'Comoros (the)',\n 'Congo (the Democratic Republic of the)',\n 'Congo (the)\\u200a[k]',\n 'Cook Islands (the)',\n 'Czechia\\u200a[m]',\n \"Côte d'Ivoire\\u200a[l]\",\n \"Democratic People's Republic of Korea – See Korea, The Democratic People's Republic of.\",\n 'Democratic Republic of the Congo – See Congo, The Democratic Republic of the.',\n 'Dominican Republic (the)',\n 'East Timor – See Timor-Leste.',\n 'Eswatini\\u200a[n]',\n 'Falkland Islands (the) [Malvinas]\\u200a[o]',\n 'Faroe Islands (the)',\n 'France\\u200a[p]',\n 'French Guiana',\n 'French Southern Territories (the)\\u200a[q]',\n 'Gambia (the)',\n 'Great Britain – See United Kingdom, The.',\n 'Guadeloupe',\n 'Heard Island and McDonald Islands',\n 'Holy See (the)\\u200a[r]',\n 'Iran (Islamic Republic of)[s]',\n \"Ivory Coast – See Côte d'Ivoire.\",\n 'Jan Mayen – See Svalbard and Jan Mayen.',\n \"Korea (the Democratic People's Republic of)\\u200a[t]\",\n 'Korea (the Republic of)\\u200a[u]',\n \"Lao People's Democratic Republic (the)\\u200a[v]\",\n 'Macao\\u200a[w]',\n 'Marshall Islands (the)',\n 'Martinique',\n 'Mayotte',\n 'Micronesia (Federated States of)',\n 'Moldova (the Republic of)',\n 'Myanmar\\u200a[x]',\n 'Netherlands (Kingdom of the)',\n 'Niger (the)',\n 'Norfolk Island',\n \"North Korea – See Korea, The Democratic People's Republic of.\",\n 'North Macedonia\\u200a[y]',\n 'Northern Mariana Islands (the)',\n 'Palestine, State of',\n \"People's Republic of China – See China.\",\n 'Philippines (the)',\n 'Pitcairn\\u200a[z]',\n 'Republic of China – See Taiwan (Province of China).',\n 'Republic of Korea – See Korea, The Republic of.',\n 'Republic of the Congo – See Congo, The.',\n 'Russian Federation (the)\\u200a[aa]',\n 'Réunion',\n 'Saba – See Bonaire, Sint Eustatius and Saba.',\n 'Sahrawi Arab Democratic Republic – See Western Sahara.',\n 'Saint Barthélemy',\n 'Saint Helena \\xa0Ascension Island \\xa0Tristan da Cunha',\n 'Sao Tome and Principe',\n 'Sint Eustatius – See Bonaire, Sint Eustatius and Saba.',\n 'South Georgia and the South Sandwich Islands',\n 'South Korea – See Korea, The Republic of.',\n 'Sudan (the)',\n 'Svalbard \\xa0Jan Mayen',\n 'Syrian Arab Republic (the)\\u200a[ac]',\n 'Taiwan (Province of China)\\u200a[ad]',\n 'Tanzania, the United Republic of',\n 'Timor-Leste\\u200a[af]',\n 'Turks and Caicos Islands (the)',\n 'Türkiye [ag]',\n 'Ukraine[c]',\n 'United Arab Emirates (the)',\n 'United Kingdom of Great Britain and Northern Ireland (the)',\n 'United States Minor Outlying Islands (the)[13][ai]',\n 'United States Virgin Islands – See Virgin Islands (U.S.).',\n 'United States of America (the)',\n 'Vatican City – See Holy See, The.',\n 'Venezuela (Bolivarian Republic of)',\n 'Viet Nam\\u200a[ak]',\n 'Virgin Islands (British)\\u200a[al]',\n 'Virgin Islands (U.S.)\\u200a[am]',\n 'Western Sahara\\u200a[an]',\n 'Åland Islands'}"
          },
          "metadata": {}
        }
      ],
      "outputs_reference": null,
      "execution_count": 51,
      "block_group": "dd1268a8c9554b888c1e292211aafd07",
      "content_dependencies": null
    },
    {
      "cell_type": "code",
      "source": "gdppc_wiki_names.difference(isocodes_names)",
      "metadata": {
        "slideshow": {
          "slide_type": "subslide"
        },
        "source_hash": "67024b39",
        "execution_start": 1730132651136,
        "execution_millis": 1,
        "execution_context_id": "7c89757c-8d24-40c2-891e-29eb8cc3b4ff",
        "cell_id": "78d8169ac0764d97b8e006c26efcc80d",
        "deepnote_cell_type": "code"
      },
      "outputs": [
        {
          "output_type": "execute_result",
          "execution_count": 52,
          "data": {
            "text/plain": "{'Australia',\n 'Bahamas',\n 'Bolivia',\n 'British Virgin Islands',\n 'Brunei',\n 'Cape Verde',\n 'Cayman Islands',\n 'Central African Republic',\n 'Comoros',\n 'Congo',\n 'Cook Islands',\n 'Czech Republic',\n 'DR Congo',\n 'Dominican Republic',\n 'East Timor',\n 'Eswatini',\n 'European Union\\u202f[n 1]',\n 'Falkland Islands',\n 'Faroe Islands',\n 'France',\n 'Gambia',\n 'Iran',\n 'Ivory Coast',\n 'Kosovo',\n 'Laos',\n 'Macau',\n 'Marshall Islands',\n 'Micronesia',\n 'Moldova',\n 'Myanmar',\n 'Netherlands',\n 'Niger',\n 'North Korea',\n 'North Macedonia',\n 'Northern Mariana Islands',\n 'Palestine',\n 'Philippines',\n 'Russia',\n 'Saint Helena, Ascension and Tristan da Cunha',\n 'South Korea',\n 'Sudan',\n 'Syria',\n 'São Tomé and Príncipe',\n 'Taiwan',\n 'Tanzania',\n 'Turkey',\n 'Turks and Caicos Islands',\n 'U.S. Virgin Islands',\n 'Ukraine',\n 'United Arab Emirates',\n 'United Kingdom',\n 'United States',\n 'Venezuela',\n 'Vietnam',\n 'World'}"
          },
          "metadata": {}
        }
      ],
      "outputs_reference": null,
      "execution_count": 52,
      "block_group": "bb0bf65a716a4b2d97845eccdd45d454",
      "content_dependencies": null
    },
    {
      "cell_type": "markdown",
      "source": "## Clearly to create the full dataset, we'd need to standardize the country names. ",
      "metadata": {
        "tags": [],
        "slideshow": {
          "slide_type": "subslide"
        },
        "user_expressions": [],
        "cell_id": "fd3691aac441400d976ed5ddcd8e5a19",
        "deepnote_cell_type": "markdown"
      },
      "block_group": "e176ad2c91ca4e1db5ce928b7ce85192"
    },
    {
      "cell_type": "markdown",
      "source": "## This is a major reason to use ISO CODES!",
      "metadata": {
        "tags": [],
        "slideshow": {
          "slide_type": "fragment"
        },
        "user_expressions": [],
        "cell_id": "c5bf560a9ad24af4b9a6aa38a7b4e0e4",
        "deepnote_cell_type": "markdown"
      },
      "block_group": "5767ea6233ef4a1585d209410fac9bb1"
    },
    {
      "cell_type": "markdown",
      "source": "## We'll learn methods to do this in another lecture, for now let's use the merged subset",
      "metadata": {
        "tags": [],
        "slideshow": {
          "slide_type": "fragment"
        },
        "user_expressions": [],
        "cell_id": "80c8f6ae0d8c4f299b0535f04be13512",
        "deepnote_cell_type": "markdown"
      },
      "block_group": "8f0bcdc35f6e4a1e83b2dee88202675c"
    },
    {
      "cell_type": "markdown",
      "source": "# Simple Plots",
      "metadata": {
        "slideshow": {
          "slide_type": "subslide"
        },
        "user_expressions": [],
        "cell_id": "4402c06ac6164ff282a8cc0af8a9c20c",
        "deepnote_cell_type": "markdown"
      },
      "block_group": "634a5c69d63e4bfebd677e9da9e46d66"
    },
    {
      "cell_type": "code",
      "source": "# Set the size of the figure and get a figure and axis object\nfig, ax = plt.subplots(figsize=(10,6))\nmerged.gdppc_CIA.plot.kde(ax=ax, label='CIA')\nmerged.gdppc_IMF.plot.kde(ax=ax, label='IMF')\nmerged.gdppc_WB.plot.kde(ax=ax, label='WB')\nax.legend()",
      "metadata": {
        "slideshow": {
          "slide_type": "subslide"
        },
        "source_hash": "789ddaa4",
        "execution_start": 1730132651196,
        "execution_millis": 670,
        "execution_context_id": "7c89757c-8d24-40c2-891e-29eb8cc3b4ff",
        "cell_id": "d45eb51b6465436f9c31bc46f981842a",
        "deepnote_cell_type": "code"
      },
      "outputs": [
        {
          "output_type": "execute_result",
          "execution_count": 53,
          "data": {
            "text/plain": "<matplotlib.legend.Legend at 0x7f339edd71f0>"
          },
          "metadata": {}
        },
        {
          "data": {
            "text/plain": "<Figure size 1000x600 with 1 Axes>",
            "image/png": "[encoded data removed]"
          },
          "metadata": {
            "image/png": {
              "width": 846,
              "height": 520
            }
          },
          "output_type": "display_data"
        }
      ],
      "outputs_reference": null,
      "execution_count": 53,
      "block_group": "7c15a37bf96e460aaeaab7e275128279",
      "content_dependencies": null
    },
    {
      "cell_type": "code",
      "source": "# Set the size of the figure and get a figure and axis object\nfig, ax = plt.subplots(figsize=(10,6))\nmerged.gdppc_CIA.plot.hist(ax=ax, label='CIA')\nmerged.gdppc_IMF.plot.hist(ax=ax, label='IMF', alpha=0.6)\nmerged.gdppc_WB.plot.hist(ax=ax, label='WB', alpha=0.3)\nax.legend()",
      "metadata": {
        "slideshow": {
          "slide_type": "subslide"
        },
        "source_hash": "243650cb",
        "execution_start": 1730132651976,
        "execution_millis": 93,
        "execution_context_id": "7c89757c-8d24-40c2-891e-29eb8cc3b4ff",
        "cell_id": "f6ff9811c19a459297957b12674af859",
        "deepnote_cell_type": "code"
      },
      "outputs": [
        {
          "output_type": "execute_result",
          "execution_count": 54,
          "data": {
            "text/plain": "<matplotlib.legend.Legend at 0x7f3393971cc0>"
          },
          "metadata": {}
        },
        {
          "data": {
            "text/plain": "<Figure size 1000x600 with 1 Axes>",
            "image/png": "[encoded data removed]"
          },
          "metadata": {
            "image/png": {
              "width": 842,
              "height": 505
            }
          },
          "output_type": "display_data"
        }
      ],
      "outputs_reference": null,
      "execution_count": 54,
      "block_group": "e82edb2a237e457a99a3689b7214d6d7",
      "content_dependencies": null
    },
    {
      "cell_type": "code",
      "source": "# Set the size of the figure and get a figure and axis object\nfig, ax = plt.subplots(figsize=(10,6))\nmerged.plot.scatter(x='gdppc_WB', y='gdppc_CIA', ax=ax, label='WB-CIA', c='r')\nmerged.plot.scatter(x='gdppc_WB', y='gdppc_IMF', ax=ax, label='WB-IMF', c='b')\nax.set_xlabel('World Bank')\nax.set_ylabel('Other Source')\nax.legend(loc='lower right')",
      "metadata": {
        "slideshow": {
          "slide_type": "subslide"
        },
        "source_hash": "9733fa48",
        "execution_start": 1730132652325,
        "execution_millis": 246,
        "execution_context_id": "7c89757c-8d24-40c2-891e-29eb8cc3b4ff",
        "cell_id": "67fe29ce2d794ecba22f40e6f3f06637",
        "deepnote_cell_type": "code"
      },
      "outputs": [
        {
          "name": "stderr",
          "text": "/opt/conda/lib/python3.10/site-packages/pandas/plotting/_matplotlib/core.py:1259: UserWarning: No data for colormapping provided via 'c'. Parameters 'cmap' will be ignored\n  scatter = ax.scatter(\n",
          "output_type": "stream"
        },
        {
          "output_type": "execute_result",
          "execution_count": 55,
          "data": {
            "text/plain": "<matplotlib.legend.Legend at 0x7f3390ebb6a0>"
          },
          "metadata": {}
        },
        {
          "data": {
            "text/plain": "<Figure size 1000x600 with 1 Axes>",
            "image/png": "[encoded data removed]"
          },
          "metadata": {
            "image/png": {
              "width": 877,
              "height": 525
            }
          },
          "output_type": "display_data"
        }
      ],
      "outputs_reference": null,
      "execution_count": 55,
      "block_group": "536eeccc211d445e9db85f4645d029c2",
      "content_dependencies": null
    },
    {
      "cell_type": "markdown",
      "source": "# Example - Create Data",
      "metadata": {
        "slideshow": {
          "slide_type": "slide"
        },
        "user_expressions": [],
        "cell_id": "3da93f2f498d4d9badbd31295eb8576e",
        "deepnote_cell_type": "markdown"
      },
      "block_group": "53221671a3a14514bb729e69e6b64482"
    },
    {
      "cell_type": "markdown",
      "source": "Let's create a `DataFrame` with some artificial data for some countries. \n1. Create `Series` of countries\n2. Create `Series` of data for each country\n3. Create `DataFrame`",
      "metadata": {
        "slideshow": {
          "slide_type": "fragment"
        },
        "user_expressions": [],
        "cell_id": "997f002e6a7d4049b8c1f101c5f24887",
        "deepnote_cell_type": "markdown"
      },
      "block_group": "14087311c3dd4d65a37757d974db07d1"
    },
    {
      "cell_type": "code",
      "source": "countries = pd.Series(['Colombia', 'Turkey', 'United States', 'Germany', 'Chile'], name='country')\ncountries",
      "metadata": {
        "slideshow": {
          "slide_type": "subslide"
        },
        "source_hash": "2f651164",
        "execution_start": 1730132652637,
        "execution_millis": 0,
        "execution_context_id": "7c89757c-8d24-40c2-891e-29eb8cc3b4ff",
        "cell_id": "63c006b2bb754981971ca649e0d6e0db",
        "deepnote_cell_type": "code"
      },
      "outputs": [
        {
          "output_type": "execute_result",
          "execution_count": 56,
          "data": {
            "text/plain": "0         Colombia\n1           Turkey\n2    United States\n3          Germany\n4            Chile\nName: country, dtype: object"
          },
          "metadata": {}
        }
      ],
      "outputs_reference": null,
      "execution_count": 56,
      "block_group": "4e5317d6d4ef4c018c96bc2c39b3cda9",
      "content_dependencies": null
    },
    {
      "cell_type": "code",
      "source": "print('\\n', 'There are ', countries.shape[0], 'countries in this series.')",
      "metadata": {
        "slideshow": {
          "slide_type": "fragment"
        },
        "source_hash": "a9cdad2c",
        "execution_start": 1730132652684,
        "execution_millis": 0,
        "execution_context_id": "7c89757c-8d24-40c2-891e-29eb8cc3b4ff",
        "cell_id": "26c82f102faa45c6b9be65b6fe261047",
        "deepnote_cell_type": "code"
      },
      "outputs": [
        {
          "name": "stdout",
          "text": "\n There are  5 countries in this series.\n",
          "output_type": "stream"
        }
      ],
      "outputs_reference": null,
      "execution_count": 57,
      "block_group": "4287abc74b2842e69759d1632f13c18e",
      "content_dependencies": null
    },
    {
      "cell_type": "markdown",
      "source": "## We can apply a function on the data using the `apply` method. \nE.g., let's find the length of each country name using the `len` function.",
      "metadata": {
        "slideshow": {
          "slide_type": "subslide"
        },
        "user_expressions": [],
        "cell_id": "f35b812bcf7d4237bd897381ba387ee6",
        "deepnote_cell_type": "markdown"
      },
      "block_group": "68220643fae747db83ed00a6cf30763e"
    },
    {
      "cell_type": "code",
      "source": "countries.apply(len)",
      "metadata": {
        "slideshow": {
          "slide_type": "fragment"
        },
        "source_hash": "79cae233",
        "execution_start": 1730132652736,
        "execution_millis": 1,
        "execution_context_id": "7c89757c-8d24-40c2-891e-29eb8cc3b4ff",
        "cell_id": "2b13a50916cd4f019628c9af1c489ace",
        "deepnote_cell_type": "code"
      },
      "outputs": [
        {
          "output_type": "execute_result",
          "execution_count": 58,
          "data": {
            "text/plain": "0     8\n1     6\n2    13\n3     7\n4     5\nName: country, dtype: int64"
          },
          "metadata": {}
        }
      ],
      "outputs_reference": null,
      "execution_count": 58,
      "block_group": "a5a378bfb1da450caf32525fe203f3fb",
      "content_dependencies": null
    },
    {
      "cell_type": "markdown",
      "source": "Let's create the data using some of the functions we already learned.",
      "metadata": {
        "slideshow": {
          "slide_type": "subslide"
        },
        "user_expressions": [],
        "cell_id": "80cc8e0c9c4b41bcbfcfa87269ab79c0",
        "deepnote_cell_type": "markdown"
      },
      "block_group": "2800110bd4a04a728ad5ae8d1c22151f"
    },
    {
      "cell_type": "code",
      "source": "np.random.seed(123456)\ndata = pd.Series(np.random.normal(size=(countries.shape)), name='noise')\ndata",
      "metadata": {
        "slideshow": {
          "slide_type": "fragment"
        },
        "source_hash": "7d808ac6",
        "execution_start": 1730132652788,
        "execution_millis": 1,
        "execution_context_id": "7c89757c-8d24-40c2-891e-29eb8cc3b4ff",
        "cell_id": "1a3aebb3588c4f038b4203360b3dc7a2",
        "deepnote_cell_type": "code"
      },
      "outputs": [
        {
          "output_type": "execute_result",
          "execution_count": 59,
          "data": {
            "text/plain": "0    0.469112\n1   -0.282863\n2   -1.509059\n3   -1.135632\n4    1.212112\nName: noise, dtype: float64"
          },
          "metadata": {}
        }
      ],
      "outputs_reference": null,
      "execution_count": 59,
      "block_group": "62c93a1749b042218852999b35db6e24",
      "content_dependencies": null
    },
    {
      "cell_type": "markdown",
      "source": "## We can perform certain computation using some of the properties of the `pd.Series`:\n* mean\n* std\n* max",
      "metadata": {
        "tags": [],
        "slideshow": {
          "slide_type": "subslide"
        },
        "user_expressions": [],
        "cell_id": "f287286548f04e50b1fb48a4ec1c5700",
        "deepnote_cell_type": "markdown"
      },
      "block_group": "74317323adc74b2dbdab8d03b3ed28e8"
    },
    {
      "cell_type": "code",
      "source": "print('\\n', 'The average in this sample is ', data.mean())\nprint('\\n', 'The average in this sample is ', \"{:.2f}\".format(data.mean()))\nprint('\\n', 'The maximum in this sample is ', \"{:.2f}\".format(data.max()))\nprint('\\n', 'The standard deviation in this sample is ', \"{:.2f}\".format(data.std()))",
      "metadata": {
        "slideshow": {
          "slide_type": "subslide"
        },
        "source_hash": "673a0596",
        "execution_start": 1730132652836,
        "execution_millis": 1,
        "execution_context_id": "7c89757c-8d24-40c2-891e-29eb8cc3b4ff",
        "cell_id": "6887c46a30e34a43aadae96703ccaebe",
        "deepnote_cell_type": "code"
      },
      "outputs": [
        {
          "name": "stdout",
          "text": "\n The average in this sample is  -0.24926597871826645\n\n The average in this sample is  -0.25\n\n The maximum in this sample is  1.21\n\n The standard deviation in this sample is  1.12\n",
          "output_type": "stream"
        }
      ],
      "outputs_reference": null,
      "execution_count": 60,
      "block_group": "ba110bea49724e5cb05f1e546a2b4a72",
      "content_dependencies": null
    },
    {
      "cell_type": "markdown",
      "source": "Here we have used the ``mean()`` function of the series to compute its mean. There are many other properties/functions for these series including ``std()``, ``shape``, ``count()``, ``max()``, ``min()``, etc. You can access these by writing ``series.name_of_function_or_property``. To see what functions are available you can hit ``tab`` after writing ``series.``.",
      "metadata": {
        "slideshow": {
          "slide_type": "subslide"
        },
        "user_expressions": [],
        "cell_id": "9fc0314672e642c4975204dc7f88e070",
        "deepnote_cell_type": "markdown"
      },
      "block_group": "83bc0c60aac7495b96d2d9582645206f"
    },
    {
      "cell_type": "markdown",
      "source": "## We can transform the data using the `apply` method",
      "metadata": {
        "slideshow": {
          "slide_type": "subslide"
        },
        "user_expressions": [],
        "cell_id": "a7d1f2c090ba4732a7333a75fca65681",
        "deepnote_cell_type": "markdown"
      },
      "block_group": "407f9b5e79eb4dba8bd6a130e07fd9f8"
    },
    {
      "cell_type": "code",
      "source": "data.apply(np.exp)",
      "metadata": {
        "slideshow": {
          "slide_type": "subslide"
        },
        "source_hash": "94a43429",
        "execution_start": 1730132652884,
        "execution_millis": 0,
        "execution_context_id": "7c89757c-8d24-40c2-891e-29eb8cc3b4ff",
        "cell_id": "75e1e6173b58484795ddca729680d72d",
        "deepnote_cell_type": "code"
      },
      "outputs": [
        {
          "output_type": "execute_result",
          "execution_count": 61,
          "data": {
            "text/plain": "0    1.598575\n1    0.753623\n2    0.221118\n3    0.321219\n4    3.360575\nName: noise, dtype: float64"
          },
          "metadata": {}
        }
      ],
      "outputs_reference": null,
      "execution_count": 61,
      "block_group": "8ceb87b0123341d79c2210f22594543c",
      "content_dependencies": null
    },
    {
      "cell_type": "markdown",
      "source": "## Let's create a ``pd.DataFrame`` using these two series.",
      "metadata": {
        "slideshow": {
          "slide_type": "subslide"
        },
        "user_expressions": [],
        "cell_id": "cfbe51c9ae014989aefa36886af5fa54",
        "deepnote_cell_type": "markdown"
      },
      "block_group": "e51158c0d4f1447796ecbf1130bf0b7f"
    },
    {
      "cell_type": "markdown",
      "source": "## Method 1",
      "metadata": {
        "tags": [],
        "slideshow": {
          "slide_type": "subslide"
        },
        "user_expressions": [],
        "cell_id": "3ba3e532a55f4a79a066ba11c16210cd",
        "deepnote_cell_type": "markdown"
      },
      "block_group": "c5dfc747f013473abd10747b13b89f2e"
    },
    {
      "cell_type": "code",
      "source": "df = pd.DataFrame([countries, data])\ndf",
      "metadata": {
        "slideshow": {
          "slide_type": "fragment"
        },
        "source_hash": "3b765e8c",
        "execution_start": 1730132652940,
        "execution_millis": 1,
        "execution_context_id": "7c89757c-8d24-40c2-891e-29eb8cc3b4ff",
        "cell_id": "e52c0d979af44d8ba4284f3cd0f56b0c",
        "deepnote_cell_type": "code"
      },
      "outputs": [
        {
          "output_type": "execute_result",
          "execution_count": 62,
          "data": {
            "application/vnd.deepnote.dataframe.v3+json": {
              "column_count": 5,
              "row_count": 2,
              "columns": [
                {
                  "name": "0",
                  "dtype": "object",
                  "stats": {
                    "unique_count": 2,
                    "nan_count": 0,
                    "categories": [
                      {
                        "name": "Colombia",
                        "count": 1
                      },
                      {
                        "name": "0.4691122999071863",
                        "count": 1
                      }
                    ]
                  }
                },
                {
                  "name": "1",
                  "dtype": "object",
                  "stats": {
                    "unique_count": 2,
                    "nan_count": 0,
                    "categories": [
                      {
                        "name": "Turkey",
                        "count": 1
                      },
                      {
                        "name": "-0.2828633443286633",
                        "count": 1
                      }
                    ]
                  }
                },
                {
                  "name": "2",
                  "dtype": "object",
                  "stats": {
                    "unique_count": 2,
                    "nan_count": 0,
                    "categories": [
                      {
                        "name": "United States",
                        "count": 1
                      },
                      {
                        "name": "-1.5090585031735124",
                        "count": 1
                      }
                    ]
                  }
                },
                {
                  "name": "3",
                  "dtype": "object",
                  "stats": {
                    "unique_count": 2,
                    "nan_count": 0,
                    "categories": [
                      {
                        "name": "Germany",
                        "count": 1
                      },
                      {
                        "name": "-1.1356323710171934",
                        "count": 1
                      }
                    ]
                  }
                },
                {
                  "name": "4",
                  "dtype": "object",
                  "stats": {
                    "unique_count": 2,
                    "nan_count": 0,
                    "categories": [
                      {
                        "name": "Chile",
                        "count": 1
                      },
                      {
                        "name": "1.2121120250208506",
                        "count": 1
                      }
                    ]
                  }
                },
                {
                  "name": "_deepnote_index_column",
                  "dtype": "object"
                }
              ],
              "rows": [
                {
                  "0": "Colombia",
                  "1": "Turkey",
                  "2": "United States",
                  "3": "Germany",
                  "4": "Chile",
                  "_deepnote_index_column": "country"
                },
                {
                  "0": "0.4691122999071863",
                  "1": "-0.2828633443286633",
                  "2": "-1.5090585031735124",
                  "3": "-1.1356323710171934",
                  "4": "1.2121120250208506",
                  "_deepnote_index_column": "noise"
                }
              ]
            },
            "text/plain": "                0         1              2         3         4\ncountry  Colombia    Turkey  United States   Germany     Chile\nnoise    0.469112 -0.282863      -1.509059 -1.135632  1.212112",
            "text/html": "<div>\n<style scoped>\n    .dataframe tbody tr th:only-of-type {\n        vertical-align: middle;\n    }\n\n    .dataframe tbody tr th {\n        vertical-align: top;\n    }\n\n    .dataframe thead th {\n        text-align: right;\n    }\n</style>\n<table border=\"1\" class=\"dataframe\">\n  <thead>\n    <tr style=\"text-align: right;\">\n      <th></th>\n      <th>0</th>\n      <th>1</th>\n      <th>2</th>\n      <th>3</th>\n      <th>4</th>\n    </tr>\n  </thead>\n  <tbody>\n    <tr>\n      <th>country</th>\n      <td>Colombia</td>\n      <td>Turkey</td>\n      <td>United States</td>\n      <td>Germany</td>\n      <td>Chile</td>\n    </tr>\n    <tr>\n      <th>noise</th>\n      <td>0.469112</td>\n      <td>-0.282863</td>\n      <td>-1.509059</td>\n      <td>-1.135632</td>\n      <td>1.212112</td>\n    </tr>\n  </tbody>\n</table>\n</div>"
          },
          "metadata": {}
        }
      ],
      "outputs_reference": null,
      "execution_count": 62,
      "block_group": "15f63298ecb94b5f9f5797e4bdf185a6",
      "content_dependencies": null
    },
    {
      "cell_type": "markdown",
      "source": "Not exactly what we'd like, but don't worry, we can just transpose it so it has each country with its data in a row.",
      "metadata": {
        "slideshow": {
          "slide_type": "subslide"
        },
        "user_expressions": [],
        "cell_id": "e38abf4770aa4b91bba5e453d3df3501",
        "deepnote_cell_type": "markdown"
      },
      "block_group": "93b806478ecc4c9d9e467b7b3836488e"
    },
    {
      "cell_type": "code",
      "source": "df = df.T\ndf",
      "metadata": {
        "slideshow": {
          "slide_type": "fragment"
        },
        "source_hash": "f5421ff1",
        "execution_start": 1730132652992,
        "execution_millis": 1,
        "execution_context_id": "7c89757c-8d24-40c2-891e-29eb8cc3b4ff",
        "cell_id": "9dcd6e71a3c140ccabcc4de0bb51107e",
        "deepnote_cell_type": "code"
      },
      "outputs": [
        {
          "output_type": "execute_result",
          "execution_count": 63,
          "data": {
            "application/vnd.deepnote.dataframe.v3+json": {
              "column_count": 2,
              "row_count": 5,
              "columns": [
                {
                  "name": "country",
                  "dtype": "object",
                  "stats": {
                    "unique_count": 5,
                    "nan_count": 0,
                    "categories": [
                      {
                        "name": "Colombia",
                        "count": 1
                      },
                      {
                        "name": "Turkey",
                        "count": 1
                      },
                      {
                        "name": "3 others",
                        "count": 3
                      }
                    ]
                  }
                },
                {
                  "name": "noise",
                  "dtype": "object",
                  "stats": {
                    "unique_count": 5,
                    "nan_count": 0,
                    "categories": [
                      {
                        "name": "0.4691122999071863",
                        "count": 1
                      },
                      {
                        "name": "-0.2828633443286633",
                        "count": 1
                      },
                      {
                        "name": "3 others",
                        "count": 3
                      }
                    ]
                  }
                },
                {
                  "name": "_deepnote_index_column",
                  "dtype": "int64"
                }
              ],
              "rows": [
                {
                  "country": "Colombia",
                  "noise": "0.4691122999071863",
                  "_deepnote_index_column": 0
                },
                {
                  "country": "Turkey",
                  "noise": "-0.2828633443286633",
                  "_deepnote_index_column": 1
                },
                {
                  "country": "United States",
                  "noise": "-1.5090585031735124",
                  "_deepnote_index_column": 2
                },
                {
                  "country": "Germany",
                  "noise": "-1.1356323710171934",
                  "_deepnote_index_column": 3
                },
                {
                  "country": "Chile",
                  "noise": "1.2121120250208506",
                  "_deepnote_index_column": 4
                }
              ]
            },
            "text/plain": "         country     noise\n0       Colombia  0.469112\n1         Turkey -0.282863\n2  United States -1.509059\n3        Germany -1.135632\n4          Chile  1.212112",
            "text/html": "<div>\n<style scoped>\n    .dataframe tbody tr th:only-of-type {\n        vertical-align: middle;\n    }\n\n    .dataframe tbody tr th {\n        vertical-align: top;\n    }\n\n    .dataframe thead th {\n        text-align: right;\n    }\n</style>\n<table border=\"1\" class=\"dataframe\">\n  <thead>\n    <tr style=\"text-align: right;\">\n      <th></th>\n      <th>country</th>\n      <th>noise</th>\n    </tr>\n  </thead>\n  <tbody>\n    <tr>\n      <th>0</th>\n      <td>Colombia</td>\n      <td>0.469112</td>\n    </tr>\n    <tr>\n      <th>1</th>\n      <td>Turkey</td>\n      <td>-0.282863</td>\n    </tr>\n    <tr>\n      <th>2</th>\n      <td>United States</td>\n      <td>-1.509059</td>\n    </tr>\n    <tr>\n      <th>3</th>\n      <td>Germany</td>\n      <td>-1.135632</td>\n    </tr>\n    <tr>\n      <th>4</th>\n      <td>Chile</td>\n      <td>1.212112</td>\n    </tr>\n  </tbody>\n</table>\n</div>"
          },
          "metadata": {}
        }
      ],
      "outputs_reference": null,
      "execution_count": 63,
      "block_group": "0f104cbfee1746b789ba8337c617c9ff",
      "content_dependencies": null
    },
    {
      "cell_type": "markdown",
      "source": "## Method 2",
      "metadata": {
        "slideshow": {
          "slide_type": "subslide"
        },
        "user_expressions": [],
        "cell_id": "1b8b4d9a903640f690bf196411292558",
        "deepnote_cell_type": "markdown"
      },
      "block_group": "a46acca9d6ff45a694e69e7463f83c41"
    },
    {
      "cell_type": "code",
      "source": "df = pd.concat([countries, data], axis=1)\ndf",
      "metadata": {
        "slideshow": {
          "slide_type": "fragment"
        },
        "source_hash": "8cacd972",
        "execution_start": 1730132653044,
        "execution_millis": 1,
        "execution_context_id": "7c89757c-8d24-40c2-891e-29eb8cc3b4ff",
        "cell_id": "e432cb2d5368495098e1ff36475919c3",
        "deepnote_cell_type": "code"
      },
      "outputs": [
        {
          "output_type": "execute_result",
          "execution_count": 64,
          "data": {
            "application/vnd.deepnote.dataframe.v3+json": {
              "column_count": 2,
              "row_count": 5,
              "columns": [
                {
                  "name": "country",
                  "dtype": "object",
                  "stats": {
                    "unique_count": 5,
                    "nan_count": 0,
                    "categories": [
                      {
                        "name": "Colombia",
                        "count": 1
                      },
                      {
                        "name": "Turkey",
                        "count": 1
                      },
                      {
                        "name": "3 others",
                        "count": 3
                      }
                    ]
                  }
                },
                {
                  "name": "noise",
                  "dtype": "float64",
                  "stats": {
                    "unique_count": 5,
                    "nan_count": 0,
                    "min": "-1.5090585031735124",
                    "max": "1.2121120250208506",
                    "histogram": [
                      {
                        "bin_start": -1.5090585031735124,
                        "bin_end": -1.236941450354076,
                        "count": 1
                      },
                      {
                        "bin_start": -1.236941450354076,
                        "bin_end": -0.9648243975346399,
                        "count": 1
                      },
                      {
                        "bin_start": -0.9648243975346399,
                        "bin_end": -0.6927073447152037,
                        "count": 0
                      },
                      {
                        "bin_start": -0.6927073447152037,
                        "bin_end": -0.42059029189576735,
                        "count": 0
                      },
                      {
                        "bin_start": -0.42059029189576735,
                        "bin_end": -0.14847323907633103,
                        "count": 1
                      },
                      {
                        "bin_start": -0.14847323907633103,
                        "bin_end": 0.12364381374310507,
                        "count": 0
                      },
                      {
                        "bin_start": 0.12364381374310507,
                        "bin_end": 0.3957608665625414,
                        "count": 0
                      },
                      {
                        "bin_start": 0.3957608665625414,
                        "bin_end": 0.6678779193819777,
                        "count": 1
                      },
                      {
                        "bin_start": 0.6678779193819777,
                        "bin_end": 0.9399949722014138,
                        "count": 0
                      },
                      {
                        "bin_start": 0.9399949722014138,
                        "bin_end": 1.2121120250208506,
                        "count": 1
                      }
                    ]
                  }
                },
                {
                  "name": "_deepnote_index_column",
                  "dtype": "int64"
                }
              ],
              "rows": [
                {
                  "country": "Colombia",
                  "noise": 0.4691122999071863,
                  "_deepnote_index_column": 0
                },
                {
                  "country": "Turkey",
                  "noise": -0.2828633443286633,
                  "_deepnote_index_column": 1
                },
                {
                  "country": "United States",
                  "noise": -1.5090585031735124,
                  "_deepnote_index_column": 2
                },
                {
                  "country": "Germany",
                  "noise": -1.1356323710171934,
                  "_deepnote_index_column": 3
                },
                {
                  "country": "Chile",
                  "noise": 1.2121120250208506,
                  "_deepnote_index_column": 4
                }
              ]
            },
            "text/plain": "         country     noise\n0       Colombia  0.469112\n1         Turkey -0.282863\n2  United States -1.509059\n3        Germany -1.135632\n4          Chile  1.212112",
            "text/html": "<div>\n<style scoped>\n    .dataframe tbody tr th:only-of-type {\n        vertical-align: middle;\n    }\n\n    .dataframe tbody tr th {\n        vertical-align: top;\n    }\n\n    .dataframe thead th {\n        text-align: right;\n    }\n</style>\n<table border=\"1\" class=\"dataframe\">\n  <thead>\n    <tr style=\"text-align: right;\">\n      <th></th>\n      <th>country</th>\n      <th>noise</th>\n    </tr>\n  </thead>\n  <tbody>\n    <tr>\n      <th>0</th>\n      <td>Colombia</td>\n      <td>0.469112</td>\n    </tr>\n    <tr>\n      <th>1</th>\n      <td>Turkey</td>\n      <td>-0.282863</td>\n    </tr>\n    <tr>\n      <th>2</th>\n      <td>United States</td>\n      <td>-1.509059</td>\n    </tr>\n    <tr>\n      <th>3</th>\n      <td>Germany</td>\n      <td>-1.135632</td>\n    </tr>\n    <tr>\n      <th>4</th>\n      <td>Chile</td>\n      <td>1.212112</td>\n    </tr>\n  </tbody>\n</table>\n</div>"
          },
          "metadata": {}
        }
      ],
      "outputs_reference": null,
      "execution_count": 64,
      "block_group": "3c81c8c61fce4c2aba14818d39682fbe",
      "content_dependencies": null
    },
    {
      "cell_type": "markdown",
      "source": "## Method 3",
      "metadata": {
        "tags": [],
        "slideshow": {
          "slide_type": "subslide"
        },
        "user_expressions": [],
        "cell_id": "dead2ba8556947beafc85629127bfc90",
        "deepnote_cell_type": "markdown"
      },
      "block_group": "04d709fd918446528e6ede1e2a8bc053"
    },
    {
      "cell_type": "code",
      "source": "df = pd.DataFrame({'country':countries,\n                   'noise':data})\ndf",
      "metadata": {
        "slideshow": {
          "slide_type": "fragment"
        },
        "source_hash": "98e1e5a7",
        "execution_start": 1730132653100,
        "execution_millis": 1,
        "execution_context_id": "7c89757c-8d24-40c2-891e-29eb8cc3b4ff",
        "cell_id": "f984a62a42e447b8a64ff9a40e78897e",
        "deepnote_cell_type": "code"
      },
      "outputs": [
        {
          "output_type": "execute_result",
          "execution_count": 65,
          "data": {
            "application/vnd.deepnote.dataframe.v3+json": {
              "column_count": 2,
              "row_count": 5,
              "columns": [
                {
                  "name": "country",
                  "dtype": "object",
                  "stats": {
                    "unique_count": 5,
                    "nan_count": 0,
                    "categories": [
                      {
                        "name": "Colombia",
                        "count": 1
                      },
                      {
                        "name": "Turkey",
                        "count": 1
                      },
                      {
                        "name": "3 others",
                        "count": 3
                      }
                    ]
                  }
                },
                {
                  "name": "noise",
                  "dtype": "float64",
                  "stats": {
                    "unique_count": 5,
                    "nan_count": 0,
                    "min": "-1.5090585031735124",
                    "max": "1.2121120250208506",
                    "histogram": [
                      {
                        "bin_start": -1.5090585031735124,
                        "bin_end": -1.236941450354076,
                        "count": 1
                      },
                      {
                        "bin_start": -1.236941450354076,
                        "bin_end": -0.9648243975346399,
                        "count": 1
                      },
                      {
                        "bin_start": -0.9648243975346399,
                        "bin_end": -0.6927073447152037,
                        "count": 0
                      },
                      {
                        "bin_start": -0.6927073447152037,
                        "bin_end": -0.42059029189576735,
                        "count": 0
                      },
                      {
                        "bin_start": -0.42059029189576735,
                        "bin_end": -0.14847323907633103,
                        "count": 1
                      },
                      {
                        "bin_start": -0.14847323907633103,
                        "bin_end": 0.12364381374310507,
                        "count": 0
                      },
                      {
                        "bin_start": 0.12364381374310507,
                        "bin_end": 0.3957608665625414,
                        "count": 0
                      },
                      {
                        "bin_start": 0.3957608665625414,
                        "bin_end": 0.6678779193819777,
                        "count": 1
                      },
                      {
                        "bin_start": 0.6678779193819777,
                        "bin_end": 0.9399949722014138,
                        "count": 0
                      },
                      {
                        "bin_start": 0.9399949722014138,
                        "bin_end": 1.2121120250208506,
                        "count": 1
                      }
                    ]
                  }
                },
                {
                  "name": "_deepnote_index_column",
                  "dtype": "int64"
                }
              ],
              "rows": [
                {
                  "country": "Colombia",
                  "noise": 0.4691122999071863,
                  "_deepnote_index_column": 0
                },
                {
                  "country": "Turkey",
                  "noise": -0.2828633443286633,
                  "_deepnote_index_column": 1
                },
                {
                  "country": "United States",
                  "noise": -1.5090585031735124,
                  "_deepnote_index_column": 2
                },
                {
                  "country": "Germany",
                  "noise": -1.1356323710171934,
                  "_deepnote_index_column": 3
                },
                {
                  "country": "Chile",
                  "noise": 1.2121120250208506,
                  "_deepnote_index_column": 4
                }
              ]
            },
            "text/plain": "         country     noise\n0       Colombia  0.469112\n1         Turkey -0.282863\n2  United States -1.509059\n3        Germany -1.135632\n4          Chile  1.212112",
            "text/html": "<div>\n<style scoped>\n    .dataframe tbody tr th:only-of-type {\n        vertical-align: middle;\n    }\n\n    .dataframe tbody tr th {\n        vertical-align: top;\n    }\n\n    .dataframe thead th {\n        text-align: right;\n    }\n</style>\n<table border=\"1\" class=\"dataframe\">\n  <thead>\n    <tr style=\"text-align: right;\">\n      <th></th>\n      <th>country</th>\n      <th>noise</th>\n    </tr>\n  </thead>\n  <tbody>\n    <tr>\n      <th>0</th>\n      <td>Colombia</td>\n      <td>0.469112</td>\n    </tr>\n    <tr>\n      <th>1</th>\n      <td>Turkey</td>\n      <td>-0.282863</td>\n    </tr>\n    <tr>\n      <th>2</th>\n      <td>United States</td>\n      <td>-1.509059</td>\n    </tr>\n    <tr>\n      <th>3</th>\n      <td>Germany</td>\n      <td>-1.135632</td>\n    </tr>\n    <tr>\n      <th>4</th>\n      <td>Chile</td>\n      <td>1.212112</td>\n    </tr>\n  </tbody>\n</table>\n</div>"
          },
          "metadata": {}
        }
      ],
      "outputs_reference": null,
      "execution_count": 65,
      "block_group": "e631757005f144f0b406313a211ff5d7",
      "content_dependencies": null
    },
    {
      "cell_type": "markdown",
      "source": "## Adding more variables/rows",
      "metadata": {
        "slideshow": {
          "slide_type": "subslide"
        },
        "user_expressions": [],
        "cell_id": "cdad66368b7845f782f05fccca0be5c6",
        "deepnote_cell_type": "markdown"
      },
      "block_group": "0f211858f7b849538f290ba5609ac29f"
    },
    {
      "cell_type": "markdown",
      "source": "Now let us add some more data to this dataframe. This is done easily by defining a new column. \n\nLet's create the square of ``noise``, create the sum of ``noise`` and its square, and get the length of the country's name. ",
      "metadata": {
        "slideshow": {
          "slide_type": "fragment"
        },
        "user_expressions": [],
        "cell_id": "e68b6f44afbd4a00950054d35b51efd7",
        "deepnote_cell_type": "markdown"
      },
      "block_group": "ef870469803246a297b7f2f5c4f3eeff"
    },
    {
      "cell_type": "code",
      "source": "df['noise_sq'] = df.noise**2\ndf['noise and its square'] = df.noise + df.noise_sq\ndf['name length'] = df.country.apply(len)\ndf",
      "metadata": {
        "slideshow": {
          "slide_type": "subslide"
        },
        "source_hash": "ba6858bb",
        "execution_start": 1730132653153,
        "execution_millis": 0,
        "execution_context_id": "7c89757c-8d24-40c2-891e-29eb8cc3b4ff",
        "cell_id": "9adc9302652b43cba25598caf45c771f",
        "deepnote_cell_type": "code"
      },
      "outputs": [
        {
          "output_type": "execute_result",
          "execution_count": 66,
          "data": {
            "application/vnd.deepnote.dataframe.v3+json": {
              "column_count": 5,
              "row_count": 5,
              "columns": [
                {
                  "name": "country",
                  "dtype": "object",
                  "stats": {
                    "unique_count": 5,
                    "nan_count": 0,
                    "categories": [
                      {
                        "name": "Colombia",
                        "count": 1
                      },
                      {
                        "name": "Turkey",
                        "count": 1
                      },
                      {
                        "name": "3 others",
                        "count": 3
                      }
                    ]
                  }
                },
                {
                  "name": "noise",
                  "dtype": "float64",
                  "stats": {
                    "unique_count": 5,
                    "nan_count": 0,
                    "min": "-1.5090585031735124",
                    "max": "1.2121120250208506",
                    "histogram": [
                      {
                        "bin_start": -1.5090585031735124,
                        "bin_end": -1.236941450354076,
                        "count": 1
                      },
                      {
                        "bin_start": -1.236941450354076,
                        "bin_end": -0.9648243975346399,
                        "count": 1
                      },
                      {
                        "bin_start": -0.9648243975346399,
                        "bin_end": -0.6927073447152037,
                        "count": 0
                      },
                      {
                        "bin_start": -0.6927073447152037,
                        "bin_end": -0.42059029189576735,
                        "count": 0
                      },
                      {
                        "bin_start": -0.42059029189576735,
                        "bin_end": -0.14847323907633103,
                        "count": 1
                      },
                      {
                        "bin_start": -0.14847323907633103,
                        "bin_end": 0.12364381374310507,
                        "count": 0
                      },
                      {
                        "bin_start": 0.12364381374310507,
                        "bin_end": 0.3957608665625414,
                        "count": 0
                      },
                      {
                        "bin_start": 0.3957608665625414,
                        "bin_end": 0.6678779193819777,
                        "count": 1
                      },
                      {
                        "bin_start": 0.6678779193819777,
                        "bin_end": 0.9399949722014138,
                        "count": 0
                      },
                      {
                        "bin_start": 0.9399949722014138,
                        "bin_end": 1.2121120250208506,
                        "count": 1
                      }
                    ]
                  }
                },
                {
                  "name": "noise_sq",
                  "dtype": "float64",
                  "stats": {
                    "unique_count": 5,
                    "nan_count": 0,
                    "min": "0.08001167156479592",
                    "max": "2.277257566000282",
                    "histogram": [
                      {
                        "bin_start": 0.08001167156479592,
                        "bin_end": 0.2997362610083445,
                        "count": 2
                      },
                      {
                        "bin_start": 0.2997362610083445,
                        "bin_end": 0.519460850451893,
                        "count": 0
                      },
                      {
                        "bin_start": 0.519460850451893,
                        "bin_end": 0.7391854398954417,
                        "count": 0
                      },
                      {
                        "bin_start": 0.7391854398954417,
                        "bin_end": 0.9589100293389903,
                        "count": 0
                      },
                      {
                        "bin_start": 0.9589100293389903,
                        "bin_end": 1.1786346187825387,
                        "count": 0
                      },
                      {
                        "bin_start": 1.1786346187825387,
                        "bin_end": 1.3983592082260874,
                        "count": 1
                      },
                      {
                        "bin_start": 1.3983592082260874,
                        "bin_end": 1.6180837976696358,
                        "count": 1
                      },
                      {
                        "bin_start": 1.6180837976696358,
                        "bin_end": 1.8378083871131845,
                        "count": 0
                      },
                      {
                        "bin_start": 1.8378083871131845,
                        "bin_end": 2.0575329765567334,
                        "count": 0
                      },
                      {
                        "bin_start": 2.0575329765567334,
                        "bin_end": 2.277257566000282,
                        "count": 1
                      }
                    ]
                  }
                },
                {
                  "name": "noise and its square",
                  "dtype": "float64",
                  "stats": {
                    "unique_count": 5,
                    "nan_count": 0,
                    "min": "-0.20285167276386734",
                    "max": "2.6813275862209975",
                    "histogram": [
                      {
                        "bin_start": -0.20285167276386734,
                        "bin_end": 0.08556625313461913,
                        "count": 1
                      },
                      {
                        "bin_start": 0.08556625313461913,
                        "bin_end": 0.3739841790331056,
                        "count": 1
                      },
                      {
                        "bin_start": 0.3739841790331056,
                        "bin_end": 0.662402104931592,
                        "count": 0
                      },
                      {
                        "bin_start": 0.662402104931592,
                        "bin_end": 0.9508200308300785,
                        "count": 2
                      },
                      {
                        "bin_start": 0.9508200308300785,
                        "bin_end": 1.239237956728565,
                        "count": 0
                      },
                      {
                        "bin_start": 1.239237956728565,
                        "bin_end": 1.5276558826270514,
                        "count": 0
                      },
                      {
                        "bin_start": 1.5276558826270514,
                        "bin_end": 1.8160738085255377,
                        "count": 0
                      },
                      {
                        "bin_start": 1.8160738085255377,
                        "bin_end": 2.1044917344240246,
                        "count": 0
                      },
                      {
                        "bin_start": 2.1044917344240246,
                        "bin_end": 2.3929096603225113,
                        "count": 0
                      },
                      {
                        "bin_start": 2.3929096603225113,
                        "bin_end": 2.6813275862209975,
                        "count": 1
                      }
                    ]
                  }
                },
                {
                  "name": "name length",
                  "dtype": "int64",
                  "stats": {
                    "unique_count": 5,
                    "nan_count": 0,
                    "min": "5",
                    "max": "13",
                    "histogram": [
                      {
                        "bin_start": 5,
                        "bin_end": 5.8,
                        "count": 1
                      },
                      {
                        "bin_start": 5.8,
                        "bin_end": 6.6,
                        "count": 1
                      },
                      {
                        "bin_start": 6.6,
                        "bin_end": 7.4,
                        "count": 1
                      },
                      {
                        "bin_start": 7.4,
                        "bin_end": 8.2,
                        "count": 1
                      },
                      {
                        "bin_start": 8.2,
                        "bin_end": 9,
                        "count": 0
                      },
                      {
                        "bin_start": 9,
                        "bin_end": 9.8,
                        "count": 0
                      },
                      {
                        "bin_start": 9.8,
                        "bin_end": 10.600000000000001,
                        "count": 0
                      },
                      {
                        "bin_start": 10.600000000000001,
                        "bin_end": 11.4,
                        "count": 0
                      },
                      {
                        "bin_start": 11.4,
                        "bin_end": 12.2,
                        "count": 0
                      },
                      {
                        "bin_start": 12.2,
                        "bin_end": 13,
                        "count": 1
                      }
                    ]
                  }
                },
                {
                  "name": "_deepnote_index_column",
                  "dtype": "int64"
                }
              ],
              "rows": [
                {
                  "country": "Colombia",
                  "noise": 0.4691122999071863,
                  "noise_sq": 0.2200663499242099,
                  "noise and its square": 0.6891786498313962,
                  "name length": 8,
                  "_deepnote_index_column": 0
                },
                {
                  "country": "Turkey",
                  "noise": -0.2828633443286633,
                  "noise_sq": 0.08001167156479592,
                  "noise and its square": -0.20285167276386734,
                  "name length": 6,
                  "_deepnote_index_column": 1
                },
                {
                  "country": "United States",
                  "noise": -1.5090585031735124,
                  "noise_sq": 2.277257566000282,
                  "noise and its square": 0.7681990628267694,
                  "name length": 13,
                  "_deepnote_index_column": 2
                },
                {
                  "country": "Germany",
                  "noise": -1.1356323710171934,
                  "noise_sq": 1.2896608821021325,
                  "noise and its square": 0.1540285110849391,
                  "name length": 7,
                  "_deepnote_index_column": 3
                },
                {
                  "country": "Chile",
                  "noise": 1.2121120250208506,
                  "noise_sq": 1.4692155612001472,
                  "noise and its square": 2.6813275862209975,
                  "name length": 5,
                  "_deepnote_index_column": 4
                }
              ]
            },
            "text/plain": "         country     noise  noise_sq  noise and its square  name length\n0       Colombia  0.469112  0.220066              0.689179            8\n1         Turkey -0.282863  0.080012             -0.202852            6\n2  United States -1.509059  2.277258              0.768199           13\n3        Germany -1.135632  1.289661              0.154029            7\n4          Chile  1.212112  1.469216              2.681328            5",
            "text/html": "<div>\n<style scoped>\n    .dataframe tbody tr th:only-of-type {\n        vertical-align: middle;\n    }\n\n    .dataframe tbody tr th {\n        vertical-align: top;\n    }\n\n    .dataframe thead th {\n        text-align: right;\n    }\n</style>\n<table border=\"1\" class=\"dataframe\">\n  <thead>\n    <tr style=\"text-align: right;\">\n      <th></th>\n      <th>country</th>\n      <th>noise</th>\n      <th>noise_sq</th>\n      <th>noise and its square</th>\n      <th>name length</th>\n    </tr>\n  </thead>\n  <tbody>\n    <tr>\n      <th>0</th>\n      <td>Colombia</td>\n      <td>0.469112</td>\n      <td>0.220066</td>\n      <td>0.689179</td>\n      <td>8</td>\n    </tr>\n    <tr>\n      <th>1</th>\n      <td>Turkey</td>\n      <td>-0.282863</td>\n      <td>0.080012</td>\n      <td>-0.202852</td>\n      <td>6</td>\n    </tr>\n    <tr>\n      <th>2</th>\n      <td>United States</td>\n      <td>-1.509059</td>\n      <td>2.277258</td>\n      <td>0.768199</td>\n      <td>13</td>\n    </tr>\n    <tr>\n      <th>3</th>\n      <td>Germany</td>\n      <td>-1.135632</td>\n      <td>1.289661</td>\n      <td>0.154029</td>\n      <td>7</td>\n    </tr>\n    <tr>\n      <th>4</th>\n      <td>Chile</td>\n      <td>1.212112</td>\n      <td>1.469216</td>\n      <td>2.681328</td>\n      <td>5</td>\n    </tr>\n  </tbody>\n</table>\n</div>"
          },
          "metadata": {}
        }
      ],
      "outputs_reference": null,
      "execution_count": 66,
      "block_group": "98150fcbfb624540a5834d74c0374706",
      "content_dependencies": null
    },
    {
      "cell_type": "markdown",
      "source": "This shows some of the ways in which you can create new data. \n\nEspecially useful is the ``apply`` method, which applies a function to the series. \n\nYou can also apply a function to the whole dataframe, which is useful if you want to perform computations using various columns.\n\nLet's see some other ways in which we can interact with dataframes. ",
      "metadata": {
        "tags": [],
        "slideshow": {
          "slide_type": "subslide"
        },
        "user_expressions": [],
        "cell_id": "de0b919ae8924eceb60c74684c2a2de1",
        "deepnote_cell_type": "markdown"
      },
      "block_group": "872354f8d35243f69c68bcc3396364a1"
    },
    {
      "cell_type": "markdown",
      "source": "## First, let's identify some observations, e.g., all countries in the South America.",
      "metadata": {
        "tags": [],
        "slideshow": {
          "slide_type": "subslide"
        },
        "user_expressions": [],
        "cell_id": "0643bf8bb6564423a988736d1e038a97",
        "deepnote_cell_type": "markdown"
      },
      "block_group": "abb82099da684711ae0baf9e0948e4a0"
    },
    {
      "cell_type": "markdown",
      "source": "## Let's create a list of South American countries",
      "metadata": {
        "slideshow": {
          "slide_type": "fragment"
        },
        "user_expressions": [],
        "cell_id": "09031e6bb9eb47cb94fd7ff05e8dcfab",
        "deepnote_cell_type": "markdown"
      },
      "block_group": "36b7163f962d4e828c0510d9907c0823"
    },
    {
      "cell_type": "code",
      "source": "south_america = ['Colombia', 'Chile']",
      "metadata": {
        "slideshow": {
          "slide_type": "fragment"
        },
        "source_hash": "faf5402c",
        "execution_start": 1730132653200,
        "execution_millis": 1,
        "execution_context_id": "7c89757c-8d24-40c2-891e-29eb8cc3b4ff",
        "cell_id": "ebbb8275892b4487a4b4d7d9a34cfcf9",
        "deepnote_cell_type": "code"
      },
      "outputs": [],
      "outputs_reference": null,
      "execution_count": 67,
      "block_group": "d9920be481b440bd8878c039d94ae87e",
      "content_dependencies": null
    },
    {
      "cell_type": "markdown",
      "source": "## Let's create a new dummy variable that identifies countries in South America \n## using `apply` and our `south_america` list",
      "metadata": {
        "slideshow": {
          "slide_type": "subslide"
        },
        "user_expressions": [],
        "cell_id": "97e20ff1eceb4fd7aac7125ee6b4ffe4",
        "deepnote_cell_type": "markdown"
      },
      "block_group": "93f45863cdfd479ea97d2f1bdab37922"
    },
    {
      "cell_type": "code",
      "source": "df['South America Logical'] = df.country.apply(lambda x: x in south_america)\ndf",
      "metadata": {
        "slideshow": {
          "slide_type": "subslide"
        },
        "source_hash": "1e31c293",
        "execution_start": 1730132653248,
        "execution_millis": 1,
        "execution_context_id": "7c89757c-8d24-40c2-891e-29eb8cc3b4ff",
        "cell_id": "ba37656bee144e97ae68cff87c55b41a",
        "deepnote_cell_type": "code"
      },
      "outputs": [
        {
          "output_type": "execute_result",
          "execution_count": 68,
          "data": {
            "application/vnd.deepnote.dataframe.v3+json": {
              "column_count": 6,
              "row_count": 5,
              "columns": [
                {
                  "name": "country",
                  "dtype": "object",
                  "stats": {
                    "unique_count": 5,
                    "nan_count": 0,
                    "categories": [
                      {
                        "name": "Colombia",
                        "count": 1
                      },
                      {
                        "name": "Turkey",
                        "count": 1
                      },
                      {
                        "name": "3 others",
                        "count": 3
                      }
                    ]
                  }
                },
                {
                  "name": "noise",
                  "dtype": "float64",
                  "stats": {
                    "unique_count": 5,
                    "nan_count": 0,
                    "min": "-1.5090585031735124",
                    "max": "1.2121120250208506",
                    "histogram": [
                      {
                        "bin_start": -1.5090585031735124,
                        "bin_end": -1.236941450354076,
                        "count": 1
                      },
                      {
                        "bin_start": -1.236941450354076,
                        "bin_end": -0.9648243975346399,
                        "count": 1
                      },
                      {
                        "bin_start": -0.9648243975346399,
                        "bin_end": -0.6927073447152037,
                        "count": 0
                      },
                      {
                        "bin_start": -0.6927073447152037,
                        "bin_end": -0.42059029189576735,
                        "count": 0
                      },
                      {
                        "bin_start": -0.42059029189576735,
                        "bin_end": -0.14847323907633103,
                        "count": 1
                      },
                      {
                        "bin_start": -0.14847323907633103,
                        "bin_end": 0.12364381374310507,
                        "count": 0
                      },
                      {
                        "bin_start": 0.12364381374310507,
                        "bin_end": 0.3957608665625414,
                        "count": 0
                      },
                      {
                        "bin_start": 0.3957608665625414,
                        "bin_end": 0.6678779193819777,
                        "count": 1
                      },
                      {
                        "bin_start": 0.6678779193819777,
                        "bin_end": 0.9399949722014138,
                        "count": 0
                      },
                      {
                        "bin_start": 0.9399949722014138,
                        "bin_end": 1.2121120250208506,
                        "count": 1
                      }
                    ]
                  }
                },
                {
                  "name": "noise_sq",
                  "dtype": "float64",
                  "stats": {
                    "unique_count": 5,
                    "nan_count": 0,
                    "min": "0.08001167156479592",
                    "max": "2.277257566000282",
                    "histogram": [
                      {
                        "bin_start": 0.08001167156479592,
                        "bin_end": 0.2997362610083445,
                        "count": 2
                      },
                      {
                        "bin_start": 0.2997362610083445,
                        "bin_end": 0.519460850451893,
                        "count": 0
                      },
                      {
                        "bin_start": 0.519460850451893,
                        "bin_end": 0.7391854398954417,
                        "count": 0
                      },
                      {
                        "bin_start": 0.7391854398954417,
                        "bin_end": 0.9589100293389903,
                        "count": 0
                      },
                      {
                        "bin_start": 0.9589100293389903,
                        "bin_end": 1.1786346187825387,
                        "count": 0
                      },
                      {
                        "bin_start": 1.1786346187825387,
                        "bin_end": 1.3983592082260874,
                        "count": 1
                      },
                      {
                        "bin_start": 1.3983592082260874,
                        "bin_end": 1.6180837976696358,
                        "count": 1
                      },
                      {
                        "bin_start": 1.6180837976696358,
                        "bin_end": 1.8378083871131845,
                        "count": 0
                      },
                      {
                        "bin_start": 1.8378083871131845,
                        "bin_end": 2.0575329765567334,
                        "count": 0
                      },
                      {
                        "bin_start": 2.0575329765567334,
                        "bin_end": 2.277257566000282,
                        "count": 1
                      }
                    ]
                  }
                },
                {
                  "name": "noise and its square",
                  "dtype": "float64",
                  "stats": {
                    "unique_count": 5,
                    "nan_count": 0,
                    "min": "-0.20285167276386734",
                    "max": "2.6813275862209975",
                    "histogram": [
                      {
                        "bin_start": -0.20285167276386734,
                        "bin_end": 0.08556625313461913,
                        "count": 1
                      },
                      {
                        "bin_start": 0.08556625313461913,
                        "bin_end": 0.3739841790331056,
                        "count": 1
                      },
                      {
                        "bin_start": 0.3739841790331056,
                        "bin_end": 0.662402104931592,
                        "count": 0
                      },
                      {
                        "bin_start": 0.662402104931592,
                        "bin_end": 0.9508200308300785,
                        "count": 2
                      },
                      {
                        "bin_start": 0.9508200308300785,
                        "bin_end": 1.239237956728565,
                        "count": 0
                      },
                      {
                        "bin_start": 1.239237956728565,
                        "bin_end": 1.5276558826270514,
                        "count": 0
                      },
                      {
                        "bin_start": 1.5276558826270514,
                        "bin_end": 1.8160738085255377,
                        "count": 0
                      },
                      {
                        "bin_start": 1.8160738085255377,
                        "bin_end": 2.1044917344240246,
                        "count": 0
                      },
                      {
                        "bin_start": 2.1044917344240246,
                        "bin_end": 2.3929096603225113,
                        "count": 0
                      },
                      {
                        "bin_start": 2.3929096603225113,
                        "bin_end": 2.6813275862209975,
                        "count": 1
                      }
                    ]
                  }
                },
                {
                  "name": "name length",
                  "dtype": "int64",
                  "stats": {
                    "unique_count": 5,
                    "nan_count": 0,
                    "min": "5",
                    "max": "13",
                    "histogram": [
                      {
                        "bin_start": 5,
                        "bin_end": 5.8,
                        "count": 1
                      },
                      {
                        "bin_start": 5.8,
                        "bin_end": 6.6,
                        "count": 1
                      },
                      {
                        "bin_start": 6.6,
                        "bin_end": 7.4,
                        "count": 1
                      },
                      {
                        "bin_start": 7.4,
                        "bin_end": 8.2,
                        "count": 1
                      },
                      {
                        "bin_start": 8.2,
                        "bin_end": 9,
                        "count": 0
                      },
                      {
                        "bin_start": 9,
                        "bin_end": 9.8,
                        "count": 0
                      },
                      {
                        "bin_start": 9.8,
                        "bin_end": 10.600000000000001,
                        "count": 0
                      },
                      {
                        "bin_start": 10.600000000000001,
                        "bin_end": 11.4,
                        "count": 0
                      },
                      {
                        "bin_start": 11.4,
                        "bin_end": 12.2,
                        "count": 0
                      },
                      {
                        "bin_start": 12.2,
                        "bin_end": 13,
                        "count": 1
                      }
                    ]
                  }
                },
                {
                  "name": "South America Logical",
                  "dtype": "bool",
                  "stats": {
                    "unique_count": 2,
                    "nan_count": 0,
                    "categories": [
                      {
                        "name": "False",
                        "count": 3
                      },
                      {
                        "name": "True",
                        "count": 2
                      }
                    ]
                  }
                },
                {
                  "name": "_deepnote_index_column",
                  "dtype": "int64"
                }
              ],
              "rows": [
                {
                  "country": "Colombia",
                  "noise": 0.4691122999071863,
                  "noise_sq": 0.2200663499242099,
                  "noise and its square": 0.6891786498313962,
                  "name length": 8,
                  "South America Logical": "True",
                  "_deepnote_index_column": 0
                },
                {
                  "country": "Turkey",
                  "noise": -0.2828633443286633,
                  "noise_sq": 0.08001167156479592,
                  "noise and its square": -0.20285167276386734,
                  "name length": 6,
                  "South America Logical": "False",
                  "_deepnote_index_column": 1
                },
                {
                  "country": "United States",
                  "noise": -1.5090585031735124,
                  "noise_sq": 2.277257566000282,
                  "noise and its square": 0.7681990628267694,
                  "name length": 13,
                  "South America Logical": "False",
                  "_deepnote_index_column": 2
                },
                {
                  "country": "Germany",
                  "noise": -1.1356323710171934,
                  "noise_sq": 1.2896608821021325,
                  "noise and its square": 0.1540285110849391,
                  "name length": 7,
                  "South America Logical": "False",
                  "_deepnote_index_column": 3
                },
                {
                  "country": "Chile",
                  "noise": 1.2121120250208506,
                  "noise_sq": 1.4692155612001472,
                  "noise and its square": 2.6813275862209975,
                  "name length": 5,
                  "South America Logical": "True",
                  "_deepnote_index_column": 4
                }
              ]
            },
            "text/plain": "         country     noise  noise_sq  noise and its square  name length  \\\n0       Colombia  0.469112  0.220066              0.689179            8   \n1         Turkey -0.282863  0.080012             -0.202852            6   \n2  United States -1.509059  2.277258              0.768199           13   \n3        Germany -1.135632  1.289661              0.154029            7   \n4          Chile  1.212112  1.469216              2.681328            5   \n\n   South America Logical  \n0                   True  \n1                  False  \n2                  False  \n3                  False  \n4                   True  ",
            "text/html": "<div>\n<style scoped>\n    .dataframe tbody tr th:only-of-type {\n        vertical-align: middle;\n    }\n\n    .dataframe tbody tr th {\n        vertical-align: top;\n    }\n\n    .dataframe thead th {\n        text-align: right;\n    }\n</style>\n<table border=\"1\" class=\"dataframe\">\n  <thead>\n    <tr style=\"text-align: right;\">\n      <th></th>\n      <th>country</th>\n      <th>noise</th>\n      <th>noise_sq</th>\n      <th>noise and its square</th>\n      <th>name length</th>\n      <th>South America Logical</th>\n    </tr>\n  </thead>\n  <tbody>\n    <tr>\n      <th>0</th>\n      <td>Colombia</td>\n      <td>0.469112</td>\n      <td>0.220066</td>\n      <td>0.689179</td>\n      <td>8</td>\n      <td>True</td>\n    </tr>\n    <tr>\n      <th>1</th>\n      <td>Turkey</td>\n      <td>-0.282863</td>\n      <td>0.080012</td>\n      <td>-0.202852</td>\n      <td>6</td>\n      <td>False</td>\n    </tr>\n    <tr>\n      <th>2</th>\n      <td>United States</td>\n      <td>-1.509059</td>\n      <td>2.277258</td>\n      <td>0.768199</td>\n      <td>13</td>\n      <td>False</td>\n    </tr>\n    <tr>\n      <th>3</th>\n      <td>Germany</td>\n      <td>-1.135632</td>\n      <td>1.289661</td>\n      <td>0.154029</td>\n      <td>7</td>\n      <td>False</td>\n    </tr>\n    <tr>\n      <th>4</th>\n      <td>Chile</td>\n      <td>1.212112</td>\n      <td>1.469216</td>\n      <td>2.681328</td>\n      <td>5</td>\n      <td>True</td>\n    </tr>\n  </tbody>\n</table>\n</div>"
          },
          "metadata": {}
        }
      ],
      "outputs_reference": null,
      "execution_count": 68,
      "block_group": "3935e2ca283643baa79dfc87112c609f",
      "content_dependencies": null
    },
    {
      "cell_type": "markdown",
      "source": "## Notice the new column takes on *logical* values, i.e., `True` or `False`",
      "metadata": {
        "slideshow": {
          "slide_type": "subslide"
        },
        "user_expressions": [],
        "cell_id": "250e88c4bcf64fe58949b5b09461c532",
        "deepnote_cell_type": "markdown"
      },
      "block_group": "979b25611abe4e52b75abce594d814e6"
    },
    {
      "cell_type": "markdown",
      "source": "## More useful to have numerical values, where `1:True` and `0:False`",
      "metadata": {
        "slideshow": {
          "slide_type": "fragment"
        },
        "user_expressions": [],
        "cell_id": "d5d24ac52dc445f7b4c3a17c099653fd",
        "deepnote_cell_type": "markdown"
      },
      "block_group": "810904ca0e824e96b903f052b7b7d39c"
    },
    {
      "cell_type": "markdown",
      "source": "## Method 1: Dictionary and `map`",
      "metadata": {
        "slideshow": {
          "slide_type": "subslide"
        },
        "user_expressions": [],
        "cell_id": "962c712cc7324415b2a5b8ce37ad68a0",
        "deepnote_cell_type": "markdown"
      },
      "block_group": "a328e5840de7474eafb37f4a60643d26"
    },
    {
      "cell_type": "code",
      "source": "mydict = {True:1,\n          False:0}\ndf['South America Dict'] = df['South America Logical'].map(mydict)\ndf",
      "metadata": {
        "slideshow": {
          "slide_type": "subslide"
        },
        "source_hash": "c4044506",
        "execution_start": 1730132653296,
        "execution_millis": 1,
        "execution_context_id": "7c89757c-8d24-40c2-891e-29eb8cc3b4ff",
        "cell_id": "f7392efb5b744cf3ab6a8cd8ef25a626",
        "deepnote_cell_type": "code"
      },
      "outputs": [
        {
          "output_type": "execute_result",
          "execution_count": 69,
          "data": {
            "application/vnd.deepnote.dataframe.v3+json": {
              "column_count": 7,
              "row_count": 5,
              "columns": [
                {
                  "name": "country",
                  "dtype": "object",
                  "stats": {
                    "unique_count": 5,
                    "nan_count": 0,
                    "categories": [
                      {
                        "name": "Colombia",
                        "count": 1
                      },
                      {
                        "name": "Turkey",
                        "count": 1
                      },
                      {
                        "name": "3 others",
                        "count": 3
                      }
                    ]
                  }
                },
                {
                  "name": "noise",
                  "dtype": "float64",
                  "stats": {
                    "unique_count": 5,
                    "nan_count": 0,
                    "min": "-1.5090585031735124",
                    "max": "1.2121120250208506",
                    "histogram": [
                      {
                        "bin_start": -1.5090585031735124,
                        "bin_end": -1.236941450354076,
                        "count": 1
                      },
                      {
                        "bin_start": -1.236941450354076,
                        "bin_end": -0.9648243975346399,
                        "count": 1
                      },
                      {
                        "bin_start": -0.9648243975346399,
                        "bin_end": -0.6927073447152037,
                        "count": 0
                      },
                      {
                        "bin_start": -0.6927073447152037,
                        "bin_end": -0.42059029189576735,
                        "count": 0
                      },
                      {
                        "bin_start": -0.42059029189576735,
                        "bin_end": -0.14847323907633103,
                        "count": 1
                      },
                      {
                        "bin_start": -0.14847323907633103,
                        "bin_end": 0.12364381374310507,
                        "count": 0
                      },
                      {
                        "bin_start": 0.12364381374310507,
                        "bin_end": 0.3957608665625414,
                        "count": 0
                      },
                      {
                        "bin_start": 0.3957608665625414,
                        "bin_end": 0.6678779193819777,
                        "count": 1
                      },
                      {
                        "bin_start": 0.6678779193819777,
                        "bin_end": 0.9399949722014138,
                        "count": 0
                      },
                      {
                        "bin_start": 0.9399949722014138,
                        "bin_end": 1.2121120250208506,
                        "count": 1
                      }
                    ]
                  }
                },
                {
                  "name": "noise_sq",
                  "dtype": "float64",
                  "stats": {
                    "unique_count": 5,
                    "nan_count": 0,
                    "min": "0.08001167156479592",
                    "max": "2.277257566000282",
                    "histogram": [
                      {
                        "bin_start": 0.08001167156479592,
                        "bin_end": 0.2997362610083445,
                        "count": 2
                      },
                      {
                        "bin_start": 0.2997362610083445,
                        "bin_end": 0.519460850451893,
                        "count": 0
                      },
                      {
                        "bin_start": 0.519460850451893,
                        "bin_end": 0.7391854398954417,
                        "count": 0
                      },
                      {
                        "bin_start": 0.7391854398954417,
                        "bin_end": 0.9589100293389903,
                        "count": 0
                      },
                      {
                        "bin_start": 0.9589100293389903,
                        "bin_end": 1.1786346187825387,
                        "count": 0
                      },
                      {
                        "bin_start": 1.1786346187825387,
                        "bin_end": 1.3983592082260874,
                        "count": 1
                      },
                      {
                        "bin_start": 1.3983592082260874,
                        "bin_end": 1.6180837976696358,
                        "count": 1
                      },
                      {
                        "bin_start": 1.6180837976696358,
                        "bin_end": 1.8378083871131845,
                        "count": 0
                      },
                      {
                        "bin_start": 1.8378083871131845,
                        "bin_end": 2.0575329765567334,
                        "count": 0
                      },
                      {
                        "bin_start": 2.0575329765567334,
                        "bin_end": 2.277257566000282,
                        "count": 1
                      }
                    ]
                  }
                },
                {
                  "name": "noise and its square",
                  "dtype": "float64",
                  "stats": {
                    "unique_count": 5,
                    "nan_count": 0,
                    "min": "-0.20285167276386734",
                    "max": "2.6813275862209975",
                    "histogram": [
                      {
                        "bin_start": -0.20285167276386734,
                        "bin_end": 0.08556625313461913,
                        "count": 1
                      },
                      {
                        "bin_start": 0.08556625313461913,
                        "bin_end": 0.3739841790331056,
                        "count": 1
                      },
                      {
                        "bin_start": 0.3739841790331056,
                        "bin_end": 0.662402104931592,
                        "count": 0
                      },
                      {
                        "bin_start": 0.662402104931592,
                        "bin_end": 0.9508200308300785,
                        "count": 2
                      },
                      {
                        "bin_start": 0.9508200308300785,
                        "bin_end": 1.239237956728565,
                        "count": 0
                      },
                      {
                        "bin_start": 1.239237956728565,
                        "bin_end": 1.5276558826270514,
                        "count": 0
                      },
                      {
                        "bin_start": 1.5276558826270514,
                        "bin_end": 1.8160738085255377,
                        "count": 0
                      },
                      {
                        "bin_start": 1.8160738085255377,
                        "bin_end": 2.1044917344240246,
                        "count": 0
                      },
                      {
                        "bin_start": 2.1044917344240246,
                        "bin_end": 2.3929096603225113,
                        "count": 0
                      },
                      {
                        "bin_start": 2.3929096603225113,
                        "bin_end": 2.6813275862209975,
                        "count": 1
                      }
                    ]
                  }
                },
                {
                  "name": "name length",
                  "dtype": "int64",
                  "stats": {
                    "unique_count": 5,
                    "nan_count": 0,
                    "min": "5",
                    "max": "13",
                    "histogram": [
                      {
                        "bin_start": 5,
                        "bin_end": 5.8,
                        "count": 1
                      },
                      {
                        "bin_start": 5.8,
                        "bin_end": 6.6,
                        "count": 1
                      },
                      {
                        "bin_start": 6.6,
                        "bin_end": 7.4,
                        "count": 1
                      },
                      {
                        "bin_start": 7.4,
                        "bin_end": 8.2,
                        "count": 1
                      },
                      {
                        "bin_start": 8.2,
                        "bin_end": 9,
                        "count": 0
                      },
                      {
                        "bin_start": 9,
                        "bin_end": 9.8,
                        "count": 0
                      },
                      {
                        "bin_start": 9.8,
                        "bin_end": 10.600000000000001,
                        "count": 0
                      },
                      {
                        "bin_start": 10.600000000000001,
                        "bin_end": 11.4,
                        "count": 0
                      },
                      {
                        "bin_start": 11.4,
                        "bin_end": 12.2,
                        "count": 0
                      },
                      {
                        "bin_start": 12.2,
                        "bin_end": 13,
                        "count": 1
                      }
                    ]
                  }
                },
                {
                  "name": "South America Logical",
                  "dtype": "bool",
                  "stats": {
                    "unique_count": 2,
                    "nan_count": 0,
                    "categories": [
                      {
                        "name": "False",
                        "count": 3
                      },
                      {
                        "name": "True",
                        "count": 2
                      }
                    ]
                  }
                },
                {
                  "name": "South America Dict",
                  "dtype": "int64",
                  "stats": {
                    "unique_count": 2,
                    "nan_count": 0,
                    "min": "0",
                    "max": "1",
                    "histogram": [
                      {
                        "bin_start": 0,
                        "bin_end": 0.1,
                        "count": 3
                      },
                      {
                        "bin_start": 0.1,
                        "bin_end": 0.2,
                        "count": 0
                      },
                      {
                        "bin_start": 0.2,
                        "bin_end": 0.30000000000000004,
                        "count": 0
                      },
                      {
                        "bin_start": 0.30000000000000004,
                        "bin_end": 0.4,
                        "count": 0
                      },
                      {
                        "bin_start": 0.4,
                        "bin_end": 0.5,
                        "count": 0
                      },
                      {
                        "bin_start": 0.5,
                        "bin_end": 0.6000000000000001,
                        "count": 0
                      },
                      {
                        "bin_start": 0.6000000000000001,
                        "bin_end": 0.7000000000000001,
                        "count": 0
                      },
                      {
                        "bin_start": 0.7000000000000001,
                        "bin_end": 0.8,
                        "count": 0
                      },
                      {
                        "bin_start": 0.8,
                        "bin_end": 0.9,
                        "count": 0
                      },
                      {
                        "bin_start": 0.9,
                        "bin_end": 1,
                        "count": 2
                      }
                    ]
                  }
                },
                {
                  "name": "_deepnote_index_column",
                  "dtype": "int64"
                }
              ],
              "rows": [
                {
                  "country": "Colombia",
                  "noise": 0.4691122999071863,
                  "noise_sq": 0.2200663499242099,
                  "noise and its square": 0.6891786498313962,
                  "name length": 8,
                  "South America Logical": "True",
                  "South America Dict": 1,
                  "_deepnote_index_column": 0
                },
                {
                  "country": "Turkey",
                  "noise": -0.2828633443286633,
                  "noise_sq": 0.08001167156479592,
                  "noise and its square": -0.20285167276386734,
                  "name length": 6,
                  "South America Logical": "False",
                  "South America Dict": 0,
                  "_deepnote_index_column": 1
                },
                {
                  "country": "United States",
                  "noise": -1.5090585031735124,
                  "noise_sq": 2.277257566000282,
                  "noise and its square": 0.7681990628267694,
                  "name length": 13,
                  "South America Logical": "False",
                  "South America Dict": 0,
                  "_deepnote_index_column": 2
                },
                {
                  "country": "Germany",
                  "noise": -1.1356323710171934,
                  "noise_sq": 1.2896608821021325,
                  "noise and its square": 0.1540285110849391,
                  "name length": 7,
                  "South America Logical": "False",
                  "South America Dict": 0,
                  "_deepnote_index_column": 3
                },
                {
                  "country": "Chile",
                  "noise": 1.2121120250208506,
                  "noise_sq": 1.4692155612001472,
                  "noise and its square": 2.6813275862209975,
                  "name length": 5,
                  "South America Logical": "True",
                  "South America Dict": 1,
                  "_deepnote_index_column": 4
                }
              ]
            },
            "text/plain": "         country     noise  noise_sq  noise and its square  name length  \\\n0       Colombia  0.469112  0.220066              0.689179            8   \n1         Turkey -0.282863  0.080012             -0.202852            6   \n2  United States -1.509059  2.277258              0.768199           13   \n3        Germany -1.135632  1.289661              0.154029            7   \n4          Chile  1.212112  1.469216              2.681328            5   \n\n   South America Logical  South America Dict  \n0                   True                   1  \n1                  False                   0  \n2                  False                   0  \n3                  False                   0  \n4                   True                   1  ",
            "text/html": "<div>\n<style scoped>\n    .dataframe tbody tr th:only-of-type {\n        vertical-align: middle;\n    }\n\n    .dataframe tbody tr th {\n        vertical-align: top;\n    }\n\n    .dataframe thead th {\n        text-align: right;\n    }\n</style>\n<table border=\"1\" class=\"dataframe\">\n  <thead>\n    <tr style=\"text-align: right;\">\n      <th></th>\n      <th>country</th>\n      <th>noise</th>\n      <th>noise_sq</th>\n      <th>noise and its square</th>\n      <th>name length</th>\n      <th>South America Logical</th>\n      <th>South America Dict</th>\n    </tr>\n  </thead>\n  <tbody>\n    <tr>\n      <th>0</th>\n      <td>Colombia</td>\n      <td>0.469112</td>\n      <td>0.220066</td>\n      <td>0.689179</td>\n      <td>8</td>\n      <td>True</td>\n      <td>1</td>\n    </tr>\n    <tr>\n      <th>1</th>\n      <td>Turkey</td>\n      <td>-0.282863</td>\n      <td>0.080012</td>\n      <td>-0.202852</td>\n      <td>6</td>\n      <td>False</td>\n      <td>0</td>\n    </tr>\n    <tr>\n      <th>2</th>\n      <td>United States</td>\n      <td>-1.509059</td>\n      <td>2.277258</td>\n      <td>0.768199</td>\n      <td>13</td>\n      <td>False</td>\n      <td>0</td>\n    </tr>\n    <tr>\n      <th>3</th>\n      <td>Germany</td>\n      <td>-1.135632</td>\n      <td>1.289661</td>\n      <td>0.154029</td>\n      <td>7</td>\n      <td>False</td>\n      <td>0</td>\n    </tr>\n    <tr>\n      <th>4</th>\n      <td>Chile</td>\n      <td>1.212112</td>\n      <td>1.469216</td>\n      <td>2.681328</td>\n      <td>5</td>\n      <td>True</td>\n      <td>1</td>\n    </tr>\n  </tbody>\n</table>\n</div>"
          },
          "metadata": {}
        }
      ],
      "outputs_reference": null,
      "execution_count": 69,
      "block_group": "5b16da4f9858490cad17b75edf0a11d5",
      "content_dependencies": null
    },
    {
      "cell_type": "markdown",
      "source": "## Method 2: Change type",
      "metadata": {
        "slideshow": {
          "slide_type": "subslide"
        },
        "user_expressions": [],
        "cell_id": "8ae8645a37ee4afda5070eafed4d2bd5",
        "deepnote_cell_type": "markdown"
      },
      "block_group": "35fe8e3a13c64246a08bdc11f8f90cf3"
    },
    {
      "cell_type": "code",
      "source": "df['South America'] = df.country.apply(lambda x: x in south_america).astype(int)\ndf",
      "metadata": {
        "slideshow": {
          "slide_type": "fragment"
        },
        "source_hash": "c360167",
        "execution_start": 1730132653344,
        "execution_millis": 1,
        "execution_context_id": "7c89757c-8d24-40c2-891e-29eb8cc3b4ff",
        "cell_id": "bd5d52fffca14528978135c396a59c0c",
        "deepnote_cell_type": "code"
      },
      "outputs": [
        {
          "output_type": "execute_result",
          "execution_count": 70,
          "data": {
            "application/vnd.deepnote.dataframe.v3+json": {
              "column_count": 8,
              "row_count": 5,
              "columns": [
                {
                  "name": "country",
                  "dtype": "object",
                  "stats": {
                    "unique_count": 5,
                    "nan_count": 0,
                    "categories": [
                      {
                        "name": "Colombia",
                        "count": 1
                      },
                      {
                        "name": "Turkey",
                        "count": 1
                      },
                      {
                        "name": "3 others",
                        "count": 3
                      }
                    ]
                  }
                },
                {
                  "name": "noise",
                  "dtype": "float64",
                  "stats": {
                    "unique_count": 5,
                    "nan_count": 0,
                    "min": "-1.5090585031735124",
                    "max": "1.2121120250208506",
                    "histogram": [
                      {
                        "bin_start": -1.5090585031735124,
                        "bin_end": -1.236941450354076,
                        "count": 1
                      },
                      {
                        "bin_start": -1.236941450354076,
                        "bin_end": -0.9648243975346399,
                        "count": 1
                      },
                      {
                        "bin_start": -0.9648243975346399,
                        "bin_end": -0.6927073447152037,
                        "count": 0
                      },
                      {
                        "bin_start": -0.6927073447152037,
                        "bin_end": -0.42059029189576735,
                        "count": 0
                      },
                      {
                        "bin_start": -0.42059029189576735,
                        "bin_end": -0.14847323907633103,
                        "count": 1
                      },
                      {
                        "bin_start": -0.14847323907633103,
                        "bin_end": 0.12364381374310507,
                        "count": 0
                      },
                      {
                        "bin_start": 0.12364381374310507,
                        "bin_end": 0.3957608665625414,
                        "count": 0
                      },
                      {
                        "bin_start": 0.3957608665625414,
                        "bin_end": 0.6678779193819777,
                        "count": 1
                      },
                      {
                        "bin_start": 0.6678779193819777,
                        "bin_end": 0.9399949722014138,
                        "count": 0
                      },
                      {
                        "bin_start": 0.9399949722014138,
                        "bin_end": 1.2121120250208506,
                        "count": 1
                      }
                    ]
                  }
                },
                {
                  "name": "noise_sq",
                  "dtype": "float64",
                  "stats": {
                    "unique_count": 5,
                    "nan_count": 0,
                    "min": "0.08001167156479592",
                    "max": "2.277257566000282",
                    "histogram": [
                      {
                        "bin_start": 0.08001167156479592,
                        "bin_end": 0.2997362610083445,
                        "count": 2
                      },
                      {
                        "bin_start": 0.2997362610083445,
                        "bin_end": 0.519460850451893,
                        "count": 0
                      },
                      {
                        "bin_start": 0.519460850451893,
                        "bin_end": 0.7391854398954417,
                        "count": 0
                      },
                      {
                        "bin_start": 0.7391854398954417,
                        "bin_end": 0.9589100293389903,
                        "count": 0
                      },
                      {
                        "bin_start": 0.9589100293389903,
                        "bin_end": 1.1786346187825387,
                        "count": 0
                      },
                      {
                        "bin_start": 1.1786346187825387,
                        "bin_end": 1.3983592082260874,
                        "count": 1
                      },
                      {
                        "bin_start": 1.3983592082260874,
                        "bin_end": 1.6180837976696358,
                        "count": 1
                      },
                      {
                        "bin_start": 1.6180837976696358,
                        "bin_end": 1.8378083871131845,
                        "count": 0
                      },
                      {
                        "bin_start": 1.8378083871131845,
                        "bin_end": 2.0575329765567334,
                        "count": 0
                      },
                      {
                        "bin_start": 2.0575329765567334,
                        "bin_end": 2.277257566000282,
                        "count": 1
                      }
                    ]
                  }
                },
                {
                  "name": "noise and its square",
                  "dtype": "float64",
                  "stats": {
                    "unique_count": 5,
                    "nan_count": 0,
                    "min": "-0.20285167276386734",
                    "max": "2.6813275862209975",
                    "histogram": [
                      {
                        "bin_start": -0.20285167276386734,
                        "bin_end": 0.08556625313461913,
                        "count": 1
                      },
                      {
                        "bin_start": 0.08556625313461913,
                        "bin_end": 0.3739841790331056,
                        "count": 1
                      },
                      {
                        "bin_start": 0.3739841790331056,
                        "bin_end": 0.662402104931592,
                        "count": 0
                      },
                      {
                        "bin_start": 0.662402104931592,
                        "bin_end": 0.9508200308300785,
                        "count": 2
                      },
                      {
                        "bin_start": 0.9508200308300785,
                        "bin_end": 1.239237956728565,
                        "count": 0
                      },
                      {
                        "bin_start": 1.239237956728565,
                        "bin_end": 1.5276558826270514,
                        "count": 0
                      },
                      {
                        "bin_start": 1.5276558826270514,
                        "bin_end": 1.8160738085255377,
                        "count": 0
                      },
                      {
                        "bin_start": 1.8160738085255377,
                        "bin_end": 2.1044917344240246,
                        "count": 0
                      },
                      {
                        "bin_start": 2.1044917344240246,
                        "bin_end": 2.3929096603225113,
                        "count": 0
                      },
                      {
                        "bin_start": 2.3929096603225113,
                        "bin_end": 2.6813275862209975,
                        "count": 1
                      }
                    ]
                  }
                },
                {
                  "name": "name length",
                  "dtype": "int64",
                  "stats": {
                    "unique_count": 5,
                    "nan_count": 0,
                    "min": "5",
                    "max": "13",
                    "histogram": [
                      {
                        "bin_start": 5,
                        "bin_end": 5.8,
                        "count": 1
                      },
                      {
                        "bin_start": 5.8,
                        "bin_end": 6.6,
                        "count": 1
                      },
                      {
                        "bin_start": 6.6,
                        "bin_end": 7.4,
                        "count": 1
                      },
                      {
                        "bin_start": 7.4,
                        "bin_end": 8.2,
                        "count": 1
                      },
                      {
                        "bin_start": 8.2,
                        "bin_end": 9,
                        "count": 0
                      },
                      {
                        "bin_start": 9,
                        "bin_end": 9.8,
                        "count": 0
                      },
                      {
                        "bin_start": 9.8,
                        "bin_end": 10.600000000000001,
                        "count": 0
                      },
                      {
                        "bin_start": 10.600000000000001,
                        "bin_end": 11.4,
                        "count": 0
                      },
                      {
                        "bin_start": 11.4,
                        "bin_end": 12.2,
                        "count": 0
                      },
                      {
                        "bin_start": 12.2,
                        "bin_end": 13,
                        "count": 1
                      }
                    ]
                  }
                },
                {
                  "name": "South America Logical",
                  "dtype": "bool",
                  "stats": {
                    "unique_count": 2,
                    "nan_count": 0,
                    "categories": [
                      {
                        "name": "False",
                        "count": 3
                      },
                      {
                        "name": "True",
                        "count": 2
                      }
                    ]
                  }
                },
                {
                  "name": "South America Dict",
                  "dtype": "int64",
                  "stats": {
                    "unique_count": 2,
                    "nan_count": 0,
                    "min": "0",
                    "max": "1",
                    "histogram": [
                      {
                        "bin_start": 0,
                        "bin_end": 0.1,
                        "count": 3
                      },
                      {
                        "bin_start": 0.1,
                        "bin_end": 0.2,
                        "count": 0
                      },
                      {
                        "bin_start": 0.2,
                        "bin_end": 0.30000000000000004,
                        "count": 0
                      },
                      {
                        "bin_start": 0.30000000000000004,
                        "bin_end": 0.4,
                        "count": 0
                      },
                      {
                        "bin_start": 0.4,
                        "bin_end": 0.5,
                        "count": 0
                      },
                      {
                        "bin_start": 0.5,
                        "bin_end": 0.6000000000000001,
                        "count": 0
                      },
                      {
                        "bin_start": 0.6000000000000001,
                        "bin_end": 0.7000000000000001,
                        "count": 0
                      },
                      {
                        "bin_start": 0.7000000000000001,
                        "bin_end": 0.8,
                        "count": 0
                      },
                      {
                        "bin_start": 0.8,
                        "bin_end": 0.9,
                        "count": 0
                      },
                      {
                        "bin_start": 0.9,
                        "bin_end": 1,
                        "count": 2
                      }
                    ]
                  }
                },
                {
                  "name": "South America",
                  "dtype": "int64",
                  "stats": {
                    "unique_count": 2,
                    "nan_count": 0,
                    "min": "0",
                    "max": "1",
                    "histogram": [
                      {
                        "bin_start": 0,
                        "bin_end": 0.1,
                        "count": 3
                      },
                      {
                        "bin_start": 0.1,
                        "bin_end": 0.2,
                        "count": 0
                      },
                      {
                        "bin_start": 0.2,
                        "bin_end": 0.30000000000000004,
                        "count": 0
                      },
                      {
                        "bin_start": 0.30000000000000004,
                        "bin_end": 0.4,
                        "count": 0
                      },
                      {
                        "bin_start": 0.4,
                        "bin_end": 0.5,
                        "count": 0
                      },
                      {
                        "bin_start": 0.5,
                        "bin_end": 0.6000000000000001,
                        "count": 0
                      },
                      {
                        "bin_start": 0.6000000000000001,
                        "bin_end": 0.7000000000000001,
                        "count": 0
                      },
                      {
                        "bin_start": 0.7000000000000001,
                        "bin_end": 0.8,
                        "count": 0
                      },
                      {
                        "bin_start": 0.8,
                        "bin_end": 0.9,
                        "count": 0
                      },
                      {
                        "bin_start": 0.9,
                        "bin_end": 1,
                        "count": 2
                      }
                    ]
                  }
                },
                {
                  "name": "_deepnote_index_column",
                  "dtype": "int64"
                }
              ],
              "rows": [
                {
                  "country": "Colombia",
                  "noise": 0.4691122999071863,
                  "noise_sq": 0.2200663499242099,
                  "noise and its square": 0.6891786498313962,
                  "name length": 8,
                  "South America Logical": "True",
                  "South America Dict": 1,
                  "South America": 1,
                  "_deepnote_index_column": 0
                },
                {
                  "country": "Turkey",
                  "noise": -0.2828633443286633,
                  "noise_sq": 0.08001167156479592,
                  "noise and its square": -0.20285167276386734,
                  "name length": 6,
                  "South America Logical": "False",
                  "South America Dict": 0,
                  "South America": 0,
                  "_deepnote_index_column": 1
                },
                {
                  "country": "United States",
                  "noise": -1.5090585031735124,
                  "noise_sq": 2.277257566000282,
                  "noise and its square": 0.7681990628267694,
                  "name length": 13,
                  "South America Logical": "False",
                  "South America Dict": 0,
                  "South America": 0,
                  "_deepnote_index_column": 2
                },
                {
                  "country": "Germany",
                  "noise": -1.1356323710171934,
                  "noise_sq": 1.2896608821021325,
                  "noise and its square": 0.1540285110849391,
                  "name length": 7,
                  "South America Logical": "False",
                  "South America Dict": 0,
                  "South America": 0,
                  "_deepnote_index_column": 3
                },
                {
                  "country": "Chile",
                  "noise": 1.2121120250208506,
                  "noise_sq": 1.4692155612001472,
                  "noise and its square": 2.6813275862209975,
                  "name length": 5,
                  "South America Logical": "True",
                  "South America Dict": 1,
                  "South America": 1,
                  "_deepnote_index_column": 4
                }
              ]
            },
            "text/plain": "         country     noise  noise_sq  noise and its square  name length  \\\n0       Colombia  0.469112  0.220066              0.689179            8   \n1         Turkey -0.282863  0.080012             -0.202852            6   \n2  United States -1.509059  2.277258              0.768199           13   \n3        Germany -1.135632  1.289661              0.154029            7   \n4          Chile  1.212112  1.469216              2.681328            5   \n\n   South America Logical  South America Dict  South America  \n0                   True                   1              1  \n1                  False                   0              0  \n2                  False                   0              0  \n3                  False                   0              0  \n4                   True                   1              1  ",
            "text/html": "<div>\n<style scoped>\n    .dataframe tbody tr th:only-of-type {\n        vertical-align: middle;\n    }\n\n    .dataframe tbody tr th {\n        vertical-align: top;\n    }\n\n    .dataframe thead th {\n        text-align: right;\n    }\n</style>\n<table border=\"1\" class=\"dataframe\">\n  <thead>\n    <tr style=\"text-align: right;\">\n      <th></th>\n      <th>country</th>\n      <th>noise</th>\n      <th>noise_sq</th>\n      <th>noise and its square</th>\n      <th>name length</th>\n      <th>South America Logical</th>\n      <th>South America Dict</th>\n      <th>South America</th>\n    </tr>\n  </thead>\n  <tbody>\n    <tr>\n      <th>0</th>\n      <td>Colombia</td>\n      <td>0.469112</td>\n      <td>0.220066</td>\n      <td>0.689179</td>\n      <td>8</td>\n      <td>True</td>\n      <td>1</td>\n      <td>1</td>\n    </tr>\n    <tr>\n      <th>1</th>\n      <td>Turkey</td>\n      <td>-0.282863</td>\n      <td>0.080012</td>\n      <td>-0.202852</td>\n      <td>6</td>\n      <td>False</td>\n      <td>0</td>\n      <td>0</td>\n    </tr>\n    <tr>\n      <th>2</th>\n      <td>United States</td>\n      <td>-1.509059</td>\n      <td>2.277258</td>\n      <td>0.768199</td>\n      <td>13</td>\n      <td>False</td>\n      <td>0</td>\n      <td>0</td>\n    </tr>\n    <tr>\n      <th>3</th>\n      <td>Germany</td>\n      <td>-1.135632</td>\n      <td>1.289661</td>\n      <td>0.154029</td>\n      <td>7</td>\n      <td>False</td>\n      <td>0</td>\n      <td>0</td>\n    </tr>\n    <tr>\n      <th>4</th>\n      <td>Chile</td>\n      <td>1.212112</td>\n      <td>1.469216</td>\n      <td>2.681328</td>\n      <td>5</td>\n      <td>True</td>\n      <td>1</td>\n      <td>1</td>\n    </tr>\n  </tbody>\n</table>\n</div>"
          },
          "metadata": {}
        }
      ],
      "outputs_reference": null,
      "execution_count": 70,
      "block_group": "44d995f0e8fd446488b7cf89339650bf",
      "content_dependencies": null
    },
    {
      "cell_type": "markdown",
      "source": "# <center>Exercises</center>",
      "metadata": {
        "slideshow": {
          "slide_type": "slide"
        },
        "user_expressions": [],
        "cell_id": "36ea3e7340564b03ae5ffe25e7caaf8e",
        "deepnote_cell_type": "markdown"
      },
      "block_group": "e08eef76ed3b423da62a3314d04116ee"
    },
    {
      "cell_type": "markdown",
      "source": "<div class=\"alert alert-block alert-warning\">\n<b>Exercise 0:</b> Create a new folder and notebook called <b>Intro-Data-Analysis-Pandas-Exercises</b> where you will perform all the exercises below. Make sure to copy any code you need from this notebook to that one. You will use that folder to create a new GitHub repo with the code, html, and slides as usual.\n</div>",
      "metadata": {
        "tags": [],
        "slideshow": {
          "slide_type": "subslide"
        },
        "user_expressions": [],
        "cell_id": "264de32b6d284b3e8ebc4e54def13216",
        "deepnote_cell_type": "markdown"
      },
      "block_group": "17cc6c65f0ae436ebaa28f8db001af3b"
    },
    {
      "cell_type": "markdown",
      "source": "<div class=\"alert alert-block alert-warning\">\n<b>Exercise 1:</b> Create a new dataframe <code>pop</code> with population data downloaded from <a href=\"https://en.wikipedia.org/wiki/List_of_countries_by_population_(United_Nations)\">Wikipedia</a>. Make sure to clean the data so it can be used further.\n</div>",
      "metadata": {
        "tags": [],
        "slideshow": {
          "slide_type": "fragment"
        },
        "user_expressions": [],
        "cell_id": "52255ffd2de54294a0cf62f03a91d5a5",
        "deepnote_cell_type": "markdown"
      },
      "block_group": "16a249da798149a99d3978b410948fd0"
    },
    {
      "cell_type": "markdown",
      "source": "<div class=\"alert alert-block alert-warning\">\n<b>Exercise 2:</b> Merge the <code>isocodes</code> and <code>pop</code> dataframes.\n</div>",
      "metadata": {
        "tags": [],
        "slideshow": {
          "slide_type": "fragment"
        },
        "user_expressions": [],
        "cell_id": "01a71b0ab20f4caea1b63a6002e6d3f0",
        "deepnote_cell_type": "markdown"
      },
      "block_group": "45d55ae86994437fa0c2144866d286c3"
    },
    {
      "cell_type": "markdown",
      "source": "<div class=\"alert alert-block alert-warning\">\n<b>Exercise 3:</b> Merge the dataframes we have created so far to have a unique dataframe that has ISO codes, GDP per capita, and population data.\n</div>",
      "metadata": {
        "tags": [],
        "slideshow": {
          "slide_type": "subslide"
        },
        "user_expressions": [],
        "cell_id": "086504379ca54619b5506ce891498c9f",
        "deepnote_cell_type": "markdown"
      },
      "block_group": "cc1138203edb4f4b884528707ccaed29"
    },
    {
      "cell_type": "markdown",
      "source": "<div class=\"alert alert-block alert-warning\">\n<b>Exercise 4:</b> Use the <code>os</code> package to create folders to export data and figures. \nSince you will be using the names of these folders a lot, save their names in variables called <code>path</code>, <code>pathout</code>, and <code>pathgraphs</code>, where <code>path = './data/'</code>, <code>pathout = './data/'</code>, and <code>pathgraphs = './graphs/'</code>\n</div>",
      "metadata": {
        "tags": [],
        "slideshow": {
          "slide_type": "fragment"
        },
        "user_expressions": [],
        "cell_id": "4c47b1de08504942bd51ca576b1c528a",
        "deepnote_cell_type": "markdown"
      },
      "block_group": "8a44ff98cc2441cf9a0ffa800bb25db8"
    },
    {
      "cell_type": "markdown",
      "source": "<div class=\"alert alert-block alert-warning\">\n    <b>Exercise 5:</b> Save the dataframe created in Exercise 3 as a <b>CSV, XLSX, and Stata</b> file into the <code>pathout</code> folder. Use a variable called <code>filename = 'Wiki_Data'</code> so you can use similar code to save all file types. Notice only the filetype will change. \n    <b>Hint:</b> If you get econding errors for Stata, use the keyword <code>version=118</code> inside the <code>to_stata</code> function.\n</div>",
      "metadata": {
        "tags": [],
        "slideshow": {
          "slide_type": "fragment"
        },
        "user_expressions": [],
        "cell_id": "3ca158bfaa5d417781ae774c793b8f76",
        "deepnote_cell_type": "markdown"
      },
      "block_group": "cea2bf76a224426eb0ab08eda11c6b56"
    },
    {
      "cell_type": "markdown",
      "source": "<div class=\"alert alert-block alert-warning\">\n<b>Exercise 6:</b> Create plots showing the relation between GDP per capita and Population. Create all 4 types of possible regression plots (levels-levels, levels-logs, logs-levels, logs-logs) and save them as <b> PNG, PDF, and JPG</b> files. Make sure to save them in the folder you created for <b>graphs</b>\n</div>",
      "metadata": {
        "tags": [],
        "slideshow": {
          "slide_type": "subslide"
        },
        "user_expressions": [],
        "cell_id": "de0fea3366fc4694acd0d2b29ee29ebc",
        "deepnote_cell_type": "markdown"
      },
      "block_group": "30d3b2403ac142ab97926ec269095a17"
    },
    {
      "cell_type": "markdown",
      "source": "<div class=\"alert alert-block alert-warning\">\n<b>Exercise 7:</b> Create plots showing the relation between GDP per capita and Population Growth. Create all 4 types of possible regression plots (levels-levels, levels-logs, logs-levels, logs-logs) and save them as <b> PNG, PDF, and JPG</b> files. Make sure to save them in the folder you created for <b>graphs</b>\n</div>",
      "metadata": {
        "tags": [],
        "slideshow": {
          "slide_type": "fragment"
        },
        "user_expressions": [],
        "cell_id": "d483a80b28484ccc97d15ff0465f1c77",
        "deepnote_cell_type": "markdown"
      },
      "block_group": "d6f6c27a65f248dbb32a2c7f2f670b46"
    },
    {
      "cell_type": "markdown",
      "source": "Notebook written by [Ömer Özak](http://omerozak.com) for his students and anyone wanting to learn. Feel free to use, distribute, or contribute.",
      "metadata": {
        "tags": [],
        "slideshow": {
          "slide_type": "slide"
        },
        "user_expressions": [],
        "cell_id": "66b67bce4a20459095b3487d63203581",
        "deepnote_cell_type": "markdown"
      },
      "block_group": "71ea32b4307c4356bac45df1fb97a111"
    },
    {
      "cell_type": "markdown",
      "source": "[<center><img src=\"https://github.com/measuring-culture/Expanding-Measurement-Culture-Facebook-JRSI/blob/main/pics/SMUlogowWordmarkRB.jpg?raw=true\" width=\"250\"></center>](http://omerozak.com)",
      "metadata": {
        "tags": [],
        "slideshow": {
          "slide_type": "-"
        },
        "user_expressions": [],
        "cell_id": "e3b79476c8984874bc744970a33808d0",
        "deepnote_cell_type": "markdown"
      },
      "block_group": "4c0823d56c3542aa8a575c2c5a84e82c"
    },
    {
      "cell_type": "markdown",
      "source": "<a style='text-decoration:none;line-height:16px;display:flex;color:#5B5B62;padding:10px;justify-content:end;' href='https://deepnote.com?utm_source=created-in-deepnote-cell&projectId=09d7a592-44de-45cd-8405-cff90bcdfaae' target=\"_blank\">\n<img alt='Created in deepnote.com' style='display:inline;max-height:16px;margin:0px;margin-right:7.5px;' src='data:image/svg+xml;base64,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' > </img>\nCreated in <span style='font-weight:600;margin-left:4px;'>Deepnote</span></a>",
      "metadata": {
        "created_in_deepnote_cell": true,
        "deepnote_cell_type": "markdown"
      }
    }
  ],
  "nbformat": 4,
  "nbformat_minor": 0,
  "metadata": {
    "deepnote_persisted_session": {
      "createdAt": "2024-06-12T17:00:47.044Z"
    },
    "deepnote_notebook_id": "7b3bbfdad3484608a9b216352bc0e2b7",
    "deepnote_execution_queue": []
  }
}