{
  "cells": [
    {
      "cell_type": "markdown",
      "source": "# <center>Introduction to <img src=\"https://www.python.org/static/community_logos/python-logo-inkscape.svg\" alt=\"Python\" width=300/> and <img src=\"https://ipython.org/_static/IPy_header.png\" alt=\"IPython\" width=300/> using <img src=\"https://raw.githubusercontent.com/SMU-Econ-Growth/EconGrowthUG-Notebooks/f432ff2bc8a9dedb01d67399bf526ed1b5c69964//pics/jupyter-logo.png\" alt=\"Jupyter\" width=300/> or <img src=\"https://mms.businesswire.com/media/20220526005103/en/1467491/5/deepnote-logo.jpg\" alt=\"Jupyter\" width=300/></center>",
      "metadata": {
        "tags": [],
        "slideshow": {
          "slide_type": "slide"
        },
        "user_expressions": [],
        "cell_id": "481e98cf774f48b6b6eebd5d29cbf7fb",
        "deepnote_cell_type": "markdown"
      },
      "block_group": "481e98cf774f48b6b6eebd5d29cbf7fb"
    },
    {
      "cell_type": "markdown",
      "source": "# Functions",
      "metadata": {
        "tags": [],
        "cell_id": "3d110fc11a07449bb202972ad7c5edda",
        "slideshow": {
          "slide_type": "slide"
        },
        "user_expressions": [],
        "deepnote_cell_type": "markdown"
      },
      "block_group": "3d110fc11a07449bb202972ad7c5edda"
    },
    {
      "cell_type": "markdown",
      "source": "Many times we need to perform computations or things Python does not know how to do natively. ",
      "metadata": {
        "cell_id": "fcea36dfed58419198a7588bc00bbe00",
        "slideshow": {
          "slide_type": "fragment"
        },
        "user_expressions": [],
        "deepnote_cell_type": "markdown"
      },
      "block_group": "fcea36dfed58419198a7588bc00bbe00"
    },
    {
      "cell_type": "markdown",
      "source": "Other times, we want the same piece of code to work with other inputs (data, values, etc.)",
      "metadata": {
        "cell_id": "173fba4636024814b6622280855cfaf9",
        "slideshow": {
          "slide_type": "fragment"
        },
        "user_expressions": [],
        "deepnote_cell_type": "markdown"
      },
      "block_group": "173fba4636024814b6622280855cfaf9"
    },
    {
      "cell_type": "markdown",
      "source": "What can we do?",
      "metadata": {
        "cell_id": "fb90d901b6fb49d085199af9bd32808f",
        "slideshow": {
          "slide_type": "fragment"
        },
        "user_expressions": [],
        "deepnote_cell_type": "markdown"
      },
      "block_group": "fb90d901b6fb49d085199af9bd32808f"
    },
    {
      "cell_type": "markdown",
      "source": "### Solution: Write a function",
      "metadata": {
        "tags": [],
        "cell_id": "4ab09074efe44cae8147b128aaa55e76",
        "slideshow": {
          "slide_type": "subslide"
        },
        "user_expressions": [],
        "deepnote_cell_type": "markdown"
      },
      "block_group": "4ab09074efe44cae8147b128aaa55e76"
    },
    {
      "cell_type": "markdown",
      "source": "There are two ways of defining functions in Python:",
      "metadata": {
        "cell_id": "9134f002ef3946ee95fc4da528784958",
        "slideshow": {
          "slide_type": "fragment"
        },
        "user_expressions": [],
        "deepnote_cell_type": "markdown"
      },
      "block_group": "9134f002ef3946ee95fc4da528784958"
    },
    {
      "cell_type": "markdown",
      "source": "1. Using *anonymous functions* via the `lambda` notation:\n```python\nmy_function = lambda x: some_computations_based_on_x\n```  ",
      "metadata": {
        "tags": [],
        "cell_id": "e718d90ddfbc40948e55238563038787",
        "slideshow": {
          "slide_type": "fragment"
        },
        "user_expressions": [],
        "deepnote_cell_type": "markdown"
      },
      "block_group": "e718d90ddfbc40948e55238563038787"
    },
    {
      "cell_type": "markdown",
      "source": "* `lambda` notation is useful to create functions on the go, especially when passing a function to others. We'll see examples and use it quite a bit later when we go into data analyses.",
      "metadata": {
        "tags": [],
        "cell_id": "a39e113849e8436b92726b6a699a0440",
        "slideshow": {
          "slide_type": "fragment"
        },
        "user_expressions": [],
        "deepnote_cell_type": "markdown"
      },
      "block_group": "a39e113849e8436b92726b6a699a0440"
    },
    {
      "cell_type": "markdown",
      "source": "* A `lambda` function can take any number of arguments, but can only have one expression, i.e., you cannot perform complex computations.",
      "metadata": {
        "tags": [],
        "cell_id": "7f9fc3c253c943459c65b01903506e4f",
        "slideshow": {
          "slide_type": "fragment"
        },
        "user_expressions": [],
        "deepnote_cell_type": "markdown"
      },
      "block_group": "7f9fc3c253c943459c65b01903506e4f"
    },
    {
      "cell_type": "markdown",
      "source": "2. Using the `def` statement:\n```python\ndef my_function(x, y, z=Z):\n    '''\n    Explanation of what the function does\n    What are the inputs:\n    x: variable to be passed\n    y: variable to be passed\n    z: variable to be passed, Z is the default value\n    '''\n    perform_computations\n    return some_value_or_computation\n```",
      "metadata": {
        "cell_id": "4799ae2375304a12a7444e13249d6c0a",
        "slideshow": {
          "slide_type": "subslide"
        },
        "user_expressions": [],
        "deepnote_cell_type": "markdown"
      },
      "block_group": "4799ae2375304a12a7444e13249d6c0a"
    },
    {
      "cell_type": "markdown",
      "source": "* Functions defined with the `def` statement can take any number of arguments, assign default values to them, and can have as many expressions as needed.",
      "metadata": {
        "tags": [],
        "cell_id": "0b5eaafb4be7453da5369bb0c5f677ce",
        "slideshow": {
          "slide_type": "subslide"
        },
        "user_expressions": [],
        "deepnote_cell_type": "markdown"
      },
      "block_group": "0b5eaafb4be7453da5369bb0c5f677ce"
    },
    {
      "cell_type": "markdown",
      "source": "<div class=\"alert alert-block alert-info\">\n    <b>Note:</b> There is special horizontal spacing below the line that starts with <code>def</code> and all lines below it are aligned in the <code>def</code> statement. This is similar to the other statements we have seen so far.\n</div>",
      "metadata": {
        "tags": [],
        "cell_id": "72ddb8ad332d4cc7ba2a4d15bca92360",
        "slideshow": {
          "slide_type": "fragment"
        },
        "user_expressions": [],
        "deepnote_cell_type": "markdown"
      },
      "block_group": "72ddb8ad332d4cc7ba2a4d15bca92360"
    },
    {
      "cell_type": "markdown",
      "source": "# Example",
      "metadata": {
        "cell_id": "aa1ebfb00490479dbd35056a2a0ee48d",
        "slideshow": {
          "slide_type": "subslide"
        },
        "deepnote_cell_type": "markdown"
      },
      "block_group": "aa1ebfb00490479dbd35056a2a0ee48d"
    },
    {
      "cell_type": "markdown",
      "source": "Let's create a function that computes the square of a number. Let's do it first using an anonymous function.",
      "metadata": {
        "tags": [],
        "cell_id": "e79cad4d586d47fcb08b6730be8233de",
        "slideshow": {
          "slide_type": "fragment"
        },
        "user_expressions": [],
        "deepnote_cell_type": "markdown"
      },
      "block_group": "e79cad4d586d47fcb08b6730be8233de"
    },
    {
      "cell_type": "code",
      "source": "my_square = lambda x: x**2",
      "metadata": {
        "cell_id": "3eecfb099d4840fcad23a1b7f8600162",
        "slideshow": {
          "slide_type": "fragment"
        },
        "source_hash": null,
        "execution_start": 1698261064004,
        "execution_millis": 34,
        "deepnote_to_be_reexecuted": false,
        "deepnote_cell_type": "code"
      },
      "outputs": [],
      "execution_count": null,
      "block_group": "3eecfb099d4840fcad23a1b7f8600162"
    },
    {
      "cell_type": "code",
      "source": "my_square(4)",
      "metadata": {
        "cell_id": "5f1ae41b226d413fa65580700a43c694",
        "slideshow": {
          "slide_type": "fragment"
        },
        "source_hash": null,
        "execution_start": 1698261064008,
        "execution_millis": 42,
        "deepnote_to_be_reexecuted": false,
        "deepnote_cell_type": "code"
      },
      "outputs": [
        {
          "output_type": "execute_result",
          "execution_count": 2,
          "data": {
            "text/plain": "16"
          },
          "metadata": {}
        }
      ],
      "execution_count": null,
      "block_group": "5f1ae41b226d413fa65580700a43c694"
    },
    {
      "cell_type": "code",
      "source": "my_square(9)",
      "metadata": {
        "cell_id": "4a33ca3dbb5c41e3a6e4a563c7a13cfd",
        "slideshow": {
          "slide_type": "fragment"
        },
        "source_hash": null,
        "execution_start": 1698261064014,
        "execution_millis": 43,
        "deepnote_to_be_reexecuted": false,
        "deepnote_cell_type": "code"
      },
      "outputs": [
        {
          "output_type": "execute_result",
          "execution_count": 3,
          "data": {
            "text/plain": "81"
          },
          "metadata": {}
        }
      ],
      "execution_count": null,
      "block_group": "4a33ca3dbb5c41e3a6e4a563c7a13cfd"
    },
    {
      "cell_type": "markdown",
      "source": "Now, let's create the same function using the `def` statement, which we will call create/write a function as opposed to an anonymous function.",
      "metadata": {
        "tags": [],
        "cell_id": "d187205a0be447719e3af1b5e3246fcc",
        "slideshow": {
          "slide_type": "subslide"
        },
        "user_expressions": [],
        "deepnote_cell_type": "markdown"
      },
      "block_group": "d187205a0be447719e3af1b5e3246fcc"
    },
    {
      "cell_type": "code",
      "source": "def my_square_fn(x):\n    '''\n    This function take an input x and return x^2.\n    Parameters:\n    -----------\n    x: float, integer or any other number\n    \n    Returns:\n    --------\n    out = x**2\n    \n    Example:\n    >>> out = my_square_fn(4)\n    >>> out\n        16\n    '''\n    return x**2",
      "metadata": {
        "cell_id": "b828d794fb8842169162a442b6e932f2",
        "slideshow": {
          "slide_type": "fragment"
        },
        "source_hash": null,
        "execution_start": 1698261064024,
        "execution_millis": 46,
        "deepnote_to_be_reexecuted": false,
        "deepnote_cell_type": "code"
      },
      "outputs": [],
      "execution_count": null,
      "block_group": "b828d794fb8842169162a442b6e932f2"
    },
    {
      "cell_type": "code",
      "source": "my_square_fn(4)",
      "metadata": {
        "cell_id": "37c19d0b7c5f4293b5dc8d72ce071ebf",
        "slideshow": {
          "slide_type": "subslide"
        },
        "source_hash": null,
        "execution_start": 1698261064066,
        "execution_millis": 37,
        "deepnote_to_be_reexecuted": false,
        "deepnote_cell_type": "code"
      },
      "outputs": [
        {
          "output_type": "execute_result",
          "execution_count": 5,
          "data": {
            "text/plain": "16"
          },
          "metadata": {}
        }
      ],
      "execution_count": null,
      "block_group": "37c19d0b7c5f4293b5dc8d72ce071ebf"
    },
    {
      "cell_type": "code",
      "source": "my_square_fn?",
      "metadata": {
        "cell_id": "1efa85387337445d866146b41068df22",
        "slideshow": {
          "slide_type": "fragment"
        },
        "source_hash": null,
        "execution_start": 1698261064067,
        "execution_millis": 72,
        "deepnote_to_be_reexecuted": false,
        "deepnote_cell_type": "code"
      },
      "outputs": [
        {
          "name": "stdout",
          "text": "\u001b[0;31mSignature:\u001b[0m \u001b[0mmy_square_fn\u001b[0m\u001b[0;34m(\u001b[0m\u001b[0mx\u001b[0m\u001b[0;34m)\u001b[0m\u001b[0;34m\u001b[0m\u001b[0;34m\u001b[0m\u001b[0m\n\u001b[0;31mDocstring:\u001b[0m\nThis function take an input x and return x^2.\nParameters:\n-----------\nx: float, integer or any other number\n\nReturns:\n--------\nout = x**2\n\nExample:\n>>> out = my_square_fn(4)\n>>> out\n    16\n\u001b[0;31mFile:\u001b[0m      /tmp/ipykernel_159/4242559727.py\n\u001b[0;31mType:\u001b[0m      function\n\n",
          "output_type": "stream"
        }
      ],
      "execution_count": null,
      "block_group": "1efa85387337445d866146b41068df22"
    },
    {
      "cell_type": "markdown",
      "source": "# Some useful functions in Python",
      "metadata": {
        "tags": [],
        "cell_id": "46c4a25236e848d7bddbb5ab87ef0bfc",
        "slideshow": {
          "slide_type": "slide"
        },
        "user_expressions": [],
        "deepnote_cell_type": "markdown"
      },
      "block_group": "46c4a25236e848d7bddbb5ab87ef0bfc"
    },
    {
      "cell_type": "markdown",
      "source": "* `range(from, to, step)` creates a sequence of numbers from `from` to `to` increasing by `step`",
      "metadata": {
        "tags": [],
        "cell_id": "faf8312cabde4345b410a2825f6dfab9",
        "slideshow": {
          "slide_type": "subslide"
        },
        "user_expressions": [],
        "deepnote_cell_type": "markdown"
      },
      "block_group": "faf8312cabde4345b410a2825f6dfab9"
    },
    {
      "cell_type": "code",
      "source": "list(range(2, 20, 3))",
      "metadata": {
        "cell_id": "52b9a7af73cc40058136315fb8cfb872",
        "slideshow": {
          "slide_type": "fragment"
        },
        "source_hash": null,
        "execution_start": 1698261064146,
        "execution_millis": 68,
        "deepnote_to_be_reexecuted": false,
        "deepnote_cell_type": "code"
      },
      "outputs": [
        {
          "output_type": "execute_result",
          "execution_count": 7,
          "data": {
            "text/plain": "[2, 5, 8, 11, 14, 17]"
          },
          "metadata": {}
        }
      ],
      "execution_count": null,
      "block_group": "52b9a7af73cc40058136315fb8cfb872"
    },
    {
      "cell_type": "code",
      "source": "list(range(5))",
      "metadata": {
        "cell_id": "b0cc27b6429e40ee96cd946920007865",
        "slideshow": {
          "slide_type": "fragment"
        },
        "source_hash": null,
        "execution_start": 1698261064147,
        "execution_millis": 49,
        "deepnote_to_be_reexecuted": false,
        "deepnote_cell_type": "code"
      },
      "outputs": [
        {
          "output_type": "execute_result",
          "execution_count": 8,
          "data": {
            "text/plain": "[0, 1, 2, 3, 4]"
          },
          "metadata": {}
        }
      ],
      "execution_count": null,
      "block_group": "b0cc27b6429e40ee96cd946920007865"
    },
    {
      "cell_type": "markdown",
      "source": "* `print(string)` prints a string",
      "metadata": {
        "tags": [],
        "cell_id": "8362f550a01b47c995ceb9653862b1bd",
        "slideshow": {
          "slide_type": "subslide"
        },
        "user_expressions": [],
        "deepnote_cell_type": "markdown"
      },
      "block_group": "8362f550a01b47c995ceb9653862b1bd"
    },
    {
      "cell_type": "code",
      "source": "print('The square of 100 is', my_square(100))\nprint('The square of 100 is ' + str(my_square(100)))",
      "metadata": {
        "cell_id": "0e93bd2a70aa4452b7ed9cee42cf34bf",
        "slideshow": {
          "slide_type": "fragment"
        },
        "source_hash": null,
        "execution_start": 1698261064148,
        "execution_millis": 23,
        "deepnote_to_be_reexecuted": false,
        "deepnote_cell_type": "code"
      },
      "outputs": [
        {
          "name": "stdout",
          "text": "The square of 100 is 10000\nThe square of 100 is 10000\n",
          "output_type": "stream"
        }
      ],
      "execution_count": null,
      "block_group": "0e93bd2a70aa4452b7ed9cee42cf34bf"
    },
    {
      "cell_type": "markdown",
      "source": "* `len(x)` returns the length of element `x`",
      "metadata": {
        "tags": [],
        "cell_id": "db351483febf48d4b49ab0873d21b180",
        "slideshow": {
          "slide_type": "subslide"
        },
        "user_expressions": [],
        "deepnote_cell_type": "markdown"
      },
      "block_group": "db351483febf48d4b49ab0873d21b180"
    },
    {
      "cell_type": "code",
      "source": "len(range(100))",
      "metadata": {
        "cell_id": "3a3759ea677b4c87835490c23630cc51",
        "slideshow": {
          "slide_type": "fragment"
        },
        "source_hash": null,
        "execution_start": 1698261064151,
        "execution_millis": 66,
        "deepnote_to_be_reexecuted": false,
        "deepnote_cell_type": "code"
      },
      "outputs": [
        {
          "output_type": "execute_result",
          "execution_count": 10,
          "data": {
            "text/plain": "100"
          },
          "metadata": {}
        }
      ],
      "execution_count": null,
      "block_group": "3a3759ea677b4c87835490c23630cc51"
    },
    {
      "cell_type": "code",
      "source": "len('Some random string ndsyafsdasdwne')",
      "metadata": {
        "cell_id": "84dc7cd4d1a74305844c16e3f1d747a0",
        "slideshow": {
          "slide_type": "fragment"
        },
        "source_hash": null,
        "execution_start": 1698261064158,
        "execution_millis": 14,
        "deepnote_to_be_reexecuted": false,
        "deepnote_cell_type": "code"
      },
      "outputs": [
        {
          "output_type": "execute_result",
          "execution_count": 11,
          "data": {
            "text/plain": "33"
          },
          "metadata": {}
        }
      ],
      "execution_count": null,
      "block_group": "84dc7cd4d1a74305844c16e3f1d747a0"
    },
    {
      "cell_type": "markdown",
      "source": "* `type(x)` returns the type of `x`",
      "metadata": {
        "tags": [],
        "cell_id": "6c7cd6137bf548409a3875a8b5d8033b",
        "slideshow": {
          "slide_type": "subslide"
        },
        "user_expressions": [],
        "deepnote_cell_type": "markdown"
      },
      "block_group": "6c7cd6137bf548409a3875a8b5d8033b"
    },
    {
      "cell_type": "code",
      "source": "type('hello')",
      "metadata": {
        "cell_id": "e492d5c01fae45e9b939d32a0caaf970",
        "slideshow": {
          "slide_type": "fragment"
        },
        "source_hash": null,
        "execution_start": 1698261064233,
        "execution_millis": 53,
        "deepnote_to_be_reexecuted": false,
        "deepnote_cell_type": "code"
      },
      "outputs": [
        {
          "output_type": "execute_result",
          "execution_count": 12,
          "data": {
            "text/plain": "str"
          },
          "metadata": {}
        }
      ],
      "execution_count": null,
      "block_group": "e492d5c01fae45e9b939d32a0caaf970"
    },
    {
      "cell_type": "code",
      "source": "type(3.1415)",
      "metadata": {
        "cell_id": "5ad90d2bc26246ab9dc5809e51049b7c",
        "slideshow": {
          "slide_type": "fragment"
        },
        "source_hash": null,
        "execution_start": 1698261064234,
        "execution_millis": 22,
        "deepnote_to_be_reexecuted": false,
        "deepnote_cell_type": "code"
      },
      "outputs": [
        {
          "output_type": "execute_result",
          "execution_count": 13,
          "data": {
            "text/plain": "float"
          },
          "metadata": {}
        }
      ],
      "execution_count": null,
      "block_group": "5ad90d2bc26246ab9dc5809e51049b7c"
    },
    {
      "cell_type": "code",
      "source": "type(10)",
      "metadata": {
        "cell_id": "20b2b2b3f52c45fc95debf6542a6150d",
        "slideshow": {
          "slide_type": "fragment"
        },
        "source_hash": null,
        "execution_start": 1698261064235,
        "execution_millis": 21,
        "deepnote_to_be_reexecuted": false,
        "deepnote_cell_type": "code"
      },
      "outputs": [
        {
          "output_type": "execute_result",
          "execution_count": 14,
          "data": {
            "text/plain": "int"
          },
          "metadata": {}
        }
      ],
      "execution_count": null,
      "block_group": "20b2b2b3f52c45fc95debf6542a6150d"
    },
    {
      "cell_type": "code",
      "source": "type([1, 'a', 3])",
      "metadata": {
        "cell_id": "27468fd858884f93a30a89dda42a5f86",
        "slideshow": {
          "slide_type": "fragment"
        },
        "source_hash": null,
        "execution_start": 1698261064240,
        "execution_millis": 48,
        "deepnote_to_be_reexecuted": false,
        "deepnote_cell_type": "code"
      },
      "outputs": [
        {
          "output_type": "execute_result",
          "execution_count": 15,
          "data": {
            "text/plain": "list"
          },
          "metadata": {}
        }
      ],
      "execution_count": null,
      "block_group": "27468fd858884f93a30a89dda42a5f86"
    },
    {
      "cell_type": "markdown",
      "source": "## But what if Python does not have the function we need?",
      "metadata": {
        "cell_id": "0b11036a9895421cbd84260da68a8d0e",
        "slideshow": {
          "slide_type": "slide"
        },
        "user_expressions": [],
        "deepnote_cell_type": "markdown"
      },
      "block_group": "0b11036a9895421cbd84260da68a8d0e"
    },
    {
      "cell_type": "markdown",
      "source": "## Do we need to write all the functions?",
      "metadata": {
        "tags": [],
        "cell_id": "a3e6cad2f19a4d40a623c2bcf5ceea07",
        "slideshow": {
          "slide_type": "fragment"
        },
        "user_expressions": [],
        "deepnote_cell_type": "markdown"
      },
      "block_group": "a3e6cad2f19a4d40a623c2bcf5ceea07"
    },
    {
      "cell_type": "markdown",
      "source": "## Luckily...No",
      "metadata": {
        "tags": [],
        "cell_id": "8440cdc075f04ccd925026fc73734504",
        "slideshow": {
          "slide_type": "fragment"
        },
        "user_expressions": [],
        "deepnote_cell_type": "markdown"
      },
      "block_group": "8440cdc075f04ccd925026fc73734504"
    },
    {
      "cell_type": "markdown",
      "source": "# Extending Python's Functionality with Packages",
      "metadata": {
        "tags": [],
        "cell_id": "1aa9ed6122884e7a8da02a66da2608b6",
        "slideshow": {
          "slide_type": "slide"
        },
        "user_expressions": [],
        "deepnote_cell_type": "markdown"
      },
      "block_group": "1aa9ed6122884e7a8da02a66da2608b6"
    },
    {
      "cell_type": "markdown",
      "source": "One of the reasons people like Python is that there are lots of ready to use functions and solutions out there\n\n<center><img src=\"https://github.com/SMU-Econ-Growth/EconGrowthUG-Notebooks/blob/main/pics/X-files-truth-is-out-there.jpg?raw=true\" alt=\"X-files\" width=50%/></center>",
      "metadata": {
        "tags": [],
        "cell_id": "64d78d788f9040b3ac3613a250d96df5",
        "slideshow": {
          "slide_type": "fragment"
        },
        "user_expressions": [],
        "deepnote_cell_type": "markdown"
      },
      "block_group": "64d78d788f9040b3ac3613a250d96df5"
    },
    {
      "cell_type": "markdown",
      "source": "In order to use a package/module in Python or IPython, say `mypackage`, you need to import it, by executing\n```python\nimport mypackage\n```",
      "metadata": {
        "cell_id": "c8245c71921a46c098bfd081e7aab5c1",
        "slideshow": {
          "slide_type": "subslide"
        },
        "user_expressions": [],
        "deepnote_cell_type": "markdown"
      },
      "block_group": "c8245c71921a46c098bfd081e7aab5c1"
    },
    {
      "cell_type": "markdown",
      "source": "After executing this command, you will have access to the functions and objects defined in `mypackage`. \nFor example, if `mypackage` has a function `squared` that takes a real number `x` and computes its square, \nwe can use this function by calling `mypackage.squared(x)`. ",
      "metadata": {
        "cell_id": "7d4a57beffb54496a3f5bcba6788910c",
        "slideshow": {
          "slide_type": "fragment"
        },
        "user_expressions": [],
        "deepnote_cell_type": "markdown"
      },
      "block_group": "7d4a57beffb54496a3f5bcba6788910c"
    },
    {
      "cell_type": "markdown",
      "source": "Since the name of some packages might be too long, your can give them a nickname by importing them instead as\n```python    \nimport mypackage as myp\n```\nso now we could compute the square of `x` by calling `myp.squared(x)`.",
      "metadata": {
        "tags": [],
        "cell_id": "960afdf107f84afb84e6b06259bb41be",
        "slideshow": {
          "slide_type": "subslide"
        },
        "user_expressions": [],
        "deepnote_cell_type": "markdown"
      },
      "block_group": "960afdf107f84afb84e6b06259bb41be"
    },
    {
      "cell_type": "markdown",
      "source": "Sometimes we want to import only a function or a subpackage, in which case we use\n```python\nfrom mypackage import mysubpackage as mysp\nfrom mypackage import function\n```",
      "metadata": {
        "tags": [],
        "cell_id": "fc95b91b613a46aaa62af659d2852470",
        "slideshow": {
          "slide_type": "subslide"
        },
        "user_expressions": [],
        "deepnote_cell_type": "markdown"
      },
      "block_group": "fc95b91b613a46aaa62af659d2852470"
    },
    {
      "cell_type": "markdown",
      "source": "We will use various packages that will be useful to do computations, statistics, plots, data management, etc.",
      "metadata": {
        "tags": [],
        "cell_id": "b760d0c44db148c1a1e34521c4ccff6a",
        "slideshow": {
          "slide_type": "fragment"
        },
        "user_expressions": [],
        "deepnote_cell_type": "markdown"
      },
      "block_group": "b760d0c44db148c1a1e34521c4ccff6a"
    },
    {
      "cell_type": "markdown",
      "source": "# Managing the Operating System with os",
      "metadata": {
        "cell_id": "781a767c58fd45e2aaec95611190a6ec",
        "slideshow": {
          "slide_type": "slide"
        },
        "deepnote_cell_type": "markdown"
      },
      "block_group": "781a767c58fd45e2aaec95611190a6ec"
    },
    {
      "cell_type": "markdown",
      "source": "[os](https://docs.python.org/3/library/os.html) is the fundamental module to interact with your computer's operating system.",
      "metadata": {
        "cell_id": "328f2d53f5a84052a1061561b085275d",
        "slideshow": {
          "slide_type": "fragment"
        },
        "deepnote_cell_type": "markdown"
      },
      "block_group": "328f2d53f5a84052a1061561b085275d"
    },
    {
      "cell_type": "markdown",
      "source": "With `os` you can:",
      "metadata": {
        "cell_id": "5d3d17fbe2d14680b1d7b5bdbfabfc15",
        "slideshow": {
          "slide_type": "subslide"
        },
        "deepnote_cell_type": "markdown"
      },
      "block_group": "5d3d17fbe2d14680b1d7b5bdbfabfc15"
    },
    {
      "cell_type": "markdown",
      "source": "* Get environment variables",
      "metadata": {
        "cell_id": "467ce93705364f50b6b455ae9a5b3cca",
        "slideshow": {
          "slide_type": "fragment"
        },
        "deepnote_cell_type": "markdown"
      },
      "block_group": "467ce93705364f50b6b455ae9a5b3cca"
    },
    {
      "cell_type": "markdown",
      "source": "* Verify if a file or directory exists",
      "metadata": {
        "cell_id": "f636e6e95ef54706aab871f4cff02117",
        "slideshow": {
          "slide_type": "fragment"
        },
        "deepnote_cell_type": "markdown"
      },
      "block_group": "f636e6e95ef54706aab871f4cff02117"
    },
    {
      "cell_type": "markdown",
      "source": "* Change directories",
      "metadata": {
        "cell_id": "a24dda3459ee425b9fc57ba098e3ca52",
        "slideshow": {
          "slide_type": "fragment"
        },
        "deepnote_cell_type": "markdown"
      },
      "block_group": "a24dda3459ee425b9fc57ba098e3ca52"
    },
    {
      "cell_type": "markdown",
      "source": "* Create a file or directory",
      "metadata": {
        "cell_id": "59f0f5d5b9254c1cbf3839dd1b0d0e61",
        "slideshow": {
          "slide_type": "fragment"
        },
        "deepnote_cell_type": "markdown"
      },
      "block_group": "59f0f5d5b9254c1cbf3839dd1b0d0e61"
    },
    {
      "cell_type": "markdown",
      "source": "* Delete files or directories",
      "metadata": {
        "cell_id": "65e0dc900f52442cac7d612c146d5c9d",
        "slideshow": {
          "slide_type": "fragment"
        },
        "deepnote_cell_type": "markdown"
      },
      "block_group": "65e0dc900f52442cac7d612c146d5c9d"
    },
    {
      "cell_type": "code",
      "source": "import os",
      "metadata": {
        "cell_id": "52d49c2f43fd45ad89e04c258999af6d",
        "slideshow": {
          "slide_type": "subslide"
        },
        "source_hash": null,
        "execution_start": 1698261064249,
        "execution_millis": 23,
        "deepnote_to_be_reexecuted": false,
        "deepnote_cell_type": "code"
      },
      "outputs": [],
      "execution_count": null,
      "block_group": "52d49c2f43fd45ad89e04c258999af6d"
    },
    {
      "cell_type": "markdown",
      "source": "### Get the home directory of current user",
      "metadata": {
        "cell_id": "628ada4bd7524d269a94297c69de78cf",
        "slideshow": {
          "slide_type": "fragment"
        },
        "deepnote_cell_type": "markdown"
      },
      "block_group": "628ada4bd7524d269a94297c69de78cf"
    },
    {
      "cell_type": "code",
      "source": "os.getenv('HOME')",
      "metadata": {
        "slideshow": {
          "slide_type": "-"
        },
        "source_hash": null,
        "execution_start": 1698261064294,
        "execution_millis": 53,
        "deepnote_to_be_reexecuted": false,
        "cell_id": "d5af038aecf24a7f9185d67f9adcf87d",
        "deepnote_cell_type": "code"
      },
      "outputs": [
        {
          "output_type": "execute_result",
          "execution_count": 17,
          "data": {
            "text/plain": "'/root'"
          },
          "metadata": {}
        }
      ],
      "execution_count": null,
      "block_group": "d5af038aecf24a7f9185d67f9adcf87d"
    },
    {
      "cell_type": "markdown",
      "source": "### Verify if `pics` directory exists",
      "metadata": {
        "cell_id": "a318e5e76cc346e89efc024267064846",
        "slideshow": {
          "slide_type": "subslide"
        },
        "deepnote_cell_type": "markdown"
      },
      "block_group": "a318e5e76cc346e89efc024267064846"
    },
    {
      "cell_type": "code",
      "source": "os.path.exists('pics')",
      "metadata": {
        "cell_id": "4d201042a6964c92a1ea70e52bf8d7dd",
        "slideshow": {
          "slide_type": "-"
        },
        "source_hash": null,
        "execution_start": 1698261064294,
        "execution_millis": 66,
        "deepnote_to_be_reexecuted": false,
        "deepnote_cell_type": "code"
      },
      "outputs": [
        {
          "output_type": "execute_result",
          "execution_count": 18,
          "data": {
            "text/plain": "True"
          },
          "metadata": {}
        }
      ],
      "execution_count": null,
      "block_group": "4d201042a6964c92a1ea70e52bf8d7dd"
    },
    {
      "cell_type": "markdown",
      "source": "### Check if directory  `data` exists, otherwise create it",
      "metadata": {
        "cell_id": "159cf738aaf3412786ea0d470fe0af05",
        "deepnote_cell_type": "markdown"
      },
      "block_group": "6b4179a4b45a4ebc958910c82dd96f89"
    },
    {
      "cell_type": "code",
      "source": "pathout = './data'\nif os.path.exists(pathout) == False:\n    os.mkdir(pathout)",
      "metadata": {
        "cell_id": "b6afe6d9dcc54397b655d6aee91bfd6c",
        "deepnote_cell_type": "code"
      },
      "outputs": [],
      "execution_count": null,
      "block_group": "ae1ea2f12f6843c6b77fd88a7f4cb2d2"
    },
    {
      "cell_type": "markdown",
      "source": "## Embedding websites or iframes or videos",
      "metadata": {
        "cell_id": "3e98e76ef71f42418eb380de830e75ca",
        "deepnote_cell_type": "markdown"
      },
      "block_group": "8a40435655e1485da6b4aceb5de18778"
    },
    {
      "cell_type": "markdown",
      "source": "```python \nfrom IPython.display import IFrame\n\n# Replace 'your_iframe_url' with the actual URL of your iframe\niframe_url = 'your_iframe_url'\n\n# Create an IFrame with specified width and height\niframe = IFrame(iframe_url, width=600, height=400)\n\n# Display the IFrame\niframe\n```",
      "metadata": {
        "cell_id": "004398df3a6f4a6b8b48b5753b5f2e12",
        "deepnote_cell_type": "markdown"
      },
      "block_group": "a12187aae42444d8a60953d79ee08c1e"
    },
    {
      "cell_type": "code",
      "source": "from IPython.display import IFrame\n\nurl = \"https://ourworldindata.org\"\nIFrame(url, width=\"100%\", height=\"600px\")\n",
      "metadata": {
        "source_hash": null,
        "execution_start": 1698682337350,
        "execution_millis": 22,
        "deepnote_to_be_reexecuted": false,
        "cell_id": "4056ad2a99bb4f1f95db489508571a66",
        "deepnote_cell_type": "code"
      },
      "outputs": [
        {
          "output_type": "execute_result",
          "execution_count": 6,
          "data": {
            "text/plain": "<IPython.lib.display.IFrame at 0x7fc664bf2910>",
            "text/html": "\n        <iframe\n            width=\"100%\"\n            height=\"600px\"\n            src=\"https://ourworldindata.org\"\n            frameborder=\"0\"\n            allowfullscreen\n            \n        ></iframe>\n        "
          },
          "metadata": {}
        }
      ],
      "execution_count": null,
      "block_group": "726f522489d24e318f7de8a8badc782e"
    },
    {
      "cell_type": "code",
      "source": "from IPython.display import IFrame\n\nurl = \"https://ourworldindata.org/grapher/countries-democracies-autocracies-row\"\nIFrame(url, width=\"100%\", height=\"600px\")\n",
      "metadata": {
        "source_hash": null,
        "execution_start": 1698682262914,
        "execution_millis": 59,
        "deepnote_to_be_reexecuted": false,
        "cell_id": "f77eaf1dec204112a7c3830df13b17a0",
        "deepnote_cell_type": "code"
      },
      "outputs": [
        {
          "output_type": "execute_result",
          "execution_count": 2,
          "data": {
            "text/plain": "<IPython.lib.display.IFrame at 0x7fc664bc65e0>",
            "text/html": "\n        <iframe\n            width=\"100%\"\n            height=\"600px\"\n            src=\"https://ourworldindata.org/grapher/countries-democracies-autocracies-row\"\n            frameborder=\"0\"\n            allowfullscreen\n            \n        ></iframe>\n        "
          },
          "metadata": {}
        }
      ],
      "execution_count": null,
      "block_group": "52e512dbedcb40858b19cfc0308dc5d0"
    },
    {
      "cell_type": "markdown",
      "source": "### For YouTube videos\n```python\nfrom IPython.display import YouTubeVideo\n\n# Replace 'youtube_video_id' with the actual YouTube video ID\nyoutube_video_id = 'your_video_id'\n\n# Create a YouTubeVideo object\nyoutube_video = YouTubeVideo(youtube_video_id, width=800, height=600)\n\n# Display the YouTube video\nyoutube_video\n```",
      "metadata": {
        "cell_id": "8a2c8a4371b74df7b28c8ae22899b095",
        "deepnote_cell_type": "markdown"
      },
      "block_group": "32c1c18311b545f48adebe54b9524fd5"
    },
    {
      "cell_type": "code",
      "source": "from IPython.display import YouTubeVideo\n\n# Replace 'youtube_video_id' with the actual YouTube video ID\nyoutube_video_id = 'WSKi8HfcxEk?si=zlRPlhGHPq1cOnte'\n\n# Create a YouTubeVideo object\nyoutube_video = YouTubeVideo(youtube_video_id, width=800, height=600)\n\n# Display the YouTube video\nyoutube_video\n",
      "metadata": {
        "allow_embed": false,
        "source_hash": null,
        "execution_start": 1698682636201,
        "execution_millis": 229,
        "deepnote_to_be_reexecuted": false,
        "cell_id": "671dd1b4522c42c29a46262db2634638",
        "deepnote_cell_type": "code"
      },
      "outputs": [
        {
          "output_type": "execute_result",
          "execution_count": 7,
          "data": {
            "text/plain": "<IPython.lib.display.YouTubeVideo at 0x7fc664bd75b0>",
            "text/html": "\n        <iframe\n            width=\"800\"\n            height=\"600\"\n            src=\"https://www.youtube.com/embed/WSKi8HfcxEk?si=zlRPlhGHPq1cOnte\"\n            frameborder=\"0\"\n            allowfullscreen\n            \n        ></iframe>\n        "
          },
          "metadata": {}
        }
      ],
      "execution_count": null,
      "block_group": "1c09c3a6909648668ee93a159b35346e"
    },
    {
      "cell_type": "markdown",
      "source": "# Plots with \n<center><img src=\"https://raw.githubusercontent.com/SMU-Econ-Growth/EconGrowthUG-Notebooks/main/pics/matplotlib.svg\" alt=\"matplotlib\" width=25%/></center>",
      "metadata": {
        "tags": [],
        "cell_id": "b57f7e17d81c4ca1b9131f964b0db2d4",
        "slideshow": {
          "slide_type": "slide"
        },
        "user_expressions": [],
        "deepnote_cell_type": "markdown"
      },
      "block_group": "b57f7e17d81c4ca1b9131f964b0db2d4"
    },
    {
      "cell_type": "markdown",
      "source": "[Matplotlib](https://matplotlib.org/) is the fundamental package for plotting in Python. \n\nAll other plotting packages are built on top of it and expand it.\n\nYou can find examples of plots in their [Gallery](https://matplotlib.org/stable/gallery/index.html).",
      "metadata": {
        "tags": [],
        "cell_id": "0f33493d5be249f3840c6bbcc1b11b1d",
        "slideshow": {
          "slide_type": "fragment"
        },
        "user_expressions": [],
        "deepnote_cell_type": "markdown"
      },
      "block_group": "0f33493d5be249f3840c6bbcc1b11b1d"
    },
    {
      "cell_type": "markdown",
      "source": "It is the norm to import matplotlib and its pyplot component as follows (and I suggest you do the same):\n```python\nimport matplotlib as mpl\nimport matplotlib.pyplot as plt\n%matplotlib matlab_type\n```\nwhere `matlab_type` can be `inline` or `widget`. \n\n`widget` provides interactive plots, while `inline` generates static plots.",
      "metadata": {
        "cell_id": "fe88b4f6204d4af196dc7227ad3e9c66",
        "slideshow": {
          "slide_type": "subslide"
        },
        "user_expressions": [],
        "deepnote_cell_type": "markdown"
      },
      "block_group": "fe88b4f6204d4af196dc7227ad3e9c66"
    },
    {
      "cell_type": "code",
      "source": "import matplotlib as mpl\nimport matplotlib.pyplot as plt\n%matplotlib inline",
      "metadata": {
        "slideshow": {
          "slide_type": "fragment"
        },
        "source_hash": null,
        "execution_start": 1698261064337,
        "execution_millis": 526,
        "deepnote_to_be_reexecuted": false,
        "cell_id": "c185fe8c0a574763ac681df4fd60a7c5",
        "deepnote_cell_type": "code"
      },
      "outputs": [],
      "execution_count": null,
      "block_group": "c185fe8c0a574763ac681df4fd60a7c5"
    },
    {
      "cell_type": "markdown",
      "source": "Let's plot a line connecting a few points in a plot",
      "metadata": {
        "tags": [],
        "cell_id": "abfcaab44cea4c80832fdfcc3387a884",
        "slideshow": {
          "slide_type": "subslide"
        },
        "user_expressions": [],
        "deepnote_cell_type": "markdown"
      },
      "block_group": "abfcaab44cea4c80832fdfcc3387a884"
    },
    {
      "cell_type": "code",
      "source": "x = [0, 1, 2, 3]\ny = [my_square(i) for i in x]\nplt.plot(x, y, c='r', marker='o', linestyle=':', label=r'$y=x^2$')\nplt.legend()\nplt.show()",
      "metadata": {
        "cell_id": "5c3f9e7df4114a7f8fd697801d8991ea",
        "slideshow": {
          "slide_type": "fragment"
        },
        "source_hash": null,
        "execution_start": 1698261064876,
        "execution_millis": 493,
        "deepnote_to_be_reexecuted": false,
        "deepnote_cell_type": "code"
      },
      "outputs": [
        {
          "data": {
            "text/plain": "<Figure size 640x480 with 1 Axes>",
            "image/png": "[encoded data removed]"
          },
          "metadata": {
            "image/png": {
              "width": 534,
              "height": 413
            }
          },
          "output_type": "display_data"
        }
      ],
      "execution_count": null,
      "block_group": "5c3f9e7df4114a7f8fd697801d8991ea"
    },
    {
      "cell_type": "markdown",
      "source": "Let's plot various lines and points with different colors and styles, and add labels etc.",
      "metadata": {
        "cell_id": "1eda8074aed1493482d863364ff040e1",
        "slideshow": {
          "slide_type": "subslide"
        },
        "user_expressions": [],
        "deepnote_cell_type": "markdown"
      },
      "block_group": "1eda8074aed1493482d863364ff040e1"
    },
    {
      "cell_type": "code",
      "source": "x = [i/10 for i in range(0, 100)]\ny = [i**2 for i in x]\nz = [100 - 1/4 * i**2 + i for i in x]",
      "metadata": {
        "cell_id": "7976d519c6ca4171b7382526fe35fc82",
        "slideshow": {
          "slide_type": "fragment"
        },
        "source_hash": null,
        "execution_start": 1698261065213,
        "execution_millis": 200,
        "deepnote_to_be_reexecuted": false,
        "deepnote_cell_type": "code"
      },
      "outputs": [],
      "execution_count": null,
      "block_group": "7976d519c6ca4171b7382526fe35fc82"
    },
    {
      "cell_type": "code",
      "source": "fig, ax = plt.subplots(figsize=(8,5))\nax.plot(x, y, c='r', marker='o', markersize=4, linestyle='-.', label=r'$y=x^2$')\nax.plot(x, z, c='b', marker='D', markersize=4, linestyle='-', label=r'$y=100-\\frac{1}{4}x^2 + x$')\nax.set_xlabel(r'$x$', fontsize=18)\nax.set_ylabel(r'Value', fontsize=18)\nax.set_title(r'Some Plots', fontsize=24)\nax.legend(fontsize=18)\nplt.savefig('./pics/some-plots.png')\nplt.savefig('./pics/some-plots.pdf')\nplt.show()",
      "metadata": {
        "cell_id": "94648f06bd1048d0b0215fb039f6b890",
        "slideshow": {
          "slide_type": "subslide"
        },
        "source_hash": null,
        "execution_start": 1698261065214,
        "execution_millis": 1140,
        "deepnote_to_be_reexecuted": false,
        "deepnote_cell_type": "code"
      },
      "outputs": [
        {
          "data": {
            "text/plain": "<Figure size 800x500 with 1 Axes>",
            "image/png": "[encoded data removed]"
          },
          "metadata": {
            "image/png": {
              "width": 705,
              "height": 492
            }
          },
          "output_type": "display_data"
        }
      ],
      "execution_count": null,
      "block_group": "94648f06bd1048d0b0215fb039f6b890"
    },
    {
      "cell_type": "markdown",
      "source": "# <center>Numerical Computations with NumPy</center>\n<center><img src=\"https://raw.githubusercontent.com/SMU-Econ-Growth/EconGrowthUG-Notebooks/main/pics/numpy.svg\" alt=\"NumPy\" width=10%/></center>",
      "metadata": {
        "tags": [],
        "cell_id": "32df72c0b0aa4860ad50d29c8502e2e5",
        "slideshow": {
          "slide_type": "slide"
        },
        "user_expressions": [],
        "deepnote_cell_type": "markdown"
      },
      "block_group": "32df72c0b0aa4860ad50d29c8502e2e5"
    },
    {
      "cell_type": "markdown",
      "source": "[NumPy](https://numpy.org/) is one of the fundamental packages for scientific computing with Python.\n\nIt provides many functions, objects, elements, etc. for doing all kinds of numerical computations, e.g.,\n* Constants: Euler, Pi\n* Matrices, vectors, arrays\n* Functions: Logarithms, roots, inverses\n* Random number generators\n* Optimization algorithms",
      "metadata": {
        "tags": [],
        "cell_id": "2f6b6055ad8a41529e85af20ea5ca7bd",
        "slideshow": {
          "slide_type": "subslide"
        },
        "user_expressions": [],
        "deepnote_cell_type": "markdown"
      },
      "block_group": "2f6b6055ad8a41529e85af20ea5ca7bd"
    },
    {
      "cell_type": "markdown",
      "source": "It is the norm to import NumPy as follows (and I suggest you do the same):\n```python\nimport numpy as np\n```",
      "metadata": {
        "tags": [],
        "cell_id": "0e861c2855b846b0affc575976314992",
        "slideshow": {
          "slide_type": "subslide"
        },
        "user_expressions": [],
        "deepnote_cell_type": "markdown"
      },
      "block_group": "0e861c2855b846b0affc575976314992"
    },
    {
      "cell_type": "code",
      "source": "import numpy as np",
      "metadata": {
        "cell_id": "9c429ad2f92142638bb46c56db1a82f3",
        "slideshow": {
          "slide_type": "fragment"
        },
        "source_hash": null,
        "execution_start": 1698261066191,
        "execution_millis": 13,
        "deepnote_to_be_reexecuted": false,
        "deepnote_cell_type": "code"
      },
      "outputs": [],
      "execution_count": null,
      "block_group": "9c429ad2f92142638bb46c56db1a82f3"
    },
    {
      "cell_type": "markdown",
      "source": "Once it is imported we can start doing computations with it. \n\nThe main type of object we will use is a NumPy array, which we create by\n```python\nmy_array = np.array(list_of_numbers)\n```\ne.g.,",
      "metadata": {
        "tags": [],
        "cell_id": "861aedf4b69540a0b7d79396fcfe3d6d",
        "slideshow": {
          "slide_type": "subslide"
        },
        "user_expressions": [],
        "deepnote_cell_type": "markdown"
      },
      "block_group": "861aedf4b69540a0b7d79396fcfe3d6d"
    },
    {
      "cell_type": "code",
      "source": "c = [1, 2]\nd = [[1, 2], [3, 4]]\nca = np.array(c)\nda = np.array(d) ",
      "metadata": {
        "cell_id": "ebbd401035884ede8f299e9c2746e38e",
        "slideshow": {
          "slide_type": "subslide"
        },
        "source_hash": null,
        "execution_start": 1698261066191,
        "execution_millis": 50,
        "deepnote_to_be_reexecuted": false,
        "deepnote_cell_type": "code"
      },
      "outputs": [],
      "execution_count": null,
      "block_group": "ebbd401035884ede8f299e9c2746e38e"
    },
    {
      "cell_type": "code",
      "source": "ca",
      "metadata": {
        "cell_id": "d6b34fb4fd724a8f99ac931f6d118f1e",
        "slideshow": {
          "slide_type": "fragment"
        },
        "source_hash": null,
        "execution_start": 1698261066207,
        "execution_millis": 69,
        "deepnote_to_be_reexecuted": false,
        "deepnote_cell_type": "code"
      },
      "outputs": [
        {
          "output_type": "execute_result",
          "execution_count": 25,
          "data": {
            "text/plain": "array([1, 2])"
          },
          "metadata": {}
        }
      ],
      "execution_count": null,
      "block_group": "d6b34fb4fd724a8f99ac931f6d118f1e"
    },
    {
      "cell_type": "code",
      "source": "da",
      "metadata": {
        "cell_id": "cdbde3ff4b034ce7adf2e1de53a57d50",
        "slideshow": {
          "slide_type": "fragment"
        },
        "source_hash": null,
        "execution_start": 1698261066249,
        "execution_millis": 30,
        "deepnote_to_be_reexecuted": false,
        "deepnote_cell_type": "code"
      },
      "outputs": [
        {
          "output_type": "execute_result",
          "execution_count": 26,
          "data": {
            "text/plain": "array([[1, 2],\n       [3, 4]])"
          },
          "metadata": {}
        }
      ],
      "execution_count": null,
      "block_group": "cdbde3ff4b034ce7adf2e1de53a57d50"
    },
    {
      "cell_type": "markdown",
      "source": "With our arrays we can easily perform computations on each element.",
      "metadata": {
        "cell_id": "57e37a9b788e486bbeee6efe988f43dd",
        "slideshow": {
          "slide_type": "subslide"
        },
        "user_expressions": [],
        "deepnote_cell_type": "markdown"
      },
      "block_group": "57e37a9b788e486bbeee6efe988f43dd"
    },
    {
      "cell_type": "code",
      "source": "ca**2",
      "metadata": {
        "cell_id": "099da4c973364682a22086d92f6415b7",
        "slideshow": {
          "slide_type": "fragment"
        },
        "source_hash": null,
        "execution_start": 1698261066250,
        "execution_millis": 50,
        "deepnote_to_be_reexecuted": false,
        "deepnote_cell_type": "code"
      },
      "outputs": [
        {
          "output_type": "execute_result",
          "execution_count": 27,
          "data": {
            "text/plain": "array([1, 4])"
          },
          "metadata": {}
        }
      ],
      "execution_count": null,
      "block_group": "099da4c973364682a22086d92f6415b7"
    },
    {
      "cell_type": "code",
      "source": "da * 3",
      "metadata": {
        "cell_id": "b6580911059a4033be0033f46aab7f1a",
        "slideshow": {
          "slide_type": "fragment"
        },
        "source_hash": null,
        "execution_start": 1698261066251,
        "execution_millis": 28,
        "deepnote_to_be_reexecuted": false,
        "deepnote_cell_type": "code"
      },
      "outputs": [
        {
          "output_type": "execute_result",
          "execution_count": 28,
          "data": {
            "text/plain": "array([[ 3,  6],\n       [ 9, 12]])"
          },
          "metadata": {}
        }
      ],
      "execution_count": null,
      "block_group": "b6580911059a4033be0033f46aab7f1a"
    },
    {
      "cell_type": "code",
      "source": "ca*da",
      "metadata": {
        "cell_id": "7b7eff17d9dd4144bfd478b47ed484cb",
        "slideshow": {
          "slide_type": "fragment"
        },
        "source_hash": null,
        "execution_start": 1698261066256,
        "execution_millis": 42,
        "deepnote_to_be_reexecuted": false,
        "deepnote_cell_type": "code"
      },
      "outputs": [
        {
          "output_type": "execute_result",
          "execution_count": 29,
          "data": {
            "text/plain": "array([[1, 4],\n       [3, 8]])"
          },
          "metadata": {}
        }
      ],
      "execution_count": null,
      "block_group": "7b7eff17d9dd4144bfd478b47ed484cb"
    },
    {
      "cell_type": "markdown",
      "source": "Arrays also have their own functions and properties",
      "metadata": {
        "tags": [],
        "cell_id": "2e17b8b018294621a76aef3098ddde9b",
        "slideshow": {
          "slide_type": "subslide"
        },
        "user_expressions": [],
        "deepnote_cell_type": "markdown"
      },
      "block_group": "2e17b8b018294621a76aef3098ddde9b"
    },
    {
      "cell_type": "code",
      "source": "print(ca.shape)\nprint(da.shape)",
      "metadata": {
        "cell_id": "5820754127144161b0df99d2eaab14f9",
        "slideshow": {
          "slide_type": "fragment"
        },
        "source_hash": null,
        "execution_start": 1698261066265,
        "execution_millis": 44,
        "deepnote_to_be_reexecuted": false,
        "deepnote_cell_type": "code"
      },
      "outputs": [
        {
          "name": "stdout",
          "text": "(2,)\n(2, 2)\n",
          "output_type": "stream"
        }
      ],
      "execution_count": null,
      "block_group": "5820754127144161b0df99d2eaab14f9"
    },
    {
      "cell_type": "code",
      "source": "print('da=', da)\nprint('Sum of all elements da.sum()=', da.sum())\nprint('Sum of all elements in each column da.sum(axis=0)=', da.sum(axis=0))\nprint('Sum of all elements in each row da.sum(axis=1)=', da.sum(axis=1))\nprint('dot product is ca.dot(da)=', ca.dot(da))",
      "metadata": {
        "cell_id": "278bdfaf01d04ce89643083763d06bf8",
        "slideshow": {
          "slide_type": "fragment"
        },
        "source_hash": null,
        "execution_start": 1698261066314,
        "execution_millis": 34,
        "deepnote_to_be_reexecuted": false,
        "deepnote_cell_type": "code"
      },
      "outputs": [
        {
          "name": "stdout",
          "text": "da= [[1 2]\n [3 4]]\nSum of all elements da.sum()= 10\nSum of all elements in each column da.sum(axis=0)= [4 6]\nSum of all elements in each row da.sum(axis=1)= [3 7]\ndot product is ca.dot(da)= [ 7 10]\n",
          "output_type": "stream"
        }
      ],
      "execution_count": null,
      "block_group": "278bdfaf01d04ce89643083763d06bf8"
    },
    {
      "cell_type": "markdown",
      "source": "## We can create special arrays/matrices using Numpy's functions and classes",
      "metadata": {
        "cell_id": "447daa8947384eccafc5d64a465a0479",
        "slideshow": {
          "slide_type": "subslide"
        },
        "user_expressions": [],
        "deepnote_cell_type": "markdown"
      },
      "block_group": "447daa8947384eccafc5d64a465a0479"
    },
    {
      "cell_type": "code",
      "source": "print(np.ones((3,4)))\nprint(np.zeros((2,2)))\nprint(np.eye(2))\nprint(np.ones_like(ca))",
      "metadata": {
        "cell_id": "d38be7eabfd14f34bf51fa0a4c5fe1a7",
        "slideshow": {
          "slide_type": "fragment"
        },
        "source_hash": null,
        "execution_start": 1698261066314,
        "execution_millis": 20,
        "deepnote_to_be_reexecuted": false,
        "deepnote_cell_type": "code"
      },
      "outputs": [
        {
          "name": "stdout",
          "text": "[[1. 1. 1. 1.]\n [1. 1. 1. 1.]\n [1. 1. 1. 1.]]\n[[0. 0.]\n [0. 0.]]\n[[1. 0.]\n [0. 1.]]\n[1 1]\n",
          "output_type": "stream"
        }
      ],
      "execution_count": null,
      "block_group": "d38be7eabfd14f34bf51fa0a4c5fe1a7"
    },
    {
      "cell_type": "markdown",
      "source": "## Random Numbers with `np.random`",
      "metadata": {
        "cell_id": "8b38396112c64aafbeb2d6773447ba91",
        "slideshow": {
          "slide_type": "subslide"
        },
        "user_expressions": [],
        "deepnote_cell_type": "markdown"
      },
      "block_group": "8b38396112c64aafbeb2d6773447ba91"
    },
    {
      "cell_type": "markdown",
      "source": "## Uniform distribution `np.random.uniform(low, high, size)`",
      "metadata": {
        "cell_id": "7e76e53ba4b4469a90d83cef0121320e",
        "slideshow": {
          "slide_type": "fragment"
        },
        "user_expressions": [],
        "deepnote_cell_type": "markdown"
      },
      "block_group": "7e76e53ba4b4469a90d83cef0121320e"
    },
    {
      "cell_type": "code",
      "source": "np.random.uniform(-1,1,10)",
      "metadata": {
        "cell_id": "a40daa2278a840dd86c802eff024f3f9",
        "slideshow": {
          "slide_type": "fragment"
        },
        "source_hash": null,
        "execution_start": 1698261066358,
        "execution_millis": 36,
        "deepnote_to_be_reexecuted": false,
        "deepnote_cell_type": "code"
      },
      "outputs": [
        {
          "output_type": "execute_result",
          "execution_count": 33,
          "data": {
            "text/plain": "array([ 0.78408956, -0.89847472,  0.11614923,  0.26369373, -0.48909801,\n        0.80218084, -0.76914197, -0.7825567 ,  0.3633575 , -0.80371063])"
          },
          "metadata": {}
        }
      ],
      "execution_count": null,
      "block_group": "a40daa2278a840dd86c802eff024f3f9"
    },
    {
      "cell_type": "markdown",
      "source": "## Normal Distribution `np.random.normal(loc, scale, size)`",
      "metadata": {
        "tags": [],
        "cell_id": "433b29e97bdf489c9503b1ccbda2f53a",
        "slideshow": {
          "slide_type": "subslide"
        },
        "user_expressions": [],
        "deepnote_cell_type": "markdown"
      },
      "block_group": "433b29e97bdf489c9503b1ccbda2f53a"
    },
    {
      "cell_type": "code",
      "source": "np.random.normal(10, 1, size=(3,3))",
      "metadata": {
        "cell_id": "ba72c4863d95431fa774998059be7133",
        "slideshow": {
          "slide_type": "fragment"
        },
        "source_hash": null,
        "execution_start": 1698261066358,
        "execution_millis": 216,
        "deepnote_to_be_reexecuted": false,
        "deepnote_cell_type": "code"
      },
      "outputs": [
        {
          "output_type": "execute_result",
          "execution_count": 34,
          "data": {
            "text/plain": "array([[ 8.93207984,  9.12020765,  9.61100164],\n       [10.31108797, 11.62833866, 11.44137052],\n       [ 7.98822383, 10.32175854, 11.35913697]])"
          },
          "metadata": {}
        }
      ],
      "execution_count": null,
      "block_group": "ba72c4863d95431fa774998059be7133"
    },
    {
      "cell_type": "markdown",
      "source": "# Example",
      "metadata": {
        "cell_id": "f584192d741f47db9e85a7a3ac555087",
        "slideshow": {
          "slide_type": "subslide"
        },
        "deepnote_cell_type": "markdown"
      },
      "block_group": "f584192d741f47db9e85a7a3ac555087"
    },
    {
      "cell_type": "markdown",
      "source": "Let's create a simple random walk and plot it. A random walk is a variable $x_t$ that satisfies\n$$\nx_{t+1} = a_0 + x_t + \\varepsilon_t\n$$\nwhere $a_0$ is some real number, known as *drift*, and $\\varepsilon_t$ is a random variable that is Normally distributed with mean 0 and standard deviation $\\sigma^2$, i.e., \n$$\n\\varepsilon_t\\sim\\mathcal{N}(0,\\sigma^2).\n$$\nFor simplicity, let's assume the drift $a_0=0$.",
      "metadata": {
        "tags": [],
        "cell_id": "4d8c8599607f4afeacfdd63c416ccb44",
        "slideshow": {
          "slide_type": "fragment"
        },
        "user_expressions": [],
        "deepnote_cell_type": "markdown"
      },
      "block_group": "4d8c8599607f4afeacfdd63c416ccb44"
    },
    {
      "cell_type": "code",
      "source": "#np.random.seed(123456)\nx0 = 0\nx = [x0]\n[x.append(x[-1] + np.random.normal() ) for i in range(500)]\nfig, ax = plt.subplots(figsize=(8,5))\nax.plot(x)\nplt.title(r'A simple random walk', fontsize=24)\nplt.xlabel(r'Period $t$', fontsize=18)\nplt.ylabel(r'$x_t$', fontsize=18)\nplt.show()",
      "metadata": {
        "cell_id": "adeccc37777b4120940e4bf5e93c9ab3",
        "slideshow": {
          "slide_type": "subslide"
        },
        "source_hash": null,
        "execution_start": 1698261066359,
        "execution_millis": 650,
        "deepnote_to_be_reexecuted": false,
        "deepnote_cell_type": "code"
      },
      "outputs": [
        {
          "data": {
            "text/plain": "<Figure size 800x500 with 1 Axes>",
            "image/png": "[encoded data removed]"
          },
          "metadata": {
            "image/png": {
              "width": 699,
              "height": 492
            }
          },
          "output_type": "display_data"
        }
      ],
      "execution_count": null,
      "block_group": "adeccc37777b4120940e4bf5e93c9ab3"
    },
    {
      "cell_type": "markdown",
      "source": "<div class=\"alert alert-block alert-warning\">\n    <b>Exercise 1:</b> Write a function that computes the level of output generated by a constant returns to scale Cobb-Douglas production function, i.e., such that it computes $A\\cdot K^\\alpha \\cdot L^{1-\\alpha}$.\n</div>",
      "metadata": {
        "tags": [],
        "slideshow": {
          "slide_type": "subslide"
        },
        "user_expressions": [],
        "cell_id": "f6440fd89ef74ca8adc2b92c5ed103c3",
        "deepnote_cell_type": "markdown"
      },
      "block_group": "f6440fd89ef74ca8adc2b92c5ed103c3"
    },
    {
      "cell_type": "code",
      "source": "def CobbDouglas(K=1, L=1, A=1, alpha=0.3):\n    '''\n    This function computes the level of output of a Cobb-Douglas production function.\n    Given values of K, L, A, and alpha it returns $A\\cdot K^\\alpha \\cdot L^{1-\\alpha}$.\n    Parameters:\n    -----------\n    K: float, integer or any other number, default=1\n    L: float, integer or any other number, default=1\n    A: float, integer or any other number, default=1\n    alpha: float between (0,1), default=0.3\n    \n    Returns:\n    --------\n    out = A * K**alpha * L**(1-alpha)\n    \n    Example:\n    >>> out = CobbDouglas(4, 9, 2, 1/2)\n    >>> out\n        12\n    '''",
      "metadata": {
        "cell_id": "0aaf6c8c6686421ab00356de131764c9",
        "slideshow": {
          "slide_type": "-"
        },
        "source_hash": null,
        "execution_start": 1698261066659,
        "execution_millis": 25,
        "deepnote_to_be_reexecuted": false,
        "deepnote_cell_type": "code"
      },
      "outputs": [],
      "execution_count": null,
      "block_group": "0aaf6c8c6686421ab00356de131764c9"
    },
    {
      "cell_type": "markdown",
      "source": "<div class=\"alert alert-block alert-warning\">\n    <b>Exercise 2:</b> Use the function you created and plot the production function as a function of $K$ for given values of $A$ and $L$. <b>Hint:</b> Use the <code>np.linspace(0, 5, 100)</code> function to create an array of values of $K$ with 100 point between 0 and 5.\n</div>",
      "metadata": {
        "tags": [],
        "cell_id": "771b04fd21a543fca8f5221847a61630",
        "slideshow": {
          "slide_type": "subslide"
        },
        "user_expressions": [],
        "deepnote_cell_type": "markdown"
      },
      "block_group": "771b04fd21a543fca8f5221847a61630"
    },
    {
      "cell_type": "markdown",
      "source": "<div class=\"alert alert-block alert-warning\">\n    <b>Exercise 3:</b> Show with a plot the effect of increasing $A$ from 1 to 2, 4, or 5.\n</div>",
      "metadata": {
        "tags": [],
        "cell_id": "f33bd817255c49f9acf189e0eb60b819",
        "slideshow": {
          "slide_type": "fragment"
        },
        "user_expressions": [],
        "deepnote_cell_type": "markdown"
      },
      "block_group": "f33bd817255c49f9acf189e0eb60b819"
    },
    {
      "cell_type": "markdown",
      "source": "<div class=\"alert alert-block alert-warning\">\n    <b>Exercise 4:</b> Show with a plot the effect of increasing $L$ from 1 to 2, 4, 5.\n</div>",
      "metadata": {
        "tags": [],
        "cell_id": "18f21816c3a54c48b5569b573ef1da64",
        "slideshow": {
          "slide_type": "fragment"
        },
        "user_expressions": [],
        "deepnote_cell_type": "markdown"
      },
      "block_group": "18f21816c3a54c48b5569b573ef1da64"
    },
    {
      "cell_type": "markdown",
      "source": "<div class=\"alert alert-block alert-warning\">\n    <b>Exercise 5:</b> Save the previous plots into <b>png, jpeg, and pdf</b> files using the <code>plt.savefig</code> function.\n</div>",
      "metadata": {
        "tags": [],
        "cell_id": "23a39fac61dd4de68db8023dff823d6f",
        "slideshow": {
          "slide_type": "fragment"
        },
        "user_expressions": [],
        "deepnote_cell_type": "markdown"
      },
      "block_group": "23a39fac61dd4de68db8023dff823d6f"
    },
    {
      "cell_type": "markdown",
      "source": "<div class=\"alert alert-block alert-warning\">\n    <b>Exercise 6:</b> Use the <code>IFrame</code> function to show the website from where you are planning to obtain data.\n</div>",
      "metadata": {
        "tags": [],
        "slideshow": {
          "slide_type": "fragment"
        },
        "user_expressions": [],
        "cell_id": "349f9d8871a14699a5ca0d8659c2308d",
        "deepnote_cell_type": "markdown"
      },
      "block_group": "e3aa4908cab345d18e332630f55a3f2c"
    },
    {
      "cell_type": "markdown",
      "source": "<div class=\"alert alert-block alert-warning\">\n    <b>Exercise 7:</b> Use the <code>IFrame</code> function to insert an iframe showing the graph for the evolution of <i>patent applications</i> by residents across the world using the <b>World Development Indicators</b> website.\n</div>",
      "metadata": {
        "tags": [],
        "slideshow": {
          "slide_type": "fragment"
        },
        "user_expressions": [],
        "cell_id": "e6d94d963d7845b998f28eed86ef8144",
        "deepnote_cell_type": "markdown"
      },
      "block_group": "205b390f6d58409bbea469dd66e53685"
    },
    {
      "cell_type": "markdown",
      "source": "Notebook written by [Ömer Özak](http://omerozak.com) for his students in Economics at [Southern Methodist University](http://www.smu.edu). Feel free to use, distribute, or contribute.",
      "metadata": {
        "tags": [],
        "cell_id": "39f8a4b302f14b7382abd5034db1f735",
        "slideshow": {
          "slide_type": "slide"
        },
        "user_expressions": [],
        "deepnote_cell_type": "markdown"
      },
      "block_group": "39f8a4b302f14b7382abd5034db1f735"
    },
    {
      "cell_type": "markdown",
      "source": "[<center><img src=\"https://github.com/measuring-culture/Expanding-Measurement-Culture-Facebook-JRSI/blob/main/pics/SMUlogowWordmarkRB.jpg?raw=true\" width=\"250\"></center>](http://omerozak.com)",
      "metadata": {
        "tags": [],
        "cell_id": "adc54a6f25274d00bd81e828642eadf2",
        "slideshow": {
          "slide_type": "-"
        },
        "user_expressions": [],
        "deepnote_cell_type": "markdown"
      },
      "block_group": "adc54a6f25274d00bd81e828642eadf2"
    },
    {
      "cell_type": "markdown",
      "source": "<a style='text-decoration:none;line-height:16px;display:flex;color:#5B5B62;padding:10px;justify-content:end;' href='https://deepnote.com?utm_source=created-in-deepnote-cell&projectId=6235f940-2440-49ed-8dd6-b53ef25fabd2' target=\"_blank\">\n<img alt='Created in deepnote.com' style='display:inline;max-height:16px;margin:0px;margin-right:7.5px;' src='data:image/svg+xml;base64,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' > </img>\nCreated in <span style='font-weight:600;margin-left:4px;'>Deepnote</span></a>",
      "metadata": {
        "created_in_deepnote_cell": true,
        "deepnote_cell_type": "markdown"
      }
    }
  ],
  "nbformat": 4,
  "nbformat_minor": 0,
  "metadata": {
    "widgets": {
      "application/vnd.jupyter.widget-state+json": {
        "state": {},
        "version_major": 2,
        "version_minor": 0
      }
    },
    "deepnote": {},
    "kernelspec": {
      "name": "python3",
      "language": "python",
      "display_name": "Python 3 (ipykernel)"
    },
    "celltoolbar": "Slideshow",
    "nbTranslate": {
      "hotkey": "alt-t",
      "sourceLang": "en",
      "targetLang": "fr",
      "displayLangs": [
        "*"
      ],
      "langInMainMenu": true,
      "useGoogleTranslate": true
    },
    "language_info": {
      "name": "python",
      "version": "3.9.15",
      "mimetype": "text/x-python",
      "file_extension": ".py",
      "pygments_lexer": "ipython3",
      "codemirror_mode": {
        "name": "ipython",
        "version": 3
      },
      "nbconvert_exporter": "python"
    },
    "deepnote_notebook_id": "b4d41e10d8d549b4ba911686ae1bb1d5",
    "deepnote_persisted_session": {
      "createdAt": "2023-10-30T16:25:58.181Z"
    },
    "deepnote_execution_queue": []
  }
}