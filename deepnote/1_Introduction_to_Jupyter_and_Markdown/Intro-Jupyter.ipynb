{
  "cells": [
    {
      "cell_type": "markdown",
      "source": "# <center>Introduction to</center> \n<center><img src=\"https://mms.businesswire.com/media/20220526005103/en/1467491/5/deepnote-logo.jpg\" alt=\"Deepnote\" width=800/></center>",
      "metadata": {
        "deepnote_app_coordinates": {
          "h": 5,
          "w": 12,
          "x": 0,
          "y": 0
        },
        "cell_id": "9b9a8599bf3e49e0bf93fb81cbb8e962",
        "deepnote_cell_type": "markdown"
      },
      "block_group": "e64d1e720d234a3888ab3eb0e59dcfe5"
    },
    {
      "cell_type": "markdown",
      "source": "[Deepnote](https://deepnote.com/) is a provider of cloud-based computational notebooks and services. \n\nTheir notebooks \n* are easy to use and set up, making them perfect tools for beginners\n* allow realtime collaborations, which is very useful when working with others on projects\n* shareable, so you can convert them to a webpage, blog, or send via a link to anyone you want\n\nTheir notebooks are based on **[Jupyter](http://jupyter.org/)**, so transfering information and knowledge between these two systems is very easy (as long as you have a working **[Jupyter](http://jupyter.org/)** installation).",
      "metadata": {
        "deepnote_app_coordinates": {
          "h": 5,
          "w": 12,
          "x": 0,
          "y": 0
        },
        "cell_id": "662b24efdda3475aaf9a47cd88414875",
        "deepnote_cell_type": "markdown"
      },
      "block_group": "662b24efdda3475aaf9a47cd88414875"
    },
    {
      "cell_type": "markdown",
      "source": "# What is a notebook?",
      "metadata": {
        "is_collapsed": false,
        "formattedRanges": [],
        "cell_id": "761f94d646ae43c1bf1d05fa2577e0e8",
        "deepnote_cell_type": "text-cell-h1"
      },
      "block_group": "761f94d646ae43c1bf1d05fa2577e0e8"
    },
    {
      "cell_type": "markdown",
      "source": "A notebook is what you are reading right now. A bunch of text, code, figures, and other elements. Deepnote notebooks are composed of cells/blocks like the one you are reading. \n\nThere are various types of cells/blocks:\n\n* [Text cells/blocks](https://deepnote.com/docs/text-editing), which include \n\n![]()",
      "metadata": {
        "deepnote_app_coordinates": {
          "h": 5,
          "w": 12,
          "x": 0,
          "y": 0
        },
        "cell_id": "8527a8d7e2324947aafc79c489ddc393",
        "deepnote_cell_type": "markdown"
      },
      "block_group": "8527a8d7e2324947aafc79c489ddc393"
    },
    {
      "cell_type": "markdown",
      "source": "<img src=\"image-20230814-153513.png\" width=\"50%\" align=\"\" />",
      "metadata": {
        "deepnote_img_src": "image-20230814-153513.png",
        "deepnote_img_width": "50%",
        "deepnote_app_coordinates": {
          "h": 5,
          "w": 12,
          "x": 0,
          "y": 0
        },
        "cell_id": "50fa9207677c451fad293e251c402b28",
        "deepnote_cell_type": "image"
      },
      "block_group": "7575351dd99947ef9ad4e2cca307454e"
    },
    {
      "cell_type": "markdown",
      "source": "* Code blocks to perform computations and other operations\n* [Chart blocks](https://deepnote.com/docs/chart-blocks) to visualiza data without having to write code\n* [Input blocks](https://deepnote.com/docs/input-blocks) to allow users to input values/data ",
      "metadata": {
        "deepnote_app_coordinates": {
          "h": 5,
          "w": 12,
          "x": 0,
          "y": 0
        },
        "cell_id": "6e8525aa5610431f8d0096b3bdd7826e",
        "deepnote_cell_type": "markdown"
      },
      "block_group": "6e8525aa5610431f8d0096b3bdd7826e"
    },
    {
      "cell_type": "markdown",
      "source": "* So, it is a browser-based notebook with support for \n    * code\n    * text\n    * mathematical expressions\n    * inline plots\n    * other rich media\n    * interactive data visualization \n    * use of GUI toolkits\n* Flexible, embeddable interpreters to load into your own projects.\n* Easy to use, high performance tools for parallel computing.",
      "metadata": {
        "slideshow": {
          "slide_type": "subslide"
        },
        "user_expressions": [],
        "deepnote_app_coordinates": {
          "h": 5,
          "w": 12,
          "x": 0,
          "y": 0
        },
        "cell_id": "23dfc16eeba242238d003496e6f5f4ce",
        "deepnote_cell_type": "markdown"
      },
      "block_group": "116fa6c4d0d54a02b03a3d2751b83400"
    },
    {
      "cell_type": "markdown",
      "source": "Deepnote has an intergrated file system that allows you to upload and download data, figures, and other types of files. See this [introduction to their filesystem](https://deepnote.com/docs/importing-data-to-deepnote).",
      "metadata": {
        "deepnote_app_coordinates": {
          "h": 5,
          "w": 12,
          "x": 0,
          "y": 0
        },
        "cell_id": "0f9361eb3a804b6b9d3f26c11000b856",
        "deepnote_cell_type": "markdown"
      },
      "block_group": "85c6addabea94ec18bd9d9aecb248097"
    },
    {
      "cell_type": "markdown",
      "source": "# <center>Markdown</center>",
      "metadata": {
        "slideshow": {
          "slide_type": "slide"
        },
        "deepnote_app_coordinates": {
          "h": 5,
          "w": 12,
          "x": 0,
          "y": 0
        },
        "cell_id": "f630af850da94c76a68de06ee7beb514",
        "deepnote_cell_type": "markdown"
      },
      "block_group": "f630af850da94c76a68de06ee7beb514"
    },
    {
      "cell_type": "code",
      "source": "# Import display options for showing websites\nfrom IPython.display import IFrame\n\nurl = 'https://commonmark.org/help/'\nIFrame(url, width=800, height=400)\n",
      "metadata": {
        "slideshow": {
          "slide_type": "slide"
        },
        "source_hash": "9290b72e",
        "code_folding": [],
        "is_code_hidden": true,
        "execution_start": 1680180910036,
        "execution_millis": 3,
        "deepnote_app_coordinates": {
          "h": 5,
          "w": 12,
          "x": 0,
          "y": 0
        },
        "deepnote_to_be_reexecuted": false,
        "deepnote_app_is_code_hidden": true,
        "cell_id": "2a6684b47f9d40978472e241412ebb61",
        "deepnote_cell_type": "code"
      },
      "outputs": [
        {
          "output_type": "execute_result",
          "execution_count": 1,
          "data": {
            "text/plain": "<IPython.lib.display.IFrame at 0x7f35d3f4da50>",
            "text/html": "\n        <iframe\n            width=\"800\"\n            height=\"400\"\n            src=\"https://commonmark.org/help/\"\n            frameborder=\"0\"\n            allowfullscreen\n            \n        ></iframe>\n        "
          },
          "metadata": {}
        }
      ],
      "execution_count": 1,
      "block_group": "2a6684b47f9d40978472e241412ebb61"
    },
    {
      "cell_type": "markdown",
      "source": "Let's learn some basics of markdown [here](https://commonmark.org/help/tutorial/index.html)",
      "metadata": {
        "slideshow": {
          "slide_type": "subslide"
        },
        "deepnote_app_coordinates": {
          "h": 5,
          "w": 12,
          "x": 0,
          "y": 0
        },
        "cell_id": "e8886e309f4b4901891c67d0eea72c27",
        "deepnote_cell_type": "markdown"
      },
      "block_group": "e8886e309f4b4901891c67d0eea72c27"
    },
    {
      "cell_type": "markdown",
      "source": "# <center> Customizing Some elements </center>",
      "metadata": {
        "slideshow": {
          "slide_type": "slide"
        },
        "deepnote_app_coordinates": {
          "h": 5,
          "w": 12,
          "x": 0,
          "y": 0
        },
        "cell_id": "02872e6260ff4be3905de41803e0ffff",
        "deepnote_cell_type": "markdown"
      },
      "block_group": "02872e6260ff4be3905de41803e0ffff"
    },
    {
      "cell_type": "markdown",
      "source": "# <center> Headers </center>",
      "metadata": {
        "slideshow": {
          "slide_type": "subslide"
        },
        "deepnote_app_coordinates": {
          "h": 5,
          "w": 12,
          "x": 0,
          "y": 0
        },
        "cell_id": "77969433e7f540dba22966e696cc1f35",
        "deepnote_cell_type": "markdown"
      },
      "block_group": "77969433e7f540dba22966e696cc1f35"
    },
    {
      "cell_type": "markdown",
      "source": "```\n# Header 1\n## Header 2\n#### Header 3\n##### Header 4\n```",
      "metadata": {
        "slideshow": {
          "slide_type": "fragment"
        },
        "deepnote_app_coordinates": {
          "h": 5,
          "w": 12,
          "x": 0,
          "y": 0
        },
        "cell_id": "780b7d16af19484182c2d5f1b06bfdc2",
        "deepnote_cell_type": "markdown"
      },
      "block_group": "780b7d16af19484182c2d5f1b06bfdc2"
    },
    {
      "cell_type": "markdown",
      "source": "# Header 1\n## Header 2\n#### Header 3\n##### Header 4",
      "metadata": {
        "slideshow": {
          "slide_type": "subslide"
        },
        "deepnote_app_coordinates": {
          "h": 5,
          "w": 12,
          "x": 0,
          "y": 0
        },
        "cell_id": "cdb02ad70eda403abaccbc7861cfdfcd",
        "deepnote_cell_type": "markdown"
      },
      "block_group": "cdb02ad70eda403abaccbc7861cfdfcd"
    },
    {
      "cell_type": "markdown",
      "source": "# <center> Text Alignment </center>",
      "metadata": {
        "slideshow": {
          "slide_type": "subslide"
        },
        "deepnote_app_coordinates": {
          "h": 5,
          "w": 12,
          "x": 0,
          "y": 0
        },
        "cell_id": "c25a2ad9a7fd4e23baf22f886b192c8a",
        "deepnote_cell_type": "markdown"
      },
      "block_group": "c25a2ad9a7fd4e23baf22f886b192c8a"
    },
    {
      "cell_type": "markdown",
      "source": "Use `<center> Text </center>` to center your `Text`. Like so,\n\n<center> My Text </center>",
      "metadata": {
        "slideshow": {
          "slide_type": "fragment"
        },
        "deepnote_app_coordinates": {
          "h": 5,
          "w": 12,
          "x": 0,
          "y": 0
        },
        "cell_id": "978faca5707f4b6d8f03087e776758b2",
        "deepnote_cell_type": "markdown"
      },
      "block_group": "978faca5707f4b6d8f03087e776758b2"
    },
    {
      "cell_type": "markdown",
      "source": "# <center> Font Colors </center>",
      "metadata": {
        "slideshow": {
          "slide_type": "subslide"
        },
        "deepnote_app_coordinates": {
          "h": 5,
          "w": 12,
          "x": 0,
          "y": 0
        },
        "cell_id": "f52533198bac4a4b8e631105ecb72784",
        "deepnote_cell_type": "markdown"
      },
      "block_group": "f52533198bac4a4b8e631105ecb72784"
    },
    {
      "cell_type": "markdown",
      "source": "* Use `<font color='red'> Red text </font>` to write <font color='red'>Red text</font>.\n\n* Any of the [following color names can be used](https://www.w3schools.com/colors/colors_names.asp)",
      "metadata": {
        "slideshow": {
          "slide_type": "fragment"
        },
        "deepnote_app_coordinates": {
          "h": 5,
          "w": 12,
          "x": 0,
          "y": 0
        },
        "cell_id": "743154fa9852468fb59819f5b092a1db",
        "deepnote_cell_type": "markdown"
      },
      "block_group": "743154fa9852468fb59819f5b092a1db"
    },
    {
      "cell_type": "markdown",
      "source": "# <center> Font Size </center>",
      "metadata": {
        "slideshow": {
          "slide_type": "subslide"
        },
        "deepnote_app_coordinates": {
          "h": 5,
          "w": 12,
          "x": 0,
          "y": 0
        },
        "cell_id": "8fbf164766624154b70861dad28b8ba9",
        "deepnote_cell_type": "markdown"
      },
      "block_group": "8fbf164766624154b70861dad28b8ba9"
    },
    {
      "cell_type": "markdown",
      "source": "Use `<font size=\"N\"> text of size N</font>` to get text of size N pixels. E.g.,\n\n* `<font size=\"1\"> Text of size 1</font>` becomes <font size=\"1\"> Text of size 1</font>\n\n* `<font size=\"3\"> Text of size 3</font>` becomes <font size=\"3\"> Text of size 3</font>\n\n\n\n* `<font size=\"5\"> Text of size 5</font>` becomes <font size=\"5\"> Text of size 5</font>\n\n\n* `<font size=\"10\"> Text of size 10</font>` becomes <font size=\"10\"> Text of size 10</font>\n\n\n\n\n* `<font size=\"20\"> Text of size 20</font>` becomes <font size=\"20\"> Text of size 20</font>",
      "metadata": {
        "slideshow": {
          "slide_type": "fragment"
        },
        "deepnote_app_coordinates": {
          "h": 5,
          "w": 12,
          "x": 0,
          "y": 0
        },
        "cell_id": "8f40ea21d3274d66a06d3be4e06a4b51",
        "deepnote_cell_type": "markdown"
      },
      "block_group": "8f40ea21d3274d66a06d3be4e06a4b51"
    },
    {
      "cell_type": "markdown",
      "source": "# <center> Multiple Attributes Simultaneously </center>",
      "metadata": {
        "slideshow": {
          "slide_type": "subslide"
        },
        "deepnote_app_coordinates": {
          "h": 5,
          "w": 12,
          "x": 0,
          "y": 0
        },
        "cell_id": "4631646959d54641889c7b0244e1e3e9",
        "deepnote_cell_type": "markdown"
      },
      "block_group": "4631646959d54641889c7b0244e1e3e9"
    },
    {
      "cell_type": "markdown",
      "source": "Use `<span style='property1:value; property2:value; property3:value; property4:value;...'> Our nice text </span>` to produce text with different attributes.\n\n\n<center><span style='background:aqua; color:red; font-family:times; font-size:300%; '> Our nice modified text </span></center>\n\n\nYou can see some of the properties and values [here](https://www.w3schools.com/html/html_styles.asp). Markdown can be extended using HTML, so you can personalize and change even more things using HTML code.",
      "metadata": {
        "slideshow": {
          "slide_type": "fragment"
        },
        "deepnote_app_coordinates": {
          "h": 5,
          "w": 12,
          "x": 0,
          "y": 0
        },
        "cell_id": "ddb94e6b90af467a8ede065012580e62",
        "deepnote_cell_type": "markdown"
      },
      "block_group": "ddb94e6b90af467a8ede065012580e62"
    },
    {
      "cell_type": "markdown",
      "source": "# <center> Alert Cells </center>",
      "metadata": {
        "slideshow": {
          "slide_type": "subslide"
        },
        "deepnote_app_coordinates": {
          "h": 5,
          "w": 12,
          "x": 0,
          "y": 0
        },
        "cell_id": "69f40d83868f45f3aef3e6149ee7f968",
        "deepnote_cell_type": "markdown"
      },
      "block_group": "69f40d83868f45f3aef3e6149ee7f968"
    },
    {
      "cell_type": "markdown",
      "source": "```html\n<div class=\"alert alert-block alert-info\">\n<b>Tip:</b> Use blue boxes (alert-info) for tips and notes. \nIf it’s a note, you don’t have to include the word “Note”.\n</div>\n```\n\n<div class=\"alert alert-block alert-info\">\n<b>Tip:</b> Use blue boxes (alert-info) for tips and notes. \nIf it’s a note, you don’t have to include the word “Note”.\n</div>",
      "metadata": {
        "slideshow": {
          "slide_type": "fragment"
        },
        "deepnote_app_coordinates": {
          "h": 5,
          "w": 12,
          "x": 0,
          "y": 0
        },
        "cell_id": "83c068ee58fc4d43b2bab0fe8bb61249",
        "deepnote_cell_type": "markdown"
      },
      "block_group": "83c068ee58fc4d43b2bab0fe8bb61249"
    },
    {
      "cell_type": "markdown",
      "source": "```html\n<div class=\"alert alert-block alert-warning\">\n<b>Example:</b> Use yellow boxes for examples that are not \ninside code cells, or use for mathematical formulas if needed.\n</div>\n```\n\n<div class=\"alert alert-block alert-warning\">\n<b>Example:</b> Use yellow boxes for examples that are not \ninside code cells, or use for mathematical formulas if needed.\n</div>",
      "metadata": {
        "slideshow": {
          "slide_type": "subslide"
        },
        "deepnote_app_coordinates": {
          "h": 5,
          "w": 12,
          "x": 0,
          "y": 0
        },
        "cell_id": "fab4148b416d4e9fa78162b78f684f55",
        "deepnote_cell_type": "markdown"
      },
      "block_group": "fab4148b416d4e9fa78162b78f684f55"
    },
    {
      "cell_type": "markdown",
      "source": "```html\n<div class=\"alert alert-block alert-success\">\n<b>Up to you:</b> Use green boxes sparingly, and only for some specific \npurpose that the other boxes can't cover. For example, if you have a lot \nof related content to link to, maybe you decide to use green boxes for \nrelated links from each section of a notebook.\n</div>\n```\n\n<div class=\"alert alert-block alert-success\">\n<b>Up to you:</b> Use green boxes sparingly, and only for some specific \npurpose that the other boxes can't cover. For example, if you have a lot \nof related content to link to, maybe you decide to use green boxes for \nrelated links from each section of a notebook.\n</div>",
      "metadata": {
        "slideshow": {
          "slide_type": "subslide"
        },
        "deepnote_app_coordinates": {
          "h": 5,
          "w": 12,
          "x": 0,
          "y": 0
        },
        "cell_id": "b302298f804947ce8cfa072a90a3a16a",
        "deepnote_cell_type": "markdown"
      },
      "block_group": "b302298f804947ce8cfa072a90a3a16a"
    },
    {
      "cell_type": "markdown",
      "source": "```html\n<div class=\"alert alert-block alert-danger\">\n<b>Just don't:</b> In general, avoid the red boxes. These should only be\nused for actions that might cause data loss or another major issue.\n</div>\n```\n<div class=\"alert alert-block alert-danger\">\n<b>Just don't:</b> In general, avoid the red boxes. These should only be\nused for actions that might cause data loss or another major issue.\n</div>",
      "metadata": {
        "slideshow": {
          "slide_type": "subslide"
        },
        "deepnote_app_coordinates": {
          "h": 5,
          "w": 12,
          "x": 0,
          "y": 0
        },
        "cell_id": "28d72ec51b0a464a8974696ace621c5d",
        "deepnote_cell_type": "markdown"
      },
      "block_group": "28d72ec51b0a464a8974696ace621c5d"
    },
    {
      "cell_type": "markdown",
      "source": "# <center> Creating Tables in Markdown </center>",
      "metadata": {
        "slideshow": {
          "slide_type": "slide"
        },
        "deepnote_app_coordinates": {
          "h": 5,
          "w": 12,
          "x": 0,
          "y": 0
        },
        "cell_id": "985126203d294a67afdc8434e5b89947",
        "deepnote_cell_type": "markdown"
      },
      "block_group": "985126203d294a67afdc8434e5b89947"
    },
    {
      "cell_type": "markdown",
      "source": "We can create tables very easily\n```code\n| Item         | Price     | # In stock |\n|--------------|-----------|------------|\n| Juicy Apples | 1.99      | *7*        |\n| Bananas      | **1.89**  | 5234       |\n```",
      "metadata": {
        "slideshow": {
          "slide_type": "fragment"
        },
        "deepnote_app_coordinates": {
          "h": 5,
          "w": 12,
          "x": 0,
          "y": 0
        },
        "cell_id": "9588d2cdec6046b0abb4d10622a9c03c",
        "deepnote_cell_type": "markdown"
      },
      "block_group": "9588d2cdec6046b0abb4d10622a9c03c"
    },
    {
      "cell_type": "markdown",
      "source": "Becomes\n\n| Item         | Price     | # In stock |\n|--------------|-----------|------------|\n| Juicy Apples | 1.99      | *7*        |\n| Bananas      | **1.89**  | 5234       |",
      "metadata": {
        "slideshow": {
          "slide_type": "fragment"
        },
        "deepnote_app_coordinates": {
          "h": 5,
          "w": 12,
          "x": 0,
          "y": 0
        },
        "cell_id": "6e68f3277a9649e0bb76ab2e6993a8c5",
        "deepnote_cell_type": "markdown"
      },
      "block_group": "6e68f3277a9649e0bb76ab2e6993a8c5"
    },
    {
      "cell_type": "markdown",
      "source": "We can also choose alignment of each column by using `:` in the second line. \n\nLeft aligned: `:---`\nCentered: `:---:`\nRight aligned: `---:`\n\n```code\n| Item         | Price     | # In stock |\n|:--------------|:-----------:|------------:|\n| Juicy Apples | 1.99      | *7*        |\n| Bananas      | **1.89**  | 5234       |\n```",
      "metadata": {
        "slideshow": {
          "slide_type": "subslide"
        },
        "deepnote_app_coordinates": {
          "h": 5,
          "w": 12,
          "x": 0,
          "y": 0
        },
        "cell_id": "89f6895d4d994ce2bb92717d2e66a84c",
        "deepnote_cell_type": "markdown"
      },
      "block_group": "89f6895d4d994ce2bb92717d2e66a84c"
    },
    {
      "cell_type": "markdown",
      "source": "Becomes\n\n| Item         | Price     | # In stock |\n|:--------------|:-----------:|------------:|\n| Juicy Apples | 1.99      | *7*        |\n| Bananas      | **1.89**  | 5234       |",
      "metadata": {
        "slideshow": {
          "slide_type": "fragment"
        },
        "deepnote_app_coordinates": {
          "h": 5,
          "w": 12,
          "x": 0,
          "y": 0
        },
        "cell_id": "158bf332133140c9a7948e6293a04bb7",
        "deepnote_cell_type": "markdown"
      },
      "block_group": "158bf332133140c9a7948e6293a04bb7"
    },
    {
      "cell_type": "markdown",
      "source": "# <center> Math in Markdown </center>",
      "metadata": {
        "slideshow": {
          "slide_type": "slide"
        },
        "deepnote_app_coordinates": {
          "h": 5,
          "w": 12,
          "x": 0,
          "y": 0
        },
        "cell_id": "cd76812c56664eaca76a52a06f925c9a",
        "deepnote_cell_type": "markdown"
      },
      "block_group": "cd76812c56664eaca76a52a06f925c9a"
    },
    {
      "cell_type": "markdown",
      "source": "We can write math in markdown using $\\LaTeX$. There are two types of math objects:\n\n* Inline math: `$a=1$` displays $a=1$\n\n* Displayed math: `$$ a=1 $$` displays $$ a=1 $$\n",
      "metadata": {
        "slideshow": {
          "slide_type": "fragment"
        },
        "deepnote_app_coordinates": {
          "h": 5,
          "w": 12,
          "x": 0,
          "y": 0
        },
        "cell_id": "37b657644b4d4e1caa14ad510b40cdda",
        "deepnote_cell_type": "markdown"
      },
      "block_group": "37b657644b4d4e1caa14ad510b40cdda"
    },
    {
      "cell_type": "markdown",
      "source": "You can write very nice and complex formulas and show your steps using the many options from $\\LaTeX$.\n\n* Greek symbols: `$\\greek_symbol_name$`, e.g., \n\n    * `$\\alpha$` for $\\alpha$,\n    * `$\\beta$` for $\\beta$, \n    * `$\\Gamma$` for $\\Gamma$",
      "metadata": {
        "slideshow": {
          "slide_type": "subslide"
        },
        "deepnote_app_coordinates": {
          "h": 5,
          "w": 12,
          "x": 0,
          "y": 0
        },
        "cell_id": "270d3aabf18e4f399c1209d530cfd6b4",
        "deepnote_cell_type": "markdown"
      },
      "block_group": "270d3aabf18e4f399c1209d530cfd6b4"
    },
    {
      "cell_type": "markdown",
      "source": "* Mathematical symbols: \n\n    * Sum: `\\sum_{k=0}^N x_k` for $$\\sum_{k=0}^N x_k$$\n    \n    * Product: `\\prod_{k=0}^N  x_k` for $$\\prod_{k=0}^N  x_k$$\n    \n    * Fractions: `\\frac{x}{y}` for $$\\frac{x}{y}$$",
      "metadata": {
        "slideshow": {
          "slide_type": "subslide"
        },
        "deepnote_app_coordinates": {
          "h": 5,
          "w": 12,
          "x": 0,
          "y": 0
        },
        "cell_id": "6b0df2f1e8dc48a0aebd74f56c142724",
        "deepnote_cell_type": "markdown"
      },
      "block_group": "6b0df2f1e8dc48a0aebd74f56c142724"
    },
    {
      "cell_type": "markdown",
      "source": "\n\n* Aligned equations: \n\nCan be created as in $\\LaTeX$ using the  `\\begin{aligned}` and `\\end{aligned}` commands.\n\n```\n$$\n\\begin{aligned}\n(a-b)^2 &= (a-b)(a-b) \\\\\n        &= a^2 - ab - ba + b^2 \\\\\n        &= a^2 - 2ab + b^2\n\\end{aligned}\n$$\n```\n\nproduces\n\n$$\n\\begin{aligned}(a-b)^2 &= (a-b)(a-b) \\\\        \n&= a^2 - ab - ba + b^2 \\\\        \n&= a^2 - 2ab + b^2\n\\end{aligned}\n$$",
      "metadata": {
        "slideshow": {
          "slide_type": "subslide"
        },
        "deepnote_app_coordinates": {
          "h": 5,
          "w": 12,
          "x": 0,
          "y": 0
        },
        "cell_id": "301ae27b3ae04d63ba9dcd31b0a08654",
        "deepnote_cell_type": "markdown"
      },
      "block_group": "210b6a97c842473ea29c382f02c545c9"
    },
    {
      "cell_type": "markdown",
      "source": "# Want to learn more <img src=\"https://www.markdownguide.org/assets/images/markdown-guide-og.jpg\" alt=\"markdownguide.com\" style=\"width:400px;\"/>",
      "metadata": {
        "slideshow": {
          "slide_type": "slide"
        },
        "deepnote_app_coordinates": {
          "h": 5,
          "w": 12,
          "x": 0,
          "y": 0
        },
        "cell_id": "dc0038d8e2e240fb8f88b0de71ac670a",
        "deepnote_cell_type": "markdown"
      },
      "block_group": "dc0038d8e2e240fb8f88b0de71ac670a"
    },
    {
      "cell_type": "markdown",
      "source": "Check out [markdownguide.org](https://www.markdownguide.org/).",
      "metadata": {
        "slideshow": {
          "slide_type": "fragment"
        },
        "deepnote_app_coordinates": {
          "h": 5,
          "w": 12,
          "x": 0,
          "y": 0
        },
        "cell_id": "35c43aa485184a6385b739542007cef4",
        "deepnote_cell_type": "markdown"
      },
      "block_group": "35c43aa485184a6385b739542007cef4"
    },
    {
      "cell_type": "markdown",
      "source": "# <center> Free Markdown Editor </center>\n\n# <center> [https://dillinger.io/](https://dillinger.io/) </center>",
      "metadata": {
        "slideshow": {
          "slide_type": "slide"
        },
        "deepnote_app_coordinates": {
          "h": 5,
          "w": 12,
          "x": 0,
          "y": 0
        },
        "cell_id": "e44aa6702bc245f89913103d8823f2c9",
        "deepnote_cell_type": "markdown"
      },
      "block_group": "e44aa6702bc245f89913103d8823f2c9"
    },
    {
      "cell_type": "markdown",
      "source": "# Exercises",
      "metadata": {
        "slideshow": {
          "slide_type": "slide"
        },
        "deepnote_app_coordinates": {
          "h": 5,
          "w": 12,
          "x": 0,
          "y": 0
        },
        "cell_id": "c9fc081a2fa544408f3495bd5ab4355b",
        "deepnote_cell_type": "markdown"
      },
      "block_group": "c9fc081a2fa544408f3495bd5ab4355b"
    },
    {
      "cell_type": "markdown",
      "source": "> Exercise 1: Create a new notebook called CV. Use it to write your CV or resume using text cells and markdown. Feel free to add pictures, photos, or any audiovisual material.",
      "metadata": {
        "color": "yellow",
        "formattedRanges": [
          {
            "type": "marks",
            "marks": {
              "bold": true
            },
            "toCodePoint": 11,
            "fromCodePoint": 0
          }
        ],
        "deepnote_app_coordinates": {
          "h": 2,
          "w": 8,
          "x": 0,
          "y": 0
        },
        "cell_id": "eb78650e093c47f88e04e0f6891da46b",
        "deepnote_cell_type": "text-cell-callout"
      },
      "block_group": "eb78650e093c47f88e04e0f6891da46b"
    },
    {
      "cell_type": "markdown",
      "source": "> Exercise 2: Once you have a complete version of your CV or resume, publish it following the instructions provided here. Make sure to allow anyone with the link to see/use the app. Use that link in the Canvas assignment to show your finished and very polished CV. ",
      "metadata": {
        "color": "yellow",
        "formattedRanges": [
          {
            "type": "marks",
            "marks": {
              "bold": true
            },
            "toCodePoint": 11,
            "fromCodePoint": 0
          },
          {
            "url": "https://deepnote.com/docs/creating-apps",
            "type": "link",
            "ranges": [],
            "toCodePoint": 118,
            "fromCodePoint": 114
          }
        ],
        "deepnote_app_coordinates": {
          "h": 2,
          "w": 8,
          "x": 0,
          "y": 0
        },
        "cell_id": "cac8f10895794a58a28ed30c476f10d0",
        "deepnote_cell_type": "text-cell-callout"
      },
      "block_group": "cac8f10895794a58a28ed30c476f10d0"
    },
    {
      "cell_type": "markdown",
      "source": "Notebook written by [Ömer Özak](http://omerozak.com) for his students in Economics at [Southern Methodist University](http://www.smu.edu). Feel free to use, distribute, or contribute.",
      "metadata": {
        "tags": [],
        "slideshow": {
          "slide_type": "slide"
        },
        "user_expressions": [],
        "deepnote_app_coordinates": {
          "h": 5,
          "w": 12,
          "x": 0,
          "y": 0
        },
        "cell_id": "defdb075929d46649171688845fa1af4",
        "deepnote_cell_type": "markdown"
      },
      "block_group": "defdb075929d46649171688845fa1af4"
    },
    {
      "cell_type": "markdown",
      "source": "[<center><img src=\"https://github.com/measuring-culture/Expanding-Measurement-Culture-Facebook-JRSI/blob/main/pics/SMUlogowWordmarkRB.jpg?raw=true\" width=\"250\"></center>](http://omerozak.com)",
      "metadata": {
        "tags": [],
        "slideshow": {
          "slide_type": "-"
        },
        "user_expressions": [],
        "deepnote_app_coordinates": {
          "h": 5,
          "w": 12,
          "x": 0,
          "y": 0
        },
        "cell_id": "94ae3fa0d3ca4a88aca44114a48c4fcf",
        "deepnote_cell_type": "markdown"
      },
      "block_group": "94ae3fa0d3ca4a88aca44114a48c4fcf"
    },
    {
      "cell_type": "markdown",
      "source": "<a style='text-decoration:none;line-height:16px;display:flex;color:#5B5B62;padding:10px;justify-content:end;' href='https://deepnote.com?utm_source=created-in-deepnote-cell&projectId=17ec01e5-7d81-4f3a-b658-4eeaa6ceeb26' target=\"_blank\">\n<img alt='Created in deepnote.com' style='display:inline;max-height:16px;margin:0px;margin-right:7.5px;' src='data:image/svg+xml;base64,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' > </img>\nCreated in <span style='font-weight:600;margin-left:4px;'>Deepnote</span></a>",
      "metadata": {
        "created_in_deepnote_cell": true,
        "deepnote_cell_type": "markdown"
      }
    }
  ],
  "nbformat": 4,
  "nbformat_minor": 0,
  "metadata": {
    "widgets": {
      "application/vnd.jupyter.widget-state+json": {
        "state": {},
        "version_major": 2,
        "version_minor": 0
      }
    },
    "deepnote": {},
    "kernelspec": {
      "name": "python3",
      "language": "python",
      "display_name": "Python 3 (ipykernel)"
    },
    "celltoolbar": "Slideshow",
    "nbTranslate": {
      "hotkey": "alt-t",
      "sourceLang": "en",
      "targetLang": "fr",
      "displayLangs": [
        "*"
      ],
      "langInMainMenu": true,
      "useGoogleTranslate": true
    },
    "language_info": {
      "name": "python",
      "version": "3.9.15",
      "mimetype": "text/x-python",
      "file_extension": ".py",
      "pygments_lexer": "ipython3",
      "codemirror_mode": {
        "name": "ipython",
        "version": 3
      },
      "nbconvert_exporter": "python"
    },
    "deepnote_app_width": "full-width",
    "deepnote_app_layout": "powerful-article",
    "deepnote_notebook_id": "dfca203269c64622b2b630ca192f1664",
    "deepnote_persisted_session": {
      "createdAt": "2023-03-30T13:16:31.879Z"
    },
    "deepnote_app_table_of_contents_enabled": true,
    "deepnote_app_hide_all_code_blocks_enabled": true,
    "deepnote_execution_queue": []
  }
}